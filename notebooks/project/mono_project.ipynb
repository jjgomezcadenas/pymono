{
 "cells": [
  {
   "cell_type": "markdown",
   "id": "09a1a094-1dbd-4af7-bcf3-7d08dac9e260",
   "metadata": {},
   "source": [
    "# CRYSP project\n",
    "\n",
    "- Costs and details monolithic PET based in cold CsI\n",
    "- All dimensions in mm"
   ]
  },
  {
   "cell_type": "code",
   "execution_count": 1,
   "id": "4cdc54d4-46c6-4197-8bed-e81e52e1d323",
   "metadata": {},
   "outputs": [],
   "source": [
    "from collections import namedtuple\n",
    "from dataclasses import dataclass"
   ]
  },
  {
   "cell_type": "code",
   "execution_count": 2,
   "id": "39995b49-1021-48b1-ab0b-c79f01534840",
   "metadata": {},
   "outputs": [],
   "source": [
    "import numpy as np"
   ]
  },
  {
   "cell_type": "code",
   "execution_count": 3,
   "id": "8b5babb9-6158-415c-8c11-72c0c5d56398",
   "metadata": {},
   "outputs": [],
   "source": [
    "def resolution_pxl(size):\n",
    "    return size/np.sqrt(12)"
   ]
  },
  {
   "cell_type": "code",
   "execution_count": 4,
   "id": "885b3bf9-4e9d-4040-992c-2247f42af885",
   "metadata": {},
   "outputs": [],
   "source": [
    "def number_crystals(dmm, Lmm, crst_xy):\n",
    "    return np.floor(np.pi * dmm/crst_xy), np.floor(Lmm/crst_xy)  "
   ]
  },
  {
   "cell_type": "code",
   "execution_count": null,
   "id": "e2c4c2fc-31b7-4f21-9a79-cee802ea0ba6",
   "metadata": {},
   "outputs": [],
   "source": []
  },
  {
   "cell_type": "markdown",
   "id": "cf21a964",
   "metadata": {},
   "source": [
    "### Cost Electronics"
   ]
  },
  {
   "cell_type": "code",
   "execution_count": 5,
   "id": "4bf8aa48",
   "metadata": {},
   "outputs": [
    {
     "name": "stdout",
     "output_type": "stream",
     "text": [
      "Cost of asic, per channel = 4.80\n",
      "Cost of cables, per channel = 1.77\n",
      "FEB cost, per channel = 2.13\n",
      "Cost of electronics, per channel = 8.71\n"
     ]
    }
   ],
   "source": [
    "asic_cost = 1230/4\n",
    "asic_cost_channel = asic_cost/64 \n",
    "flex_cable = 26 \n",
    "flex_cable_channel = flex_cable/64\n",
    "blue_cable = 350/4\n",
    "blue_cable_channel = blue_cable/64\n",
    "cables_cost_channel = flex_cable_channel + blue_cable_channel \n",
    "FEB_cost_channel = 8740*6/(4*96*64)\n",
    "electronics_cost_channel = FEB_cost_channel + cables_cost_channel + asic_cost_channel\n",
    "print(f\"Cost of asic, per channel = {asic_cost_channel:.2f}\")\n",
    "print(f\"Cost of cables, per channel = {cables_cost_channel:.2f}\")\n",
    "print(f\"FEB cost, per channel = {FEB_cost_channel:.2f}\")\n",
    "print(f\"Cost of electronics, per channel = {electronics_cost_channel:.2f}\")"
   ]
  },
  {
   "cell_type": "markdown",
   "id": "544a3624",
   "metadata": {},
   "source": [
    "### SiPMs"
   ]
  },
  {
   "cell_type": "code",
   "execution_count": 6,
   "id": "6271dd40",
   "metadata": {},
   "outputs": [
    {
     "name": "stdout",
     "output_type": "stream",
     "text": [
      "Hamamatsu: cost SiPMs 6x6  per channel = 13.94\n"
     ]
    }
   ],
   "source": [
    "sipm_6x6_4x4 = 223 #e\n",
    "sipm_6x6_4x4_units = 16\n",
    "sipm_6x6_cost = sipm_6x6_4x4/sipm_6x6_4x4_units\n",
    "print(f\"Hamamatsu: cost SiPMs 6x6  per channel = {sipm_6x6_cost:.2f}\")\n"
   ]
  },
  {
   "cell_type": "code",
   "execution_count": 7,
   "id": "4de266d1",
   "metadata": {},
   "outputs": [
    {
     "name": "stdout",
     "output_type": "stream",
     "text": [
      "Hamamatsu: cost SiPMs 3x3 = 3.48\n"
     ]
    }
   ],
   "source": [
    "sipm_3x3_8x8 = 223 #e\n",
    "sipm_3x3_8x8_units = 64\n",
    "sipm_3x3_cost = sipm_3x3_8x8/sipm_3x3_8x8_units\n",
    "print(f\"Hamamatsu: cost SiPMs 3x3 = {sipm_3x3_cost:.2f}\")"
   ]
  },
  {
   "cell_type": "markdown",
   "id": "e091d7b7",
   "metadata": {},
   "source": [
    "### Crystals"
   ]
  },
  {
   "cell_type": "code",
   "execution_count": 14,
   "id": "4eadd497-a5d9-478a-b835-88ff9d4b93d6",
   "metadata": {},
   "outputs": [
    {
     "data": {
      "text/plain": [
       "13.020833333333332"
      ]
     },
     "execution_count": 14,
     "metadata": {},
     "output_type": "execute_result"
    }
   ],
   "source": [
    "660 /(4.8 * 4.8 * 2.2)"
   ]
  },
  {
   "cell_type": "code",
   "execution_count": 11,
   "id": "33f3dde0",
   "metadata": {},
   "outputs": [],
   "source": [
    "crst_xy = 48 \n",
    "crst_z = 37\n",
    "crst_csi_cost = 500 # in $~€\n",
    "crst_bgo_cost = 1055      \n",
    "crst_bgo_cost_large = 660\n",
    "crst_xst = 1000*4/(6*6*20)\n",
    "lyso_cost_volume = 45 # $/cm3\n",
    "crst_lyso_cost = lyso_cost_volume \n",
    "sipm3x3_crst = 16 * 16\n",
    "sipm6x6_crst = 8 * 8"
   ]
  },
  {
   "cell_type": "code",
   "execution_count": 12,
   "id": "114d5872-f17f-498b-a246-3b693516b76b",
   "metadata": {},
   "outputs": [],
   "source": [
    "dpet = 700 # mm\n",
    "lpet = 1000 #mm"
   ]
  },
  {
   "cell_type": "code",
   "execution_count": 13,
   "id": "ef7c5cbc-2b3e-4f2e-9101-5d38a517a5d7",
   "metadata": {},
   "outputs": [
    {
     "name": "stdout",
     "output_type": "stream",
     "text": [
      "CsI: Cost crystal (50 x50 x 37 mm3), per cm3 =5.87\n",
      "CsI: Cost crystal LYSO cm3   =45.00\n",
      "CsI: Cost crystal (50 x50 x 22 mm3) LYSO =2475.00\n"
     ]
    }
   ],
   "source": [
    "cost_cm3 = 1000*crst_cost/(crst_xy**2*crst_z)\n",
    "print(f\"CsI: Cost crystal (50 x50 x 37 mm3), per cm3 ={cost_cm3:.2f}\")\n",
    "print(f\"CsI: Cost crystal LYSO cm3   ={lyso_cost:.2f}\")\n",
    "print(f\"CsI: Cost crystal (50 x50 x 22 mm3) LYSO ={crst_lyso_cost:.2f}\")"
   ]
  },
  {
   "cell_type": "code",
   "execution_count": 10,
   "id": "fe2dc8e9-514b-4007-9805-4f11970fd9f9",
   "metadata": {},
   "outputs": [
    {
     "name": "stdout",
     "output_type": "stream",
     "text": [
      " PET diameter = 700.00, length = 1000.00\n",
      "number of crystals in PET (per wheel, wheels) = (43.0, 20.0) total = 860.0\n",
      "number of SiPm (6x6) for PET = 55040.0\n",
      "cost crystals (M$) = 0.43\n",
      "cost crystals LYSO (M$) = 2.13\n",
      "cost sipms (M$) = 0.77\n",
      "cost sipms2 (M$) = 0.77\n",
      "cost sipms 3x3 (M$) = 0.77\n",
      "cost asic (M$) = 0.48\n",
      "cost asics 3x3 (M$) = 1.92\n",
      "Total cost CsI (M$) = 1.68\n",
      "Total cost LYSO (M$) = 3.38\n"
     ]
    }
   ],
   "source": [
    "ncs = number_crystals(dpet, lpet, crst_xy)\n",
    "ncx = np.prod(ncs)\n",
    "nsipm = np.prod(ncs) * sipm6x6_crst\n",
    "nsipm3x3 = np.prod(ncs) * sipm3x3_crst\n",
    "cost_crystals = ncx * crst_cost\n",
    "cost_crystals_lyso = ncx * crst_lyso_cost\n",
    "cost_sipms = nsipm * sipm_6x6_cost\n",
    "cost_sipms2 = ncx * 4 * sipm_6x6_4x4\n",
    "cost_sipms3x3 = nsipm3x3 * sipm_3x3_cost\n",
    "cost_asic = nsipm * electronics_cost_channel\n",
    "cost_asic3x3 = nsipm3x3 * electronics_cost_channel\n",
    "print(f\" PET diameter = {dpet:.2f}, length = {lpet:.2f}\")\n",
    "print(f\"number of crystals in PET (per wheel, wheels) = {ncs}\",\n",
    "     f\"total = {np.prod(ncs)}\")\n",
    "print(f\"number of SiPm (6x6) for PET = {nsipm}\")\n",
    "print(f\"cost crystals (M$) = {cost_crystals/1e+6:.2f}\")\n",
    "print(f\"cost crystals LYSO (M$) = {cost_crystals_lyso/1e+6:.2f}\")\n",
    "print(f\"cost sipms (M$) = {cost_sipms/1e+6:.2f}\")\n",
    "print(f\"cost sipms2 (M$) = {cost_sipms2/1e+6:.2f}\")\n",
    "print(f\"cost sipms 3x3 (M$) = {cost_sipms3x3/1e+6:.2f}\")\n",
    "print(f\"cost asic (M$) = {cost_asic/1e+6:.2f}\")\n",
    "print(f\"cost asics 3x3 (M$) = {cost_asic3x3/1e+6:.2f}\")\n",
    "print(f\"Total cost CsI (M$) = {(cost_asic + cost_crystals + cost_sipms)/1e+6:.2f}\")\n",
    "print(f\"Total cost LYSO (M$) = {(cost_asic + cost_crystals_lyso + cost_sipms)/1e+6:.2f}\")"
   ]
  },
  {
   "cell_type": "code",
   "execution_count": 12,
   "id": "58ee9c89",
   "metadata": {},
   "outputs": [
    {
     "data": {
      "text/plain": [
       "1651200"
      ]
     },
     "execution_count": 12,
     "metadata": {},
     "output_type": "execute_result"
    }
   ],
   "source": [
    "55040 * 30"
   ]
  },
  {
   "cell_type": "code",
   "execution_count": 13,
   "id": "7005eba0",
   "metadata": {},
   "outputs": [
    {
     "name": "stdout",
     "output_type": "stream",
     "text": [
      "cost total (M$) = 1.68\n",
      "cost lyso (M$) = 3.38\n",
      "Ratio = 2.01\n"
     ]
    }
   ],
   "source": [
    "cost_total = cost_crystals + cost_sipms + cost_asic\n",
    "cost_lyso = cost_crystals_lyso + cost_sipms + cost_asic\n",
    "print(f\"cost total (M$) = {cost_total/1e+6:.2f}\")\n",
    "print(f\"cost lyso (M$) = {cost_lyso/1e+6:.2f}\")\n",
    "print(f\"Ratio = {(cost_lyso/cost_total):.2f}\")"
   ]
  },
  {
   "cell_type": "markdown",
   "id": "e2bf0316-c966-4cba-b5b8-5737a8d1c727",
   "metadata": {},
   "source": [
    "## Cryspin"
   ]
  },
  {
   "cell_type": "code",
   "execution_count": 14,
   "id": "593403f3-63d8-4b22-99c3-0c4d978e843a",
   "metadata": {},
   "outputs": [
    {
     "name": "stdout",
     "output_type": "stream",
     "text": [
      "Number of arrays SiPMs = 72.00\n",
      "cost crystals = 9540.00, cost sipms = 26424.00 c_asics = 10036.12\n"
     ]
    }
   ],
   "source": [
    "n_crs = 18\n",
    "cost_crs = 18 * 530\n",
    "n_arrays_4x4 = 18 * 4 \n",
    "c_sipms = n_arrays_4x4 * 367\n",
    "n_asics = n_crs\n",
    "c_asics = n_asics * 64 * electronics_cost_channel\n",
    "print(f\"Number of arrays SiPMs = {n_arrays_4x4:.2f}\")\n",
    "print(f\"cost crystals = {cost_crs:.2f}, cost sipms = {c_sipms:.2f}\", \n",
    "      f\"c_asics = {c_asics:.2f}\")"
   ]
  },
  {
   "cell_type": "code",
   "execution_count": 15,
   "id": "78b05498-6609-4daa-b822-ba0b098b8289",
   "metadata": {},
   "outputs": [],
   "source": [
    "def attenuation(mu, x):\n",
    "    return np.exp(-mu*x)\n"
   ]
  },
  {
   "cell_type": "code",
   "execution_count": 16,
   "id": "9df56790",
   "metadata": {},
   "outputs": [
    {
     "data": {
      "text/plain": [
       "0.012714655175249731"
      ]
     },
     "execution_count": 16,
     "metadata": {},
     "output_type": "execute_result"
    }
   ],
   "source": [
    "attenuation(9.7e-2, 45.0) # incm"
   ]
  },
  {
   "cell_type": "markdown",
   "id": "708eb9a5-9193-4864-9274-31d9051b0ca9",
   "metadata": {},
   "source": [
    "# QUADRA"
   ]
  },
  {
   "cell_type": "code",
   "execution_count": 70,
   "id": "24846673-20ef-41b3-b053-f08295a098bb",
   "metadata": {},
   "outputs": [],
   "source": [
    "@dataclass\n",
    "class Crystal:\n",
    "    material: str\n",
    "    xy: float\n",
    "    doi: float\n",
    "\n",
    "@dataclass\n",
    "class MiniBlock:\n",
    "    crst: Crystal\n",
    "    nct: int\n",
    "    \n",
    "    def __post_init__(self):\n",
    "        self.xy = self.crst.xy * self.nct \n",
    "\n",
    "@dataclass\n",
    "class SipmMB:\n",
    "    xy: float\n",
    "    nsipm: int\n",
    "    \n",
    "@dataclass\n",
    "class Block:\n",
    "    mbl: MiniBlock\n",
    "    nph: int\n",
    "    nz: int\n",
    "    \n",
    "    def __post_init__(self):\n",
    "        self.phi = self.mbl.xy * self.nph\n",
    "        self.z = self.mbl.xy * self.nz\n",
    "\n",
    "@dataclass\n",
    "class Ring:\n",
    "    bl: Block\n",
    "    nbl: int\n",
    "    \n",
    "    def __post_init__(self):\n",
    "        self.phi = self.bl.phi * self.nbl\n",
    "        self.z = self.bl.z\n",
    "\n",
    "@dataclass\n",
    "class Scanner:\n",
    "    rng: Ring\n",
    "    nrn: int\n",
    "    \n",
    "    def __post_init__(self):\n",
    "        self.phi = self.rng.phi \n",
    "        self.z = self.rng.z * self.nrn\n",
    "\n",
    "@dataclass\n",
    "class ScannerDef:\n",
    "    name: str             # scanner name\n",
    "    material: str         # material of crystal\n",
    "    crytalxy : float      # xy dimensions of crystal (mm)\n",
    "    doi : float           # doi (mm)\n",
    "    ncrst_mb : int        # number of crystals per miniblock\n",
    "    nmb_b_phi : int       # number of miniblocks per block along phi\n",
    "    nmb_b_z : int         # number of miniblocks per block along z\n",
    "    nb_rng : int          # number of blocks per ring\n",
    "    nrng : int            # number of rings\n",
    "    diameter: float       # scanner diameter (mm)\n",
    "    afov: float           # scanner afov (mm)"
   ]
  },
  {
   "cell_type": "code",
   "execution_count": 116,
   "id": "249f54d7-c21e-4c72-8d00-786154faf769",
   "metadata": {},
   "outputs": [],
   "source": [
    "clyso_cm3 = 45.0 # in euros\n",
    "c_sipm_mm2 = 250/(64.0*9.0)\n",
    "c_petsys = 7 # per channel"
   ]
  },
  {
   "cell_type": "code",
   "execution_count": 103,
   "id": "277ca6e2-fcd8-436d-bb75-b23a16b828d7",
   "metadata": {},
   "outputs": [],
   "source": [
    "qsd = ScannerDef(name=\"Quadra\", material=\"LSO\", crytalxy=3.2, doi=20,\n",
    "                 ncrst_mb =5, nmb_b_phi=4, nmb_b_z=2,nb_rng=38, nrng=32, \n",
    "                 diameter=820, afov=1060)\n",
    "\n",
    "qcrst = Crystal(material=qsd.material, xy=qsd.crytalxy, doi=qsd.doi)\n",
    "qmbl = MiniBlock(crst=qcrst, nct=qsd.ncrst_mb)\n",
    "qbl = Block(mbl=qmbl, nph=qsd.nmb_b_phi, nz=qsd.nmb_b_z)\n",
    "qr = Ring(bl=qbl, nbl=qsd.nb_rng)\n",
    "qs = Scanner(rng=qr, nrn=qsd.nrng)\n",
    "qsipm = SipmMB(xy=4, nsipm=16)\n",
    "nsipm = qsipm.nsipm * qsd.nmb_b_phi * qsd.nmb_b_z * qsd.nb_rng * qsd.nrng\n",
    "asipm = nsipm * qsipm.xy**2\n",
    "ncrst = qsd.ncrst_mb**2 * qsd.nmb_b_phi * qsd.nmb_b_z * qsd.nb_rng * qsd.nrng\n",
    "vcrst = ncrst * qcrst.xy**2 * qcrst.doi\n",
    "vcrstcm3 = vcrst*1e-3"
   ]
  },
  {
   "cell_type": "code",
   "execution_count": 106,
   "id": "f8e7a952-5d37-427a-8917-1d662a738850",
   "metadata": {},
   "outputs": [
    {
     "name": "stdout",
     "output_type": "stream",
     "text": [
      "Quadra Scanner Definition:\n",
      "ScannerDef(name='Quadra', material='LSO', crytalxy=3.2, doi=20, ncrst_mb=5, nmb_b_phi=4, nmb_b_z=2, nb_rng=38, nrng=32, diameter=820, afov=1060)\n",
      "Crystal: material = LSO, xy (mm) = 3.2 doi (mm) = 3.2\n",
      "Miniblock: # crystals/block  = 5 x 5 , xy (mm) = 16.0\n",
      "Block: # mblocks/phi  = 4 # mblocks/z  = 2, phi (mm) = 64.0, z (mm) = 32.0\n",
      "Ring: # blocks/ring  = 38 phi (mm) = 2432.0, z (mm) = 32.0\n",
      "Scanner: # rings  = 32 phi (mm) = 2432.0, z (mm) = 1024.0\n",
      "active length = 1024.0 mm, effective diameter (bottom crysta) = 774.1296431989789\n",
      "nsipm = 155648, area sipm = 2.5e+06 mm2\n",
      "ncst = 243200, volume crst = 4.98e+04 cm3\n"
     ]
    }
   ],
   "source": [
    "print(f\"Quadra Scanner Definition:\")\n",
    "print(qsd)\n",
    "print(f\"Crystal: material = {qcrst.material}, xy (mm) = {qcrst.xy} doi (mm) = {qcrst.xy}\")\n",
    "print(f\"Miniblock: # crystals/block  = {qmbl.nct} x {qmbl.nct} , xy (mm) = {qmbl.xy}\")\n",
    "print(f\"Block: # mblocks/phi  = {qbl.nph} # mblocks/z  = {qbl.nz}, phi (mm) = {qbl.phi}, z (mm) = {qbl.z}\")\n",
    "print(f\"Ring: # blocks/ring  = {qr.nbl} phi (mm) = {qr.phi}, z (mm) = {qr.z}\")\n",
    "print(f\"Scanner: # rings  = {qs.nrn} phi (mm) = {qs.phi}, z (mm) = {qs.z}\")\n",
    "print(f\"active length = {qs.z} mm, effective diameter (bottom crysta) = {qs.phi/np.pi}\")\n",
    "print(f\"nsipm = {nsipm}, area sipm = {asipm:.2g} mm2\")\n",
    "print(f\"ncst = {ncrst}, volume crst = {vcrstcm3:.3g} cm3\")"
   ]
  },
  {
   "cell_type": "code",
   "execution_count": 139,
   "id": "a2b64fd6-5778-4063-8e65-6e0d3e27bb24",
   "metadata": {},
   "outputs": [],
   "source": [
    "cost_qcrst = clyso_cm3 * vcrstcm3\n",
    "cost_qsipm = c_sipm_mm2 * asipm\n",
    "cost_elec = nsipm * c_petsys\n",
    "tcost_quadra = cost_qcrst + cost_qsipm + cost_elec"
   ]
  },
  {
   "cell_type": "code",
   "execution_count": 141,
   "id": "dc1d1ccb-60cd-490a-bbf7-2d8c0f440bd7",
   "metadata": {},
   "outputs": [
    {
     "name": "stdout",
     "output_type": "stream",
     "text": [
      "Cost of quadra crystals: 2.24e+06 €\n",
      "Cost of SiPms: 1.08e+06 €\n",
      "Cost of electronics: 1.09e+06 €\n",
      "Total cost, Quara: 4.41e+06 €\n"
     ]
    }
   ],
   "source": [
    "print(f\"Cost of quadra crystals: {cost_qcrst:.3g} €\")\n",
    "print(f\"Cost of SiPms: {cost_qsipm:.3g} €\")\n",
    "print(f\"Cost of electronics: {cost_elec:.3g} €\")\n",
    "print(f\"Total cost, Quara: {tcost_quadra:.3g} €\")"
   ]
  },
  {
   "cell_type": "markdown",
   "id": "4f081440-c648-401b-ba96-227bec5bf11f",
   "metadata": {},
   "source": [
    "# CRYSP"
   ]
  },
  {
   "cell_type": "code",
   "execution_count": 129,
   "id": "edb8cfa3-8ca6-47ac-82f6-ad2bf7528d65",
   "metadata": {},
   "outputs": [],
   "source": [
    "xy_mono  = 48 # mm\n",
    "doi_mono = 37 # mm\n",
    "dcrysp = 774 #mm\n",
    "lcrysp = 1024 # mm\n",
    "nmono_ring = np.pi * dcrysp / xy_mono\n",
    "nring_crysp = lcrysp / xy_mono\n",
    "ccsi_cm3 = 1e+3*500/(xy_mono**2*doi_mono) # in euros"
   ]
  },
  {
   "cell_type": "code",
   "execution_count": 130,
   "id": "69aaa3c7-891d-4713-b90e-0c1815ec29a9",
   "metadata": {},
   "outputs": [
    {
     "name": "stdout",
     "output_type": "stream",
     "text": [
      "cost of CsI = 5.86524024024024 cm3\n"
     ]
    }
   ],
   "source": [
    "print(f\"cost of CsI = {ccsi_cm3} cm3\")"
   ]
  },
  {
   "cell_type": "code",
   "execution_count": 132,
   "id": "c82903df-5db5-4861-8436-3cd3787f02c2",
   "metadata": {},
   "outputs": [],
   "source": [
    "crsp = ScannerDef(name=\"Crysp\", material=\"CsI\", crytalxy=xy_mono, doi=doi_mono,\n",
    "                 ncrst_mb =1, nmb_b_phi=1, nmb_b_z=1,nb_rng=int(nmono_ring), nrng=int(nring_crysp), \n",
    "                 diameter=820, afov=1060)\n"
   ]
  },
  {
   "cell_type": "code",
   "execution_count": 131,
   "id": "9ebdb5b6-5c4f-4b5c-81e6-7b8492a82f4d",
   "metadata": {},
   "outputs": [],
   "source": [
    "ncrst_crysp = crsp.nb_rng * crsp.nrng\n",
    "csipm = SipmMB(xy=6, nsipm=64)\n",
    "nsipm_crysp = csipm.nsipm * ncrst_crysp\n",
    "asipm_crysp = nsipm_crysp * csipm.xy**2\n",
    "vcrst_crysp = ncrst_crysp * xy_mono**2 * doi_mono\n",
    "vcrst_crysp_cm3 = vcrst_crysp*1e-3"
   ]
  },
  {
   "cell_type": "code",
   "execution_count": 133,
   "id": "2460a1fd-d187-4198-b1e4-e8136e0b5d59",
   "metadata": {},
   "outputs": [
    {
     "name": "stdout",
     "output_type": "stream",
     "text": [
      "CRYSP Scanner Definition:\n",
      "ScannerDef(name='Crysp', material='CsI', crytalxy=48, doi=37, ncrst_mb=1, nmb_b_phi=1, nmb_b_z=1, nb_rng=50, nrng=21, diameter=820, afov=1060)\n",
      "number of monolithic crystals = 1050\n",
      "number of SiPM (6x6 mm2) = 67200\n"
     ]
    }
   ],
   "source": [
    "print(f\"CRYSP Scanner Definition:\")\n",
    "print(crsp)\n",
    "print(f\"number of monolithic crystals = {ncrst_crysp}\")\n",
    "print(f\"number of SiPM (6x6 mm2) = {nsipm_crysp}\")"
   ]
  },
  {
   "cell_type": "code",
   "execution_count": 137,
   "id": "52ea7d25-68a2-462a-bc91-d2011310ce46",
   "metadata": {},
   "outputs": [],
   "source": [
    "cost_ccrst = ccsi_cm3 * vcrst_crysp_cm3\n",
    "cost_csipm = c_sipm_mm2 * asipm_crysp\n",
    "cost_celec = nsipm_crysp * c_petsys\n",
    "tcost_crysp = cost_ccrst + cost_csipm + cost_celec"
   ]
  },
  {
   "cell_type": "code",
   "execution_count": 142,
   "id": "697334e3-8d70-42ac-ab5d-5a33eac3aa26",
   "metadata": {},
   "outputs": [
    {
     "name": "stdout",
     "output_type": "stream",
     "text": [
      "Cost of CsI crystals: 5.25e+05 €\n",
      "Cost of SiPms: 1.05e+06 €\n",
      "Cost of electronics: 4.7e+05 €\n",
      "Total cost: CRYSP 2.05e+06 €\n"
     ]
    }
   ],
   "source": [
    "print(f\"Cost of CsI crystals: {cost_ccrst:.3g} €\")\n",
    "print(f\"Cost of SiPms: {cost_csipm:.3g} €\")\n",
    "print(f\"Cost of electronics: {cost_celec:.3g} €\")\n",
    "print(f\"Total cost: CRYSP {tcost_crysp:.3g} €\")"
   ]
  },
  {
   "cell_type": "code",
   "execution_count": 150,
   "id": "4ea02e3b-c03e-474f-8af3-3e41b2148e7e",
   "metadata": {},
   "outputs": [
    {
     "name": "stdout",
     "output_type": "stream",
     "text": [
      "Cost of CsI crystals: 5.25e+05 €\n",
      "Cost of SiPms/WC: 1.31e+05 €\n",
      "Cost of electronics: 4.7e+05 €\n",
      "Total cost: CRYSP 1.52e+06 €\n"
     ]
    }
   ],
   "source": [
    "cost_csipm_wc = cost_csipm/2\n",
    "tcost_crysp = cost_ccrst + cost_csipm_wc + cost_celec\n",
    "print(f\"Cost of CsI crystals: {cost_ccrst:.3g} €\")\n",
    "print(f\"Cost of SiPms/WC: {cost_csipm_wc/4:.3g} €\")\n",
    "print(f\"Cost of electronics: {cost_celec:.3g} €\")\n",
    "print(f\"Total cost: CRYSP {tcost_crysp:.3g} €\")"
   ]
  },
  {
   "cell_type": "code",
   "execution_count": 152,
   "id": "0f3ee9b0-a4ad-4a68-a4d0-a8920637f43a",
   "metadata": {},
   "outputs": [
    {
     "name": "stdout",
     "output_type": "stream",
     "text": [
      "For D = 6 mm, d = 4 mm, theta = 41.8 deg\n",
      " f = 0.5, l = 11.2 mm\n"
     ]
    }
   ],
   "source": [
    "D=6\n",
    "d = 4\n",
    "theta = np.arcsin(d/D)\n",
    "ft = theta/(np.pi/2)\n",
    "l = (D+d)/(np.tan(theta))\n",
    "\n",
    "print(f\"For D = {D} mm, d = {d} mm, theta = {theta*180/np.pi:.1f} deg\")\n",
    "print(f\" f = {ft:.1f}, l = {l:.1f} mm\")"
   ]
  },
  {
   "cell_type": "code",
   "execution_count": null,
   "id": "73692867-907d-4bf0-9d99-c29d9fb6872a",
   "metadata": {},
   "outputs": [],
   "source": []
  }
 ],
 "metadata": {
  "kernelspec": {
   "display_name": "Python 3 (ipykernel)",
   "language": "python",
   "name": "python3"
  },
  "language_info": {
   "codemirror_mode": {
    "name": "ipython",
    "version": 3
   },
   "file_extension": ".py",
   "mimetype": "text/x-python",
   "name": "python",
   "nbconvert_exporter": "python",
   "pygments_lexer": "ipython3",
   "version": "3.11.6"
  }
 },
 "nbformat": 4,
 "nbformat_minor": 5
}
