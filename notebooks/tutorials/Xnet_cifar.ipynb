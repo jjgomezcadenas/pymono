{
 "cells": [
  {
   "cell_type": "code",
   "execution_count": 1,
   "id": "ed14c0a2-605f-4364-93d8-8850e0205c3f",
   "metadata": {},
   "outputs": [],
   "source": [
    "%matplotlib inline\n",
    "%load_ext autoreload\n",
    "%autoreload 2\n",
    "import matplotlib.pyplot as plt\n",
    "from matplotlib.pyplot import imshow\n",
    "plt.rcParams[\"figure.figsize\"] = 10, 8\n",
    "plt.rcParams[\"font.size\"     ] = 14\n",
    "\n"
   ]
  },
  {
   "cell_type": "code",
   "execution_count": 2,
   "id": "008280f9-f405-45d2-bd91-4daf4f389f88",
   "metadata": {},
   "outputs": [],
   "source": [
    "import numpy as np\n",
    "import pandas as pd\n",
    "from collections import namedtuple\n",
    "import os\n",
    "import glob\n",
    "from pathlib import Path"
   ]
  },
  {
   "cell_type": "code",
   "execution_count": 3,
   "id": "01e949ce-f2df-4f1a-b3f5-5bca62823b10",
   "metadata": {},
   "outputs": [],
   "source": [
    "import torch\n",
    "import torch.nn as nn\n",
    "import torch.optim as optim\n",
    "import torch.nn.functional as F\n",
    "from torch.utils.data import Dataset\n",
    "from torch.utils.data import DataLoader\n",
    "from torchvision import transforms\n",
    "from torchvision import datasets\n",
    "from torch.utils.data.sampler import SubsetRandomSampler\n",
    "from torchsummary import summary\n",
    "from torchvision.transforms import v2\n"
   ]
  },
  {
   "cell_type": "code",
   "execution_count": 4,
   "id": "bb8f0c8d-486a-4b04-9abb-88aa9849c109",
   "metadata": {},
   "outputs": [],
   "source": [
    "from pymono.cifar import cifar_data_loader"
   ]
  },
  {
   "cell_type": "code",
   "execution_count": 5,
   "id": "01703db4-edd0-4227-8d2f-ff7c4cb5e8cb",
   "metadata": {},
   "outputs": [],
   "source": [
    "from pymono.cnns import cnn_evaluation, x_single_run, x_train_cnn\n",
    "from pymono.cnns import Conv2dPars,  MaxPool2dPars,  LinealLayerPars\n",
    "from pymono.cnns import build_conv_layer, build_conv_layers, build_linear_layers\n",
    "from pymono.cnns import CNN, ResNet10, ResBlock"
   ]
  },
  {
   "cell_type": "code",
   "execution_count": 6,
   "id": "0a76696e-b49c-43b7-afd4-ae78e46e882f",
   "metadata": {},
   "outputs": [],
   "source": [
    "from pymono.plt_funcs import  plot_loss, plot_accuracy, cifar_plot_image_and_label"
   ]
  },
  {
   "cell_type": "code",
   "execution_count": 7,
   "id": "4ee5b37f-fb1b-4bfe-9b99-2935ce338c34",
   "metadata": {},
   "outputs": [
    {
     "name": "stdout",
     "output_type": "stream",
     "text": [
      "Using cuda device\n"
     ]
    }
   ],
   "source": [
    "device = (\n",
    "    \"cuda\"\n",
    "    if torch.cuda.is_available()\n",
    "    else \"mps\"\n",
    "    if torch.backends.mps.is_available()\n",
    "    else \"cpu\"\n",
    ")\n",
    "print(f\"Using {device} device\")"
   ]
  },
  {
   "cell_type": "markdown",
   "id": "3e19758e-fbd9-42cc-8284-afdef5f27efb",
   "metadata": {},
   "source": [
    "## Local functions"
   ]
  },
  {
   "cell_type": "code",
   "execution_count": 8,
   "id": "107f60d5-d473-4c9e-970b-8e3ff48209c9",
   "metadata": {},
   "outputs": [],
   "source": [
    "def print_features(train_loader):\n",
    "    train_features, train_labels = next(iter(train_loader))\n",
    "    print(f\"Feature batch shape: {train_features.size()}\")\n",
    "    print(f\"Labels batch shape: {train_labels.size()}\")"
   ]
  },
  {
   "cell_type": "markdown",
   "id": "d5cf8146-c245-47b2-8557-9dde60d86fa4",
   "metadata": {},
   "source": [
    "## Demonstrate classification net (Xnet) with CIFAR"
   ]
  },
  {
   "cell_type": "code",
   "execution_count": 9,
   "id": "14c79674-f2e1-4331-9354-749595f85929",
   "metadata": {},
   "outputs": [],
   "source": [
    "cifar_dir = os.path.join(Path(os.environ['DATA'],'cifar'))"
   ]
  },
  {
   "cell_type": "code",
   "execution_count": 10,
   "id": "0b88d7e4-bc45-48f6-b075-de70cbbf768e",
   "metadata": {},
   "outputs": [
    {
     "name": "stdout",
     "output_type": "stream",
     "text": [
      "Files already downloaded and verified\n"
     ]
    }
   ],
   "source": [
    "test_loader_nn = cifar_data_loader(data_dir=cifar_dir, norm=False, test=True,\n",
    "                                   batch_size=64)"
   ]
  },
  {
   "cell_type": "code",
   "execution_count": 12,
   "id": "414b2980-3c7e-4e57-9c7d-640a71c4ce19",
   "metadata": {},
   "outputs": [
    {
     "name": "stdout",
     "output_type": "stream",
     "text": [
      "Feature batch shape: torch.Size([64, 3, 32, 32])\n",
      "Labels batch shape: torch.Size([64])\n",
      "torch.Size([3, 32, 32])\n"
     ]
    },
    {
     "data": {
      "image/png": "[encoded data removed]",
      "text/plain": [
       "<Figure size 200x200 with 1 Axes>"
      ]
     },
     "metadata": {},
     "output_type": "display_data"
    },
    {
     "name": "stdout",
     "output_type": "stream",
     "text": [
      "Label: 9\n"
     ]
    }
   ],
   "source": [
    "cifar_plot_image_and_label(test_loader_nn) # re-evaluate cell if you get a long debugging text"
   ]
  },
  {
   "cell_type": "code",
   "execution_count": 13,
   "id": "976623c0-0ee5-485e-8e96-004b1be9eefc",
   "metadata": {},
   "outputs": [
    {
     "name": "stdout",
     "output_type": "stream",
     "text": [
      "Files already downloaded and verified\n",
      "Files already downloaded and verified\n",
      "Files already downloaded and verified\n"
     ]
    }
   ],
   "source": [
    "train_loader_cf, valid_loader_cf = cifar_data_loader(data_dir=cifar_dir,\n",
    "                                         batch_size=64)\n",
    "\n",
    "test_loader_cf = cifar_data_loader(data_dir=cifar_dir,\n",
    "                              batch_size=64,\n",
    "                              test=True)"
   ]
  },
  {
   "cell_type": "code",
   "execution_count": 14,
   "id": "3377b025-46a4-4b17-b117-d42c7925f830",
   "metadata": {},
   "outputs": [
    {
     "name": "stdout",
     "output_type": "stream",
     "text": [
      "Feature batch shape: torch.Size([64, 3, 32, 32])\n",
      "Labels batch shape: torch.Size([64])\n"
     ]
    }
   ],
   "source": [
    "print_features(train_loader_cf)"
   ]
  },
  {
   "cell_type": "code",
   "execution_count": 15,
   "id": "d4d9c377-20b5-4884-ac0c-c42c6026bbd1",
   "metadata": {},
   "outputs": [
    {
     "name": "stdout",
     "output_type": "stream",
     "text": [
      "Feature batch shape: torch.Size([64, 3, 32, 32])\n",
      "Labels batch shape: torch.Size([64])\n"
     ]
    }
   ],
   "source": [
    "print_features(valid_loader_cf)"
   ]
  },
  {
   "cell_type": "markdown",
   "id": "c1a40726-5d02-44a3-bc14-6b6cfc3e462f",
   "metadata": {},
   "source": [
    "### Define a simple CNN"
   ]
  },
  {
   "cell_type": "markdown",
   "id": "2d63b2d9-72e6-492f-93b0-4ad91753c51f",
   "metadata": {},
   "source": [
    "### 3 linear layers (LL), \n",
    "- Initial dimension corresponds to the convolutional array flattened array\n",
    "- Final dimension corresponds to number of CIFAR features (10)"
   ]
  },
  {
   "cell_type": "code",
   "execution_count": 22,
   "id": "07af25d2-98b7-4d5b-a40f-8f08253954e0",
   "metadata": {},
   "outputs": [],
   "source": [
    "LLYR=[]\n",
    "LLYR.append(LinealLayerPars(512, 256))\n",
    "LLYR.append(LinealLayerPars(256, 128))\n",
    "LLYR.append(LinealLayerPars(128, 10))\n",
    "llyrs = build_linear_layers(LLYR, df=0.25)"
   ]
  },
  {
   "cell_type": "code",
   "execution_count": 23,
   "id": "f374549c-efd3-48f0-873d-138b8fac6c7d",
   "metadata": {},
   "outputs": [
    {
     "name": "stdout",
     "output_type": "stream",
     "text": [
      "Sequential(\n",
      "  (0): Flatten(start_dim=1, end_dim=-1)\n",
      "  (1): Dropout(p=0.25, inplace=False)\n",
      "  (2): Linear(in_features=512, out_features=256, bias=True)\n",
      "  (3): ReLU()\n",
      "  (4): Linear(in_features=256, out_features=128, bias=True)\n",
      "  (5): ReLU()\n",
      "  (6): Linear(in_features=128, out_features=10, bias=True)\n",
      ")\n"
     ]
    }
   ],
   "source": [
    "print(llyrs)"
   ]
  },
  {
   "cell_type": "markdown",
   "id": "4d1cf1df-a815-4e2e-872b-49f287b22a45",
   "metadata": {},
   "source": [
    "### Convolutional Layers\n",
    "- 5 layers increasing features from 3 to 128 while reducing dimension of input image (32 x 32)"
   ]
  },
  {
   "cell_type": "code",
   "execution_count": 24,
   "id": "fe8b2b2f-8b68-46be-b605-a2dd20154b0c",
   "metadata": {},
   "outputs": [],
   "source": [
    "CL = []\n",
    "c1 = Conv2dPars(in_channels=3, out_channels=32, kernel_size=3, padding=1)\n",
    "c2 = Conv2dPars(in_channels=32, out_channels=64, kernel_size=3, padding=1)\n",
    "c3 = Conv2dPars(in_channels=64, out_channels=128, kernel_size=3, padding=1)\n",
    "c4 = Conv2dPars(in_channels=128, out_channels=256, kernel_size=3, padding=1)\n",
    "c5 = Conv2dPars(in_channels=256, out_channels=512, kernel_size=3, padding=1)\n",
    "p2d = MaxPool2dPars(kernel_size=2, stride=2)\n",
    "CL.append(build_conv_layer(c1, p2d, relu='standard'))\n",
    "CL.append(build_conv_layer(c2, p2d, relu='standard'))\n",
    "CL.append(build_conv_layer(c3, p2d, relu='standard'))\n",
    "CL.append(build_conv_layer(c4, p2d, relu='standard'))\n",
    "CL.append(build_conv_layer(c5, p2d, relu='standard'))\n",
    "clyrs = build_conv_layers(CL)"
   ]
  },
  {
   "cell_type": "code",
   "execution_count": 25,
   "id": "64a7374e-2744-47c4-9956-2e69374e44af",
   "metadata": {},
   "outputs": [
    {
     "name": "stdout",
     "output_type": "stream",
     "text": [
      "Sequential(\n",
      "  (0): Sequential(\n",
      "    (0): Conv2d(3, 32, kernel_size=(3, 3), stride=(1, 1), padding=(1, 1))\n",
      "    (1): BatchNorm2d(32, eps=1e-05, momentum=0.1, affine=True, track_running_stats=True)\n",
      "    (2): ReLU()\n",
      "    (3): MaxPool2d(kernel_size=2, stride=2, padding=0, dilation=1, ceil_mode=False)\n",
      "  )\n",
      "  (1): Sequential(\n",
      "    (0): Conv2d(32, 64, kernel_size=(3, 3), stride=(1, 1), padding=(1, 1))\n",
      "    (1): BatchNorm2d(64, eps=1e-05, momentum=0.1, affine=True, track_running_stats=True)\n",
      "    (2): ReLU()\n",
      "    (3): MaxPool2d(kernel_size=2, stride=2, padding=0, dilation=1, ceil_mode=False)\n",
      "  )\n",
      "  (2): Sequential(\n",
      "    (0): Conv2d(64, 128, kernel_size=(3, 3), stride=(1, 1), padding=(1, 1))\n",
      "    (1): BatchNorm2d(128, eps=1e-05, momentum=0.1, affine=True, track_running_stats=True)\n",
      "    (2): ReLU()\n",
      "    (3): MaxPool2d(kernel_size=2, stride=2, padding=0, dilation=1, ceil_mode=False)\n",
      "  )\n",
      "  (3): Sequential(\n",
      "    (0): Conv2d(128, 256, kernel_size=(3, 3), stride=(1, 1), padding=(1, 1))\n",
      "    (1): BatchNorm2d(256, eps=1e-05, momentum=0.1, affine=True, track_running_stats=True)\n",
      "    (2): ReLU()\n",
      "    (3): MaxPool2d(kernel_size=2, stride=2, padding=0, dilation=1, ceil_mode=False)\n",
      "  )\n",
      "  (4): Sequential(\n",
      "    (0): Conv2d(256, 512, kernel_size=(3, 3), stride=(1, 1), padding=(1, 1))\n",
      "    (1): BatchNorm2d(512, eps=1e-05, momentum=0.1, affine=True, track_running_stats=True)\n",
      "    (2): ReLU()\n",
      "    (3): MaxPool2d(kernel_size=2, stride=2, padding=0, dilation=1, ceil_mode=False)\n",
      "  )\n",
      ")\n"
     ]
    }
   ],
   "source": [
    "print(clyrs)"
   ]
  },
  {
   "cell_type": "markdown",
   "id": "53fdeb75-10d1-4eee-b174-6bf9344631c6",
   "metadata": {},
   "source": [
    "### cnn evaluation shows the final dimension of the flattened array to be 512"
   ]
  },
  {
   "cell_type": "code",
   "execution_count": 26,
   "id": "4f62698c-bdbd-4b61-86f7-c697b2293ba6",
   "metadata": {},
   "outputs": [
    {
     "name": "stdout",
     "output_type": "stream",
     "text": [
      "shape of input image = torch.Size([1, 3, 32, 32])\n",
      " after cl = 1, shape of out image = torch.Size([1, 32, 16, 16])\n",
      " after cl = 2, shape of out image = torch.Size([1, 64, 8, 8])\n",
      " after cl = 3, shape of out image = torch.Size([1, 128, 4, 4])\n",
      " after cl = 4, shape of out image = torch.Size([1, 256, 2, 2])\n",
      " after cl = 5, shape of out image = torch.Size([1, 512, 1, 1])\n",
      "shape of flattened image = torch.Size([1, 512])\n"
     ]
    }
   ],
   "source": [
    "cnn_evaluation(torch.randn(1,3,32,32), CL)"
   ]
  },
  {
   "cell_type": "code",
   "execution_count": 27,
   "id": "47d78e75-6790-4038-9814-4e188cbb880e",
   "metadata": {},
   "outputs": [],
   "source": [
    "model = CNN(clyrs,llyrs).to(device)"
   ]
  },
  {
   "cell_type": "code",
   "execution_count": 28,
   "id": "e13d736a-c4e3-495d-9d98-2560cffc1ac2",
   "metadata": {},
   "outputs": [
    {
     "name": "stdout",
     "output_type": "stream",
     "text": [
      "CNN(\n",
      "  (conv_layer): Sequential(\n",
      "    (0): Sequential(\n",
      "      (0): Conv2d(3, 32, kernel_size=(3, 3), stride=(1, 1), padding=(1, 1))\n",
      "      (1): BatchNorm2d(32, eps=1e-05, momentum=0.1, affine=True, track_running_stats=True)\n",
      "      (2): ReLU()\n",
      "      (3): MaxPool2d(kernel_size=2, stride=2, padding=0, dilation=1, ceil_mode=False)\n",
      "    )\n",
      "    (1): Sequential(\n",
      "      (0): Conv2d(32, 64, kernel_size=(3, 3), stride=(1, 1), padding=(1, 1))\n",
      "      (1): BatchNorm2d(64, eps=1e-05, momentum=0.1, affine=True, track_running_stats=True)\n",
      "      (2): ReLU()\n",
      "      (3): MaxPool2d(kernel_size=2, stride=2, padding=0, dilation=1, ceil_mode=False)\n",
      "    )\n",
      "    (2): Sequential(\n",
      "      (0): Conv2d(64, 128, kernel_size=(3, 3), stride=(1, 1), padding=(1, 1))\n",
      "      (1): BatchNorm2d(128, eps=1e-05, momentum=0.1, affine=True, track_running_stats=True)\n",
      "      (2): ReLU()\n",
      "      (3): MaxPool2d(kernel_size=2, stride=2, padding=0, dilation=1, ceil_mode=False)\n",
      "    )\n",
      "    (3): Sequential(\n",
      "      (0): Conv2d(128, 256, kernel_size=(3, 3), stride=(1, 1), padding=(1, 1))\n",
      "      (1): BatchNorm2d(256, eps=1e-05, momentum=0.1, affine=True, track_running_stats=True)\n",
      "      (2): ReLU()\n",
      "      (3): MaxPool2d(kernel_size=2, stride=2, padding=0, dilation=1, ceil_mode=False)\n",
      "    )\n",
      "    (4): Sequential(\n",
      "      (0): Conv2d(256, 512, kernel_size=(3, 3), stride=(1, 1), padding=(1, 1))\n",
      "      (1): BatchNorm2d(512, eps=1e-05, momentum=0.1, affine=True, track_running_stats=True)\n",
      "      (2): ReLU()\n",
      "      (3): MaxPool2d(kernel_size=2, stride=2, padding=0, dilation=1, ceil_mode=False)\n",
      "    )\n",
      "  )\n",
      "  (fc_layer): Sequential(\n",
      "    (0): Flatten(start_dim=1, end_dim=-1)\n",
      "    (1): Dropout(p=0.25, inplace=False)\n",
      "    (2): Linear(in_features=512, out_features=256, bias=True)\n",
      "    (3): ReLU()\n",
      "    (4): Linear(in_features=256, out_features=128, bias=True)\n",
      "    (5): ReLU()\n",
      "    (6): Linear(in_features=128, out_features=10, bias=True)\n",
      "  )\n",
      ")\n"
     ]
    }
   ],
   "source": [
    "print(model)"
   ]
  },
  {
   "cell_type": "code",
   "execution_count": 29,
   "id": "d859b979-ea14-4dc3-9a60-7fdd909fe118",
   "metadata": {},
   "outputs": [
    {
     "name": "stdout",
     "output_type": "stream",
     "text": [
      "----------------------------------------------------------------\n",
      "        Layer (type)               Output Shape         Param #\n",
      "================================================================\n",
      "            Conv2d-1           [-1, 32, 32, 32]             896\n",
      "       BatchNorm2d-2           [-1, 32, 32, 32]              64\n",
      "              ReLU-3           [-1, 32, 32, 32]               0\n",
      "         MaxPool2d-4           [-1, 32, 16, 16]               0\n",
      "            Conv2d-5           [-1, 64, 16, 16]          18,496\n",
      "       BatchNorm2d-6           [-1, 64, 16, 16]             128\n",
      "              ReLU-7           [-1, 64, 16, 16]               0\n",
      "         MaxPool2d-8             [-1, 64, 8, 8]               0\n",
      "            Conv2d-9            [-1, 128, 8, 8]          73,856\n",
      "      BatchNorm2d-10            [-1, 128, 8, 8]             256\n",
      "             ReLU-11            [-1, 128, 8, 8]               0\n",
      "        MaxPool2d-12            [-1, 128, 4, 4]               0\n",
      "           Conv2d-13            [-1, 256, 4, 4]         295,168\n",
      "      BatchNorm2d-14            [-1, 256, 4, 4]             512\n",
      "             ReLU-15            [-1, 256, 4, 4]               0\n",
      "        MaxPool2d-16            [-1, 256, 2, 2]               0\n",
      "           Conv2d-17            [-1, 512, 2, 2]       1,180,160\n",
      "      BatchNorm2d-18            [-1, 512, 2, 2]           1,024\n",
      "             ReLU-19            [-1, 512, 2, 2]               0\n",
      "        MaxPool2d-20            [-1, 512, 1, 1]               0\n",
      "          Flatten-21                  [-1, 512]               0\n",
      "          Dropout-22                  [-1, 512]               0\n",
      "           Linear-23                  [-1, 256]         131,328\n",
      "             ReLU-24                  [-1, 256]               0\n",
      "           Linear-25                  [-1, 128]          32,896\n",
      "             ReLU-26                  [-1, 128]               0\n",
      "           Linear-27                   [-1, 10]           1,290\n",
      "================================================================\n",
      "Total params: 1,736,074\n",
      "Trainable params: 1,736,074\n",
      "Non-trainable params: 0\n",
      "----------------------------------------------------------------\n",
      "Input size (MB): 0.01\n",
      "Forward/backward pass size (MB): 1.59\n",
      "Params size (MB): 6.62\n",
      "Estimated Total Size (MB): 8.22\n",
      "----------------------------------------------------------------\n"
     ]
    }
   ],
   "source": [
    "summary(model,(3,32,32))"
   ]
  },
  {
   "cell_type": "code",
   "execution_count": 30,
   "id": "6ce03230-e473-4be3-8da8-8ad1f6d457bd",
   "metadata": {},
   "outputs": [],
   "source": [
    "criterion = nn.CrossEntropyLoss()\n",
    "optimizer = torch.optim.SGD(model.parameters(), lr=0.01, weight_decay = 0.001, momentum = 0.9)  \n"
   ]
  },
  {
   "cell_type": "markdown",
   "id": "9d5165aa-00f5-4856-bead-37357add1e9b",
   "metadata": {},
   "source": [
    "### Run the CNN"
   ]
  },
  {
   "cell_type": "code",
   "execution_count": 31,
   "id": "7ddef3ea-21d8-4475-8c7d-a83f1822727f",
   "metadata": {},
   "outputs": [
    {
     "name": "stdout",
     "output_type": "stream",
     "text": [
      "** Run for 1 event**\n",
      "epoch = 0\n",
      "i = 0\n",
      "labels shape = torch.Size([64])\n",
      "imgs shape = torch.Size([64, 3, 32, 32])\n",
      "labels = tensor([8, 3, 2, 7, 1, 2, 2, 5, 7, 9, 4, 6, 3, 4, 6, 3, 1, 9, 7, 7, 3, 9, 5, 8,\n",
      "        4, 1, 9, 1, 2, 8, 3, 8, 1, 1, 2, 6, 0, 4, 6, 3, 7, 8, 9, 4, 1, 8, 6, 5,\n",
      "        8, 3, 3, 7, 1, 9, 1, 2, 6, 5, 2, 7, 4, 0, 1, 8])\n",
      "outputs = torch.Size([64, 10])\n",
      "predicted label = tensor([2, 0, 7, 1, 1, 1, 2, 2, 5, 4, 4, 4, 5, 4, 0, 4, 4, 4, 2, 7, 4, 1, 4, 3,\n",
      "        1, 5, 2, 4, 1, 5, 1, 2, 4, 9, 2, 5, 3, 7, 1, 5, 4, 2, 3, 5, 2, 2, 1, 4,\n",
      "        2, 2, 1, 5, 1, 3, 2, 2, 5, 4, 2, 4, 4, 4, 5, 2], device='cuda:0')\n",
      "correct = 10\n",
      "Train Step 1/704, Loss: 2.295025587081909\n",
      "i = 1\n",
      "labels shape = torch.Size([64])\n",
      "imgs shape = torch.Size([64, 3, 32, 32])\n",
      "labels = tensor([5, 3, 3, 0, 7, 5, 7, 4, 9, 6, 4, 6, 5, 4, 9, 9, 6, 8, 2, 5, 8, 0, 7, 0,\n",
      "        1, 7, 4, 6, 5, 7, 9, 2, 4, 2, 1, 8, 9, 4, 1, 7, 5, 3, 7, 8, 9, 9, 1, 6,\n",
      "        1, 7, 5, 4, 5, 4, 9, 3, 1, 8, 9, 3, 8, 4, 6, 5])\n",
      "outputs = torch.Size([64, 10])\n",
      "predicted label = tensor([1, 7, 4, 2, 4, 8, 4, 2, 1, 7, 1, 1, 4, 1, 2, 1, 1, 2, 8, 9, 2, 3, 1, 1,\n",
      "        2, 4, 5, 2, 1, 3, 5, 3, 1, 1, 4, 1, 2, 9, 2, 1, 5, 2, 1, 1, 0, 3, 1, 1,\n",
      "        4, 1, 9, 4, 3, 2, 1, 2, 2, 5, 2, 1, 9, 1, 4, 2], device='cuda:0')\n",
      "correct = 3\n",
      "Train Step 2/704, Loss: 2.3012197017669678\n"
     ]
    }
   ],
   "source": [
    "x_single_run(train_loader_cf, device, model, optimizer, criterion, xc=True)"
   ]
  },
  {
   "cell_type": "code",
   "execution_count": 32,
   "id": "18634b2c-b5dc-459e-89f6-a493bce9c808",
   "metadata": {},
   "outputs": [
    {
     "name": "stdout",
     "output_type": "stream",
     "text": [
      "Training with  ->45056 images\n",
      "size of train loader  ->704 images\n",
      "Evaluating with  ->5056 images\n",
      "size of eval loader  ->79 images\n",
      "Classification  ->True\n",
      "Running for epochs ->10\n",
      "\n",
      "EPOCH 0\n",
      "training step: size of sample 704\n",
      "Validation step: size of sample 79\n",
      "--- EPOCH 0 AVG TRAIN LOSS: 1.3200126198882407\n",
      "--- EPOCH 0 AVG VAL LOSS: 1.091178596774234\n",
      "Accuracy on the 79 validation images: 61.2 %\n",
      "\n",
      "EPOCH 1\n",
      "training step: size of sample 704\n",
      "Validation step: size of sample 79\n",
      "--- EPOCH 1 AVG TRAIN LOSS: 0.9152683004821566\n",
      "--- EPOCH 1 AVG VAL LOSS: 0.828310524361043\n",
      "Accuracy on the 79 validation images: 70.58 %\n",
      "\n",
      "EPOCH 2\n",
      "training step: size of sample 704\n",
      "Validation step: size of sample 79\n",
      "--- EPOCH 2 AVG TRAIN LOSS: 0.755453472406688\n",
      "--- EPOCH 2 AVG VAL LOSS: 0.7874143632906901\n",
      "Accuracy on the 79 validation images: 72.5 %\n",
      "\n",
      "EPOCH 3\n",
      "training step: size of sample 704\n",
      "Validation step: size of sample 79\n",
      "--- EPOCH 3 AVG TRAIN LOSS: 0.6455053849653765\n",
      "--- EPOCH 3 AVG VAL LOSS: 0.6876596778253966\n",
      "Accuracy on the 79 validation images: 76.54 %\n",
      "\n",
      "EPOCH 4\n",
      "training step: size of sample 704\n",
      "Validation step: size of sample 79\n",
      "--- EPOCH 4 AVG TRAIN LOSS: 0.5683362780943174\n",
      "--- EPOCH 4 AVG VAL LOSS: 0.7574269484870041\n",
      "Accuracy on the 79 validation images: 74.22 %\n",
      "\n",
      "EPOCH 5\n",
      "training step: size of sample 704\n",
      "Validation step: size of sample 79\n",
      "--- EPOCH 5 AVG TRAIN LOSS: 0.5051063616252081\n",
      "--- EPOCH 5 AVG VAL LOSS: 0.7485586238812797\n",
      "Accuracy on the 79 validation images: 75.32 %\n",
      "\n",
      "EPOCH 6\n",
      "training step: size of sample 704\n",
      "Validation step: size of sample 79\n",
      "--- EPOCH 6 AVG TRAIN LOSS: 0.4458742845507169\n",
      "--- EPOCH 6 AVG VAL LOSS: 0.8029205580300922\n",
      "Accuracy on the 79 validation images: 74.06 %\n",
      "\n",
      "EPOCH 7\n",
      "training step: size of sample 704\n",
      "Validation step: size of sample 79\n",
      "--- EPOCH 7 AVG TRAIN LOSS: 0.39323081860361114\n",
      "--- EPOCH 7 AVG VAL LOSS: 0.7325083766179749\n",
      "Accuracy on the 79 validation images: 76.56 %\n",
      "\n",
      "EPOCH 8\n",
      "training step: size of sample 704\n",
      "Validation step: size of sample 79\n",
      "--- EPOCH 8 AVG TRAIN LOSS: 0.34657974348572845\n",
      "--- EPOCH 8 AVG VAL LOSS: 0.6760997823144816\n",
      "Accuracy on the 79 validation images: 77.62 %\n",
      "\n",
      "EPOCH 9\n",
      "training step: size of sample 704\n",
      "Validation step: size of sample 79\n",
      "--- EPOCH 9 AVG TRAIN LOSS: 0.3117814683143727\n",
      "--- EPOCH 9 AVG VAL LOSS: 0.7292220407648932\n",
      "Accuracy on the 79 validation images: 76.8 %\n"
     ]
    }
   ],
   "source": [
    "train_losses, val_losses, acc = x_train_cnn(train_loader_cf, valid_loader_cf, model, optimizer, device, criterion, \n",
    "                                            batch_size=64, xc=True,\n",
    "                                            iprnt=100, epochs=10)"
   ]
  },
  {
   "cell_type": "code",
   "execution_count": 33,
   "id": "b127841f-209f-4959-9a76-4bb7cba44fc5",
   "metadata": {},
   "outputs": [
    {
     "data": {
      "image/png": "[encoded data removed]",
      "text/plain": [
       "<Figure size 600x400 with 1 Axes>"
      ]
     },
     "metadata": {},
     "output_type": "display_data"
    }
   ],
   "source": [
    "plot_loss(10, train_losses, val_losses,figsize=(6, 4))"
   ]
  },
  {
   "cell_type": "code",
   "execution_count": 34,
   "id": "662e332f-9e25-4d86-ab73-187c68cbe521",
   "metadata": {},
   "outputs": [
    {
     "data": {
      "image/png": "[encoded data removed]",
      "text/plain": [
       "<Figure size 1000x400 with 1 Axes>"
      ]
     },
     "metadata": {},
     "output_type": "display_data"
    }
   ],
   "source": [
    "plot_accuracy(acc,figsize=(10, 4))"
   ]
  },
  {
   "cell_type": "markdown",
   "id": "2df9cf01-597f-4d43-9d83-56d5a60e8603",
   "metadata": {},
   "source": [
    "## RESNET"
   ]
  },
  {
   "cell_type": "code",
   "execution_count": 35,
   "id": "357278ff-49b3-4a1d-be02-4c446d2d4b50",
   "metadata": {},
   "outputs": [
    {
     "name": "stdout",
     "output_type": "stream",
     "text": [
      " ## make_layer 1: planes = 32,  blocks = 1, stride = 1\n",
      " ## make_layer: in_planes=32\n",
      " ## make_layer: downsample = None\n",
      " ## make_layer 2: planes = 64,  blocks = 1, stride = 2\n",
      " ## make_layer: in_planes=32\n",
      " ## make_layer: downsample = Sequential(\n",
      "  (0): Conv2d(32, 64, kernel_size=(1, 1), stride=(2, 2))\n",
      "  (1): BatchNorm2d(64, eps=1e-05, momentum=0.1, affine=True, track_running_stats=True)\n",
      ")\n",
      " ## make_layer 3: planes = 128,  blocks = 1, stride = 2\n",
      " ## make_layer: in_planes=64\n",
      " ## make_layer: downsample = Sequential(\n",
      "  (0): Conv2d(64, 128, kernel_size=(1, 1), stride=(2, 2))\n",
      "  (1): BatchNorm2d(128, eps=1e-05, momentum=0.1, affine=True, track_running_stats=True)\n",
      ")\n",
      " ## make_layer 4: planes = 256,  blocks = 1, stride = 2\n",
      " ## make_layer: in_planes=128\n",
      " ## make_layer: downsample = Sequential(\n",
      "  (0): Conv2d(128, 256, kernel_size=(1, 1), stride=(2, 2))\n",
      "  (1): BatchNorm2d(256, eps=1e-05, momentum=0.1, affine=True, track_running_stats=True)\n",
      ")\n",
      " ## make_layer 5: planes = 512,  blocks = 1, stride = 2\n",
      " ## make_layer: in_planes=256\n",
      " ## make_layer: downsample = Sequential(\n",
      "  (0): Conv2d(256, 512, kernel_size=(1, 1), stride=(2, 2))\n",
      "  (1): BatchNorm2d(512, eps=1e-05, momentum=0.1, affine=True, track_running_stats=True)\n",
      ")\n"
     ]
    }
   ],
   "source": [
    "model = ResNet10(ResBlock, in_channels=3, out_channels=32, num_classes = 10, dropout_fraction=0.2, debug=True, dropout=True).to(device)"
   ]
  },
  {
   "cell_type": "code",
   "execution_count": 36,
   "id": "2c170b9d-8ced-46e1-9257-32fedda10587",
   "metadata": {},
   "outputs": [
    {
     "name": "stdout",
     "output_type": "stream",
     "text": [
      " ResNet10: input data shape =>torch.Size([1, 3, 32, 32])\n",
      " ResNet10: after conv1 =>torch.Size([1, 32, 32, 32])\n",
      " ResNet10: after layer0 =>torch.Size([1, 32, 32, 32])\n",
      " ResNet10: after layer1 =>torch.Size([1, 64, 16, 16])\n",
      " ResNet10: after layer2 =>torch.Size([1, 128, 8, 8])\n",
      " ResNet10: after layer3 =>torch.Size([1, 256, 4, 4])\n",
      " ResNet10: after layer4 =>torch.Size([1, 512, 2, 2])\n",
      " ResNet10: after avgpool =>torch.Size([1, 512, 1, 1])\n",
      " ResNet10: after flatten =>torch.Size([1, 512])\n",
      " ResNet10: after fc =>torch.Size([1, 10])\n"
     ]
    },
    {
     "data": {
      "text/plain": [
       "tensor([[ 1.1095,  0.1591,  0.8062,  0.3907,  0.0496, -0.3695,  2.1298,  0.1924,\n",
       "         -2.6503,  0.2389]], device='cuda:0', grad_fn=<AddmmBackward0>)"
      ]
     },
     "execution_count": 36,
     "metadata": {},
     "output_type": "execute_result"
    }
   ],
   "source": [
    "model(torch.randn(1,3,32,32).to(device))"
   ]
  },
  {
   "cell_type": "code",
   "execution_count": 37,
   "id": "ed88ffd6-0718-474b-879b-44350d482453",
   "metadata": {},
   "outputs": [
    {
     "name": "stdout",
     "output_type": "stream",
     "text": [
      "----------------------------------------------------------------\n",
      "        Layer (type)               Output Shape         Param #\n",
      "================================================================\n",
      "            Conv2d-1           [-1, 32, 32, 32]             896\n",
      "       BatchNorm2d-2           [-1, 32, 32, 32]              64\n",
      "              ReLU-3           [-1, 32, 32, 32]               0\n",
      "            Conv2d-4           [-1, 32, 32, 32]           9,248\n",
      "       BatchNorm2d-5           [-1, 32, 32, 32]              64\n",
      "              ReLU-6           [-1, 32, 32, 32]               0\n",
      "            Conv2d-7           [-1, 32, 32, 32]           9,248\n",
      "       BatchNorm2d-8           [-1, 32, 32, 32]              64\n",
      "              ReLU-9           [-1, 32, 32, 32]               0\n",
      "         ResBlock-10           [-1, 32, 32, 32]               0\n",
      "           Conv2d-11           [-1, 64, 16, 16]          18,496\n",
      "      BatchNorm2d-12           [-1, 64, 16, 16]             128\n",
      "             ReLU-13           [-1, 64, 16, 16]               0\n",
      "           Conv2d-14           [-1, 64, 16, 16]          36,928\n",
      "      BatchNorm2d-15           [-1, 64, 16, 16]             128\n",
      "           Conv2d-16           [-1, 64, 16, 16]           2,112\n",
      "      BatchNorm2d-17           [-1, 64, 16, 16]             128\n",
      "             ReLU-18           [-1, 64, 16, 16]               0\n",
      "         ResBlock-19           [-1, 64, 16, 16]               0\n",
      "           Conv2d-20            [-1, 128, 8, 8]          73,856\n",
      "      BatchNorm2d-21            [-1, 128, 8, 8]             256\n",
      "             ReLU-22            [-1, 128, 8, 8]               0\n",
      "           Conv2d-23            [-1, 128, 8, 8]         147,584\n",
      "      BatchNorm2d-24            [-1, 128, 8, 8]             256\n",
      "           Conv2d-25            [-1, 128, 8, 8]           8,320\n",
      "      BatchNorm2d-26            [-1, 128, 8, 8]             256\n",
      "             ReLU-27            [-1, 128, 8, 8]               0\n",
      "         ResBlock-28            [-1, 128, 8, 8]               0\n",
      "           Conv2d-29            [-1, 256, 4, 4]         295,168\n",
      "      BatchNorm2d-30            [-1, 256, 4, 4]             512\n",
      "             ReLU-31            [-1, 256, 4, 4]               0\n",
      "           Conv2d-32            [-1, 256, 4, 4]         590,080\n",
      "      BatchNorm2d-33            [-1, 256, 4, 4]             512\n",
      "           Conv2d-34            [-1, 256, 4, 4]          33,024\n",
      "      BatchNorm2d-35            [-1, 256, 4, 4]             512\n",
      "             ReLU-36            [-1, 256, 4, 4]               0\n",
      "         ResBlock-37            [-1, 256, 4, 4]               0\n",
      "           Conv2d-38            [-1, 512, 2, 2]       1,180,160\n",
      "      BatchNorm2d-39            [-1, 512, 2, 2]           1,024\n",
      "             ReLU-40            [-1, 512, 2, 2]               0\n",
      "           Conv2d-41            [-1, 512, 2, 2]       2,359,808\n",
      "      BatchNorm2d-42            [-1, 512, 2, 2]           1,024\n",
      "           Conv2d-43            [-1, 512, 2, 2]         131,584\n",
      "      BatchNorm2d-44            [-1, 512, 2, 2]           1,024\n",
      "             ReLU-45            [-1, 512, 2, 2]               0\n",
      "         ResBlock-46            [-1, 512, 2, 2]               0\n",
      "        MaxPool2d-47            [-1, 512, 1, 1]               0\n",
      "          Dropout-48                  [-1, 512]               0\n",
      "           Linear-49                   [-1, 10]           5,130\n",
      "================================================================\n",
      "Total params: 4,907,594\n",
      "Trainable params: 4,907,594\n",
      "Non-trainable params: 0\n",
      "----------------------------------------------------------------\n",
      "Input size (MB): 0.01\n",
      "Forward/backward pass size (MB): 4.62\n",
      "Params size (MB): 18.72\n",
      "Estimated Total Size (MB): 23.35\n",
      "----------------------------------------------------------------\n"
     ]
    }
   ],
   "source": [
    "summary(model,(3,32,32))"
   ]
  },
  {
   "cell_type": "code",
   "execution_count": 38,
   "id": "1b811adc-5781-49f9-80a3-3aed3b6e4b2d",
   "metadata": {},
   "outputs": [],
   "source": [
    "optimizer= optim.Adam(model.parameters(), lr=0.001)"
   ]
  },
  {
   "cell_type": "code",
   "execution_count": 39,
   "id": "b4319324-3cf9-4894-a888-5304cbc9e4b9",
   "metadata": {},
   "outputs": [
    {
     "name": "stdout",
     "output_type": "stream",
     "text": [
      "Training with  ->45056 images\n",
      "size of train loader  ->704 images\n",
      "Evaluating with  ->5056 images\n",
      "size of eval loader  ->79 images\n",
      "Classification  ->True\n",
      "Running for epochs ->10\n",
      "\n",
      "EPOCH 0\n",
      "training step: size of sample 704\n",
      "Validation step: size of sample 79\n",
      "--- EPOCH 0 AVG TRAIN LOSS: 1.3921513890170238\n",
      "--- EPOCH 0 AVG VAL LOSS: 1.0740049126781994\n",
      "Accuracy on the 79 validation images: 61.14 %\n",
      "\n",
      "EPOCH 1\n",
      "training step: size of sample 704\n",
      "Validation step: size of sample 79\n",
      "--- EPOCH 1 AVG TRAIN LOSS: 0.8947163828733292\n",
      "--- EPOCH 1 AVG VAL LOSS: 0.7720056760914719\n",
      "Accuracy on the 79 validation images: 72.14 %\n",
      "\n",
      "EPOCH 2\n",
      "training step: size of sample 704\n",
      "Validation step: size of sample 79\n",
      "--- EPOCH 2 AVG TRAIN LOSS: 0.6726820890114389\n",
      "--- EPOCH 2 AVG VAL LOSS: 0.7690745346908328\n",
      "Accuracy on the 79 validation images: 71.9 %\n",
      "\n",
      "EPOCH 3\n",
      "training step: size of sample 704\n",
      "Validation step: size of sample 79\n",
      "--- EPOCH 3 AVG TRAIN LOSS: 0.5192088960796933\n",
      "--- EPOCH 3 AVG VAL LOSS: 0.6519380215602585\n",
      "Accuracy on the 79 validation images: 78.22 %\n",
      "\n",
      "EPOCH 4\n",
      "training step: size of sample 704\n",
      "Validation step: size of sample 79\n",
      "--- EPOCH 4 AVG TRAIN LOSS: 0.3917436861136759\n",
      "--- EPOCH 4 AVG VAL LOSS: 0.70582041634789\n",
      "Accuracy on the 79 validation images: 77.52 %\n",
      "\n",
      "EPOCH 5\n",
      "training step: size of sample 704\n",
      "Validation step: size of sample 79\n",
      "--- EPOCH 5 AVG TRAIN LOSS: 0.292020464617632\n",
      "--- EPOCH 5 AVG VAL LOSS: 0.7092716899476473\n",
      "Accuracy on the 79 validation images: 79.22 %\n",
      "\n",
      "EPOCH 6\n",
      "training step: size of sample 704\n",
      "Validation step: size of sample 79\n",
      "--- EPOCH 6 AVG TRAIN LOSS: 0.20471695778806778\n",
      "--- EPOCH 6 AVG VAL LOSS: 0.7808562992494318\n",
      "Accuracy on the 79 validation images: 78.14 %\n",
      "\n",
      "EPOCH 7\n",
      "training step: size of sample 704\n",
      "Validation step: size of sample 79\n",
      "--- EPOCH 7 AVG TRAIN LOSS: 0.14727905579837336\n",
      "--- EPOCH 7 AVG VAL LOSS: 1.067566449883618\n",
      "Accuracy on the 79 validation images: 76.62 %\n",
      "\n",
      "EPOCH 8\n",
      "training step: size of sample 704\n",
      "Validation step: size of sample 79\n",
      "--- EPOCH 8 AVG TRAIN LOSS: 0.12826425023773813\n",
      "--- EPOCH 8 AVG VAL LOSS: 0.8870020787927169\n",
      "Accuracy on the 79 validation images: 78.06 %\n",
      "\n",
      "EPOCH 9\n",
      "training step: size of sample 704\n",
      "Validation step: size of sample 79\n",
      "--- EPOCH 9 AVG TRAIN LOSS: 0.09769974055631213\n",
      "--- EPOCH 9 AVG VAL LOSS: 0.855717033902301\n",
      "Accuracy on the 79 validation images: 79.18 %\n"
     ]
    }
   ],
   "source": [
    "train_losses, val_losses, acc = x_train_cnn(train_loader_cf, valid_loader_cf, model, optimizer, device, criterion, \n",
    "                                            batch_size=64, xc=True,\n",
    "                                            iprnt=100, epochs=10)"
   ]
  },
  {
   "cell_type": "code",
   "execution_count": 71,
   "id": "1f8558d4-e2d4-4af7-9b38-f46da989357a",
   "metadata": {},
   "outputs": [
    {
     "data": {
      "image/png": "[encoded data removed]",
      "text/plain": [
       "<Figure size 600x400 with 1 Axes>"
      ]
     },
     "metadata": {},
     "output_type": "display_data"
    }
   ],
   "source": [
    "plot_loss(10, train_losses, val_losses,figsize=(6, 4))"
   ]
  },
  {
   "cell_type": "code",
   "execution_count": 72,
   "id": "5647a4f5-4da1-4282-ba9a-3c20ae348807",
   "metadata": {},
   "outputs": [
    {
     "data": {
      "image/png": "[encoded data removed]",
      "text/plain": [
       "<Figure size 1000x400 with 1 Axes>"
      ]
     },
     "metadata": {},
     "output_type": "display_data"
    }
   ],
   "source": [
    "plot_accuracy(acc,figsize=(10, 4))"
   ]
  },
  {
   "cell_type": "code",
   "execution_count": null,
   "id": "4498bf50-d23e-4f59-bf4f-38abd3a94ffa",
   "metadata": {},
   "outputs": [],
   "source": []
  }
 ],
 "metadata": {
  "kernelspec": {
   "display_name": "Python 3 (ipykernel)",
   "language": "python",
   "name": "python3"
  },
  "language_info": {
   "codemirror_mode": {
    "name": "ipython",
    "version": 3
   },
   "file_extension": ".py",
   "mimetype": "text/x-python",
   "name": "python",
   "nbconvert_exporter": "python",
   "pygments_lexer": "ipython3",
   "version": "3.11.5"
  }
 },
 "nbformat": 4,
 "nbformat_minor": 5
}
