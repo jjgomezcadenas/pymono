{
 "cells": [
  {
   "cell_type": "code",
   "execution_count": 1,
   "id": "fbdb1305-f99b-41a0-bf6d-0f2a53ea2109",
   "metadata": {},
   "outputs": [],
   "source": [
    "%matplotlib inline\n",
    "%load_ext autoreload\n",
    "%autoreload 2\n",
    "import matplotlib.pyplot as plt\n",
    "from matplotlib.pyplot import imshow\n",
    "plt.rcParams[\"figure.figsize\"] = 10, 8\n",
    "plt.rcParams[\"font.size\"     ] = 14\n",
    "\n"
   ]
  },
  {
   "cell_type": "code",
   "execution_count": 2,
   "id": "0e7669b6-64da-4a67-9390-55b3fa35bb73",
   "metadata": {},
   "outputs": [],
   "source": [
    "import numpy as np\n",
    "import pandas as pd\n",
    "import os\n",
    "import glob"
   ]
  },
  {
   "cell_type": "code",
   "execution_count": 81,
   "id": "69c3da7f-551b-4220-98c8-27bd82c7596e",
   "metadata": {},
   "outputs": [],
   "source": [
    "from collections import namedtuple"
   ]
  },
  {
   "cell_type": "code",
   "execution_count": 3,
   "id": "ccabcbc8",
   "metadata": {},
   "outputs": [],
   "source": [
    "import logging\n",
    "logging.basicConfig(format='%(levelname)s:%(message)s', level=logging.INFO)"
   ]
  },
  {
   "cell_type": "code",
   "execution_count": 4,
   "id": "75817fdc-3eeb-4ab6-8e39-9c62111a6f37",
   "metadata": {},
   "outputs": [],
   "source": [
    "import torch\n",
    "import torch.nn as nn\n",
    "import torch.optim as optim\n",
    "import torch.nn.functional as F\n",
    "from torch.utils.data import Dataset\n",
    "from torch.utils.data import DataLoader"
   ]
  },
  {
   "cell_type": "code",
   "execution_count": 5,
   "id": "19eb1676-2fc4-4bc8-b5cb-2dbd70d65814",
   "metadata": {},
   "outputs": [],
   "source": [
    "from torchvision import datasets\n",
    "from torchvision import transforms\n",
    "from torch.utils.data.sampler import SubsetRandomSampler"
   ]
  },
  {
   "cell_type": "code",
   "execution_count": 6,
   "id": "15ea09ce-5a27-40d0-a8b3-b22b2ad3a1d9",
   "metadata": {},
   "outputs": [],
   "source": [
    "from pymono.cifar import cifar_data_loader"
   ]
  },
  {
   "cell_type": "code",
   "execution_count": 7,
   "id": "8c853dbb-483b-4a14-accc-1455807600c8",
   "metadata": {},
   "outputs": [],
   "source": [
    "from pymono.imagenette import imagenette_data_loader"
   ]
  },
  {
   "cell_type": "code",
   "execution_count": 8,
   "id": "cc3a604a-27eb-4cdf-9d1f-81aaea92b70e",
   "metadata": {},
   "outputs": [],
   "source": [
    "from pymono.resnet_func import ResNet34 "
   ]
  },
  {
   "cell_type": "code",
   "execution_count": 9,
   "id": "1a9708f7-e83b-44c2-9c44-ed237f2b18d2",
   "metadata": {},
   "outputs": [],
   "source": [
    "from pymono.resnet_func import ResidualBlock "
   ]
  },
  {
   "cell_type": "code",
   "execution_count": 10,
   "id": "c39dc411-3b16-4dbc-b56f-32b9e52d324e",
   "metadata": {},
   "outputs": [
    {
     "name": "stdout",
     "output_type": "stream",
     "text": [
      "Using mps device\n"
     ]
    }
   ],
   "source": [
    "device = (\n",
    "    \"cuda\"\n",
    "    if torch.cuda.is_available()\n",
    "    else \"mps\"\n",
    "    if torch.backends.mps.is_available()\n",
    "    else \"cpu\"\n",
    ")\n",
    "print(f\"Using {device} device\")"
   ]
  },
  {
   "cell_type": "code",
   "execution_count": 11,
   "id": "5faa707c-45a7-45d6-afd4-e19ab14c76f6",
   "metadata": {},
   "outputs": [],
   "source": [
    "logging.debug(\"hi\")"
   ]
  },
  {
   "cell_type": "markdown",
   "id": "c3e935ba-d3cf-400c-92e6-bd961dc37a9a",
   "metadata": {
    "jp-MarkdownHeadingCollapsed": true
   },
   "source": [
    "# Convolutional Neural Networks (CNNs / ConvNets)\n",
    "\n",
    "Convolutional Neural Networks are very similar to ordinary Neural Networks from the previous chapter: they are made up of neurons that have learnable weights and biases. Each neuron receives some inputs, performs a dot product and optionally follows it with a non-linearity. The whole network still expresses a single differentiable score function: from the raw image pixels on one end to class scores at the other. And they still have a loss function (e.g. SVM/Softmax) on the last (fully-connected) layer and all the tips/tricks we developed for learning regular Neural Networks still apply.\n",
    "\n",
    "So what changes? ConvNet architectures make the explicit assumption that the inputs are images, which allows us to encode certain properties into the architecture. These then make the forward function more efficient to implement and vastly reduce the amount of parameters in the network.\n",
    "\n",
    "## Architecture Overview\n",
    "\n",
    "Convolutional Neural Networks take advantage of the fact that the input consists of images and they constrain the architecture in a more sensible way. In particular, unlike a regular Neural Network, the layers of a ConvNet have neurons arranged in 3 dimensions: width, height, depth. (Note that the word depth here refers to the third dimension of an activation volume, not to the depth of a full Neural Network, which can refer to the total number of layers in a network.) For example, the input images in CIFAR-10 are an input volume of activations, and the volume has dimensions 32x32x3 (width, height, depth respectively). The neurons in a layer will only be connected to a small region of the layer before it, instead of all of the neurons in a fully-connected manner. Moreover, the final output layer would for CIFAR-10 have dimensions 1x1x10, because by the end of the ConvNet architecture we will reduce the full image into a single vector of class scores, arranged along the depth dimension. Here is a visualization:\n",
    "\n",
    "<img src=\"cnn2.png\" alt=\"A CNN\" />\n",
    "\n",
    "## Layers used to build ConvNets\n",
    "A simple ConvNet is a sequence of layers, and every layer of a ConvNet transforms one volume of activations to another through a differentiable function. We use three main types of layers to build ConvNet architectures: Convolutional Layer, Pooling Layer, and Fully-Connected Layer (exactly as seen in regular Neural Networks). We will stack these layers to form a full ConvNet architecture.\n",
    "\n",
    "Example Architecture: Overview. A simple ConvNet for CIFAR-10 classification could have the architecture INPUT - CONV - RELU - POOL - FC. In more detail:\n",
    "\n",
    "INPUT (32x32x3) will hold the raw pixel values of the image, in this case an image of width 32, height 32, and with three color channels R,G,B.\n",
    "\n",
    "CONV layer will compute the output of neurons that are connected to local regions in the input, each computing a dot product between their weights and a small region they are connected to in the input volume. This may result in volume such as (32x32x12) if we decided to use 12 filters.\n",
    "\n",
    "RELU layer will apply an elementwise activation function, such as the max(0,x)\n",
    " thresholding at zero. This leaves the size of the volume unchanged (32x32x12).\n",
    " \n",
    "POOL layer will perform a downsampling operation along the spatial dimensions (width, height), resulting in volume such as (16x16x12).\n",
    "\n",
    "FC (i.e. fully-connected) layer will compute the class scores, resulting in volume of size (1x1x10), where each of the 10 numbers correspond to a class score, such as among the 10 categories of CIFAR-10. As with ordinary Neural Networks and as the name implies, each neuron in this layer will be connected to all the numbers in the previous volume.\n",
    "\n",
    "In this way, ConvNets transform the original image layer by layer from the original pixel values to the final class scores. Note that some layers contain parameters and other don’t. In particular, the CONV/FC layers perform transformations that are a function of not only the activations in the input volume, but also of the parameters (the weights and biases of the neurons). On the other hand, the RELU/POOL layers will implement a fixed function. The parameters in the CONV/FC layers will be trained with gradient descent so that the class scores that the ConvNet computes are consistent with the labels in the training set for each image.\n",
    "\n",
    "### In summary:\n",
    "\n",
    "A ConvNet architecture is in the simplest case a list of Layers that transform the image volume into an output volume (e.g. holding the class scores)\n",
    "\n",
    "There are a few distinct types of Layers (e.g. CONV/FC/RELU/POOL are by far the most popular)\n",
    "Each Layer accepts an input 3D volume and transforms it to an output 3D volume through a differentiable function\n",
    "\n",
    "Each Layer may or may not have parameters (e.g. CONV/FC do, RELU/POOL don’t)\n",
    "\n",
    "Each Layer may or may not have additional hyperparameters (e.g. CONV/FC/POOL do, RELU doesn’t)\n",
    "\n",
    "## Convolutional Layer\n",
    "\n",
    "The Conv layer is the core building block of a Convolutional Network that does most of the computational heavy lifting.\n",
    "\n",
    "### Overview and intuition without brain stuff. \n",
    "\n",
    "Let’s first discuss what the CONV layer computes without brain/neuron analogies. The CONV layer’s parameters consist of a set of learnable filters. Every filter is small spatially (along width and height), but extends through the full depth of the input volume. For example, a typical filter on a first layer of a ConvNet might have size 5x5x3 (i.e. 5 pixels width and height, and 3 because images have depth 3, the color channels). During the forward pass, we slide (more precisely, convolve) each filter across the width and height of the input volume and compute dot products between the entries of the filter and the input at any position. As we slide the filter over the width and height of the input volume we will produce a 2-dimensional activation map that gives the responses of that filter at every spatial position. Intuitively, the network will learn filters that activate when they see some type of visual feature such as an edge of some orientation or a blotch of some color on the first layer, or eventually entire honeycomb or wheel-like patterns on higher layers of the network. Now, we will have an entire set of filters in each CONV layer (e.g. 12 filters), and each of them will produce a separate 2-dimensional activation map. We will stack these activation maps along the depth dimension and produce the output volume.\n",
    "\n",
    "### The brain view. \n",
    "\n",
    "If you’re a fan of the brain/neuron analogies, every entry in the 3D output volume can also be interpreted as an output of a neuron that looks at only a small region in the input and shares parameters with all neurons to the left and right spatially (since these numbers all result from applying the same filter).\n",
    "\n",
    "We now discuss the details of the neuron connectivities, their arrangement in space, and their parameter sharing scheme.\n",
    "\n",
    "### Local Connectivity. \n",
    "\n",
    "When dealing with high-dimensional inputs such as images, as we saw above it is impractical to connect neurons to all neurons in the previous volume. Instead, we will connect each neuron to only a local region of the input volume. The spatial extent of this connectivity is a hyperparameter called the receptive field of the neuron (equivalently this is the filter size). The extent of the connectivity along the depth axis is always equal to the depth of the input volume. It is important to emphasize again this asymmetry in how we treat the spatial dimensions (width and height) and the depth dimension: The connections are local in 2D space (along width and height), but always full along the entire depth of the input volume.\n",
    "\n",
    "#### Example 1. \n",
    "\n",
    "For example, suppose that the input volume has size (32x32x3)], (e.g. an RGB CIFAR-10 image). If the receptive field (or the filter size) is 5x5, then each neuron in the Conv Layer will have weights to a (5x5x3) region in the input volume, for a total of 5*5*3 = 75 weights (and +1 bias parameter). Notice that the extent of the connectivity along the depth axis must be 3, since this is the depth of the input volume.\n",
    "\n",
    "#### Example 2. \n",
    "\n",
    "Suppose an input volume had size (16x16x20). Then using an example receptive field size of 3x3, every neuron in the Conv Layer would now have a total of 3*3*20 = 180 connections to the input volume. Notice that, again, the connectivity is local in 2D space (e.g. 3x3), but full along the input depth (20).\n",
    "\n",
    "#### Example\n",
    "\n",
    "An example input volume in red (e.g. a 32x32x3 CIFAR-10 image), and an example volume of neurons in the first Convolutional layer. Each neuron in the convolutional layer is connected only to a local region in the input volume spatially, but to the full depth (i.e. all color channels). Note, there are multiple neurons (5 in this example) along the depth, all looking at the same region in the input: the lines that connect this column of 5 neurons do not represent the weights (i.e. these 5 neurons do not share the same weights, but they are associated with 5 different filters), they just indicate that these neurons are connected to or looking at the same receptive field or region of the input volume, i.e. they share the same receptive field but not the same weights.\n",
    "\n",
    "<img src=\"depthcol.png\" alt=\"CNN conectivity\" />\n",
    "\n",
    "#### Spatial arrangement. \n",
    "\n",
    "We have explained the connectivity of each neuron in the Conv Layer to the input volume, but we haven’t yet discussed how many neurons there are in the output volume or how they are arranged. Three hyperparameters control the size of the output volume: the depth, stride and zero-padding. We discuss these next:\n",
    "\n",
    "**First, the depth of the output volume is a hyperparameter**: *it corresponds to the number of filters we would like to use, each learning to look for something different in the input*. For example, if the first Convolutional Layer takes as input the raw image, then different neurons along the depth dimension may activate in presence of various oriented edges, or blobs of color. We will refer to a set of neurons that are all looking at the same region of the input as a depth column (some people also prefer the term fibre).\n",
    "\n",
    "**Second, we must specify the stride with which we slide the filter**. When the stride is 1 then we move the filters one pixel at a time. When the stride is 2 (or uncommonly 3 or more, though this is rare in practice) then the filters jump 2 pixels at a time as we slide them around. This will produce smaller output volumes spatially.\n",
    "\n",
    "**Sometimes it will be convenient to pad the input volume with zeros around the border**. The size of this zero-padding is a hyperparameter. The nice feature of zero padding is that it will allow us to control the spatial size of the output volumes (most commonly as we’ll see soon we will use it to exactly preserve the spatial size of the input volume so the input and output width and height are the same).\n",
    "\n",
    "We can compute the spatial size of the output volume as a function of the input volume size (W), the receptive field size of the Conv Layer neurons (F), the stride with which they are applied (S), and the amount of zero padding used (P) on the border. \n",
    "\n",
    "The correct formula for calculating how many neurons “fit” is given by (W−F+2P)/S+1\n",
    "\n",
    "For example for a 7x7 input and a 3x3 filter with stride 1 and pad 0 we would get a 5x5 output. With stride 2 we would get a 3x3 output. \n",
    "\n",
    "In general, setting zero padding to be P=(F−1)/2 when the stride is S=1 ensures that the input volume and output volume will have the same size spatially.\n",
    "\n",
    "#### Real-world example. \n",
    "\n",
    "The Krizhevsky et al. architecture that won the ImageNet challenge in 2012 accepted images of size (227x227x3). On the first Convolutional Layer, it used neurons with receptive field size **F=11**, stride **S=4** and no zero padding **P=0**. Since (227 - 11)/4 + 1 = 55, and since the Conv layer had a depth of **K=96**, the Conv layer output volume had size (55x55x96). Each of the 55*55*96 neurons in this volume was connected to a region of size (11x11x3) in the input volume. Moreover, all 96 neurons in each depth column are connected to the same (11x11x3) region of the input, but of course with different weights. \n",
    "\n",
    "#### Parameter Sharing. \n",
    "\n",
    "Parameter sharing scheme is used in Convolutional Layers to control the number of parameters. Using the real-world example above, we see that there are 55*55*96 = 290,400 neurons in the first Conv Layer, and each has 11*11*3 = 363 weights and 1 bias. Together, this adds up to 290400 * 364 = 105,705,600 parameters on the first layer of the ConvNet alone. Clearly, this number is very high.\n",
    "\n",
    "It turns out that we can dramatically reduce the number of parameters by making one reasonable assumption: That if one feature is useful to compute at some spatial position (x,y), then it should also be useful to compute at a different position (x2,y2). In other words, denoting a single 2-dimensional slice of depth as a depth slice (e.g. a volume of size \\[55x55x96] has 96 depth slices, each of size \\[55x55]), we are going to constrain the neurons in each depth slice to use the same weights and bias. With this parameter sharing scheme, the first Conv Layer in our example would now have only 96 unique set of weights (one for each depth slice), for a total of 96*11*11*3 = 34,848 unique weights, or 34,944 parameters (+96 biases). Alternatively, all 55*55 neurons in each depth slice will now be using the same parameters. In practice during backpropagation, every neuron in the volume will compute the gradient for its weights, but these gradients will be added up across each depth slice and only update a single set of weights per slice.\n",
    "\n",
    "Notice that if all neurons in a single depth slice are using the same weight vector, then the forward pass of the CONV layer can in each depth slice be computed as a convolution of the neuron’s weights with the input volume (Hence the name: Convolutional Layer). This is why it is common to refer to the sets of weights as a filter (or a kernel), that is convolved with the input.\n",
    "\n",
    "#### Summary. \n",
    "\n",
    "To summarize, the Conv Layer:\n",
    "\n",
    "- Accepts a volume of size W1×H1×D1\n",
    "- Requires four hyperparameters:\n",
    "    - Number of filters K,\n",
    "    - Their spatial extent F,\n",
    "    - The stride S,\n",
    "    - The amount of zero padding P.\n",
    "     \n",
    "- Produces a volume of size W2×H2×D2, where:\n",
    "    - W2=(W1−F+2P)/S+1\n",
    "    - H2=(H1−F+2P)/S+1 (i.e. width and height are computed equally by symmetry)\n",
    "D2=K\n",
    "\n",
    "- With parameter sharing, it introduces F⋅F⋅D1 weights per filter, for a total of (F⋅F⋅D1)⋅K\n",
    " weights and K biases.\n",
    "\n",
    "In the output volume, the d-th depth slice (of size W2×H2) is the result of performing a valid convolution of the d-th filter over the input volume with a stride of S, and then offset by d-th bias.\n",
    "\n",
    "## Pooling Layer\n",
    "\n",
    "It is common to periodically insert a Pooling layer in-between successive Conv layers in a ConvNet architecture. Its function is to progressively reduce the spatial size of the representation to reduce the amount of parameters and computation in the network, and hence to also control overfitting. The Pooling Layer operates independently on every depth slice of the input and resizes it spatially, using the MAX operation. The most common form is a pooling layer with filters of size 2x2 applied with a stride of 2 downsamples every depth slice in the input by 2 along both width and height, discarding 75% of the activations. Every MAX operation would in this case be taking a max over 4 numbers (little 2x2 region in some depth slice). The depth dimension remains unchanged. More generally, the pooling layer:\n",
    "\n",
    "- Accepts a volume of size W1×H1×D1\n",
    "- Requires two hyperparameters:\n",
    "    - their spatial extent F,\n",
    "    - the stride S,\n",
    "- Produces a volume of size W2×H2×D2, where:\n",
    "    - W2=(W1−F)/S+1\n",
    "    - H2=(H1−F)/S+1\n",
    "    - D2=D1\n",
    "- Introduces zero parameters since it computes a fixed function of the input\n",
    "  \n",
    "For Pooling layers, it is not common to pad the input using zero-padding.\n",
    "It is worth noting that there are only two commonly seen variations of the max pooling layer found in practice: A pooling layer with F=3,S=2 (also called overlapping pooling), and more commonly F=2,S=2. Pooling sizes with larger receptive fields are too destructive.\n",
    "\n",
    "#### General pooling. \n",
    "\n",
    "In addition to max pooling, the pooling units can also perform other functions, such as average pooling or even L2-norm pooling. Average pooling was often used historically but has recently fallen out of favor compared to the max pooling operation, which has been shown to work better in practice.\n",
    "\n",
    "<img src=\"pool.png\" alt=\"Pooling Layer\" />\n",
    "\n",
    "Pooling layer downsamples the volume spatially, independently in each depth slice of the input volume. Left: In this example, the input volume of size \\[224x224x64] is pooled with filter size 2, stride 2 into output volume of size \\[112x112x64]. Notice that the volume depth is preserved. \n",
    "\n",
    "<img src=\"maxpool.png\" alt=\"MaxPool operation\" />\n",
    "\n",
    "\n",
    "## ConvNet Architectures\n",
    "\n",
    "We have seen that Convolutional Networks are commonly made up of only three layer types: CONV, POOL (we assume Max pool unless stated otherwise) and FC (short for fully-connected). We will also explicitly write the RELU activation function as a layer, which applies elementwise non-linearity. In this section we discuss how these are commonly stacked together to form entire ConvNets.\n",
    "\n",
    "\n",
    "### Layer Patterns\n",
    "\n",
    "The most common form of a ConvNet architecture stacks a few CONV-RELU layers, follows them with POOL layers, and repeats this pattern until the image has been merged spatially to a small size. At some point, it is common to transition to fully-connected layers. The last fully-connected layer holds the output, such as the class scores. In other words, the most common ConvNet architecture follows the pattern:\n",
    "\n",
    "INPUT -> \\[\\[CONV -> RELU]*N -> POOL?]*M -> \\[FC -> RELU]*K -> FC\n",
    "\n",
    "where the * indicates repetition, and the POOL? indicates an optional pooling layer. Moreover, N >= 0 (and usually N <= 3), M >= 0, K >= 0 (and usually K < 3). For example, here are some common ConvNet architectures you may see that follow this pattern:\n",
    "\n",
    "INPUT -> FC, implements a linear classifier. Here N = M = K = 0.\n",
    "\n",
    "INPUT -> CONV -> RELU -> FC\n",
    "\n",
    "INPUT -> \\[CONV -> RELU -> POOL]*2 -> FC -> RELU -> FC. Here we see that there is a single CONV layer between every POOL layer.\n",
    "\n",
    "INPUT -> \\[CONV -> RELU -> CONV -> RELU -> POOL]*3 -> \\[FC -> RELU]*2 -> FC Here we see two CONV layers stacked before every POOL layer. This is generally a good idea for larger and deeper networks, because multiple stacked CONV layers can develop more complex features of the input volume before the destructive pooling operation.\n",
    "\n",
    "**Prefer a stack of small filter CONV to one large receptive field CONV layer**. Suppose that you stack three 3x3 CONV layers on top of each other (with non-linearities in between, of course). In this arrangement, each neuron on the first CONV layer has a 3x3 view of the input volume. A neuron on the second CONV layer has a 3x3 view of the first CONV layer, and hence by extension a 5x5 view of the input volume. Similarly, a neuron on the third CONV layer has a 3x3 view of the 2nd CONV layer, and hence a 7x7 view of the input volume. Suppose that instead of these three layers of 3x3 CONV, we only wanted to use a single CONV layer with 7x7 receptive fields. These neurons would have a receptive field size of the input volume that is identical in spatial extent (7x7), but with several disadvantages. First, the neurons would be computing a linear function over the input, while the three stacks of CONV layers contain non-linearities that make their features more expressive. Second, if we suppose that all the volumes have C\n",
    " channels, then it can be seen that the single 7x7 CONV layer would contain C×(7×7×C)=49C2\n",
    " parameters, while the three 3x3 CONV layers would only contain 3×(C×(3×3×C))=27C$^2$\n",
    " parameters. Intuitively, stacking CONV layers with tiny filters as opposed to having one CONV layer with big filters allows us to express more powerful features of the input, and with fewer parameters. As a practical disadvantage, we might need more memory to hold all the intermediate CONV layer results if we plan to do backpropagation.\n",
    "\n",
    "### Layer Sizing Patterns\n",
    "Until now we’ve omitted mentions of common hyperparameters used in each of the layers in a ConvNet. We will first state the common rules of thumb for sizing the architectures and then follow the rules with a discussion of the notation:\n",
    "\n",
    "**The input layer (that contains the image)** should be divisible by 2 many times. Common numbers include 32 (e.g. CIFAR-10), 64, 96 (e.g. STL-10), or 224 (e.g. common ImageNet ConvNets), 384, and 512.\n",
    "\n",
    "**The conv layers should be using small filters (e.g. 3x3 or at most 5x5)**, using a stride of S=1, and crucially, padding the input volume with zeros in such way that the conv layer does not alter the spatial dimensions of the input. That is, when F=3, then using P=1\n",
    " will retain the original size of the input. When F=5, P=2. For a general F, it can be seen that P=(F−1)/2\n",
    " preserves the input size. If you must use bigger filter sizes (such as 7x7 or so), it is only common to see this on the very first conv layer that is looking at the input image.\n",
    "\n",
    "**The pool layers are in charge of downsampling the spatial dimensions of the input**. The most common setting is to use max-pooling with 2x2 receptive fields (i.e. F=2), and with a stride of 2 (i.e. S=2). Note that this discards exactly 75% of the activations in an input volume (due to downsampling by 2 in both width and height). Another slightly less common setting is to use 3x3 receptive fields with a stride of 2, but this makes “fitting” more complicated (e.g., a 32x32x3 layer would require zero padding to be used with a max-pooling layer with 3x3 receptive field and stride 2). It is very uncommon to see receptive field sizes for max pooling that are larger than 3 because the pooling is then too lossy and aggressive. This usually leads to worse performance.\n",
    "\n",
    "**Reducing sizing headaches**. The scheme presented above is pleasing because all the CONV layers preserve the spatial size of their input, while the POOL layers alone are in charge of down-sampling the volumes spatially. In an alternative scheme where we use strides greater than 1 or don’t zero-pad the input in CONV layers, we would have to very carefully keep track of the input volumes throughout the CNN architecture and make sure that all strides and filters “work out”, and that the ConvNet architecture is nicely and symmetrically wired.\n",
    "\n",
    "**Why use stride of 1 in CONV?** Smaller strides work better in practice. Additionally, as already mentioned stride 1 allows us to leave all spatial down-sampling to the POOL layers, with the CONV layers only transforming the input volume depth-wise.\n",
    "\n",
    "**Why use padding?** In addition to the aforementioned benefit of keeping the spatial sizes constant after CONV, doing this actually improves performance. If the CONV layers were to not zero-pad the inputs and only perform valid convolutions, then the size of the volumes would reduce by a small amount after each CONV, and the information at the borders would be “washed away” too quickly.\n",
    "\n",
    "**Compromising based on memory constraints**. In some cases (especially early in the ConvNet architectures), the amount of memory can build up very quickly with the rules of thumb presented above. For example, filtering a 224x224x3 image with three 3x3 CONV layers with 64 filters each and padding 1 would create three activation volumes of size \\[224x224x64]. This amounts to a total of about 10 million activations, or 72MB of memory (per image, for both activations and gradients). Since GPUs are often bottlenecked by memory, it may be necessary to compromise. In practice, people prefer to make the compromise at only the first CONV layer of the network. For example, one compromise might be to use a first CONV layer with filter sizes of 7x7 and stride of 2 (as seen in a ZF net). As another example, an AlexNet uses filter sizes of 11x11 and stride of 4."
   ]
  },
  {
   "cell_type": "markdown",
   "id": "645c0b55-274a-4e44-8dcf-ef36aec24fb0",
   "metadata": {},
   "source": [
    "\n",
    "# ResNet\n",
    "\n",
    "One of the drawbacks of VGG was that it couldn't go as deep as wanted because it started to lose the generalization capability (i.e, it started overfitting). This is because as a neural network gets deeper, the gradients from the loss function start to shrink to zero and thus the weights are not updated. This problem is known as the vanishing gradient problem. ResNet essentially solved this problem by using skip connections.\n",
    "\n",
    "<img src=\"resnet.png\" alt=\"A Residual Block\" />\n",
    "\n",
    "In the figure above, we can see that, in addition to the normal connections, there is a direct connection that skips some layers in the model (skip connection).  With the skip connection, the output changes from h(x) = f(wx +b) to h(x) = f(x) + x. These skip connections help as they allow an alternate shortcut path for the gradients to flow through. \n",
    "\n",
    "The idea of shortcut connections (or skip connections) allows the model to skip layers and helps to mitigate the problem of vanishing gradients. These connections allow the gradients to be directly backpropagated to earlier layers, which makes the network easier to optimize.\n",
    "\n",
    "What have those skip connections gained us? The key thing is that those extra layers, as they stand, are identity mapping, but they have parameters, which means they are trainable. So, when add the (say) 36 extra layers (in ResNet original paper), the model has the option to skip the layers, thus the new model is at least as good as the 20 layer model. Those extra 36 layers can then learn the parameters that make them most useful.\n",
    "\n",
    "<img src=\"resnets_1.png\" alt=\"Example of Residual Block\" />\n",
    "\n",
    "## Creating ResNets in Pure PyTorch\n",
    "\n",
    "First, let's define the basic building block of a ResNet, the residual block:\n",
    "\n"
   ]
  },
  {
   "cell_type": "code",
   "execution_count": 12,
   "id": "006bf205-bb1a-4151-a081-a12fe58358d3",
   "metadata": {},
   "outputs": [],
   "source": [
    "class ResBlock(nn.Module):\n",
    "    \"\"\"\n",
    "    Implements a residual block consisting in [Conv2d->BatchNorm2d->ReLU] + \n",
    "    [Conv2d->BatchNorm2d]. This residual is added to the input (then a second activation ReLU applied)\n",
    "    \n",
    "    If downsample = None (e.g, default first pass), then we obtain f(x) + x where \n",
    "    f(x) -> [Conv2d->BatchNorm2d->ReLU ->Conv2d->BatchNorm2d]. Otherwise the block is skipped. \n",
    "    \n",
    "    \"\"\"\n",
    "    def __init__(self, in_channels, out_channels, stride = 1, downsample = None):\n",
    "        super(ResBlock, self).__init__()\n",
    "        self.conv1 = nn.Sequential(\n",
    "                        nn.Conv2d(in_channels, out_channels, kernel_size = 3, \n",
    "                                  stride = stride, padding = 1),\n",
    "                        nn.BatchNorm2d(out_channels),\n",
    "                        nn.ReLU())\n",
    "        self.conv2 = nn.Sequential(\n",
    "                        nn.Conv2d(out_channels, out_channels, kernel_size = 3, \n",
    "                                  stride = 1, padding = 1),\n",
    "                        nn.BatchNorm2d(out_channels))\n",
    "        self.downsample = downsample\n",
    "        self.relu = nn.ReLU()\n",
    "        self.out_channels = out_channels\n",
    "        \n",
    "    def forward(self, x):\n",
    "        residual = x # This is the residual (in the case of no downsample)\n",
    "        out = self.conv1(x)\n",
    "        out = self.conv2(out)\n",
    "        \n",
    "        if self.downsample:  # this is the residual in the case of downsample\n",
    "            residual = self.downsample(x)\n",
    "            \n",
    "        out += residual # This is it! f(x) + x \n",
    "        out = self.relu(out)\n",
    "\n",
    "        return out\n"
   ]
  },
  {
   "cell_type": "markdown",
   "id": "3fe93435-a740-4832-b609-a0cc8d8da453",
   "metadata": {},
   "source": [
    "Below is the architecture of the 34-layer ResNet. \n",
    "As can be seen from the image below, we need to allow the model to go from 64 → 128 → 256 → 512 channels while decreasing the output size at the same time. \n",
    "\n",
    "<img src=\"fullresnet.png\" alt=\"Original Resnet Architecture\" />\n",
    "\n"
   ]
  },
  {
   "cell_type": "markdown",
   "id": "c0bb8df5-5396-4336-aa47-bc7b226846c4",
   "metadata": {},
   "source": [
    "## ResNet implementation\n",
    "\n",
    "Now, we can define the full ResNet architecture. A ResNet is composed of several of these blocks stacked on top of each other. Here is a simple implementation of a ResNet:"
   ]
  },
  {
   "cell_type": "code",
   "execution_count": 25,
   "id": "0b8c9b00-2058-4fd0-b780-6e0ffb6644b6",
   "metadata": {},
   "outputs": [],
   "source": [
    "class ResNet(nn.Module):\n",
    "    \"\"\"\n",
    "    Implements the Residual Network with 34 layers:\n",
    "    The architecture is like this:\n",
    "    1. Image (assumed 224 x 224) passes through a convolution (kernel 7x7) \n",
    "    with stride = 2 and padding = 3which increases the features from 3 to 64 and \n",
    "    reduces spatial dimensiones from 224 to (224 - 7 -2*3 +1)/2 =112, then batch normalization, \n",
    "    activation and MaxPool2d which further reduces dimensions to 56.\n",
    "    2. The layer architecture is as follows (with a skip connection between each pair of layers) \n",
    "        6 layers of convolution 3x3 with 64 features\n",
    "        8 layers of convolution 3x3 with 128 features (max pool 56 -> 28)\n",
    "        12 layers of convolution 3x3 with 256 features (max pool 28 -> 24)\n",
    "        6 layers of convolution 3x3 with 512 features (max pool 14 -> 7)\n",
    "    3. Then avgpool and fc.\n",
    "    \n",
    "    \"\"\"\n",
    "    def __init__(self, block, layers, num_classes = 10, debug=False):\n",
    "        super(ResNet, self).__init__()\n",
    "        self.debug = debug\n",
    "        self.inplanes = 64\n",
    "        self.conv1 = nn.Sequential(\n",
    "                        nn.Conv2d(3, 64, kernel_size = 7, stride = 2, padding = 3),\n",
    "                        nn.BatchNorm2d(64),\n",
    "                        nn.ReLU())\n",
    "        self.maxpool = nn.MaxPool2d(kernel_size = 3, stride = 2, padding = 1)\n",
    "        self.layer0 = self._make_layer(block, 64, layers[0], stride = 1)\n",
    "        self.layer1 = self._make_layer(block, 128, layers[1], stride = 2)\n",
    "        self.layer2 = self._make_layer(block, 256, layers[2], stride = 2)\n",
    "        self.layer3 = self._make_layer(block, 512, layers[3], stride = 2)\n",
    "        self.avgpool = nn.AvgPool2d(7, stride=1)\n",
    "        self.fc = nn.Linear(512, num_classes)\n",
    "        \n",
    "        \n",
    "    def _make_layer(self, block, planes, blocks, stride=1):\n",
    "        downsample = None\n",
    "        \n",
    "        if stride != 1 or self.inplanes != planes:\n",
    "            downsample = nn.Sequential(\n",
    "                nn.Conv2d(self.inplanes, planes, kernel_size=1, stride=stride),\n",
    "                nn.BatchNorm2d(planes),\n",
    "            )\n",
    "        if self.debug:\n",
    "            print(f\" ## make_layer: planes = {planes},  blocks = {blocks}, stride = {stride}\")\n",
    "            print(f\" ## make_layer: in_planes={self.inplanes}\")\n",
    "            print(f\" ## make_layer: downsample = {downsample}\")\n",
    "            print(f\"layer block = 0: Block(in_channels={self.inplanes}, out_channels ={planes}, stride = {stride}, downsample = {downsample}\")\n",
    "            \n",
    "        layers = []\n",
    "        layers.append(block(self.inplanes, planes, stride, downsample))\n",
    "        self.inplanes = planes\n",
    "        \n",
    "        for i in range(1, blocks):\n",
    "            layers.append(block(self.inplanes, planes))\n",
    "            if self.debug:\n",
    "                print(f\" layer block = {i}: Block(in_channels={self.inplanes}, out_channels ={planes}, stride = 1, downsample = None\")\n",
    "\n",
    "        return nn.Sequential(*layers)\n",
    "    \n",
    "    \n",
    "    def forward(self, x):\n",
    "        if(self.debug): print(f\" ResNet: input data shape =>{x.shape}\")\n",
    "            \n",
    "        x = self.conv1(x)\n",
    "        if(self.debug): print(f\" ResNet: after conv1 =>{x.shape}\")\n",
    "            \n",
    "        x = self.maxpool(x)\n",
    "        if(self.debug): print(f\" ResNet: after maxpool =>{x.shape}\")\n",
    "            \n",
    "        x = self.layer0(x)\n",
    "        if(self.debug): print(f\" ResNet: after layer0 =>{x.shape}\")\n",
    "        \n",
    "        x = self.layer1(x)\n",
    "        if(self.debug): print(f\" ResNet: after layer1 =>{x.shape}\")\n",
    "            \n",
    "        x = self.layer2(x)\n",
    "        if(self.debug): print(f\" ResNet: after layer2 =>{x.shape}\")\n",
    "            \n",
    "        x = self.layer3(x)\n",
    "        if(self.debug): print(f\" ResNet: after layer3 =>{x.shape}\")\n",
    "            \n",
    "        x = self.avgpool(x)\n",
    "        if(self.debug): print(f\" ResNet: after avgpool =>{x.shape}\")\n",
    "            \n",
    "        x = x.view(x.size(0), -1)\n",
    "        if(self.debug): print(f\" ResNet: after view =>{x.shape}\")\n",
    "            \n",
    "        x = self.fc(x)\n",
    "        if(self.debug): logging.debug(f\" ResNet: after fc =>{x.shape}\")\n",
    "\n",
    "        self.debug = False\n",
    "        return x\n"
   ]
  },
  {
   "cell_type": "markdown",
   "id": "8288e9f9-67eb-4708-90d9-ec76fc5b57f1",
   "metadata": {},
   "source": [
    "In this code, the ```_make_layer``` function is used to create each layer of the network, which consists of several residual blocks with the same output size. The stride is set to 2 for the first block of each layer (except the first layer), which reduces the spatial dimensions of the output by half, effectively making it a downsampling layer.\n",
    "\n",
    "The forward function defines the forward pass of the network. The input is passed through each layer in turn, and finally reshaped and passed through a fully connected layer to produce the output.\n",
    "\n"
   ]
  },
  {
   "cell_type": "markdown",
   "id": "94d00d6f-a8e5-42ce-924f-dbe65981084d",
   "metadata": {},
   "source": [
    "## Training the Basic Building Block in PyTorch\n",
    "\n",
    "Now that we have defined our basic building block and the complete ResNet architecture let's train our model. We will use the PyTorch library to train our ResNet on the ImageNette dataset.\n"
   ]
  },
  {
   "cell_type": "markdown",
   "id": "564757e5-90d0-47b5-b1b8-72dd94740c77",
   "metadata": {},
   "source": [
    "# CIFAR\n",
    "\n",
    "In this article, we will be using the famous [CIFAR-10](https://www.cs.toronto.edu/%7Ekriz/cifar.html?ref=blog.paperspace.com) dataset, which has become one of the the most common choice for beginner computer vision datasets. The dataset is a labeled subset of the 80 million tiny images dataset. They were collected by Alex Krizhevsky, Vinod Nair, and Geoffrey Hinton. The CIFAR-10 dataset consists of 60000 32x32 colour images in 10 classes, with 6000 images per class. There are 50000 training images and 10000 test images.\n",
    "\n",
    "The dataset is divided into five training batches and one test batch, each with 10000 images. The test batch contains exactly 1000 randomly-selected images from each class. The training batches contain the remaining images in random order, but some training batches may contain more images from one class than another. Between them, the training batches contain exactly 5000 images from each class. The classes are completely mutually exclusive. There is no overlap between automobiles and trucks. \"Automobile\" includes sedans, SUVs, and things of that sort. \"Truck\" includes only big trucks. Neither includes pickup trucks.\n"
   ]
  },
  {
   "cell_type": "code",
   "execution_count": 15,
   "id": "4fd04130-e67a-490a-8d02-dfa3f6ef9f3d",
   "metadata": {},
   "outputs": [
    {
     "name": "stdout",
     "output_type": "stream",
     "text": [
      "Files already downloaded and verified\n"
     ]
    }
   ],
   "source": [
    "# without normalization and without resizing, for display\n",
    "\n",
    "test_loader_nn = cifar_data_loader(data_dir='./data', norm=False, test=True,\n",
    "                                   batch_size=64)"
   ]
  },
  {
   "cell_type": "code",
   "execution_count": 16,
   "id": "6729c1ea-3d05-4ed0-9eda-53fb76ab3801",
   "metadata": {},
   "outputs": [
    {
     "name": "stdout",
     "output_type": "stream",
     "text": [
      "Feature batch shape: torch.Size([64, 3, 32, 32])\n",
      "Labels batch shape: torch.Size([64])\n",
      "torch.Size([3, 32, 32])\n"
     ]
    },
    {
     "data": {
      "image/png": "[encoded data removed]",
      "text/plain": [
       "<Figure size 200x200 with 1 Axes>"
      ]
     },
     "metadata": {},
     "output_type": "display_data"
    },
    {
     "name": "stdout",
     "output_type": "stream",
     "text": [
      "Label: 7\n"
     ]
    }
   ],
   "source": [
    "# Display image and label.\n",
    "plt.rcParams[\"figure.figsize\"] = 2, 2\n",
    "train_features, train_labels = next(iter(test_loader_nn))\n",
    "print(f\"Feature batch shape: {train_features.size()}\")\n",
    "print(f\"Labels batch shape: {train_labels.size()}\")\n",
    "img = train_features[0].squeeze()\n",
    "label = train_labels[0]\n",
    "print(img.shape)\n",
    "#plt.imshow(img.T)\n",
    "#print(img)\n",
    "plt.imshow(transforms.ToPILImage()(img))\n",
    "#plt.imshow(img.permute(*torch.arange(img.ndim - 1, -1, -1)))\n",
    "plt.show()\n",
    "print(f\"Label: {label}\")\n",
    "plt.rcParams[\"figure.figsize\"] = 10, 8"
   ]
  },
  {
   "cell_type": "code",
   "execution_count": 17,
   "id": "cf6815a4-9241-453d-8de4-c5b35b8b366c",
   "metadata": {},
   "outputs": [
    {
     "name": "stdout",
     "output_type": "stream",
     "text": [
      "Files already downloaded and verified\n",
      "Files already downloaded and verified\n",
      "Files already downloaded and verified\n"
     ]
    }
   ],
   "source": [
    "# CIFAR10 dataset \n",
    "train_loader_cf, valid_loader_cf = cifar_data_loader(data_dir='./data',\n",
    "                                         batch_size=64)\n",
    "\n",
    "test_loader_cf = cifar_data_loader(data_dir='./data',\n",
    "                              batch_size=64,\n",
    "                              test=True)"
   ]
  },
  {
   "cell_type": "code",
   "execution_count": 18,
   "id": "a27a7fa7-c24f-4d8f-9774-b023113720f1",
   "metadata": {},
   "outputs": [
    {
     "name": "stdout",
     "output_type": "stream",
     "text": [
      "length of train series: 704\n",
      "Feature batch shape: torch.Size([64, 3, 224, 224])\n",
      "Labels batch shape: torch.Size([64])\n"
     ]
    }
   ],
   "source": [
    "total_step = len(train_loader_cf)\n",
    "print(f\"length of train series: {total_step}\")\n",
    "train_features, train_labels = next(iter(test_loader_cf))\n",
    "print(f\"Feature batch shape: {train_features.size()}\")\n",
    "print(f\"Labels batch shape: {train_labels.size()}\")"
   ]
  },
  {
   "cell_type": "code",
   "execution_count": 26,
   "id": "44ba8f54-af0f-4804-9666-b1df62e53e1f",
   "metadata": {},
   "outputs": [
    {
     "name": "stdout",
     "output_type": "stream",
     "text": [
      " ## make_layer: planes = 64,  blocks = 3, stride = 1\n",
      " ## make_layer: in_planes=64\n",
      " ## make_layer: downsample = None\n",
      "layer block = 0: Block(in_channels=64, out_channels =64, stride = 1, downsample = None\n",
      " layer block = 1: Block(in_channels=64, out_channels =64, stride = 1, downsample = None\n",
      " layer block = 2: Block(in_channels=64, out_channels =64, stride = 1, downsample = None\n",
      " ## make_layer: planes = 128,  blocks = 4, stride = 2\n",
      " ## make_layer: in_planes=64\n",
      " ## make_layer: downsample = Sequential(\n",
      "  (0): Conv2d(64, 128, kernel_size=(1, 1), stride=(2, 2))\n",
      "  (1): BatchNorm2d(128, eps=1e-05, momentum=0.1, affine=True, track_running_stats=True)\n",
      ")\n",
      "layer block = 0: Block(in_channels=64, out_channels =128, stride = 2, downsample = Sequential(\n",
      "  (0): Conv2d(64, 128, kernel_size=(1, 1), stride=(2, 2))\n",
      "  (1): BatchNorm2d(128, eps=1e-05, momentum=0.1, affine=True, track_running_stats=True)\n",
      ")\n",
      " layer block = 1: Block(in_channels=128, out_channels =128, stride = 1, downsample = None\n",
      " layer block = 2: Block(in_channels=128, out_channels =128, stride = 1, downsample = None\n",
      " layer block = 3: Block(in_channels=128, out_channels =128, stride = 1, downsample = None\n",
      " ## make_layer: planes = 256,  blocks = 6, stride = 2\n",
      " ## make_layer: in_planes=128\n",
      " ## make_layer: downsample = Sequential(\n",
      "  (0): Conv2d(128, 256, kernel_size=(1, 1), stride=(2, 2))\n",
      "  (1): BatchNorm2d(256, eps=1e-05, momentum=0.1, affine=True, track_running_stats=True)\n",
      ")\n",
      "layer block = 0: Block(in_channels=128, out_channels =256, stride = 2, downsample = Sequential(\n",
      "  (0): Conv2d(128, 256, kernel_size=(1, 1), stride=(2, 2))\n",
      "  (1): BatchNorm2d(256, eps=1e-05, momentum=0.1, affine=True, track_running_stats=True)\n",
      ")\n",
      " layer block = 1: Block(in_channels=256, out_channels =256, stride = 1, downsample = None\n",
      " layer block = 2: Block(in_channels=256, out_channels =256, stride = 1, downsample = None\n",
      " layer block = 3: Block(in_channels=256, out_channels =256, stride = 1, downsample = None\n",
      " layer block = 4: Block(in_channels=256, out_channels =256, stride = 1, downsample = None\n",
      " layer block = 5: Block(in_channels=256, out_channels =256, stride = 1, downsample = None\n",
      " ## make_layer: planes = 512,  blocks = 3, stride = 2\n",
      " ## make_layer: in_planes=256\n",
      " ## make_layer: downsample = Sequential(\n",
      "  (0): Conv2d(256, 512, kernel_size=(1, 1), stride=(2, 2))\n",
      "  (1): BatchNorm2d(512, eps=1e-05, momentum=0.1, affine=True, track_running_stats=True)\n",
      ")\n",
      "layer block = 0: Block(in_channels=256, out_channels =512, stride = 2, downsample = Sequential(\n",
      "  (0): Conv2d(256, 512, kernel_size=(1, 1), stride=(2, 2))\n",
      "  (1): BatchNorm2d(512, eps=1e-05, momentum=0.1, affine=True, track_running_stats=True)\n",
      ")\n",
      " layer block = 1: Block(in_channels=512, out_channels =512, stride = 1, downsample = None\n",
      " layer block = 2: Block(in_channels=512, out_channels =512, stride = 1, downsample = None\n"
     ]
    }
   ],
   "source": [
    "#define the model\n",
    "model = ResNet(ResBlock, [3, 4, 6, 3], debug=True).to(device)\n"
   ]
  },
  {
   "cell_type": "code",
   "execution_count": 27,
   "id": "85ba1886-59cd-4a06-904e-811b7cf7b485",
   "metadata": {},
   "outputs": [],
   "source": [
    "# Loss and optimizer\n",
    "criterion = nn.CrossEntropyLoss()\n",
    "optimizer = torch.optim.SGD(model.parameters(), lr=0.01, weight_decay = 0.001, momentum = 0.9)  \n"
   ]
  },
  {
   "cell_type": "code",
   "execution_count": 33,
   "id": "858507d2-a6d5-4fc1-89e8-918aec486c10",
   "metadata": {},
   "outputs": [],
   "source": [
    "def single_run(train_loader, device, model, optimizer):\n",
    "    print(f\"** Run for 1 event**\")\n",
    "\n",
    "    for epoch in range(1):\n",
    "        print(f\"epoch = {epoch}\")\n",
    "    \n",
    "        for i, (images, labels) in enumerate(train_loader):  \n",
    "            if i>1: break\n",
    "            print(f\"i = {i}\")\n",
    "            print(f\"labels = {labels}\")\n",
    "            images = images.to(device)\n",
    "            labels = labels.to(device)\n",
    "            \n",
    "            model.train()\n",
    "            optimizer.zero_grad()\n",
    "            \n",
    "            # Forward pass\n",
    "            outputs = model(images)\n",
    "\n",
    "            print(f\"outputs = {outputs.data.shape}\")\n",
    "            _, predicted = torch.max(outputs.data, 1)\n",
    "            print(f\"predicted label = {predicted}\")\n",
    "            correct = (predicted == labels).sum().item()\n",
    "            print(f\"correct = {correct}\")\n",
    "            loss = criterion(outputs, labels)\n",
    "            \n",
    "            # Backward and optimize\n",
    "            \n",
    "            loss.backward()\n",
    "            optimizer.step()\n",
    "    \n",
    "            print(f\"Train Step {i + 1}/{len(train_loader)}, Loss: {loss.data.item()}\")\n",
    "                \n"
   ]
  },
  {
   "cell_type": "code",
   "execution_count": 34,
   "id": "d05de99c-03f1-4ea8-82f9-fc6100be69e6",
   "metadata": {},
   "outputs": [
    {
     "name": "stdout",
     "output_type": "stream",
     "text": [
      "** Run for 1 event**\n",
      "epoch = 0\n",
      "i = 0\n",
      "labels = tensor([2, 2, 4, 3, 7, 8, 0, 6, 1, 3, 1, 4, 5, 9, 6, 2, 8, 2, 4, 3, 3, 5, 6, 3,\n",
      "        2, 9, 6, 9, 9, 7, 1, 4, 5, 4, 6, 2, 1, 1, 3, 8, 9, 8, 2, 0, 9, 6, 5, 9,\n",
      "        9, 8, 2, 3, 7, 6, 7, 7, 7, 1, 6, 3, 5, 5, 2, 6])\n",
      "outputs = torch.Size([64, 10])\n",
      "predicted label = tensor([6, 1, 3, 1, 6, 5, 1, 1, 8, 1, 7, 5, 1, 1, 6, 1, 4, 6, 3, 5, 6, 6, 6, 6,\n",
      "        6, 1, 3, 1, 1, 6, 1, 6, 6, 1, 6, 5, 1, 4, 3, 3, 6, 1, 6, 1, 1, 1, 7, 1,\n",
      "        1, 5, 6, 1, 1, 1, 1, 8, 6, 1, 1, 1, 2, 6, 4, 4], device='mps:0')\n",
      "correct = 7\n",
      "Train Step 1/704, Loss: 2.358034133911133\n",
      "i = 1\n",
      "labels = tensor([4, 6, 5, 8, 7, 9, 4, 4, 7, 7, 4, 8, 9, 8, 9, 3, 5, 0, 5, 0, 5, 2, 1, 0,\n",
      "        4, 5, 2, 4, 5, 5, 4, 2, 9, 7, 7, 8, 1, 0, 9, 6, 9, 8, 7, 2, 2, 2, 5, 0,\n",
      "        4, 7, 6, 7, 4, 5, 1, 7, 8, 2, 6, 2, 5, 2, 9, 0])\n",
      "outputs = torch.Size([64, 10])\n",
      "predicted label = tensor([6, 3, 3, 6, 8, 8, 6, 6, 8, 8, 6, 8, 7, 8, 8, 8, 8, 9, 8, 8, 8, 4, 8, 8,\n",
      "        6, 8, 6, 2, 4, 6, 6, 6, 9, 6, 8, 8, 9, 8, 8, 6, 6, 8, 6, 4, 6, 6, 6, 8,\n",
      "        4, 8, 4, 8, 3, 8, 9, 2, 6, 4, 6, 8, 6, 6, 8, 8], device='mps:0')\n",
      "correct = 8\n",
      "Train Step 2/704, Loss: 2.2035202980041504\n"
     ]
    }
   ],
   "source": [
    "single_run(train_loader_cf, device, model, optimizer)"
   ]
  },
  {
   "cell_type": "markdown",
   "id": "01c31838-c05b-4507-a8d0-42477cd44fa3",
   "metadata": {},
   "source": [
    "## Imagenette"
   ]
  },
  {
   "cell_type": "code",
   "execution_count": 35,
   "id": "13666bb2-8422-40b5-afb4-2424d5c7d1ab",
   "metadata": {},
   "outputs": [
    {
     "name": "stdout",
     "output_type": "stream",
     "text": [
      "Reading imaginette\n",
      "case test and norm false\n"
     ]
    }
   ],
   "source": [
    "# without normalization and without resizing, for display\n",
    "\n",
    "test_loader_nn = imagenette_data_loader(norm=False, test=True)"
   ]
  },
  {
   "cell_type": "code",
   "execution_count": 36,
   "id": "b3af3f61-f5f0-4f56-8f00-937040b995c2",
   "metadata": {},
   "outputs": [
    {
     "data": {
      "text/plain": [
       "(torch.Size([32, 3, 128, 128]), torch.float32)"
      ]
     },
     "execution_count": 36,
     "metadata": {},
     "output_type": "execute_result"
    }
   ],
   "source": [
    "batch_features, batch_labels  = next(iter(test_loader_nn))\n",
    "batch_features.shape, batch_features.dtype"
   ]
  },
  {
   "cell_type": "code",
   "execution_count": 37,
   "id": "4a4ef67c-5a62-4dd8-9173-54057ae7f12a",
   "metadata": {},
   "outputs": [
    {
     "data": {
      "text/plain": [
       "torch.Size([3, 128, 128])"
      ]
     },
     "execution_count": 37,
     "metadata": {},
     "output_type": "execute_result"
    }
   ],
   "source": [
    "(batch_features[0].squeeze()).shape"
   ]
  },
  {
   "cell_type": "code",
   "execution_count": 38,
   "id": "6e45edb2-e896-4b24-8cd3-d82f70900a77",
   "metadata": {},
   "outputs": [
    {
     "data": {
      "text/plain": [
       "(torch.Size([32]), torch.int64)"
      ]
     },
     "execution_count": 38,
     "metadata": {},
     "output_type": "execute_result"
    }
   ],
   "source": [
    "batch_labels.shape, batch_labels.dtype"
   ]
  },
  {
   "cell_type": "code",
   "execution_count": 39,
   "id": "b41a1724-67b4-497c-9031-d7847583f4e6",
   "metadata": {},
   "outputs": [
    {
     "data": {
      "text/plain": [
       "0"
      ]
     },
     "execution_count": 39,
     "metadata": {},
     "output_type": "execute_result"
    }
   ],
   "source": [
    "batch_labels[0].item()"
   ]
  },
  {
   "cell_type": "code",
   "execution_count": 40,
   "id": "1a0d5601-a97f-4ccc-adcf-ca228df4a98c",
   "metadata": {},
   "outputs": [
    {
     "name": "stdout",
     "output_type": "stream",
     "text": [
      "torch.Size([3, 128, 128])\n"
     ]
    },
    {
     "data": {
      "image/png": "[encoded data removed]",
      "text/plain": [
       "<Figure size 200x200 with 1 Axes>"
      ]
     },
     "metadata": {},
     "output_type": "display_data"
    },
    {
     "name": "stdout",
     "output_type": "stream",
     "text": [
      "Label: 0\n"
     ]
    }
   ],
   "source": [
    "# Display image and label.\n",
    "plt.rcParams[\"figure.figsize\"] = 2, 2\n",
    "img = batch_features[0].squeeze()\n",
    "label = batch_labels[0].item()\n",
    "print(img.shape)\n",
    "#plt.imshow(img.T)\n",
    "#print(img)\n",
    "plt.imshow(transforms.ToPILImage()(img))\n",
    "#plt.imshow(img.permute(*torch.arange(img.ndim - 1, -1, -1)))\n",
    "plt.show()\n",
    "print(f\"Label: {label}\")\n",
    "plt.rcParams[\"figure.figsize\"] = 10, 8"
   ]
  },
  {
   "cell_type": "code",
   "execution_count": 41,
   "id": "b18b918d-6e2b-42f5-8614-8f8919a08f0f",
   "metadata": {},
   "outputs": [
    {
     "name": "stdout",
     "output_type": "stream",
     "text": [
      "Reading imaginette\n"
     ]
    }
   ],
   "source": [
    "trainloader_im, testloader_im = imagenette_data_loader()"
   ]
  },
  {
   "cell_type": "code",
   "execution_count": 42,
   "id": "a40dfb0e-7430-4f3e-bcbc-91f32eb84fec",
   "metadata": {},
   "outputs": [
    {
     "name": "stdout",
     "output_type": "stream",
     "text": [
      "** Run for 1 event**\n",
      "epoch = 0\n",
      "i = 0\n",
      "labels = tensor([8, 9, 9, 1, 4, 2, 4, 1, 7, 2, 6, 7, 8, 8, 9, 3, 1, 0, 1, 9, 7, 6, 3, 8,\n",
      "        3, 6, 3, 6, 9, 2, 4, 5])\n",
      "outputs = torch.Size([32, 10])\n",
      "predicted label = tensor([7, 2, 9, 2, 7, 9, 2, 4, 7, 9, 2, 2, 4, 8, 2, 7, 2, 7, 2, 4, 4, 8, 2, 4,\n",
      "        8, 2, 8, 7, 9, 4, 7, 9], device='mps:0')\n",
      "correct = 4\n",
      "Train Step 1/296, Loss: 2.4964354038238525\n",
      "i = 1\n",
      "labels = tensor([6, 7, 1, 8, 6, 4, 4, 9, 1, 3, 2, 0, 4, 9, 1, 8, 5, 8, 7, 7, 2, 9, 6, 6,\n",
      "        9, 8, 5, 6, 7, 4, 7, 4])\n",
      "outputs = torch.Size([32, 10])\n",
      "predicted label = tensor([9, 4, 4, 2, 2, 9, 9, 4, 4, 2, 4, 7, 2, 9, 4, 4, 4, 4, 4, 4, 2, 9, 7, 9,\n",
      "        9, 4, 7, 4, 4, 8, 4, 4], device='mps:0')\n",
      "correct = 5\n",
      "Train Step 2/296, Loss: 2.5212342739105225\n"
     ]
    }
   ],
   "source": [
    "single_run(trainloader_im, device, model, optimizer)"
   ]
  },
  {
   "cell_type": "code",
   "execution_count": 44,
   "id": "da574959-c2b7-40b4-a44e-8d4d768b36d9",
   "metadata": {},
   "outputs": [],
   "source": [
    "num_classes = 10\n",
    "num_epochs = 5\n",
    "batch_size = 32\n",
    "learning_rate = 0.01\n"
   ]
  },
  {
   "cell_type": "code",
   "execution_count": 45,
   "id": "963b2847-34a5-4b3b-8244-04249854a2a8",
   "metadata": {},
   "outputs": [],
   "source": [
    "#define the model\n",
    "model = ResNet(ResBlock, [3, 4, 6, 3], debug=False).to(device)\n",
    "# Loss and optimizer\n",
    "criterion = nn.CrossEntropyLoss()\n",
    "optimizer = torch.optim.SGD(model.parameters(), lr=learning_rate, weight_decay = 0.001, momentum = 0.9)  \n"
   ]
  },
  {
   "cell_type": "code",
   "execution_count": 54,
   "id": "83c708fc-16be-4f36-8988-68a3ad767704",
   "metadata": {},
   "outputs": [],
   "source": [
    "def train_cnn(train_loader, val_loader, model, optimizer, device, criterion, \n",
    "              iprnt=100, epochs=10):\n",
    "    \"\"\"\n",
    "    train the CNN\n",
    "    \"\"\"\n",
    "    train_losses, val_losses, acc = [], [], []\n",
    "    print(f\"Running for epochs ->{epochs}\")\n",
    "    \n",
    "    for epoch in range(epochs):\n",
    "        train_losses_epoch, val_losses_epoch = [], []\n",
    "\n",
    "        print(f\"\\nEPOCH {epoch}\")\n",
    "\n",
    "        print(f\"Training step: size of sample {len(train_loader)}\")\n",
    "        for i, (images, labels) in enumerate(train_loader):\n",
    "\n",
    "            images = images.to(device)\n",
    "            labels = labels.to(device)\n",
    "\n",
    "            model.train()  #Sets the module in training mode.\n",
    "            \n",
    "            # zero the parameter gradients\n",
    "            optimizer.zero_grad()\n",
    "            \n",
    "            outputs = model(images) # image --> model --> (x,y,z)\n",
    "            loss = criterion(outputs, labels) # compare labels with predictions\n",
    "            loss.backward()  # backward pass\n",
    "            optimizer.step()\n",
    "            \n",
    "            train_losses_epoch.append(loss.data.item())\n",
    "            if((i+1) % (iprnt) == 0):\n",
    "                print(f\"Train Step {i + 1}/{len(train_loader)}, Loss: {loss.data.item()}\")\n",
    "                \n",
    "        \n",
    "        # Validation step\n",
    "        with torch.no_grad():  #gradients do not change\n",
    "            model.eval()       # Sets the module in evaluation mode.\n",
    "            correct = 0\n",
    "            total = 0\n",
    "            print(f\"Validation step: size of sample {len(val_loader)}\")\n",
    "            for i, (images, labels) in enumerate(val_loader):\n",
    "\n",
    "                images = images.to(device)\n",
    "                labels = labels.to(device)\n",
    "\n",
    "                outputs = model(images)\n",
    "                loss = criterion(outputs, labels)\n",
    "                val_losses_epoch.append(loss.data.item())\n",
    "                \n",
    "                if((i+1) % (iprnt) == 0):\n",
    "                    logging.debug(f\"Validation Step {i + 1}/{len(val_loader)}, Loss: {loss.data.item()}\")\n",
    "\n",
    "                _, predicted = torch.max(outputs.data, 1)\n",
    "                total += labels.size(0)\n",
    "                correct += (predicted == labels).sum().item()\n",
    "\n",
    "        train_losses.append(np.mean(train_losses_epoch))\n",
    "        val_losses.append(np.mean(val_losses_epoch))\n",
    "        acc.append(100 * correct / total)\n",
    "        \n",
    "        print(f\"--- EPOCH {epoch} AVG TRAIN LOSS: {np.mean(train_losses_epoch)}\")\n",
    "        print(f\"--- EPOCH {epoch} AVG VAL LOSS: {np.mean(val_losses_epoch)}\")\n",
    "        print(f'Accuracy on the {len(val_loader)} validation images: {100 * correct / total} %') \n",
    "    \n",
    "    return train_losses, val_losses, acc\n"
   ]
  },
  {
   "cell_type": "code",
   "execution_count": 55,
   "id": "7767359f-937d-4785-8635-df2cdcd9aed4",
   "metadata": {},
   "outputs": [],
   "source": [
    "# CIFAR run"
   ]
  },
  {
   "cell_type": "code",
   "execution_count": 56,
   "id": "82802778-1040-468b-9bfe-839b3612b01b",
   "metadata": {},
   "outputs": [
    {
     "name": "stdout",
     "output_type": "stream",
     "text": [
      "Running for epochs ->5\n",
      "\n",
      "EPOCH 0\n",
      "Training step: size of sample 704\n",
      "Train Step 100/704, Loss: 0.6570014953613281\n",
      "Train Step 200/704, Loss: 0.6553725004196167\n",
      "Train Step 300/704, Loss: 0.6198410987854004\n",
      "Train Step 400/704, Loss: 0.798586368560791\n",
      "Train Step 500/704, Loss: 0.7279900312423706\n",
      "Train Step 600/704, Loss: 0.566392719745636\n",
      "Train Step 700/704, Loss: 0.4475692808628082\n",
      "Validation step: size of sample 157\n",
      "--- EPOCH 0 AVG TRAIN LOSS: 0.6768143937330354\n",
      "--- EPOCH 0 AVG VAL LOSS: 0.713763211942782\n",
      "Accuracy on the 157 validation images: 75.98 %\n",
      "\n",
      "EPOCH 1\n",
      "Training step: size of sample 704\n",
      "Train Step 100/704, Loss: 0.45128095149993896\n",
      "Train Step 200/704, Loss: 0.3641168475151062\n",
      "Train Step 300/704, Loss: 0.7854185104370117\n",
      "Train Step 400/704, Loss: 0.6365230083465576\n",
      "Train Step 500/704, Loss: 0.7761870622634888\n",
      "Train Step 600/704, Loss: 0.5050977468490601\n",
      "Train Step 700/704, Loss: 0.688204288482666\n",
      "Validation step: size of sample 157\n",
      "--- EPOCH 1 AVG TRAIN LOSS: 0.5397435309026729\n",
      "--- EPOCH 1 AVG VAL LOSS: 0.5991393718749854\n",
      "Accuracy on the 157 validation images: 79.62 %\n",
      "\n",
      "EPOCH 2\n",
      "Training step: size of sample 704\n",
      "Train Step 100/704, Loss: 0.5352269411087036\n",
      "Train Step 200/704, Loss: 0.4335574507713318\n",
      "Train Step 300/704, Loss: 0.46162909269332886\n",
      "Train Step 400/704, Loss: 0.4416409730911255\n",
      "Train Step 500/704, Loss: 0.5905526876449585\n",
      "Train Step 600/704, Loss: 0.5148533582687378\n",
      "Train Step 700/704, Loss: 0.39236730337142944\n",
      "Validation step: size of sample 157\n",
      "--- EPOCH 2 AVG TRAIN LOSS: 0.46341655121862213\n",
      "--- EPOCH 2 AVG VAL LOSS: 0.6578566390237991\n",
      "Accuracy on the 157 validation images: 78.22 %\n",
      "\n",
      "EPOCH 3\n",
      "Training step: size of sample 704\n",
      "Train Step 100/704, Loss: 0.2878476679325104\n",
      "Train Step 200/704, Loss: 0.2910606861114502\n",
      "Train Step 300/704, Loss: 0.26937487721443176\n",
      "Train Step 400/704, Loss: 0.25047677755355835\n",
      "Train Step 500/704, Loss: 0.46358346939086914\n",
      "Train Step 600/704, Loss: 0.31501346826553345\n",
      "Train Step 700/704, Loss: 0.3360052704811096\n",
      "Validation step: size of sample 157\n",
      "--- EPOCH 3 AVG TRAIN LOSS: 0.3961344566407867\n",
      "--- EPOCH 3 AVG VAL LOSS: 0.6076652475982715\n",
      "Accuracy on the 157 validation images: 79.74 %\n",
      "\n",
      "EPOCH 4\n",
      "Training step: size of sample 704\n",
      "Train Step 100/704, Loss: 0.1768561601638794\n",
      "Train Step 200/704, Loss: 0.34148767590522766\n",
      "Train Step 300/704, Loss: 0.20124360918998718\n",
      "Train Step 400/704, Loss: 0.2038862258195877\n",
      "Train Step 500/704, Loss: 0.14380669593811035\n",
      "Train Step 600/704, Loss: 0.40065979957580566\n",
      "Train Step 700/704, Loss: 0.31591668725013733\n",
      "Validation step: size of sample 157\n",
      "--- EPOCH 4 AVG TRAIN LOSS: 0.32634171449833294\n",
      "--- EPOCH 4 AVG VAL LOSS: 0.8138173152307037\n",
      "Accuracy on the 157 validation images: 75.38 %\n"
     ]
    }
   ],
   "source": [
    "train_losses, val_losses, acc = train_cnn(train_loader_cf, test_loader_cf, model, optimizer, device, criterion, \n",
    "                                     epochs=5, iprnt=100)"
   ]
  },
  {
   "cell_type": "code",
   "execution_count": 57,
   "id": "b5998419-667c-4af8-ab87-83a061207373",
   "metadata": {},
   "outputs": [
    {
     "data": {
      "text/plain": [
       "[75.98, 79.62, 78.22, 79.74, 75.38]"
      ]
     },
     "execution_count": 57,
     "metadata": {},
     "output_type": "execute_result"
    }
   ],
   "source": [
    "acc"
   ]
  },
  {
   "cell_type": "code",
   "execution_count": 58,
   "id": "2a1810cc-2181-44e0-9462-7046cb11ec7a",
   "metadata": {},
   "outputs": [],
   "source": [
    "# IMAGENETTE run"
   ]
  },
  {
   "cell_type": "code",
   "execution_count": 60,
   "id": "703ff63f-d40a-4163-bbd0-105564125874",
   "metadata": {},
   "outputs": [
    {
     "name": "stdout",
     "output_type": "stream",
     "text": [
      "Running for epochs ->5\n",
      "\n",
      "EPOCH 0\n",
      "Training step: size of sample 296\n",
      "Train Step 50/296, Loss: 1.0985435247421265\n",
      "Train Step 100/296, Loss: 1.3814918994903564\n",
      "Train Step 150/296, Loss: 0.9700369834899902\n",
      "Train Step 200/296, Loss: 0.9032450914382935\n",
      "Train Step 250/296, Loss: 1.0057369470596313\n",
      "Validation step: size of sample 123\n",
      "--- EPOCH 0 AVG TRAIN LOSS: 1.2560687312805974\n",
      "--- EPOCH 0 AVG VAL LOSS: 0.9586209107220658\n",
      "Accuracy on the 123 validation images: 69.14649681528662 %\n",
      "\n",
      "EPOCH 1\n",
      "Training step: size of sample 296\n",
      "Train Step 50/296, Loss: 0.8751517534255981\n",
      "Train Step 100/296, Loss: 0.7691064476966858\n",
      "Train Step 150/296, Loss: 0.7780991792678833\n",
      "Train Step 200/296, Loss: 0.8636380434036255\n",
      "Train Step 250/296, Loss: 0.7194346785545349\n",
      "Validation step: size of sample 123\n",
      "--- EPOCH 1 AVG TRAIN LOSS: 0.8305900157303423\n",
      "--- EPOCH 1 AVG VAL LOSS: 0.9103185192840856\n",
      "Accuracy on the 123 validation images: 69.8343949044586 %\n",
      "\n",
      "EPOCH 2\n",
      "Training step: size of sample 296\n",
      "Train Step 50/296, Loss: 0.4282376170158386\n",
      "Train Step 100/296, Loss: 0.9930086135864258\n",
      "Train Step 150/296, Loss: 0.6340578198432922\n",
      "Train Step 200/296, Loss: 0.4386416971683502\n",
      "Train Step 250/296, Loss: 0.55357825756073\n",
      "Validation step: size of sample 123\n",
      "--- EPOCH 2 AVG TRAIN LOSS: 0.7096485229259407\n",
      "--- EPOCH 2 AVG VAL LOSS: 1.0135421328004297\n",
      "Accuracy on the 123 validation images: 69.63057324840764 %\n",
      "\n",
      "EPOCH 3\n",
      "Training step: size of sample 296\n",
      "Train Step 50/296, Loss: 1.088358998298645\n",
      "Train Step 100/296, Loss: 0.49707362055778503\n",
      "Train Step 150/296, Loss: 0.803221583366394\n",
      "Train Step 200/296, Loss: 0.8391531109809875\n",
      "Train Step 250/296, Loss: 0.6484975814819336\n",
      "Validation step: size of sample 123\n",
      "--- EPOCH 3 AVG TRAIN LOSS: 0.6510263165912112\n",
      "--- EPOCH 3 AVG VAL LOSS: 0.7995338718581005\n",
      "Accuracy on the 123 validation images: 73.52866242038216 %\n",
      "\n",
      "EPOCH 4\n",
      "Training step: size of sample 296\n",
      "Train Step 50/296, Loss: 0.5384414196014404\n",
      "Train Step 100/296, Loss: 0.5854297876358032\n",
      "Train Step 150/296, Loss: 0.19549813866615295\n",
      "Train Step 200/296, Loss: 0.6327981948852539\n",
      "Train Step 250/296, Loss: 0.6696045398712158\n",
      "Validation step: size of sample 123\n",
      "--- EPOCH 4 AVG TRAIN LOSS: 0.5542187626800827\n",
      "--- EPOCH 4 AVG VAL LOSS: 0.7849701095402726\n",
      "Accuracy on the 123 validation images: 75.56687898089172 %\n"
     ]
    }
   ],
   "source": [
    "train_losses2, val_losses2, acc2 = train_cnn(trainloader_im, testloader_im, model, optimizer, device, criterion, \n",
    "                                     epochs=5, iprnt=50)"
   ]
  },
  {
   "cell_type": "markdown",
   "id": "6ac119ff-665a-4555-b4b7-ae4d46494a9d",
   "metadata": {},
   "source": [
    "## Using wandb"
   ]
  },
  {
   "cell_type": "code",
   "execution_count": 61,
   "id": "5ba5475d-89e6-46c9-8028-1b7a4a6a04d8",
   "metadata": {},
   "outputs": [],
   "source": [
    "import wandb"
   ]
  },
  {
   "cell_type": "code",
   "execution_count": 62,
   "id": "10feeb0d-2981-4e70-a76e-ea9c071c664d",
   "metadata": {},
   "outputs": [
    {
     "name": "stderr",
     "output_type": "stream",
     "text": [
      "\u001b[34m\u001b[1mwandb\u001b[0m: Currently logged in as: \u001b[33mjjgomezcadenas\u001b[0m (\u001b[33mdipc\u001b[0m). Use \u001b[1m`wandb login --relogin`\u001b[0m to force relogin\n"
     ]
    },
    {
     "data": {
      "text/html": [
       "Tracking run with wandb version 0.16.1"
      ],
      "text/plain": [
       "<IPython.core.display.HTML object>"
      ]
     },
     "metadata": {},
     "output_type": "display_data"
    },
    {
     "data": {
      "text/html": [
       "Run data is saved locally in <code>/Users/jjgomezcadenas/Projects/pymono/notebooks/tutorials/wandb/run-20240107_094037-t8qqpeez</code>"
      ],
      "text/plain": [
       "<IPython.core.display.HTML object>"
      ]
     },
     "metadata": {},
     "output_type": "display_data"
    },
    {
     "data": {
      "text/html": [
       "Syncing run <strong><a href='https://wandb.ai/dipc/resnet-tutorial/runs/t8qqpeez' target=\"_blank\">treasured-wind-1</a></strong> to <a href='https://wandb.ai/dipc/resnet-tutorial' target=\"_blank\">Weights & Biases</a> (<a href='https://wandb.me/run' target=\"_blank\">docs</a>)<br/>"
      ],
      "text/plain": [
       "<IPython.core.display.HTML object>"
      ]
     },
     "metadata": {},
     "output_type": "display_data"
    },
    {
     "data": {
      "text/html": [
       " View project at <a href='https://wandb.ai/dipc/resnet-tutorial' target=\"_blank\">https://wandb.ai/dipc/resnet-tutorial</a>"
      ],
      "text/plain": [
       "<IPython.core.display.HTML object>"
      ]
     },
     "metadata": {},
     "output_type": "display_data"
    },
    {
     "data": {
      "text/html": [
       " View run at <a href='https://wandb.ai/dipc/resnet-tutorial/runs/t8qqpeez' target=\"_blank\">https://wandb.ai/dipc/resnet-tutorial/runs/t8qqpeez</a>"
      ],
      "text/plain": [
       "<IPython.core.display.HTML object>"
      ]
     },
     "metadata": {},
     "output_type": "display_data"
    },
    {
     "data": {
      "text/html": [
       "<button onClick=\"this.nextSibling.style.display='block';this.style.display='none';\">Display W&B run</button><iframe src='https://wandb.ai/dipc/resnet-tutorial/runs/t8qqpeez?jupyter=true' style='border:none;width:100%;height:420px;display:none;'></iframe>"
      ],
      "text/plain": [
       "<wandb.sdk.wandb_run.Run at 0x364ae7550>"
      ]
     },
     "execution_count": 62,
     "metadata": {},
     "output_type": "execute_result"
    }
   ],
   "source": [
    "# Initialize wandb\n",
    "wandb.init(project=\"resnet-tutorial\")\n"
   ]
  },
  {
   "cell_type": "code",
   "execution_count": 89,
   "id": "6d7c1d41-5adc-4676-8a62-2324ffe07e3b",
   "metadata": {},
   "outputs": [],
   "source": [
    "config={\n",
    "          \"dataset\": \"Imagenette\",\n",
    "          \"num_classes\": 10,\n",
    "          \"epochs\": 10,\n",
    "          \"learning_rate\": 0.01,\n",
    "          \"weight_decay\": 0.001,\n",
    "          \"momentum\": 0.9,\n",
    "          \"batch_size\": 64,\n",
    "          \"architecture\": \"Resnet34\",\n",
    "        \n",
    "      }\n",
    "project = \"resnet-tutorial\"\n",
    "run =\"imagnette-run\""
   ]
  },
  {
   "cell_type": "code",
   "execution_count": 90,
   "id": "fec47e59-5693-4fe9-831c-374358df1952",
   "metadata": {},
   "outputs": [
    {
     "data": {
      "text/plain": [
       "{'dataset': 'Imagenette',\n",
       " 'num_classes': 10,\n",
       " 'epochs': 10,\n",
       " 'learning_rate': 0.01,\n",
       " 'weight_decay': 0.001,\n",
       " 'momentum': 0.9,\n",
       " 'batch_size': 64,\n",
       " 'architecture': 'Resnet34'}"
      ]
     },
     "execution_count": 90,
     "metadata": {},
     "output_type": "execute_result"
    }
   ],
   "source": [
    "config"
   ]
  },
  {
   "cell_type": "code",
   "execution_count": 91,
   "id": "4b3539db-9b93-4c2d-95a1-3cd3e9c0b958",
   "metadata": {},
   "outputs": [],
   "source": [
    "configx = namedtuple(\"configx\", \"dataset num_classes epochs learning_rate weight_decay momentum batch_size architecture  \")"
   ]
  },
  {
   "cell_type": "code",
   "execution_count": 92,
   "id": "9994f094-1a0d-419f-b193-625423aa4f00",
   "metadata": {},
   "outputs": [
    {
     "data": {
      "text/plain": [
       "configx(dataset='Imagenette', num_classes=10, epochs=10, learning_rate=0.01, weight_decay=0.001, momentum=0.9, batch_size=64, architecture='Resnet34')"
      ]
     },
     "execution_count": 92,
     "metadata": {},
     "output_type": "execute_result"
    }
   ],
   "source": [
    "configx(**config)"
   ]
  },
  {
   "cell_type": "code",
   "execution_count": 118,
   "id": "22965e80-4ba7-4725-9407-6ff5016085da",
   "metadata": {},
   "outputs": [],
   "source": [
    "from tqdm.auto import tqdm\n"
   ]
  },
  {
   "cell_type": "code",
   "execution_count": null,
   "id": "046c62b8-a637-42e5-ac77-fd484d93b535",
   "metadata": {},
   "outputs": [],
   "source": []
  },
  {
   "cell_type": "code",
   "execution_count": 110,
   "id": "ad6ab56e-43f2-4840-a77f-33839bbc8764",
   "metadata": {},
   "outputs": [],
   "source": [
    "def model_pipeline(hyperparameters):\n",
    "\n",
    "    # tell wandb to get started\n",
    "    with wandb.init(project=\"resent34-im\", config=hyperparameters):\n",
    "      # access all HPs through wandb.config, so logging matches execution!\n",
    "      config = wandb.config\n",
    "\n",
    "      # make the model, data, and optimization problem\n",
    "      model, train_loader, test_loader, criterion, optimizer = make(config)\n",
    "      #print(model)\n",
    "\n",
    "      # and use them to train the model\n",
    "      train(model, train_loader, criterion, optimizer, config)\n",
    "\n",
    "      # and test its final performance\n",
    "      test(model, test_loader)\n",
    "\n",
    "    return model"
   ]
  },
  {
   "cell_type": "code",
   "execution_count": 111,
   "id": "60e9f1a6-8a69-4dc5-a60b-0fef9dee761a",
   "metadata": {},
   "outputs": [],
   "source": [
    "def make(config):\n",
    "    # Make the data\n",
    "    ##train, test = get_data(train=True), get_data(train=False)\n",
    "    #train_loader = make_loader(train, batch_size=config.batch_size)\n",
    "    #test_loader = make_loader(test, batch_size=config.batch_size)\n",
    "\n",
    "    train_loader, test_loader =  imagenette_data_loader(batch_size=config.batch_size)\n",
    "\n",
    "    # Make the model\n",
    "    model = ResNet(ResBlock, [3, 4, 6, 3], debug=False).to(device)\n",
    "    # Loss and optimizer\n",
    "    criterion = nn.CrossEntropyLoss()\n",
    "    optimizer = torch.optim.SGD(model.parameters(), \n",
    "                                lr=config.learning_rate, \n",
    "                                weight_decay = config.weight_decay, \n",
    "                                momentum = config.momentum)  \n",
    "   \n",
    "    return model, train_loader, test_loader, criterion, optimizer\n"
   ]
  },
  {
   "cell_type": "code",
   "execution_count": 112,
   "id": "1b541cad-03c3-45cd-9536-b5e636d0392f",
   "metadata": {},
   "outputs": [
    {
     "name": "stdout",
     "output_type": "stream",
     "text": [
      "Reading imaginette\n"
     ]
    }
   ],
   "source": [
    "model, train_loader, test_loader, criterion, optimizer = make(configx(**config))"
   ]
  },
  {
   "cell_type": "code",
   "execution_count": 113,
   "id": "9b91aaa7-459d-41c2-ba50-01be02390624",
   "metadata": {},
   "outputs": [],
   "source": [
    "def train(model, loader, criterion, optimizer, config):\n",
    "    # tell wandb to watch what the model gets up to: gradients, weights, and more!\n",
    "    wandb.watch(model, criterion, log=\"all\", log_freq=10)\n",
    "\n",
    "    # Run training and track with wandb\n",
    "    total_batches = len(loader) * config.epochs\n",
    "    example_ct = 0  # number of examples seen\n",
    "    batch_ct = 0\n",
    "    for epoch in tqdm(range(config.epochs)):\n",
    "        for _, (images, labels) in enumerate(loader):\n",
    "\n",
    "            loss = train_batch(images, labels, model, optimizer, criterion)\n",
    "            example_ct +=  len(images)\n",
    "            batch_ct += 1\n",
    "\n",
    "            # Report metrics every 25th batch\n",
    "            if ((batch_ct + 1) % 25) == 0:\n",
    "                train_log(loss, example_ct, epoch)\n"
   ]
  },
  {
   "cell_type": "code",
   "execution_count": 114,
   "id": "5c5631bd-7f2a-432e-a4dc-7e360ef156aa",
   "metadata": {},
   "outputs": [],
   "source": [
    "def train_batch(images, labels, model, optimizer, criterion):\n",
    "    images, labels = images.to(device), labels.to(device)\n",
    "    \n",
    "    model.train()\n",
    "    \n",
    "    # Forward pass ➡\n",
    "    outputs = model(images)\n",
    "    loss = criterion(outputs, labels)\n",
    "    \n",
    "    # Backward pass ⬅\n",
    "    optimizer.zero_grad()\n",
    "    loss.backward()\n",
    "\n",
    "    # Step with optimizer\n",
    "    optimizer.step()\n",
    "\n",
    "    return loss"
   ]
  },
  {
   "cell_type": "code",
   "execution_count": 115,
   "id": "44cc5a28-7370-4b54-884e-10a8c8fe85a7",
   "metadata": {},
   "outputs": [],
   "source": [
    "def train_log(loss, example_ct, epoch):\n",
    "    loss = float(loss)\n",
    "\n",
    "    # where the magic happens\n",
    "    wandb.log({\"epoch\": epoch, \"loss\": loss}, step=example_ct)\n",
    "    print(f\"Loss after \" + str(example_ct).zfill(5) + f\" examples: {loss:.3f}\")\n",
    " "
   ]
  },
  {
   "cell_type": "code",
   "execution_count": 116,
   "id": "6f999d3a-a415-413f-9880-32c645ded013",
   "metadata": {},
   "outputs": [],
   "source": [
    "def test(model, test_loader):\n",
    "    model.eval()\n",
    "\n",
    "    # Run the model on some test examples\n",
    "    with torch.no_grad():\n",
    "        correct, total = 0, 0\n",
    "        for images, labels in test_loader:\n",
    "            images, labels = images.to(device), labels.to(device)\n",
    "            outputs = model(images)\n",
    "            _, predicted = torch.max(outputs.data, 1)\n",
    "            total += labels.size(0)\n",
    "            correct += (predicted == labels).sum().item()\n",
    "\n",
    "        print(f\"Accuracy of the model on the {total} \" +\n",
    "              f\"test images: {correct / total:%}\")\n",
    "        \n",
    "        wandb.log({\"test_accuracy\": correct / total})\n",
    "\n",
    "    # Save the model in the exchangeable ONNX format\n",
    "    \n",
    "   torch.onnx.export(model, images, \"resnet34_im.onnx\")\n",
    "    wandb.save(\"resnet34_im.onnx\")  "
   ]
  },
  {
   "cell_type": "code",
   "execution_count": 122,
   "id": "baf102d1-93ac-468d-9c6b-0f18f1d662c2",
   "metadata": {},
   "outputs": [
    {
     "data": {
      "application/vnd.jupyter.widget-view+json": {
       "model_id": "47ec3224169b4efd807e455e915b1c9e",
       "version_major": 2,
       "version_minor": 0
      },
      "text/plain": [
       "VBox(children=(Label(value='Waiting for wandb.init()...\\r'), FloatProgress(value=0.01116910232231021, max=1.0)…"
      ]
     },
     "metadata": {},
     "output_type": "display_data"
    },
    {
     "data": {
      "text/html": [
       "Tracking run with wandb version 0.16.1"
      ],
      "text/plain": [
       "<IPython.core.display.HTML object>"
      ]
     },
     "metadata": {},
     "output_type": "display_data"
    },
    {
     "data": {
      "text/html": [
       "Run data is saved locally in <code>/Users/jjgomezcadenas/Projects/pymono/notebooks/tutorials/wandb/run-20240107_122833-r5dvo6m1</code>"
      ],
      "text/plain": [
       "<IPython.core.display.HTML object>"
      ]
     },
     "metadata": {},
     "output_type": "display_data"
    },
    {
     "data": {
      "text/html": [
       "Syncing run <strong><a href='https://wandb.ai/dipc/resent34-im/runs/r5dvo6m1' target=\"_blank\">whole-glitter-4</a></strong> to <a href='https://wandb.ai/dipc/resent34-im' target=\"_blank\">Weights & Biases</a> (<a href='https://wandb.me/run' target=\"_blank\">docs</a>)<br/>"
      ],
      "text/plain": [
       "<IPython.core.display.HTML object>"
      ]
     },
     "metadata": {},
     "output_type": "display_data"
    },
    {
     "data": {
      "text/html": [
       " View project at <a href='https://wandb.ai/dipc/resent34-im' target=\"_blank\">https://wandb.ai/dipc/resent34-im</a>"
      ],
      "text/plain": [
       "<IPython.core.display.HTML object>"
      ]
     },
     "metadata": {},
     "output_type": "display_data"
    },
    {
     "data": {
      "text/html": [
       " View run at <a href='https://wandb.ai/dipc/resent34-im/runs/r5dvo6m1' target=\"_blank\">https://wandb.ai/dipc/resent34-im/runs/r5dvo6m1</a>"
      ],
      "text/plain": [
       "<IPython.core.display.HTML object>"
      ]
     },
     "metadata": {},
     "output_type": "display_data"
    },
    {
     "name": "stdout",
     "output_type": "stream",
     "text": [
      "Reading imaginette\n",
      "ResNet(\n",
      "  (conv1): Sequential(\n",
      "    (0): Conv2d(3, 64, kernel_size=(7, 7), stride=(2, 2), padding=(3, 3))\n",
      "    (1): BatchNorm2d(64, eps=1e-05, momentum=0.1, affine=True, track_running_stats=True)\n",
      "    (2): ReLU()\n",
      "  )\n",
      "  (maxpool): MaxPool2d(kernel_size=3, stride=2, padding=1, dilation=1, ceil_mode=False)\n",
      "  (layer0): Sequential(\n",
      "    (0): ResBlock(\n",
      "      (conv1): Sequential(\n",
      "        (0): Conv2d(64, 64, kernel_size=(3, 3), stride=(1, 1), padding=(1, 1))\n",
      "        (1): BatchNorm2d(64, eps=1e-05, momentum=0.1, affine=True, track_running_stats=True)\n",
      "        (2): ReLU()\n",
      "      )\n",
      "      (conv2): Sequential(\n",
      "        (0): Conv2d(64, 64, kernel_size=(3, 3), stride=(1, 1), padding=(1, 1))\n",
      "        (1): BatchNorm2d(64, eps=1e-05, momentum=0.1, affine=True, track_running_stats=True)\n",
      "      )\n",
      "      (relu): ReLU()\n",
      "    )\n",
      "    (1): ResBlock(\n",
      "      (conv1): Sequential(\n",
      "        (0): Conv2d(64, 64, kernel_size=(3, 3), stride=(1, 1), padding=(1, 1))\n",
      "        (1): BatchNorm2d(64, eps=1e-05, momentum=0.1, affine=True, track_running_stats=True)\n",
      "        (2): ReLU()\n",
      "      )\n",
      "      (conv2): Sequential(\n",
      "        (0): Conv2d(64, 64, kernel_size=(3, 3), stride=(1, 1), padding=(1, 1))\n",
      "        (1): BatchNorm2d(64, eps=1e-05, momentum=0.1, affine=True, track_running_stats=True)\n",
      "      )\n",
      "      (relu): ReLU()\n",
      "    )\n",
      "    (2): ResBlock(\n",
      "      (conv1): Sequential(\n",
      "        (0): Conv2d(64, 64, kernel_size=(3, 3), stride=(1, 1), padding=(1, 1))\n",
      "        (1): BatchNorm2d(64, eps=1e-05, momentum=0.1, affine=True, track_running_stats=True)\n",
      "        (2): ReLU()\n",
      "      )\n",
      "      (conv2): Sequential(\n",
      "        (0): Conv2d(64, 64, kernel_size=(3, 3), stride=(1, 1), padding=(1, 1))\n",
      "        (1): BatchNorm2d(64, eps=1e-05, momentum=0.1, affine=True, track_running_stats=True)\n",
      "      )\n",
      "      (relu): ReLU()\n",
      "    )\n",
      "  )\n",
      "  (layer1): Sequential(\n",
      "    (0): ResBlock(\n",
      "      (conv1): Sequential(\n",
      "        (0): Conv2d(64, 128, kernel_size=(3, 3), stride=(2, 2), padding=(1, 1))\n",
      "        (1): BatchNorm2d(128, eps=1e-05, momentum=0.1, affine=True, track_running_stats=True)\n",
      "        (2): ReLU()\n",
      "      )\n",
      "      (conv2): Sequential(\n",
      "        (0): Conv2d(128, 128, kernel_size=(3, 3), stride=(1, 1), padding=(1, 1))\n",
      "        (1): BatchNorm2d(128, eps=1e-05, momentum=0.1, affine=True, track_running_stats=True)\n",
      "      )\n",
      "      (downsample): Sequential(\n",
      "        (0): Conv2d(64, 128, kernel_size=(1, 1), stride=(2, 2))\n",
      "        (1): BatchNorm2d(128, eps=1e-05, momentum=0.1, affine=True, track_running_stats=True)\n",
      "      )\n",
      "      (relu): ReLU()\n",
      "    )\n",
      "    (1): ResBlock(\n",
      "      (conv1): Sequential(\n",
      "        (0): Conv2d(128, 128, kernel_size=(3, 3), stride=(1, 1), padding=(1, 1))\n",
      "        (1): BatchNorm2d(128, eps=1e-05, momentum=0.1, affine=True, track_running_stats=True)\n",
      "        (2): ReLU()\n",
      "      )\n",
      "      (conv2): Sequential(\n",
      "        (0): Conv2d(128, 128, kernel_size=(3, 3), stride=(1, 1), padding=(1, 1))\n",
      "        (1): BatchNorm2d(128, eps=1e-05, momentum=0.1, affine=True, track_running_stats=True)\n",
      "      )\n",
      "      (relu): ReLU()\n",
      "    )\n",
      "    (2): ResBlock(\n",
      "      (conv1): Sequential(\n",
      "        (0): Conv2d(128, 128, kernel_size=(3, 3), stride=(1, 1), padding=(1, 1))\n",
      "        (1): BatchNorm2d(128, eps=1e-05, momentum=0.1, affine=True, track_running_stats=True)\n",
      "        (2): ReLU()\n",
      "      )\n",
      "      (conv2): Sequential(\n",
      "        (0): Conv2d(128, 128, kernel_size=(3, 3), stride=(1, 1), padding=(1, 1))\n",
      "        (1): BatchNorm2d(128, eps=1e-05, momentum=0.1, affine=True, track_running_stats=True)\n",
      "      )\n",
      "      (relu): ReLU()\n",
      "    )\n",
      "    (3): ResBlock(\n",
      "      (conv1): Sequential(\n",
      "        (0): Conv2d(128, 128, kernel_size=(3, 3), stride=(1, 1), padding=(1, 1))\n",
      "        (1): BatchNorm2d(128, eps=1e-05, momentum=0.1, affine=True, track_running_stats=True)\n",
      "        (2): ReLU()\n",
      "      )\n",
      "      (conv2): Sequential(\n",
      "        (0): Conv2d(128, 128, kernel_size=(3, 3), stride=(1, 1), padding=(1, 1))\n",
      "        (1): BatchNorm2d(128, eps=1e-05, momentum=0.1, affine=True, track_running_stats=True)\n",
      "      )\n",
      "      (relu): ReLU()\n",
      "    )\n",
      "  )\n",
      "  (layer2): Sequential(\n",
      "    (0): ResBlock(\n",
      "      (conv1): Sequential(\n",
      "        (0): Conv2d(128, 256, kernel_size=(3, 3), stride=(2, 2), padding=(1, 1))\n",
      "        (1): BatchNorm2d(256, eps=1e-05, momentum=0.1, affine=True, track_running_stats=True)\n",
      "        (2): ReLU()\n",
      "      )\n",
      "      (conv2): Sequential(\n",
      "        (0): Conv2d(256, 256, kernel_size=(3, 3), stride=(1, 1), padding=(1, 1))\n",
      "        (1): BatchNorm2d(256, eps=1e-05, momentum=0.1, affine=True, track_running_stats=True)\n",
      "      )\n",
      "      (downsample): Sequential(\n",
      "        (0): Conv2d(128, 256, kernel_size=(1, 1), stride=(2, 2))\n",
      "        (1): BatchNorm2d(256, eps=1e-05, momentum=0.1, affine=True, track_running_stats=True)\n",
      "      )\n",
      "      (relu): ReLU()\n",
      "    )\n",
      "    (1): ResBlock(\n",
      "      (conv1): Sequential(\n",
      "        (0): Conv2d(256, 256, kernel_size=(3, 3), stride=(1, 1), padding=(1, 1))\n",
      "        (1): BatchNorm2d(256, eps=1e-05, momentum=0.1, affine=True, track_running_stats=True)\n",
      "        (2): ReLU()\n",
      "      )\n",
      "      (conv2): Sequential(\n",
      "        (0): Conv2d(256, 256, kernel_size=(3, 3), stride=(1, 1), padding=(1, 1))\n",
      "        (1): BatchNorm2d(256, eps=1e-05, momentum=0.1, affine=True, track_running_stats=True)\n",
      "      )\n",
      "      (relu): ReLU()\n",
      "    )\n",
      "    (2): ResBlock(\n",
      "      (conv1): Sequential(\n",
      "        (0): Conv2d(256, 256, kernel_size=(3, 3), stride=(1, 1), padding=(1, 1))\n",
      "        (1): BatchNorm2d(256, eps=1e-05, momentum=0.1, affine=True, track_running_stats=True)\n",
      "        (2): ReLU()\n",
      "      )\n",
      "      (conv2): Sequential(\n",
      "        (0): Conv2d(256, 256, kernel_size=(3, 3), stride=(1, 1), padding=(1, 1))\n",
      "        (1): BatchNorm2d(256, eps=1e-05, momentum=0.1, affine=True, track_running_stats=True)\n",
      "      )\n",
      "      (relu): ReLU()\n",
      "    )\n",
      "    (3): ResBlock(\n",
      "      (conv1): Sequential(\n",
      "        (0): Conv2d(256, 256, kernel_size=(3, 3), stride=(1, 1), padding=(1, 1))\n",
      "        (1): BatchNorm2d(256, eps=1e-05, momentum=0.1, affine=True, track_running_stats=True)\n",
      "        (2): ReLU()\n",
      "      )\n",
      "      (conv2): Sequential(\n",
      "        (0): Conv2d(256, 256, kernel_size=(3, 3), stride=(1, 1), padding=(1, 1))\n",
      "        (1): BatchNorm2d(256, eps=1e-05, momentum=0.1, affine=True, track_running_stats=True)\n",
      "      )\n",
      "      (relu): ReLU()\n",
      "    )\n",
      "    (4): ResBlock(\n",
      "      (conv1): Sequential(\n",
      "        (0): Conv2d(256, 256, kernel_size=(3, 3), stride=(1, 1), padding=(1, 1))\n",
      "        (1): BatchNorm2d(256, eps=1e-05, momentum=0.1, affine=True, track_running_stats=True)\n",
      "        (2): ReLU()\n",
      "      )\n",
      "      (conv2): Sequential(\n",
      "        (0): Conv2d(256, 256, kernel_size=(3, 3), stride=(1, 1), padding=(1, 1))\n",
      "        (1): BatchNorm2d(256, eps=1e-05, momentum=0.1, affine=True, track_running_stats=True)\n",
      "      )\n",
      "      (relu): ReLU()\n",
      "    )\n",
      "    (5): ResBlock(\n",
      "      (conv1): Sequential(\n",
      "        (0): Conv2d(256, 256, kernel_size=(3, 3), stride=(1, 1), padding=(1, 1))\n",
      "        (1): BatchNorm2d(256, eps=1e-05, momentum=0.1, affine=True, track_running_stats=True)\n",
      "        (2): ReLU()\n",
      "      )\n",
      "      (conv2): Sequential(\n",
      "        (0): Conv2d(256, 256, kernel_size=(3, 3), stride=(1, 1), padding=(1, 1))\n",
      "        (1): BatchNorm2d(256, eps=1e-05, momentum=0.1, affine=True, track_running_stats=True)\n",
      "      )\n",
      "      (relu): ReLU()\n",
      "    )\n",
      "  )\n",
      "  (layer3): Sequential(\n",
      "    (0): ResBlock(\n",
      "      (conv1): Sequential(\n",
      "        (0): Conv2d(256, 512, kernel_size=(3, 3), stride=(2, 2), padding=(1, 1))\n",
      "        (1): BatchNorm2d(512, eps=1e-05, momentum=0.1, affine=True, track_running_stats=True)\n",
      "        (2): ReLU()\n",
      "      )\n",
      "      (conv2): Sequential(\n",
      "        (0): Conv2d(512, 512, kernel_size=(3, 3), stride=(1, 1), padding=(1, 1))\n",
      "        (1): BatchNorm2d(512, eps=1e-05, momentum=0.1, affine=True, track_running_stats=True)\n",
      "      )\n",
      "      (downsample): Sequential(\n",
      "        (0): Conv2d(256, 512, kernel_size=(1, 1), stride=(2, 2))\n",
      "        (1): BatchNorm2d(512, eps=1e-05, momentum=0.1, affine=True, track_running_stats=True)\n",
      "      )\n",
      "      (relu): ReLU()\n",
      "    )\n",
      "    (1): ResBlock(\n",
      "      (conv1): Sequential(\n",
      "        (0): Conv2d(512, 512, kernel_size=(3, 3), stride=(1, 1), padding=(1, 1))\n",
      "        (1): BatchNorm2d(512, eps=1e-05, momentum=0.1, affine=True, track_running_stats=True)\n",
      "        (2): ReLU()\n",
      "      )\n",
      "      (conv2): Sequential(\n",
      "        (0): Conv2d(512, 512, kernel_size=(3, 3), stride=(1, 1), padding=(1, 1))\n",
      "        (1): BatchNorm2d(512, eps=1e-05, momentum=0.1, affine=True, track_running_stats=True)\n",
      "      )\n",
      "      (relu): ReLU()\n",
      "    )\n",
      "    (2): ResBlock(\n",
      "      (conv1): Sequential(\n",
      "        (0): Conv2d(512, 512, kernel_size=(3, 3), stride=(1, 1), padding=(1, 1))\n",
      "        (1): BatchNorm2d(512, eps=1e-05, momentum=0.1, affine=True, track_running_stats=True)\n",
      "        (2): ReLU()\n",
      "      )\n",
      "      (conv2): Sequential(\n",
      "        (0): Conv2d(512, 512, kernel_size=(3, 3), stride=(1, 1), padding=(1, 1))\n",
      "        (1): BatchNorm2d(512, eps=1e-05, momentum=0.1, affine=True, track_running_stats=True)\n",
      "      )\n",
      "      (relu): ReLU()\n",
      "    )\n",
      "  )\n",
      "  (avgpool): AvgPool2d(kernel_size=7, stride=1, padding=0)\n",
      "  (fc): Linear(in_features=512, out_features=10, bias=True)\n",
      ")\n"
     ]
    },
    {
     "data": {
      "application/vnd.jupyter.widget-view+json": {
       "model_id": "d97554f4344742e591d0338bbb586dc8",
       "version_major": 2,
       "version_minor": 0
      },
      "text/plain": [
       "  0%|          | 0/10 [00:00<?, ?it/s]"
      ]
     },
     "metadata": {},
     "output_type": "display_data"
    },
    {
     "name": "stdout",
     "output_type": "stream",
     "text": [
      "Loss after 01536 examples: 2.033\n",
      "Loss after 03136 examples: 1.922\n",
      "Loss after 04736 examples: 1.759\n",
      "Loss after 06336 examples: 1.679\n",
      "Loss after 07936 examples: 1.568\n",
      "Loss after 09533 examples: 1.356\n",
      "Loss after 11133 examples: 1.719\n",
      "Loss after 12733 examples: 1.160\n",
      "Loss after 14333 examples: 1.212\n",
      "Loss after 15933 examples: 1.308\n",
      "Loss after 17533 examples: 1.890\n",
      "Loss after 19130 examples: 1.140\n",
      "Loss after 20730 examples: 1.607\n",
      "Loss after 22330 examples: 1.158\n",
      "Loss after 23930 examples: 1.144\n",
      "Loss after 25530 examples: 0.985\n",
      "Loss after 27130 examples: 1.118\n",
      "Loss after 28727 examples: 1.083\n",
      "Loss after 30327 examples: 0.948\n",
      "Loss after 31927 examples: 1.025\n",
      "Loss after 33527 examples: 0.973\n",
      "Loss after 35127 examples: 0.939\n",
      "Loss after 36727 examples: 1.263\n",
      "Loss after 38324 examples: 0.694\n",
      "Loss after 39924 examples: 0.849\n",
      "Loss after 41524 examples: 0.743\n",
      "Loss after 43124 examples: 0.802\n",
      "Loss after 44724 examples: 0.589\n",
      "Loss after 46324 examples: 0.840\n",
      "Loss after 47921 examples: 0.602\n",
      "Loss after 49521 examples: 0.816\n",
      "Loss after 51121 examples: 0.807\n",
      "Loss after 52721 examples: 0.580\n",
      "Loss after 54321 examples: 0.862\n",
      "Loss after 55921 examples: 0.834\n",
      "Loss after 57518 examples: 1.016\n",
      "Loss after 59118 examples: 0.685\n",
      "Loss after 60718 examples: 0.898\n",
      "Loss after 62318 examples: 0.792\n",
      "Loss after 63918 examples: 0.715\n",
      "Loss after 65518 examples: 0.912\n",
      "Loss after 67115 examples: 0.558\n",
      "Loss after 68715 examples: 0.873\n",
      "Loss after 70315 examples: 0.493\n",
      "Loss after 71915 examples: 0.723\n",
      "Loss after 73515 examples: 0.322\n",
      "Loss after 75115 examples: 0.522\n",
      "Loss after 76712 examples: 0.640\n",
      "Loss after 78312 examples: 0.455\n",
      "Loss after 79912 examples: 0.433\n",
      "Loss after 81512 examples: 0.477\n",
      "Loss after 83112 examples: 0.614\n",
      "Loss after 84712 examples: 0.598\n",
      "Loss after 86309 examples: 0.514\n",
      "Loss after 87909 examples: 0.540\n",
      "Loss after 89509 examples: 0.490\n",
      "Loss after 91109 examples: 0.515\n",
      "Loss after 92709 examples: 0.709\n",
      "Loss after 94309 examples: 0.773\n",
      "Accuracy of the model on the 3925 test images: 66.955414%\n"
     ]
    },
    {
     "data": {
      "application/vnd.jupyter.widget-view+json": {
       "model_id": "",
       "version_major": 2,
       "version_minor": 0
      },
      "text/plain": [
       "VBox(children=(Label(value='26.587 MB of 81.200 MB uploaded\\r'), FloatProgress(value=0.3274227325733189, max=1…"
      ]
     },
     "metadata": {},
     "output_type": "display_data"
    },
    {
     "data": {
      "text/html": [
       "<style>\n",
       "    table.wandb td:nth-child(1) { padding: 0 10px; text-align: left ; width: auto;} td:nth-child(2) {text-align: left ; width: 100%}\n",
       "    .wandb-row { display: flex; flex-direction: row; flex-wrap: wrap; justify-content: flex-start; width: 100% }\n",
       "    .wandb-col { display: flex; flex-direction: column; flex-basis: 100%; flex: 1; padding: 10px; }\n",
       "    </style>\n",
       "<div class=\"wandb-row\"><div class=\"wandb-col\"><h3>Run history:</h3><br/><table class=\"wandb\"><tr><td>epoch</td><td>▁▁▁▁▂▂▂▂▃▃▃▃▃▃▃▃▄▄▄▄▅▅▅▅▆▆▆▆▆▆▆▆▇▇▇▇████</td></tr><tr><td>loss</td><td>██▇▆▅▄▄▇▄▄▄▄▄▄▃▅▂▂▃▃▂▃▂▃▄▃▃▃▂▁▂▁▂▁▁▂▁▁▁▂</td></tr><tr><td>test_accuracy</td><td>▁</td></tr></table><br/></div><div class=\"wandb-col\"><h3>Run summary:</h3><br/><table class=\"wandb\"><tr><td>epoch</td><td>9</td></tr><tr><td>loss</td><td>0.77311</td></tr><tr><td>test_accuracy</td><td>0.66955</td></tr></table><br/></div></div>"
      ],
      "text/plain": [
       "<IPython.core.display.HTML object>"
      ]
     },
     "metadata": {},
     "output_type": "display_data"
    },
    {
     "data": {
      "text/html": [
       " View run <strong style=\"color:#cdcd00\">whole-glitter-4</strong> at: <a href='https://wandb.ai/dipc/resent34-im/runs/r5dvo6m1' target=\"_blank\">https://wandb.ai/dipc/resent34-im/runs/r5dvo6m1</a><br/> View job at <a href='https://wandb.ai/dipc/resent34-im/jobs/QXJ0aWZhY3RDb2xsZWN0aW9uOjEyODExNzMwNg==/version_details/v2' target=\"_blank\">https://wandb.ai/dipc/resent34-im/jobs/QXJ0aWZhY3RDb2xsZWN0aW9uOjEyODExNzMwNg==/version_details/v2</a><br/>Synced 6 W&B file(s), 0 media file(s), 2 artifact file(s) and 1 other file(s)"
      ],
      "text/plain": [
       "<IPython.core.display.HTML object>"
      ]
     },
     "metadata": {},
     "output_type": "display_data"
    },
    {
     "data": {
      "text/html": [
       "Find logs at: <code>./wandb/run-20240107_122833-r5dvo6m1/logs</code>"
      ],
      "text/plain": [
       "<IPython.core.display.HTML object>"
      ]
     },
     "metadata": {},
     "output_type": "display_data"
    }
   ],
   "source": [
    "model = model_pipeline(config)"
   ]
  }
 ],
 "metadata": {
  "kernelspec": {
   "display_name": "Python 3 (ipykernel)",
   "language": "python",
   "name": "python3"
  },
  "language_info": {
   "codemirror_mode": {
    "name": "ipython",
    "version": 3
   },
   "file_extension": ".py",
   "mimetype": "text/x-python",
   "name": "python",
   "nbconvert_exporter": "python",
   "pygments_lexer": "ipython3",
   "version": "3.11.5"
  }
 },
 "nbformat": 4,
 "nbformat_minor": 5
}
