{
 "cells": [
  {
   "cell_type": "code",
   "execution_count": 1,
   "id": "ed14c0a2-605f-4364-93d8-8850e0205c3f",
   "metadata": {},
   "outputs": [],
   "source": [
    "%matplotlib inline\n",
    "%load_ext autoreload\n",
    "%autoreload 2\n",
    "import matplotlib.pyplot as plt\n",
    "from matplotlib.pyplot import imshow\n",
    "plt.rcParams[\"figure.figsize\"] = 10, 8\n",
    "plt.rcParams[\"font.size\"     ] = 14\n",
    "\n"
   ]
  },
  {
   "cell_type": "code",
   "execution_count": 2,
   "id": "008280f9-f405-45d2-bd91-4daf4f389f88",
   "metadata": {},
   "outputs": [],
   "source": [
    "import numpy as np\n",
    "import pandas as pd\n",
    "from collections import namedtuple\n",
    "import os\n",
    "import glob\n",
    "from pathlib import Path"
   ]
  },
  {
   "cell_type": "code",
   "execution_count": 3,
   "id": "01e949ce-f2df-4f1a-b3f5-5bca62823b10",
   "metadata": {},
   "outputs": [],
   "source": [
    "import torch\n",
    "import torch.nn as nn\n",
    "import torch.optim as optim\n",
    "import torch.nn.functional as F\n",
    "from torch.utils.data import Dataset\n",
    "from torch.utils.data import DataLoader\n",
    "from torchvision import transforms\n",
    "from torchvision import datasets\n",
    "from torch.utils.data.sampler import SubsetRandomSampler\n",
    "from torchsummary import summary\n",
    "from torchvision.transforms import v2\n"
   ]
  },
  {
   "cell_type": "code",
   "execution_count": 4,
   "id": "bb8f0c8d-486a-4b04-9abb-88aa9849c109",
   "metadata": {},
   "outputs": [],
   "source": [
    "from pymono.cifar import cifar_data_loader"
   ]
  },
  {
   "cell_type": "code",
   "execution_count": 54,
   "id": "01703db4-edd0-4227-8d2f-ff7c4cb5e8cb",
   "metadata": {},
   "outputs": [],
   "source": [
    "from pymono.cnns import cnn_evaluation, x_single_run, x_train_cnn\n",
    "from pymono.cnns import Conv2dPars,  MaxPool2dPars,  LinealLayerPars\n",
    "from pymono.cnns import build_conv_layer, build_conv_layers, build_linear_layers\n",
    "from pymono.cnns import CNN, ResNet10, ResBlock"
   ]
  },
  {
   "cell_type": "code",
   "execution_count": 7,
   "id": "0a76696e-b49c-43b7-afd4-ae78e46e882f",
   "metadata": {},
   "outputs": [],
   "source": [
    "from pymono.plt_funcs import  plot_loss, plot_accuracy, cifar_plot_image_and_label"
   ]
  },
  {
   "cell_type": "code",
   "execution_count": 8,
   "id": "4ee5b37f-fb1b-4bfe-9b99-2935ce338c34",
   "metadata": {},
   "outputs": [
    {
     "name": "stdout",
     "output_type": "stream",
     "text": [
      "Using cuda device\n"
     ]
    }
   ],
   "source": [
    "device = (\n",
    "    \"cuda\"\n",
    "    if torch.cuda.is_available()\n",
    "    else \"mps\"\n",
    "    if torch.backends.mps.is_available()\n",
    "    else \"cpu\"\n",
    ")\n",
    "print(f\"Using {device} device\")"
   ]
  },
  {
   "cell_type": "markdown",
   "id": "3e19758e-fbd9-42cc-8284-afdef5f27efb",
   "metadata": {},
   "source": [
    "## Local functions"
   ]
  },
  {
   "cell_type": "code",
   "execution_count": 14,
   "id": "107f60d5-d473-4c9e-970b-8e3ff48209c9",
   "metadata": {},
   "outputs": [],
   "source": [
    "def print_features(train_loader):\n",
    "    train_features, train_labels = next(iter(train_loader))\n",
    "    print(f\"Feature batch shape: {train_features.size()}\")\n",
    "    print(f\"Labels batch shape: {train_labels.size()}\")"
   ]
  },
  {
   "cell_type": "markdown",
   "id": "d5cf8146-c245-47b2-8557-9dde60d86fa4",
   "metadata": {},
   "source": [
    "## Demonstrate classification net (Xnet) with CIFAR"
   ]
  },
  {
   "cell_type": "code",
   "execution_count": 9,
   "id": "14c79674-f2e1-4331-9354-749595f85929",
   "metadata": {},
   "outputs": [],
   "source": [
    "cifar_dir = os.path.join(Path(os.environ['DATA'],'cifar'))"
   ]
  },
  {
   "cell_type": "code",
   "execution_count": 10,
   "id": "0b88d7e4-bc45-48f6-b075-de70cbbf768e",
   "metadata": {},
   "outputs": [
    {
     "name": "stdout",
     "output_type": "stream",
     "text": [
      "Files already downloaded and verified\n"
     ]
    }
   ],
   "source": [
    "test_loader_nn = cifar_data_loader(data_dir=cifar_dir, norm=False, test=True,\n",
    "                                   batch_size=64)"
   ]
  },
  {
   "cell_type": "code",
   "execution_count": 12,
   "id": "414b2980-3c7e-4e57-9c7d-640a71c4ce19",
   "metadata": {},
   "outputs": [
    {
     "name": "stdout",
     "output_type": "stream",
     "text": [
      "Feature batch shape: torch.Size([64, 3, 32, 32])\n",
      "Labels batch shape: torch.Size([64])\n",
      "torch.Size([3, 32, 32])\n"
     ]
    },
    {
     "data": {
      "image/png": "[encoded data removed]",
      "text/plain": [
       "<Figure size 200x200 with 1 Axes>"
      ]
     },
     "metadata": {},
     "output_type": "display_data"
    },
    {
     "name": "stdout",
     "output_type": "stream",
     "text": [
      "Label: 6\n"
     ]
    }
   ],
   "source": [
    "cifar_plot_image_and_label(test_loader_nn) # re-evaluate cell if you get a long debugging text"
   ]
  },
  {
   "cell_type": "code",
   "execution_count": 13,
   "id": "976623c0-0ee5-485e-8e96-004b1be9eefc",
   "metadata": {},
   "outputs": [
    {
     "name": "stdout",
     "output_type": "stream",
     "text": [
      "Files already downloaded and verified\n",
      "Files already downloaded and verified\n",
      "Files already downloaded and verified\n"
     ]
    }
   ],
   "source": [
    "train_loader_cf, valid_loader_cf = cifar_data_loader(data_dir=cifar_dir,\n",
    "                                         batch_size=64)\n",
    "\n",
    "test_loader_cf = cifar_data_loader(data_dir=cifar_dir,\n",
    "                              batch_size=64,\n",
    "                              test=True)"
   ]
  },
  {
   "cell_type": "code",
   "execution_count": 15,
   "id": "3377b025-46a4-4b17-b117-d42c7925f830",
   "metadata": {},
   "outputs": [
    {
     "name": "stdout",
     "output_type": "stream",
     "text": [
      "Feature batch shape: torch.Size([64, 3, 32, 32])\n",
      "Labels batch shape: torch.Size([64])\n"
     ]
    }
   ],
   "source": [
    "print_features(train_loader_cf)"
   ]
  },
  {
   "cell_type": "code",
   "execution_count": 16,
   "id": "d4d9c377-20b5-4884-ac0c-c42c6026bbd1",
   "metadata": {},
   "outputs": [
    {
     "name": "stdout",
     "output_type": "stream",
     "text": [
      "Feature batch shape: torch.Size([64, 3, 32, 32])\n",
      "Labels batch shape: torch.Size([64])\n"
     ]
    }
   ],
   "source": [
    "print_features(valid_loader_cf)"
   ]
  },
  {
   "cell_type": "markdown",
   "id": "c1a40726-5d02-44a3-bc14-6b6cfc3e462f",
   "metadata": {},
   "source": [
    "### Define a simple CNN"
   ]
  },
  {
   "cell_type": "markdown",
   "id": "2d63b2d9-72e6-492f-93b0-4ad91753c51f",
   "metadata": {},
   "source": [
    "### 3 linear layers (LL), \n",
    "- Initial dimension corresponds to the convolutional array flattened array\n",
    "- Final dimension corresponds to number of CIFAR features (10)"
   ]
  },
  {
   "cell_type": "code",
   "execution_count": 17,
   "id": "07af25d2-98b7-4d5b-a40f-8f08253954e0",
   "metadata": {},
   "outputs": [],
   "source": [
    "LLYR=[]\n",
    "LLYR.append(LinealLayerPars(512, 256))\n",
    "LLYR.append(LinealLayerPars(256, 128))\n",
    "LLYR.append(LinealLayerPars(128, 10))\n",
    "llyrs = build_linear_layers(LLYR, df=0.25)"
   ]
  },
  {
   "cell_type": "code",
   "execution_count": 18,
   "id": "f374549c-efd3-48f0-873d-138b8fac6c7d",
   "metadata": {},
   "outputs": [
    {
     "name": "stdout",
     "output_type": "stream",
     "text": [
      "Sequential(\n",
      "  (0): Flatten(start_dim=1, end_dim=-1)\n",
      "  (1): Dropout(p=0.25, inplace=False)\n",
      "  (2): Linear(in_features=512, out_features=256, bias=True)\n",
      "  (3): ReLU()\n",
      "  (4): Linear(in_features=256, out_features=128, bias=True)\n",
      "  (5): ReLU()\n",
      "  (6): Linear(in_features=128, out_features=10, bias=True)\n",
      ")\n"
     ]
    }
   ],
   "source": [
    "print(llyrs)"
   ]
  },
  {
   "cell_type": "markdown",
   "id": "4d1cf1df-a815-4e2e-872b-49f287b22a45",
   "metadata": {},
   "source": [
    "### Convolutional Layers\n",
    "- 3 layers increasing features from 3 to 128 while reducing dimension of input image (32 x 32)"
   ]
  },
  {
   "cell_type": "code",
   "execution_count": 19,
   "id": "fe8b2b2f-8b68-46be-b605-a2dd20154b0c",
   "metadata": {},
   "outputs": [],
   "source": [
    "CL = []\n",
    "c1 = Conv2dPars(in_channels=3, out_channels=32, kernel_size=3, padding=1)\n",
    "c2 = Conv2dPars(in_channels=32, out_channels=64, kernel_size=3, padding=1)\n",
    "c3 = Conv2dPars(in_channels=64, out_channels=128, kernel_size=3, padding=1)\n",
    "p2d = MaxPool2dPars(kernel_size=2, stride=2)\n",
    "CL.append(build_conv_layer(c1, p2d, relu='standard'))\n",
    "CL.append(build_conv_layer(c2, p2d, relu='standard'))\n",
    "CL.append(build_conv_layer(c3, p2d, relu='standard'))\n",
    "clyrs = build_conv_layers(CL)"
   ]
  },
  {
   "cell_type": "code",
   "execution_count": 20,
   "id": "64a7374e-2744-47c4-9956-2e69374e44af",
   "metadata": {},
   "outputs": [
    {
     "name": "stdout",
     "output_type": "stream",
     "text": [
      "Sequential(\n",
      "  (0): Sequential(\n",
      "    (0): Conv2d(3, 32, kernel_size=(3, 3), stride=(1, 1))\n",
      "    (1): BatchNorm2d(32, eps=1e-05, momentum=0.1, affine=True, track_running_stats=True)\n",
      "    (2): ReLU()\n",
      "    (3): MaxPool2d(kernel_size=2, stride=2, padding=0, dilation=1, ceil_mode=False)\n",
      "  )\n",
      "  (1): Sequential(\n",
      "    (0): Conv2d(32, 64, kernel_size=(3, 3), stride=(1, 1))\n",
      "    (1): BatchNorm2d(64, eps=1e-05, momentum=0.1, affine=True, track_running_stats=True)\n",
      "    (2): ReLU()\n",
      "    (3): MaxPool2d(kernel_size=2, stride=2, padding=0, dilation=1, ceil_mode=False)\n",
      "  )\n",
      "  (2): Sequential(\n",
      "    (0): Conv2d(64, 128, kernel_size=(3, 3), stride=(1, 1))\n",
      "    (1): BatchNorm2d(128, eps=1e-05, momentum=0.1, affine=True, track_running_stats=True)\n",
      "    (2): ReLU()\n",
      "    (3): MaxPool2d(kernel_size=2, stride=2, padding=0, dilation=1, ceil_mode=False)\n",
      "  )\n",
      ")\n"
     ]
    }
   ],
   "source": [
    "print(clyrs)"
   ]
  },
  {
   "cell_type": "markdown",
   "id": "53fdeb75-10d1-4eee-b174-6bf9344631c6",
   "metadata": {},
   "source": [
    "### cnn evaluation shows the final dimension of the flattened array to be 512"
   ]
  },
  {
   "cell_type": "code",
   "execution_count": 21,
   "id": "4f62698c-bdbd-4b61-86f7-c697b2293ba6",
   "metadata": {},
   "outputs": [
    {
     "name": "stdout",
     "output_type": "stream",
     "text": [
      "shape of input image = torch.Size([1, 3, 32, 32])\n",
      " after cl = 1, shape of out image = torch.Size([1, 32, 15, 15])\n",
      " after cl = 2, shape of out image = torch.Size([1, 64, 6, 6])\n",
      " after cl = 3, shape of out image = torch.Size([1, 128, 2, 2])\n",
      "shape of flattened image = torch.Size([1, 512])\n"
     ]
    }
   ],
   "source": [
    "cnn_evaluation(torch.randn(1,3,32,32), CL)"
   ]
  },
  {
   "cell_type": "code",
   "execution_count": 22,
   "id": "47d78e75-6790-4038-9814-4e188cbb880e",
   "metadata": {},
   "outputs": [],
   "source": [
    "model = CNN(clyrs,llyrs).to(device)"
   ]
  },
  {
   "cell_type": "code",
   "execution_count": 23,
   "id": "e13d736a-c4e3-495d-9d98-2560cffc1ac2",
   "metadata": {},
   "outputs": [
    {
     "name": "stdout",
     "output_type": "stream",
     "text": [
      "CNN(\n",
      "  (conv_layer): Sequential(\n",
      "    (0): Sequential(\n",
      "      (0): Conv2d(3, 32, kernel_size=(3, 3), stride=(1, 1))\n",
      "      (1): BatchNorm2d(32, eps=1e-05, momentum=0.1, affine=True, track_running_stats=True)\n",
      "      (2): ReLU()\n",
      "      (3): MaxPool2d(kernel_size=2, stride=2, padding=0, dilation=1, ceil_mode=False)\n",
      "    )\n",
      "    (1): Sequential(\n",
      "      (0): Conv2d(32, 64, kernel_size=(3, 3), stride=(1, 1))\n",
      "      (1): BatchNorm2d(64, eps=1e-05, momentum=0.1, affine=True, track_running_stats=True)\n",
      "      (2): ReLU()\n",
      "      (3): MaxPool2d(kernel_size=2, stride=2, padding=0, dilation=1, ceil_mode=False)\n",
      "    )\n",
      "    (2): Sequential(\n",
      "      (0): Conv2d(64, 128, kernel_size=(3, 3), stride=(1, 1))\n",
      "      (1): BatchNorm2d(128, eps=1e-05, momentum=0.1, affine=True, track_running_stats=True)\n",
      "      (2): ReLU()\n",
      "      (3): MaxPool2d(kernel_size=2, stride=2, padding=0, dilation=1, ceil_mode=False)\n",
      "    )\n",
      "  )\n",
      "  (fc_layer): Sequential(\n",
      "    (0): Flatten(start_dim=1, end_dim=-1)\n",
      "    (1): Dropout(p=0.25, inplace=False)\n",
      "    (2): Linear(in_features=512, out_features=256, bias=True)\n",
      "    (3): ReLU()\n",
      "    (4): Linear(in_features=256, out_features=128, bias=True)\n",
      "    (5): ReLU()\n",
      "    (6): Linear(in_features=128, out_features=10, bias=True)\n",
      "  )\n",
      ")\n"
     ]
    }
   ],
   "source": [
    "print(model)"
   ]
  },
  {
   "cell_type": "code",
   "execution_count": 24,
   "id": "d859b979-ea14-4dc3-9a60-7fdd909fe118",
   "metadata": {},
   "outputs": [
    {
     "name": "stdout",
     "output_type": "stream",
     "text": [
      "----------------------------------------------------------------\n",
      "        Layer (type)               Output Shape         Param #\n",
      "================================================================\n",
      "            Conv2d-1           [-1, 32, 30, 30]             896\n",
      "       BatchNorm2d-2           [-1, 32, 30, 30]              64\n",
      "              ReLU-3           [-1, 32, 30, 30]               0\n",
      "         MaxPool2d-4           [-1, 32, 15, 15]               0\n",
      "            Conv2d-5           [-1, 64, 13, 13]          18,496\n",
      "       BatchNorm2d-6           [-1, 64, 13, 13]             128\n",
      "              ReLU-7           [-1, 64, 13, 13]               0\n",
      "         MaxPool2d-8             [-1, 64, 6, 6]               0\n",
      "            Conv2d-9            [-1, 128, 4, 4]          73,856\n",
      "      BatchNorm2d-10            [-1, 128, 4, 4]             256\n",
      "             ReLU-11            [-1, 128, 4, 4]               0\n",
      "        MaxPool2d-12            [-1, 128, 2, 2]               0\n",
      "          Flatten-13                  [-1, 512]               0\n",
      "          Dropout-14                  [-1, 512]               0\n",
      "           Linear-15                  [-1, 256]         131,328\n",
      "             ReLU-16                  [-1, 256]               0\n",
      "           Linear-17                  [-1, 128]          32,896\n",
      "             ReLU-18                  [-1, 128]               0\n",
      "           Linear-19                   [-1, 10]           1,290\n",
      "================================================================\n",
      "Total params: 259,210\n",
      "Trainable params: 259,210\n",
      "Non-trainable params: 0\n",
      "----------------------------------------------------------------\n",
      "Input size (MB): 0.01\n",
      "Forward/backward pass size (MB): 1.04\n",
      "Params size (MB): 0.99\n",
      "Estimated Total Size (MB): 2.04\n",
      "----------------------------------------------------------------\n"
     ]
    }
   ],
   "source": [
    "summary(model,(3,32,32))"
   ]
  },
  {
   "cell_type": "code",
   "execution_count": 25,
   "id": "6ce03230-e473-4be3-8da8-8ad1f6d457bd",
   "metadata": {},
   "outputs": [],
   "source": [
    "criterion = nn.CrossEntropyLoss()\n",
    "optimizer = torch.optim.SGD(model.parameters(), lr=0.01, weight_decay = 0.001, momentum = 0.9)  \n"
   ]
  },
  {
   "cell_type": "markdown",
   "id": "9d5165aa-00f5-4856-bead-37357add1e9b",
   "metadata": {},
   "source": [
    "### Run the CNN"
   ]
  },
  {
   "cell_type": "code",
   "execution_count": 26,
   "id": "7ddef3ea-21d8-4475-8c7d-a83f1822727f",
   "metadata": {},
   "outputs": [
    {
     "name": "stdout",
     "output_type": "stream",
     "text": [
      "** Run for 1 event**\n",
      "epoch = 0\n",
      "i = 0\n",
      "labels shape = torch.Size([64])\n",
      "imgs shape = torch.Size([64, 3, 32, 32])\n",
      "labels = tensor([4, 0, 8, 5, 5, 7, 2, 1, 4, 7, 5, 7, 0, 9, 3, 4, 5, 8, 0, 1, 9, 5, 5, 8,\n",
      "        5, 7, 8, 5, 9, 7, 5, 5, 7, 0, 6, 3, 5, 4, 7, 7, 5, 8, 1, 9, 0, 7, 9, 7,\n",
      "        1, 6, 0, 4, 8, 8, 8, 1, 7, 5, 3, 6, 6, 9, 9, 1])\n",
      "outputs = torch.Size([64, 10])\n",
      "predicted label = tensor([9, 8, 8, 9, 8, 9, 9, 9, 9, 9, 8, 8, 9, 9, 9, 9, 8, 9, 8, 9, 9, 8, 9, 8,\n",
      "        9, 8, 2, 8, 8, 9, 9, 9, 9, 9, 8, 8, 9, 9, 9, 9, 9, 9, 9, 9, 8, 9, 8, 9,\n",
      "        9, 9, 8, 9, 8, 9, 9, 9, 9, 9, 8, 9, 8, 9, 8, 9], device='cuda:0')\n",
      "correct = 7\n",
      "Train Step 1/704, Loss: 2.3058884143829346\n",
      "i = 1\n",
      "labels shape = torch.Size([64])\n",
      "imgs shape = torch.Size([64, 3, 32, 32])\n",
      "labels = tensor([2, 0, 3, 2, 7, 8, 0, 2, 0, 7, 0, 3, 1, 2, 7, 5, 8, 2, 4, 5, 4, 9, 6, 1,\n",
      "        6, 5, 7, 7, 9, 3, 6, 8, 5, 2, 7, 0, 4, 1, 9, 2, 2, 9, 8, 0, 0, 4, 3, 8,\n",
      "        1, 3, 4, 8, 2, 5, 1, 9, 1, 4, 5, 1, 6, 8, 4, 2])\n",
      "outputs = torch.Size([64, 10])\n",
      "predicted label = tensor([8, 9, 9, 8, 9, 9, 9, 8, 9, 9, 9, 9, 8, 9, 9, 9, 9, 9, 9, 9, 9, 9, 9, 8,\n",
      "        8, 9, 9, 8, 9, 9, 8, 9, 9, 9, 9, 8, 8, 8, 9, 9, 9, 8, 8, 9, 8, 9, 8, 9,\n",
      "        9, 9, 9, 9, 8, 9, 9, 9, 9, 9, 9, 9, 8, 9, 9, 9], device='cuda:0')\n",
      "correct = 5\n",
      "Train Step 2/704, Loss: 2.305521011352539\n"
     ]
    }
   ],
   "source": [
    "x_single_run(train_loader_cf, device, model, optimizer, criterion, xc=True)"
   ]
  },
  {
   "cell_type": "code",
   "execution_count": 28,
   "id": "18634b2c-b5dc-459e-89f6-a493bce9c808",
   "metadata": {},
   "outputs": [
    {
     "name": "stdout",
     "output_type": "stream",
     "text": [
      "Training with  ->45056 images\n",
      "size of train loader  ->704 images\n",
      "Evaluating with  ->5056 images\n",
      "size of eval loader  ->79 images\n",
      "Classification  ->True\n",
      "Running for epochs ->10\n",
      "\n",
      "EPOCH 0\n",
      "training step: size of sample 704\n",
      "Validation step: size of sample 79\n",
      "--- EPOCH 0 AVG TRAIN LOSS: 1.068464077924463\n",
      "--- EPOCH 0 AVG VAL LOSS: 1.0751258036758327\n",
      "Accuracy on the 79 validation images: 62.04 %\n",
      "\n",
      "EPOCH 1\n",
      "training step: size of sample 704\n",
      "Validation step: size of sample 79\n",
      "--- EPOCH 1 AVG TRAIN LOSS: 0.9341115960851312\n",
      "--- EPOCH 1 AVG VAL LOSS: 0.8673687373535542\n",
      "Accuracy on the 79 validation images: 69.02 %\n",
      "\n",
      "EPOCH 2\n",
      "training step: size of sample 704\n",
      "Validation step: size of sample 79\n",
      "--- EPOCH 2 AVG TRAIN LOSS: 0.8484381494874303\n",
      "--- EPOCH 2 AVG VAL LOSS: 0.8445268703412406\n",
      "Accuracy on the 79 validation images: 69.92 %\n",
      "\n",
      "EPOCH 3\n",
      "training step: size of sample 704\n",
      "Validation step: size of sample 79\n",
      "--- EPOCH 3 AVG TRAIN LOSS: 0.7824612738225948\n",
      "--- EPOCH 3 AVG VAL LOSS: 0.7416754670535461\n",
      "Accuracy on the 79 validation images: 74.06 %\n",
      "\n",
      "EPOCH 4\n",
      "training step: size of sample 704\n",
      "Validation step: size of sample 79\n",
      "--- EPOCH 4 AVG TRAIN LOSS: 0.7295356004668231\n",
      "--- EPOCH 4 AVG VAL LOSS: 0.7700771474385564\n",
      "Accuracy on the 79 validation images: 73.5 %\n",
      "\n",
      "EPOCH 5\n",
      "training step: size of sample 704\n",
      "Validation step: size of sample 79\n",
      "--- EPOCH 5 AVG TRAIN LOSS: 0.6792960767634213\n",
      "--- EPOCH 5 AVG VAL LOSS: 0.7658953644052336\n",
      "Accuracy on the 79 validation images: 73.3 %\n",
      "\n",
      "EPOCH 6\n",
      "training step: size of sample 704\n",
      "Validation step: size of sample 79\n",
      "--- EPOCH 6 AVG TRAIN LOSS: 0.6405787373130972\n",
      "--- EPOCH 6 AVG VAL LOSS: 0.7248428007469901\n",
      "Accuracy on the 79 validation images: 74.8 %\n",
      "\n",
      "EPOCH 7\n",
      "training step: size of sample 704\n",
      "Validation step: size of sample 79\n",
      "--- EPOCH 7 AVG TRAIN LOSS: 0.6143949045376345\n",
      "--- EPOCH 7 AVG VAL LOSS: 0.7067458142962637\n",
      "Accuracy on the 79 validation images: 75.96 %\n",
      "\n",
      "EPOCH 8\n",
      "training step: size of sample 704\n",
      "Validation step: size of sample 79\n",
      "--- EPOCH 8 AVG TRAIN LOSS: 0.5865557330067862\n",
      "--- EPOCH 8 AVG VAL LOSS: 0.6793839403345615\n",
      "Accuracy on the 79 validation images: 76.66 %\n",
      "\n",
      "EPOCH 9\n",
      "training step: size of sample 704\n",
      "Validation step: size of sample 79\n",
      "--- EPOCH 9 AVG TRAIN LOSS: 0.5575933963991702\n",
      "--- EPOCH 9 AVG VAL LOSS: 0.6564742828471751\n",
      "Accuracy on the 79 validation images: 77.56 %\n"
     ]
    }
   ],
   "source": [
    "train_losses, val_losses, acc = x_train_cnn(train_loader_cf, valid_loader_cf, model, optimizer, device, criterion, \n",
    "                                            batch_size=64, xc=True,\n",
    "                                            iprnt=100, epochs=10)"
   ]
  },
  {
   "cell_type": "code",
   "execution_count": 29,
   "id": "b127841f-209f-4959-9a76-4bb7cba44fc5",
   "metadata": {},
   "outputs": [
    {
     "data": {
      "image/png": "[encoded data removed]",
      "text/plain": [
       "<Figure size 600x400 with 1 Axes>"
      ]
     },
     "metadata": {},
     "output_type": "display_data"
    }
   ],
   "source": [
    "plot_loss(10, train_losses, val_losses,figsize=(6, 4))"
   ]
  },
  {
   "cell_type": "code",
   "execution_count": 30,
   "id": "662e332f-9e25-4d86-ab73-187c68cbe521",
   "metadata": {},
   "outputs": [
    {
     "data": {
      "image/png": "[encoded data removed]",
      "text/plain": [
       "<Figure size 1000x400 with 1 Axes>"
      ]
     },
     "metadata": {},
     "output_type": "display_data"
    }
   ],
   "source": [
    "plot_accuracy(acc,figsize=(10, 4))"
   ]
  },
  {
   "cell_type": "markdown",
   "id": "082b0c54-f3d9-4e4a-8a48-bb9ce111d6cd",
   "metadata": {},
   "source": [
    "## Define a CNN, with four CL "
   ]
  },
  {
   "cell_type": "markdown",
   "id": "bad80813-6da4-4df9-a839-a88828dbb62f",
   "metadata": {},
   "source": [
    "### Convolutional Layers\n",
    "- 4 layers increasing features from 3 to 512 while reducing dimension of input image (32 x 32)\n",
    "- Use leaky relu instead of relu"
   ]
  },
  {
   "cell_type": "code",
   "execution_count": 33,
   "id": "8a324d06-0f6e-4ccc-a3a4-64cd85c44d37",
   "metadata": {},
   "outputs": [],
   "source": [
    "CL = []\n",
    "c1 = Conv2dPars(in_channels=3, out_channels=64, kernel_size=3, padding=1)\n",
    "c2 = Conv2dPars(in_channels=64, out_channels=128, kernel_size=2, padding=1)\n",
    "c3 = Conv2dPars(in_channels=128, out_channels=256, kernel_size=2, padding=1)\n",
    "c4 = Conv2dPars(in_channels=256, out_channels=512, kernel_size=2, padding=1)\n",
    "p2d = MaxPool2dPars(kernel_size=2, stride=2)\n",
    "CL.append(build_conv_layer(c1, p2d, relu='leaky'))\n",
    "CL.append(build_conv_layer(c2, p2d, relu='leaky'))\n",
    "CL.append(build_conv_layer(c3, p2d, relu='leaky'))\n",
    "CL.append(build_conv_layer(c4, p2d, relu='leaky'))\n",
    "clyrs = build_conv_layers(CL)\n"
   ]
  },
  {
   "cell_type": "code",
   "execution_count": 34,
   "id": "1a084ef3-8f61-43b4-ac91-1b0027192aba",
   "metadata": {},
   "outputs": [
    {
     "name": "stdout",
     "output_type": "stream",
     "text": [
      "shape of input image = torch.Size([1, 3, 32, 32])\n",
      " after cl = 1, shape of out image = torch.Size([1, 64, 15, 15])\n",
      " after cl = 2, shape of out image = torch.Size([1, 128, 7, 7])\n",
      " after cl = 3, shape of out image = torch.Size([1, 256, 3, 3])\n",
      " after cl = 4, shape of out image = torch.Size([1, 512, 1, 1])\n",
      "shape of flattened image = torch.Size([1, 512])\n"
     ]
    }
   ],
   "source": [
    "cnn_evaluation(torch.randn(1,3,32,32), CL)"
   ]
  },
  {
   "cell_type": "code",
   "execution_count": 36,
   "id": "6280a9d8-7006-4706-b3a5-fdbd756be8a2",
   "metadata": {},
   "outputs": [
    {
     "name": "stdout",
     "output_type": "stream",
     "text": [
      "CNN(\n",
      "  (conv_layer): Sequential(\n",
      "    (0): Sequential(\n",
      "      (0): Conv2d(3, 64, kernel_size=(3, 3), stride=(1, 1))\n",
      "      (1): BatchNorm2d(64, eps=1e-05, momentum=0.1, affine=True, track_running_stats=True)\n",
      "      (2): LeakyReLU(negative_slope=0.01)\n",
      "      (3): MaxPool2d(kernel_size=2, stride=2, padding=0, dilation=1, ceil_mode=False)\n",
      "    )\n",
      "    (1): Sequential(\n",
      "      (0): Conv2d(64, 128, kernel_size=(2, 2), stride=(1, 1))\n",
      "      (1): BatchNorm2d(128, eps=1e-05, momentum=0.1, affine=True, track_running_stats=True)\n",
      "      (2): LeakyReLU(negative_slope=0.01)\n",
      "      (3): MaxPool2d(kernel_size=2, stride=2, padding=0, dilation=1, ceil_mode=False)\n",
      "    )\n",
      "    (2): Sequential(\n",
      "      (0): Conv2d(128, 256, kernel_size=(2, 2), stride=(1, 1))\n",
      "      (1): BatchNorm2d(256, eps=1e-05, momentum=0.1, affine=True, track_running_stats=True)\n",
      "      (2): LeakyReLU(negative_slope=0.01)\n",
      "      (3): MaxPool2d(kernel_size=2, stride=2, padding=0, dilation=1, ceil_mode=False)\n",
      "    )\n",
      "    (3): Sequential(\n",
      "      (0): Conv2d(256, 512, kernel_size=(2, 2), stride=(1, 1))\n",
      "      (1): BatchNorm2d(512, eps=1e-05, momentum=0.1, affine=True, track_running_stats=True)\n",
      "      (2): LeakyReLU(negative_slope=0.01)\n",
      "      (3): MaxPool2d(kernel_size=2, stride=2, padding=0, dilation=1, ceil_mode=False)\n",
      "    )\n",
      "  )\n",
      "  (fc_layer): Sequential(\n",
      "    (0): Flatten(start_dim=1, end_dim=-1)\n",
      "    (1): Dropout(p=0.25, inplace=False)\n",
      "    (2): Linear(in_features=512, out_features=256, bias=True)\n",
      "    (3): ReLU()\n",
      "    (4): Linear(in_features=256, out_features=128, bias=True)\n",
      "    (5): ReLU()\n",
      "    (6): Linear(in_features=128, out_features=10, bias=True)\n",
      "  )\n",
      ")\n"
     ]
    }
   ],
   "source": [
    "model = CNN(clyrs,llyrs).to(device)\n",
    "print(model)"
   ]
  },
  {
   "cell_type": "code",
   "execution_count": 37,
   "id": "81cca41d-156b-498a-8a60-5c36cf092267",
   "metadata": {},
   "outputs": [
    {
     "name": "stdout",
     "output_type": "stream",
     "text": [
      "----------------------------------------------------------------\n",
      "        Layer (type)               Output Shape         Param #\n",
      "================================================================\n",
      "            Conv2d-1           [-1, 64, 30, 30]           1,792\n",
      "       BatchNorm2d-2           [-1, 64, 30, 30]             128\n",
      "         LeakyReLU-3           [-1, 64, 30, 30]               0\n",
      "         MaxPool2d-4           [-1, 64, 15, 15]               0\n",
      "            Conv2d-5          [-1, 128, 14, 14]          32,896\n",
      "       BatchNorm2d-6          [-1, 128, 14, 14]             256\n",
      "         LeakyReLU-7          [-1, 128, 14, 14]               0\n",
      "         MaxPool2d-8            [-1, 128, 7, 7]               0\n",
      "            Conv2d-9            [-1, 256, 6, 6]         131,328\n",
      "      BatchNorm2d-10            [-1, 256, 6, 6]             512\n",
      "        LeakyReLU-11            [-1, 256, 6, 6]               0\n",
      "        MaxPool2d-12            [-1, 256, 3, 3]               0\n",
      "           Conv2d-13            [-1, 512, 2, 2]         524,800\n",
      "      BatchNorm2d-14            [-1, 512, 2, 2]           1,024\n",
      "        LeakyReLU-15            [-1, 512, 2, 2]               0\n",
      "        MaxPool2d-16            [-1, 512, 1, 1]               0\n",
      "          Flatten-17                  [-1, 512]               0\n",
      "          Dropout-18                  [-1, 512]               0\n",
      "           Linear-19                  [-1, 256]         131,328\n",
      "             ReLU-20                  [-1, 256]               0\n",
      "           Linear-21                  [-1, 128]          32,896\n",
      "             ReLU-22                  [-1, 128]               0\n",
      "           Linear-23                   [-1, 10]           1,290\n",
      "================================================================\n",
      "Total params: 858,250\n",
      "Trainable params: 858,250\n",
      "Non-trainable params: 0\n",
      "----------------------------------------------------------------\n",
      "Input size (MB): 0.01\n",
      "Forward/backward pass size (MB): 2.34\n",
      "Params size (MB): 3.27\n",
      "Estimated Total Size (MB): 5.63\n",
      "----------------------------------------------------------------\n"
     ]
    }
   ],
   "source": [
    "summary(model,(3,32,32))"
   ]
  },
  {
   "cell_type": "code",
   "execution_count": 38,
   "id": "053301da-3854-4e76-a902-8e8b9044bca7",
   "metadata": {},
   "outputs": [],
   "source": [
    "optimizer = torch.optim.SGD(model.parameters(), lr=0.01, weight_decay = 0.001, momentum = 0.9)  "
   ]
  },
  {
   "cell_type": "code",
   "execution_count": 39,
   "id": "9d46161a-acd2-4d86-b688-1601af6a7a5a",
   "metadata": {},
   "outputs": [
    {
     "name": "stdout",
     "output_type": "stream",
     "text": [
      "Training with  ->45056 images\n",
      "size of train loader  ->704 images\n",
      "Evaluating with  ->5056 images\n",
      "size of eval loader  ->79 images\n",
      "Classification  ->True\n",
      "Running for epochs ->10\n",
      "\n",
      "EPOCH 0\n",
      "training step: size of sample 704\n",
      "Validation step: size of sample 79\n",
      "--- EPOCH 0 AVG TRAIN LOSS: 1.4300168177790262\n",
      "--- EPOCH 0 AVG VAL LOSS: 1.2045191549047638\n",
      "Accuracy on the 79 validation images: 56.22 %\n",
      "\n",
      "EPOCH 1\n",
      "training step: size of sample 704\n",
      "Validation step: size of sample 79\n",
      "--- EPOCH 1 AVG TRAIN LOSS: 1.0160576940768145\n",
      "--- EPOCH 1 AVG VAL LOSS: 0.8922383309919623\n",
      "Accuracy on the 79 validation images: 68.2 %\n",
      "\n",
      "EPOCH 2\n",
      "training step: size of sample 704\n",
      "Validation step: size of sample 79\n",
      "--- EPOCH 2 AVG TRAIN LOSS: 0.8471433667212047\n",
      "--- EPOCH 2 AVG VAL LOSS: 0.8015053785299953\n",
      "Accuracy on the 79 validation images: 72.1 %\n",
      "\n",
      "EPOCH 3\n",
      "training step: size of sample 704\n",
      "Validation step: size of sample 79\n",
      "--- EPOCH 3 AVG TRAIN LOSS: 0.7343968024308031\n",
      "--- EPOCH 3 AVG VAL LOSS: 0.7720557798313189\n",
      "Accuracy on the 79 validation images: 73.4 %\n",
      "\n",
      "EPOCH 4\n",
      "training step: size of sample 704\n",
      "Validation step: size of sample 79\n",
      "--- EPOCH 4 AVG TRAIN LOSS: 0.6504504225555469\n",
      "--- EPOCH 4 AVG VAL LOSS: 0.814713764039776\n",
      "Accuracy on the 79 validation images: 72.6 %\n",
      "\n",
      "EPOCH 5\n",
      "training step: size of sample 704\n",
      "Validation step: size of sample 79\n",
      "--- EPOCH 5 AVG TRAIN LOSS: 0.5972539339299229\n",
      "--- EPOCH 5 AVG VAL LOSS: 0.7051378703570064\n",
      "Accuracy on the 79 validation images: 75.42 %\n",
      "\n",
      "EPOCH 6\n",
      "training step: size of sample 704\n",
      "Validation step: size of sample 79\n",
      "--- EPOCH 6 AVG TRAIN LOSS: 0.5356646569403396\n",
      "--- EPOCH 6 AVG VAL LOSS: 0.6467312318803389\n",
      "Accuracy on the 79 validation images: 77.48 %\n",
      "\n",
      "EPOCH 7\n",
      "training step: size of sample 704\n",
      "Validation step: size of sample 79\n",
      "--- EPOCH 7 AVG TRAIN LOSS: 0.4876891325058585\n",
      "--- EPOCH 7 AVG VAL LOSS: 0.68505655587474\n",
      "Accuracy on the 79 validation images: 76.7 %\n",
      "\n",
      "EPOCH 8\n",
      "training step: size of sample 704\n",
      "Validation step: size of sample 79\n",
      "--- EPOCH 8 AVG TRAIN LOSS: 0.4412611865819516\n",
      "--- EPOCH 8 AVG VAL LOSS: 0.7451212160949465\n",
      "Accuracy on the 79 validation images: 74.8 %\n",
      "\n",
      "EPOCH 9\n",
      "training step: size of sample 704\n",
      "Validation step: size of sample 79\n",
      "--- EPOCH 9 AVG TRAIN LOSS: 0.40946610252880916\n",
      "--- EPOCH 9 AVG VAL LOSS: 0.7546338627610025\n",
      "Accuracy on the 79 validation images: 74.82 %\n"
     ]
    }
   ],
   "source": [
    "train_losses, val_losses, acc = x_train_cnn(train_loader_cf, valid_loader_cf, model, optimizer, device, criterion, \n",
    "                                            batch_size=64, xc=True,\n",
    "                                            iprnt=100, epochs=10)"
   ]
  },
  {
   "cell_type": "code",
   "execution_count": 40,
   "id": "ddbb7aa6-b46e-495d-bbc9-33e8bcef4276",
   "metadata": {},
   "outputs": [
    {
     "data": {
      "image/png": "[encoded data removed]",
      "text/plain": [
       "<Figure size 600x400 with 1 Axes>"
      ]
     },
     "metadata": {},
     "output_type": "display_data"
    }
   ],
   "source": [
    "plot_loss(10, train_losses, val_losses,figsize=(6, 4))"
   ]
  },
  {
   "cell_type": "code",
   "execution_count": 41,
   "id": "8f3f7da2-182e-42e6-a5c5-d127127cae42",
   "metadata": {},
   "outputs": [
    {
     "data": {
      "image/png": "[encoded data removed]",
      "text/plain": [
       "<Figure size 1000x400 with 1 Axes>"
      ]
     },
     "metadata": {},
     "output_type": "display_data"
    }
   ],
   "source": [
    "plot_accuracy(acc,figsize=(10, 4))"
   ]
  },
  {
   "cell_type": "markdown",
   "id": "91901857-48a3-439e-917c-e95b8d7bfa39",
   "metadata": {},
   "source": [
    "### CNN with more LL"
   ]
  },
  {
   "cell_type": "code",
   "execution_count": 42,
   "id": "e6050016-242f-4deb-beca-fb97c14b8d7e",
   "metadata": {},
   "outputs": [],
   "source": [
    "CL = []\n",
    "c1 = Conv2dPars(in_channels=3, out_channels=32, kernel_size=3, padding=1)\n",
    "c2 = Conv2dPars(in_channels=32, out_channels=64, kernel_size=3, padding=1)\n",
    "c3 = Conv2dPars(in_channels=64, out_channels=128, kernel_size=3, padding=1)\n",
    "p2d = MaxPool2dPars(kernel_size=2, stride=2)\n",
    "CL.append(build_conv_layer(c1, p2d, relu='standard'))\n",
    "CL.append(build_conv_layer(c2, p2d, relu='standard'))\n",
    "CL.append(build_conv_layer(c3, p2d, relu='standard'))\n",
    "clyrs = build_conv_layers(CL)"
   ]
  },
  {
   "cell_type": "code",
   "execution_count": 46,
   "id": "27636e74-218d-401b-955c-65c477951ac0",
   "metadata": {},
   "outputs": [],
   "source": [
    "LLYR=[]\n",
    "LLYR.append(LinealLayerPars(512, 1024))\n",
    "LLYR.append(LinealLayerPars(1024, 512))\n",
    "LLYR.append(LinealLayerPars(512, 256))\n",
    "LLYR.append(LinealLayerPars(256, 128))\n",
    "LLYR.append(LinealLayerPars(128, 64))\n",
    "LLYR.append(LinealLayerPars(64, 10))\n",
    "llyrs = build_linear_layers(LLYR, df=0.25)"
   ]
  },
  {
   "cell_type": "code",
   "execution_count": 47,
   "id": "8466bb87-d2e9-43db-b63a-00766631b388",
   "metadata": {},
   "outputs": [
    {
     "name": "stdout",
     "output_type": "stream",
     "text": [
      "CNN(\n",
      "  (conv_layer): Sequential(\n",
      "    (0): Sequential(\n",
      "      (0): Conv2d(3, 32, kernel_size=(3, 3), stride=(1, 1))\n",
      "      (1): BatchNorm2d(32, eps=1e-05, momentum=0.1, affine=True, track_running_stats=True)\n",
      "      (2): ReLU()\n",
      "      (3): MaxPool2d(kernel_size=2, stride=2, padding=0, dilation=1, ceil_mode=False)\n",
      "    )\n",
      "    (1): Sequential(\n",
      "      (0): Conv2d(32, 64, kernel_size=(3, 3), stride=(1, 1))\n",
      "      (1): BatchNorm2d(64, eps=1e-05, momentum=0.1, affine=True, track_running_stats=True)\n",
      "      (2): ReLU()\n",
      "      (3): MaxPool2d(kernel_size=2, stride=2, padding=0, dilation=1, ceil_mode=False)\n",
      "    )\n",
      "    (2): Sequential(\n",
      "      (0): Conv2d(64, 128, kernel_size=(3, 3), stride=(1, 1))\n",
      "      (1): BatchNorm2d(128, eps=1e-05, momentum=0.1, affine=True, track_running_stats=True)\n",
      "      (2): ReLU()\n",
      "      (3): MaxPool2d(kernel_size=2, stride=2, padding=0, dilation=1, ceil_mode=False)\n",
      "    )\n",
      "  )\n",
      "  (fc_layer): Sequential(\n",
      "    (0): Flatten(start_dim=1, end_dim=-1)\n",
      "    (1): Dropout(p=0.25, inplace=False)\n",
      "    (2): Linear(in_features=512, out_features=1024, bias=True)\n",
      "    (3): ReLU()\n",
      "    (4): Linear(in_features=1024, out_features=512, bias=True)\n",
      "    (5): ReLU()\n",
      "    (6): Linear(in_features=512, out_features=256, bias=True)\n",
      "    (7): ReLU()\n",
      "    (8): Linear(in_features=256, out_features=128, bias=True)\n",
      "    (9): ReLU()\n",
      "    (10): Linear(in_features=128, out_features=64, bias=True)\n",
      "    (11): ReLU()\n",
      "    (12): Linear(in_features=64, out_features=10, bias=True)\n",
      "  )\n",
      ")\n"
     ]
    }
   ],
   "source": [
    "model = CNN(clyrs,llyrs).to(device)\n",
    "print(model)"
   ]
  },
  {
   "cell_type": "code",
   "execution_count": 48,
   "id": "2f482fe1-e0df-4d61-873b-8a6647698de0",
   "metadata": {},
   "outputs": [
    {
     "name": "stdout",
     "output_type": "stream",
     "text": [
      "----------------------------------------------------------------\n",
      "        Layer (type)               Output Shape         Param #\n",
      "================================================================\n",
      "            Conv2d-1           [-1, 32, 30, 30]             896\n",
      "       BatchNorm2d-2           [-1, 32, 30, 30]              64\n",
      "              ReLU-3           [-1, 32, 30, 30]               0\n",
      "         MaxPool2d-4           [-1, 32, 15, 15]               0\n",
      "            Conv2d-5           [-1, 64, 13, 13]          18,496\n",
      "       BatchNorm2d-6           [-1, 64, 13, 13]             128\n",
      "              ReLU-7           [-1, 64, 13, 13]               0\n",
      "         MaxPool2d-8             [-1, 64, 6, 6]               0\n",
      "            Conv2d-9            [-1, 128, 4, 4]          73,856\n",
      "      BatchNorm2d-10            [-1, 128, 4, 4]             256\n",
      "             ReLU-11            [-1, 128, 4, 4]               0\n",
      "        MaxPool2d-12            [-1, 128, 2, 2]               0\n",
      "          Flatten-13                  [-1, 512]               0\n",
      "          Dropout-14                  [-1, 512]               0\n",
      "           Linear-15                 [-1, 1024]         525,312\n",
      "             ReLU-16                 [-1, 1024]               0\n",
      "           Linear-17                  [-1, 512]         524,800\n",
      "             ReLU-18                  [-1, 512]               0\n",
      "           Linear-19                  [-1, 256]         131,328\n",
      "             ReLU-20                  [-1, 256]               0\n",
      "           Linear-21                  [-1, 128]          32,896\n",
      "             ReLU-22                  [-1, 128]               0\n",
      "           Linear-23                   [-1, 64]           8,256\n",
      "             ReLU-24                   [-1, 64]               0\n",
      "           Linear-25                   [-1, 10]             650\n",
      "================================================================\n",
      "Total params: 1,316,938\n",
      "Trainable params: 1,316,938\n",
      "Non-trainable params: 0\n",
      "----------------------------------------------------------------\n",
      "Input size (MB): 0.01\n",
      "Forward/backward pass size (MB): 1.07\n",
      "Params size (MB): 5.02\n",
      "Estimated Total Size (MB): 6.10\n",
      "----------------------------------------------------------------\n"
     ]
    }
   ],
   "source": [
    "summary(model,(3,32,32))"
   ]
  },
  {
   "cell_type": "code",
   "execution_count": 49,
   "id": "ef4441b6-d902-431c-b86a-dd75d3f3ce18",
   "metadata": {},
   "outputs": [],
   "source": [
    "optimizer = torch.optim.SGD(model.parameters(), lr=0.01, weight_decay = 0.001, momentum = 0.9)  "
   ]
  },
  {
   "cell_type": "code",
   "execution_count": 50,
   "id": "494321ed-5f3d-4156-8505-0ff2194ed102",
   "metadata": {},
   "outputs": [
    {
     "name": "stdout",
     "output_type": "stream",
     "text": [
      "Training with  ->45056 images\n",
      "size of train loader  ->704 images\n",
      "Evaluating with  ->5056 images\n",
      "size of eval loader  ->79 images\n",
      "Classification  ->True\n",
      "Running for epochs ->10\n",
      "\n",
      "EPOCH 0\n",
      "training step: size of sample 704\n",
      "Validation step: size of sample 79\n",
      "--- EPOCH 0 AVG TRAIN LOSS: 1.8858400154858828\n",
      "--- EPOCH 0 AVG VAL LOSS: 1.5615389256537715\n",
      "Accuracy on the 79 validation images: 40.76 %\n",
      "\n",
      "EPOCH 1\n",
      "training step: size of sample 704\n",
      "Validation step: size of sample 79\n",
      "--- EPOCH 1 AVG TRAIN LOSS: 1.3678918872875245\n",
      "--- EPOCH 1 AVG VAL LOSS: 1.2249365071707135\n",
      "Accuracy on the 79 validation images: 56.1 %\n",
      "\n",
      "EPOCH 2\n",
      "training step: size of sample 704\n",
      "Validation step: size of sample 79\n",
      "--- EPOCH 2 AVG TRAIN LOSS: 1.1421660612421958\n",
      "--- EPOCH 2 AVG VAL LOSS: 1.1697805818123153\n",
      "Accuracy on the 79 validation images: 58.2 %\n",
      "\n",
      "EPOCH 3\n",
      "training step: size of sample 704\n",
      "Validation step: size of sample 79\n",
      "--- EPOCH 3 AVG TRAIN LOSS: 1.022275993261825\n",
      "--- EPOCH 3 AVG VAL LOSS: 0.919601819183253\n",
      "Accuracy on the 79 validation images: 67.36 %\n",
      "\n",
      "EPOCH 4\n",
      "training step: size of sample 704\n",
      "Validation step: size of sample 79\n",
      "--- EPOCH 4 AVG TRAIN LOSS: 0.9224260503595526\n",
      "--- EPOCH 4 AVG VAL LOSS: 0.95554813855811\n",
      "Accuracy on the 79 validation images: 66.62 %\n",
      "\n",
      "EPOCH 5\n",
      "training step: size of sample 704\n",
      "Validation step: size of sample 79\n",
      "--- EPOCH 5 AVG TRAIN LOSS: 0.847016945311969\n",
      "--- EPOCH 5 AVG VAL LOSS: 0.9055112894577316\n",
      "Accuracy on the 79 validation images: 68.24 %\n",
      "\n",
      "EPOCH 6\n",
      "training step: size of sample 704\n",
      "Validation step: size of sample 79\n",
      "--- EPOCH 6 AVG TRAIN LOSS: 0.7873355957933448\n",
      "--- EPOCH 6 AVG VAL LOSS: 0.7867764717415918\n",
      "Accuracy on the 79 validation images: 72.64 %\n",
      "\n",
      "EPOCH 7\n",
      "training step: size of sample 704\n",
      "Validation step: size of sample 79\n",
      "--- EPOCH 7 AVG TRAIN LOSS: 0.7431656422347508\n",
      "--- EPOCH 7 AVG VAL LOSS: 0.8716741781445998\n",
      "Accuracy on the 79 validation images: 69.9 %\n",
      "\n",
      "EPOCH 8\n",
      "training step: size of sample 704\n",
      "Validation step: size of sample 79\n",
      "--- EPOCH 8 AVG TRAIN LOSS: 0.6936972824094648\n",
      "--- EPOCH 8 AVG VAL LOSS: 0.701320198895056\n",
      "Accuracy on the 79 validation images: 76.32 %\n",
      "\n",
      "EPOCH 9\n",
      "training step: size of sample 704\n",
      "Validation step: size of sample 79\n",
      "--- EPOCH 9 AVG TRAIN LOSS: 0.6601487753743475\n",
      "--- EPOCH 9 AVG VAL LOSS: 0.8310656917246082\n",
      "Accuracy on the 79 validation images: 71.46 %\n"
     ]
    }
   ],
   "source": [
    "train_losses, val_losses, acc = x_train_cnn(train_loader_cf, valid_loader_cf, model, optimizer, device, criterion, \n",
    "                                            batch_size=64, xc=True,\n",
    "                                            iprnt=100, epochs=10)"
   ]
  },
  {
   "cell_type": "code",
   "execution_count": 51,
   "id": "75fa1845-55c3-4680-aad0-db29f1104419",
   "metadata": {},
   "outputs": [
    {
     "data": {
      "image/png": "[encoded data removed]",
      "text/plain": [
       "<Figure size 600x400 with 1 Axes>"
      ]
     },
     "metadata": {},
     "output_type": "display_data"
    }
   ],
   "source": [
    "plot_loss(10, train_losses, val_losses,figsize=(6, 4))"
   ]
  },
  {
   "cell_type": "code",
   "execution_count": 52,
   "id": "ba4aac6b-80a6-4063-b8c5-9b5a572c061b",
   "metadata": {},
   "outputs": [
    {
     "data": {
      "image/png": "[encoded data removed]",
      "text/plain": [
       "<Figure size 1000x400 with 1 Axes>"
      ]
     },
     "metadata": {},
     "output_type": "display_data"
    }
   ],
   "source": [
    "plot_accuracy(acc,figsize=(10, 4))"
   ]
  },
  {
   "cell_type": "markdown",
   "id": "2df9cf01-597f-4d43-9d83-56d5a60e8603",
   "metadata": {},
   "source": [
    "## RESNET"
   ]
  },
  {
   "cell_type": "code",
   "execution_count": 66,
   "id": "357278ff-49b3-4a1d-be02-4c446d2d4b50",
   "metadata": {},
   "outputs": [
    {
     "name": "stdout",
     "output_type": "stream",
     "text": [
      " ## make_layer 1: planes = 32,  blocks = 1, stride = 1\n",
      " ## make_layer: in_planes=32\n",
      " ## make_layer: downsample = None\n",
      " ## make_layer 2: planes = 64,  blocks = 1, stride = 2\n",
      " ## make_layer: in_planes=32\n",
      " ## make_layer: downsample = Sequential(\n",
      "  (0): Conv2d(32, 64, kernel_size=(1, 1), stride=(2, 2))\n",
      "  (1): BatchNorm2d(64, eps=1e-05, momentum=0.1, affine=True, track_running_stats=True)\n",
      ")\n",
      " ## make_layer 3: planes = 128,  blocks = 1, stride = 2\n",
      " ## make_layer: in_planes=64\n",
      " ## make_layer: downsample = Sequential(\n",
      "  (0): Conv2d(64, 128, kernel_size=(1, 1), stride=(2, 2))\n",
      "  (1): BatchNorm2d(128, eps=1e-05, momentum=0.1, affine=True, track_running_stats=True)\n",
      ")\n",
      " ## make_layer 4: planes = 256,  blocks = 1, stride = 2\n",
      " ## make_layer: in_planes=128\n",
      " ## make_layer: downsample = Sequential(\n",
      "  (0): Conv2d(128, 256, kernel_size=(1, 1), stride=(2, 2))\n",
      "  (1): BatchNorm2d(256, eps=1e-05, momentum=0.1, affine=True, track_running_stats=True)\n",
      ")\n",
      " ## make_layer 5: planes = 512,  blocks = 1, stride = 2\n",
      " ## make_layer: in_planes=256\n",
      " ## make_layer: downsample = Sequential(\n",
      "  (0): Conv2d(256, 512, kernel_size=(1, 1), stride=(2, 2))\n",
      "  (1): BatchNorm2d(512, eps=1e-05, momentum=0.1, affine=True, track_running_stats=True)\n",
      ")\n"
     ]
    }
   ],
   "source": [
    "model = ResNet10(ResBlock, in_channels=3, out_channels=32, num_classes = 10, dropout_fraction=0.2, debug=True, dropout=True).to(device)"
   ]
  },
  {
   "cell_type": "code",
   "execution_count": 67,
   "id": "2c170b9d-8ced-46e1-9257-32fedda10587",
   "metadata": {},
   "outputs": [
    {
     "name": "stdout",
     "output_type": "stream",
     "text": [
      " ResNet10: input data shape =>torch.Size([1, 3, 32, 32])\n",
      " ResNet10: after conv1 =>torch.Size([1, 32, 32, 32])\n",
      " ResNet10: after layer0 =>torch.Size([1, 32, 32, 32])\n",
      " ResNet10: after layer1 =>torch.Size([1, 64, 16, 16])\n",
      " ResNet10: after layer2 =>torch.Size([1, 128, 8, 8])\n",
      " ResNet10: after layer3 =>torch.Size([1, 256, 4, 4])\n",
      " ResNet10: after layer4 =>torch.Size([1, 512, 2, 2])\n",
      " ResNet10: after avgpool =>torch.Size([1, 512, 1, 1])\n",
      " ResNet10: after flatten =>torch.Size([1, 512])\n",
      " ResNet10: after fc =>torch.Size([1, 10])\n"
     ]
    },
    {
     "data": {
      "text/plain": [
       "tensor([[ 0.8669,  1.6612, -1.4476,  0.0064,  1.3188,  0.8918, -0.6765, -0.2993,\n",
       "         -2.2371,  2.0501]], device='cuda:0', grad_fn=<AddmmBackward0>)"
      ]
     },
     "execution_count": 67,
     "metadata": {},
     "output_type": "execute_result"
    }
   ],
   "source": [
    "model(torch.randn(1,3,32,32).to(device))"
   ]
  },
  {
   "cell_type": "code",
   "execution_count": 68,
   "id": "ed88ffd6-0718-474b-879b-44350d482453",
   "metadata": {},
   "outputs": [
    {
     "name": "stdout",
     "output_type": "stream",
     "text": [
      "----------------------------------------------------------------\n",
      "        Layer (type)               Output Shape         Param #\n",
      "================================================================\n",
      "            Conv2d-1           [-1, 32, 32, 32]             896\n",
      "       BatchNorm2d-2           [-1, 32, 32, 32]              64\n",
      "              ReLU-3           [-1, 32, 32, 32]               0\n",
      "            Conv2d-4           [-1, 32, 32, 32]           9,248\n",
      "       BatchNorm2d-5           [-1, 32, 32, 32]              64\n",
      "              ReLU-6           [-1, 32, 32, 32]               0\n",
      "            Conv2d-7           [-1, 32, 32, 32]           9,248\n",
      "       BatchNorm2d-8           [-1, 32, 32, 32]              64\n",
      "              ReLU-9           [-1, 32, 32, 32]               0\n",
      "         ResBlock-10           [-1, 32, 32, 32]               0\n",
      "           Conv2d-11           [-1, 64, 16, 16]          18,496\n",
      "      BatchNorm2d-12           [-1, 64, 16, 16]             128\n",
      "             ReLU-13           [-1, 64, 16, 16]               0\n",
      "           Conv2d-14           [-1, 64, 16, 16]          36,928\n",
      "      BatchNorm2d-15           [-1, 64, 16, 16]             128\n",
      "           Conv2d-16           [-1, 64, 16, 16]           2,112\n",
      "      BatchNorm2d-17           [-1, 64, 16, 16]             128\n",
      "             ReLU-18           [-1, 64, 16, 16]               0\n",
      "         ResBlock-19           [-1, 64, 16, 16]               0\n",
      "           Conv2d-20            [-1, 128, 8, 8]          73,856\n",
      "      BatchNorm2d-21            [-1, 128, 8, 8]             256\n",
      "             ReLU-22            [-1, 128, 8, 8]               0\n",
      "           Conv2d-23            [-1, 128, 8, 8]         147,584\n",
      "      BatchNorm2d-24            [-1, 128, 8, 8]             256\n",
      "           Conv2d-25            [-1, 128, 8, 8]           8,320\n",
      "      BatchNorm2d-26            [-1, 128, 8, 8]             256\n",
      "             ReLU-27            [-1, 128, 8, 8]               0\n",
      "         ResBlock-28            [-1, 128, 8, 8]               0\n",
      "           Conv2d-29            [-1, 256, 4, 4]         295,168\n",
      "      BatchNorm2d-30            [-1, 256, 4, 4]             512\n",
      "             ReLU-31            [-1, 256, 4, 4]               0\n",
      "           Conv2d-32            [-1, 256, 4, 4]         590,080\n",
      "      BatchNorm2d-33            [-1, 256, 4, 4]             512\n",
      "           Conv2d-34            [-1, 256, 4, 4]          33,024\n",
      "      BatchNorm2d-35            [-1, 256, 4, 4]             512\n",
      "             ReLU-36            [-1, 256, 4, 4]               0\n",
      "         ResBlock-37            [-1, 256, 4, 4]               0\n",
      "           Conv2d-38            [-1, 512, 2, 2]       1,180,160\n",
      "      BatchNorm2d-39            [-1, 512, 2, 2]           1,024\n",
      "             ReLU-40            [-1, 512, 2, 2]               0\n",
      "           Conv2d-41            [-1, 512, 2, 2]       2,359,808\n",
      "      BatchNorm2d-42            [-1, 512, 2, 2]           1,024\n",
      "           Conv2d-43            [-1, 512, 2, 2]         131,584\n",
      "      BatchNorm2d-44            [-1, 512, 2, 2]           1,024\n",
      "             ReLU-45            [-1, 512, 2, 2]               0\n",
      "         ResBlock-46            [-1, 512, 2, 2]               0\n",
      "        MaxPool2d-47            [-1, 512, 1, 1]               0\n",
      "          Dropout-48                  [-1, 512]               0\n",
      "           Linear-49                   [-1, 10]           5,130\n",
      "================================================================\n",
      "Total params: 4,907,594\n",
      "Trainable params: 4,907,594\n",
      "Non-trainable params: 0\n",
      "----------------------------------------------------------------\n",
      "Input size (MB): 0.01\n",
      "Forward/backward pass size (MB): 4.62\n",
      "Params size (MB): 18.72\n",
      "Estimated Total Size (MB): 23.35\n",
      "----------------------------------------------------------------\n"
     ]
    }
   ],
   "source": [
    "summary(model,(3,32,32))"
   ]
  },
  {
   "cell_type": "code",
   "execution_count": 69,
   "id": "1b811adc-5781-49f9-80a3-3aed3b6e4b2d",
   "metadata": {},
   "outputs": [],
   "source": [
    "optimizer= optim.Adam(model.parameters(), lr=0.001)"
   ]
  },
  {
   "cell_type": "code",
   "execution_count": 70,
   "id": "b4319324-3cf9-4894-a888-5304cbc9e4b9",
   "metadata": {},
   "outputs": [
    {
     "name": "stdout",
     "output_type": "stream",
     "text": [
      "Training with  ->45056 images\n",
      "size of train loader  ->704 images\n",
      "Evaluating with  ->5056 images\n",
      "size of eval loader  ->79 images\n",
      "Classification  ->True\n",
      "Running for epochs ->10\n",
      "\n",
      "EPOCH 0\n",
      "training step: size of sample 704\n",
      "Validation step: size of sample 79\n",
      "--- EPOCH 0 AVG TRAIN LOSS: 1.3436921691860666\n",
      "--- EPOCH 0 AVG VAL LOSS: 1.0435487250738507\n",
      "Accuracy on the 79 validation images: 62.7 %\n",
      "\n",
      "EPOCH 1\n",
      "training step: size of sample 704\n",
      "Validation step: size of sample 79\n",
      "--- EPOCH 1 AVG TRAIN LOSS: 0.8498415062627331\n",
      "--- EPOCH 1 AVG VAL LOSS: 0.8109385110909426\n",
      "Accuracy on the 79 validation images: 71.44 %\n",
      "\n",
      "EPOCH 2\n",
      "training step: size of sample 704\n",
      "Validation step: size of sample 79\n",
      "--- EPOCH 2 AVG TRAIN LOSS: 0.6394444191405042\n",
      "--- EPOCH 2 AVG VAL LOSS: 0.7257807315150394\n",
      "Accuracy on the 79 validation images: 75.32 %\n",
      "\n",
      "EPOCH 3\n",
      "training step: size of sample 704\n",
      "Validation step: size of sample 79\n",
      "--- EPOCH 3 AVG TRAIN LOSS: 0.4996755394703624\n",
      "--- EPOCH 3 AVG VAL LOSS: 0.706076971337765\n",
      "Accuracy on the 79 validation images: 75.6 %\n",
      "\n",
      "EPOCH 4\n",
      "training step: size of sample 704\n",
      "Validation step: size of sample 79\n",
      "--- EPOCH 4 AVG TRAIN LOSS: 0.36543638197789813\n",
      "--- EPOCH 4 AVG VAL LOSS: 0.704839866749848\n",
      "Accuracy on the 79 validation images: 77.22 %\n",
      "\n",
      "EPOCH 5\n",
      "training step: size of sample 704\n",
      "Validation step: size of sample 79\n",
      "--- EPOCH 5 AVG TRAIN LOSS: 0.2665388939627023\n",
      "--- EPOCH 5 AVG VAL LOSS: 0.7792427773717083\n",
      "Accuracy on the 79 validation images: 77.2 %\n",
      "\n",
      "EPOCH 6\n",
      "training step: size of sample 704\n",
      "Validation step: size of sample 79\n",
      "--- EPOCH 6 AVG TRAIN LOSS: 0.18891324271151627\n",
      "--- EPOCH 6 AVG VAL LOSS: 0.851502700319773\n",
      "Accuracy on the 79 validation images: 76.48 %\n",
      "\n",
      "EPOCH 7\n",
      "training step: size of sample 704\n",
      "Validation step: size of sample 79\n",
      "--- EPOCH 7 AVG TRAIN LOSS: 0.14747828199390575\n",
      "--- EPOCH 7 AVG VAL LOSS: 0.8428139403179477\n",
      "Accuracy on the 79 validation images: 78.64 %\n",
      "\n",
      "EPOCH 8\n",
      "training step: size of sample 704\n",
      "Validation step: size of sample 79\n",
      "--- EPOCH 8 AVG TRAIN LOSS: 0.11653587831030811\n",
      "--- EPOCH 8 AVG VAL LOSS: 0.9407815563527844\n",
      "Accuracy on the 79 validation images: 78.38 %\n",
      "\n",
      "EPOCH 9\n",
      "training step: size of sample 704\n",
      "Validation step: size of sample 79\n",
      "--- EPOCH 9 AVG TRAIN LOSS: 0.0980431770466649\n",
      "--- EPOCH 9 AVG VAL LOSS: 0.9289703116386752\n",
      "Accuracy on the 79 validation images: 79.84 %\n"
     ]
    }
   ],
   "source": [
    "train_losses, val_losses, acc = x_train_cnn(train_loader_cf, valid_loader_cf, model, optimizer, device, criterion, \n",
    "                                            batch_size=64, xc=True,\n",
    "                                            iprnt=100, epochs=10)"
   ]
  },
  {
   "cell_type": "code",
   "execution_count": 71,
   "id": "1f8558d4-e2d4-4af7-9b38-f46da989357a",
   "metadata": {},
   "outputs": [
    {
     "data": {
      "image/png": "[encoded data removed]",
      "text/plain": [
       "<Figure size 600x400 with 1 Axes>"
      ]
     },
     "metadata": {},
     "output_type": "display_data"
    }
   ],
   "source": [
    "plot_loss(10, train_losses, val_losses,figsize=(6, 4))"
   ]
  },
  {
   "cell_type": "code",
   "execution_count": 72,
   "id": "5647a4f5-4da1-4282-ba9a-3c20ae348807",
   "metadata": {},
   "outputs": [
    {
     "data": {
      "image/png": "[encoded data removed]",
      "text/plain": [
       "<Figure size 1000x400 with 1 Axes>"
      ]
     },
     "metadata": {},
     "output_type": "display_data"
    }
   ],
   "source": [
    "plot_accuracy(acc,figsize=(10, 4))"
   ]
  },
  {
   "cell_type": "code",
   "execution_count": null,
   "id": "4498bf50-d23e-4f59-bf4f-38abd3a94ffa",
   "metadata": {},
   "outputs": [],
   "source": []
  }
 ],
 "metadata": {
  "kernelspec": {
   "display_name": "Python 3 (ipykernel)",
   "language": "python",
   "name": "python3"
  },
  "language_info": {
   "codemirror_mode": {
    "name": "ipython",
    "version": 3
   },
   "file_extension": ".py",
   "mimetype": "text/x-python",
   "name": "python",
   "nbconvert_exporter": "python",
   "pygments_lexer": "ipython3",
   "version": "3.11.5"
  }
 },
 "nbformat": 4,
 "nbformat_minor": 5
}
