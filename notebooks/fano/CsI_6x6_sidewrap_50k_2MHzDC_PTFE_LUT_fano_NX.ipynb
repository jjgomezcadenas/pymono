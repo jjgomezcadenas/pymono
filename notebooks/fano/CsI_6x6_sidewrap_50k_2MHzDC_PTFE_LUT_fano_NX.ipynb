{
 "cells": [
  {
   "cell_type": "code",
   "execution_count": 58,
   "id": "fbdb1305-f99b-41a0-bf6d-0f2a53ea2109",
   "metadata": {},
   "outputs": [
    {
     "name": "stdout",
     "output_type": "stream",
     "text": [
      "The autoreload extension is already loaded. To reload it, use:\n",
      "  %reload_ext autoreload\n"
     ]
    }
   ],
   "source": [
    "%matplotlib inline\n",
    "%load_ext autoreload\n",
    "%autoreload 2\n",
    "import matplotlib.pyplot as plt\n",
    "from matplotlib.pyplot import imshow\n",
    "#plt.rcParams[\"figure.figsize\"] = 10, 8\n",
    "#plt.rcParams[\"font.size\"     ] = 14\n",
    "\n",
    "plt.rcParams.update({\n",
    "    \"font.family\": \"serif\",\n",
    "    \"axes.titlesize\": \"xx-large\",\n",
    "    \"axes.labelsize\": \"xx-large\",\n",
    "    \"xtick.labelsize\": \"x-large\",\n",
    "    \"ytick.labelsize\": \"x-large\",\n",
    "    \"legend.fontsize\": \"large\",\n",
    "    \"figure.titlesize\": \"xx-large\",\n",
    "    \"legend.frameon\": False,\n",
    "    \"text.usetex\": True\n",
    "})"
   ]
  },
  {
   "cell_type": "code",
   "execution_count": 2,
   "id": "0e7669b6-64da-4a67-9390-55b3fa35bb73",
   "metadata": {},
   "outputs": [],
   "source": [
    "import numpy as np\n",
    "import pandas as pd\n",
    "from collections import namedtuple\n",
    "import os\n",
    "import glob"
   ]
  },
  {
   "cell_type": "code",
   "execution_count": 110,
   "id": "7f0fb70d-917d-44c0-9f85-b889a4a92c91",
   "metadata": {},
   "outputs": [],
   "source": [
    "from scipy.interpolate import RegularGridInterpolator\n",
    "from scipy.optimize import curve_fit"
   ]
  },
  {
   "cell_type": "code",
   "execution_count": 3,
   "id": "75817fdc-3eeb-4ab6-8e39-9c62111a6f37",
   "metadata": {},
   "outputs": [],
   "source": [
    "import torch\n",
    "import torch.nn as nn\n",
    "import torch.optim as optim\n",
    "import torch.nn.functional as F\n",
    "from torch.utils.data import Dataset\n",
    "from torch.utils.data import DataLoader\n",
    "from torchvision import transforms"
   ]
  },
  {
   "cell_type": "code",
   "execution_count": 15,
   "id": "c53613a4-8a96-482e-b936-1797a753cf73",
   "metadata": {},
   "outputs": [],
   "source": [
    "from pymono.config import CsI_6x6_sidewrap_50k_2MHzDC_PTFE_LUT_fano_NX"
   ]
  },
  {
   "cell_type": "code",
   "execution_count": 6,
   "id": "55a7300a-0592-4fb0-8226-23e5ba91c049",
   "metadata": {},
   "outputs": [],
   "source": [
    "from pymono.aux_func import select_image_files, select_image_and_metadata, energy\n",
    "from pymono.aux_func import select_image_and_lbl, get_energy, get_means_stds\n",
    "from pymono.aux_func import mean_rms, weighted_mean_and_sigma, energy_h3d, corrected_energy"
   ]
  },
  {
   "cell_type": "code",
   "execution_count": 7,
   "id": "e20bceb0-a6e4-4136-8bf2-6b587ef5852e",
   "metadata": {},
   "outputs": [],
   "source": [
    "from pymono.plt_funcs import plot_true_positions, plot_images, plot_energies, plot_corrected_energy\n",
    "from pymono.plt_funcs import  plot_true_predicted, plotxyz, plot_h3d, plot_energies2, plot_loss\n",
    "from pymono.plt_funcs import plot_images_ds, histoplot, plot_image_ds, plot_images_ds, plot_image"
   ]
  },
  {
   "cell_type": "code",
   "execution_count": 8,
   "id": "0ad21ff3",
   "metadata": {},
   "outputs": [],
   "source": [
    "from pymono.cnn_func import single_run, CNN_basic, CNN_3x3,train_cnn, evaluate_cnn"
   ]
  },
  {
   "cell_type": "code",
   "execution_count": 9,
   "id": "9b5454dd-285f-46cb-9052-2bacd06039f0",
   "metadata": {},
   "outputs": [],
   "source": [
    "from pymono.cnn_func import ResNet10"
   ]
  },
  {
   "cell_type": "code",
   "execution_count": 10,
   "id": "a7550bef-5312-4c32-bea8-cfb61c3884b6",
   "metadata": {},
   "outputs": [],
   "source": [
    "from pymono.mono_dl import MonoDataset, files_list_npy_csv,mono_data_loader"
   ]
  },
  {
   "cell_type": "code",
   "execution_count": 11,
   "id": "e47abe80",
   "metadata": {},
   "outputs": [
    {
     "name": "stdout",
     "output_type": "stream",
     "text": [
      "Using mps device\n"
     ]
    }
   ],
   "source": [
    "device = (\n",
    "    \"cuda\"\n",
    "    if torch.cuda.is_available()\n",
    "    else \"mps\"\n",
    "    if torch.backends.mps.is_available()\n",
    "    else \"cpu\"\n",
    ")\n",
    "print(f\"Using {device} device\")"
   ]
  },
  {
   "cell_type": "markdown",
   "id": "645c0b55-274a-4e44-8dcf-ef36aec24fb0",
   "metadata": {},
   "source": [
    "# CsI_6x6_sidewrap_50k_2MHzDC_PTFE_LUT_fano_NX\n",
    "\n",
    "- Study performance of a CsI monolithic crystal (all but entry side reflectant, entry side black).\n",
    "- Fano factor included\n",
    "\n",
    "#### Parameters\n",
    "- 6x6 SiPMs, thus 8x8 matrix\n",
    "- 50 k photons per point (CsI, with ~100 k photons/MeV)\n",
    "- 2MHzDC (??)\n",
    "- PTFE wrapping (all sides but entry face)\n",
    "- LUT model\n",
    "- Fano factor "
   ]
  },
  {
   "cell_type": "markdown",
   "id": "0ddfd2cb-610a-478b-bb67-59d2aecc8a9f",
   "metadata": {},
   "source": [
    "## Setup"
   ]
  },
  {
   "cell_type": "code",
   "execution_count": 16,
   "id": "70365d67-c62e-4a54-80d3-ec1dd453485e",
   "metadata": {},
   "outputs": [],
   "source": [
    "crystal = CsI_6x6_sidewrap_50k_2MHzDC_PTFE_LUT_fano_NX"
   ]
  },
  {
   "cell_type": "code",
   "execution_count": 17,
   "id": "f326a826-c249-42b1-9c96-f8b1ed48b007",
   "metadata": {},
   "outputs": [
    {
     "data": {
      "text/plain": [
       "'/Users/jjgomezcadenas/data/monolith/CsI_6x6_sidewrap_50k_2MHzDC_PTFE_LUT_fano_NX'"
      ]
     },
     "execution_count": 17,
     "metadata": {},
     "output_type": "execute_result"
    }
   ],
   "source": [
    "crystal"
   ]
  },
  {
   "cell_type": "code",
   "execution_count": 18,
   "id": "3f2edfdf-f548-4de8-80ba-03f67f1ebd5d",
   "metadata": {},
   "outputs": [
    {
     "name": "stdout",
     "output_type": "stream",
     "text": [
      "Selected files: img = images_10.npy, metdata = metadata_10.csv\n"
     ]
    }
   ],
   "source": [
    "imgs, mdata = select_image_and_lbl(crystal, 9)"
   ]
  },
  {
   "cell_type": "code",
   "execution_count": 108,
   "id": "e353f787-6e15-4369-9d1a-8cdb55b92f1d",
   "metadata": {},
   "outputs": [
    {
     "data": {
      "image/png": "[encoded data removed]",
      "text/plain": [
       "<Figure size 1000x400 with 3 Axes>"
      ]
     },
     "metadata": {},
     "output_type": "display_data"
    }
   ],
   "source": [
    "plot_true_positions(mdata)"
   ]
  },
  {
   "cell_type": "code",
   "execution_count": 109,
   "id": "c7c7e06b-e134-4895-b770-316b8778bc23",
   "metadata": {},
   "outputs": [
    {
     "data": {
      "image/png": "[encoded data removed]",
      "text/plain": [
       "<Figure size 1400x400 with 8 Axes>"
      ]
     },
     "metadata": {},
     "output_type": "display_data"
    }
   ],
   "source": [
    "plot_images(imgs, mdata, range(0,8))"
   ]
  },
  {
   "cell_type": "code",
   "execution_count": 21,
   "id": "9724f334-6154-47e6-a828-70437ae93ff8",
   "metadata": {},
   "outputs": [
    {
     "data": {
      "text/plain": [
       "array([[ 17.,  19.,  10.,  10.,  15.,   8.,   8.,  15.],\n",
       "       [ 21.,  14.,   8.,   6.,   1.,   6.,  12.,   7.],\n",
       "       [ 14.,   7.,   4.,   2.,   4.,   2.,   8.,   9.],\n",
       "       [ 13.,   7.,   2.,   6.,   1.,   3.,   4.,   5.],\n",
       "       [ 12.,   6.,   3.,   2.,   1.,   7.,  18., 128.],\n",
       "       [  7.,   3.,   7.,   4.,   5.,   4., 176., 679.],\n",
       "       [ 21.,  12.,  13.,   4.,   5.,  14., 151., 517.],\n",
       "       [ 16.,  11.,  16.,  16.,  11.,  18.,  35.,  89.]], dtype=float32)"
      ]
     },
     "execution_count": 21,
     "metadata": {},
     "output_type": "execute_result"
    }
   ],
   "source": [
    "imgs[0]"
   ]
  },
  {
   "cell_type": "code",
   "execution_count": 22,
   "id": "9993ce44-b1ec-41ae-88c6-2eb7540d4cbc",
   "metadata": {},
   "outputs": [
    {
     "data": {
      "text/plain": [
       "35.609375"
      ]
     },
     "execution_count": 22,
     "metadata": {},
     "output_type": "execute_result"
    }
   ],
   "source": [
    "np.mean(imgs[0])"
   ]
  },
  {
   "cell_type": "code",
   "execution_count": 23,
   "id": "097a15a7-f54a-47bf-ab04-e8e56a4b9b3d",
   "metadata": {},
   "outputs": [
    {
     "data": {
      "text/plain": [
       "106.99542"
      ]
     },
     "execution_count": 23,
     "metadata": {},
     "output_type": "execute_result"
    }
   ],
   "source": [
    "np.std(imgs[0])"
   ]
  },
  {
   "cell_type": "code",
   "execution_count": 24,
   "id": "b18498c6-7cac-4e9b-a9d0-433005eb2505",
   "metadata": {},
   "outputs": [
    {
     "name": "stdout",
     "output_type": "stream",
     "text": [
      "Selected files: img = images_10.npy, metdata = metadata_10.csv\n"
     ]
    }
   ],
   "source": [
    "energy = get_energy(crystal, 9)"
   ]
  },
  {
   "cell_type": "code",
   "execution_count": 25,
   "id": "c85c4f25-28c4-4b00-879a-b006feb1fa2f",
   "metadata": {},
   "outputs": [
    {
     "data": {
      "image/png": "[encoded data removed]",
      "text/plain": [
       "<Figure size 500x400 with 1 Axes>"
      ]
     },
     "metadata": {},
     "output_type": "display_data"
    }
   ],
   "source": [
    "plot_energies2({\"CsITl_6x6_sidewrap\":energy}, xmin=0, xmax=max(energy),num_bins = 50)"
   ]
  },
  {
   "cell_type": "code",
   "execution_count": 26,
   "id": "3d467895-5580-4c9f-a002-dd89148443da",
   "metadata": {},
   "outputs": [
    {
     "name": "stdout",
     "output_type": "stream",
     "text": [
      "mean = 2657.64 resolution (FWHM)  = 24.20 %\n"
     ]
    }
   ],
   "source": [
    "mean6x6, std6x6, fwhm6x6 = mean_rms(energy)\n",
    "\n",
    "print(f\"mean = {mean6x6:.2f} resolution (FWHM)  = {100*fwhm6x6:.2f} %\")"
   ]
  },
  {
   "cell_type": "markdown",
   "id": "89425a21-3ed1-4a6b-9e84-487d5eb20041",
   "metadata": {},
   "source": [
    "## Calibrate energy"
   ]
  },
  {
   "cell_type": "code",
   "execution_count": 71,
   "id": "dbffeb1d-8788-4df6-aa77-c4ed11b7f168",
   "metadata": {},
   "outputs": [],
   "source": [
    "first_file = 0  # initial file indx\n",
    "last_file  = 100 \n"
   ]
  },
  {
   "cell_type": "code",
   "execution_count": 76,
   "id": "08cf74c4-efea-4124-97ec-98310251ab50",
   "metadata": {},
   "outputs": [],
   "source": [
    "def get_images_and_metadata(data_path, frst_file, lst_file):\n",
    "    \n",
    "    img_name, lbl_name, indx = files_list_npy_csv(data_path)\n",
    "    print(f\"Loading files with indexes: {indx[frst_file:lst_file]}\")\n",
    "\n",
    "    images = []\n",
    "    metadata = []\n",
    "\n",
    "    for i in indx[frst_file:lst_file]:\n",
    "        image = np.load(f'{data_path}/{img_name}_{i}.npy')\n",
    "        meta  = np.loadtxt(f'{data_path}/{lbl_name}_{i}.csv', delimiter=\",\", skiprows=1)\n",
    "        images.append(image)\n",
    "        metadata.append(meta)\n",
    "        \n",
    "    metadata = np.vstack(metadata)\n",
    "    images   = np.vstack(images)\n",
    "    energies = np.sum(images, axis=(1, 2))\n",
    "    return images, metadata, energies"
   ]
  },
  {
   "cell_type": "code",
   "execution_count": 77,
   "id": "df28bfd1-863d-42df-85cf-f13ffb98f62d",
   "metadata": {},
   "outputs": [
    {
     "name": "stdout",
     "output_type": "stream",
     "text": [
      "Loading files with indexes: [  1   2   3   4   5   6   7   8   9  10  11  12  13  14  15  16  17  18\n",
      "  19  20  21  22  23  24  25  26  27  28  29  30  31  32  33  34  35  36\n",
      "  37  38  39  40  41  42  43  44  45  46  47  48  49  50  51  52  53  54\n",
      "  55  56  57  58  59  60  61  62  63  64  65  66  67  68  69  70  71  72\n",
      "  73  74  75  76  77  78  79  80  81  82  83  84  85  86  87  88  89  90\n",
      "  91  92  93  94  95  96  97  98  99 100]\n"
     ]
    }
   ],
   "source": [
    "images, metadata, energies = get_images_and_metadata(crystal, first_file, last_file)"
   ]
  },
  {
   "cell_type": "code",
   "execution_count": 70,
   "id": "c8710468-2c1f-4a2b-92b7-726e8e95d908",
   "metadata": {},
   "outputs": [
    {
     "data": {
      "text/plain": [
       "array([[ 18.,  14.,  13.,  15.,  13.,  15.,  13.,  15.],\n",
       "       [ 17.,  12.,  23.,   7.,  10.,  13.,  12.,  15.],\n",
       "       [ 28.,  94., 195., 111.,  11.,   3.,   4.,  14.],\n",
       "       [ 55., 202., 296., 219.,  66.,   4.,   6.,  12.],\n",
       "       [ 53., 196., 264., 211.,  60.,   3.,   2.,  12.],\n",
       "       [ 17.,  68., 141.,  71.,   6.,   7.,   4.,  13.],\n",
       "       [ 22.,  11.,  10.,   6.,   9.,   8.,  14.,  13.],\n",
       "       [ 20.,  24.,  16.,  11.,  10.,   8.,  14.,  12.]], dtype=float32)"
      ]
     },
     "execution_count": 70,
     "metadata": {},
     "output_type": "execute_result"
    }
   ],
   "source": [
    "images[1]"
   ]
  },
  {
   "cell_type": "code",
   "execution_count": 85,
   "id": "755ea695-d902-46d4-acca-e47700460b54",
   "metadata": {},
   "outputs": [
    {
     "data": {
      "text/plain": [
       "array([-17.736462 ,  -0.8838684,  21.183115 , ...,  12.495941 ,\n",
       "       -18.785889 , -16.627571 ])"
      ]
     },
     "execution_count": 85,
     "metadata": {},
     "output_type": "execute_result"
    }
   ],
   "source": [
    "metadata[:, 1]"
   ]
  },
  {
   "cell_type": "code",
   "execution_count": 92,
   "id": "c21685e6-cd95-4c6b-b367-8453182b55cf",
   "metadata": {},
   "outputs": [],
   "source": [
    "def energy_interpolator(charges, metadata, xbins=(10,10,10)):\n",
    "    def get_2d_bin_contents_from_meshgrid(\n",
    "        x_values,\n",
    "        y_values,\n",
    "        z_values,\n",
    "        x_bin_edges,\n",
    "        y_bin_edges,\n",
    "        z_bin_edges,\n",
    "        histogram_contents,\n",
    "    ):\n",
    "        # Flatten the 2D arrays to use np.digitize\n",
    "        x_values_flat = x_values.ravel()\n",
    "        y_values_flat = y_values.ravel()\n",
    "        z_values_flat = z_values.ravel()\n",
    "    \n",
    "        # Use np.digitize to find the bin indices for each dimension\n",
    "        x_bins_flat = np.digitize(x_values_flat, x_bin_edges) - 1\n",
    "        y_bins_flat = np.digitize(y_values_flat, y_bin_edges) - 1\n",
    "        z_bins_flat = np.digitize(z_values_flat, z_bin_edges) - 1\n",
    "    \n",
    "        # Adjust bin indices to handle values that are out of bounds\n",
    "        x_bins_flat = np.clip(x_bins_flat, 0, len(x_bin_edges) - 2)\n",
    "        y_bins_flat = np.clip(y_bins_flat, 0, len(y_bin_edges) - 2)\n",
    "        z_bins_flat = np.clip(z_bins_flat, 0, len(z_bin_edges) - 2)\n",
    "    \n",
    "        # Access the histogram contents using the flattened bin indices\n",
    "        bin_contents_flat = histogram_contents[x_bins_flat, y_bins_flat, z_bins_flat]\n",
    "    \n",
    "        # Reshape the flat bin contents back to the original meshgrid shape\n",
    "        bin_contents = bin_contents_flat.reshape(x_values.shape)\n",
    "    \n",
    "        return bin_contents\n",
    "        \n",
    "    xx = metadata[:, 1]\n",
    "    yy = metadata[:, 2]\n",
    "    zz = metadata[:, 3]\n",
    "    \n",
    "    n, bins = np.histogramdd([xx, yy, zz], weights=charges, bins=xbins)\n",
    "    x_edges = bins[0]\n",
    "    y_edges = bins[1]\n",
    "    z_edges = bins[2]\n",
    "    histogram_contents = n\n",
    "    \n",
    "    # Generate a mesh grid of x and y values\n",
    "    x = np.linspace(min(xx), max(xx), xbins[0])\n",
    "    y = np.linspace(min(yy), max(yy), xbins[1])\n",
    "    z = np.linspace(min(zz), max(zz), xbins[2])\n",
    "    \n",
    "    x_values, y_values, z_values = np.meshgrid(x, y, z, indexing=\"ij\")\n",
    "    \n",
    "    # Get bin contents for the mesh grid of points\n",
    "    bin_contents = get_2d_bin_contents_from_meshgrid(\n",
    "        x_values, y_values, z_values, x_edges, y_edges, z_edges, histogram_contents\n",
    "    )\n",
    "    \n",
    "    # print(\"Bin contents for the mesh grid of points:\")\n",
    "    return RegularGridInterpolator((x, y, z), bin_contents/np.max(bin_contents))\n",
    "    "
   ]
  },
  {
   "cell_type": "code",
   "execution_count": 93,
   "id": "bd4a626d-0b70-42b7-bdd3-bc0bdfe377a1",
   "metadata": {},
   "outputs": [],
   "source": [
    "interp =  energy_interpolator(energies, metadata, xbins=(10,10,10))"
   ]
  },
  {
   "cell_type": "code",
   "execution_count": 94,
   "id": "78ab9d51-f392-4ebd-b4c2-6ae031408a27",
   "metadata": {},
   "outputs": [],
   "source": [
    "def corrected_energy(energies, metadata, interp):\n",
    "    xx = metadata[:, 1]\n",
    "    yy = metadata[:, 2]\n",
    "    zz = metadata[:, 3]\n",
    "    return energies / interp(np.vstack([xx, yy, zz]).T)"
   ]
  },
  {
   "cell_type": "code",
   "execution_count": 119,
   "id": "83bf02f8-b7f8-467c-bd64-08a267c629b9",
   "metadata": {},
   "outputs": [],
   "source": [
    "def plot_corrected_energies(energies, metadata, interp, bins=100, erange= (1000, 3200), density=True, figsize=(10, 6)):\n",
    "    \n",
    "    cenergies = corrected_energy(energies, metadata, interp)\n",
    "    \n",
    "    fig, ax = plt.subplots(constrained_layout=True, figsize=figsize)\n",
    "    \n",
    "    _ = ax.hist(cenergies, bins=bins, range=erange, density=density,\n",
    "                histtype=\"step\", color=\"k\", lw=2,\n",
    "                label=f\"Corrected:\\n $\\sigma/\\mu={np.std(cenergies)/np.mean(cenergies)*100:.2f}\\%$\")\n",
    "    _ = ax.hist(energies, bins=bins, range=erange, density=density,\n",
    "                histtype=\"step\", color=\"r\", lw=2,\n",
    "                label=f\"Uncorrected:\\n $\\sigma/\\mu={np.std(energies)/np.mean(energies)*100:.2f}\\%$\")\n",
    "\n",
    "\n",
    "    ax.legend()\n",
    "    ax.set_xlabel(\"Charge [\\# p.e.]\")\n",
    "    ax.set_title(\"CsI w/ dark face\")\n",
    "    ax.set_xlim(*erange)\n",
    "    fig.savefig(\"csi_side_calib.pdf\")\n",
    "    "
   ]
  },
  {
   "cell_type": "code",
   "execution_count": 120,
   "id": "d910e7f1-5505-4096-a198-48767c7aef7b",
   "metadata": {},
   "outputs": [
    {
     "data": {
      "image/png": "[encoded data removed]",
      "text/plain": [
       "<Figure size 800x600 with 1 Axes>"
      ]
     },
     "metadata": {},
     "output_type": "display_data"
    }
   ],
   "source": [
    "plot_corrected_energies(energies, metadata, interp, bins=100, density=False, erange= (1500, 4000), figsize=(8, 6))"
   ]
  },
  {
   "cell_type": "code",
   "execution_count": 118,
   "id": "6dd3d36c-7bf2-4ddd-8722-7f30a18e5b22",
   "metadata": {},
   "outputs": [],
   "source": [
    "def fit_gaussian(xdata, ydata, pars=[10000., 0.5, 2.0]):\n",
    "    def gaussian(x, a1, mu1, sigma1):\n",
    "        return a1*(np.exp(-(x-mu1)**2/(2*sigma1**2)))\n",
    "        \n",
    "    pars, cov = curve_fit(gaussian, xdata, ydata, p0=pars)\n",
    "    err       = np.sqrt(np.diag(cov))\n",
    "    fit_y     = gaussian(xdata, *pars) \n",
    "    return pars, err, fit_y "
   ]
  },
  {
   "cell_type": "code",
   "execution_count": 127,
   "id": "76a506f0-b66c-4b1e-b0d6-ae0a7ce3924e",
   "metadata": {},
   "outputs": [],
   "source": [
    "def fitene(energies, metadata, interp, bins=100):\n",
    "    def bin_centers(bins):\n",
    "        return np.array([(bins[i] + bins[i+1])/2 for i in range(len(bins)-1)])\n",
    "        \n",
    "    cenergies = corrected_energy(energies, metadata, interp)\n",
    "    he, ebins = np.histogram(cenergies, bins=bins)\n",
    "    xdata = bin_centers(ebins)\n",
    "    ydata = he\n",
    "\n",
    "    \n",
    "    pars, err, yfit = fit_gaussian(xdata, ydata, pars=[100000., 3000, 500])\n",
    "    return xdata, ydata, yfit, pars[1], pars[2]\n",
    "    \n",
    "   "
   ]
  },
  {
   "cell_type": "code",
   "execution_count": 128,
   "id": "a76a6f27-8a74-43aa-9a20-7b1af6549a02",
   "metadata": {},
   "outputs": [
    {
     "name": "stdout",
     "output_type": "stream",
     "text": [
      "2g fit: mu = 3145.26, sigma = 139.43\n"
     ]
    }
   ],
   "source": [
    "xdata, ydata, yfit, mu, sigma = fitene(energies, metadata, interp, bins=100)\n",
    "print(f\"2g fit: mu = {mu:.2f}, sigma = {sigma:.2f}\")"
   ]
  },
  {
   "cell_type": "code",
   "execution_count": 135,
   "id": "43fba0f1-b634-423f-a806-a7123a971d99",
   "metadata": {},
   "outputs": [],
   "source": [
    "def plotfz(xdata, ydata, yfit, mu, sigma, figsize=(8, 6)):\n",
    "   \n",
    "    fig, ax = plt.subplots(constrained_layout=True, figsize=figsize)\n",
    "    ax.errorbar(xdata, ydata, yerr=np.sqrt(ydata), fmt='o', markersize=2)\n",
    "    ax.plot(xdata, yfit, 'red', linewidth=1.0, \n",
    "            label=f\"Corr E:\\n $R (FWHM)={2.355* 100*sigma/mu:.2f}\\%$\")\n",
    "    ax.legend()\n",
    "    \n",
    "    ax.set_xlabel(\"Charge\")\n",
    "    ax.set_ylabel(\"Counts/bin\")\n",
    "    #fig.tight_layout()\n",
    "    plt.show()"
   ]
  },
  {
   "cell_type": "code",
   "execution_count": 136,
   "id": "b0e8d6cc-023a-4305-8d95-b97c8b3cd4f0",
   "metadata": {},
   "outputs": [
    {
     "data": {
      "image/png": "[encoded data removed]",
      "text/plain": [
       "<Figure size 800x600 with 1 Axes>"
      ]
     },
     "metadata": {},
     "output_type": "display_data"
    }
   ],
   "source": [
    "plotfz(xdata, ydata, yfit, mu, sigma, figsize=(8, 6))"
   ]
  },
  {
   "cell_type": "code",
   "execution_count": 138,
   "id": "98d9bc95-014b-4d38-8d95-4128c3d1ba12",
   "metadata": {},
   "outputs": [
    {
     "data": {
      "text/plain": [
       "1.19"
      ]
     },
     "execution_count": 138,
     "metadata": {},
     "output_type": "execute_result"
    }
   ],
   "source": [
    "1.7*7/10"
   ]
  },
  {
   "cell_type": "code",
   "execution_count": null,
   "id": "81b4297f-920d-46fc-85de-e32ffcde1bf4",
   "metadata": {},
   "outputs": [],
   "source": []
  },
  {
   "cell_type": "markdown",
   "id": "8224de16-5792-423a-b984-dceabca62aff",
   "metadata": {},
   "source": [
    "## FF network"
   ]
  },
  {
   "cell_type": "code",
   "execution_count": 41,
   "id": "56ceeb53-8c9f-4a8c-932f-048fd97f2a99",
   "metadata": {},
   "outputs": [
    {
     "name": "stdout",
     "output_type": "stream",
     "text": [
      "FF(\n",
      "  (drop1): Dropout(p=0.2, inplace=False)\n",
      "  (fc1): Linear(in_features=4, out_features=4, bias=True)\n",
      "  (fc2): Linear(in_features=4, out_features=4, bias=True)\n",
      "  (fc4): Linear(in_features=4, out_features=1, bias=True)\n",
      ")\n"
     ]
    }
   ],
   "source": [
    "ffmodel = FF(dropout=True).to(device)\n",
    "print(ffmodel)\n",
    "optimizer = optim.Adam(ffmodel.parameters(), lr=0.001)\n",
    "criterion = nn.MSELoss()"
   ]
  },
  {
   "cell_type": "code",
   "execution_count": 29,
   "id": "9b32aaff-b915-4d32-904e-6333f98944c7",
   "metadata": {},
   "outputs": [],
   "source": [
    "class FFMonoDataset(Dataset):\n",
    "    \"\"\"\n",
    "    Loads the data to pytorch \n",
    "    self.dataset ->[d1, d2...] where di ->[(x,y,z,eobs), vector (etrue)]\n",
    "    \n",
    "    \"\"\"\n",
    "\n",
    "    def __init__(self, data_path: str, frst_file: int, lst_file: int,\n",
    "                norm=False, xnorm=(24.0, 12.5, 35.3, 4700.0)):\n",
    "\n",
    "        def normz(z):\n",
    "            return (z - xnorm[1])/(xnorm[2] - xnorm[1])\n",
    "            \n",
    "        self.dataset = []\n",
    "        img_name, lbl_name, indx = files_list_npy_csv(data_path)\n",
    "        print(f\"Loading files with indexes: {indx[frst_file:lst_file]}\")\n",
    "\n",
    "        ii = 0\n",
    "        for i in indx[frst_file:lst_file]:\n",
    "            images = np.load(f'{data_path}/{img_name}_{i}.npy')\n",
    "            metadata = pd.read_csv(f'{data_path}/{lbl_name}_{i}.csv')\n",
    "            \n",
    "            for img, meta in zip(images, metadata.values):\n",
    "                #ii=+1\n",
    "                #print(f\"img = {img}, sum = {np.sum(img)}\")\n",
    "                #print(f\"meta = {meta}\")\n",
    "                xx = np.array([meta[1], meta[2], meta[3], np.sum(img)])\n",
    "                yy = np.array(meta[4])\n",
    "\n",
    "                if norm:\n",
    "                    xx = np.array([meta[1]/xnorm[0], meta[2]/xnorm[0], normz(meta[3]), \n",
    "                                   np.sum(img/xnorm[3])])\n",
    "                    yy = np.array(meta[4]/xnorm[3]) \n",
    "                self.dataset.append((xx,yy))\n",
    "                #if ii >3 : break\n",
    "\n",
    "    def __len__(self):\n",
    "        return len(self.dataset)\n",
    "\n",
    "    def __getitem__(self, idx):\n",
    "        xyze, etrue = self.dataset[idx]\n",
    "        #print(f\"xyze ={xyze}, etrue={etrue}\")\n",
    "        xyze = torch.tensor(xyze, dtype=torch.float)\n",
    "        etrue = torch.tensor(etrue, dtype=torch.float).unsqueeze(0)\n",
    "\n",
    "        return xyze, etrue"
   ]
  },
  {
   "cell_type": "code",
   "execution_count": 31,
   "id": "b917625c-7118-456c-9df2-81cf198ac9d5",
   "metadata": {},
   "outputs": [
    {
     "name": "stdout",
     "output_type": "stream",
     "text": [
      "Loading files with indexes: [  1   2   3   4   5   6   7   8   9  10  11  12  13  14  15  16  17  18\n",
      "  19  20  21  22  23  24  25  26  27  28  29  30  31  32  33  34  35  36\n",
      "  37  38  39  40  41  42  43  44  45  46  47  48  49  50  51  52  53  54\n",
      "  55  56  57  58  59  60  61  62  63  64  65  66  67  68  69  70  71  72\n",
      "  73  74  75  76  77  78  79  80  81  82  83  84  85  86  87  88  89  90\n",
      "  91  92  93  94  95  96  97  98  99 100]\n"
     ]
    }
   ],
   "source": [
    "first_file = 0  # initial file indx\n",
    "last_file  = 100  # lasta file indx\n",
    "batch_size = 1000  # Batch size\n",
    "train_fraction=0.7 \n",
    "val_fraction=0.2\n",
    "fdataset = FFMonoDataset(crystal, first_file, last_file)"
   ]
  },
  {
   "cell_type": "code",
   "execution_count": 32,
   "id": "927ba901-a667-4ce3-b0fa-8e14ed086ac8",
   "metadata": {},
   "outputs": [
    {
     "name": "stdout",
     "output_type": "stream",
     "text": [
      "Loaded 1000000 events\n",
      " train size = 700000\n",
      " val size = 200000\n",
      " test size = 100000\n",
      " train indices = range(0, 700000)\n",
      " val indices = range(700000, 900000)\n",
      " test indices = range(900000, 1000000)\n",
      "700000 training events (70.0%)\n",
      "200000 validation events (20.0%)\n",
      "100000 test events (10.0%)\n"
     ]
    }
   ],
   "source": [
    "data_loader, train_loader, val_loader, test_loader = mono_data_loader(fdataset, \n",
    "                                                                      batch_size=batch_size, \n",
    "                                                                      train_fraction=train_fraction, \n",
    "                                                                      val_fraction=val_fraction)   \n"
   ]
  },
  {
   "cell_type": "code",
   "execution_count": 33,
   "id": "8178ca9b-54d1-4be9-b7e6-8899cbdfe3ee",
   "metadata": {},
   "outputs": [
    {
     "name": "stdout",
     "output_type": "stream",
     "text": [
      "read xyze batch, size->torch.Size([1000, 4])\n",
      "read et batch, size->torch.Size([1000, 1])\n",
      "tensor([   3.1881,   15.5692,   27.2076, 2833.0000])\n",
      "tensor(49859.)\n"
     ]
    }
   ],
   "source": [
    "xyzeb, etb = next(iter(train_loader)) \n",
    "print(f\"read xyze batch, size->{xyzeb.size()}\")\n",
    "print(f\"read et batch, size->{etb.size()}\")\n",
    "xyze = xyzeb[0].squeeze()\n",
    "et = etb[0].squeeze()\n",
    "print(xyze)\n",
    "print(et)"
   ]
  },
  {
   "cell_type": "code",
   "execution_count": 34,
   "id": "f2104e23-c0fa-4019-af34-10693cd4ac4c",
   "metadata": {},
   "outputs": [],
   "source": [
    "def get_xyze_max(tl):\n",
    "    def min_max(value, min, max):\n",
    "        if value < min: \n",
    "            min = value\n",
    "        if value > max: \n",
    "            max = value\n",
    "        return min, max\n",
    "\n",
    "    xmin, ymin, zmin = 1e+6, 1e+6, 1e+6\n",
    "    xmax, ymax, zmax = -1e+6, -1e+6, -1e+6\n",
    "    emin, emax = 1e+6, -1e+6\n",
    "    etmin, etmax = 1e+6, -1e+6\n",
    "\n",
    "    for i in range(30):\n",
    "        xyzeb, etb = next(iter(train_loader))\n",
    "    \n",
    "        for xyzet in xyzeb:\n",
    "            xyze = xyzet.squeeze()\n",
    "            xmin, xmax = min_max(xyze[0].item(), xmin, xmax)\n",
    "            ymin, ymax = min_max(xyze[1].item(), ymin, ymax)\n",
    "            zmin, zmax = min_max(xyze[2].item(), zmin, zmax)\n",
    "            emin, emax = min_max(xyze[3].item(), emin, emax)\n",
    "        \n",
    "        for ett in etb:\n",
    "            et = ett.squeeze()\n",
    "            etmin, etmax = min_max(etb[0].item(), etmin, etmax)\n",
    "    return xmin, xmax, ymin, ymax, zmin, zmax, emin, emax, etmin, etmax\n"
   ]
  },
  {
   "cell_type": "code",
   "execution_count": 35,
   "id": "a63cc301-7808-4d77-9e67-2b60be8232cc",
   "metadata": {},
   "outputs": [
    {
     "data": {
      "text/plain": [
       "(-23.99808692932129,\n",
       " 23.999561309814453,\n",
       " -23.997310638427734,\n",
       " 23.999752044677734,\n",
       " 12.501614570617676,\n",
       " 35.29969024658203,\n",
       " 1594.0,\n",
       " 3199.0,\n",
       " 49363.0,\n",
       " 50809.0)"
      ]
     },
     "execution_count": 35,
     "metadata": {},
     "output_type": "execute_result"
    }
   ],
   "source": [
    "get_xyze_max(train_loader)"
   ]
  },
  {
   "cell_type": "code",
   "execution_count": 37,
   "id": "3953cefc-011c-4eab-90f8-43990b89e9af",
   "metadata": {},
   "outputs": [
    {
     "name": "stdout",
     "output_type": "stream",
     "text": [
      "Loading files with indexes: [  1   2   3   4   5   6   7   8   9  10  11  12  13  14  15  16  17  18\n",
      "  19  20  21  22  23  24  25  26  27  28  29  30  31  32  33  34  35  36\n",
      "  37  38  39  40  41  42  43  44  45  46  47  48  49  50  51  52  53  54\n",
      "  55  56  57  58  59  60  61  62  63  64  65  66  67  68  69  70  71  72\n",
      "  73  74  75  76  77  78  79  80  81  82  83  84  85  86  87  88  89  90\n",
      "  91  92  93  94  95  96  97  98  99 100]\n"
     ]
    }
   ],
   "source": [
    "ndataset = FFMonoDataset(crystal, first_file, last_file, norm=True, xnorm=(24.0, 12.5, 35.3, 50000.0))"
   ]
  },
  {
   "cell_type": "code",
   "execution_count": 38,
   "id": "a537a851-8c72-430f-ab8e-44796e851cb0",
   "metadata": {},
   "outputs": [
    {
     "name": "stdout",
     "output_type": "stream",
     "text": [
      "Loaded 1000000 events\n",
      " train size = 700000\n",
      " val size = 200000\n",
      " test size = 100000\n",
      " train indices = range(0, 700000)\n",
      " val indices = range(700000, 900000)\n",
      " test indices = range(900000, 1000000)\n",
      "700000 training events (70.0%)\n",
      "200000 validation events (20.0%)\n",
      "100000 test events (10.0%)\n"
     ]
    }
   ],
   "source": [
    "data_loader, train_loader, val_loader, test_loader = mono_data_loader(ndataset, \n",
    "                                                                      batch_size=batch_size, \n",
    "                                                                      train_fraction=train_fraction, \n",
    "                                                                      val_fraction=val_fraction)   \n"
   ]
  },
  {
   "cell_type": "code",
   "execution_count": 39,
   "id": "44c57d50-cf09-49ba-b197-f82bd85bde06",
   "metadata": {},
   "outputs": [
    {
     "data": {
      "text/plain": [
       "(-0.9999585151672363,\n",
       " 0.9999649524688721,\n",
       " -0.999958336353302,\n",
       " 0.999893844127655,\n",
       " 2.4035087335505523e-05,\n",
       " 0.999995768070221,\n",
       " 0.030460000038146973,\n",
       " 0.06325999647378922,\n",
       " 0.984499990940094,\n",
       " 1.010740041732788)"
      ]
     },
     "execution_count": 39,
     "metadata": {},
     "output_type": "execute_result"
    }
   ],
   "source": [
    "get_xyze_max(train_loader)"
   ]
  },
  {
   "cell_type": "code",
   "execution_count": 42,
   "id": "6b0e1f00-0d68-458d-840f-1656062fa7ef",
   "metadata": {},
   "outputs": [],
   "source": [
    "def single_runf(train_loader, device, model, optimizer, criterion):\n",
    "    print(f\"** Run for 1 event**\")\n",
    "\n",
    "    for epoch in range(1):\n",
    "        print(f\"epoch = {epoch}\")\n",
    "    \n",
    "        for i, (images, labels) in enumerate(train_loader):  \n",
    "            if i>5: break\n",
    "            print(f\"i = {i}\")\n",
    "            print(f\"xyze (shape) = {images.shape}\")\n",
    "            print(f\"et (shape) = {labels.shape}\")\n",
    "\n",
    "            im0 = images[0]\n",
    "            lbl0 = labels[0]\n",
    "\n",
    "            print(f\"xyze (0) = {im0}\")\n",
    "            print(f\"et0  = {lbl0}\")\n",
    "            \n",
    "            images = images.to(device)\n",
    "            labels = labels.to(device)\n",
    "            \n",
    "            model.train()\n",
    "            optimizer.zero_grad()\n",
    "            \n",
    "            # Forward pass\n",
    "            outputs = model(images)\n",
    "            print(f\"outputs = {outputs.shape}\")\n",
    "            out0 = outputs[0]\n",
    "            print(f\"out0  = {out0}\")\n",
    "\n",
    "            loss = criterion(outputs, labels)\n",
    "            \n",
    "            # Backward and optimize\n",
    "            \n",
    "            loss.backward()\n",
    "            optimizer.step()\n",
    "    \n",
    "            print(f\"Train Step {i + 1}/{len(train_loader)}, Loss: {loss.data.item()}\")\n"
   ]
  },
  {
   "cell_type": "code",
   "execution_count": 43,
   "id": "4214e824-7286-4a9d-a811-a7fb4a04540f",
   "metadata": {},
   "outputs": [
    {
     "name": "stdout",
     "output_type": "stream",
     "text": [
      "** Run for 1 event**\n",
      "epoch = 0\n",
      "i = 0\n",
      "xyze (shape) = torch.Size([1000, 4])\n",
      "et (shape) = torch.Size([1000, 1])\n",
      "xyze (0) = tensor([-0.9564, -0.2000,  0.0445,  0.0435])\n",
      "et0  = tensor([0.9963])\n",
      "outputs = torch.Size([1000, 1])\n",
      "out0  = tensor([0.5588], device='mps:0', grad_fn=<SelectBackward0>)\n",
      "Train Step 1/700, Loss: 0.21390052139759064\n",
      "i = 1\n",
      "xyze (shape) = torch.Size([1000, 4])\n",
      "et (shape) = torch.Size([1000, 1])\n",
      "xyze (0) = tensor([0.5605, 0.9405, 0.6058, 0.0486])\n",
      "et0  = tensor([0.9977])\n",
      "outputs = torch.Size([1000, 1])\n",
      "out0  = tensor([0.5820], device='mps:0', grad_fn=<SelectBackward0>)\n",
      "Train Step 2/700, Loss: 0.21238312125205994\n",
      "i = 2\n",
      "xyze (shape) = torch.Size([1000, 4])\n",
      "et (shape) = torch.Size([1000, 1])\n",
      "xyze (0) = tensor([0.0540, 0.7646, 0.3294, 0.0520])\n",
      "et0  = tensor([0.9968])\n",
      "outputs = torch.Size([1000, 1])\n",
      "out0  = tensor([0.5076], device='mps:0', grad_fn=<SelectBackward0>)\n",
      "Train Step 3/700, Loss: 0.21110549569129944\n",
      "i = 3\n",
      "xyze (shape) = torch.Size([1000, 4])\n",
      "et (shape) = torch.Size([1000, 1])\n",
      "xyze (0) = tensor([ 0.8458, -0.2084,  0.1327,  0.0485])\n",
      "et0  = tensor([0.9896])\n",
      "outputs = torch.Size([1000, 1])\n",
      "out0  = tensor([0.5214], device='mps:0', grad_fn=<SelectBackward0>)\n",
      "Train Step 4/700, Loss: 0.210178941488266\n",
      "i = 4\n",
      "xyze (shape) = torch.Size([1000, 4])\n",
      "et (shape) = torch.Size([1000, 1])\n",
      "xyze (0) = tensor([ 0.8905, -0.7482,  0.5287,  0.0485])\n",
      "et0  = tensor([0.9970])\n",
      "outputs = torch.Size([1000, 1])\n",
      "out0  = tensor([0.5988], device='mps:0', grad_fn=<SelectBackward0>)\n",
      "Train Step 5/700, Loss: 0.20813660323619843\n",
      "i = 5\n",
      "xyze (shape) = torch.Size([1000, 4])\n",
      "et (shape) = torch.Size([1000, 1])\n",
      "xyze (0) = tensor([ 0.1940, -0.8984,  0.0885,  0.0457])\n",
      "et0  = tensor([1.0069])\n",
      "outputs = torch.Size([1000, 1])\n",
      "out0  = tensor([0.5236], device='mps:0', grad_fn=<SelectBackward0>)\n",
      "Train Step 6/700, Loss: 0.209522545337677\n"
     ]
    }
   ],
   "source": [
    "single_runf(train_loader, device, ffmodel, optimizer, criterion)"
   ]
  },
  {
   "cell_type": "code",
   "execution_count": 44,
   "id": "bc6ee5be-3f32-4092-a78d-63c11246918b",
   "metadata": {},
   "outputs": [
    {
     "name": "stdout",
     "output_type": "stream",
     "text": [
      "Training with  ->700000 images\n",
      "size of train loader  ->700 images\n",
      "Evaluating with  ->200000 images\n",
      "size of eval loader  ->200 images\n",
      "Running for epochs ->3\n",
      "\n",
      "EPOCH 0\n",
      "Train Step 200/700, Loss: 0.09572821855545044\n",
      "Train Step 400/700, Loss: 0.04714048281311989\n",
      "Train Step 600/700, Loss: 0.027138058096170425\n",
      "Validation Step 200/200, Loss: 0.01781652867794037\n",
      "--- EPOCH 0 AVG TRAIN LOSS: 0.0744202043754714\n",
      "--- EPOCH 0 AVG VAL LOSS: 0.017883854191750287\n",
      "\n",
      "EPOCH 1\n",
      "Train Step 200/700, Loss: 0.015383148565888405\n",
      "Train Step 400/700, Loss: 0.010669127106666565\n",
      "Train Step 600/700, Loss: 0.008687273599207401\n",
      "Validation Step 200/200, Loss: 0.004627383314073086\n",
      "--- EPOCH 1 AVG TRAIN LOSS: 0.012921664380202336\n",
      "--- EPOCH 1 AVG VAL LOSS: 0.004659624276682734\n",
      "\n",
      "EPOCH 2\n",
      "Train Step 200/700, Loss: 0.006797214038670063\n",
      "Train Step 400/700, Loss: 0.005367533769458532\n",
      "Train Step 600/700, Loss: 0.0053644985891878605\n",
      "Validation Step 200/200, Loss: 0.0018653417937457561\n",
      "--- EPOCH 2 AVG TRAIN LOSS: 0.0060295513864340525\n",
      "--- EPOCH 2 AVG VAL LOSS: 0.0018850396119523794\n"
     ]
    }
   ],
   "source": [
    "train_losses, val_losses = train_cnn(train_loader, val_loader,\n",
    "                                    ffmodel, optimizer, device, criterion, \n",
    "                                    batch_size, epochs=3, iprnt=200)"
   ]
  },
  {
   "cell_type": "code",
   "execution_count": 45,
   "id": "b96c837d-30c6-4299-b06e-347ea170df88",
   "metadata": {},
   "outputs": [
    {
     "data": {
      "image/png": "[encoded data removed]",
      "text/plain": [
       "<Figure size 600x400 with 1 Axes>"
      ]
     },
     "metadata": {},
     "output_type": "display_data"
    }
   ],
   "source": [
    "plot_loss(3, train_losses, val_losses,figsize=(6, 4))"
   ]
  },
  {
   "cell_type": "code",
   "execution_count": 46,
   "id": "bcab9cce-a2a0-445d-b889-710fb7158369",
   "metadata": {},
   "outputs": [],
   "source": [
    "def evaluate_ff(test_loader, model, device):\n",
    "    \n",
    "    true_e = []\n",
    "    meas_e = []\n",
    "    predicted_e = []\n",
    "    \n",
    "    with torch.no_grad():\n",
    "        model.eval()\n",
    "        for i, (xyze, et) in enumerate(train_loader): \n",
    "            \n",
    "            for e in xyze[:,3]: meas_e.append(e)\n",
    "            for e in et[:,0]: true_e.append(e)\n",
    "                \n",
    "            xyze = xyze.to(device)\n",
    "            outputs = model(xyze).cpu()\n",
    "            \n",
    "            for e in outputs[:,0]: predicted_e.append(e)\n",
    "            \n",
    "    true_e = np.array(true_e); meas_e = np.array(meas_e); predicted_e = np.array(predicted_e)\n",
    "    delta_e_NN = true_e - predicted_e\n",
    "    return true_e, meas_e, predicted_e, delta_e_NN\n"
   ]
  },
  {
   "cell_type": "code",
   "execution_count": 47,
   "id": "c6a31bdb-6314-4841-99fc-c01b6cf0eb26",
   "metadata": {},
   "outputs": [],
   "source": [
    "true_e, meas_e, predicted_e, delta_e_NN = evaluate_ff(test_loader, ffmodel, device)"
   ]
  },
  {
   "cell_type": "code",
   "execution_count": 48,
   "id": "1ec3f1bc-7bb2-4d91-81bb-700b38f27c0d",
   "metadata": {},
   "outputs": [
    {
     "data": {
      "text/plain": [
       "array([0.9561863 , 0.9564819 , 0.95734507, 0.9575838 , 0.95744187,\n",
       "       0.95724905, 0.9571955 , 0.957266  , 0.956397  , 0.95727265],\n",
       "      dtype=float32)"
      ]
     },
     "execution_count": 48,
     "metadata": {},
     "output_type": "execute_result"
    }
   ],
   "source": [
    "predicted_e[0:10]"
   ]
  },
  {
   "cell_type": "code",
   "execution_count": 49,
   "id": "dfb825f2-49ee-4cf1-aff3-f1c9a6b95f22",
   "metadata": {},
   "outputs": [
    {
     "data": {
      "text/plain": [
       "array([0.0377537 , 0.04609817, 0.03137493, 0.03481621, 0.04441816,\n",
       "       0.03605098, 0.04138446, 0.04569399, 0.043163  , 0.03520733],\n",
       "      dtype=float32)"
      ]
     },
     "execution_count": 49,
     "metadata": {},
     "output_type": "execute_result"
    }
   ],
   "source": [
    "delta_e_NN[0:10]"
   ]
  },
  {
   "cell_type": "code",
   "execution_count": 50,
   "id": "989db221-cb5d-4b50-b534-5b148cee6cd4",
   "metadata": {},
   "outputs": [
    {
     "data": {
      "text/plain": [
       "array([0.99394, 1.00258, 0.98872, 0.9924 , 1.00186, 0.9933 , 0.99858,\n",
       "       1.00296, 0.99956, 0.99248], dtype=float32)"
      ]
     },
     "execution_count": 50,
     "metadata": {},
     "output_type": "execute_result"
    }
   ],
   "source": [
    "true_e[0:10]"
   ]
  },
  {
   "cell_type": "code",
   "execution_count": 51,
   "id": "fca6b5d2-5228-4cde-a1cb-1366702a078a",
   "metadata": {},
   "outputs": [],
   "source": [
    "def sigmaEovE(xe, emax = 4700.0):\n",
    "    mu = np.mean(xe * emax)\n",
    "    sigma = np.std(xe * emax)\n",
    "    return mu, sigma, 100 * sigma/mu, 2.355 * 100 * sigma/mu"
   ]
  },
  {
   "cell_type": "code",
   "execution_count": 52,
   "id": "426db667-654b-4d03-8078-0713c916449d",
   "metadata": {},
   "outputs": [
    {
     "data": {
      "text/plain": [
       "(4699.9995, 28.181084, 0.5995975873813152, 1.4120523182829972)"
      ]
     },
     "execution_count": 52,
     "metadata": {},
     "output_type": "execute_result"
    }
   ],
   "source": [
    "sigmaEovE(true_e)"
   ]
  },
  {
   "cell_type": "code",
   "execution_count": 53,
   "id": "f4a19095-ecf5-4418-9a42-84f9779edfb5",
   "metadata": {},
   "outputs": [
    {
     "data": {
      "text/plain": [
       "(249.42297, 26.416523, 10.591054462619532, 24.941933259469)"
      ]
     },
     "execution_count": 53,
     "metadata": {},
     "output_type": "execute_result"
    }
   ],
   "source": [
    "sigmaEovE(meas_e)"
   ]
  },
  {
   "cell_type": "code",
   "execution_count": 54,
   "id": "941f2f79-1092-47ed-bb69-5622dfe5e229",
   "metadata": {},
   "outputs": [
    {
     "data": {
      "text/plain": [
       "(4497.919, 2.2666678, 0.050393701407785374, 0.11867716681533455)"
      ]
     },
     "execution_count": 54,
     "metadata": {},
     "output_type": "execute_result"
    }
   ],
   "source": [
    "sigmaEovE(predicted_e)"
   ]
  },
  {
   "cell_type": "code",
   "execution_count": 55,
   "id": "69af3d54-fe39-445a-a146-7acf71d7ab1f",
   "metadata": {},
   "outputs": [],
   "source": [
    "def xe(true_e, meas_e, predicted_e, delta_e_NN, emax = 4700.0, nbins=50):\n",
    "    \n",
    "    fig, axes = plt.subplots(2, 2, figsize=(14, 7))\n",
    "    flat_axes = axes.ravel()\n",
    "    ax0, ax1, ax2, ax3 = flat_axes[0], flat_axes[1], flat_axes[2], flat_axes[3]\n",
    "    \n",
    "    ax0.hist(true_e * emax, bins=nbins, \n",
    "             label=f\"x ($\\sigma$ = {np.std(true_e):.3f})\", alpha=0.7)\n",
    "    ax0.set_xlabel(\"True energy\",fontsize=14)\n",
    "    ax0.set_ylabel(\"Counts/bin\",fontsize=14)\n",
    "    ax0.legend()\n",
    "\n",
    "    ax1.hist(meas_e * emax, bins=nbins, \n",
    "             label=f\"x ($\\sigma$ = {np.std(meas_e):.3f})\", alpha=0.7)\n",
    "    ax1.set_xlabel(\"Measured energy\",fontsize=14)\n",
    "    ax1.set_ylabel(\"Counts/bin\",fontsize=14)\n",
    "    ax1.legend()\n",
    "\n",
    "    ax2.hist(predicted_e * emax, bins=nbins, \n",
    "             label=f\"x ($\\sigma$ = {np.std(predicted_e):.3f})\", alpha=0.7)\n",
    "    ax2.set_xlabel(\"Predicted energy\",fontsize=14)\n",
    "    ax2.set_ylabel(\"Counts/bin\",fontsize=14)\n",
    "    ax2.legend()\n",
    "    \n",
    "    ax3.hist(delta_e_NN * emax, bins=nbins, \n",
    "             label=f\"y ($\\sigma$ = {np.std(delta_e_NN):.3f})\", alpha=0.7)\n",
    "    ax3.set_xlabel(\"NN (etrue - epredicted)\",fontsize=14)\n",
    "    ax3.set_ylabel(\"Counts/bin\",fontsize=14)\n",
    "    ax3.legend()\n",
    "    \n",
    "    fig.tight_layout()\n",
    "    plt.show()"
   ]
  },
  {
   "cell_type": "code",
   "execution_count": 57,
   "id": "12463038-f25b-4c62-afb9-f819e691b777",
   "metadata": {},
   "outputs": [
    {
     "data": {
      "image/png": "[encoded data removed]",
      "text/plain": [
       "<Figure size 1400x700 with 4 Axes>"
      ]
     },
     "metadata": {},
     "output_type": "display_data"
    }
   ],
   "source": [
    "xe(true_e, meas_e, predicted_e, delta_e_NN, emax = 5e+4, nbins=50)"
   ]
  },
  {
   "cell_type": "code",
   "execution_count": null,
   "id": "a64f8148-e596-47ef-82e5-85a36c56d5c9",
   "metadata": {},
   "outputs": [],
   "source": []
  },
  {
   "cell_type": "markdown",
   "id": "731ed2bf-a132-4ee4-832d-bcb473ad54f2",
   "metadata": {},
   "source": [
    "## Data set"
   ]
  },
  {
   "cell_type": "code",
   "execution_count": null,
   "id": "f7e3f270-5ae6-4ed2-8307-46c8398dd0b1",
   "metadata": {},
   "outputs": [],
   "source": [
    "first_file = 0  # initial file indx\n",
    "last_file  = 100  # lasta file indx\n",
    "batch_size = 1000  # Batch size\n",
    "train_fraction=0.7 \n",
    "val_fraction=0.2\n"
   ]
  },
  {
   "cell_type": "code",
   "execution_count": null,
   "id": "a76ced57-e266-4320-b864-6464c19e74a1",
   "metadata": {},
   "outputs": [],
   "source": [
    "dataset = MonoDataset(crystal, first_file, last_file)\n"
   ]
  },
  {
   "cell_type": "code",
   "execution_count": null,
   "id": "9775a6ab-cfad-4235-9866-c875bb17c964",
   "metadata": {},
   "outputs": [],
   "source": [
    "data_loader, train_loader, val_loader, test_loader = mono_data_loader(dataset, \n",
    "                                                                      batch_size=batch_size, \n",
    "                                                                      train_fraction=train_fraction, \n",
    "                                                                      val_fraction=val_fraction)"
   ]
  },
  {
   "cell_type": "code",
   "execution_count": null,
   "id": "b49f8e8f-26c2-4a5d-bf06-6d461954f76f",
   "metadata": {},
   "outputs": [],
   "source": [
    "plot_images_ds(dataset, imgs=(0,9), sx=3, figsize=(10, 8))"
   ]
  },
  {
   "cell_type": "code",
   "execution_count": null,
   "id": "c4fb51da-7e73-4dd3-8543-1ffc197aad4e",
   "metadata": {},
   "outputs": [],
   "source": [
    "for images, positions in train_loader:\n",
    "    print(images.size())\n",
    "    print(positions.size())\n",
    "    print(images[0,0,:,:])\n",
    "    break"
   ]
  },
  {
   "cell_type": "markdown",
   "id": "cd42a4b0-22b9-4bef-a3d1-e3dcbf5d5c69",
   "metadata": {},
   "source": [
    "### Train the network with CNN_basic "
   ]
  },
  {
   "cell_type": "code",
   "execution_count": null,
   "id": "e9647b46-c2bb-4d48-b30f-35ebe48465ea",
   "metadata": {},
   "outputs": [],
   "source": [
    "# Load the model.\n",
    "model = CNN_3x3(dropout=False).to(device)\n",
    "print(model)"
   ]
  },
  {
   "cell_type": "code",
   "execution_count": null,
   "id": "0b7b69f7-e81a-4b63-867c-5b0cf99b81ae",
   "metadata": {},
   "outputs": [],
   "source": [
    "# Set up the optimizer and loss function.\n",
    "optimizer = optim.Adam(model.parameters(), lr=0.001)\n",
    "criterion = nn.MSELoss()\n"
   ]
  },
  {
   "cell_type": "code",
   "execution_count": null,
   "id": "843c42e1-9a89-4a61-8da5-6e039b5845b1",
   "metadata": {},
   "outputs": [],
   "source": [
    "single_run(train_loader, device, model, optimizer,criterion)"
   ]
  },
  {
   "cell_type": "code",
   "execution_count": null,
   "id": "9f0a2e87",
   "metadata": {},
   "outputs": [],
   "source": [
    "epochs = 10"
   ]
  },
  {
   "cell_type": "code",
   "execution_count": null,
   "id": "24bbe9ee",
   "metadata": {},
   "outputs": [],
   "source": [
    "train_losses, val_losses = train_cnn(train_loader, val_loader,\n",
    "                                    model, optimizer, device, criterion, \n",
    "                                    batch_size, epochs=epochs, iprnt=200)"
   ]
  },
  {
   "cell_type": "code",
   "execution_count": null,
   "id": "ba36b0f8-617a-402d-a015-9ac52c39b499",
   "metadata": {},
   "outputs": [],
   "source": [
    "plot_loss(epochs, train_losses, val_losses,figsize=(6, 4))\n"
   ]
  },
  {
   "cell_type": "code",
   "execution_count": null,
   "id": "fb11fe79-0b0c-421b-a680-39290e40e005",
   "metadata": {},
   "outputs": [],
   "source": [
    "tdeltas = evaluate_cnn(test_loader, model, device)"
   ]
  },
  {
   "cell_type": "code",
   "execution_count": null,
   "id": "783755d2",
   "metadata": {},
   "outputs": [],
   "source": [
    "#plot_true_predicted(tdeltas, nbins = 50)"
   ]
  },
  {
   "cell_type": "code",
   "execution_count": null,
   "id": "7c968b4d-7653-4aed-9956-ab066fa4afb1",
   "metadata": {},
   "outputs": [],
   "source": [
    "plotxyz(tdeltas, nbins=50)"
   ]
  },
  {
   "cell_type": "markdown",
   "id": "4f858e0a-401a-4be3-b232-838217648f9b",
   "metadata": {},
   "source": [
    "## Normalize"
   ]
  },
  {
   "cell_type": "code",
   "execution_count": null,
   "id": "9d8fc209-b82b-4a26-80e4-71b696dc251b",
   "metadata": {},
   "outputs": [],
   "source": [
    "first_file = 0  # initial file indx\n",
    "last_file  = 100  # lasta file indx\n",
    "batch_size = 1000  # Batch size\n",
    "train_fraction=0.7 \n",
    "val_fraction=0.2\n",
    "mean=31.96\n",
    "std=46.79"
   ]
  },
  {
   "cell_type": "code",
   "execution_count": null,
   "id": "f4fa313a-48bc-415d-8f62-07ea757bdd11",
   "metadata": {},
   "outputs": [],
   "source": [
    "dataset = MonoDataset(crystal, \n",
    "                      first_file, last_file,\n",
    "                      norm=True, resize=False, mean=18.6, std=5.0)\n"
   ]
  },
  {
   "cell_type": "code",
   "execution_count": null,
   "id": "7f0b0455-bb49-487f-a754-661bcc3ad6e4",
   "metadata": {},
   "outputs": [],
   "source": [
    " data_loader, train_loader, val_loader, test_loader = mono_data_loader(dataset, \n",
    "                                                                      batch_size=batch_size, \n",
    "                                                                      train_fraction=train_fraction, \n",
    "                                                                      val_fraction=val_fraction)   \n",
    "    "
   ]
  },
  {
   "cell_type": "code",
   "execution_count": null,
   "id": "8b0ec17c-0c92-4449-a4a9-43adf4f0538d",
   "metadata": {},
   "outputs": [],
   "source": [
    "model = CNN_3x3(dropout=True).to(device)\n",
    "print(model)\n",
    "optimizer = optim.Adam(model.parameters(), lr=0.001)\n",
    "criterion = nn.MSELoss()"
   ]
  },
  {
   "cell_type": "code",
   "execution_count": null,
   "id": "0a1f2f15-5941-466b-821a-b26b06f7753c",
   "metadata": {},
   "outputs": [],
   "source": [
    "train_losses, val_losses = train_cnn(train_loader, val_loader,\n",
    "                                    model, optimizer, device, criterion, \n",
    "                                    batch_size, epochs=20, iprnt=300)"
   ]
  },
  {
   "cell_type": "code",
   "execution_count": null,
   "id": "53c624e6-5f54-4a03-b4d7-3885535cd1e8",
   "metadata": {},
   "outputs": [],
   "source": [
    "plot_loss(20, train_losses, val_losses,figsize=(6, 4))\n"
   ]
  },
  {
   "cell_type": "code",
   "execution_count": null,
   "id": "3776d1f1-946b-4cb4-aba5-2b4899ffc9b1",
   "metadata": {},
   "outputs": [],
   "source": [
    "tdeltas = evaluate_cnn(test_loader, model, device, pixel_size = 6)\n"
   ]
  },
  {
   "cell_type": "code",
   "execution_count": null,
   "id": "763fce06-4da2-4c26-b49c-bcfa6382ca0e",
   "metadata": {},
   "outputs": [],
   "source": [
    "tdeltas"
   ]
  },
  {
   "cell_type": "code",
   "execution_count": null,
   "id": "7e37ea54-4d64-4c67-bae4-2107ca24b1b4",
   "metadata": {},
   "outputs": [],
   "source": [
    "tdeltas.delta_z_NN"
   ]
  },
  {
   "cell_type": "code",
   "execution_count": null,
   "id": "7382cf3f-3113-4142-bfd9-7a49d30bedcb",
   "metadata": {},
   "outputs": [],
   "source": [
    "np.save(\"/Users/jjgomezcadenas/Projects/pymono/notebooks/delta_z_cnn_bgo.npy\", tdeltas.delta_z_NN)"
   ]
  },
  {
   "cell_type": "code",
   "execution_count": null,
   "id": "b5214180-2822-4922-ad62-7d3ffe6a3c3a",
   "metadata": {},
   "outputs": [],
   "source": [
    "plotxyz(tdeltas, nbins=50)"
   ]
  },
  {
   "cell_type": "markdown",
   "id": "ff3529f9-d39c-410e-b378-ce9fc22a94fe",
   "metadata": {},
   "source": [
    "### Deeper network"
   ]
  },
  {
   "cell_type": "code",
   "execution_count": null,
   "id": "19186527-9e34-4333-958c-cafbd43f386c",
   "metadata": {},
   "outputs": [],
   "source": [
    "class ResBlock(nn.Module):\n",
    "    \"\"\"\n",
    "    Implements a residual block consisting in [Conv2d->BatchNorm2d->ReLU] + \n",
    "    [Conv2d->BatchNorm2d]. This residual is added to the input (then a second activation ReLU applied)\n",
    "    \n",
    "    If downsample = None (e.g, default first pass), then we obtain f(x) + x where \n",
    "    f(x) -> [Conv2d->BatchNorm2d->ReLU ->Conv2d->BatchNorm2d]. Otherwise the block is skipped. \n",
    "    \n",
    "    \"\"\"\n",
    "    def __init__(self, in_channels, out_channels, stride = 1, downsample = None):\n",
    "        super(ResBlock, self).__init__()\n",
    "        self.conv1 = nn.Sequential(\n",
    "                        nn.Conv2d(in_channels, out_channels, kernel_size = 3, \n",
    "                                  stride = stride, padding = 1),\n",
    "                        nn.BatchNorm2d(out_channels),\n",
    "                        nn.ReLU())\n",
    "        self.conv2 = nn.Sequential(\n",
    "                        nn.Conv2d(out_channels, out_channels, kernel_size = 3, \n",
    "                                  stride = 1, padding = 1),\n",
    "                        nn.BatchNorm2d(out_channels))\n",
    "        self.downsample = downsample\n",
    "        self.relu = nn.ReLU()\n",
    "        self.out_channels = out_channels\n",
    "        \n",
    "    def forward(self, x):\n",
    "        residual = x # This is the residual (in the case of no downsample)\n",
    "        out = self.conv1(x)\n",
    "        out = self.conv2(out)\n",
    "        \n",
    "        if self.downsample:  # this is the residual in the case of downsample\n",
    "            residual = self.downsample(x)\n",
    "            \n",
    "        out += residual # This is it! f(x) + x \n",
    "        out = self.relu(out)\n",
    "\n",
    "        return out"
   ]
  },
  {
   "cell_type": "code",
   "execution_count": null,
   "id": "64289382-45fc-4d1a-a67f-0fcf2c293c7a",
   "metadata": {},
   "outputs": [],
   "source": [
    "class ResNet10(nn.Module):\n",
    "    \"\"\"\n",
    "    Implements the Residual Network with 34 layers:\n",
    "    The architecture is like this:\n",
    "    1. Image passes through a convolution (kernel 3x3) \n",
    "    with stride = 1 and padding = 1 which increases the features from 3 to 64 and \n",
    "    preserves spatian dimensions, then batch normalization and activation. \n",
    "    # (W,H,1) => (W,H,64)\n",
    "    \n",
    "    2. The layer architecture is as follows (with a skip connection between each pair of layers) \n",
    "        6 layers of convolution 3x3 with 64 features\n",
    "        8 layers of convolution 3x3 with 128 features (max pool 56 -> 28)\n",
    "        12 layers of convolution 3x3 with 256 features (max pool 28 -> 24)\n",
    "        6 layers of convolution 3x3 with 512 features (max pool 14 -> 7)\n",
    "    3. Then avgpool and fc.\n",
    "    \n",
    "    \"\"\"\n",
    "    def __init__(self, block, num_classes = 3, dropout=False, dropout_fraction=0.2, debug=False):\n",
    "        super(ResNet10, self).__init__()\n",
    "        self.debug = debug\n",
    "        self.inplanes = 64\n",
    "\n",
    "        self.conv1 = nn.Sequential(\n",
    "                        nn.Conv2d(1, 64, kernel_size = 3, stride = 1, padding = 1),\n",
    "                        nn.BatchNorm2d(64),\n",
    "                        nn.ReLU())\n",
    "        self.maxpool = nn.MaxPool2d(2, 2)\n",
    "        self.layer0 = self._make_layer(block, 64, 1, stride = 1, nlyr = 1)\n",
    "        self.layer1 = self._make_layer(block, 128, 1, stride = 2, nlyr = 2)\n",
    "        self.layer2 = self._make_layer(block, 256, 1, stride = 2, nlyr = 3)\n",
    "        self.layer3 = self._make_layer(block, 512, 1, stride = 2, nlyr = 4)\n",
    "        self.avgpool = nn.AvgPool2d(1, stride=1)\n",
    "        self.fc = nn.Linear(512, num_classes)\n",
    "        self.dropout = dropout\n",
    "        self.drop1 = nn.Dropout(p=dropout_fraction)\n",
    "\n",
    "           \n",
    "    def _make_layer(self, block, planes, blocks, stride, nlyr):\n",
    "        downsample = None\n",
    "        \n",
    "        if stride != 1 or self.inplanes != planes:\n",
    "            downsample = nn.Sequential(\n",
    "                nn.Conv2d(self.inplanes, planes, kernel_size=1, stride=stride),\n",
    "                nn.BatchNorm2d(planes),\n",
    "            )\n",
    "        if self.debug:\n",
    "            print(f\" ## make_layer {nlyr}: planes = {planes},  blocks = {blocks}, stride = {stride}\")\n",
    "            print(f\" ## make_layer: in_planes={self.inplanes}\")\n",
    "            print(f\" ## make_layer: downsample = {downsample}\")\n",
    "            #print(f\"layer block = 0: Block(in_channels={self.inplanes}, out_channels ={planes}, stride = {stride}, downsample = {downsample}\")\n",
    "            \n",
    "        layers = []\n",
    "        layers.append(block(self.inplanes, planes, stride, downsample))\n",
    "        self.inplanes = planes\n",
    "        \n",
    "        for i in range(1, blocks):\n",
    "            layers.append(block(self.inplanes, planes))\n",
    "            if self.debug:\n",
    "                print(f\" layer block = {i}: Block(in_channels={self.inplanes}, out_channels ={planes}, stride = 1, downsample = None\")\n",
    "\n",
    "        return nn.Sequential(*layers)\n",
    "    \n",
    "    def forward(self, x):\n",
    "        if(self.debug): print(f\" ResNet10: input data shape =>{x.shape}\")\n",
    "            \n",
    "        x = self.conv1(x)\n",
    "        if(self.debug): print(f\" ResNet10: after conv1 =>{x.shape}\")\n",
    "            \n",
    "        #x = self.maxpool(x)\n",
    "        #if(self.debug): print(f\" ResNet: after maxpool =>{x.shape}\")\n",
    "            \n",
    "        x = self.layer0(x)\n",
    "        if(self.debug): print(f\" ResNet10: after layer0 =>{x.shape}\")\n",
    "        \n",
    "        x = self.layer1(x)\n",
    "        if(self.debug): print(f\" ResNet10: after layer1 =>{x.shape}\")\n",
    "            \n",
    "        x = self.layer2(x)\n",
    "        if(self.debug): print(f\" ResNet10: after layer2 =>{x.shape}\")\n",
    "            \n",
    "        x = self.layer3(x)\n",
    "        if(self.debug): print(f\" ResNet10: after layer3 =>{x.shape}\")\n",
    "            \n",
    "        x = self.avgpool(x)\n",
    "        if(self.debug): print(f\" ResNet10: after avgpool =>{x.shape}\")\n",
    "\n",
    "        x = x.flatten(start_dim=1)\n",
    "        #x = x.view(x.size(0), -1)\n",
    "        if(self.debug): print(f\" ResNet10: after flatten =>{x.shape}\")\n",
    "        \n",
    "        if self.dropout: x = self.drop1(x)  # drop\n",
    "        x = self.fc(x)\n",
    "        if(self.debug): print(f\" ResNet10: after fc =>{x.shape}\")\n",
    "\n",
    "        self.debug = False\n",
    "        return x\n",
    "  "
   ]
  },
  {
   "cell_type": "code",
   "execution_count": null,
   "id": "f6e2c301-2c8a-45db-a813-5ce1ab2837ac",
   "metadata": {},
   "outputs": [],
   "source": [
    "#define the model\n",
    "model = ResNet10(ResBlock, debug=True).to(device)"
   ]
  },
  {
   "cell_type": "code",
   "execution_count": null,
   "id": "b22b7f9c-c2f5-403a-9c50-96cd2bc0edeb",
   "metadata": {},
   "outputs": [],
   "source": [
    "print(model)"
   ]
  },
  {
   "cell_type": "code",
   "execution_count": null,
   "id": "7f750531-5688-4b8b-8770-5f80284ea075",
   "metadata": {},
   "outputs": [],
   "source": [
    "optimizer = optim.Adam(model.parameters(), lr=0.001)\n",
    "criterion = nn.MSELoss()"
   ]
  },
  {
   "cell_type": "code",
   "execution_count": null,
   "id": "b4aae71b-2577-4dbf-a956-6ac315230c2c",
   "metadata": {},
   "outputs": [],
   "source": [
    "single_run(train_loader, device, model, optimizer,criterion)"
   ]
  },
  {
   "cell_type": "code",
   "execution_count": null,
   "id": "faad58c9-04a5-4ccf-aa0d-21e3b62bb9ae",
   "metadata": {},
   "outputs": [],
   "source": [
    "train_losses, val_losses = train_cnn(train_loader, val_loader,\n",
    "                                    model, optimizer, device, criterion, \n",
    "                                    batch_size=500, epochs=10, iprnt=200)"
   ]
  },
  {
   "cell_type": "code",
   "execution_count": null,
   "id": "1ea63d1d-6e71-401a-9745-197fb4ac013b",
   "metadata": {},
   "outputs": [],
   "source": [
    "plot_loss(10, train_losses, val_losses,figsize=(6, 4))\n"
   ]
  },
  {
   "cell_type": "code",
   "execution_count": null,
   "id": "073f8c57-b284-406a-bda7-b52b8e80801a",
   "metadata": {},
   "outputs": [],
   "source": [
    "plotxyz(tdeltas, nbins=50)"
   ]
  },
  {
   "cell_type": "code",
   "execution_count": null,
   "id": "9465c837-9673-47d1-b4a5-3e5eea6d8215",
   "metadata": {},
   "outputs": [],
   "source": [
    "first_file = 0  # initial file indx\n",
    "last_file  = 100  # lasta file indx\n",
    "batch_size = 250  # Batch size\n",
    "train_fraction=0.7 \n",
    "val_fraction=0.2\n",
    "dataset = MonoDataset(CsI_6x6_fullwrap_50k_0MHzDC_PTFE_LUT_NX, \n",
    "                      first_file, last_file,\n",
    "                      norm=True, resize=False, mean=165.90, std=93.3)\n",
    "data_loader, train_loader, val_loader, test_loader = mono_data_loader(dataset, \n",
    "                                                                      batch_size=batch_size, \n",
    "                                                                      train_fraction=train_fraction, \n",
    "                                                                      val_fraction=val_fraction)   \n"
   ]
  },
  {
   "cell_type": "code",
   "execution_count": null,
   "id": "78e6d640-4d38-43f6-a9fd-7ec5d6b59c95",
   "metadata": {},
   "outputs": [],
   "source": [
    "model = ResNet10(ResBlock, debug=False, dropout=True, dropout_fraction=0.2).to(device)"
   ]
  },
  {
   "cell_type": "code",
   "execution_count": null,
   "id": "f1a7376a-6f1b-4771-993d-b8fcb8c8c68b",
   "metadata": {},
   "outputs": [],
   "source": [
    "optimizer = optim.Adam(model.parameters(), lr=0.001)\n",
    "criterion = nn.MSELoss()"
   ]
  },
  {
   "cell_type": "code",
   "execution_count": null,
   "id": "c1c5405e-edc4-4f56-a5db-94f5ed2e512b",
   "metadata": {},
   "outputs": [],
   "source": [
    "train_losses, val_losses = train_cnn(train_loader, val_loader,\n",
    "                                    model, optimizer, device, criterion, \n",
    "                                    batch_size=batch_size, epochs=10, iprnt=400)"
   ]
  },
  {
   "cell_type": "code",
   "execution_count": null,
   "id": "ee8efb64-85f4-4c77-95ec-7517ea54ddce",
   "metadata": {},
   "outputs": [],
   "source": [
    "plot_loss(10, train_losses, val_losses,figsize=(6, 4))\n"
   ]
  },
  {
   "cell_type": "code",
   "execution_count": null,
   "id": "d03c22d6-bb59-4dfa-b167-e2e820cdb62b",
   "metadata": {},
   "outputs": [],
   "source": [
    "tdeltas = evaluate_cnn(test_loader, model, device)\n",
    "plotxyz(tdeltas, nbins=50)"
   ]
  },
  {
   "cell_type": "code",
   "execution_count": null,
   "id": "b70fb0c3-a82a-416a-ad10-a9cfcb4a7cb9",
   "metadata": {},
   "outputs": [],
   "source": []
  },
  {
   "cell_type": "markdown",
   "id": "75f217b5-41f1-4802-ade3-cd87c0ff5b34",
   "metadata": {},
   "source": [
    "## Calculation of means"
   ]
  },
  {
   "cell_type": "code",
   "execution_count": null,
   "id": "51c2d643-ded9-413e-8969-62240b903e83",
   "metadata": {},
   "outputs": [],
   "source": [
    "means, stds = get_means_stds(dir=crystal)"
   ]
  },
  {
   "cell_type": "code",
   "execution_count": null,
   "id": "977db328-85ae-42b3-89af-f70574a9cfe1",
   "metadata": {},
   "outputs": [],
   "source": [
    "len(means)"
   ]
  },
  {
   "cell_type": "code",
   "execution_count": null,
   "id": "8e17ece3-f312-47b9-8e6a-0d4ebf1d97cf",
   "metadata": {},
   "outputs": [],
   "source": [
    "means[0][0]"
   ]
  },
  {
   "cell_type": "code",
   "execution_count": null,
   "id": "11993024-8a93-44b0-befe-5c1c2be6aa47",
   "metadata": {},
   "outputs": [],
   "source": [
    "histoplot(means, \"image means\", vart=\"Image Means \", num_bins = 50, figsize=(6, 4))"
   ]
  },
  {
   "cell_type": "code",
   "execution_count": null,
   "id": "cfde99ae-a334-43c0-a119-0122d0014693",
   "metadata": {},
   "outputs": [],
   "source": [
    "meansx =[np.mean(x) for x in means]"
   ]
  },
  {
   "cell_type": "code",
   "execution_count": null,
   "id": "ae89c57a-1e95-4342-9b0d-10d0d80dc732",
   "metadata": {},
   "outputs": [],
   "source": [
    "histoplot(meansx, \"image means\", vart=\"Mean of Image Means \", num_bins = 10, figsize=(6, 4))"
   ]
  },
  {
   "cell_type": "code",
   "execution_count": null,
   "id": "502e0b46-685a-44d5-82a4-8957746f9c70",
   "metadata": {},
   "outputs": [],
   "source": [
    "np.mean(meansx)"
   ]
  },
  {
   "cell_type": "code",
   "execution_count": null,
   "id": "c34fafdb-81fe-4316-bf65-0ef189107081",
   "metadata": {},
   "outputs": [],
   "source": [
    "histoplot(stds, \"image stds\", vart=\"Image Stds \", num_bins = 50, figsize=(6, 4))"
   ]
  },
  {
   "cell_type": "code",
   "execution_count": null,
   "id": "2ebcf850-ff00-450c-a815-4e6356a33f02",
   "metadata": {},
   "outputs": [],
   "source": [
    "stdsx =[np.std(x) for x in stds]"
   ]
  },
  {
   "cell_type": "code",
   "execution_count": null,
   "id": "b01056b3-b163-4645-9772-995656a87122",
   "metadata": {},
   "outputs": [],
   "source": [
    "histoplot(stdsx, \"image stds\", vart=\"Mean of Image Stds \", num_bins = 10, figsize=(6, 4))"
   ]
  },
  {
   "cell_type": "code",
   "execution_count": null,
   "id": "0b6e2f1d-173a-49be-b3ff-9331f98baab6",
   "metadata": {},
   "outputs": [],
   "source": [
    "np.mean(stdsx)"
   ]
  },
  {
   "cell_type": "code",
   "execution_count": null,
   "id": "87bf9957-c7e7-45e4-8f05-dcbe9c69fc2a",
   "metadata": {},
   "outputs": [],
   "source": []
  }
 ],
 "metadata": {
  "kernelspec": {
   "display_name": "Python 3 (ipykernel)",
   "language": "python",
   "name": "python3"
  },
  "language_info": {
   "codemirror_mode": {
    "name": "ipython",
    "version": 3
   },
   "file_extension": ".py",
   "mimetype": "text/x-python",
   "name": "python",
   "nbconvert_exporter": "python",
   "pygments_lexer": "ipython3",
   "version": "3.11.6"
  }
 },
 "nbformat": 4,
 "nbformat_minor": 5
}
