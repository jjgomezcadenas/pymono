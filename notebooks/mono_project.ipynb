{
 "cells": [
  {
   "cell_type": "markdown",
   "id": "09a1a094-1dbd-4af7-bcf3-7d08dac9e260",
   "metadata": {},
   "source": [
    "# CRYSP project\n",
    "\n",
    "- Costs and details monolithic PET based in cold CsI\n",
    "- All dimensions in mm"
   ]
  },
  {
   "cell_type": "code",
   "execution_count": 1,
   "id": "39995b49-1021-48b1-ab0b-c79f01534840",
   "metadata": {},
   "outputs": [],
   "source": [
    "import numpy as np"
   ]
  },
  {
   "cell_type": "code",
   "execution_count": 2,
   "id": "8b5babb9-6158-415c-8c11-72c0c5d56398",
   "metadata": {},
   "outputs": [],
   "source": [
    "def resolution_pxl(size):\n",
    "    return size/np.sqrt(12)"
   ]
  },
  {
   "cell_type": "code",
   "execution_count": 3,
   "id": "885b3bf9-4e9d-4040-992c-2247f42af885",
   "metadata": {},
   "outputs": [],
   "source": [
    "def number_crystals(dmm, Lmm, crst_xy):\n",
    "    return np.floor(np.pi * dmm/crst_xy), np.floor(Lmm/crst_xy)  "
   ]
  },
  {
   "cell_type": "code",
   "execution_count": null,
   "id": "e2c4c2fc-31b7-4f21-9a79-cee802ea0ba6",
   "metadata": {},
   "outputs": [],
   "source": []
  },
  {
   "cell_type": "markdown",
   "id": "cf21a964",
   "metadata": {},
   "source": [
    "### Cost Electronics"
   ]
  },
  {
   "cell_type": "code",
   "execution_count": 4,
   "id": "4bf8aa48",
   "metadata": {},
   "outputs": [
    {
     "name": "stdout",
     "output_type": "stream",
     "text": [
      "Cost of asic, per channel = 4.80\n",
      "Cost of cables, per channel = 1.77\n",
      "FEB cost, per channel = 2.13\n",
      "Cost of electronics, per channel = 8.71\n"
     ]
    }
   ],
   "source": [
    "asic_cost = 1230/4\n",
    "asic_cost_channel = asic_cost/64 \n",
    "flex_cable = 26 \n",
    "flex_cable_channel = flex_cable/64\n",
    "blue_cable = 350/4\n",
    "blue_cable_channel = blue_cable/64\n",
    "cables_cost_channel = flex_cable_channel + blue_cable_channel \n",
    "FEB_cost_channel = 8740*6/(4*96*64)\n",
    "electronics_cost_channel = FEB_cost_channel + cables_cost_channel + asic_cost_channel\n",
    "print(f\"Cost of asic, per channel = {asic_cost_channel:.2f}\")\n",
    "print(f\"Cost of cables, per channel = {cables_cost_channel:.2f}\")\n",
    "print(f\"FEB cost, per channel = {FEB_cost_channel:.2f}\")\n",
    "print(f\"Cost of electronics, per channel = {electronics_cost_channel:.2f}\")"
   ]
  },
  {
   "cell_type": "markdown",
   "id": "544a3624",
   "metadata": {},
   "source": [
    "### SiPMs"
   ]
  },
  {
   "cell_type": "code",
   "execution_count": 5,
   "id": "6271dd40",
   "metadata": {},
   "outputs": [
    {
     "name": "stdout",
     "output_type": "stream",
     "text": [
      "Hamamatsu: cost SiPMs 6x6 (or 3x3) per channel = 13.94\n"
     ]
    }
   ],
   "source": [
    "sipm_6x6_4x4 = 223 #e\n",
    "sipm_6x6_4x4_units = 16\n",
    "sipm_6x6_cost = sipm_6x6_4x4/sipm_6x6_4x4_units\n",
    "print(f\"Hamamatsu: cost SiPMs 6x6 (or 3x3) per channel = {sipm_6x6_cost:.2f}\")\n"
   ]
  },
  {
   "cell_type": "code",
   "execution_count": 6,
   "id": "4de266d1",
   "metadata": {},
   "outputs": [
    {
     "name": "stdout",
     "output_type": "stream",
     "text": [
      "Hamamatsu: cost SiPMs 3x3 = 3.48\n"
     ]
    }
   ],
   "source": [
    "sipm_3x3_8x8 = 223 #e\n",
    "sipm_3x3_8x8_units = 64\n",
    "sipm_3x3_cost = sipm_3x3_8x8/sipm_3x3_8x8_units\n",
    "print(f\"Hamamatsu: cost SiPMs 3x3 = {sipm_3x3_cost:.2f}\")"
   ]
  },
  {
   "cell_type": "markdown",
   "id": "e091d7b7",
   "metadata": {},
   "source": [
    "### Crystals"
   ]
  },
  {
   "cell_type": "code",
   "execution_count": 7,
   "id": "33f3dde0",
   "metadata": {},
   "outputs": [],
   "source": [
    "crst_xy = 50\n",
    "crst_z = 37\n",
    "crst_cost = 500 # in $~€\n",
    "crst_xst = 1000*4/(6*6*20)\n",
    "lyso_cost = 45 # $/cm3\n",
    "crst_lyso_cost = 25*2.2*lyso_cost\n",
    "sipm3x3_crst = 16 * 16\n",
    "sipm6x6_crst = 8 * 8"
   ]
  },
  {
   "cell_type": "code",
   "execution_count": 8,
   "id": "114d5872-f17f-498b-a246-3b693516b76b",
   "metadata": {},
   "outputs": [],
   "source": [
    "dpet = 700 # mm\n",
    "lpet = 1000 #mm"
   ]
  },
  {
   "cell_type": "code",
   "execution_count": 9,
   "id": "ef7c5cbc-2b3e-4f2e-9101-5d38a517a5d7",
   "metadata": {},
   "outputs": [
    {
     "name": "stdout",
     "output_type": "stream",
     "text": [
      "CsI: Cost crystal (50 x50 x 37 mm3), per cm3 =5.41\n",
      "CsI: Cost crystal LYSO cm3   =45.00\n",
      "CsI: Cost crystal (50 x50 x 22 mm3) LYSO =2475.00\n"
     ]
    }
   ],
   "source": [
    "cost_cm3 = 1000*crst_cost/(crst_xy**2*crst_z)\n",
    "print(f\"CsI: Cost crystal (50 x50 x 37 mm3), per cm3 ={cost_cm3:.2f}\")\n",
    "print(f\"CsI: Cost crystal LYSO cm3   ={lyso_cost:.2f}\")\n",
    "print(f\"CsI: Cost crystal (50 x50 x 22 mm3) LYSO ={crst_lyso_cost:.2f}\")"
   ]
  },
  {
   "cell_type": "code",
   "execution_count": 10,
   "id": "fe2dc8e9-514b-4007-9805-4f11970fd9f9",
   "metadata": {},
   "outputs": [
    {
     "name": "stdout",
     "output_type": "stream",
     "text": [
      "number of crystals in PET (per wheel, wheels) = (43.0, 20.0) total = 860.0\n",
      "number of SiPm (6x6) for PET = 55040.0\n",
      "cost crystals (M$) = 0.43\n",
      "cost sipms (M$) = 0.77\n",
      "cost sipms2 (M$) = 0.77\n",
      "cost sipms 3x3 (M$) = 0.77\n",
      "cost asic (M$) = 0.48\n",
      "cost asics 3x3 (M$) = 1.92\n"
     ]
    }
   ],
   "source": [
    "ncs = number_crystals(dpet, lpet, crst_xy)\n",
    "ncx = np.prod(ncs)\n",
    "nsipm = np.prod(ncs) * sipm6x6_crst\n",
    "nsipm3x3 = np.prod(ncs) * sipm3x3_crst\n",
    "cost_crystals = ncx * crst_cost\n",
    "cost_crystals_lyso = ncx * crst_lyso_cost\n",
    "cost_sipms = nsipm * sipm_6x6_cost\n",
    "cost_sipms2 = ncx * 4 * sipm_6x6_4x4\n",
    "cost_sipms3x3 = nsipm3x3 * sipm_3x3_cost\n",
    "cost_asic = nsipm * electronics_cost_channel\n",
    "cost_asic3x3 = nsipm3x3 * electronics_cost_channel\n",
    "print(f\"number of crystals in PET (per wheel, wheels) = {ncs}\",\n",
    "     f\"total = {np.prod(ncs)}\")\n",
    "print(f\"number of SiPm (6x6) for PET = {nsipm}\")\n",
    "print(f\"cost crystals (M$) = {cost_crystals/1e+6:.2f}\")\n",
    "print(f\"cost crystals LYSO (M$) = {cost_crystals_lyso/1e+6:.2f}\")\n",
    "print(f\"cost sipms (M$) = {cost_sipms/1e+6:.2f}\")\n",
    "print(f\"cost sipms2 (M$) = {cost_sipms2/1e+6:.2f}\")\n",
    "print(f\"cost sipms 3x3 (M$) = {cost_sipms3x3/1e+6:.2f}\")\n",
    "print(f\"cost asic (M$) = {cost_asic/1e+6:.2f}\")\n",
    "print(f\"cost asics 3x3 (M$) = {cost_asic3x3/1e+6:.2f}\")"
   ]
  },
  {
   "cell_type": "code",
   "execution_count": 11,
   "id": "58ee9c89",
   "metadata": {},
   "outputs": [
    {
     "data": {
      "text/plain": [
       "1651200"
      ]
     },
     "execution_count": 11,
     "metadata": {},
     "output_type": "execute_result"
    }
   ],
   "source": [
    "55040 * 30"
   ]
  },
  {
   "cell_type": "code",
   "execution_count": 17,
   "id": "7005eba0",
   "metadata": {},
   "outputs": [
    {
     "name": "stdout",
     "output_type": "stream",
     "text": [
      "cost total (M$) = 1.68\n",
      "cost lyso (M$) = 3.38\n",
      "Ratio = 2.01\n"
     ]
    }
   ],
   "source": [
    "cost_total = cost_crystals + cost_sipms + cost_asic\n",
    "cost_lyso = cost_crystals_lyso + cost_sipms + cost_asic\n",
    "print(f\"cost total (M$) = {cost_total/1e+6:.2f}\")\n",
    "print(f\"cost lyso (M$) = {cost_lyso/1e+6:.2f}\")\n",
    "print(f\"Ratio = {(cost_lyso/cost_total):.2f}\")"
   ]
  },
  {
   "cell_type": "markdown",
   "id": "e2bf0316-c966-4cba-b5b8-5737a8d1c727",
   "metadata": {},
   "source": [
    "## Cryspin"
   ]
  },
  {
   "cell_type": "code",
   "execution_count": 18,
   "id": "593403f3-63d8-4b22-99c3-0c4d978e843a",
   "metadata": {},
   "outputs": [
    {
     "name": "stdout",
     "output_type": "stream",
     "text": [
      "Number of arrays SiPMs = 72.00\n",
      "cost crystals = 9540.00, cost sipms = 26424.00 c_asics = 10036.12\n"
     ]
    }
   ],
   "source": [
    "n_crs = 18\n",
    "cost_crs = 18 * 530\n",
    "n_arrays_4x4 = 18 * 4 \n",
    "c_sipms = n_arrays_4x4 * 367\n",
    "n_asics = n_crs\n",
    "c_asics = n_asics * 64 * electronics_cost_channel\n",
    "print(f\"Number of arrays SiPMs = {n_arrays_4x4:.2f}\")\n",
    "print(f\"cost crystals = {cost_crs:.2f}, cost sipms = {c_sipms:.2f}\", \n",
    "      f\"c_asics = {c_asics:.2f}\")"
   ]
  },
  {
   "cell_type": "code",
   "execution_count": 19,
   "id": "78b05498-6609-4daa-b822-ba0b098b8289",
   "metadata": {},
   "outputs": [],
   "source": [
    "def attenuation(mu, x):\n",
    "    return np.exp(-mu*x)\n"
   ]
  },
  {
   "cell_type": "code",
   "execution_count": 21,
   "id": "9df56790",
   "metadata": {},
   "outputs": [
    {
     "data": {
      "text/plain": [
       "0.012714655175249731"
      ]
     },
     "execution_count": 21,
     "metadata": {},
     "output_type": "execute_result"
    }
   ],
   "source": [
    "attenuation(9.7e-2, 45.0) # incm"
   ]
  }
 ],
 "metadata": {
  "kernelspec": {
   "display_name": "Python 3 (ipykernel)",
   "language": "python",
   "name": "python3"
  },
  "language_info": {
   "codemirror_mode": {
    "name": "ipython",
    "version": 3
   },
   "file_extension": ".py",
   "mimetype": "text/x-python",
   "name": "python",
   "nbconvert_exporter": "python",
   "pygments_lexer": "ipython3",
   "version": "3.11.6"
  }
 },
 "nbformat": 4,
 "nbformat_minor": 5
}
