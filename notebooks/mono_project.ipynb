{
 "cells": [
  {
   "cell_type": "markdown",
   "id": "09a1a094-1dbd-4af7-bcf3-7d08dac9e260",
   "metadata": {},
   "source": [
    "# CRYSP project\n",
    "\n",
    "- Costs and details monolithic PET based in cold CsI\n",
    "- All dimensions in mm"
   ]
  },
  {
   "cell_type": "code",
   "execution_count": 1,
   "id": "39995b49-1021-48b1-ab0b-c79f01534840",
   "metadata": {},
   "outputs": [],
   "source": [
    "import numpy as np"
   ]
  },
  {
   "cell_type": "code",
   "execution_count": 2,
   "id": "8b5babb9-6158-415c-8c11-72c0c5d56398",
   "metadata": {},
   "outputs": [],
   "source": [
    "def resolution_pxl(size):\n",
    "    return size/np.sqrt(12)"
   ]
  },
  {
   "cell_type": "code",
   "execution_count": 3,
   "id": "885b3bf9-4e9d-4040-992c-2247f42af885",
   "metadata": {},
   "outputs": [],
   "source": [
    "def number_crystals(dmm, Lmm, crst_xy):\n",
    "    return np.floor(np.pi * dmm/crst_xy), np.floor(Lmm/crst_xy)  "
   ]
  },
  {
   "cell_type": "code",
   "execution_count": 37,
   "id": "e2c4c2fc-31b7-4f21-9a79-cee802ea0ba6",
   "metadata": {},
   "outputs": [
    {
     "name": "stdout",
     "output_type": "stream",
     "text": [
      "Cost of electronics, per channel = 34.85\n",
      "Cost of electronics, per module = 2230.25\n"
     ]
    }
   ],
   "source": [
    "crst_xy = 50\n",
    "crst_z = 37\n",
    "crst_cost = 500 # in $~€\n",
    "asic_cost = 1230/64 \n",
    "flex_cable = 26 * 384/(96*64)\n",
    "blue_cable = 350/64\n",
    "cables_cost = flex_cable + blue_cable\n",
    "FEB_cost = 8740*6/(96*64)\n",
    "electronics_cost = FEB_cost + cables_cost + asic_cost\n",
    "crst_xst = 1000*4/(6*6*20)\n",
    "lyso_cost = 45 # $/cm3\n",
    "crst_lyso_cost = 25*2.2*lyso_cost\n",
    "sipm3x3_crst = 16 * 16\n",
    "sipm6x6_crst = 8 * 8\n",
    "print(f\"Cost of electronics, per channel = {electronics_cost:.2f}\")\n",
    "print(f\"Cost of electronics, per module = {electronics_cost*64:.2f}\")"
   ]
  },
  {
   "cell_type": "code",
   "execution_count": null,
   "id": "70a5b6f9",
   "metadata": {},
   "outputs": [],
   "source": []
  },
  {
   "cell_type": "code",
   "execution_count": 24,
   "id": "6271dd40",
   "metadata": {},
   "outputs": [
    {
     "name": "stdout",
     "output_type": "stream",
     "text": [
      "Hamamatsu: cost SiPMs 6x6 = 13.94\n",
      "asic cost per channel =19.22\n",
      "cables cost per channel =7.09\n",
      "FEB cost per channel =8.54\n",
      "electronics cost per channel =34.85\n"
     ]
    }
   ],
   "source": [
    "sipm_6x6_4x4 = 223 #e\n",
    "sipm_6x6_4x4_units = 16\n",
    "sipm_6x6_cost = sipm_6x6_4x4/sipm_6x6_4x4_units\n",
    "print(f\"Hamamatsu: cost SiPMs 6x6 = {sipm_6x6_cost:.2f}\")\n",
    "print(f\"asic cost per channel ={asic_cost:.2f}\")\n",
    "print(f\"cables cost per channel ={cables_cost:.2f}\")\n",
    "print(f\"FEB cost per channel ={FEB_cost:.2f}\")\n",
    "print(f\"electronics cost per channel ={electronics_cost:.2f}\")"
   ]
  },
  {
   "cell_type": "code",
   "execution_count": 8,
   "id": "4de266d1",
   "metadata": {},
   "outputs": [
    {
     "name": "stdout",
     "output_type": "stream",
     "text": [
      "Hamamatsu: cost SiPMs 3x3 = 3.48\n"
     ]
    }
   ],
   "source": [
    "sipm_3x3_8x8 = 223 #e\n",
    "sipm_3x3_8x8_units = 64\n",
    "sipm_3x3_cost = sipm_3x3_8x8/sipm_3x3_8x8_units\n",
    "print(f\"Hamamatsu: cost SiPMs 3x3 = {sipm_3x3_cost:.2f}\")"
   ]
  },
  {
   "cell_type": "code",
   "execution_count": 13,
   "id": "114d5872-f17f-498b-a246-3b693516b76b",
   "metadata": {},
   "outputs": [],
   "source": [
    "dpet = 700 # mm\n",
    "lpet = 1000 #mm"
   ]
  },
  {
   "cell_type": "code",
   "execution_count": 10,
   "id": "ef7c5cbc-2b3e-4f2e-9101-5d38a517a5d7",
   "metadata": {},
   "outputs": [
    {
     "name": "stdout",
     "output_type": "stream",
     "text": [
      "CsI: Cost crystal (50 x50 x 37 mm3), per cm3 =5.41\n",
      "CsI: Cost crystal LYSO cm3   =45.00\n",
      "CsI: Cost crystal (50 x50 x 22 mm3) LYSO =2475.00\n"
     ]
    }
   ],
   "source": [
    "cost_cm3 = 1000*crst_cost/(crst_xy**2*crst_z)\n",
    "print(f\"CsI: Cost crystal (50 x50 x 37 mm3), per cm3 ={cost_cm3:.2f}\")\n",
    "print(f\"CsI: Cost crystal LYSO cm3   ={lyso_cost:.2f}\")\n",
    "print(f\"CsI: Cost crystal (50 x50 x 22 mm3) LYSO ={crst_lyso_cost:.2f}\")"
   ]
  },
  {
   "cell_type": "code",
   "execution_count": 11,
   "id": "9966d12f-c127-446c-a979-8701a4fde429",
   "metadata": {},
   "outputs": [
    {
     "name": "stdout",
     "output_type": "stream",
     "text": [
      "resolution pixelated detector: 3 x 3 mm =0.87\n",
      "resolution pixelated detector: 6 x 6 mm =1.73\n",
      "resolution pixelated lyso: doi mm =6.35\n"
     ]
    }
   ],
   "source": [
    "print(f'resolution pixelated detector: 3 x 3 mm ={resolution_pxl(3):.2f}')\n",
    "print(f'resolution pixelated detector: 6 x 6 mm ={resolution_pxl(6):.2f}')\n",
    "print(f'resolution pixelated lyso: doi mm ={resolution_pxl(22):.2f}')"
   ]
  },
  {
   "cell_type": "code",
   "execution_count": 30,
   "id": "fe2dc8e9-514b-4007-9805-4f11970fd9f9",
   "metadata": {},
   "outputs": [
    {
     "name": "stdout",
     "output_type": "stream",
     "text": [
      "number of crystals in PET (per wheel, wheels) = (43.0, 20.0) total = 860.0\n",
      "number of SiPm (6x6) for PET = 55040.0\n",
      "cost crystals (M$) = 0.43\n",
      "cost sipms (M$) = 0.77\n",
      "cost sipms2 (M$) = 0.77\n",
      "cost sipms 3x3 (M$) = 0.77\n",
      "cost asic (M$) = 1.92\n",
      "cost asics 3x3 (M$) = 7.67\n"
     ]
    }
   ],
   "source": [
    "ncs = number_crystals(dpet, lpet, crst_xy)\n",
    "ncx = np.prod(ncs)\n",
    "nsipm = np.prod(ncs) * sipm6x6_crst\n",
    "nsipm3x3 = np.prod(ncs) * sipm3x3_crst\n",
    "cost_crystals = ncx * crst_cost\n",
    "cost_crystals_lyso = ncx * crst_lyso_cost\n",
    "cost_sipms = nsipm * sipm_6x6_cost\n",
    "cost_sipms2 = ncx * 4 * sipm_6x6_4x4\n",
    "cost_sipms3x3 = nsipm3x3 * sipm_3x3_cost\n",
    "cost_asic = nsipm * electronics_cost\n",
    "cost_asic3x3 = nsipm3x3 * electronics_cost\n",
    "print(f\"number of crystals in PET (per wheel, wheels) = {ncs}\",\n",
    "     f\"total = {np.prod(ncs)}\")\n",
    "print(f\"number of SiPm (6x6) for PET = {nsipm}\")\n",
    "print(f\"cost crystals (M$) = {cost_crystals/1e+6:.2f}\")\n",
    "print(f\"cost sipms (M$) = {cost_sipms/1e+6:.2f}\")\n",
    "print(f\"cost sipms2 (M$) = {cost_sipms2/1e+6:.2f}\")\n",
    "print(f\"cost sipms 3x3 (M$) = {cost_sipms3x3/1e+6:.2f}\")\n",
    "print(f\"cost asic (M$) = {cost_asic/1e+6:.2f}\")\n",
    "print(f\"cost asics 3x3 (M$) = {cost_asic3x3/1e+6:.2f}\")"
   ]
  },
  {
   "cell_type": "code",
   "execution_count": 26,
   "id": "58ee9c89",
   "metadata": {},
   "outputs": [
    {
     "data": {
      "text/plain": [
       "1651200"
      ]
     },
     "execution_count": 26,
     "metadata": {},
     "output_type": "execute_result"
    }
   ],
   "source": [
    "55040 * 30"
   ]
  },
  {
   "cell_type": "code",
   "execution_count": null,
   "id": "7005eba0",
   "metadata": {},
   "outputs": [],
   "source": []
  },
  {
   "cell_type": "code",
   "execution_count": 44,
   "id": "f961ec8a-5072-40f0-93ed-894aa77c4f73",
   "metadata": {},
   "outputs": [
    {
     "name": "stdout",
     "output_type": "stream",
     "text": [
      "cost crystals LYSO (M$) = 2.13\n"
     ]
    }
   ],
   "source": [
    "print(f\"cost crystals LYSO (M$) = {cost_crystals_lyso/1e+6:.2f}\")"
   ]
  },
  {
   "cell_type": "markdown",
   "id": "e2bf0316-c966-4cba-b5b8-5737a8d1c727",
   "metadata": {},
   "source": [
    "## Cryspin"
   ]
  },
  {
   "cell_type": "code",
   "execution_count": 35,
   "id": "593403f3-63d8-4b22-99c3-0c4d978e843a",
   "metadata": {},
   "outputs": [
    {
     "name": "stdout",
     "output_type": "stream",
     "text": [
      "Number of arrays SiPMs = 72.00\n",
      "cost crystals = 9540.00, cost sipms = 26424.00 c_asics = 40144.50\n"
     ]
    }
   ],
   "source": [
    "n_crs = 18\n",
    "cost_crs = 18 * 530\n",
    "n_arrays_4x4 = 18 * 4 \n",
    "c_sipms = n_arrays_4x4 * 367\n",
    "n_asics = n_crs\n",
    "c_asics = n_asics * 64 * electronics_cost\n",
    "print(f\"Number of arrays SiPMs = {n_arrays_4x4:.2f}\")\n",
    "print(f\"cost crystals = {cost_crs:.2f}, cost sipms = {c_sipms:.2f}\", \n",
    "      f\"c_asics = {c_asics:.2f}\")"
   ]
  },
  {
   "cell_type": "code",
   "execution_count": 17,
   "id": "78b05498-6609-4daa-b822-ba0b098b8289",
   "metadata": {},
   "outputs": [],
   "source": [
    "n_arrays_4x4 = 18 * 4"
   ]
  },
  {
   "cell_type": "code",
   "execution_count": 18,
   "id": "9df56790",
   "metadata": {},
   "outputs": [
    {
     "data": {
      "text/plain": [
       "72"
      ]
     },
     "execution_count": 18,
     "metadata": {},
     "output_type": "execute_result"
    }
   ],
   "source": [
    "n_arrays_4x4"
   ]
  }
 ],
 "metadata": {
  "kernelspec": {
   "display_name": "Python 3 (ipykernel)",
   "language": "python",
   "name": "python3"
  },
  "language_info": {
   "codemirror_mode": {
    "name": "ipython",
    "version": 3
   },
   "file_extension": ".py",
   "mimetype": "text/x-python",
   "name": "python",
   "nbconvert_exporter": "python",
   "pygments_lexer": "ipython3",
   "version": "3.11.6"
  }
 },
 "nbformat": 4,
 "nbformat_minor": 5
}
