{
 "cells": [
  {
   "cell_type": "code",
   "execution_count": 3,
   "id": "7806fc9e-9500-4e3a-be6c-7c8ca9ab2ab0",
   "metadata": {},
   "outputs": [
    {
     "name": "stdout",
     "output_type": "stream",
     "text": [
      "The autoreload extension is already loaded. To reload it, use:\n",
      "  %reload_ext autoreload\n"
     ]
    }
   ],
   "source": [
    "%matplotlib inline\n",
    "%load_ext autoreload\n",
    "%autoreload 2\n",
    "import matplotlib.pyplot as plt\n",
    "from matplotlib.pyplot import imshow\n",
    "plt.rcParams[\"figure.figsize\"] = 10, 8\n",
    "plt.rcParams[\"font.size\"     ] = 14\n"
   ]
  },
  {
   "cell_type": "code",
   "execution_count": 4,
   "id": "3f5aa63f-7b85-4e92-9709-1214fb9cf4be",
   "metadata": {},
   "outputs": [],
   "source": [
    "import numpy as np\n",
    "import pandas as pd\n",
    "from collections import namedtuple\n",
    "import os\n",
    "import glob\n",
    "from pathlib import Path"
   ]
  },
  {
   "cell_type": "code",
   "execution_count": 5,
   "id": "626b6067-ea97-49f7-aa14-d7843154e5af",
   "metadata": {},
   "outputs": [],
   "source": [
    "import torch\n",
    "import torch.nn as nn\n",
    "import torch.optim as optim\n",
    "import torch.nn.functional as F\n",
    "from torch.utils.data import Dataset\n",
    "from torch.utils.data import DataLoader\n",
    "from torchvision import transforms\n",
    "from torchvision import datasets\n",
    "from torch.utils.data.sampler import SubsetRandomSampler\n",
    "from torchsummary import summary\n",
    "from torchvision.transforms import v2"
   ]
  },
  {
   "cell_type": "code",
   "execution_count": 6,
   "id": "47b285eb-472e-40e7-8a97-8a1f8805d354",
   "metadata": {},
   "outputs": [],
   "source": [
    "from pymono.cnns import x_cnn_evaluation, x_single_run, x_train_cnn\n",
    "from pymono.cnns import Conv2dPars,  MaxPool2dPars,  LinealLayerPars\n",
    "from pymono.cnns import build_conv_layer, build_conv_layers, build_linear_layers\n",
    "from pymono.cnns import xCNN, xResNet10, xResNet8, ResBlock"
   ]
  },
  {
   "cell_type": "code",
   "execution_count": 7,
   "id": "dd5b2547-fba6-497a-a9de-2864bea9183e",
   "metadata": {},
   "outputs": [],
   "source": [
    "from pymono.plt_funcs import  plot_loss, plot_accuracy, cifar_plot_image_and_label \n",
    "from pymono.plt_funcs import  plot_energies2, histoplot, plotxyz, plot_dataset\n",
    "from pymono.cnn_plots import plot_images2, plot_images2c\n",
    "from pymono.cnn_plots import plot2c_z, plot_images_and_labels, plot_images_and_positions"
   ]
  },
  {
   "cell_type": "code",
   "execution_count": 8,
   "id": "7ceb43f7-77da-4356-93f8-435b279ed050",
   "metadata": {},
   "outputs": [],
   "source": [
    "from pymono.cnn_aux import get_file_names_format1, get_image_file_data, get_img_file_metadata\n",
    "from pymono.cnn_aux import get_energy2, get_means_stds2"
   ]
  },
  {
   "cell_type": "code",
   "execution_count": 9,
   "id": "8de426c5-7a67-49da-9169-a128cbd72e2d",
   "metadata": {},
   "outputs": [],
   "source": [
    "from pymono.xdataset import XDataset, RDataset, R2Dataset\n",
    "from pymono.mono_dl import mono_data_loader\n",
    "from pymono.cnn_eval import evaluate_cnn, evaluate_2c_cnn, cnn_xeval, single_run, train_cnn"
   ]
  },
  {
   "cell_type": "code",
   "execution_count": 10,
   "id": "d9ccd564-591a-49cc-9c8b-8c543e02fd57",
   "metadata": {},
   "outputs": [],
   "source": [
    "from pymono.cnn_func import CNN_basic\n",
    "from pymono.cnn_func import  CNN"
   ]
  },
  {
   "cell_type": "code",
   "execution_count": 11,
   "id": "38a2443a-90a2-466c-a653-4d978131a8cd",
   "metadata": {},
   "outputs": [],
   "source": [
    "from pymono.cnn_eval import cnn_evaluation "
   ]
  },
  {
   "cell_type": "code",
   "execution_count": 12,
   "id": "84a06140-84ce-47a2-9160-4c5ed923f4c8",
   "metadata": {},
   "outputs": [],
   "source": [
    "from pymono.cnn_fit import fit_coord, fit_tdeltas, plotfxyz"
   ]
  },
  {
   "cell_type": "code",
   "execution_count": 13,
   "id": "6a16c42c-d204-44e2-b613-d9403a34f513",
   "metadata": {},
   "outputs": [
    {
     "name": "stdout",
     "output_type": "stream",
     "text": [
      "Using cuda device\n"
     ]
    }
   ],
   "source": [
    "device = (\n",
    "    \"cuda\"\n",
    "    if torch.cuda.is_available()\n",
    "    else \"mps\"\n",
    "    if torch.backends.mps.is_available()\n",
    "    else \"cpu\"\n",
    ")\n",
    "print(f\"Using {device} device\")"
   ]
  },
  {
   "cell_type": "markdown",
   "id": "c4b6c143-86f4-421e-ba5c-5f44d45546c2",
   "metadata": {},
   "source": [
    "## csv \n",
    "- df1c is the directory containing images and labels for events classified as single cluster (1c)\n",
    "- df2c is the directory containing images and labels for events classified as double cluster (2c)\n",
    "- Files are in format1:\n",
    "    - images files are of the form: images_n.npy, where n is a number.\n",
    " \n",
    "- Data corresponds to CsI"
   ]
  },
  {
   "cell_type": "code",
   "execution_count": 12,
   "id": "29679de1-783c-42a8-a26b-920cf42d85da",
   "metadata": {},
   "outputs": [],
   "source": [
    "data_dir = Path(os.environ['MONOLITH_DATA'])\n",
    "dir_root = os.path.join(data_dir,\"CsI_6x6_fullwrap_50k_0MHzDC_PTFE_LUT_gamma_vox_xy_6_z_12\")\n",
    "d1c = os.path.join(dir_root,\"df1c\")\n",
    "d2c = os.path.join(dir_root,\"df2c\")"
   ]
  },
  {
   "cell_type": "code",
   "execution_count": 14,
   "id": "753829fc-0168-487d-9ef4-e1bf4fcaacb6",
   "metadata": {},
   "outputs": [],
   "source": [
    "img_names, csv_name = get_file_names_format1(d1c)"
   ]
  },
  {
   "cell_type": "code",
   "execution_count": 15,
   "id": "7704f82a-ea74-4980-b86a-befc4ea393f8",
   "metadata": {},
   "outputs": [
    {
     "data": {
      "text/plain": [
       "'/home/investigator/Data/monolithic_csi/CsI_6x6_fullwrap_50k_0MHzDC_PTFE_LUT_gamma_vox_xy_6_z_12/df1c/images_1.npy'"
      ]
     },
     "execution_count": 15,
     "metadata": {},
     "output_type": "execute_result"
    }
   ],
   "source": [
    "img_names[0]"
   ]
  },
  {
   "cell_type": "code",
   "execution_count": 16,
   "id": "49d4042c-d18b-47f9-816c-3ce9980a3b98",
   "metadata": {},
   "outputs": [
    {
     "data": {
      "text/plain": [
       "['/home/investigator/Data/monolithic_csi/CsI_6x6_fullwrap_50k_0MHzDC_PTFE_LUT_gamma_vox_xy_6_z_12/df1c/df1c_xy_6_z_12.csv']"
      ]
     },
     "execution_count": 16,
     "metadata": {},
     "output_type": "execute_result"
    }
   ],
   "source": [
    "csv_name"
   ]
  },
  {
   "cell_type": "markdown",
   "id": "d4ae5b0f-b36c-40f1-a626-239c12d75d0e",
   "metadata": {},
   "source": [
    "### Label data\n",
    "- When sorted by value, label data corresponds to the image stored in the directory.\n",
    "- event_id = 10000 x image_number, so that event 1004 corresponds to the fourth image in file images_1.npy"
   ]
  },
  {
   "cell_type": "code",
   "execution_count": 17,
   "id": "5b797861-f316-491d-9456-59079d13b6c7",
   "metadata": {},
   "outputs": [
    {
     "data": {
      "text/html": [
       "<div>\n",
       "<style scoped>\n",
       "    .dataframe tbody tr th:only-of-type {\n",
       "        vertical-align: middle;\n",
       "    }\n",
       "\n",
       "    .dataframe tbody tr th {\n",
       "        vertical-align: top;\n",
       "    }\n",
       "\n",
       "    .dataframe thead th {\n",
       "        text-align: right;\n",
       "    }\n",
       "</style>\n",
       "<table border=\"1\" class=\"dataframe\">\n",
       "  <thead>\n",
       "    <tr style=\"text-align: right;\">\n",
       "      <th></th>\n",
       "      <th>event_id</th>\n",
       "      <th>e</th>\n",
       "      <th>x</th>\n",
       "      <th>y</th>\n",
       "      <th>z</th>\n",
       "      <th>t</th>\n",
       "    </tr>\n",
       "  </thead>\n",
       "  <tbody>\n",
       "    <tr>\n",
       "      <th>0</th>\n",
       "      <td>10004</td>\n",
       "      <td>0.510118</td>\n",
       "      <td>18.645067</td>\n",
       "      <td>12.477487</td>\n",
       "      <td>29.249544</td>\n",
       "      <td>0.116340</td>\n",
       "    </tr>\n",
       "    <tr>\n",
       "      <th>1</th>\n",
       "      <td>10006</td>\n",
       "      <td>0.509274</td>\n",
       "      <td>13.566376</td>\n",
       "      <td>1.647984</td>\n",
       "      <td>21.156849</td>\n",
       "      <td>0.090734</td>\n",
       "    </tr>\n",
       "    <tr>\n",
       "      <th>2</th>\n",
       "      <td>10014</td>\n",
       "      <td>0.509922</td>\n",
       "      <td>-5.014233</td>\n",
       "      <td>5.060986</td>\n",
       "      <td>12.715019</td>\n",
       "      <td>0.062352</td>\n",
       "    </tr>\n",
       "    <tr>\n",
       "      <th>3</th>\n",
       "      <td>10018</td>\n",
       "      <td>0.508170</td>\n",
       "      <td>-22.957691</td>\n",
       "      <td>-9.322307</td>\n",
       "      <td>45.483715</td>\n",
       "      <td>0.171746</td>\n",
       "    </tr>\n",
       "    <tr>\n",
       "      <th>4</th>\n",
       "      <td>10024</td>\n",
       "      <td>0.508948</td>\n",
       "      <td>-3.514938</td>\n",
       "      <td>-0.639491</td>\n",
       "      <td>15.746504</td>\n",
       "      <td>0.074194</td>\n",
       "    </tr>\n",
       "    <tr>\n",
       "      <th>5</th>\n",
       "      <td>10026</td>\n",
       "      <td>0.508879</td>\n",
       "      <td>18.973616</td>\n",
       "      <td>-6.031100</td>\n",
       "      <td>16.421364</td>\n",
       "      <td>0.074508</td>\n",
       "    </tr>\n",
       "    <tr>\n",
       "      <th>6</th>\n",
       "      <td>10027</td>\n",
       "      <td>0.508849</td>\n",
       "      <td>11.437413</td>\n",
       "      <td>-22.155209</td>\n",
       "      <td>40.912632</td>\n",
       "      <td>0.157729</td>\n",
       "    </tr>\n",
       "    <tr>\n",
       "      <th>7</th>\n",
       "      <td>10028</td>\n",
       "      <td>0.509717</td>\n",
       "      <td>9.708068</td>\n",
       "      <td>3.101630</td>\n",
       "      <td>13.316263</td>\n",
       "      <td>0.064982</td>\n",
       "    </tr>\n",
       "    <tr>\n",
       "      <th>8</th>\n",
       "      <td>10029</td>\n",
       "      <td>0.509517</td>\n",
       "      <td>0.335767</td>\n",
       "      <td>-11.193620</td>\n",
       "      <td>21.898740</td>\n",
       "      <td>0.093051</td>\n",
       "    </tr>\n",
       "    <tr>\n",
       "      <th>9</th>\n",
       "      <td>10030</td>\n",
       "      <td>0.509092</td>\n",
       "      <td>16.716444</td>\n",
       "      <td>15.401320</td>\n",
       "      <td>25.922293</td>\n",
       "      <td>0.107143</td>\n",
       "    </tr>\n",
       "  </tbody>\n",
       "</table>\n",
       "</div>"
      ],
      "text/plain": [
       "   event_id         e          x          y          z         t\n",
       "0     10004  0.510118  18.645067  12.477487  29.249544  0.116340\n",
       "1     10006  0.509274  13.566376   1.647984  21.156849  0.090734\n",
       "2     10014  0.509922  -5.014233   5.060986  12.715019  0.062352\n",
       "3     10018  0.508170 -22.957691  -9.322307  45.483715  0.171746\n",
       "4     10024  0.508948  -3.514938  -0.639491  15.746504  0.074194\n",
       "5     10026  0.508879  18.973616  -6.031100  16.421364  0.074508\n",
       "6     10027  0.508849  11.437413 -22.155209  40.912632  0.157729\n",
       "7     10028  0.509717   9.708068   3.101630  13.316263  0.064982\n",
       "8     10029  0.509517   0.335767 -11.193620  21.898740  0.093051\n",
       "9     10030  0.509092  16.716444  15.401320  25.922293  0.107143"
      ]
     },
     "execution_count": 17,
     "metadata": {},
     "output_type": "execute_result"
    }
   ],
   "source": [
    "df1c = pd.read_csv(csv_name[0])\n",
    "df1c.head(10)"
   ]
  },
  {
   "cell_type": "markdown",
   "id": "22b97d43-f991-4abe-ba05-4472490ff346",
   "metadata": {},
   "source": [
    "#### Example\n",
    "- Images and labels in first file of directory"
   ]
  },
  {
   "cell_type": "code",
   "execution_count": 18,
   "id": "8012223b-3ff1-444d-906d-4938e2ee67ce",
   "metadata": {},
   "outputs": [
    {
     "name": "stdout",
     "output_type": "stream",
     "text": [
      "image file path = /home/investigator/Data/monolithic_csi/CsI_6x6_fullwrap_50k_0MHzDC_PTFE_LUT_gamma_vox_xy_6_z_12/df1c/images_1.npy\n",
      "image file name = images_1.npy\n",
      "image file number = 1\n",
      "number of images in file = 2605\n",
      "number of labels in file = 2605\n"
     ]
    }
   ],
   "source": [
    "imgs, imgf_path, imgf_name, imfn = get_image_file_data(img_names,img_file_index=0)\n",
    "print(f\"image file path = {imgf_path}\")\n",
    "print(f\"image file name = {imgf_name}\")\n",
    "print(f\"image file number = {imfn}\")\n",
    "print(f\"number of images in file = {len(imgs)}\")\n",
    "\n",
    "df1cs = get_img_file_metadata(df1c, imfn)  # This are the events corresponding to the images\n",
    "print(f\"number of labels in file = {len(df1cs)}\")\n"
   ]
  },
  {
   "cell_type": "code",
   "execution_count": 19,
   "id": "ccbe9f0a-6e58-416a-aeb2-298af4874cff",
   "metadata": {},
   "outputs": [
    {
     "data": {
      "image/png": "[encoded data removed]",
      "text/plain": [
       "<Figure size 1400x400 with 8 Axes>"
      ]
     },
     "metadata": {},
     "output_type": "display_data"
    }
   ],
   "source": [
    "plot_images2(imgs, df1cs, (0,8), pixel_size = 6, grid_size=8)"
   ]
  },
  {
   "cell_type": "code",
   "execution_count": 20,
   "id": "0c7b7a92-2ca1-44c6-b829-06f29802fe55",
   "metadata": {},
   "outputs": [],
   "source": [
    "energy = get_energy2(imgs)"
   ]
  },
  {
   "cell_type": "code",
   "execution_count": 21,
   "id": "8a6238e9-493f-4fc5-9ee4-26b07dc6895c",
   "metadata": {},
   "outputs": [
    {
     "data": {
      "image/png": "[encoded data removed]",
      "text/plain": [
       "<Figure size 500x400 with 1 Axes>"
      ]
     },
     "metadata": {},
     "output_type": "display_data"
    }
   ],
   "source": [
    "plot_energies2({\"CsI_6x6_fullwrap_50k_1cluster\":energy}, xmin=0, xmax=max(energy),num_bins = 50)"
   ]
  },
  {
   "cell_type": "markdown",
   "id": "e61f539c-0fa7-48c3-96f3-b33e73886f55",
   "metadata": {},
   "source": [
    "## Classification"
   ]
  },
  {
   "cell_type": "code",
   "execution_count": 22,
   "id": "a7b7fec5-c3a4-47ef-a8c4-c5762b954379",
   "metadata": {},
   "outputs": [],
   "source": [
    "first_file = 0  # initial file indx\n",
    "last_file  = 100  # lasta file indx\n",
    "batch_size = 200  # Batch size\n",
    "train_fraction=0.7 \n",
    "val_fraction=0.2"
   ]
  },
  {
   "cell_type": "code",
   "execution_count": 23,
   "id": "35de9c3b-c7f1-4c27-9994-259fc8d72085",
   "metadata": {},
   "outputs": [
    {
     "name": "stdout",
     "output_type": "stream",
     "text": [
      "Running XDataset with norm = False\n",
      "directory for 1c = /home/investigator/Data/monolithic_csi/CsI_6x6_fullwrap_50k_0MHzDC_PTFE_LUT_gamma_vox_xy_6_z_12/df1c, 2c = /home/investigator/Data/monolithic_csi/CsI_6x6_fullwrap_50k_0MHzDC_PTFE_LUT_gamma_vox_xy_6_z_12/df2c\n",
      " Image type = 0\n",
      " Image type = 1\n",
      "Before shufle: length si: 512770, si->[0, 1, 2, 3, 4, 5, 6, 7, 8, 9]\n",
      "After shufle: length si: 512770, si->[115481, 208736, 461043, 162373, 418200, 479114, 338695, 506523, 461126, 152977]\n"
     ]
    }
   ],
   "source": [
    "dataset = XDataset(dir_root, first_file, last_file,nc = False, norm=False)  "
   ]
  },
  {
   "cell_type": "code",
   "execution_count": 24,
   "id": "3be90dab-29d9-40e7-8715-758bc3d36f78",
   "metadata": {},
   "outputs": [
    {
     "data": {
      "text/plain": [
       "(tensor([[[298., 313., 318., 259., 192., 187., 153., 131.],\n",
       "          [310., 342., 349., 286., 239., 176., 156., 141.],\n",
       "          [235., 316., 358., 288., 229., 219., 173., 149.],\n",
       "          [221., 285., 276., 267., 205., 204., 152., 150.],\n",
       "          [196., 228., 215., 219., 209., 198., 148., 155.],\n",
       "          [178., 178., 202., 191., 193., 151., 142., 144.],\n",
       "          [135., 175., 169., 173., 157., 155., 156., 127.],\n",
       "          [129., 152., 154., 158., 165., 159., 141., 123.]]]),\n",
       " tensor(0))"
      ]
     },
     "execution_count": 24,
     "metadata": {},
     "output_type": "execute_result"
    }
   ],
   "source": [
    "dataset[3]"
   ]
  },
  {
   "cell_type": "code",
   "execution_count": 25,
   "id": "28a43af6-548e-47ac-a9d1-4b442f0a7887",
   "metadata": {},
   "outputs": [
    {
     "name": "stdout",
     "output_type": "stream",
     "text": [
      "Loaded 512770 events\n",
      " train size = 358939\n",
      " val size = 102554\n",
      " test size = 51277\n",
      " train indices = range(0, 358939)\n",
      " val indices = range(358939, 461493)\n",
      " test indices = range(461493, 512770)\n",
      "358939 training events (70.0%)\n",
      "102554 validation events (20.0%)\n",
      "51277 test events (10.0%)\n"
     ]
    }
   ],
   "source": [
    "data_loader, train_loader, val_loader, test_loader = mono_data_loader(dataset, \n",
    "                                                                      batch_size=batch_size, \n",
    "                                                                      train_fraction=train_fraction, \n",
    "                                                                      val_fraction=val_fraction)"
   ]
  },
  {
   "cell_type": "code",
   "execution_count": 26,
   "id": "0f76b4b4-1b68-44b7-857b-6fc8f2455951",
   "metadata": {},
   "outputs": [
    {
     "data": {
      "image/png": "[encoded data removed]",
      "text/plain": [
       "<Figure size 1000x800 with 9 Axes>"
      ]
     },
     "metadata": {},
     "output_type": "display_data"
    }
   ],
   "source": [
    "plot_images_and_labels(train_loader, start=100, figsize=(10, 8))"
   ]
  },
  {
   "cell_type": "code",
   "execution_count": 27,
   "id": "f4ca8faf-17bb-42de-a756-7f8f3ab3f2d1",
   "metadata": {},
   "outputs": [
    {
     "name": "stdout",
     "output_type": "stream",
     "text": [
      " ## make_layer 1: planes = 64,  blocks = 1, stride = 1\n",
      " ## make_layer: in_planes=64\n",
      " ## make_layer: downsample = None\n",
      " ## make_layer 2: planes = 128,  blocks = 1, stride = 2\n",
      " ## make_layer: in_planes=64\n",
      " ## make_layer: downsample = Sequential(\n",
      "  (0): Conv2d(64, 128, kernel_size=(1, 1), stride=(2, 2))\n",
      "  (1): BatchNorm2d(128, eps=1e-05, momentum=0.1, affine=True, track_running_stats=True)\n",
      ")\n",
      " ## make_layer 3: planes = 256,  blocks = 1, stride = 2\n",
      " ## make_layer: in_planes=128\n",
      " ## make_layer: downsample = Sequential(\n",
      "  (0): Conv2d(128, 256, kernel_size=(1, 1), stride=(2, 2))\n",
      "  (1): BatchNorm2d(256, eps=1e-05, momentum=0.1, affine=True, track_running_stats=True)\n",
      ")\n",
      " ## make_layer 4: planes = 512,  blocks = 1, stride = 2\n",
      " ## make_layer: in_planes=256\n",
      " ## make_layer: downsample = Sequential(\n",
      "  (0): Conv2d(256, 512, kernel_size=(1, 1), stride=(2, 2))\n",
      "  (1): BatchNorm2d(512, eps=1e-05, momentum=0.1, affine=True, track_running_stats=True)\n",
      ")\n"
     ]
    }
   ],
   "source": [
    "modelx = xResNet8(ResBlock, in_channels=1, out_channels=64, num_classes = 2, \n",
    "                 dropout_fraction=0.25, debug=True, dropout=True).to(device)"
   ]
  },
  {
   "cell_type": "code",
   "execution_count": 28,
   "id": "e343c72a-6121-4114-8aaa-4aa450f5da58",
   "metadata": {},
   "outputs": [],
   "source": [
    "optimizer= optim.Adam(modelx.parameters(), lr=0.001)\n",
    "criterion = nn.CrossEntropyLoss()"
   ]
  },
  {
   "cell_type": "code",
   "execution_count": 29,
   "id": "1577cff0-0cd3-4127-ad8d-22a29a195a5d",
   "metadata": {},
   "outputs": [
    {
     "name": "stdout",
     "output_type": "stream",
     "text": [
      "Training with  ->359000 images\n",
      "size of train loader  ->1795 images\n",
      "Evaluating with  ->102600 images\n",
      "size of eval loader  ->513 images\n",
      "Classification  ->True\n",
      "Running for epochs ->10\n",
      "\n",
      "EPOCH 0\n",
      "training step: size of sample 1795\n",
      "  ResNet8: input data shape =>torch.Size([200, 1, 8, 8])\n",
      "  ResNet8: after conv1 =>torch.Size([200, 64, 8, 8])\n",
      "  ResNet8: after layer0 =>torch.Size([200, 64, 8, 8])\n",
      "  ResNet8: after layer1 =>torch.Size([200, 128, 4, 4])\n",
      "  ResNet8: after layer2 =>torch.Size([200, 256, 2, 2])\n",
      "  ResNet8: after layer3 =>torch.Size([200, 512, 1, 1])\n",
      "  ResNet8: after avgpool =>torch.Size([200, 512, 1, 1])\n",
      "  ResNet8: after flatten =>torch.Size([200, 512])\n",
      "  ResNet8: after fc =>torch.Size([200, 2])\n",
      "Validation step: size of sample 513\n",
      "--- EPOCH 0 AVG TRAIN LOSS: 0.6589222559025693\n",
      "--- EPOCH 0 AVG VAL LOSS: 0.6437868977847853\n",
      "Accuracy on the 513 validation images: 59.056692084170294 %\n",
      "\n",
      "EPOCH 1\n",
      "training step: size of sample 1795\n",
      "Validation step: size of sample 513\n",
      "--- EPOCH 1 AVG TRAIN LOSS: 0.6239888226089372\n",
      "--- EPOCH 1 AVG VAL LOSS: 0.6223897749220418\n",
      "Accuracy on the 513 validation images: 62.08534040602999 %\n",
      "\n",
      "EPOCH 2\n",
      "training step: size of sample 1795\n",
      "Validation step: size of sample 513\n",
      "--- EPOCH 2 AVG TRAIN LOSS: 0.6142102450381415\n",
      "--- EPOCH 2 AVG VAL LOSS: 0.621545952663087\n",
      "Accuracy on the 513 validation images: 62.497806033894335 %\n",
      "\n",
      "EPOCH 3\n",
      "training step: size of sample 1795\n",
      "Validation step: size of sample 513\n",
      "--- EPOCH 3 AVG TRAIN LOSS: 0.6076793019153945\n",
      "--- EPOCH 3 AVG VAL LOSS: 0.614003118367223\n",
      "Accuracy on the 513 validation images: 63.22620278097393 %\n",
      "\n",
      "EPOCH 4\n",
      "training step: size of sample 1795\n",
      "Validation step: size of sample 513\n",
      "--- EPOCH 4 AVG TRAIN LOSS: 0.6021632942648651\n",
      "--- EPOCH 4 AVG VAL LOSS: 0.6109217096258093\n",
      "Accuracy on the 513 validation images: 63.68352282699846 %\n",
      "\n",
      "EPOCH 5\n",
      "training step: size of sample 1795\n",
      "Validation step: size of sample 513\n",
      "--- EPOCH 5 AVG TRAIN LOSS: 0.5980932167313557\n",
      "--- EPOCH 5 AVG VAL LOSS: 0.5987331121288545\n",
      "Accuracy on the 513 validation images: 64.36999044405874 %\n",
      "\n",
      "EPOCH 6\n",
      "training step: size of sample 1795\n",
      "Validation step: size of sample 513\n",
      "--- EPOCH 6 AVG TRAIN LOSS: 0.5928826763769378\n",
      "--- EPOCH 6 AVG VAL LOSS: 0.6016079432550694\n",
      "Accuracy on the 513 validation images: 64.08721259044016 %\n",
      "\n",
      "EPOCH 7\n",
      "training step: size of sample 1795\n",
      "Validation step: size of sample 513\n",
      "--- EPOCH 7 AVG TRAIN LOSS: 0.5882096362977307\n",
      "--- EPOCH 7 AVG VAL LOSS: 0.5896000841207671\n",
      "Accuracy on the 513 validation images: 65.11593891998362 %\n",
      "\n",
      "EPOCH 8\n",
      "training step: size of sample 1795\n",
      "Validation step: size of sample 513\n",
      "--- EPOCH 8 AVG TRAIN LOSS: 0.5844271104315861\n",
      "--- EPOCH 8 AVG VAL LOSS: 0.5930727757440906\n",
      "Accuracy on the 513 validation images: 64.92872047896718 %\n",
      "\n",
      "EPOCH 9\n",
      "training step: size of sample 1795\n",
      "Validation step: size of sample 513\n",
      "--- EPOCH 9 AVG TRAIN LOSS: 0.5818457683148822\n",
      "--- EPOCH 9 AVG VAL LOSS: 0.5874289338119314\n",
      "Accuracy on the 513 validation images: 65.03598104413285 %\n"
     ]
    }
   ],
   "source": [
    "train_losses, val_losses, acc = x_train_cnn(train_loader, val_loader, modelx, optimizer, device, criterion, \n",
    "                                            batch_size=200, xc=True,\n",
    "                                            iprnt=100, epochs=10)"
   ]
  },
  {
   "cell_type": "code",
   "execution_count": 30,
   "id": "cb4b0413-7324-43a0-ae96-528d552f7c64",
   "metadata": {},
   "outputs": [
    {
     "data": {
      "image/png": "[encoded data removed]",
      "text/plain": [
       "<Figure size 600x400 with 1 Axes>"
      ]
     },
     "metadata": {},
     "output_type": "display_data"
    }
   ],
   "source": [
    "plot_loss(10, train_losses, val_losses,figsize=(6, 4))"
   ]
  },
  {
   "cell_type": "code",
   "execution_count": 31,
   "id": "61b0c670-e447-45fc-b858-ef058ad252f7",
   "metadata": {},
   "outputs": [
    {
     "data": {
      "image/png": "[encoded data removed]",
      "text/plain": [
       "<Figure size 1000x400 with 1 Axes>"
      ]
     },
     "metadata": {},
     "output_type": "display_data"
    }
   ],
   "source": [
    "plot_accuracy(acc,figsize=(10, 4))"
   ]
  },
  {
   "cell_type": "markdown",
   "id": "c4e8153e-6e5b-4871-b37e-cc35b456cd87",
   "metadata": {},
   "source": [
    "## Study accuracy"
   ]
  },
  {
   "cell_type": "code",
   "execution_count": 32,
   "id": "38379ffb-5aec-4c32-8205-dd6faf255821",
   "metadata": {},
   "outputs": [
    {
     "name": "stdout",
     "output_type": "stream",
     "text": [
      "Running XDataset with norm = False\n",
      "directory for 1c = /home/investigator/Data/monolithic_csi/CsI_6x6_fullwrap_50k_0MHzDC_PTFE_LUT_gamma_vox_xy_6_z_12/df1c, 2c = /home/investigator/Data/monolithic_csi/CsI_6x6_fullwrap_50k_0MHzDC_PTFE_LUT_gamma_vox_xy_6_z_12/df2c\n",
      " Image type = 0\n",
      "Before shufle: length si: 259889, si->[0, 1, 2, 3, 4, 5, 6, 7, 8, 9]\n",
      "After shufle: length si: 259889, si->[158706, 130844, 49102, 234913, 104740, 22566, 185960, 52696, 23287, 54606]\n"
     ]
    }
   ],
   "source": [
    "dataset1c = XDataset(dir_root, first_file, last_file, type=\"1c\", nc = False, norm=False)  "
   ]
  },
  {
   "cell_type": "code",
   "execution_count": 33,
   "id": "07e6f2a0-5329-4dfa-ab5e-b85a517f3041",
   "metadata": {},
   "outputs": [],
   "source": [
    "data_loader = DataLoader(dataset1c, batch_size=10, shuffle=False) # data already shuffled"
   ]
  },
  {
   "cell_type": "code",
   "execution_count": 34,
   "id": "3b6a8e76-9301-45bb-97bf-d1e634da18ac",
   "metadata": {},
   "outputs": [
    {
     "data": {
      "image/png": "[encoded data removed]",
      "text/plain": [
       "<Figure size 1000x800 with 9 Axes>"
      ]
     },
     "metadata": {},
     "output_type": "display_data"
    }
   ],
   "source": [
    "plot_images_and_labels(data_loader, start=0, figsize=(10, 8))"
   ]
  },
  {
   "cell_type": "code",
   "execution_count": 35,
   "id": "267ab228-70d9-423a-a6ac-90b2fd5314e0",
   "metadata": {
    "scrolled": true
   },
   "outputs": [
    {
     "name": "stdout",
     "output_type": "stream",
     "text": [
      "Validation step: size of sample 257\n",
      "i = 0\n",
      "labels = tensor([0, 0, 1, 0, 0, 1, 1, 0, 1, 1, 1, 1, 0, 0, 1, 0, 0, 0, 1, 0, 0, 1, 1, 0,\n",
      "        0, 0, 1, 1, 0, 1, 1, 0, 1, 1, 1, 0, 0, 1, 0, 0, 1, 0, 0, 0, 1, 0, 0, 0,\n",
      "        1, 0, 1, 0, 1, 1, 0, 1, 1, 0, 0, 1, 1, 1, 1, 0, 1, 0, 1, 0, 1, 0, 1, 1,\n",
      "        1, 0, 0, 0, 0, 1, 0, 0, 1, 0, 0, 1, 0, 1, 1, 0, 0, 0, 0, 1, 0, 0, 0, 1,\n",
      "        1, 1, 0, 0, 1, 1, 1, 1, 1, 0, 1, 1, 0, 1, 1, 0, 1, 1, 0, 1, 1, 0, 0, 1,\n",
      "        0, 1, 1, 1, 0, 0, 1, 0, 1, 0, 1, 0, 0, 1, 1, 1, 1, 1, 0, 0, 1, 0, 1, 1,\n",
      "        0, 0, 1, 0, 1, 0, 1, 0, 1, 0, 1, 1, 1, 0, 0, 1, 1, 0, 0, 0, 1, 0, 1, 0,\n",
      "        1, 0, 1, 1, 0, 0, 1, 0, 1, 0, 0, 1, 1, 0, 1, 0, 1, 1, 0, 0, 1, 1, 1, 0,\n",
      "        0, 0, 0, 1, 0, 0, 0, 1], device='cuda:0')\n",
      "predicted = tensor([0, 0, 1, 0, 0, 1, 1, 1, 1, 1, 1, 0, 0, 1, 1, 0, 1, 0, 1, 0, 0, 1, 1, 1,\n",
      "        0, 1, 1, 0, 0, 0, 1, 0, 1, 1, 0, 1, 1, 0, 0, 0, 0, 0, 1, 0, 1, 0, 0, 1,\n",
      "        1, 1, 0, 1, 1, 1, 1, 0, 1, 0, 1, 0, 1, 1, 1, 1, 1, 0, 0, 0, 1, 0, 0, 1,\n",
      "        0, 0, 1, 0, 1, 1, 1, 0, 1, 0, 0, 1, 1, 0, 1, 1, 0, 1, 0, 0, 1, 0, 1, 1,\n",
      "        1, 1, 0, 0, 1, 1, 1, 1, 0, 0, 1, 1, 0, 1, 0, 1, 0, 1, 0, 0, 1, 0, 1, 1,\n",
      "        0, 0, 1, 1, 0, 0, 1, 1, 1, 0, 1, 0, 0, 1, 1, 0, 0, 1, 1, 0, 0, 0, 0, 1,\n",
      "        1, 0, 0, 0, 1, 1, 1, 0, 1, 0, 1, 1, 1, 0, 0, 0, 0, 1, 0, 0, 0, 0, 1, 0,\n",
      "        1, 0, 0, 1, 1, 0, 1, 1, 0, 0, 0, 1, 1, 0, 1, 0, 0, 1, 1, 1, 1, 0, 1, 0,\n",
      "        0, 0, 0, 0, 0, 0, 0, 1], device='cuda:0')\n",
      "correct = 135\n",
      "labels 0 = tensor([  0,   1,   3,   4,   7,  12,  13,  15,  16,  17,  19,  20,  23,  24,\n",
      "         25,  28,  31,  35,  36,  38,  39,  41,  42,  43,  45,  46,  47,  49,\n",
      "         51,  54,  57,  58,  63,  65,  67,  69,  73,  74,  75,  76,  78,  79,\n",
      "         81,  82,  84,  87,  88,  89,  90,  92,  93,  94,  98,  99, 105, 108,\n",
      "        111, 114, 117, 118, 120, 124, 125, 127, 129, 131, 132, 138, 139, 141,\n",
      "        144, 145, 147, 149, 151, 153, 157, 158, 161, 162, 163, 165, 167, 169,\n",
      "        172, 173, 175, 177, 178, 181, 183, 186, 187, 191, 192, 193, 194, 196,\n",
      "        197, 198], device='cuda:0')\n",
      "predicted 0 = tensor([  0,   1,   3,   4,  11,  12,  15,  17,  19,  20,  24,  27,  28,  29,\n",
      "         31,  34,  37,  38,  39,  40,  41,  43,  45,  46,  50,  55,  57,  59,\n",
      "         65,  66,  67,  69,  70,  72,  73,  75,  79,  81,  82,  85,  88,  90,\n",
      "         91,  93,  98,  99, 104, 105, 108, 110, 112, 114, 115, 117, 120, 121,\n",
      "        124, 125, 129, 131, 132, 135, 136, 139, 140, 141, 142, 145, 146, 147,\n",
      "        151, 153, 157, 158, 159, 160, 162, 163, 164, 165, 167, 169, 170, 173,\n",
      "        176, 177, 178, 181, 183, 184, 189, 191, 192, 193, 194, 195, 196, 197,\n",
      "        198], device='cuda:0')\n",
      "labels 1 = tensor([  2,   5,   6,   8,   9,  10,  11,  14,  18,  21,  22,  26,  27,  29,\n",
      "         30,  32,  33,  34,  37,  40,  44,  48,  50,  52,  53,  55,  56,  59,\n",
      "         60,  61,  62,  64,  66,  68,  70,  71,  72,  77,  80,  83,  85,  86,\n",
      "         91,  95,  96,  97, 100, 101, 102, 103, 104, 106, 107, 109, 110, 112,\n",
      "        113, 115, 116, 119, 121, 122, 123, 126, 128, 130, 133, 134, 135, 136,\n",
      "        137, 140, 142, 143, 146, 148, 150, 152, 154, 155, 156, 159, 160, 164,\n",
      "        166, 168, 170, 171, 174, 176, 179, 180, 182, 184, 185, 188, 189, 190,\n",
      "        195, 199], device='cuda:0')\n",
      "predicted 1 = tensor([  2,   5,   6,   7,   8,   9,  10,  13,  14,  16,  18,  21,  22,  23,\n",
      "         25,  26,  30,  32,  33,  35,  36,  42,  44,  47,  48,  49,  51,  52,\n",
      "         53,  54,  56,  58,  60,  61,  62,  63,  64,  68,  71,  74,  76,  77,\n",
      "         78,  80,  83,  84,  86,  87,  89,  92,  94,  95,  96,  97, 100, 101,\n",
      "        102, 103, 106, 107, 109, 111, 113, 116, 118, 119, 122, 123, 126, 127,\n",
      "        128, 130, 133, 134, 137, 138, 143, 144, 148, 149, 150, 152, 154, 155,\n",
      "        156, 161, 166, 168, 171, 172, 174, 175, 179, 180, 182, 185, 186, 187,\n",
      "        188, 190, 199], device='cuda:0')\n",
      "result0 = 67\n",
      "fraction of 1c == 1c => 0.6699999570846558\n",
      "result1 = 68\n",
      "fraction of 2c == 2c =Z 0.6800000071525574\n",
      "Events analyzed = 51277: 1c = 26042, 2c = 25235\n",
      "Events correctly identified = 0.6506620902158863\n",
      "1c correctly identified as 1c = 0.6828200817108154\n",
      "2c correctly identified as 2c = 0.6174757480621338\n"
     ]
    }
   ],
   "source": [
    "total, t1c, t2c, acc, c1c, c2c = cnn_xeval(test_loader, modelx, device, prnt=1000) \n",
    "print(f\"Events analyzed = {total}: 1c = {t1c}, 2c = {t2c}\")\n",
    "print(f\"Events correctly identified = {acc}\")\n",
    "print(f\"1c correctly identified as 1c = {c1c}\")\n",
    "print(f\"2c correctly identified as 2c = {c2c}\")"
   ]
  },
  {
   "cell_type": "markdown",
   "id": "d40fc834-922c-4af7-a91b-c1eef3568ed7",
   "metadata": {},
   "source": [
    "## Voxelization: vxy= 9 mm vz =12 mm\n"
   ]
  },
  {
   "cell_type": "code",
   "execution_count": 36,
   "id": "2cb04e38-a193-4cda-a617-b2564e0708c4",
   "metadata": {},
   "outputs": [],
   "source": [
    "data_dir = Path(os.environ['MONOLITH_DATA'])\n",
    "dir_root = os.path.join(data_dir,\"CsI_6x6_fullwrap_50k_0MHzDC_PTFE_LUT_gamma_vox_xy_9_z_12\")\n",
    "d1c = os.path.join(dir_root,\"df1c\")\n",
    "d2c = os.path.join(dir_root,\"df2c\")"
   ]
  },
  {
   "cell_type": "code",
   "execution_count": 37,
   "id": "f10c933e-c1f0-47d7-9f27-8cf11002a774",
   "metadata": {},
   "outputs": [
    {
     "data": {
      "text/html": [
       "<div>\n",
       "<style scoped>\n",
       "    .dataframe tbody tr th:only-of-type {\n",
       "        vertical-align: middle;\n",
       "    }\n",
       "\n",
       "    .dataframe tbody tr th {\n",
       "        vertical-align: top;\n",
       "    }\n",
       "\n",
       "    .dataframe thead th {\n",
       "        text-align: right;\n",
       "    }\n",
       "</style>\n",
       "<table border=\"1\" class=\"dataframe\">\n",
       "  <thead>\n",
       "    <tr style=\"text-align: right;\">\n",
       "      <th></th>\n",
       "      <th>event_id</th>\n",
       "      <th>e</th>\n",
       "      <th>x</th>\n",
       "      <th>y</th>\n",
       "      <th>z</th>\n",
       "      <th>t</th>\n",
       "    </tr>\n",
       "  </thead>\n",
       "  <tbody>\n",
       "    <tr>\n",
       "      <th>0</th>\n",
       "      <td>10004</td>\n",
       "      <td>0.510118</td>\n",
       "      <td>18.645067</td>\n",
       "      <td>12.477487</td>\n",
       "      <td>29.249544</td>\n",
       "      <td>0.116340</td>\n",
       "    </tr>\n",
       "    <tr>\n",
       "      <th>1</th>\n",
       "      <td>10006</td>\n",
       "      <td>0.509274</td>\n",
       "      <td>13.566376</td>\n",
       "      <td>1.647984</td>\n",
       "      <td>21.156849</td>\n",
       "      <td>0.090734</td>\n",
       "    </tr>\n",
       "    <tr>\n",
       "      <th>2</th>\n",
       "      <td>10014</td>\n",
       "      <td>0.509922</td>\n",
       "      <td>-5.014233</td>\n",
       "      <td>5.060986</td>\n",
       "      <td>12.715019</td>\n",
       "      <td>0.062352</td>\n",
       "    </tr>\n",
       "    <tr>\n",
       "      <th>3</th>\n",
       "      <td>10018</td>\n",
       "      <td>0.508170</td>\n",
       "      <td>-22.957691</td>\n",
       "      <td>-9.322307</td>\n",
       "      <td>45.483715</td>\n",
       "      <td>0.171746</td>\n",
       "    </tr>\n",
       "    <tr>\n",
       "      <th>4</th>\n",
       "      <td>10024</td>\n",
       "      <td>0.508948</td>\n",
       "      <td>-3.514938</td>\n",
       "      <td>-0.639491</td>\n",
       "      <td>15.746504</td>\n",
       "      <td>0.074194</td>\n",
       "    </tr>\n",
       "    <tr>\n",
       "      <th>5</th>\n",
       "      <td>10026</td>\n",
       "      <td>0.508879</td>\n",
       "      <td>18.973616</td>\n",
       "      <td>-6.031100</td>\n",
       "      <td>16.421364</td>\n",
       "      <td>0.074508</td>\n",
       "    </tr>\n",
       "    <tr>\n",
       "      <th>6</th>\n",
       "      <td>10027</td>\n",
       "      <td>0.508849</td>\n",
       "      <td>11.437413</td>\n",
       "      <td>-22.155209</td>\n",
       "      <td>40.912632</td>\n",
       "      <td>0.157729</td>\n",
       "    </tr>\n",
       "    <tr>\n",
       "      <th>7</th>\n",
       "      <td>10028</td>\n",
       "      <td>0.509717</td>\n",
       "      <td>9.708068</td>\n",
       "      <td>3.101630</td>\n",
       "      <td>13.316263</td>\n",
       "      <td>0.064982</td>\n",
       "    </tr>\n",
       "    <tr>\n",
       "      <th>8</th>\n",
       "      <td>10029</td>\n",
       "      <td>0.509517</td>\n",
       "      <td>0.335767</td>\n",
       "      <td>-11.193620</td>\n",
       "      <td>21.898740</td>\n",
       "      <td>0.093051</td>\n",
       "    </tr>\n",
       "    <tr>\n",
       "      <th>9</th>\n",
       "      <td>10030</td>\n",
       "      <td>0.509092</td>\n",
       "      <td>16.716444</td>\n",
       "      <td>15.401320</td>\n",
       "      <td>25.922293</td>\n",
       "      <td>0.107143</td>\n",
       "    </tr>\n",
       "  </tbody>\n",
       "</table>\n",
       "</div>"
      ],
      "text/plain": [
       "   event_id         e          x          y          z         t\n",
       "0     10004  0.510118  18.645067  12.477487  29.249544  0.116340\n",
       "1     10006  0.509274  13.566376   1.647984  21.156849  0.090734\n",
       "2     10014  0.509922  -5.014233   5.060986  12.715019  0.062352\n",
       "3     10018  0.508170 -22.957691  -9.322307  45.483715  0.171746\n",
       "4     10024  0.508948  -3.514938  -0.639491  15.746504  0.074194\n",
       "5     10026  0.508879  18.973616  -6.031100  16.421364  0.074508\n",
       "6     10027  0.508849  11.437413 -22.155209  40.912632  0.157729\n",
       "7     10028  0.509717   9.708068   3.101630  13.316263  0.064982\n",
       "8     10029  0.509517   0.335767 -11.193620  21.898740  0.093051\n",
       "9     10030  0.509092  16.716444  15.401320  25.922293  0.107143"
      ]
     },
     "execution_count": 37,
     "metadata": {},
     "output_type": "execute_result"
    }
   ],
   "source": [
    "df1c = pd.read_csv(csv_name[0])\n",
    "df1c.head(10)"
   ]
  },
  {
   "cell_type": "code",
   "execution_count": 38,
   "id": "4abfd0f4-8cb4-4aab-a694-4466da04b491",
   "metadata": {},
   "outputs": [
    {
     "name": "stdout",
     "output_type": "stream",
     "text": [
      "Running XDataset with norm = False\n",
      "directory for 1c = /home/investigator/Data/monolithic_csi/CsI_6x6_fullwrap_50k_0MHzDC_PTFE_LUT_gamma_vox_xy_9_z_12/df1c, 2c = /home/investigator/Data/monolithic_csi/CsI_6x6_fullwrap_50k_0MHzDC_PTFE_LUT_gamma_vox_xy_9_z_12/df2c\n",
      " Image type = 0\n",
      " Image type = 1\n",
      "Before shufle: length si: 512770, si->[0, 1, 2, 3, 4, 5, 6, 7, 8, 9]\n",
      "After shufle: length si: 512770, si->[115481, 208736, 461043, 162373, 418200, 479114, 338695, 506523, 461126, 152977]\n",
      "Loaded 512770 events\n",
      " train size = 358939\n",
      " val size = 102554\n",
      " test size = 51277\n",
      " train indices = range(0, 358939)\n",
      " val indices = range(358939, 461493)\n",
      " test indices = range(461493, 512770)\n",
      "358939 training events (70.0%)\n",
      "102554 validation events (20.0%)\n",
      "51277 test events (10.0%)\n"
     ]
    },
    {
     "data": {
      "image/png": "[encoded data removed]",
      "text/plain": [
       "<Figure size 1000x800 with 9 Axes>"
      ]
     },
     "metadata": {},
     "output_type": "display_data"
    }
   ],
   "source": [
    "first_file = 0  # initial file indx\n",
    "last_file  = 100  # lasta file indx\n",
    "batch_size = 200  # Batch size\n",
    "train_fraction=0.7 \n",
    "val_fraction=0.2\n",
    "dataset = XDataset(dir_root, first_file, last_file,nc = False, norm=False)  \n",
    "data_loader, train_loader, val_loader, test_loader = mono_data_loader(dataset, \n",
    "                                                                      batch_size=batch_size, \n",
    "                                                                      train_fraction=train_fraction, \n",
    "                                                                      val_fraction=val_fraction)\n",
    "plot_images_and_labels(train_loader, start=100, figsize=(10, 8))"
   ]
  },
  {
   "cell_type": "code",
   "execution_count": 39,
   "id": "8e7a78a6-8278-4e2e-98bb-2e0127d573d4",
   "metadata": {},
   "outputs": [
    {
     "name": "stdout",
     "output_type": "stream",
     "text": [
      " ## make_layer 1: planes = 64,  blocks = 1, stride = 1\n",
      " ## make_layer: in_planes=64\n",
      " ## make_layer: downsample = None\n",
      " ## make_layer 2: planes = 128,  blocks = 1, stride = 2\n",
      " ## make_layer: in_planes=64\n",
      " ## make_layer: downsample = Sequential(\n",
      "  (0): Conv2d(64, 128, kernel_size=(1, 1), stride=(2, 2))\n",
      "  (1): BatchNorm2d(128, eps=1e-05, momentum=0.1, affine=True, track_running_stats=True)\n",
      ")\n",
      " ## make_layer 3: planes = 256,  blocks = 1, stride = 2\n",
      " ## make_layer: in_planes=128\n",
      " ## make_layer: downsample = Sequential(\n",
      "  (0): Conv2d(128, 256, kernel_size=(1, 1), stride=(2, 2))\n",
      "  (1): BatchNorm2d(256, eps=1e-05, momentum=0.1, affine=True, track_running_stats=True)\n",
      ")\n",
      " ## make_layer 4: planes = 512,  blocks = 1, stride = 2\n",
      " ## make_layer: in_planes=256\n",
      " ## make_layer: downsample = Sequential(\n",
      "  (0): Conv2d(256, 512, kernel_size=(1, 1), stride=(2, 2))\n",
      "  (1): BatchNorm2d(512, eps=1e-05, momentum=0.1, affine=True, track_running_stats=True)\n",
      ")\n"
     ]
    }
   ],
   "source": [
    "modelx = xResNet8(ResBlock, in_channels=1, out_channels=64, num_classes = 2, \n",
    "                 dropout_fraction=0.25, debug=True, dropout=True).to(device)\n",
    "optimizer= optim.Adam(modelx.parameters(), lr=0.001)\n",
    "criterion = nn.CrossEntropyLoss()\n"
   ]
  },
  {
   "cell_type": "code",
   "execution_count": 40,
   "id": "e7962aeb-bd5d-480e-9f1b-0462d9b14a2e",
   "metadata": {},
   "outputs": [
    {
     "name": "stdout",
     "output_type": "stream",
     "text": [
      "Training with  ->359000 images\n",
      "size of train loader  ->1795 images\n",
      "Evaluating with  ->102600 images\n",
      "size of eval loader  ->513 images\n",
      "Classification  ->True\n",
      "Running for epochs ->10\n",
      "\n",
      "EPOCH 0\n",
      "training step: size of sample 1795\n",
      "  ResNet8: input data shape =>torch.Size([200, 1, 8, 8])\n",
      "  ResNet8: after conv1 =>torch.Size([200, 64, 8, 8])\n",
      "  ResNet8: after layer0 =>torch.Size([200, 64, 8, 8])\n",
      "  ResNet8: after layer1 =>torch.Size([200, 128, 4, 4])\n",
      "  ResNet8: after layer2 =>torch.Size([200, 256, 2, 2])\n",
      "  ResNet8: after layer3 =>torch.Size([200, 512, 1, 1])\n",
      "  ResNet8: after avgpool =>torch.Size([200, 512, 1, 1])\n",
      "  ResNet8: after flatten =>torch.Size([200, 512])\n",
      "  ResNet8: after fc =>torch.Size([200, 2])\n",
      "Validation step: size of sample 513\n",
      "--- EPOCH 0 AVG TRAIN LOSS: 0.6501375275734075\n",
      "--- EPOCH 0 AVG VAL LOSS: 0.6195831657850255\n",
      "Accuracy on the 513 validation images: 63.83368761823039 %\n",
      "\n",
      "EPOCH 1\n",
      "training step: size of sample 1795\n",
      "Validation step: size of sample 513\n",
      "--- EPOCH 1 AVG TRAIN LOSS: 0.6152018289712146\n",
      "--- EPOCH 1 AVG VAL LOSS: 0.6265967097895885\n",
      "Accuracy on the 513 validation images: 64.15156892953956 %\n",
      "\n",
      "EPOCH 2\n",
      "training step: size of sample 1795\n",
      "Validation step: size of sample 513\n",
      "--- EPOCH 2 AVG TRAIN LOSS: 0.6049831776233768\n",
      "--- EPOCH 2 AVG VAL LOSS: 0.6117725459455746\n",
      "Accuracy on the 513 validation images: 65.16859410651949 %\n",
      "\n",
      "EPOCH 3\n",
      "training step: size of sample 1795\n",
      "Validation step: size of sample 513\n",
      "--- EPOCH 3 AVG TRAIN LOSS: 0.5979945878132472\n",
      "--- EPOCH 3 AVG VAL LOSS: 0.6022469396712022\n",
      "Accuracy on the 513 validation images: 65.54693137274022 %\n",
      "\n",
      "EPOCH 4\n",
      "training step: size of sample 1795\n",
      "Validation step: size of sample 513\n",
      "--- EPOCH 4 AVG TRAIN LOSS: 0.5922401242269447\n",
      "--- EPOCH 4 AVG VAL LOSS: 0.5976136248943634\n",
      "Accuracy on the 513 validation images: 66.06178208553543 %\n",
      "\n",
      "EPOCH 5\n",
      "training step: size of sample 1795\n",
      "Validation step: size of sample 513\n",
      "--- EPOCH 5 AVG TRAIN LOSS: 0.5867150033748914\n",
      "--- EPOCH 5 AVG VAL LOSS: 0.5945090144930759\n",
      "Accuracy on the 513 validation images: 66.56395654972015 %\n",
      "\n",
      "EPOCH 6\n",
      "training step: size of sample 1795\n",
      "Validation step: size of sample 513\n",
      "--- EPOCH 6 AVG TRAIN LOSS: 0.5817923155335663\n",
      "--- EPOCH 6 AVG VAL LOSS: 0.5937302792281435\n",
      "Accuracy on the 513 validation images: 67.10513485578329 %\n",
      "\n",
      "EPOCH 7\n",
      "training step: size of sample 1795\n",
      "Validation step: size of sample 513\n",
      "--- EPOCH 7 AVG TRAIN LOSS: 0.5783545969256452\n",
      "--- EPOCH 7 AVG VAL LOSS: 0.5804337493160314\n",
      "Accuracy on the 513 validation images: 67.72529594165026 %\n",
      "\n",
      "EPOCH 8\n",
      "training step: size of sample 1795\n",
      "Validation step: size of sample 513\n",
      "--- EPOCH 8 AVG TRAIN LOSS: 0.5745117665665396\n",
      "--- EPOCH 8 AVG VAL LOSS: 0.5784373558752718\n",
      "Accuracy on the 513 validation images: 67.76039939934084 %\n",
      "\n",
      "EPOCH 9\n",
      "training step: size of sample 1795\n",
      "Validation step: size of sample 513\n",
      "--- EPOCH 9 AVG TRAIN LOSS: 0.5712572440131461\n",
      "--- EPOCH 9 AVG VAL LOSS: 0.5832038723934464\n",
      "Accuracy on the 513 validation images: 67.79745304912534 %\n"
     ]
    }
   ],
   "source": [
    "train_losses, val_losses, acc = x_train_cnn(train_loader, val_loader, modelx, optimizer, device, criterion, \n",
    "                                            batch_size=200, xc=True,\n",
    "                                            iprnt=100, epochs=10)"
   ]
  },
  {
   "cell_type": "code",
   "execution_count": 41,
   "id": "90bcc369-2cc5-4c54-af52-cc605a6ca0fc",
   "metadata": {},
   "outputs": [
    {
     "data": {
      "image/png": "[encoded data removed]",
      "text/plain": [
       "<Figure size 600x400 with 1 Axes>"
      ]
     },
     "metadata": {},
     "output_type": "display_data"
    }
   ],
   "source": [
    "plot_loss(10, train_losses, val_losses,figsize=(6, 4))"
   ]
  },
  {
   "cell_type": "code",
   "execution_count": 42,
   "id": "2ff3b168-42c6-4e48-96fc-cac83b39b3a3",
   "metadata": {},
   "outputs": [
    {
     "data": {
      "image/png": "[encoded data removed]",
      "text/plain": [
       "<Figure size 1000x400 with 1 Axes>"
      ]
     },
     "metadata": {},
     "output_type": "display_data"
    }
   ],
   "source": [
    "plot_accuracy(acc,figsize=(10, 4))"
   ]
  },
  {
   "cell_type": "code",
   "execution_count": 43,
   "id": "733441d4-81dc-4e78-9ef1-58dccaf23ff1",
   "metadata": {},
   "outputs": [
    {
     "name": "stdout",
     "output_type": "stream",
     "text": [
      "Running XDataset with norm = False\n",
      "directory for 1c = /home/investigator/Data/monolithic_csi/CsI_6x6_fullwrap_50k_0MHzDC_PTFE_LUT_gamma_vox_xy_9_z_12/df1c, 2c = /home/investigator/Data/monolithic_csi/CsI_6x6_fullwrap_50k_0MHzDC_PTFE_LUT_gamma_vox_xy_9_z_12/df2c\n",
      " Image type = 0\n",
      "Before shufle: length si: 282298, si->[0, 1, 2, 3, 4, 5, 6, 7, 8, 9]\n",
      "After shufle: length si: 282298, si->[54248, 31734, 254868, 56470, 209187, 10288, 182194, 169665, 106183, 171601]\n",
      "Validation step: size of sample 257\n",
      "i = 0\n",
      "labels = tensor([0, 0, 1, 0, 0, 1, 1, 0, 1, 1, 1, 1, 0, 0, 1, 0, 0, 0, 1, 0, 0, 1, 1, 0,\n",
      "        0, 0, 1, 1, 0, 1, 1, 0, 1, 1, 1, 0, 0, 1, 0, 0, 1, 0, 0, 0, 1, 0, 0, 0,\n",
      "        1, 0, 1, 0, 1, 1, 0, 0, 1, 0, 0, 1, 1, 1, 1, 0, 0, 0, 1, 0, 1, 0, 1, 1,\n",
      "        1, 0, 0, 0, 0, 1, 0, 0, 1, 0, 0, 1, 0, 1, 1, 0, 0, 0, 0, 1, 0, 0, 0, 1,\n",
      "        1, 1, 0, 0, 1, 1, 1, 1, 0, 0, 1, 0, 0, 1, 1, 0, 1, 1, 0, 1, 1, 0, 0, 1,\n",
      "        0, 1, 1, 1, 0, 0, 1, 0, 1, 0, 1, 0, 0, 1, 1, 1, 1, 0, 0, 0, 1, 0, 1, 1,\n",
      "        0, 0, 1, 0, 1, 0, 1, 0, 1, 0, 1, 1, 1, 0, 0, 1, 1, 0, 0, 0, 1, 0, 0, 0,\n",
      "        1, 0, 1, 1, 0, 0, 1, 0, 1, 0, 0, 1, 0, 0, 1, 0, 1, 1, 0, 0, 1, 1, 0, 0,\n",
      "        0, 0, 0, 1, 0, 0, 0, 1], device='cuda:0')\n",
      "predicted = tensor([0, 0, 0, 0, 0, 1, 0, 0, 0, 0, 0, 0, 0, 0, 0, 1, 0, 0, 0, 0, 0, 0, 0, 0,\n",
      "        0, 0, 0, 0, 0, 1, 0, 0, 1, 0, 0, 0, 0, 1, 0, 0, 1, 0, 0, 1, 0, 0, 0, 0,\n",
      "        1, 0, 0, 0, 1, 0, 0, 0, 1, 0, 1, 1, 1, 0, 0, 0, 0, 0, 0, 0, 0, 0, 0, 1,\n",
      "        1, 0, 0, 0, 0, 0, 0, 0, 0, 0, 1, 1, 0, 0, 0, 0, 0, 0, 0, 0, 0, 0, 1, 0,\n",
      "        1, 1, 0, 0, 0, 1, 0, 1, 0, 0, 0, 0, 0, 1, 0, 0, 1, 1, 0, 1, 1, 0, 0, 1,\n",
      "        0, 1, 0, 1, 0, 0, 0, 0, 1, 1, 0, 0, 1, 1, 1, 0, 1, 0, 0, 0, 0, 0, 0, 0,\n",
      "        0, 0, 1, 0, 1, 0, 1, 0, 0, 0, 0, 0, 1, 0, 0, 0, 0, 0, 0, 0, 0, 0, 1, 0,\n",
      "        1, 0, 0, 0, 0, 0, 0, 1, 1, 0, 0, 1, 0, 0, 0, 0, 1, 1, 0, 0, 0, 0, 1, 0,\n",
      "        0, 0, 0, 0, 0, 0, 0, 0], device='cuda:0')\n",
      "correct = 136\n",
      "labels 0 = tensor([  0,   1,   3,   4,   7,  12,  13,  15,  16,  17,  19,  20,  23,  24,\n",
      "         25,  28,  31,  35,  36,  38,  39,  41,  42,  43,  45,  46,  47,  49,\n",
      "         51,  54,  55,  57,  58,  63,  64,  65,  67,  69,  73,  74,  75,  76,\n",
      "         78,  79,  81,  82,  84,  87,  88,  89,  90,  92,  93,  94,  98,  99,\n",
      "        104, 105, 107, 108, 111, 114, 117, 118, 120, 124, 125, 127, 129, 131,\n",
      "        132, 137, 138, 139, 141, 144, 145, 147, 149, 151, 153, 157, 158, 161,\n",
      "        162, 163, 165, 166, 167, 169, 172, 173, 175, 177, 178, 180, 181, 183,\n",
      "        186, 187, 190, 191, 192, 193, 194, 196, 197, 198], device='cuda:0')\n",
      "predicted 0 = tensor([  0,   1,   2,   3,   4,   6,   7,   8,   9,  10,  11,  12,  13,  14,\n",
      "         16,  17,  18,  19,  20,  21,  22,  23,  24,  25,  26,  27,  28,  30,\n",
      "         31,  33,  34,  35,  36,  38,  39,  41,  42,  44,  45,  46,  47,  49,\n",
      "         50,  51,  53,  54,  55,  57,  61,  62,  63,  64,  65,  66,  67,  68,\n",
      "         69,  70,  73,  74,  75,  76,  77,  78,  79,  80,  81,  84,  85,  86,\n",
      "         87,  88,  89,  90,  91,  92,  93,  95,  98,  99, 100, 102, 104, 105,\n",
      "        106, 107, 108, 110, 111, 114, 117, 118, 120, 122, 124, 125, 126, 127,\n",
      "        130, 131, 135, 137, 138, 139, 140, 141, 142, 143, 144, 145, 147, 149,\n",
      "        151, 152, 153, 154, 155, 157, 158, 159, 160, 161, 162, 163, 164, 165,\n",
      "        167, 169, 170, 171, 172, 173, 174, 177, 178, 180, 181, 182, 183, 186,\n",
      "        187, 188, 189, 191, 192, 193, 194, 195, 196, 197, 198, 199],\n",
      "       device='cuda:0')\n",
      "labels 1 = tensor([  2,   5,   6,   8,   9,  10,  11,  14,  18,  21,  22,  26,  27,  29,\n",
      "         30,  32,  33,  34,  37,  40,  44,  48,  50,  52,  53,  56,  59,  60,\n",
      "         61,  62,  66,  68,  70,  71,  72,  77,  80,  83,  85,  86,  91,  95,\n",
      "         96,  97, 100, 101, 102, 103, 106, 109, 110, 112, 113, 115, 116, 119,\n",
      "        121, 122, 123, 126, 128, 130, 133, 134, 135, 136, 140, 142, 143, 146,\n",
      "        148, 150, 152, 154, 155, 156, 159, 160, 164, 168, 170, 171, 174, 176,\n",
      "        179, 182, 184, 185, 188, 189, 195, 199], device='cuda:0')\n",
      "predicted 1 = tensor([  5,  15,  29,  32,  37,  40,  43,  48,  52,  56,  58,  59,  60,  71,\n",
      "         72,  82,  83,  94,  96,  97, 101, 103, 109, 112, 113, 115, 116, 119,\n",
      "        121, 123, 128, 129, 132, 133, 134, 136, 146, 148, 150, 156, 166, 168,\n",
      "        175, 176, 179, 184, 185, 190], device='cuda:0')\n",
      "result0 = 98\n",
      "fraction of 1c == 1c => 0.9074074029922485\n",
      "result1 = 38\n",
      "fraction of 2c == 2c =Z 0.4130434989929199\n",
      "Events analyzed = 51277: 1c = 28404, 2c = 22873\n",
      "Events correctly identified = 0.6795639370477992\n",
      "1c correctly identified as 1c = 0.8895226716995239\n",
      "2c correctly identified as 2c = 0.4188344180583954\n"
     ]
    }
   ],
   "source": [
    "dataset1c = XDataset(dir_root, first_file, last_file, type=\"1c\", nc = False, norm=False)  \n",
    "data_loader = DataLoader(dataset1c, batch_size=10, shuffle=False) # data already shuffled\n",
    "total, t1c, t2c, acc, c1c, c2c = cnn_xeval(test_loader, modelx, device, prnt=1000) \n",
    "print(f\"Events analyzed = {total}: 1c = {t1c}, 2c = {t2c}\")\n",
    "print(f\"Events correctly identified = {acc}\")\n",
    "print(f\"1c correctly identified as 1c = {c1c}\")\n",
    "print(f\"2c correctly identified as 2c = {c2c}\")\n"
   ]
  },
  {
   "cell_type": "markdown",
   "id": "8339c814-adec-4fad-9e88-1ba1c3580ed9",
   "metadata": {},
   "source": [
    "## Voxelization: vxy= 9 mm vz =12 mm"
   ]
  },
  {
   "cell_type": "code",
   "execution_count": 44,
   "id": "1d65fac6-83ae-4445-94f1-3b77d519d15f",
   "metadata": {},
   "outputs": [],
   "source": [
    "data_dir = Path(os.environ['MONOLITH_DATA'])\n",
    "dir_root = os.path.join(data_dir,\"CsI_6x6_fullwrap_50k_0MHzDC_PTFE_LUT_gamma_vox_xy_12_z_12\")\n",
    "d1c = os.path.join(dir_root,\"df1c\")\n",
    "d2c = os.path.join(dir_root,\"df2c\")"
   ]
  },
  {
   "cell_type": "code",
   "execution_count": 45,
   "id": "9b18a872-3167-40ac-b56c-d7ba7e4ee312",
   "metadata": {},
   "outputs": [
    {
     "data": {
      "text/html": [
       "<div>\n",
       "<style scoped>\n",
       "    .dataframe tbody tr th:only-of-type {\n",
       "        vertical-align: middle;\n",
       "    }\n",
       "\n",
       "    .dataframe tbody tr th {\n",
       "        vertical-align: top;\n",
       "    }\n",
       "\n",
       "    .dataframe thead th {\n",
       "        text-align: right;\n",
       "    }\n",
       "</style>\n",
       "<table border=\"1\" class=\"dataframe\">\n",
       "  <thead>\n",
       "    <tr style=\"text-align: right;\">\n",
       "      <th></th>\n",
       "      <th>event_id</th>\n",
       "      <th>e</th>\n",
       "      <th>x</th>\n",
       "      <th>y</th>\n",
       "      <th>z</th>\n",
       "      <th>t</th>\n",
       "    </tr>\n",
       "  </thead>\n",
       "  <tbody>\n",
       "    <tr>\n",
       "      <th>0</th>\n",
       "      <td>10004</td>\n",
       "      <td>0.510118</td>\n",
       "      <td>18.645067</td>\n",
       "      <td>12.477487</td>\n",
       "      <td>29.249544</td>\n",
       "      <td>0.116340</td>\n",
       "    </tr>\n",
       "    <tr>\n",
       "      <th>1</th>\n",
       "      <td>10006</td>\n",
       "      <td>0.509274</td>\n",
       "      <td>13.566376</td>\n",
       "      <td>1.647984</td>\n",
       "      <td>21.156849</td>\n",
       "      <td>0.090734</td>\n",
       "    </tr>\n",
       "    <tr>\n",
       "      <th>2</th>\n",
       "      <td>10014</td>\n",
       "      <td>0.509922</td>\n",
       "      <td>-5.014233</td>\n",
       "      <td>5.060986</td>\n",
       "      <td>12.715019</td>\n",
       "      <td>0.062352</td>\n",
       "    </tr>\n",
       "    <tr>\n",
       "      <th>3</th>\n",
       "      <td>10018</td>\n",
       "      <td>0.508170</td>\n",
       "      <td>-22.957691</td>\n",
       "      <td>-9.322307</td>\n",
       "      <td>45.483715</td>\n",
       "      <td>0.171746</td>\n",
       "    </tr>\n",
       "    <tr>\n",
       "      <th>4</th>\n",
       "      <td>10024</td>\n",
       "      <td>0.508948</td>\n",
       "      <td>-3.514938</td>\n",
       "      <td>-0.639491</td>\n",
       "      <td>15.746504</td>\n",
       "      <td>0.074194</td>\n",
       "    </tr>\n",
       "    <tr>\n",
       "      <th>5</th>\n",
       "      <td>10026</td>\n",
       "      <td>0.508879</td>\n",
       "      <td>18.973616</td>\n",
       "      <td>-6.031100</td>\n",
       "      <td>16.421364</td>\n",
       "      <td>0.074508</td>\n",
       "    </tr>\n",
       "    <tr>\n",
       "      <th>6</th>\n",
       "      <td>10027</td>\n",
       "      <td>0.508849</td>\n",
       "      <td>11.437413</td>\n",
       "      <td>-22.155209</td>\n",
       "      <td>40.912632</td>\n",
       "      <td>0.157729</td>\n",
       "    </tr>\n",
       "    <tr>\n",
       "      <th>7</th>\n",
       "      <td>10028</td>\n",
       "      <td>0.509717</td>\n",
       "      <td>9.708068</td>\n",
       "      <td>3.101630</td>\n",
       "      <td>13.316263</td>\n",
       "      <td>0.064982</td>\n",
       "    </tr>\n",
       "    <tr>\n",
       "      <th>8</th>\n",
       "      <td>10029</td>\n",
       "      <td>0.509517</td>\n",
       "      <td>0.335767</td>\n",
       "      <td>-11.193620</td>\n",
       "      <td>21.898740</td>\n",
       "      <td>0.093051</td>\n",
       "    </tr>\n",
       "    <tr>\n",
       "      <th>9</th>\n",
       "      <td>10030</td>\n",
       "      <td>0.509092</td>\n",
       "      <td>16.716444</td>\n",
       "      <td>15.401320</td>\n",
       "      <td>25.922293</td>\n",
       "      <td>0.107143</td>\n",
       "    </tr>\n",
       "  </tbody>\n",
       "</table>\n",
       "</div>"
      ],
      "text/plain": [
       "   event_id         e          x          y          z         t\n",
       "0     10004  0.510118  18.645067  12.477487  29.249544  0.116340\n",
       "1     10006  0.509274  13.566376   1.647984  21.156849  0.090734\n",
       "2     10014  0.509922  -5.014233   5.060986  12.715019  0.062352\n",
       "3     10018  0.508170 -22.957691  -9.322307  45.483715  0.171746\n",
       "4     10024  0.508948  -3.514938  -0.639491  15.746504  0.074194\n",
       "5     10026  0.508879  18.973616  -6.031100  16.421364  0.074508\n",
       "6     10027  0.508849  11.437413 -22.155209  40.912632  0.157729\n",
       "7     10028  0.509717   9.708068   3.101630  13.316263  0.064982\n",
       "8     10029  0.509517   0.335767 -11.193620  21.898740  0.093051\n",
       "9     10030  0.509092  16.716444  15.401320  25.922293  0.107143"
      ]
     },
     "execution_count": 45,
     "metadata": {},
     "output_type": "execute_result"
    }
   ],
   "source": [
    "df1c = pd.read_csv(csv_name[0])\n",
    "df1c.head(10)"
   ]
  },
  {
   "cell_type": "code",
   "execution_count": 46,
   "id": "ae6c649f-9681-45c6-9d6c-80e6a366ee50",
   "metadata": {},
   "outputs": [
    {
     "name": "stdout",
     "output_type": "stream",
     "text": [
      "Running XDataset with norm = False\n",
      "directory for 1c = /home/investigator/Data/monolithic_csi/CsI_6x6_fullwrap_50k_0MHzDC_PTFE_LUT_gamma_vox_xy_12_z_12/df1c, 2c = /home/investigator/Data/monolithic_csi/CsI_6x6_fullwrap_50k_0MHzDC_PTFE_LUT_gamma_vox_xy_12_z_12/df2c\n",
      " Image type = 0\n",
      " Image type = 1\n",
      "Before shufle: length si: 512770, si->[0, 1, 2, 3, 4, 5, 6, 7, 8, 9]\n",
      "After shufle: length si: 512770, si->[115481, 208736, 461043, 162373, 418200, 479114, 338695, 506523, 461126, 152977]\n",
      "Loaded 512770 events\n",
      " train size = 358939\n",
      " val size = 102554\n",
      " test size = 51277\n",
      " train indices = range(0, 358939)\n",
      " val indices = range(358939, 461493)\n",
      " test indices = range(461493, 512770)\n",
      "358939 training events (70.0%)\n",
      "102554 validation events (20.0%)\n",
      "51277 test events (10.0%)\n"
     ]
    },
    {
     "data": {
      "image/png": "[encoded data removed]",
      "text/plain": [
       "<Figure size 1000x800 with 9 Axes>"
      ]
     },
     "metadata": {},
     "output_type": "display_data"
    }
   ],
   "source": [
    "first_file = 0  # initial file indx\n",
    "last_file  = 100  # lasta file indx\n",
    "batch_size = 200  # Batch size\n",
    "train_fraction=0.7 \n",
    "val_fraction=0.2\n",
    "dataset = XDataset(dir_root, first_file, last_file,nc = False, norm=False)  \n",
    "data_loader, train_loader, val_loader, test_loader = mono_data_loader(dataset, \n",
    "                                                                      batch_size=batch_size, \n",
    "                                                                      train_fraction=train_fraction, \n",
    "                                                                      val_fraction=val_fraction)\n",
    "plot_images_and_labels(train_loader, start=100, figsize=(10, 8))"
   ]
  },
  {
   "cell_type": "code",
   "execution_count": 47,
   "id": "bed14f9b-3af4-4727-a676-5fde5815f15d",
   "metadata": {},
   "outputs": [
    {
     "name": "stdout",
     "output_type": "stream",
     "text": [
      " ## make_layer 1: planes = 64,  blocks = 1, stride = 1\n",
      " ## make_layer: in_planes=64\n",
      " ## make_layer: downsample = None\n",
      " ## make_layer 2: planes = 128,  blocks = 1, stride = 2\n",
      " ## make_layer: in_planes=64\n",
      " ## make_layer: downsample = Sequential(\n",
      "  (0): Conv2d(64, 128, kernel_size=(1, 1), stride=(2, 2))\n",
      "  (1): BatchNorm2d(128, eps=1e-05, momentum=0.1, affine=True, track_running_stats=True)\n",
      ")\n",
      " ## make_layer 3: planes = 256,  blocks = 1, stride = 2\n",
      " ## make_layer: in_planes=128\n",
      " ## make_layer: downsample = Sequential(\n",
      "  (0): Conv2d(128, 256, kernel_size=(1, 1), stride=(2, 2))\n",
      "  (1): BatchNorm2d(256, eps=1e-05, momentum=0.1, affine=True, track_running_stats=True)\n",
      ")\n",
      " ## make_layer 4: planes = 512,  blocks = 1, stride = 2\n",
      " ## make_layer: in_planes=256\n",
      " ## make_layer: downsample = Sequential(\n",
      "  (0): Conv2d(256, 512, kernel_size=(1, 1), stride=(2, 2))\n",
      "  (1): BatchNorm2d(512, eps=1e-05, momentum=0.1, affine=True, track_running_stats=True)\n",
      ")\n"
     ]
    }
   ],
   "source": [
    "modelx = xResNet8(ResBlock, in_channels=1, out_channels=64, num_classes = 2, \n",
    "                 dropout_fraction=0.25, debug=True, dropout=True).to(device)\n",
    "optimizer= optim.Adam(modelx.parameters(), lr=0.001)\n",
    "criterion = nn.CrossEntropyLoss()\n"
   ]
  },
  {
   "cell_type": "code",
   "execution_count": 48,
   "id": "e58ee6b3-27c8-4518-9adb-42beed1cc2f7",
   "metadata": {},
   "outputs": [
    {
     "name": "stdout",
     "output_type": "stream",
     "text": [
      "Training with  ->359000 images\n",
      "size of train loader  ->1795 images\n",
      "Evaluating with  ->102600 images\n",
      "size of eval loader  ->513 images\n",
      "Classification  ->True\n",
      "Running for epochs ->10\n",
      "\n",
      "EPOCH 0\n",
      "training step: size of sample 1795\n",
      "  ResNet8: input data shape =>torch.Size([200, 1, 8, 8])\n",
      "  ResNet8: after conv1 =>torch.Size([200, 64, 8, 8])\n",
      "  ResNet8: after layer0 =>torch.Size([200, 64, 8, 8])\n",
      "  ResNet8: after layer1 =>torch.Size([200, 128, 4, 4])\n",
      "  ResNet8: after layer2 =>torch.Size([200, 256, 2, 2])\n",
      "  ResNet8: after layer3 =>torch.Size([200, 512, 1, 1])\n",
      "  ResNet8: after avgpool =>torch.Size([200, 512, 1, 1])\n",
      "  ResNet8: after flatten =>torch.Size([200, 512])\n",
      "  ResNet8: after fc =>torch.Size([200, 2])\n",
      "Validation step: size of sample 513\n",
      "--- EPOCH 0 AVG TRAIN LOSS: 0.6267316575501954\n",
      "--- EPOCH 0 AVG VAL LOSS: 0.6044315909549275\n",
      "Accuracy on the 513 validation images: 66.94131871989391 %\n",
      "\n",
      "EPOCH 1\n",
      "training step: size of sample 1795\n",
      "Validation step: size of sample 513\n",
      "--- EPOCH 1 AVG TRAIN LOSS: 0.5900123013261301\n",
      "--- EPOCH 1 AVG VAL LOSS: 0.6057574848333994\n",
      "Accuracy on the 513 validation images: 68.01197417945667 %\n",
      "\n",
      "EPOCH 2\n",
      "training step: size of sample 1795\n",
      "Validation step: size of sample 513\n",
      "--- EPOCH 2 AVG TRAIN LOSS: 0.5796211679001705\n",
      "--- EPOCH 2 AVG VAL LOSS: 0.577812670499493\n",
      "Accuracy on the 513 validation images: 69.32445345866567 %\n",
      "\n",
      "EPOCH 3\n",
      "training step: size of sample 1795\n",
      "Validation step: size of sample 513\n",
      "--- EPOCH 3 AVG TRAIN LOSS: 0.5718904166998637\n",
      "--- EPOCH 3 AVG VAL LOSS: 0.5648913300409187\n",
      "Accuracy on the 513 validation images: 70.0148214599138 %\n",
      "\n",
      "EPOCH 4\n",
      "training step: size of sample 1795\n",
      "Validation step: size of sample 513\n",
      "--- EPOCH 4 AVG TRAIN LOSS: 0.5659311032228815\n",
      "--- EPOCH 4 AVG VAL LOSS: 0.5678687388436836\n",
      "Accuracy on the 513 validation images: 70.04309924527566 %\n",
      "\n",
      "EPOCH 5\n",
      "training step: size of sample 1795\n",
      "Validation step: size of sample 513\n",
      "--- EPOCH 5 AVG TRAIN LOSS: 0.560546746476447\n",
      "--- EPOCH 5 AVG VAL LOSS: 0.5570551595608858\n",
      "Accuracy on the 513 validation images: 70.61645572088851 %\n",
      "\n",
      "EPOCH 6\n",
      "training step: size of sample 1795\n",
      "Validation step: size of sample 513\n",
      "--- EPOCH 6 AVG TRAIN LOSS: 0.5558117838457102\n",
      "--- EPOCH 6 AVG VAL LOSS: 0.595237531334336\n",
      "Accuracy on the 513 validation images: 68.29182674493438 %\n",
      "\n",
      "EPOCH 7\n",
      "training step: size of sample 1795\n",
      "Validation step: size of sample 513\n",
      "--- EPOCH 7 AVG TRAIN LOSS: 0.5518122331677705\n",
      "--- EPOCH 7 AVG VAL LOSS: 0.5727448897403583\n",
      "Accuracy on the 513 validation images: 69.8266279228504 %\n",
      "\n",
      "EPOCH 8\n",
      "training step: size of sample 1795\n",
      "Validation step: size of sample 513\n",
      "--- EPOCH 8 AVG TRAIN LOSS: 0.547425462093858\n",
      "--- EPOCH 8 AVG VAL LOSS: 0.5544890953086273\n",
      "Accuracy on the 513 validation images: 70.83000175517289 %\n",
      "\n",
      "EPOCH 9\n",
      "training step: size of sample 1795\n",
      "Validation step: size of sample 513\n",
      "--- EPOCH 9 AVG TRAIN LOSS: 0.5444944332071001\n",
      "--- EPOCH 9 AVG VAL LOSS: 0.5576648632569156\n",
      "Accuracy on the 513 validation images: 70.78027185677789 %\n"
     ]
    }
   ],
   "source": [
    "train_losses, val_losses, acc = x_train_cnn(train_loader, val_loader, modelx, optimizer, device, criterion, \n",
    "                                            batch_size=200, xc=True,\n",
    "                                            iprnt=100, epochs=10)"
   ]
  },
  {
   "cell_type": "code",
   "execution_count": 49,
   "id": "3637fda0-8c86-448e-a319-0588e571cc45",
   "metadata": {},
   "outputs": [
    {
     "data": {
      "image/png": "[encoded data removed]",
      "text/plain": [
       "<Figure size 600x400 with 1 Axes>"
      ]
     },
     "metadata": {},
     "output_type": "display_data"
    }
   ],
   "source": [
    "plot_loss(10, train_losses, val_losses,figsize=(6, 4))"
   ]
  },
  {
   "cell_type": "code",
   "execution_count": 50,
   "id": "67df1607-23a3-42ce-99e4-2f0bef2507ba",
   "metadata": {},
   "outputs": [
    {
     "data": {
      "image/png": "[encoded data removed]",
      "text/plain": [
       "<Figure size 1000x400 with 1 Axes>"
      ]
     },
     "metadata": {},
     "output_type": "display_data"
    }
   ],
   "source": [
    "plot_accuracy(acc,figsize=(10, 4))"
   ]
  },
  {
   "cell_type": "code",
   "execution_count": 51,
   "id": "9f009271-84c8-45fa-929a-626e0e819b99",
   "metadata": {},
   "outputs": [
    {
     "name": "stdout",
     "output_type": "stream",
     "text": [
      "Running XDataset with norm = False\n",
      "directory for 1c = /home/investigator/Data/monolithic_csi/CsI_6x6_fullwrap_50k_0MHzDC_PTFE_LUT_gamma_vox_xy_12_z_12/df1c, 2c = /home/investigator/Data/monolithic_csi/CsI_6x6_fullwrap_50k_0MHzDC_PTFE_LUT_gamma_vox_xy_12_z_12/df2c\n",
      " Image type = 0\n",
      "Before shufle: length si: 305080, si->[0, 1, 2, 3, 4, 5, 6, 7, 8, 9]\n",
      "After shufle: length si: 305080, si->[187431, 187255, 204628, 170887, 44287, 157519, 141100, 226100, 210928, 180817]\n",
      "Validation step: size of sample 257\n",
      "i = 0\n",
      "labels = tensor([0, 0, 1, 0, 0, 1, 1, 0, 1, 0, 1, 1, 0, 0, 1, 0, 0, 0, 1, 0, 0, 1, 1, 0,\n",
      "        0, 0, 1, 1, 0, 1, 1, 0, 1, 1, 0, 0, 0, 1, 0, 0, 1, 0, 0, 0, 1, 0, 0, 0,\n",
      "        1, 0, 1, 0, 1, 1, 0, 0, 1, 0, 0, 1, 1, 1, 1, 0, 0, 0, 1, 0, 1, 0, 0, 1,\n",
      "        1, 0, 0, 0, 0, 1, 0, 0, 0, 0, 0, 1, 0, 1, 1, 0, 0, 0, 0, 1, 0, 0, 0, 1,\n",
      "        1, 1, 0, 0, 1, 1, 0, 1, 0, 0, 1, 0, 0, 1, 0, 0, 1, 1, 0, 1, 1, 0, 0, 1,\n",
      "        0, 1, 1, 1, 0, 0, 1, 0, 1, 0, 1, 0, 0, 0, 1, 1, 1, 0, 0, 0, 1, 0, 0, 1,\n",
      "        0, 0, 1, 0, 1, 0, 1, 0, 1, 0, 0, 1, 1, 0, 0, 1, 1, 0, 0, 0, 0, 0, 0, 0,\n",
      "        1, 0, 1, 1, 0, 0, 1, 0, 0, 0, 0, 1, 0, 0, 1, 0, 1, 1, 0, 0, 1, 1, 0, 0,\n",
      "        0, 0, 0, 1, 0, 0, 0, 1], device='cuda:0')\n",
      "predicted = tensor([0, 0, 1, 0, 1, 0, 1, 0, 0, 1, 0, 0, 0, 0, 0, 0, 0, 0, 1, 0, 0, 0, 0, 0,\n",
      "        0, 0, 1, 0, 0, 0, 1, 0, 1, 1, 0, 0, 0, 0, 0, 0, 1, 0, 0, 0, 1, 0, 0, 0,\n",
      "        0, 0, 1, 0, 0, 0, 0, 0, 0, 0, 0, 0, 1, 0, 1, 0, 1, 0, 0, 0, 0, 1, 0, 1,\n",
      "        0, 1, 0, 0, 0, 1, 0, 0, 0, 0, 0, 0, 0, 1, 1, 0, 0, 0, 0, 0, 1, 0, 0, 1,\n",
      "        0, 0, 0, 0, 1, 1, 0, 1, 1, 0, 0, 0, 0, 0, 0, 0, 0, 0, 1, 0, 0, 0, 0, 0,\n",
      "        0, 0, 0, 0, 0, 0, 0, 0, 1, 0, 0, 0, 0, 0, 0, 0, 1, 0, 0, 0, 0, 0, 0, 0,\n",
      "        0, 0, 0, 0, 0, 0, 1, 0, 1, 0, 0, 0, 1, 0, 0, 0, 0, 0, 0, 0, 0, 0, 0, 0,\n",
      "        0, 0, 0, 0, 0, 0, 1, 0, 0, 0, 0, 1, 0, 0, 0, 0, 1, 0, 0, 0, 1, 0, 0, 0,\n",
      "        0, 0, 0, 0, 0, 0, 0, 0], device='cuda:0')\n",
      "correct = 140\n",
      "labels 0 = tensor([  0,   1,   3,   4,   7,   9,  12,  13,  15,  16,  17,  19,  20,  23,\n",
      "         24,  25,  28,  31,  34,  35,  36,  38,  39,  41,  42,  43,  45,  46,\n",
      "         47,  49,  51,  54,  55,  57,  58,  63,  64,  65,  67,  69,  70,  73,\n",
      "         74,  75,  76,  78,  79,  80,  81,  82,  84,  87,  88,  89,  90,  92,\n",
      "         93,  94,  98,  99, 102, 104, 105, 107, 108, 110, 111, 114, 117, 118,\n",
      "        120, 124, 125, 127, 129, 131, 132, 133, 137, 138, 139, 141, 142, 144,\n",
      "        145, 147, 149, 151, 153, 154, 157, 158, 161, 162, 163, 164, 165, 166,\n",
      "        167, 169, 172, 173, 175, 176, 177, 178, 180, 181, 183, 186, 187, 190,\n",
      "        191, 192, 193, 194, 196, 197, 198], device='cuda:0')\n",
      "predicted 0 = tensor([  0,   1,   3,   5,   7,   8,  10,  11,  12,  13,  14,  15,  16,  17,\n",
      "         19,  20,  21,  22,  23,  24,  25,  27,  28,  29,  31,  34,  35,  36,\n",
      "         37,  38,  39,  41,  42,  43,  45,  46,  47,  48,  49,  51,  52,  53,\n",
      "         54,  55,  56,  57,  58,  59,  61,  63,  65,  66,  67,  68,  70,  72,\n",
      "         74,  75,  76,  78,  79,  80,  81,  82,  83,  84,  87,  88,  89,  90,\n",
      "         91,  93,  94,  96,  97,  98,  99, 102, 105, 106, 107, 108, 109, 110,\n",
      "        111, 112, 113, 115, 116, 117, 118, 119, 120, 121, 122, 123, 124, 125,\n",
      "        126, 127, 129, 130, 131, 132, 133, 134, 135, 137, 138, 139, 140, 141,\n",
      "        142, 143, 144, 145, 146, 147, 148, 149, 151, 153, 154, 155, 157, 158,\n",
      "        159, 160, 161, 162, 163, 164, 165, 166, 167, 168, 169, 170, 171, 172,\n",
      "        173, 175, 176, 177, 178, 180, 181, 182, 183, 185, 186, 187, 189, 190,\n",
      "        191, 192, 193, 194, 195, 196, 197, 198, 199], device='cuda:0')\n",
      "labels 1 = tensor([  2,   5,   6,   8,  10,  11,  14,  18,  21,  22,  26,  27,  29,  30,\n",
      "         32,  33,  37,  40,  44,  48,  50,  52,  53,  56,  59,  60,  61,  62,\n",
      "         66,  68,  71,  72,  77,  83,  85,  86,  91,  95,  96,  97, 100, 101,\n",
      "        103, 106, 109, 112, 113, 115, 116, 119, 121, 122, 123, 126, 128, 130,\n",
      "        134, 135, 136, 140, 143, 146, 148, 150, 152, 155, 156, 159, 160, 168,\n",
      "        170, 171, 174, 179, 182, 184, 185, 188, 189, 195, 199],\n",
      "       device='cuda:0')\n",
      "predicted 1 = tensor([  2,   4,   6,   9,  18,  26,  30,  32,  33,  40,  44,  50,  60,  62,\n",
      "         64,  69,  71,  73,  77,  85,  86,  92,  95, 100, 101, 103, 104, 114,\n",
      "        128, 136, 150, 152, 156, 174, 179, 184, 188], device='cuda:0')\n",
      "result0 = 111\n",
      "fraction of 1c == 1c => 0.9327731728553772\n",
      "result1 = 29\n",
      "fraction of 2c == 2c =Z 0.3580246865749359\n",
      "Events analyzed = 51277: 1c = 30635, 2c = 20642\n",
      "Events correctly identified = 0.709460381847612\n",
      "1c correctly identified as 1c = 0.9292312264442444\n",
      "2c correctly identified as 2c = 0.3832961916923523\n"
     ]
    }
   ],
   "source": [
    "dataset1c = XDataset(dir_root, first_file, last_file, type=\"1c\", nc = False, norm=False)  \n",
    "data_loader = DataLoader(dataset1c, batch_size=10, shuffle=False) # data already shuffled\n",
    "total, t1c, t2c, acc, c1c, c2c = cnn_xeval(test_loader, modelx, device, prnt=1000) \n",
    "print(f\"Events analyzed = {total}: 1c = {t1c}, 2c = {t2c}\")\n",
    "print(f\"Events correctly identified = {acc}\")\n",
    "print(f\"1c correctly identified as 1c = {c1c}\")\n",
    "print(f\"2c correctly identified as 2c = {c2c}\")\n",
    "\n"
   ]
  },
  {
   "cell_type": "code",
   "execution_count": null,
   "id": "5f1946b2-e5b8-4241-b234-a9b07cbbe3a4",
   "metadata": {},
   "outputs": [],
   "source": []
  }
 ],
 "metadata": {
  "kernelspec": {
   "display_name": "Python 3 (ipykernel)",
   "language": "python",
   "name": "python3"
  },
  "language_info": {
   "codemirror_mode": {
    "name": "ipython",
    "version": 3
   },
   "file_extension": ".py",
   "mimetype": "text/x-python",
   "name": "python",
   "nbconvert_exporter": "python",
   "pygments_lexer": "ipython3",
   "version": "3.11.5"
  }
 },
 "nbformat": 4,
 "nbformat_minor": 5
}
