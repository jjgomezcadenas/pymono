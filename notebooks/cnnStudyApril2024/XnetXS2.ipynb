{
 "cells": [
  {
   "cell_type": "code",
   "execution_count": 1,
   "id": "7806fc9e-9500-4e3a-be6c-7c8ca9ab2ab0",
   "metadata": {},
   "outputs": [],
   "source": [
    "%matplotlib inline\n",
    "%load_ext autoreload\n",
    "%autoreload 2\n",
    "import matplotlib.pyplot as plt\n",
    "from matplotlib.pyplot import imshow\n",
    "plt.rcParams[\"figure.figsize\"] = 10, 8\n",
    "plt.rcParams[\"font.size\"     ] = 14\n"
   ]
  },
  {
   "cell_type": "code",
   "execution_count": 2,
   "id": "3f5aa63f-7b85-4e92-9709-1214fb9cf4be",
   "metadata": {},
   "outputs": [],
   "source": [
    "import numpy as np\n",
    "import pandas as pd\n",
    "from collections import namedtuple\n",
    "import os\n",
    "import glob\n",
    "from pathlib import Path"
   ]
  },
  {
   "cell_type": "code",
   "execution_count": 3,
   "id": "626b6067-ea97-49f7-aa14-d7843154e5af",
   "metadata": {},
   "outputs": [],
   "source": [
    "import torch\n",
    "import torch.nn as nn\n",
    "import torch.optim as optim\n",
    "import torch.nn.functional as F\n",
    "from torch.utils.data import Dataset\n",
    "from torch.utils.data import DataLoader\n",
    "from torchvision import transforms\n",
    "from torchvision import datasets\n",
    "from torch.utils.data.sampler import SubsetRandomSampler\n",
    "from torchsummary import summary\n",
    "from torchvision.transforms import v2"
   ]
  },
  {
   "cell_type": "code",
   "execution_count": 4,
   "id": "47b285eb-472e-40e7-8a97-8a1f8805d354",
   "metadata": {},
   "outputs": [],
   "source": [
    "from pymono.cnns import x_cnn_evaluation, x_single_run, x_train_cnn\n",
    "from pymono.cnns import Conv2dPars,  MaxPool2dPars,  LinealLayerPars\n",
    "from pymono.cnns import build_conv_layer, build_conv_layers, build_linear_layers\n",
    "from pymono.cnns import xCNN, xResNet10, xResNet8, ResBlock"
   ]
  },
  {
   "cell_type": "code",
   "execution_count": 5,
   "id": "dd5b2547-fba6-497a-a9de-2864bea9183e",
   "metadata": {},
   "outputs": [],
   "source": [
    "from pymono.plt_funcs import  plot_loss, plot_accuracy, cifar_plot_image_and_label \n",
    "from pymono.plt_funcs import  plot_energies2, histoplot, plotxyz, plot_dataset\n",
    "from pymono.cnn_plots import plot_images2, plot_images2c\n",
    "from pymono.cnn_plots import plot2c_z, plot_images_and_labels, plot_images_and_positions"
   ]
  },
  {
   "cell_type": "code",
   "execution_count": 6,
   "id": "7ceb43f7-77da-4356-93f8-435b279ed050",
   "metadata": {},
   "outputs": [],
   "source": [
    "from pymono.cnn_aux import get_file_names_format1, get_image_file_data, get_img_file_metadata\n",
    "from pymono.cnn_aux import get_energy2, get_means_stds2"
   ]
  },
  {
   "cell_type": "code",
   "execution_count": 7,
   "id": "8de426c5-7a67-49da-9169-a128cbd72e2d",
   "metadata": {},
   "outputs": [],
   "source": [
    "from pymono.xdataset import XDataset, RDataset, R2Dataset\n",
    "from pymono.mono_dl import mono_data_loader\n",
    "from pymono.cnn_eval import evaluate_cnn, evaluate_2c_cnn, cnn_xeval, single_run, train_cnn"
   ]
  },
  {
   "cell_type": "code",
   "execution_count": 8,
   "id": "d9ccd564-591a-49cc-9c8b-8c543e02fd57",
   "metadata": {},
   "outputs": [],
   "source": [
    "from pymono.cnn_func import CNN_basic\n",
    "from pymono.cnn_func import  CNN"
   ]
  },
  {
   "cell_type": "code",
   "execution_count": 9,
   "id": "38a2443a-90a2-466c-a653-4d978131a8cd",
   "metadata": {},
   "outputs": [],
   "source": [
    "from pymono.cnn_eval import cnn_evaluation "
   ]
  },
  {
   "cell_type": "code",
   "execution_count": 10,
   "id": "84a06140-84ce-47a2-9160-4c5ed923f4c8",
   "metadata": {},
   "outputs": [],
   "source": [
    "from pymono.cnn_fit import fit_coord, fit_tdeltas, plotfxyz"
   ]
  },
  {
   "cell_type": "code",
   "execution_count": 11,
   "id": "6a16c42c-d204-44e2-b613-d9403a34f513",
   "metadata": {},
   "outputs": [
    {
     "name": "stdout",
     "output_type": "stream",
     "text": [
      "Using cuda device\n"
     ]
    }
   ],
   "source": [
    "device = (\n",
    "    \"cuda\"\n",
    "    if torch.cuda.is_available()\n",
    "    else \"mps\"\n",
    "    if torch.backends.mps.is_available()\n",
    "    else \"cpu\"\n",
    ")\n",
    "print(f\"Using {device} device\")"
   ]
  },
  {
   "cell_type": "markdown",
   "id": "c4b6c143-86f4-421e-ba5c-5f44d45546c2",
   "metadata": {},
   "source": [
    "## Voxelization at 6-12 mm\n",
    "- df1c is the directory containing images and labels for events classified as single cluster (1c)\n",
    "- df2c is the directory containing images and labels for events classified as double cluster (2c)\n",
    "- Files are in format1:\n",
    "    - images files are of the form: images_n.npy, where n is a number.\n",
    " \n",
    "- Data corresponds to CsI"
   ]
  },
  {
   "cell_type": "code",
   "execution_count": 14,
   "id": "29679de1-783c-42a8-a26b-920cf42d85da",
   "metadata": {},
   "outputs": [],
   "source": [
    "data_dir = Path(os.environ['MONOLITH_DATA'])\n",
    "dir_root = os.path.join(data_dir,\"CsI_6x6_fullwrap_50k_0MHzDC_PTFE_LUT_gamma_vox_xy_6_z_12\")\n",
    "d1c = os.path.join(dir_root,\"df1c\")\n",
    "d2c = os.path.join(dir_root,\"df2c\")"
   ]
  },
  {
   "cell_type": "code",
   "execution_count": 15,
   "id": "2cd65924-4768-4893-b8ca-ee86a4b06b4e",
   "metadata": {},
   "outputs": [
    {
     "data": {
      "text/plain": [
       "'/home/investigator/Data/monolithic_csi/CsI_6x6_fullwrap_50k_0MHzDC_PTFE_LUT_gamma_vox_xy_6_z_12/df1c'"
      ]
     },
     "execution_count": 15,
     "metadata": {},
     "output_type": "execute_result"
    }
   ],
   "source": [
    "d1c"
   ]
  },
  {
   "cell_type": "code",
   "execution_count": 16,
   "id": "753829fc-0168-487d-9ef4-e1bf4fcaacb6",
   "metadata": {},
   "outputs": [],
   "source": [
    "img_names, csv_name = get_file_names_format1(d1c)"
   ]
  },
  {
   "cell_type": "code",
   "execution_count": 17,
   "id": "7704f82a-ea74-4980-b86a-befc4ea393f8",
   "metadata": {},
   "outputs": [
    {
     "data": {
      "text/plain": [
       "'/home/investigator/Data/monolithic_csi/CsI_6x6_fullwrap_50k_0MHzDC_PTFE_LUT_gamma_vox_xy_6_z_12/df1c/images_1.npy'"
      ]
     },
     "execution_count": 17,
     "metadata": {},
     "output_type": "execute_result"
    }
   ],
   "source": [
    "img_names[0]"
   ]
  },
  {
   "cell_type": "code",
   "execution_count": 18,
   "id": "49d4042c-d18b-47f9-816c-3ce9980a3b98",
   "metadata": {},
   "outputs": [
    {
     "data": {
      "text/plain": [
       "['/home/investigator/Data/monolithic_csi/CsI_6x6_fullwrap_50k_0MHzDC_PTFE_LUT_gamma_vox_xy_6_z_12/df1c/df1c_xy_6_z_12.csv']"
      ]
     },
     "execution_count": 18,
     "metadata": {},
     "output_type": "execute_result"
    }
   ],
   "source": [
    "csv_name"
   ]
  },
  {
   "cell_type": "markdown",
   "id": "d4ae5b0f-b36c-40f1-a626-239c12d75d0e",
   "metadata": {},
   "source": [
    "### Label data\n",
    "- When sorted by value, label data corresponds to the image stored in the directory.\n",
    "- event_id = 10000 x image_number, so that event 1004 corresponds to the fourth image in file images_1.npy"
   ]
  },
  {
   "cell_type": "code",
   "execution_count": 19,
   "id": "5b797861-f316-491d-9456-59079d13b6c7",
   "metadata": {},
   "outputs": [
    {
     "data": {
      "text/html": [
       "<div>\n",
       "<style scoped>\n",
       "    .dataframe tbody tr th:only-of-type {\n",
       "        vertical-align: middle;\n",
       "    }\n",
       "\n",
       "    .dataframe tbody tr th {\n",
       "        vertical-align: top;\n",
       "    }\n",
       "\n",
       "    .dataframe thead th {\n",
       "        text-align: right;\n",
       "    }\n",
       "</style>\n",
       "<table border=\"1\" class=\"dataframe\">\n",
       "  <thead>\n",
       "    <tr style=\"text-align: right;\">\n",
       "      <th></th>\n",
       "      <th>event_id</th>\n",
       "      <th>e</th>\n",
       "      <th>x</th>\n",
       "      <th>y</th>\n",
       "      <th>z</th>\n",
       "      <th>t</th>\n",
       "    </tr>\n",
       "  </thead>\n",
       "  <tbody>\n",
       "    <tr>\n",
       "      <th>0</th>\n",
       "      <td>10004</td>\n",
       "      <td>0.510118</td>\n",
       "      <td>18.645067</td>\n",
       "      <td>12.477487</td>\n",
       "      <td>29.249544</td>\n",
       "      <td>0.116340</td>\n",
       "    </tr>\n",
       "    <tr>\n",
       "      <th>1</th>\n",
       "      <td>10006</td>\n",
       "      <td>0.509274</td>\n",
       "      <td>13.566376</td>\n",
       "      <td>1.647984</td>\n",
       "      <td>21.156849</td>\n",
       "      <td>0.090734</td>\n",
       "    </tr>\n",
       "    <tr>\n",
       "      <th>2</th>\n",
       "      <td>10014</td>\n",
       "      <td>0.509922</td>\n",
       "      <td>-5.014233</td>\n",
       "      <td>5.060986</td>\n",
       "      <td>12.715019</td>\n",
       "      <td>0.062352</td>\n",
       "    </tr>\n",
       "    <tr>\n",
       "      <th>3</th>\n",
       "      <td>10018</td>\n",
       "      <td>0.508170</td>\n",
       "      <td>-22.957691</td>\n",
       "      <td>-9.322307</td>\n",
       "      <td>45.483715</td>\n",
       "      <td>0.171746</td>\n",
       "    </tr>\n",
       "    <tr>\n",
       "      <th>4</th>\n",
       "      <td>10024</td>\n",
       "      <td>0.508948</td>\n",
       "      <td>-3.514938</td>\n",
       "      <td>-0.639491</td>\n",
       "      <td>15.746504</td>\n",
       "      <td>0.074194</td>\n",
       "    </tr>\n",
       "    <tr>\n",
       "      <th>5</th>\n",
       "      <td>10026</td>\n",
       "      <td>0.508879</td>\n",
       "      <td>18.973616</td>\n",
       "      <td>-6.031100</td>\n",
       "      <td>16.421364</td>\n",
       "      <td>0.074508</td>\n",
       "    </tr>\n",
       "    <tr>\n",
       "      <th>6</th>\n",
       "      <td>10027</td>\n",
       "      <td>0.508849</td>\n",
       "      <td>11.437413</td>\n",
       "      <td>-22.155209</td>\n",
       "      <td>40.912632</td>\n",
       "      <td>0.157729</td>\n",
       "    </tr>\n",
       "    <tr>\n",
       "      <th>7</th>\n",
       "      <td>10028</td>\n",
       "      <td>0.509717</td>\n",
       "      <td>9.708068</td>\n",
       "      <td>3.101630</td>\n",
       "      <td>13.316263</td>\n",
       "      <td>0.064982</td>\n",
       "    </tr>\n",
       "    <tr>\n",
       "      <th>8</th>\n",
       "      <td>10029</td>\n",
       "      <td>0.509517</td>\n",
       "      <td>0.335767</td>\n",
       "      <td>-11.193620</td>\n",
       "      <td>21.898740</td>\n",
       "      <td>0.093051</td>\n",
       "    </tr>\n",
       "    <tr>\n",
       "      <th>9</th>\n",
       "      <td>10030</td>\n",
       "      <td>0.509092</td>\n",
       "      <td>16.716444</td>\n",
       "      <td>15.401320</td>\n",
       "      <td>25.922293</td>\n",
       "      <td>0.107143</td>\n",
       "    </tr>\n",
       "  </tbody>\n",
       "</table>\n",
       "</div>"
      ],
      "text/plain": [
       "   event_id         e          x          y          z         t\n",
       "0     10004  0.510118  18.645067  12.477487  29.249544  0.116340\n",
       "1     10006  0.509274  13.566376   1.647984  21.156849  0.090734\n",
       "2     10014  0.509922  -5.014233   5.060986  12.715019  0.062352\n",
       "3     10018  0.508170 -22.957691  -9.322307  45.483715  0.171746\n",
       "4     10024  0.508948  -3.514938  -0.639491  15.746504  0.074194\n",
       "5     10026  0.508879  18.973616  -6.031100  16.421364  0.074508\n",
       "6     10027  0.508849  11.437413 -22.155209  40.912632  0.157729\n",
       "7     10028  0.509717   9.708068   3.101630  13.316263  0.064982\n",
       "8     10029  0.509517   0.335767 -11.193620  21.898740  0.093051\n",
       "9     10030  0.509092  16.716444  15.401320  25.922293  0.107143"
      ]
     },
     "execution_count": 19,
     "metadata": {},
     "output_type": "execute_result"
    }
   ],
   "source": [
    "df1c = pd.read_csv(csv_name[0])\n",
    "df1c.head(10)"
   ]
  },
  {
   "cell_type": "markdown",
   "id": "22b97d43-f991-4abe-ba05-4472490ff346",
   "metadata": {},
   "source": [
    "#### Example\n",
    "- Images and labels in first file of directory"
   ]
  },
  {
   "cell_type": "code",
   "execution_count": 20,
   "id": "8012223b-3ff1-444d-906d-4938e2ee67ce",
   "metadata": {},
   "outputs": [
    {
     "name": "stdout",
     "output_type": "stream",
     "text": [
      "image file path = /home/investigator/Data/monolithic_csi/CsI_6x6_fullwrap_50k_0MHzDC_PTFE_LUT_gamma_vox_xy_6_z_12/df1c/images_1.npy\n",
      "image file name = images_1.npy\n",
      "image file number = 1\n",
      "number of images in file = 2605\n",
      "number of labels in file = 2605\n"
     ]
    }
   ],
   "source": [
    "imgs, imgf_path, imgf_name, imfn = get_image_file_data(img_names,img_file_index=0)\n",
    "print(f\"image file path = {imgf_path}\")\n",
    "print(f\"image file name = {imgf_name}\")\n",
    "print(f\"image file number = {imfn}\")\n",
    "print(f\"number of images in file = {len(imgs)}\")\n",
    "\n",
    "df1cs = get_img_file_metadata(df1c, imfn)  # This are the events corresponding to the images\n",
    "print(f\"number of labels in file = {len(df1cs)}\")\n"
   ]
  },
  {
   "cell_type": "code",
   "execution_count": 21,
   "id": "ccbe9f0a-6e58-416a-aeb2-298af4874cff",
   "metadata": {},
   "outputs": [
    {
     "data": {
      "image/png": "[encoded data removed]",
      "text/plain": [
       "<Figure size 1400x400 with 8 Axes>"
      ]
     },
     "metadata": {},
     "output_type": "display_data"
    }
   ],
   "source": [
    "plot_images2(imgs, df1cs, (0,8), pixel_size = 6, grid_size=8)"
   ]
  },
  {
   "cell_type": "code",
   "execution_count": 22,
   "id": "0c7b7a92-2ca1-44c6-b829-06f29802fe55",
   "metadata": {},
   "outputs": [],
   "source": [
    "energy = get_energy2(imgs)"
   ]
  },
  {
   "cell_type": "code",
   "execution_count": 23,
   "id": "8a6238e9-493f-4fc5-9ee4-26b07dc6895c",
   "metadata": {},
   "outputs": [
    {
     "data": {
      "image/png": "[encoded data removed]",
      "text/plain": [
       "<Figure size 500x400 with 1 Axes>"
      ]
     },
     "metadata": {},
     "output_type": "display_data"
    }
   ],
   "source": [
    "plot_energies2({\"CsI_6x6_fullwrap_50k_1cluster\":energy}, xmin=0, xmax=max(energy),num_bins = 50)"
   ]
  },
  {
   "cell_type": "markdown",
   "id": "e61f539c-0fa7-48c3-96f3-b33e73886f55",
   "metadata": {},
   "source": [
    "## Classification"
   ]
  },
  {
   "cell_type": "code",
   "execution_count": 24,
   "id": "a7b7fec5-c3a4-47ef-a8c4-c5762b954379",
   "metadata": {},
   "outputs": [],
   "source": [
    "first_file = 0  # initial file indx\n",
    "last_file  = 100  # lasta file indx\n",
    "batch_size = 200  # Batch size\n",
    "train_fraction=0.7 \n",
    "val_fraction=0.2"
   ]
  },
  {
   "cell_type": "code",
   "execution_count": 27,
   "id": "35de9c3b-c7f1-4c27-9994-259fc8d72085",
   "metadata": {},
   "outputs": [
    {
     "name": "stdout",
     "output_type": "stream",
     "text": [
      "Running XDataset with norm = False\n",
      "directory for 1c = /home/investigator/Data/monolithic_csi/CsI_6x6_fullwrap_50k_0MHzDC_PTFE_LUT_gamma_vox_xy_6_z_12/df1c, 2c = /home/investigator/Data/monolithic_csi/CsI_6x6_fullwrap_50k_0MHzDC_PTFE_LUT_gamma_vox_xy_6_z_12/df2c\n",
      " Image type = 0\n",
      " Image type = 1\n",
      "Before shufle: length si: 512770, si->[0, 1, 2, 3, 4, 5, 6, 7, 8, 9]\n",
      "After shufle: length si: 512770, si->[115481, 208736, 461043, 162373, 418200, 479114, 338695, 506523, 461126, 152977]\n"
     ]
    }
   ],
   "source": [
    "dataset = XDataset(dir_root, first_file, last_file,nc = False, norm=False)  "
   ]
  },
  {
   "cell_type": "code",
   "execution_count": 28,
   "id": "3be90dab-29d9-40e7-8715-758bc3d36f78",
   "metadata": {},
   "outputs": [
    {
     "data": {
      "text/plain": [
       "(tensor([[[298., 313., 318., 259., 192., 187., 153., 131.],\n",
       "          [310., 342., 349., 286., 239., 176., 156., 141.],\n",
       "          [235., 316., 358., 288., 229., 219., 173., 149.],\n",
       "          [221., 285., 276., 267., 205., 204., 152., 150.],\n",
       "          [196., 228., 215., 219., 209., 198., 148., 155.],\n",
       "          [178., 178., 202., 191., 193., 151., 142., 144.],\n",
       "          [135., 175., 169., 173., 157., 155., 156., 127.],\n",
       "          [129., 152., 154., 158., 165., 159., 141., 123.]]]),\n",
       " tensor(0))"
      ]
     },
     "execution_count": 28,
     "metadata": {},
     "output_type": "execute_result"
    }
   ],
   "source": [
    "dataset[3]"
   ]
  },
  {
   "cell_type": "code",
   "execution_count": 29,
   "id": "28a43af6-548e-47ac-a9d1-4b442f0a7887",
   "metadata": {},
   "outputs": [
    {
     "name": "stdout",
     "output_type": "stream",
     "text": [
      "Loaded 512770 events\n",
      " train size = 358939\n",
      " val size = 102554\n",
      " test size = 51277\n",
      " train indices = range(0, 358939)\n",
      " val indices = range(358939, 461493)\n",
      " test indices = range(461493, 512770)\n",
      "358939 training events (70.0%)\n",
      "102554 validation events (20.0%)\n",
      "51277 test events (10.0%)\n"
     ]
    }
   ],
   "source": [
    "data_loader, train_loader, val_loader, test_loader = mono_data_loader(dataset, \n",
    "                                                                      batch_size=batch_size, \n",
    "                                                                      train_fraction=train_fraction, \n",
    "                                                                      val_fraction=val_fraction)"
   ]
  },
  {
   "cell_type": "code",
   "execution_count": 30,
   "id": "0f76b4b4-1b68-44b7-857b-6fc8f2455951",
   "metadata": {},
   "outputs": [
    {
     "data": {
      "image/png": "[encoded data removed]",
      "text/plain": [
       "<Figure size 1000x800 with 9 Axes>"
      ]
     },
     "metadata": {},
     "output_type": "display_data"
    }
   ],
   "source": [
    "plot_images_and_labels(train_loader, start=100, figsize=(10, 8))"
   ]
  },
  {
   "cell_type": "code",
   "execution_count": 35,
   "id": "f4ca8faf-17bb-42de-a756-7f8f3ab3f2d1",
   "metadata": {},
   "outputs": [
    {
     "name": "stdout",
     "output_type": "stream",
     "text": [
      " ## make_layer 1: planes = 64,  blocks = 1, stride = 1\n",
      " ## make_layer: in_planes=64\n",
      " ## make_layer: downsample = None\n",
      " ## make_layer 2: planes = 128,  blocks = 1, stride = 2\n",
      " ## make_layer: in_planes=64\n",
      " ## make_layer: downsample = Sequential(\n",
      "  (0): Conv2d(64, 128, kernel_size=(1, 1), stride=(2, 2))\n",
      "  (1): BatchNorm2d(128, eps=1e-05, momentum=0.1, affine=True, track_running_stats=True)\n",
      ")\n",
      " ## make_layer 3: planes = 256,  blocks = 1, stride = 2\n",
      " ## make_layer: in_planes=128\n",
      " ## make_layer: downsample = Sequential(\n",
      "  (0): Conv2d(128, 256, kernel_size=(1, 1), stride=(2, 2))\n",
      "  (1): BatchNorm2d(256, eps=1e-05, momentum=0.1, affine=True, track_running_stats=True)\n",
      ")\n",
      " ## make_layer 4: planes = 512,  blocks = 1, stride = 2\n",
      " ## make_layer: in_planes=256\n",
      " ## make_layer: downsample = Sequential(\n",
      "  (0): Conv2d(256, 512, kernel_size=(1, 1), stride=(2, 2))\n",
      "  (1): BatchNorm2d(512, eps=1e-05, momentum=0.1, affine=True, track_running_stats=True)\n",
      ")\n"
     ]
    }
   ],
   "source": [
    "modelx = xResNet8(ResBlock, in_channels=1, out_channels=64, num_classes = 2, \n",
    "                 dropout_fraction=0.25, debug=True, dropout=True).to(device)"
   ]
  },
  {
   "cell_type": "code",
   "execution_count": 36,
   "id": "e343c72a-6121-4114-8aaa-4aa450f5da58",
   "metadata": {},
   "outputs": [],
   "source": [
    "optimizer= optim.Adam(modelx.parameters(), lr=0.001)\n",
    "criterion = nn.CrossEntropyLoss()"
   ]
  },
  {
   "cell_type": "code",
   "execution_count": 37,
   "id": "1577cff0-0cd3-4127-ad8d-22a29a195a5d",
   "metadata": {},
   "outputs": [
    {
     "name": "stdout",
     "output_type": "stream",
     "text": [
      "Training with  ->359000 images\n",
      "size of train loader  ->1795 images\n",
      "Evaluating with  ->102600 images\n",
      "size of eval loader  ->513 images\n",
      "Classification  ->True\n",
      "Running for epochs ->10\n",
      "\n",
      "EPOCH 0\n",
      "training step: size of sample 1795\n",
      "  ResNet8: input data shape =>torch.Size([200, 1, 8, 8])\n",
      "  ResNet8: after conv1 =>torch.Size([200, 64, 8, 8])\n",
      "  ResNet8: after layer0 =>torch.Size([200, 64, 8, 8])\n",
      "  ResNet8: after layer1 =>torch.Size([200, 128, 4, 4])\n",
      "  ResNet8: after layer2 =>torch.Size([200, 256, 2, 2])\n",
      "  ResNet8: after layer3 =>torch.Size([200, 512, 1, 1])\n",
      "  ResNet8: after avgpool =>torch.Size([200, 512, 1, 1])\n",
      "  ResNet8: after flatten =>torch.Size([200, 512])\n",
      "  ResNet8: after fc =>torch.Size([200, 2])\n",
      "Validation step: size of sample 513\n",
      "--- EPOCH 0 AVG TRAIN LOSS: 0.6629896712834457\n",
      "--- EPOCH 0 AVG VAL LOSS: 0.6687231670346176\n",
      "Accuracy on the 513 validation images: 58.59937203814576 %\n",
      "\n",
      "EPOCH 1\n",
      "training step: size of sample 1795\n",
      "Validation step: size of sample 513\n",
      "--- EPOCH 1 AVG TRAIN LOSS: 0.6250269951262514\n",
      "--- EPOCH 1 AVG VAL LOSS: 0.6585936374366864\n",
      "Accuracy on the 513 validation images: 61.448602687364705 %\n",
      "\n",
      "EPOCH 2\n",
      "training step: size of sample 1795\n",
      "Validation step: size of sample 513\n",
      "--- EPOCH 2 AVG TRAIN LOSS: 0.6132561117825734\n",
      "--- EPOCH 2 AVG VAL LOSS: 0.6164870882592006\n",
      "Accuracy on the 513 validation images: 62.948300407590146 %\n",
      "\n",
      "EPOCH 3\n",
      "training step: size of sample 1795\n",
      "Validation step: size of sample 513\n",
      "--- EPOCH 3 AVG TRAIN LOSS: 0.6058601376738056\n",
      "--- EPOCH 3 AVG VAL LOSS: 0.6225023728597466\n",
      "Accuracy on the 513 validation images: 62.98242876923377 %\n",
      "\n",
      "EPOCH 4\n",
      "training step: size of sample 1795\n",
      "Validation step: size of sample 513\n",
      "--- EPOCH 4 AVG TRAIN LOSS: 0.6000093639395031\n",
      "--- EPOCH 4 AVG VAL LOSS: 0.6117499035004287\n",
      "Accuracy on the 513 validation images: 63.34808978684401 %\n",
      "\n",
      "EPOCH 5\n",
      "training step: size of sample 1795\n",
      "Validation step: size of sample 513\n",
      "--- EPOCH 5 AVG TRAIN LOSS: 0.5944659456569172\n",
      "--- EPOCH 5 AVG VAL LOSS: 0.6181981249859458\n",
      "Accuracy on the 513 validation images: 62.89076974081947 %\n",
      "\n",
      "EPOCH 6\n",
      "training step: size of sample 1795\n",
      "Validation step: size of sample 513\n",
      "--- EPOCH 6 AVG TRAIN LOSS: 0.5905709648198736\n",
      "--- EPOCH 6 AVG VAL LOSS: 0.5930769324999804\n",
      "Accuracy on the 513 validation images: 64.79513232053357 %\n",
      "\n",
      "EPOCH 7\n",
      "training step: size of sample 1795\n",
      "Validation step: size of sample 513\n",
      "--- EPOCH 7 AVG TRAIN LOSS: 0.5865727893489316\n",
      "--- EPOCH 7 AVG VAL LOSS: 0.5922443458908483\n",
      "Accuracy on the 513 validation images: 65.02135460342843 %\n",
      "\n",
      "EPOCH 8\n",
      "training step: size of sample 1795\n",
      "Validation step: size of sample 513\n",
      "--- EPOCH 8 AVG TRAIN LOSS: 0.5837399650915087\n",
      "--- EPOCH 8 AVG VAL LOSS: 0.5950665410034373\n",
      "Accuracy on the 513 validation images: 64.44117245548686 %\n",
      "\n",
      "EPOCH 9\n",
      "training step: size of sample 1795\n",
      "Validation step: size of sample 513\n",
      "--- EPOCH 9 AVG TRAIN LOSS: 0.5802476788961788\n",
      "--- EPOCH 9 AVG VAL LOSS: 0.5938533624710395\n",
      "Accuracy on the 513 validation images: 65.2378259258537 %\n"
     ]
    }
   ],
   "source": [
    "train_losses, val_losses, acc = x_train_cnn(train_loader, val_loader, modelx, optimizer, device, criterion, \n",
    "                                            batch_size=200, xc=True,\n",
    "                                            iprnt=100, epochs=10)"
   ]
  },
  {
   "cell_type": "code",
   "execution_count": 38,
   "id": "cb4b0413-7324-43a0-ae96-528d552f7c64",
   "metadata": {},
   "outputs": [
    {
     "data": {
      "image/png": "[encoded data removed]",
      "text/plain": [
       "<Figure size 600x400 with 1 Axes>"
      ]
     },
     "metadata": {},
     "output_type": "display_data"
    }
   ],
   "source": [
    "plot_loss(10, train_losses, val_losses,figsize=(6, 4))"
   ]
  },
  {
   "cell_type": "code",
   "execution_count": 39,
   "id": "61b0c670-e447-45fc-b858-ef058ad252f7",
   "metadata": {},
   "outputs": [
    {
     "data": {
      "image/png": "[encoded data removed]",
      "text/plain": [
       "<Figure size 1000x400 with 1 Axes>"
      ]
     },
     "metadata": {},
     "output_type": "display_data"
    }
   ],
   "source": [
    "plot_accuracy(acc,figsize=(10, 4))"
   ]
  },
  {
   "cell_type": "markdown",
   "id": "c4e8153e-6e5b-4871-b37e-cc35b456cd87",
   "metadata": {},
   "source": [
    "## Study accuracy"
   ]
  },
  {
   "cell_type": "code",
   "execution_count": 40,
   "id": "38379ffb-5aec-4c32-8205-dd6faf255821",
   "metadata": {},
   "outputs": [
    {
     "name": "stdout",
     "output_type": "stream",
     "text": [
      "Running XDataset with norm = False\n",
      "directory for 1c = /home/investigator/Data/monolithic_csi/CsI_6x6_fullwrap_50k_0MHzDC_PTFE_LUT_gamma_vox_xy_6_z_12/df1c, 2c = /home/investigator/Data/monolithic_csi/CsI_6x6_fullwrap_50k_0MHzDC_PTFE_LUT_gamma_vox_xy_6_z_12/df2c\n",
      " Image type = 0\n",
      "Before shufle: length si: 259889, si->[0, 1, 2, 3, 4, 5, 6, 7, 8, 9]\n",
      "After shufle: length si: 259889, si->[158706, 130844, 49102, 234913, 104740, 22566, 185960, 52696, 23287, 54606]\n"
     ]
    }
   ],
   "source": [
    "dataset1c = XDataset(dir_root, first_file, last_file, type=\"1c\", nc = False, norm=False)  "
   ]
  },
  {
   "cell_type": "code",
   "execution_count": 41,
   "id": "07e6f2a0-5329-4dfa-ab5e-b85a517f3041",
   "metadata": {},
   "outputs": [],
   "source": [
    "data_loader = DataLoader(dataset1c, batch_size=10, shuffle=False) # data already shuffled"
   ]
  },
  {
   "cell_type": "code",
   "execution_count": 42,
   "id": "3b6a8e76-9301-45bb-97bf-d1e634da18ac",
   "metadata": {},
   "outputs": [
    {
     "data": {
      "image/png": "[encoded data removed]",
      "text/plain": [
       "<Figure size 1000x800 with 9 Axes>"
      ]
     },
     "metadata": {},
     "output_type": "display_data"
    }
   ],
   "source": [
    "plot_images_and_labels(data_loader, start=0, figsize=(10, 8))"
   ]
  },
  {
   "cell_type": "code",
   "execution_count": 43,
   "id": "267ab228-70d9-423a-a6ac-90b2fd5314e0",
   "metadata": {},
   "outputs": [
    {
     "name": "stdout",
     "output_type": "stream",
     "text": [
      "Validation step: size of sample 257\n",
      "i = 0\n",
      "labels = tensor([0, 0, 1, 0, 0, 1, 1, 0, 1, 1, 1, 1, 0, 0, 1, 0, 0, 0, 1, 0, 0, 1, 1, 0,\n",
      "        0, 0, 1, 1, 0, 1, 1, 0, 1, 1, 1, 0, 0, 1, 0, 0, 1, 0, 0, 0, 1, 0, 0, 0,\n",
      "        1, 0, 1, 0, 1, 1, 0, 1, 1, 0, 0, 1, 1, 1, 1, 0, 1, 0, 1, 0, 1, 0, 1, 1,\n",
      "        1, 0, 0, 0, 0, 1, 0, 0, 1, 0, 0, 1, 0, 1, 1, 0, 0, 0, 0, 1, 0, 0, 0, 1,\n",
      "        1, 1, 0, 0, 1, 1, 1, 1, 1, 0, 1, 1, 0, 1, 1, 0, 1, 1, 0, 1, 1, 0, 0, 1,\n",
      "        0, 1, 1, 1, 0, 0, 1, 0, 1, 0, 1, 0, 0, 1, 1, 1, 1, 1, 0, 0, 1, 0, 1, 1,\n",
      "        0, 0, 1, 0, 1, 0, 1, 0, 1, 0, 1, 1, 1, 0, 0, 1, 1, 0, 0, 0, 1, 0, 1, 0,\n",
      "        1, 0, 1, 1, 0, 0, 1, 0, 1, 0, 0, 1, 1, 0, 1, 0, 1, 1, 0, 0, 1, 1, 1, 0,\n",
      "        0, 0, 0, 1, 0, 0, 0, 1], device='cuda:0')\n",
      "predicted = tensor([0, 1, 1, 0, 0, 1, 0, 0, 1, 0, 1, 0, 0, 1, 1, 0, 1, 0, 0, 0, 0, 1, 0, 1,\n",
      "        0, 1, 1, 0, 0, 0, 1, 0, 1, 1, 0, 1, 0, 0, 0, 0, 0, 0, 1, 0, 1, 0, 0, 0,\n",
      "        1, 1, 0, 0, 1, 1, 0, 0, 1, 0, 1, 0, 1, 1, 1, 1, 0, 0, 0, 0, 1, 1, 1, 1,\n",
      "        0, 0, 0, 0, 1, 1, 1, 0, 1, 0, 0, 1, 1, 0, 0, 0, 0, 0, 0, 0, 1, 0, 1, 1,\n",
      "        1, 1, 0, 0, 1, 0, 0, 1, 0, 0, 0, 0, 0, 1, 0, 1, 0, 0, 0, 0, 1, 0, 0, 1,\n",
      "        0, 1, 1, 1, 0, 0, 1, 0, 1, 0, 0, 0, 0, 1, 1, 0, 0, 0, 0, 0, 0, 0, 0, 1,\n",
      "        0, 0, 0, 0, 1, 0, 1, 0, 1, 0, 1, 1, 1, 0, 0, 0, 1, 1, 0, 0, 0, 0, 1, 0,\n",
      "        0, 0, 0, 1, 1, 0, 1, 0, 0, 0, 0, 1, 1, 0, 0, 0, 0, 0, 1, 0, 1, 0, 1, 0,\n",
      "        0, 0, 0, 0, 0, 0, 0, 1], device='cuda:0')\n",
      "correct = 135\n",
      "labels 0 = tensor([  0,   1,   3,   4,   7,  12,  13,  15,  16,  17,  19,  20,  23,  24,\n",
      "         25,  28,  31,  35,  36,  38,  39,  41,  42,  43,  45,  46,  47,  49,\n",
      "         51,  54,  57,  58,  63,  65,  67,  69,  73,  74,  75,  76,  78,  79,\n",
      "         81,  82,  84,  87,  88,  89,  90,  92,  93,  94,  98,  99, 105, 108,\n",
      "        111, 114, 117, 118, 120, 124, 125, 127, 129, 131, 132, 138, 139, 141,\n",
      "        144, 145, 147, 149, 151, 153, 157, 158, 161, 162, 163, 165, 167, 169,\n",
      "        172, 173, 175, 177, 178, 181, 183, 186, 187, 191, 192, 193, 194, 196,\n",
      "        197, 198], device='cuda:0')\n",
      "predicted 0 = tensor([  0,   3,   4,   6,   7,   9,  11,  12,  15,  17,  18,  19,  20,  22,\n",
      "         24,  27,  28,  29,  31,  34,  36,  37,  38,  39,  40,  41,  43,  45,\n",
      "         46,  47,  50,  51,  54,  55,  57,  59,  64,  65,  66,  67,  72,  73,\n",
      "         74,  75,  79,  81,  82,  85,  86,  87,  88,  89,  90,  91,  93,  98,\n",
      "         99, 101, 102, 104, 105, 106, 107, 108, 110, 112, 113, 114, 115, 117,\n",
      "        118, 120, 124, 125, 127, 129, 130, 131, 132, 135, 136, 137, 138, 139,\n",
      "        140, 141, 142, 144, 145, 146, 147, 149, 151, 153, 157, 158, 159, 162,\n",
      "        163, 164, 165, 167, 168, 169, 170, 173, 175, 176, 177, 178, 181, 182,\n",
      "        183, 184, 185, 187, 189, 191, 192, 193, 194, 195, 196, 197, 198],\n",
      "       device='cuda:0')\n",
      "labels 1 = tensor([  2,   5,   6,   8,   9,  10,  11,  14,  18,  21,  22,  26,  27,  29,\n",
      "         30,  32,  33,  34,  37,  40,  44,  48,  50,  52,  53,  55,  56,  59,\n",
      "         60,  61,  62,  64,  66,  68,  70,  71,  72,  77,  80,  83,  85,  86,\n",
      "         91,  95,  96,  97, 100, 101, 102, 103, 104, 106, 107, 109, 110, 112,\n",
      "        113, 115, 116, 119, 121, 122, 123, 126, 128, 130, 133, 134, 135, 136,\n",
      "        137, 140, 142, 143, 146, 148, 150, 152, 154, 155, 156, 159, 160, 164,\n",
      "        166, 168, 170, 171, 174, 176, 179, 180, 182, 184, 185, 188, 189, 190,\n",
      "        195, 199], device='cuda:0')\n",
      "predicted 1 = tensor([  1,   2,   5,   8,  10,  13,  14,  16,  21,  23,  25,  26,  30,  32,\n",
      "         33,  35,  42,  44,  48,  49,  52,  53,  56,  58,  60,  61,  62,  63,\n",
      "         68,  69,  70,  71,  76,  77,  78,  80,  83,  84,  92,  94,  95,  96,\n",
      "         97, 100, 103, 109, 111, 116, 119, 121, 122, 123, 126, 128, 133, 134,\n",
      "        143, 148, 150, 152, 154, 155, 156, 160, 161, 166, 171, 172, 174, 179,\n",
      "        180, 186, 188, 190, 199], device='cuda:0')\n",
      "result0 = 80\n",
      "fraction of 1c == 1c => 0.7999999523162842\n",
      "result1 = 55\n",
      "fraction of 2c == 2c =Z 0.550000011920929\n",
      "Events analyzed = 51277: 1c = 26042, 2c = 25235\n",
      "Events correctly identified = 0.6551475320319051\n",
      "1c correctly identified as 1c = 0.8123032450675964\n",
      "2c correctly identified as 2c = 0.4929661452770233\n"
     ]
    }
   ],
   "source": [
    "total, t1c, t2c, acc, c1c, c2c = cnn_xeval(test_loader, modelx, device, prnt=1000) \n",
    "print(f\"Events analyzed = {total}: 1c = {t1c}, 2c = {t2c}\")\n",
    "print(f\"Events correctly identified = {acc}\")\n",
    "print(f\"1c correctly identified as 1c = {c1c}\")\n",
    "print(f\"2c correctly identified as 2c = {c2c}\")"
   ]
  },
  {
   "cell_type": "markdown",
   "id": "4aedbe7b-b1e9-4560-b97e-6ef14fdb99a0",
   "metadata": {},
   "source": [
    "### In conclusion, with binning of 3 mm, accuracy is poor for 1c"
   ]
  },
  {
   "cell_type": "markdown",
   "id": "d40fc834-922c-4af7-a91b-c1eef3568ed7",
   "metadata": {},
   "source": [
    "## 9 mm"
   ]
  },
  {
   "cell_type": "code",
   "execution_count": 50,
   "id": "93ea171e-a34e-44b4-b4a3-a1617cee0316",
   "metadata": {},
   "outputs": [],
   "source": [
    "data_dir = Path(os.environ['MONOLITH_DATA'])\n",
    "dir_root = os.path.join(data_dir,\"CsI_6x6_fullwrap_50k_0MHzDC_PTFE_LUT_gamma_2_vox_9mm\")\n",
    "d1c = os.path.join(dir_root,\"df1c\")\n",
    "d2c = os.path.join(dir_root,\"df2c\")\n",
    "dnc = os.path.join(dir_root,\"dfnc\")\n"
   ]
  },
  {
   "cell_type": "code",
   "execution_count": 51,
   "id": "197e93fd-dcb2-4dcd-8dcc-d158329cf0a8",
   "metadata": {},
   "outputs": [
    {
     "name": "stdout",
     "output_type": "stream",
     "text": [
      "Running XDataset with norm = False\n",
      "directory for 1c = /home/investigator/Data/monolithic_csi/CsI_6x6_fullwrap_50k_0MHzDC_PTFE_LUT_gamma_2_vox_9mm/df1c, 2c = /home/investigator/Data/monolithic_csi/CsI_6x6_fullwrap_50k_0MHzDC_PTFE_LUT_gamma_2_vox_9mm/df2c, >2c = /home/investigator/Data/monolithic_csi/CsI_6x6_fullwrap_50k_0MHzDC_PTFE_LUT_gamma_2_vox_9mm/dfnc\n",
      " Image type = 0\n",
      " Image type = 1\n",
      " Image type = 1\n",
      "Before shufle: length si: 1026373, si->[0, 1, 2, 3, 4, 5, 6, 7, 8, 9]\n",
      "After shufle: length si: 1026373, si->[683351, 990430, 60366, 144967, 580279, 564105, 326124, 316465, 671872, 789973]\n"
     ]
    }
   ],
   "source": [
    "dataset = XDataset(dir_root, first_file, last_file,numcls=2, norm=False)  "
   ]
  },
  {
   "cell_type": "code",
   "execution_count": 52,
   "id": "3c46b334-c984-463b-b75c-6fff375afbc5",
   "metadata": {},
   "outputs": [
    {
     "name": "stdout",
     "output_type": "stream",
     "text": [
      "Loaded 1026373 events\n",
      " train size = 718461\n",
      " val size = 205274\n",
      " test size = 102638\n",
      " train indices = range(0, 718461)\n",
      " val indices = range(718461, 923735)\n",
      " test indices = range(923735, 1026373)\n",
      "718461 training events (69.99999025695337%)\n",
      "205274 validation events (19.99994154172021%)\n",
      "102638 test events (10.000068201326417%)\n"
     ]
    }
   ],
   "source": [
    "data_loader, train_loader, val_loader, test_loader = mono_data_loader(dataset, \n",
    "                                                                      batch_size=batch_size, \n",
    "                                                                      train_fraction=train_fraction, \n",
    "                                                                      val_fraction=val_fraction)"
   ]
  },
  {
   "cell_type": "code",
   "execution_count": 53,
   "id": "cc655d89-131d-4948-a3ce-249d98acbc6f",
   "metadata": {},
   "outputs": [
    {
     "name": "stdout",
     "output_type": "stream",
     "text": [
      " ## make_layer 1: planes = 64,  blocks = 1, stride = 1\n",
      " ## make_layer: in_planes=64\n",
      " ## make_layer: downsample = None\n",
      " ## make_layer 2: planes = 128,  blocks = 1, stride = 2\n",
      " ## make_layer: in_planes=64\n",
      " ## make_layer: downsample = Sequential(\n",
      "  (0): Conv2d(64, 128, kernel_size=(1, 1), stride=(2, 2))\n",
      "  (1): BatchNorm2d(128, eps=1e-05, momentum=0.1, affine=True, track_running_stats=True)\n",
      ")\n",
      " ## make_layer 3: planes = 256,  blocks = 1, stride = 2\n",
      " ## make_layer: in_planes=128\n",
      " ## make_layer: downsample = Sequential(\n",
      "  (0): Conv2d(128, 256, kernel_size=(1, 1), stride=(2, 2))\n",
      "  (1): BatchNorm2d(256, eps=1e-05, momentum=0.1, affine=True, track_running_stats=True)\n",
      ")\n",
      " ## make_layer 4: planes = 512,  blocks = 1, stride = 2\n",
      " ## make_layer: in_planes=256\n",
      " ## make_layer: downsample = Sequential(\n",
      "  (0): Conv2d(256, 512, kernel_size=(1, 1), stride=(2, 2))\n",
      "  (1): BatchNorm2d(512, eps=1e-05, momentum=0.1, affine=True, track_running_stats=True)\n",
      ")\n"
     ]
    }
   ],
   "source": [
    "modelx = xResNet8(ResBlock, in_channels=1, out_channels=64, num_classes = 2, \n",
    "                 dropout_fraction=0.25, debug=True, dropout=True).to(device)\n",
    "optimizer= optim.Adam(modelx.parameters(), lr=0.001)"
   ]
  },
  {
   "cell_type": "code",
   "execution_count": 54,
   "id": "25978d87-7d5c-4e8b-8f43-b7e89ad40583",
   "metadata": {},
   "outputs": [
    {
     "name": "stdout",
     "output_type": "stream",
     "text": [
      "Training with  ->718600 images\n",
      "size of train loader  ->3593 images\n",
      "Evaluating with  ->205400 images\n",
      "size of eval loader  ->1027 images\n",
      "Classification  ->True\n",
      "Running for epochs ->10\n",
      "\n",
      "EPOCH 0\n",
      "training step: size of sample 3593\n",
      "  ResNet8: input data shape =>torch.Size([200, 1, 8, 8])\n",
      "  ResNet8: after conv1 =>torch.Size([200, 64, 8, 8])\n",
      "  ResNet8: after layer0 =>torch.Size([200, 64, 8, 8])\n",
      "  ResNet8: after layer1 =>torch.Size([200, 128, 4, 4])\n",
      "  ResNet8: after layer2 =>torch.Size([200, 256, 2, 2])\n",
      "  ResNet8: after layer3 =>torch.Size([200, 512, 1, 1])\n",
      "  ResNet8: after avgpool =>torch.Size([200, 512, 1, 1])\n",
      "  ResNet8: after flatten =>torch.Size([200, 512])\n",
      "  ResNet8: after fc =>torch.Size([200, 2])\n",
      "Validation step: size of sample 1027\n",
      "--- EPOCH 0 AVG TRAIN LOSS: 0.63231298613608\n",
      "--- EPOCH 0 AVG VAL LOSS: 0.6143675156031982\n",
      "Accuracy on the 1027 validation images: 64.0017732396699 %\n",
      "\n",
      "EPOCH 1\n",
      "training step: size of sample 3593\n",
      "Validation step: size of sample 1027\n",
      "--- EPOCH 1 AVG TRAIN LOSS: 0.6056622211361807\n",
      "--- EPOCH 1 AVG VAL LOSS: 0.6038988039347306\n",
      "Accuracy on the 1027 validation images: 64.99751551584711 %\n",
      "\n",
      "EPOCH 2\n",
      "training step: size of sample 3593\n",
      "Validation step: size of sample 1027\n",
      "--- EPOCH 2 AVG TRAIN LOSS: 0.5971913307349462\n",
      "--- EPOCH 2 AVG VAL LOSS: 0.594532513426945\n",
      "Accuracy on the 1027 validation images: 65.93723511014547 %\n",
      "\n",
      "EPOCH 3\n",
      "training step: size of sample 3593\n",
      "Validation step: size of sample 1027\n",
      "--- EPOCH 3 AVG TRAIN LOSS: 0.5914774397903918\n",
      "--- EPOCH 3 AVG VAL LOSS: 0.5868119002549302\n",
      "Accuracy on the 1027 validation images: 66.54617730448084 %\n",
      "\n",
      "EPOCH 4\n",
      "training step: size of sample 3593\n",
      "Validation step: size of sample 1027\n",
      "--- EPOCH 4 AVG TRAIN LOSS: 0.5872370966324194\n",
      "--- EPOCH 4 AVG VAL LOSS: 0.5837162612359735\n",
      "Accuracy on the 1027 validation images: 66.76734510946345 %\n",
      "\n",
      "EPOCH 5\n",
      "training step: size of sample 3593\n",
      "Validation step: size of sample 1027\n",
      "--- EPOCH 5 AVG TRAIN LOSS: 0.5837142098225361\n",
      "--- EPOCH 5 AVG VAL LOSS: 0.5825471855997458\n",
      "Accuracy on the 1027 validation images: 67.0601245164999 %\n",
      "\n",
      "EPOCH 6\n",
      "training step: size of sample 3593\n",
      "Validation step: size of sample 1027\n",
      "--- EPOCH 6 AVG TRAIN LOSS: 0.580857207167623\n",
      "--- EPOCH 6 AVG VAL LOSS: 0.5809168732909172\n",
      "Accuracy on the 1027 validation images: 66.94515623020938 %\n",
      "\n",
      "EPOCH 7\n",
      "training step: size of sample 3593\n",
      "Validation step: size of sample 1027\n",
      "--- EPOCH 7 AVG TRAIN LOSS: 0.5780692911814953\n",
      "--- EPOCH 7 AVG VAL LOSS: 0.5812745025524726\n",
      "Accuracy on the 1027 validation images: 66.88426201077584 %\n",
      "\n",
      "EPOCH 8\n",
      "training step: size of sample 3593\n",
      "Validation step: size of sample 1027\n",
      "--- EPOCH 8 AVG TRAIN LOSS: 0.5757759264542006\n",
      "--- EPOCH 8 AVG VAL LOSS: 0.5928490892299311\n",
      "Accuracy on the 1027 validation images: 66.3147792706334 %\n",
      "\n",
      "EPOCH 9\n",
      "training step: size of sample 3593\n",
      "Validation step: size of sample 1027\n",
      "--- EPOCH 9 AVG TRAIN LOSS: 0.5732215755071409\n",
      "--- EPOCH 9 AVG VAL LOSS: 0.5762600927181114\n",
      "Accuracy on the 1027 validation images: 67.37044145873321 %\n"
     ]
    }
   ],
   "source": [
    "train_losses, val_losses, acc = x_train_cnn(train_loader, val_loader, modelx, optimizer, device, criterion, \n",
    "                                            batch_size=200, xc=True,\n",
    "                                            iprnt=100, epochs=10)"
   ]
  },
  {
   "cell_type": "code",
   "execution_count": 55,
   "id": "c2ebedbe-7688-4acd-8273-8d7ba71151a3",
   "metadata": {},
   "outputs": [
    {
     "data": {
      "image/png": "[encoded data removed]",
      "text/plain": [
       "<Figure size 600x400 with 1 Axes>"
      ]
     },
     "metadata": {},
     "output_type": "display_data"
    }
   ],
   "source": [
    "plot_loss(10, train_losses, val_losses,figsize=(6, 4))"
   ]
  },
  {
   "cell_type": "code",
   "execution_count": 56,
   "id": "eddc91e1-94ce-4e48-9467-2bdf39ed93ea",
   "metadata": {},
   "outputs": [
    {
     "data": {
      "image/png": "[encoded data removed]",
      "text/plain": [
       "<Figure size 1000x400 with 1 Axes>"
      ]
     },
     "metadata": {},
     "output_type": "display_data"
    }
   ],
   "source": [
    "plot_accuracy(acc,figsize=(10, 4))"
   ]
  },
  {
   "cell_type": "code",
   "execution_count": 59,
   "id": "2dbdb785-b80e-4137-8534-9dc2a6cec7ad",
   "metadata": {},
   "outputs": [
    {
     "name": "stdout",
     "output_type": "stream",
     "text": [
      "Validation step: size of sample 514\n",
      "i = 0\n",
      "labels = tensor([0, 0, 1, 1, 0, 0, 1, 1, 0, 1, 1, 0, 1, 1, 1, 0, 1, 0, 0, 1, 0, 1, 0, 0,\n",
      "        1, 0, 0, 0, 1, 0, 0, 1, 0, 0, 0, 0, 1, 1, 0, 0, 0, 1, 1, 0, 0, 0, 0, 0,\n",
      "        1, 0, 0, 0, 1, 1, 1, 0, 1, 1, 1, 0, 1, 0, 0, 0, 1, 1, 1, 0, 1, 0, 0, 1,\n",
      "        1, 1, 0, 1, 0, 1, 0, 1, 0, 1, 1, 0, 1, 0, 0, 1, 0, 1, 1, 0, 1, 1, 0, 1,\n",
      "        1, 1, 1, 1, 1, 1, 1, 0, 0, 1, 0, 1, 1, 0, 1, 0, 0, 0, 0, 1, 0, 1, 0, 1,\n",
      "        1, 0, 0, 0, 0, 1, 1, 0, 0, 0, 0, 0, 1, 1, 1, 0, 0, 1, 0, 1, 0, 1, 0, 0,\n",
      "        1, 0, 0, 1, 1, 1, 0, 1, 1, 0, 0, 0, 0, 1, 1, 0, 1, 0, 1, 1, 1, 1, 1, 1,\n",
      "        0, 1, 0, 0, 0, 0, 0, 1, 1, 0, 0, 0, 1, 0, 1, 1, 1, 1, 0, 0, 0, 0, 0, 0,\n",
      "        0, 0, 1, 1, 1, 0, 1, 1], device='cuda:0')\n",
      "predicted = tensor([0, 0, 0, 1, 1, 0, 1, 0, 0, 0, 0, 0, 0, 0, 1, 0, 0, 0, 0, 1, 0, 0, 0, 0,\n",
      "        0, 0, 0, 0, 0, 0, 0, 0, 0, 0, 0, 0, 0, 0, 0, 0, 0, 1, 1, 0, 0, 0, 0, 0,\n",
      "        1, 0, 0, 1, 1, 0, 0, 0, 0, 1, 1, 1, 1, 1, 0, 0, 0, 0, 0, 0, 1, 0, 0, 0,\n",
      "        1, 1, 0, 0, 0, 1, 0, 1, 1, 1, 1, 0, 0, 0, 0, 0, 0, 1, 0, 1, 0, 0, 0, 0,\n",
      "        1, 0, 0, 0, 1, 1, 1, 0, 0, 0, 0, 0, 0, 0, 1, 0, 0, 0, 1, 1, 0, 0, 0, 1,\n",
      "        1, 0, 0, 1, 0, 1, 0, 0, 0, 1, 0, 0, 0, 0, 1, 0, 0, 1, 0, 0, 0, 1, 0, 0,\n",
      "        1, 0, 0, 1, 0, 0, 0, 0, 0, 0, 0, 0, 0, 1, 0, 0, 0, 0, 1, 1, 0, 1, 1, 0,\n",
      "        1, 0, 0, 0, 0, 1, 0, 1, 1, 0, 0, 0, 0, 1, 0, 1, 1, 0, 0, 1, 0, 0, 0, 0,\n",
      "        0, 0, 0, 1, 1, 0, 0, 1], device='cuda:0')\n",
      "correct = 135\n",
      "labels 0 = tensor([  0,   1,   4,   5,   8,  11,  15,  17,  18,  20,  22,  23,  25,  26,\n",
      "         27,  29,  30,  32,  33,  34,  35,  38,  39,  40,  43,  44,  45,  46,\n",
      "         47,  49,  50,  51,  55,  59,  61,  62,  63,  67,  69,  70,  74,  76,\n",
      "         78,  80,  83,  85,  86,  88,  91,  94, 103, 104, 106, 109, 111, 112,\n",
      "        113, 114, 116, 118, 121, 122, 123, 124, 127, 128, 129, 130, 131, 135,\n",
      "        136, 138, 140, 142, 143, 145, 146, 150, 153, 154, 155, 156, 159, 161,\n",
      "        168, 170, 171, 172, 173, 174, 177, 178, 179, 181, 186, 187, 188, 189,\n",
      "        190, 191, 192, 193, 197], device='cuda:0')\n",
      "predicted 0 = tensor([  0,   1,   2,   5,   7,   8,   9,  10,  11,  12,  13,  15,  16,  17,\n",
      "         18,  20,  21,  22,  23,  24,  25,  26,  27,  28,  29,  30,  31,  32,\n",
      "         33,  34,  35,  36,  37,  38,  39,  40,  43,  44,  45,  46,  47,  49,\n",
      "         50,  53,  54,  55,  56,  62,  63,  64,  65,  66,  67,  69,  70,  71,\n",
      "         74,  75,  76,  78,  83,  84,  85,  86,  87,  88,  90,  92,  93,  94,\n",
      "         95,  97,  98,  99, 103, 104, 105, 106, 107, 108, 109, 111, 112, 113,\n",
      "        116, 117, 118, 121, 122, 124, 126, 127, 128, 130, 131, 132, 133, 135,\n",
      "        136, 138, 139, 140, 142, 143, 145, 146, 148, 149, 150, 151, 152, 153,\n",
      "        154, 155, 156, 158, 159, 160, 161, 164, 167, 169, 170, 171, 172, 174,\n",
      "        177, 178, 179, 180, 182, 185, 186, 188, 189, 190, 191, 192, 193, 194,\n",
      "        197, 198], device='cuda:0')\n",
      "labels 1 = tensor([  2,   3,   6,   7,   9,  10,  12,  13,  14,  16,  19,  21,  24,  28,\n",
      "         31,  36,  37,  41,  42,  48,  52,  53,  54,  56,  57,  58,  60,  64,\n",
      "         65,  66,  68,  71,  72,  73,  75,  77,  79,  81,  82,  84,  87,  89,\n",
      "         90,  92,  93,  95,  96,  97,  98,  99, 100, 101, 102, 105, 107, 108,\n",
      "        110, 115, 117, 119, 120, 125, 126, 132, 133, 134, 137, 139, 141, 144,\n",
      "        147, 148, 149, 151, 152, 157, 158, 160, 162, 163, 164, 165, 166, 167,\n",
      "        169, 175, 176, 180, 182, 183, 184, 185, 194, 195, 196, 198, 199],\n",
      "       device='cuda:0')\n",
      "predicted 1 = tensor([  3,   4,   6,  14,  19,  41,  42,  48,  51,  52,  57,  58,  59,  60,\n",
      "         61,  68,  72,  73,  77,  79,  80,  81,  82,  89,  91,  96, 100, 101,\n",
      "        102, 110, 114, 115, 119, 120, 123, 125, 129, 134, 137, 141, 144, 147,\n",
      "        157, 162, 163, 165, 166, 168, 173, 175, 176, 181, 183, 184, 187, 195,\n",
      "        196, 199], device='cuda:0')\n",
      "result0 = 90\n",
      "fraction of 1c == 1c => 0.8737863898277283\n",
      "result1 = 45\n",
      "fraction of 2c == 2c =Z 0.4639175236225128\n",
      "Events analyzed = 102638: 1c = 54962, 2c = 47676\n",
      "Events correctly identified = 0.6717005397611021\n",
      "1c correctly identified as 1c = 0.841253936290741\n",
      "2c correctly identified as 2c = 0.47623541951179504\n"
     ]
    }
   ],
   "source": [
    "total, t1c, t2c, acc, c1c, c2c = cnn_xeval(test_loader, modelx, device, prnt=1000) \n",
    "print(f\"Events analyzed = {total}: 1c = {t1c}, 2c = {t2c}\")\n",
    "print(f\"Events correctly identified = {acc}\")\n",
    "print(f\"1c correctly identified as 1c = {c1c}\")\n",
    "print(f\"2c correctly identified as 2c = {c2c}\")"
   ]
  },
  {
   "cell_type": "markdown",
   "id": "9dcaaa42-802e-4528-a39b-7d13792b9352",
   "metadata": {},
   "source": [
    "## 14 mm"
   ]
  },
  {
   "cell_type": "code",
   "execution_count": 60,
   "id": "6c062c0d-9877-4a94-9173-dedf01d6bc29",
   "metadata": {},
   "outputs": [
    {
     "name": "stdout",
     "output_type": "stream",
     "text": [
      "Running XDataset with norm = False\n",
      "directory for 1c = /home/investigator/Data/monolithic_csi/CsI_6x6_fullwrap_50k_0MHzDC_PTFE_LUT_gamma_2_vox_14mm/df1c, 2c = /home/investigator/Data/monolithic_csi/CsI_6x6_fullwrap_50k_0MHzDC_PTFE_LUT_gamma_2_vox_14mm/df2c, >2c = /home/investigator/Data/monolithic_csi/CsI_6x6_fullwrap_50k_0MHzDC_PTFE_LUT_gamma_2_vox_14mm/dfnc\n",
      " Image type = 0\n",
      " Image type = 1\n",
      " Image type = 1\n",
      "Before shufle: length si: 1026373, si->[0, 1, 2, 3, 4, 5, 6, 7, 8, 9]\n",
      "After shufle: length si: 1026373, si->[683351, 990430, 60366, 144967, 580279, 564105, 326124, 316465, 671872, 789973]\n",
      "Loaded 1026373 events\n",
      " train size = 718461\n",
      " val size = 205274\n",
      " test size = 102638\n",
      " train indices = range(0, 718461)\n",
      " val indices = range(718461, 923735)\n",
      " test indices = range(923735, 1026373)\n",
      "718461 training events (69.99999025695337%)\n",
      "205274 validation events (19.99994154172021%)\n",
      "102638 test events (10.000068201326417%)\n",
      " ## make_layer 1: planes = 64,  blocks = 1, stride = 1\n",
      " ## make_layer: in_planes=64\n",
      " ## make_layer: downsample = None\n",
      " ## make_layer 2: planes = 128,  blocks = 1, stride = 2\n",
      " ## make_layer: in_planes=64\n",
      " ## make_layer: downsample = Sequential(\n",
      "  (0): Conv2d(64, 128, kernel_size=(1, 1), stride=(2, 2))\n",
      "  (1): BatchNorm2d(128, eps=1e-05, momentum=0.1, affine=True, track_running_stats=True)\n",
      ")\n",
      " ## make_layer 3: planes = 256,  blocks = 1, stride = 2\n",
      " ## make_layer: in_planes=128\n",
      " ## make_layer: downsample = Sequential(\n",
      "  (0): Conv2d(128, 256, kernel_size=(1, 1), stride=(2, 2))\n",
      "  (1): BatchNorm2d(256, eps=1e-05, momentum=0.1, affine=True, track_running_stats=True)\n",
      ")\n",
      " ## make_layer 4: planes = 512,  blocks = 1, stride = 2\n",
      " ## make_layer: in_planes=256\n",
      " ## make_layer: downsample = Sequential(\n",
      "  (0): Conv2d(256, 512, kernel_size=(1, 1), stride=(2, 2))\n",
      "  (1): BatchNorm2d(512, eps=1e-05, momentum=0.1, affine=True, track_running_stats=True)\n",
      ")\n"
     ]
    }
   ],
   "source": [
    "data_dir = Path(os.environ['MONOLITH_DATA'])\n",
    "dir_root = os.path.join(data_dir,\"CsI_6x6_fullwrap_50k_0MHzDC_PTFE_LUT_gamma_2_vox_14mm\")\n",
    "d1c = os.path.join(dir_root,\"df1c\")\n",
    "d2c = os.path.join(dir_root,\"df2c\")\n",
    "dnc = os.path.join(dir_root,\"dfnc\")\n",
    "dataset = XDataset(dir_root, first_file, last_file,numcls=2, norm=False)  \n",
    "data_loader, train_loader, val_loader, test_loader = mono_data_loader(dataset, \n",
    "                                                                      batch_size=batch_size, \n",
    "                                                                      train_fraction=train_fraction, \n",
    "                                                                      val_fraction=val_fraction)\n",
    "modelx = xResNet8(ResBlock, in_channels=1, out_channels=64, num_classes = 2, \n",
    "                 dropout_fraction=0.25, debug=True, dropout=True).to(device)\n",
    "optimizer= optim.Adam(modelx.parameters(), lr=0.001)"
   ]
  },
  {
   "cell_type": "code",
   "execution_count": 61,
   "id": "6876a3d1-1fa6-4260-acf4-4e2b4e9fd569",
   "metadata": {},
   "outputs": [
    {
     "name": "stdout",
     "output_type": "stream",
     "text": [
      "Training with  ->718600 images\n",
      "size of train loader  ->3593 images\n",
      "Evaluating with  ->205400 images\n",
      "size of eval loader  ->1027 images\n",
      "Classification  ->True\n",
      "Running for epochs ->10\n",
      "\n",
      "EPOCH 0\n",
      "training step: size of sample 3593\n",
      "  ResNet8: input data shape =>torch.Size([200, 1, 8, 8])\n",
      "  ResNet8: after conv1 =>torch.Size([200, 64, 8, 8])\n",
      "  ResNet8: after layer0 =>torch.Size([200, 64, 8, 8])\n",
      "  ResNet8: after layer1 =>torch.Size([200, 128, 4, 4])\n",
      "  ResNet8: after layer2 =>torch.Size([200, 256, 2, 2])\n",
      "  ResNet8: after layer3 =>torch.Size([200, 512, 1, 1])\n",
      "  ResNet8: after avgpool =>torch.Size([200, 512, 1, 1])\n",
      "  ResNet8: after flatten =>torch.Size([200, 512])\n",
      "  ResNet8: after fc =>torch.Size([200, 2])\n",
      "Validation step: size of sample 1027\n",
      "--- EPOCH 0 AVG TRAIN LOSS: 0.5934285998526901\n",
      "--- EPOCH 0 AVG VAL LOSS: 0.6069861579080635\n",
      "Accuracy on the 1027 validation images: 68.35546635229011 %\n",
      "\n",
      "EPOCH 1\n",
      "training step: size of sample 3593\n",
      "Validation step: size of sample 1027\n",
      "--- EPOCH 1 AVG TRAIN LOSS: 0.5627837990639504\n",
      "--- EPOCH 1 AVG VAL LOSS: 0.557803061305606\n",
      "Accuracy on the 1027 validation images: 70.80243966600739 %\n",
      "\n",
      "EPOCH 2\n",
      "training step: size of sample 3593\n",
      "Validation step: size of sample 1027\n",
      "--- EPOCH 2 AVG TRAIN LOSS: 0.5518718434929549\n",
      "--- EPOCH 2 AVG VAL LOSS: 0.549511997411871\n",
      "Accuracy on the 1027 validation images: 71.39287001763496 %\n",
      "\n",
      "EPOCH 3\n",
      "training step: size of sample 3593\n",
      "Validation step: size of sample 1027\n",
      "--- EPOCH 3 AVG TRAIN LOSS: 0.5443885644232699\n",
      "--- EPOCH 3 AVG VAL LOSS: 0.5513071890815208\n",
      "Accuracy on the 1027 validation images: 71.24233950719525 %\n",
      "\n",
      "EPOCH 4\n",
      "training step: size of sample 3593\n",
      "Validation step: size of sample 1027\n",
      "--- EPOCH 4 AVG TRAIN LOSS: 0.5392900398356185\n",
      "--- EPOCH 4 AVG VAL LOSS: 0.5359885991200035\n",
      "Accuracy on the 1027 validation images: 72.36279314477235 %\n",
      "\n",
      "EPOCH 5\n",
      "training step: size of sample 3593\n",
      "Validation step: size of sample 1027\n",
      "--- EPOCH 5 AVG TRAIN LOSS: 0.5351848414672175\n",
      "--- EPOCH 5 AVG VAL LOSS: 0.5366253160455327\n",
      "Accuracy on the 1027 validation images: 72.2867971589193 %\n",
      "\n",
      "EPOCH 6\n",
      "training step: size of sample 3593\n",
      "Validation step: size of sample 1027\n",
      "--- EPOCH 6 AVG TRAIN LOSS: 0.5318498614021506\n",
      "--- EPOCH 6 AVG VAL LOSS: 0.5350081645525419\n",
      "Accuracy on the 1027 validation images: 72.36766468232703 %\n",
      "\n",
      "EPOCH 7\n",
      "training step: size of sample 3593\n",
      "Validation step: size of sample 1027\n",
      "--- EPOCH 7 AVG TRAIN LOSS: 0.5286981307660641\n",
      "--- EPOCH 7 AVG VAL LOSS: 0.5376919128124066\n",
      "Accuracy on the 1027 validation images: 72.00765805703597 %\n",
      "\n",
      "EPOCH 8\n",
      "training step: size of sample 3593\n",
      "Validation step: size of sample 1027\n",
      "--- EPOCH 8 AVG TRAIN LOSS: 0.5258250346331088\n",
      "--- EPOCH 8 AVG VAL LOSS: 0.5348079290455017\n",
      "Accuracy on the 1027 validation images: 72.53475842045266 %\n",
      "\n",
      "EPOCH 9\n",
      "training step: size of sample 3593\n",
      "Validation step: size of sample 1027\n",
      "--- EPOCH 9 AVG TRAIN LOSS: 0.5231662099818616\n",
      "--- EPOCH 9 AVG VAL LOSS: 0.5317618752872352\n",
      "Accuracy on the 1027 validation images: 72.69357054473532 %\n"
     ]
    }
   ],
   "source": [
    "train_losses, val_losses, acc = x_train_cnn(train_loader, val_loader, modelx, optimizer, device, criterion, \n",
    "                                            batch_size=200, xc=True,\n",
    "                                            iprnt=100, epochs=10)"
   ]
  },
  {
   "cell_type": "code",
   "execution_count": 62,
   "id": "c8bae5d4-01b5-4526-947a-cea11175cae3",
   "metadata": {},
   "outputs": [
    {
     "data": {
      "image/png": "[encoded data removed]",
      "text/plain": [
       "<Figure size 600x400 with 1 Axes>"
      ]
     },
     "metadata": {},
     "output_type": "display_data"
    }
   ],
   "source": [
    "plot_loss(10, train_losses, val_losses,figsize=(6, 4))"
   ]
  },
  {
   "cell_type": "code",
   "execution_count": 63,
   "id": "16323f64-11c6-46f9-b492-f2121b56cb32",
   "metadata": {},
   "outputs": [
    {
     "data": {
      "image/png": "[encoded data removed]",
      "text/plain": [
       "<Figure size 1000x400 with 1 Axes>"
      ]
     },
     "metadata": {},
     "output_type": "display_data"
    }
   ],
   "source": [
    "plot_accuracy(acc,figsize=(10, 4))"
   ]
  },
  {
   "cell_type": "code",
   "execution_count": 64,
   "id": "9cfa26bd-8601-4c4a-b25c-f52eb5172c76",
   "metadata": {},
   "outputs": [
    {
     "name": "stdout",
     "output_type": "stream",
     "text": [
      "Validation step: size of sample 514\n",
      "i = 0\n",
      "labels = tensor([0, 0, 1, 1, 0, 0, 1, 1, 0, 1, 1, 0, 1, 1, 0, 0, 1, 0, 0, 0, 0, 1, 0, 0,\n",
      "        1, 0, 0, 0, 1, 0, 0, 1, 0, 0, 0, 0, 1, 1, 0, 0, 0, 1, 1, 0, 0, 0, 0, 0,\n",
      "        1, 0, 0, 0, 1, 0, 0, 0, 1, 1, 0, 0, 1, 0, 0, 0, 1, 1, 1, 0, 0, 0, 0, 0,\n",
      "        1, 1, 0, 1, 0, 1, 0, 1, 0, 0, 1, 0, 1, 0, 0, 1, 0, 1, 1, 0, 1, 1, 0, 1,\n",
      "        0, 0, 1, 1, 1, 1, 1, 0, 0, 1, 0, 1, 0, 0, 1, 0, 0, 0, 0, 1, 0, 1, 0, 1,\n",
      "        1, 0, 0, 0, 0, 1, 1, 0, 0, 0, 0, 0, 0, 1, 1, 0, 0, 1, 0, 1, 0, 1, 0, 0,\n",
      "        1, 0, 0, 1, 1, 0, 0, 1, 1, 0, 0, 0, 0, 1, 1, 0, 1, 0, 1, 0, 0, 1, 1, 0,\n",
      "        0, 0, 0, 0, 0, 0, 0, 1, 1, 0, 0, 0, 1, 0, 1, 1, 1, 1, 0, 0, 0, 0, 0, 0,\n",
      "        0, 0, 1, 1, 1, 0, 1, 1], device='cuda:0')\n",
      "predicted = tensor([0, 0, 0, 1, 0, 0, 0, 1, 0, 1, 0, 1, 1, 0, 0, 0, 1, 0, 0, 0, 0, 1, 0, 1,\n",
      "        0, 0, 0, 0, 1, 0, 0, 0, 1, 0, 0, 0, 0, 1, 0, 1, 0, 0, 0, 0, 0, 0, 0, 0,\n",
      "        1, 0, 1, 0, 0, 0, 0, 0, 1, 0, 0, 1, 0, 0, 0, 0, 1, 1, 0, 0, 0, 0, 0, 0,\n",
      "        0, 0, 0, 0, 0, 1, 0, 0, 0, 0, 0, 0, 0, 0, 0, 0, 1, 0, 1, 0, 0, 1, 0, 0,\n",
      "        0, 0, 1, 0, 1, 0, 0, 0, 0, 0, 0, 1, 0, 0, 0, 0, 0, 0, 0, 0, 0, 1, 0, 0,\n",
      "        1, 0, 0, 0, 0, 1, 1, 1, 0, 0, 0, 0, 0, 0, 0, 0, 1, 1, 0, 1, 0, 0, 0, 0,\n",
      "        1, 0, 0, 0, 0, 0, 0, 1, 0, 0, 0, 0, 0, 0, 1, 0, 0, 0, 0, 0, 0, 0, 1, 0,\n",
      "        0, 0, 0, 0, 0, 0, 0, 0, 1, 0, 0, 0, 0, 0, 0, 0, 0, 1, 0, 0, 0, 0, 0, 0,\n",
      "        0, 0, 0, 1, 1, 0, 0, 1], device='cuda:0')\n",
      "correct = 144\n",
      "labels 0 = tensor([  0,   1,   4,   5,   8,  11,  14,  15,  17,  18,  19,  20,  22,  23,\n",
      "         25,  26,  27,  29,  30,  32,  33,  34,  35,  38,  39,  40,  43,  44,\n",
      "         45,  46,  47,  49,  50,  51,  53,  54,  55,  58,  59,  61,  62,  63,\n",
      "         67,  68,  69,  70,  71,  74,  76,  78,  80,  81,  83,  85,  86,  88,\n",
      "         91,  94,  96,  97, 103, 104, 106, 108, 109, 111, 112, 113, 114, 116,\n",
      "        118, 121, 122, 123, 124, 127, 128, 129, 130, 131, 132, 135, 136, 138,\n",
      "        140, 142, 143, 145, 146, 149, 150, 153, 154, 155, 156, 159, 161, 163,\n",
      "        164, 167, 168, 169, 170, 171, 172, 173, 174, 177, 178, 179, 181, 186,\n",
      "        187, 188, 189, 190, 191, 192, 193, 197], device='cuda:0')\n",
      "predicted 0 = tensor([  0,   1,   2,   4,   5,   6,   8,  10,  13,  14,  15,  17,  18,  19,\n",
      "         20,  22,  24,  25,  26,  27,  29,  30,  31,  33,  34,  35,  36,  38,\n",
      "         40,  41,  42,  43,  44,  45,  46,  47,  49,  51,  52,  53,  54,  55,\n",
      "         57,  58,  60,  61,  62,  63,  66,  67,  68,  69,  70,  71,  72,  73,\n",
      "         74,  75,  76,  78,  79,  80,  81,  82,  83,  84,  85,  86,  87,  89,\n",
      "         91,  92,  94,  95,  96,  97,  99, 101, 102, 103, 104, 105, 106, 108,\n",
      "        109, 110, 111, 112, 113, 114, 115, 116, 118, 119, 121, 122, 123, 124,\n",
      "        128, 129, 130, 131, 132, 133, 134, 135, 138, 140, 141, 142, 143, 145,\n",
      "        146, 147, 148, 149, 150, 152, 153, 154, 155, 156, 157, 159, 160, 161,\n",
      "        162, 163, 164, 165, 167, 168, 169, 170, 171, 172, 173, 174, 175, 177,\n",
      "        178, 179, 180, 181, 182, 183, 184, 186, 187, 188, 189, 190, 191, 192,\n",
      "        193, 194, 197, 198], device='cuda:0')\n",
      "labels 1 = tensor([  2,   3,   6,   7,   9,  10,  12,  13,  16,  21,  24,  28,  31,  36,\n",
      "         37,  41,  42,  48,  52,  56,  57,  60,  64,  65,  66,  72,  73,  75,\n",
      "         77,  79,  82,  84,  87,  89,  90,  92,  93,  95,  98,  99, 100, 101,\n",
      "        102, 105, 107, 110, 115, 117, 119, 120, 125, 126, 133, 134, 137, 139,\n",
      "        141, 144, 147, 148, 151, 152, 157, 158, 160, 162, 165, 166, 175, 176,\n",
      "        180, 182, 183, 184, 185, 194, 195, 196, 198, 199], device='cuda:0')\n",
      "predicted 1 = tensor([  3,   7,   9,  11,  12,  16,  21,  23,  28,  32,  37,  39,  48,  50,\n",
      "         56,  59,  64,  65,  77,  88,  90,  93,  98, 100, 107, 117, 120, 125,\n",
      "        126, 127, 136, 137, 139, 144, 151, 158, 166, 176, 185, 195, 196, 199],\n",
      "       device='cuda:0')\n",
      "result0 = 111\n",
      "fraction of 1c == 1c => 0.9250000715255737\n",
      "result1 = 33\n",
      "fraction of 2c == 2c =Z 0.4124999940395355\n",
      "Events analyzed = 102638: 1c = 63361, 2c = 39277\n",
      "Events correctly identified = 0.7237085679767727\n",
      "1c correctly identified as 1c = 0.9257271885871887\n",
      "2c correctly identified as 2c = 0.3978155255317688\n"
     ]
    }
   ],
   "source": [
    "total, t1c, t2c, acc, c1c, c2c = cnn_xeval(test_loader, modelx, device, prnt=1000) \n",
    "print(f\"Events analyzed = {total}: 1c = {t1c}, 2c = {t2c}\")\n",
    "print(f\"Events correctly identified = {acc}\")\n",
    "print(f\"1c correctly identified as 1c = {c1c}\")\n",
    "print(f\"2c correctly identified as 2c = {c2c}\")"
   ]
  },
  {
   "cell_type": "code",
   "execution_count": null,
   "id": "9b18a872-3167-40ac-b56c-d7ba7e4ee312",
   "metadata": {},
   "outputs": [],
   "source": []
  }
 ],
 "metadata": {
  "kernelspec": {
   "display_name": "Python 3 (ipykernel)",
   "language": "python",
   "name": "python3"
  },
  "language_info": {
   "codemirror_mode": {
    "name": "ipython",
    "version": 3
   },
   "file_extension": ".py",
   "mimetype": "text/x-python",
   "name": "python",
   "nbconvert_exporter": "python",
   "pygments_lexer": "ipython3",
   "version": "3.11.5"
  }
 },
 "nbformat": 4,
 "nbformat_minor": 5
}
