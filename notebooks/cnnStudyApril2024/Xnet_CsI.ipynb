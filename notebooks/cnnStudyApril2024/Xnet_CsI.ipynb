{
 "cells": [
  {
   "cell_type": "code",
   "execution_count": 1,
   "id": "3eb4f6ec-c8d0-4c81-8f8f-6550baac5523",
   "metadata": {},
   "outputs": [],
   "source": [
    "%matplotlib inline\n",
    "%load_ext autoreload\n",
    "%autoreload 2\n",
    "import matplotlib.pyplot as plt\n",
    "from matplotlib.pyplot import imshow\n",
    "plt.rcParams[\"figure.figsize\"] = 10, 8\n",
    "plt.rcParams[\"font.size\"     ] = 14\n"
   ]
  },
  {
   "cell_type": "code",
   "execution_count": 2,
   "id": "d8f222f0-2efd-4101-a28c-a1a456e71c1d",
   "metadata": {},
   "outputs": [],
   "source": [
    "import numpy as np\n",
    "import pandas as pd\n",
    "from collections import namedtuple\n",
    "import os\n",
    "import glob\n",
    "from pathlib import Path"
   ]
  },
  {
   "cell_type": "code",
   "execution_count": 3,
   "id": "34453534-c51d-4cc9-aa89-b904f9350cb9",
   "metadata": {},
   "outputs": [],
   "source": [
    "import torch\n",
    "import torch.nn as nn\n",
    "import torch.optim as optim\n",
    "import torch.nn.functional as F\n",
    "from torch.utils.data import Dataset\n",
    "from torch.utils.data import DataLoader\n",
    "from torchvision import transforms\n",
    "from torchvision import datasets\n",
    "from torch.utils.data.sampler import SubsetRandomSampler\n",
    "from torchsummary import summary\n",
    "from torchvision.transforms import v2\n"
   ]
  },
  {
   "cell_type": "code",
   "execution_count": 109,
   "id": "3e77017c-bd42-43a4-a3e5-754f4974356f",
   "metadata": {},
   "outputs": [],
   "source": [
    "from pymono.cnns import cnn_evaluation, x_single_run, x_train_cnn\n",
    "from pymono.cnns import Conv2dPars,  MaxPool2dPars,  LinealLayerPars\n",
    "from pymono.cnns import build_conv_layer, build_conv_layers, build_linear_layers\n",
    "from pymono.cnns import CNN, ResNet10, ResNet8, ResBlock"
   ]
  },
  {
   "cell_type": "code",
   "execution_count": 39,
   "id": "9d9d744d-13bd-4144-890f-99b397bd44bf",
   "metadata": {},
   "outputs": [],
   "source": [
    "from pymono.plt_funcs import  plot_loss, plot_accuracy, cifar_plot_image_and_label \n",
    "from pymono.plt_funcs import  plot_energies2\n",
    "from pymono.cnn_plots import plot_images2, plot_images_and_labels"
   ]
  },
  {
   "cell_type": "code",
   "execution_count": 25,
   "id": "f81c2ec9-63c1-4548-a2e7-0849695a4a1f",
   "metadata": {},
   "outputs": [],
   "source": [
    "from pymono.cnn_aux import get_file_names_format1, get_image_file_data, get_img_file_metadata, get_energy2"
   ]
  },
  {
   "cell_type": "code",
   "execution_count": 63,
   "id": "c3546257-4424-458a-87fc-b93f5f88519c",
   "metadata": {},
   "outputs": [],
   "source": [
    "from pymono.xdataset import XDataset \n",
    "from pymono.mono_dl import mono_data_loader"
   ]
  },
  {
   "cell_type": "code",
   "execution_count": 6,
   "id": "37f3f827-f50f-461b-adc4-8357eacc70ce",
   "metadata": {},
   "outputs": [
    {
     "name": "stdout",
     "output_type": "stream",
     "text": [
      "Using cuda device\n"
     ]
    }
   ],
   "source": [
    "device = (\n",
    "    \"cuda\"\n",
    "    if torch.cuda.is_available()\n",
    "    else \"mps\"\n",
    "    if torch.backends.mps.is_available()\n",
    "    else \"cpu\"\n",
    ")\n",
    "print(f\"Using {device} device\")"
   ]
  },
  {
   "cell_type": "code",
   "execution_count": 7,
   "id": "bd7ee331-0ad1-47ed-bf9c-2e554036488b",
   "metadata": {},
   "outputs": [],
   "source": [
    "def print_features(train_loader):\n",
    "    train_features, train_labels = next(iter(train_loader))\n",
    "    print(f\"Feature batch shape: {train_features.size()}\")\n",
    "    print(f\"Labels batch shape: {train_labels.size()}\")"
   ]
  },
  {
   "cell_type": "markdown",
   "id": "a8f2560c-5d45-4292-adb7-910366db17e8",
   "metadata": {},
   "source": [
    "## Read and anlalyze data\n",
    "- df1c is the directory containing images and labels for events classified as single cluster (1c)\n",
    "- df2c is the directory containing images and labels for events classified as double cluster (2c)\n",
    "- dfnc is the directory containing images and labels for events classified as multiple cluster (nc)\n",
    "- Files are in format1:\n",
    "    - images files are of the form: images_n.npy, where n is a number.\n",
    "    - labels are stored in a single file (labels.csv)"
   ]
  },
  {
   "cell_type": "code",
   "execution_count": 8,
   "id": "e66606fa-2710-422e-9fc4-af8ddb9a3069",
   "metadata": {},
   "outputs": [],
   "source": [
    "data_dir = Path(os.environ['MONOLITH_DATA'])\n",
    "dir_root = os.path.join(data_dir,\"CsI_6x6_fullwrap_50k_0MHzDC_PTFE_LUT_gamma_NX\")\n",
    "d1c = os.path.join(dir_root,\"df1c\")\n",
    "d2c = os.path.join(dir_root,\"df2c\")\n",
    "dnc = os.path.join(dir_root,\"dfnc\")"
   ]
  },
  {
   "cell_type": "code",
   "execution_count": 13,
   "id": "f2e3e8c0-83cf-48b4-a179-fb540437b471",
   "metadata": {},
   "outputs": [],
   "source": [
    "img_names, csv_name = get_file_names_format1(d1c)"
   ]
  },
  {
   "cell_type": "code",
   "execution_count": 15,
   "id": "5aab9ff3-516c-480e-9980-ca6676c1e1df",
   "metadata": {},
   "outputs": [
    {
     "data": {
      "text/plain": [
       "'/home/investigator/Data/monolithic_csi/CsI_6x6_fullwrap_50k_0MHzDC_PTFE_LUT_gamma_NX/df1c/images_1.npy'"
      ]
     },
     "execution_count": 15,
     "metadata": {},
     "output_type": "execute_result"
    }
   ],
   "source": [
    "img_names[0]"
   ]
  },
  {
   "cell_type": "code",
   "execution_count": 12,
   "id": "b30f8167-a598-432b-8de8-f3d7efb04a6e",
   "metadata": {},
   "outputs": [
    {
     "data": {
      "text/plain": [
       "['/home/investigator/Data/monolithic_csi/CsI_6x6_fullwrap_50k_0MHzDC_PTFE_LUT_gamma_NX/df1c/labels.csv']"
      ]
     },
     "execution_count": 12,
     "metadata": {},
     "output_type": "execute_result"
    }
   ],
   "source": [
    "csv_name"
   ]
  },
  {
   "cell_type": "markdown",
   "id": "91b4dcd5-9c42-4eb0-8f03-5a1787875107",
   "metadata": {},
   "source": [
    "### Label data\n",
    "- When sorted by value, label data corresponds to the image stored in the directory.\n",
    "- event_id = 10000 x image_number, so that event 1004 corresponds to the fourth image in file images_1.npy"
   ]
  },
  {
   "cell_type": "code",
   "execution_count": 14,
   "id": "8f8122d4-2168-42b9-9b36-07d3ebddf2ec",
   "metadata": {},
   "outputs": [
    {
     "data": {
      "text/html": [
       "<div>\n",
       "<style scoped>\n",
       "    .dataframe tbody tr th:only-of-type {\n",
       "        vertical-align: middle;\n",
       "    }\n",
       "\n",
       "    .dataframe tbody tr th {\n",
       "        vertical-align: top;\n",
       "    }\n",
       "\n",
       "    .dataframe thead th {\n",
       "        text-align: right;\n",
       "    }\n",
       "</style>\n",
       "<table border=\"1\" class=\"dataframe\">\n",
       "  <thead>\n",
       "    <tr style=\"text-align: right;\">\n",
       "      <th></th>\n",
       "      <th>event_id</th>\n",
       "      <th>e</th>\n",
       "      <th>x</th>\n",
       "      <th>y</th>\n",
       "      <th>z</th>\n",
       "      <th>t</th>\n",
       "    </tr>\n",
       "  </thead>\n",
       "  <tbody>\n",
       "    <tr>\n",
       "      <th>63683</th>\n",
       "      <td>10004</td>\n",
       "      <td>0.510118</td>\n",
       "      <td>18.645067</td>\n",
       "      <td>12.477487</td>\n",
       "      <td>29.249544</td>\n",
       "      <td>0.116340</td>\n",
       "    </tr>\n",
       "    <tr>\n",
       "      <th>63684</th>\n",
       "      <td>10006</td>\n",
       "      <td>0.509274</td>\n",
       "      <td>13.566376</td>\n",
       "      <td>1.647984</td>\n",
       "      <td>21.156849</td>\n",
       "      <td>0.090734</td>\n",
       "    </tr>\n",
       "    <tr>\n",
       "      <th>63685</th>\n",
       "      <td>10014</td>\n",
       "      <td>0.509922</td>\n",
       "      <td>-5.014233</td>\n",
       "      <td>5.060986</td>\n",
       "      <td>12.715019</td>\n",
       "      <td>0.062352</td>\n",
       "    </tr>\n",
       "    <tr>\n",
       "      <th>63686</th>\n",
       "      <td>10018</td>\n",
       "      <td>0.508170</td>\n",
       "      <td>-22.957691</td>\n",
       "      <td>-9.322307</td>\n",
       "      <td>45.483715</td>\n",
       "      <td>0.171746</td>\n",
       "    </tr>\n",
       "    <tr>\n",
       "      <th>63687</th>\n",
       "      <td>10024</td>\n",
       "      <td>0.508948</td>\n",
       "      <td>-3.514938</td>\n",
       "      <td>-0.639491</td>\n",
       "      <td>15.746504</td>\n",
       "      <td>0.074194</td>\n",
       "    </tr>\n",
       "    <tr>\n",
       "      <th>63688</th>\n",
       "      <td>10026</td>\n",
       "      <td>0.508879</td>\n",
       "      <td>18.973616</td>\n",
       "      <td>-6.031100</td>\n",
       "      <td>16.421364</td>\n",
       "      <td>0.074508</td>\n",
       "    </tr>\n",
       "    <tr>\n",
       "      <th>63689</th>\n",
       "      <td>10027</td>\n",
       "      <td>0.508849</td>\n",
       "      <td>11.437413</td>\n",
       "      <td>-22.155209</td>\n",
       "      <td>40.912632</td>\n",
       "      <td>0.157729</td>\n",
       "    </tr>\n",
       "    <tr>\n",
       "      <th>63690</th>\n",
       "      <td>10028</td>\n",
       "      <td>0.509717</td>\n",
       "      <td>9.708068</td>\n",
       "      <td>3.101630</td>\n",
       "      <td>13.316263</td>\n",
       "      <td>0.064982</td>\n",
       "    </tr>\n",
       "    <tr>\n",
       "      <th>63691</th>\n",
       "      <td>10029</td>\n",
       "      <td>0.509517</td>\n",
       "      <td>0.335767</td>\n",
       "      <td>-11.193620</td>\n",
       "      <td>21.898740</td>\n",
       "      <td>0.093051</td>\n",
       "    </tr>\n",
       "    <tr>\n",
       "      <th>63692</th>\n",
       "      <td>10030</td>\n",
       "      <td>0.509092</td>\n",
       "      <td>16.716444</td>\n",
       "      <td>15.401320</td>\n",
       "      <td>25.922293</td>\n",
       "      <td>0.107143</td>\n",
       "    </tr>\n",
       "  </tbody>\n",
       "</table>\n",
       "</div>"
      ],
      "text/plain": [
       "       event_id         e          x          y          z         t\n",
       "63683     10004  0.510118  18.645067  12.477487  29.249544  0.116340\n",
       "63684     10006  0.509274  13.566376   1.647984  21.156849  0.090734\n",
       "63685     10014  0.509922  -5.014233   5.060986  12.715019  0.062352\n",
       "63686     10018  0.508170 -22.957691  -9.322307  45.483715  0.171746\n",
       "63687     10024  0.508948  -3.514938  -0.639491  15.746504  0.074194\n",
       "63688     10026  0.508879  18.973616  -6.031100  16.421364  0.074508\n",
       "63689     10027  0.508849  11.437413 -22.155209  40.912632  0.157729\n",
       "63690     10028  0.509717   9.708068   3.101630  13.316263  0.064982\n",
       "63691     10029  0.509517   0.335767 -11.193620  21.898740  0.093051\n",
       "63692     10030  0.509092  16.716444  15.401320  25.922293  0.107143"
      ]
     },
     "execution_count": 14,
     "metadata": {},
     "output_type": "execute_result"
    }
   ],
   "source": [
    "df1c = pd.read_csv(csv_name[0]).sort_values(by=\"event_id\")\n",
    "df1c.head(10)"
   ]
  },
  {
   "cell_type": "markdown",
   "id": "ec4e17fc-86f4-45fe-b876-f967f8c8dc9f",
   "metadata": {},
   "source": [
    "#### Example\n",
    "- Images and labels in first file of directory"
   ]
  },
  {
   "cell_type": "code",
   "execution_count": 17,
   "id": "aee19338-eedc-4e5c-84e5-df3031a88e95",
   "metadata": {},
   "outputs": [
    {
     "name": "stdout",
     "output_type": "stream",
     "text": [
      "image file path = /home/investigator/Data/monolithic_csi/CsI_6x6_fullwrap_50k_0MHzDC_PTFE_LUT_gamma_NX/df1c/images_1.npy\n",
      "image file name = images_1.npy\n",
      "image file number = 1\n",
      "number of images in file = 2481\n"
     ]
    }
   ],
   "source": [
    "imgs, imgf_path, imgf_name, imfn = get_image_file_data(img_names,img_file_index=0)\n",
    "print(f\"image file path = {imgf_path}\")\n",
    "print(f\"image file name = {imgf_name}\")\n",
    "print(f\"image file number = {imfn}\")\n",
    "print(f\"number of images in file = {len(imgs)}\")"
   ]
  },
  {
   "cell_type": "code",
   "execution_count": 21,
   "id": "3273bc09-4cd0-4b25-a0eb-220950167bd9",
   "metadata": {},
   "outputs": [
    {
     "name": "stdout",
     "output_type": "stream",
     "text": [
      "number of labels in file = 2481\n"
     ]
    }
   ],
   "source": [
    "df1cs = get_img_file_metadata(df1c, imfn)  # This are the events corresponding to the images\n",
    "print(f\"number of labels in file = {len(df1cs)}\")"
   ]
  },
  {
   "cell_type": "code",
   "execution_count": 23,
   "id": "ea0120b0-5318-4042-9f3a-b12bfc8a4f68",
   "metadata": {},
   "outputs": [
    {
     "data": {
      "image/png": "[encoded data removed]",
      "text/plain": [
       "<Figure size 1400x400 with 8 Axes>"
      ]
     },
     "metadata": {},
     "output_type": "display_data"
    }
   ],
   "source": [
    "plot_images2(imgs, df1cs, (0,8), pixel_size = 6, grid_size=8)"
   ]
  },
  {
   "cell_type": "code",
   "execution_count": 27,
   "id": "a598ca19-d35d-4f6c-b808-b9848574814a",
   "metadata": {},
   "outputs": [],
   "source": [
    "energy = get_energy2(imgs)"
   ]
  },
  {
   "cell_type": "code",
   "execution_count": 30,
   "id": "357745aa-8e2b-471c-ac59-6f163f124128",
   "metadata": {},
   "outputs": [
    {
     "data": {
      "image/png": "[encoded data removed]",
      "text/plain": [
       "<Figure size 500x400 with 1 Axes>"
      ]
     },
     "metadata": {},
     "output_type": "display_data"
    }
   ],
   "source": [
    "plot_energies2({\"CsI_6x6_fullwrap_50k_1cluster\":energy}, xmin=9000, xmax=max(energy),num_bins = 50)"
   ]
  },
  {
   "cell_type": "markdown",
   "id": "f6af09e2-e1a8-40e3-a577-b150c1b1f786",
   "metadata": {},
   "source": [
    "## Load data\n",
    "- No normalization. "
   ]
  },
  {
   "cell_type": "code",
   "execution_count": 33,
   "id": "d5d381ba-a904-4dad-8b13-4ba008d34a57",
   "metadata": {},
   "outputs": [],
   "source": [
    "first_file = 0  # initial file indx\n",
    "last_file  = 100  # lasta file indx\n",
    "batch_size = 100  # Batch size\n",
    "train_fraction=0.7 \n",
    "val_fraction=0.2"
   ]
  },
  {
   "cell_type": "code",
   "execution_count": 125,
   "id": "09d61e4b-cd98-4a0c-9249-81aa495a12c4",
   "metadata": {},
   "outputs": [
    {
     "name": "stdout",
     "output_type": "stream",
     "text": [
      "Running XDataset with norm = False\n",
      "directory for 1c = /home/investigator/Data/monolithic_csi/CsI_6x6_fullwrap_50k_0MHzDC_PTFE_LUT_gamma_NX/df1c, 2c = /home/investigator/Data/monolithic_csi/CsI_6x6_fullwrap_50k_0MHzDC_PTFE_LUT_gamma_NX/df2c, >2c = /home/investigator/Data/monolithic_csi/CsI_6x6_fullwrap_50k_0MHzDC_PTFE_LUT_gamma_NX/dfnc\n",
      " Image type = 0\n",
      " Image type = 1\n",
      " Image type = 1\n",
      "Before shufle: length si: 512770, si->[0, 1, 2, 3, 4, 5, 6, 7, 8, 9]\n",
      "After shufle: length si: 512770, si->[115481, 208736, 461043, 162373, 418200, 479114, 338695, 506523, 461126, 152977]\n"
     ]
    }
   ],
   "source": [
    "dataset = XDataset(dir_root, first_file, last_file,norm=False)  "
   ]
  },
  {
   "cell_type": "code",
   "execution_count": 126,
   "id": "55928e8d-7162-4d84-8d14-b77a5b54f2d6",
   "metadata": {},
   "outputs": [
    {
     "data": {
      "text/plain": [
       "(tensor([[[167., 183., 192., 165., 163., 163., 146., 137.],\n",
       "          [194., 237., 233., 232., 179., 196., 196., 142.],\n",
       "          [224., 220., 263., 235., 204., 206., 174., 166.],\n",
       "          [205., 259., 248., 228., 197., 212., 196., 146.],\n",
       "          [211., 238., 271., 257., 243., 211., 171., 150.],\n",
       "          [215., 268., 258., 302., 246., 203., 175., 167.],\n",
       "          [207., 239., 261., 241., 220., 189., 168., 130.],\n",
       "          [194., 199., 233., 223., 182., 153., 141., 145.]]]),\n",
       " tensor(0))"
      ]
     },
     "execution_count": 126,
     "metadata": {},
     "output_type": "execute_result"
    }
   ],
   "source": [
    "dataset[3]"
   ]
  },
  {
   "cell_type": "code",
   "execution_count": 127,
   "id": "186edb8b-a3d2-4df0-8a70-2dd893b345a4",
   "metadata": {},
   "outputs": [
    {
     "name": "stdout",
     "output_type": "stream",
     "text": [
      "Loaded 512770 events\n",
      " train size = 358939\n",
      " val size = 102554\n",
      " test size = 51277\n",
      " train indices = range(0, 358939)\n",
      " val indices = range(358939, 461493)\n",
      " test indices = range(461493, 512770)\n",
      "358939 training events (70.0%)\n",
      "102554 validation events (20.0%)\n",
      "51277 test events (10.0%)\n"
     ]
    }
   ],
   "source": [
    "data_loader, train_loader, val_loader, test_loader = mono_data_loader(dataset, \n",
    "                                                                      batch_size=batch_size, \n",
    "                                                                      train_fraction=train_fraction, \n",
    "                                                                      val_fraction=val_fraction)"
   ]
  },
  {
   "cell_type": "code",
   "execution_count": 128,
   "id": "1e1f3f48-4b2a-45d4-9e36-c482797b5b66",
   "metadata": {},
   "outputs": [
    {
     "data": {
      "image/png": "[encoded data removed]",
      "text/plain": [
       "<Figure size 1000x800 with 9 Axes>"
      ]
     },
     "metadata": {},
     "output_type": "display_data"
    }
   ],
   "source": [
    "plot_images_and_labels(train_loader, start=500, figsize=(10, 8))"
   ]
  },
  {
   "cell_type": "markdown",
   "id": "e6e87423-e08d-4fe3-8536-fa17d9bf053d",
   "metadata": {},
   "source": [
    "## Define model"
   ]
  },
  {
   "cell_type": "code",
   "execution_count": 137,
   "id": "5aab85a5-d0aa-4a23-b73c-dc96cf5dba6c",
   "metadata": {},
   "outputs": [],
   "source": [
    "CL = []\n",
    "c1 = Conv2dPars(in_channels=1, out_channels=64, kernel_size=3, padding=1)\n",
    "c2 = Conv2dPars(in_channels=64, out_channels=128, kernel_size=3, padding=1)\n",
    "c3 = Conv2dPars(in_channels=128, out_channels=256, kernel_size=2, padding=1)\n",
    "c4 = Conv2dPars(in_channels=256, out_channels=512, kernel_size=2, padding=1)\n",
    "p2d = MaxPool2dPars(kernel_size=2, stride=2)\n",
    "CL.append(build_conv_layer(c1, p2d, relu='standard'))\n",
    "CL.append(build_conv_layer(c2, p2d, relu='standard'))\n",
    "CL.append(build_conv_layer(c3, p2d, relu='standard'))\n",
    "CL.append(build_conv_layer(c4, p2d, relu='standard'))\n",
    "clyrs = build_conv_layers(CL)"
   ]
  },
  {
   "cell_type": "code",
   "execution_count": 130,
   "id": "97210704-0be0-4a12-b1f2-d12f6769c05b",
   "metadata": {},
   "outputs": [
    {
     "name": "stdout",
     "output_type": "stream",
     "text": [
      "shape of input image = torch.Size([1, 1, 8, 8])\n",
      " after cl = 1, shape of out image = torch.Size([1, 64, 4, 4])\n",
      " after cl = 2, shape of out image = torch.Size([1, 128, 2, 2])\n",
      " after cl = 3, shape of out image = torch.Size([1, 256, 1, 1])\n",
      " after cl = 4, shape of out image = torch.Size([1, 512, 1, 1])\n",
      "shape of flattened image = torch.Size([1, 512])\n"
     ]
    }
   ],
   "source": [
    "cnn_evaluation(torch.randn(1,1,8,8), CL)"
   ]
  },
  {
   "cell_type": "code",
   "execution_count": 138,
   "id": "63d59f5e-7c0a-43a5-8014-55e5e7d94ecf",
   "metadata": {},
   "outputs": [],
   "source": [
    "LLYR=[]\n",
    "LLYR.append(LinealLayerPars(512, 256))\n",
    "LLYR.append(LinealLayerPars(256, 128))\n",
    "LLYR.append(LinealLayerPars(128, 2))\n",
    "llyrs = build_linear_layers(LLYR, df=0.25)"
   ]
  },
  {
   "cell_type": "code",
   "execution_count": 139,
   "id": "cf2537f4-0c92-41ce-8664-e2f7210c19de",
   "metadata": {},
   "outputs": [],
   "source": [
    "model = CNN(clyrs,llyrs).to(device)"
   ]
  },
  {
   "cell_type": "code",
   "execution_count": 140,
   "id": "fdf7d5d6-7bfe-44be-8665-7cefe7d76365",
   "metadata": {},
   "outputs": [
    {
     "name": "stdout",
     "output_type": "stream",
     "text": [
      "----------------------------------------------------------------\n",
      "        Layer (type)               Output Shape         Param #\n",
      "================================================================\n",
      "            Conv2d-1             [-1, 64, 8, 8]             640\n",
      "       BatchNorm2d-2             [-1, 64, 8, 8]             128\n",
      "              ReLU-3             [-1, 64, 8, 8]               0\n",
      "         MaxPool2d-4             [-1, 64, 4, 4]               0\n",
      "            Conv2d-5            [-1, 128, 4, 4]          73,856\n",
      "       BatchNorm2d-6            [-1, 128, 4, 4]             256\n",
      "              ReLU-7            [-1, 128, 4, 4]               0\n",
      "         MaxPool2d-8            [-1, 128, 2, 2]               0\n",
      "            Conv2d-9            [-1, 256, 3, 3]         131,328\n",
      "      BatchNorm2d-10            [-1, 256, 3, 3]             512\n",
      "             ReLU-11            [-1, 256, 3, 3]               0\n",
      "        MaxPool2d-12            [-1, 256, 1, 1]               0\n",
      "           Conv2d-13            [-1, 512, 2, 2]         524,800\n",
      "      BatchNorm2d-14            [-1, 512, 2, 2]           1,024\n",
      "             ReLU-15            [-1, 512, 2, 2]               0\n",
      "        MaxPool2d-16            [-1, 512, 1, 1]               0\n",
      "          Flatten-17                  [-1, 512]               0\n",
      "          Dropout-18                  [-1, 512]               0\n",
      "           Linear-19                  [-1, 256]         131,328\n",
      "             ReLU-20                  [-1, 256]               0\n",
      "           Linear-21                  [-1, 128]          32,896\n",
      "             ReLU-22                  [-1, 128]               0\n",
      "           Linear-23                    [-1, 2]             258\n",
      "================================================================\n",
      "Total params: 897,026\n",
      "Trainable params: 897,026\n",
      "Non-trainable params: 0\n",
      "----------------------------------------------------------------\n",
      "Input size (MB): 0.00\n",
      "Forward/backward pass size (MB): 0.27\n",
      "Params size (MB): 3.42\n",
      "Estimated Total Size (MB): 3.69\n",
      "----------------------------------------------------------------\n"
     ]
    }
   ],
   "source": [
    "summary(model,(1,8,8))"
   ]
  },
  {
   "cell_type": "code",
   "execution_count": 141,
   "id": "b960ae79-0ca9-4a5b-bb25-22b8f96cc5a0",
   "metadata": {},
   "outputs": [],
   "source": [
    "criterion = nn.CrossEntropyLoss()\n",
    "optimizer = torch.optim.SGD(model.parameters(), lr=0.01, weight_decay = 0.001, momentum = 0.9)  \n"
   ]
  },
  {
   "cell_type": "code",
   "execution_count": 142,
   "id": "99c033d0-dd27-4517-ae06-b185657546a1",
   "metadata": {},
   "outputs": [
    {
     "name": "stdout",
     "output_type": "stream",
     "text": [
      "** Run for 1 event**\n",
      "epoch = 0\n",
      "i = 0\n",
      "labels shape = torch.Size([100])\n",
      "imgs shape = torch.Size([100, 1, 8, 8])\n",
      "labels = tensor([1, 1, 1, 0, 0, 0, 1, 1, 1, 0, 0, 0, 0, 0, 1, 1, 0, 0, 0, 1, 0, 1, 1, 1,\n",
      "        0, 0, 0, 0, 1, 0, 1, 0, 1, 1, 0, 0, 0, 0, 0, 1, 0, 0, 1, 0, 1, 0, 0, 0,\n",
      "        1, 1, 1, 0, 1, 0, 1, 1, 1, 1, 1, 0, 0, 0, 0, 1, 1, 1, 0, 1, 1, 1, 1, 1,\n",
      "        1, 1, 1, 1, 0, 0, 0, 1, 1, 1, 0, 1, 1, 1, 1, 0, 0, 0, 1, 1, 1, 0, 0, 0,\n",
      "        1, 0, 0, 1])\n",
      "outputs = torch.Size([100, 2])\n",
      "predicted label = tensor([0, 0, 0, 0, 1, 0, 0, 0, 0, 1, 0, 0, 0, 0, 0, 0, 0, 0, 0, 0, 1, 0, 0, 0,\n",
      "        1, 0, 0, 1, 0, 0, 0, 0, 1, 0, 0, 0, 0, 0, 0, 0, 0, 0, 0, 0, 0, 0, 0, 0,\n",
      "        0, 0, 1, 0, 0, 0, 0, 0, 0, 1, 1, 0, 1, 1, 0, 0, 0, 0, 0, 0, 0, 0, 0, 0,\n",
      "        0, 0, 1, 0, 0, 0, 1, 0, 0, 0, 0, 0, 0, 0, 0, 0, 0, 1, 0, 0, 0, 0, 0, 0,\n",
      "        1, 0, 1, 0], device='cuda:0')\n",
      "correct = 44\n",
      "Train Step 1/3590, Loss: 0.7018303871154785\n",
      "i = 1\n",
      "labels shape = torch.Size([100])\n",
      "imgs shape = torch.Size([100, 1, 8, 8])\n",
      "labels = tensor([1, 0, 1, 1, 0, 1, 1, 0, 1, 0, 1, 0, 0, 0, 0, 1, 0, 1, 1, 0, 1, 1, 1, 1,\n",
      "        1, 0, 1, 0, 0, 0, 0, 0, 1, 1, 1, 1, 0, 0, 0, 1, 0, 1, 1, 0, 0, 0, 0, 0,\n",
      "        1, 0, 1, 1, 0, 1, 1, 0, 1, 0, 0, 0, 1, 1, 1, 0, 0, 1, 0, 0, 0, 1, 1, 1,\n",
      "        1, 1, 0, 1, 0, 1, 1, 1, 0, 0, 0, 0, 1, 0, 1, 1, 1, 1, 0, 1, 1, 1, 1, 1,\n",
      "        1, 0, 1, 1])\n",
      "outputs = torch.Size([100, 2])\n",
      "predicted label = tensor([0, 1, 0, 0, 0, 0, 0, 0, 1, 0, 0, 0, 0, 0, 0, 0, 0, 0, 0, 0, 0, 0, 0, 0,\n",
      "        0, 0, 0, 0, 0, 0, 0, 0, 1, 0, 0, 0, 0, 0, 0, 0, 0, 1, 0, 1, 0, 0, 1, 0,\n",
      "        0, 0, 0, 0, 0, 1, 1, 0, 0, 0, 0, 0, 0, 0, 0, 0, 0, 0, 0, 0, 0, 0, 0, 0,\n",
      "        0, 0, 0, 0, 0, 0, 0, 0, 0, 1, 0, 0, 0, 0, 1, 0, 0, 0, 0, 0, 0, 1, 0, 0,\n",
      "        0, 0, 0, 0], device='cuda:0')\n",
      "correct = 48\n",
      "Train Step 2/3590, Loss: 0.6984908580780029\n"
     ]
    }
   ],
   "source": [
    "x_single_run(train_loader, device, model, optimizer, criterion, xc=True)"
   ]
  },
  {
   "cell_type": "code",
   "execution_count": 143,
   "id": "ce81e935-a281-46aa-8a92-fdde43f5f422",
   "metadata": {},
   "outputs": [
    {
     "name": "stdout",
     "output_type": "stream",
     "text": [
      "Training with  ->229760 images\n",
      "size of train loader  ->3590 images\n",
      "Evaluating with  ->65664 images\n",
      "size of eval loader  ->1026 images\n",
      "Classification  ->True\n",
      "Running for epochs ->10\n",
      "\n",
      "EPOCH 0\n",
      "training step: size of sample 3590\n",
      "Validation step: size of sample 1026\n",
      "--- EPOCH 0 AVG TRAIN LOSS: 0.6731891951687157\n",
      "--- EPOCH 0 AVG VAL LOSS: 0.6764931409214905\n",
      "Accuracy on the 1026 validation images: 55.79889619127484 %\n",
      "\n",
      "EPOCH 1\n",
      "training step: size of sample 3590\n",
      "Validation step: size of sample 1026\n",
      "--- EPOCH 1 AVG TRAIN LOSS: 0.6502049793772047\n",
      "--- EPOCH 1 AVG VAL LOSS: 0.666771299076824\n",
      "Accuracy on the 1026 validation images: 56.28644421475515 %\n",
      "\n",
      "EPOCH 2\n",
      "training step: size of sample 3590\n",
      "Validation step: size of sample 1026\n",
      "--- EPOCH 2 AVG TRAIN LOSS: 0.6421834947006948\n",
      "--- EPOCH 2 AVG VAL LOSS: 0.7956902767017803\n",
      "Accuracy on the 1026 validation images: 54.80917370360981 %\n",
      "\n",
      "EPOCH 3\n",
      "training step: size of sample 3590\n",
      "Validation step: size of sample 1026\n",
      "--- EPOCH 3 AVG TRAIN LOSS: 0.6367589434541367\n",
      "--- EPOCH 3 AVG VAL LOSS: 0.638377785624584\n",
      "Accuracy on the 1026 validation images: 59.55984164440197 %\n",
      "\n",
      "EPOCH 4\n",
      "training step: size of sample 3590\n",
      "Validation step: size of sample 1026\n",
      "--- EPOCH 4 AVG TRAIN LOSS: 0.6337025360310642\n",
      "--- EPOCH 4 AVG VAL LOSS: 0.6283308763717815\n",
      "Accuracy on the 1026 validation images: 61.198003003295824 %\n",
      "\n",
      "EPOCH 5\n",
      "training step: size of sample 3590\n",
      "Validation step: size of sample 1026\n",
      "--- EPOCH 5 AVG TRAIN LOSS: 0.6312072220286951\n",
      "--- EPOCH 5 AVG VAL LOSS: 0.627773173487442\n",
      "Accuracy on the 1026 validation images: 61.04881330811085 %\n",
      "\n",
      "EPOCH 6\n",
      "training step: size of sample 3590\n",
      "Validation step: size of sample 1026\n",
      "--- EPOCH 6 AVG TRAIN LOSS: 0.6300009275545316\n",
      "--- EPOCH 6 AVG VAL LOSS: 0.6234112883868971\n",
      "Accuracy on the 1026 validation images: 61.16094935351132 %\n",
      "\n",
      "EPOCH 7\n",
      "training step: size of sample 3590\n",
      "Validation step: size of sample 1026\n",
      "--- EPOCH 7 AVG TRAIN LOSS: 0.6295082841576972\n",
      "--- EPOCH 7 AVG VAL LOSS: 0.6300357749819988\n",
      "Accuracy on the 1026 validation images: 60.723131228426 %\n",
      "\n",
      "EPOCH 8\n",
      "training step: size of sample 3590\n",
      "Validation step: size of sample 1026\n",
      "--- EPOCH 8 AVG TRAIN LOSS: 0.6282296067990965\n",
      "--- EPOCH 8 AVG VAL LOSS: 0.6870162966888086\n",
      "Accuracy on the 1026 validation images: 56.385904011545136 %\n",
      "\n",
      "EPOCH 9\n",
      "training step: size of sample 3590\n",
      "Validation step: size of sample 1026\n",
      "--- EPOCH 9 AVG TRAIN LOSS: 0.6282747037729512\n",
      "--- EPOCH 9 AVG VAL LOSS: 0.6420617183165708\n",
      "Accuracy on the 1026 validation images: 59.365797531056806 %\n"
     ]
    }
   ],
   "source": [
    "train_losses, val_losses, acc = x_train_cnn(train_loader, val_loader, model, optimizer, device, criterion, \n",
    "                                            batch_size=64, xc=True,\n",
    "                                            iprnt=100, epochs=10)"
   ]
  },
  {
   "cell_type": "code",
   "execution_count": 144,
   "id": "f15703d8-ff00-4ae5-9d6a-d5a1a6db6e02",
   "metadata": {},
   "outputs": [
    {
     "data": {
      "image/png": "[encoded data removed]",
      "text/plain": [
       "<Figure size 600x400 with 1 Axes>"
      ]
     },
     "metadata": {},
     "output_type": "display_data"
    }
   ],
   "source": [
    "plot_loss(10, train_losses, val_losses,figsize=(6, 4))"
   ]
  },
  {
   "cell_type": "code",
   "execution_count": 145,
   "id": "fbe3f48f-5920-4ca2-9824-1935977d470d",
   "metadata": {},
   "outputs": [
    {
     "data": {
      "image/png": "[encoded data removed]",
      "text/plain": [
       "<Figure size 1000x400 with 1 Axes>"
      ]
     },
     "metadata": {},
     "output_type": "display_data"
    }
   ],
   "source": [
    "plot_accuracy(acc,figsize=(10, 4))"
   ]
  },
  {
   "cell_type": "markdown",
   "id": "e96c6245-4318-45a8-a9d6-98938adcb578",
   "metadata": {},
   "source": [
    "## Resnet"
   ]
  },
  {
   "cell_type": "code",
   "execution_count": 146,
   "id": "f1495f96-f238-4b33-8ed1-933a3a21fd1c",
   "metadata": {},
   "outputs": [
    {
     "name": "stdout",
     "output_type": "stream",
     "text": [
      " ## make_layer 1: planes = 64,  blocks = 1, stride = 1\n",
      " ## make_layer: in_planes=64\n",
      " ## make_layer: downsample = None\n",
      " ## make_layer 2: planes = 128,  blocks = 1, stride = 2\n",
      " ## make_layer: in_planes=64\n",
      " ## make_layer: downsample = Sequential(\n",
      "  (0): Conv2d(64, 128, kernel_size=(1, 1), stride=(2, 2))\n",
      "  (1): BatchNorm2d(128, eps=1e-05, momentum=0.1, affine=True, track_running_stats=True)\n",
      ")\n",
      " ## make_layer 3: planes = 256,  blocks = 1, stride = 2\n",
      " ## make_layer: in_planes=128\n",
      " ## make_layer: downsample = Sequential(\n",
      "  (0): Conv2d(128, 256, kernel_size=(1, 1), stride=(2, 2))\n",
      "  (1): BatchNorm2d(256, eps=1e-05, momentum=0.1, affine=True, track_running_stats=True)\n",
      ")\n",
      " ## make_layer 4: planes = 512,  blocks = 1, stride = 2\n",
      " ## make_layer: in_planes=256\n",
      " ## make_layer: downsample = Sequential(\n",
      "  (0): Conv2d(256, 512, kernel_size=(1, 1), stride=(2, 2))\n",
      "  (1): BatchNorm2d(512, eps=1e-05, momentum=0.1, affine=True, track_running_stats=True)\n",
      ")\n"
     ]
    }
   ],
   "source": [
    "model = ResNet8(ResBlock, in_channels=1, out_channels=64, num_classes = 2, \n",
    "                 dropout_fraction=0.25, debug=True, dropout=True).to(device)"
   ]
  },
  {
   "cell_type": "code",
   "execution_count": 147,
   "id": "35932233-dd89-4cb1-aafe-648c69fde0bc",
   "metadata": {},
   "outputs": [
    {
     "name": "stdout",
     "output_type": "stream",
     "text": [
      "  ResNet8: input data shape =>torch.Size([10, 1, 8, 8])\n",
      "  ResNet8: after conv1 =>torch.Size([10, 64, 8, 8])\n",
      "  ResNet8: after layer0 =>torch.Size([10, 64, 8, 8])\n",
      "  ResNet8: after layer1 =>torch.Size([10, 128, 4, 4])\n",
      "  ResNet8: after layer2 =>torch.Size([10, 256, 2, 2])\n",
      "  ResNet8: after layer3 =>torch.Size([10, 512, 1, 1])\n",
      "  ResNet8: after avgpool =>torch.Size([10, 512, 1, 1])\n",
      "  ResNet8: after flatten =>torch.Size([10, 512])\n",
      "  ResNet8: after fc =>torch.Size([10, 2])\n"
     ]
    },
    {
     "data": {
      "text/plain": [
       "tensor([[ 1.0435, -1.5842],\n",
       "        [ 0.7612, -0.1676],\n",
       "        [ 1.2299,  0.4068],\n",
       "        [ 0.5560, -1.5140],\n",
       "        [ 0.3335, -0.5792],\n",
       "        [ 0.5408,  0.0453],\n",
       "        [ 1.1362,  0.4734],\n",
       "        [ 1.0504,  0.7362],\n",
       "        [ 0.6457, -0.8150],\n",
       "        [ 1.3093, -0.4191]], device='cuda:0', grad_fn=<AddmmBackward0>)"
      ]
     },
     "execution_count": 147,
     "metadata": {},
     "output_type": "execute_result"
    }
   ],
   "source": [
    "model(torch.randn(10,1,8,8).to(device))"
   ]
  },
  {
   "cell_type": "code",
   "execution_count": 148,
   "id": "1a20293e-efdb-4903-b3bb-08c73a981e86",
   "metadata": {},
   "outputs": [
    {
     "name": "stdout",
     "output_type": "stream",
     "text": [
      "----------------------------------------------------------------\n",
      "        Layer (type)               Output Shape         Param #\n",
      "================================================================\n",
      "            Conv2d-1             [-1, 64, 8, 8]             640\n",
      "       BatchNorm2d-2             [-1, 64, 8, 8]             128\n",
      "              ReLU-3             [-1, 64, 8, 8]               0\n",
      "            Conv2d-4             [-1, 64, 8, 8]          36,928\n",
      "       BatchNorm2d-5             [-1, 64, 8, 8]             128\n",
      "              ReLU-6             [-1, 64, 8, 8]               0\n",
      "            Conv2d-7             [-1, 64, 8, 8]          36,928\n",
      "       BatchNorm2d-8             [-1, 64, 8, 8]             128\n",
      "              ReLU-9             [-1, 64, 8, 8]               0\n",
      "         ResBlock-10             [-1, 64, 8, 8]               0\n",
      "           Conv2d-11            [-1, 128, 4, 4]          73,856\n",
      "      BatchNorm2d-12            [-1, 128, 4, 4]             256\n",
      "             ReLU-13            [-1, 128, 4, 4]               0\n",
      "           Conv2d-14            [-1, 128, 4, 4]         147,584\n",
      "      BatchNorm2d-15            [-1, 128, 4, 4]             256\n",
      "           Conv2d-16            [-1, 128, 4, 4]           8,320\n",
      "      BatchNorm2d-17            [-1, 128, 4, 4]             256\n",
      "             ReLU-18            [-1, 128, 4, 4]               0\n",
      "         ResBlock-19            [-1, 128, 4, 4]               0\n",
      "           Conv2d-20            [-1, 256, 2, 2]         295,168\n",
      "      BatchNorm2d-21            [-1, 256, 2, 2]             512\n",
      "             ReLU-22            [-1, 256, 2, 2]               0\n",
      "           Conv2d-23            [-1, 256, 2, 2]         590,080\n",
      "      BatchNorm2d-24            [-1, 256, 2, 2]             512\n",
      "           Conv2d-25            [-1, 256, 2, 2]          33,024\n",
      "      BatchNorm2d-26            [-1, 256, 2, 2]             512\n",
      "             ReLU-27            [-1, 256, 2, 2]               0\n",
      "         ResBlock-28            [-1, 256, 2, 2]               0\n",
      "           Conv2d-29            [-1, 512, 1, 1]       1,180,160\n",
      "      BatchNorm2d-30            [-1, 512, 1, 1]           1,024\n",
      "             ReLU-31            [-1, 512, 1, 1]               0\n",
      "           Conv2d-32            [-1, 512, 1, 1]       2,359,808\n",
      "      BatchNorm2d-33            [-1, 512, 1, 1]           1,024\n",
      "           Conv2d-34            [-1, 512, 1, 1]         131,584\n",
      "      BatchNorm2d-35            [-1, 512, 1, 1]           1,024\n",
      "             ReLU-36            [-1, 512, 1, 1]               0\n",
      "         ResBlock-37            [-1, 512, 1, 1]               0\n",
      "        AvgPool2d-38            [-1, 512, 1, 1]               0\n",
      "          Dropout-39                  [-1, 512]               0\n",
      "           Linear-40                    [-1, 2]           1,026\n",
      "================================================================\n",
      "Total params: 4,900,866\n",
      "Trainable params: 4,900,866\n",
      "Non-trainable params: 0\n",
      "----------------------------------------------------------------\n",
      "Input size (MB): 0.00\n",
      "Forward/backward pass size (MB): 0.57\n",
      "Params size (MB): 18.70\n",
      "Estimated Total Size (MB): 19.26\n",
      "----------------------------------------------------------------\n"
     ]
    }
   ],
   "source": [
    "summary(model,(1,8,8))"
   ]
  },
  {
   "cell_type": "code",
   "execution_count": 149,
   "id": "2636e573-ac24-45c9-a32a-766ad7aeebdc",
   "metadata": {},
   "outputs": [],
   "source": [
    "optimizer= optim.Adam(model.parameters(), lr=0.001)"
   ]
  },
  {
   "cell_type": "code",
   "execution_count": 150,
   "id": "2f7a58a0-9541-41fc-a65c-26cf44a7ecc9",
   "metadata": {},
   "outputs": [
    {
     "name": "stdout",
     "output_type": "stream",
     "text": [
      "Training with  ->229760 images\n",
      "size of train loader  ->3590 images\n",
      "Evaluating with  ->65664 images\n",
      "size of eval loader  ->1026 images\n",
      "Classification  ->True\n",
      "Running for epochs ->10\n",
      "\n",
      "EPOCH 0\n",
      "training step: size of sample 3590\n",
      "Validation step: size of sample 1026\n",
      "--- EPOCH 0 AVG TRAIN LOSS: 0.6636898443227359\n",
      "--- EPOCH 0 AVG VAL LOSS: 0.6399174657946209\n",
      "Accuracy on the 1026 validation images: 60.171226865846286 %\n",
      "\n",
      "EPOCH 1\n",
      "training step: size of sample 3590\n",
      "Validation step: size of sample 1026\n",
      "--- EPOCH 1 AVG TRAIN LOSS: 0.6258768464197355\n",
      "--- EPOCH 1 AVG VAL LOSS: 0.6289099417118533\n",
      "Accuracy on the 1026 validation images: 61.72065448446672 %\n",
      "\n",
      "EPOCH 2\n",
      "training step: size of sample 3590\n",
      "Validation step: size of sample 1026\n",
      "--- EPOCH 2 AVG TRAIN LOSS: 0.6155670380857994\n",
      "--- EPOCH 2 AVG VAL LOSS: 0.6088567728768548\n",
      "Accuracy on the 1026 validation images: 63.16769701815629 %\n",
      "\n",
      "EPOCH 3\n",
      "training step: size of sample 3590\n",
      "Validation step: size of sample 1026\n",
      "--- EPOCH 3 AVG TRAIN LOSS: 0.6079635032704281\n",
      "--- EPOCH 3 AVG VAL LOSS: 0.613394575335129\n",
      "Accuracy on the 1026 validation images: 62.330089513817114 %\n",
      "\n",
      "EPOCH 4\n",
      "training step: size of sample 3590\n",
      "Validation step: size of sample 1026\n",
      "--- EPOCH 4 AVG TRAIN LOSS: 0.6022655453356528\n",
      "--- EPOCH 4 AVG VAL LOSS: 0.5995854204393503\n",
      "Accuracy on the 1026 validation images: 63.73032743725257 %\n",
      "\n",
      "EPOCH 5\n",
      "training step: size of sample 3590\n",
      "Validation step: size of sample 1026\n",
      "--- EPOCH 5 AVG TRAIN LOSS: 0.597596935541849\n",
      "--- EPOCH 5 AVG VAL LOSS: 0.5956236490903543\n",
      "Accuracy on the 1026 validation images: 64.01505548296507 %\n",
      "\n",
      "EPOCH 6\n",
      "training step: size of sample 3590\n",
      "Validation step: size of sample 1026\n",
      "--- EPOCH 6 AVG TRAIN LOSS: 0.5935031679928469\n",
      "--- EPOCH 6 AVG VAL LOSS: 0.5910140037188056\n",
      "Accuracy on the 1026 validation images: 64.52893109971332 %\n",
      "\n",
      "EPOCH 7\n",
      "training step: size of sample 3590\n",
      "Validation step: size of sample 1026\n",
      "--- EPOCH 7 AVG TRAIN LOSS: 0.5898512949435492\n",
      "--- EPOCH 7 AVG VAL LOSS: 0.6235827221217444\n",
      "Accuracy on the 1026 validation images: 61.696277083292706 %\n",
      "\n",
      "EPOCH 8\n",
      "training step: size of sample 3590\n",
      "Validation step: size of sample 1026\n",
      "--- EPOCH 8 AVG TRAIN LOSS: 0.5868383370900221\n",
      "--- EPOCH 8 AVG VAL LOSS: 0.5947316387998662\n",
      "Accuracy on the 1026 validation images: 63.959475008288315 %\n",
      "\n",
      "EPOCH 9\n",
      "training step: size of sample 3590\n",
      "Validation step: size of sample 1026\n",
      "--- EPOCH 9 AVG TRAIN LOSS: 0.5836956758685099\n",
      "--- EPOCH 9 AVG VAL LOSS: 0.5956160900188469\n",
      "Accuracy on the 1026 validation images: 64.29783333658365 %\n"
     ]
    }
   ],
   "source": [
    "train_losses, val_losses, acc = x_train_cnn(train_loader, val_loader, model, optimizer, device, criterion, \n",
    "                                            batch_size=64, xc=True,\n",
    "                                            iprnt=100, epochs=10)"
   ]
  },
  {
   "cell_type": "code",
   "execution_count": 151,
   "id": "90ccb21f-a35b-4991-99aa-489e2da5dbdf",
   "metadata": {},
   "outputs": [],
   "source": [
    "optimizer= optim.Adam(model.parameters(), lr=0.01)"
   ]
  },
  {
   "cell_type": "code",
   "execution_count": 152,
   "id": "9f9aaa39-8d04-4706-9950-1f731b1c6a25",
   "metadata": {},
   "outputs": [
    {
     "name": "stdout",
     "output_type": "stream",
     "text": [
      "Training with  ->229760 images\n",
      "size of train loader  ->3590 images\n",
      "Evaluating with  ->65664 images\n",
      "size of eval loader  ->1026 images\n",
      "Classification  ->True\n",
      "Running for epochs ->10\n",
      "\n",
      "EPOCH 0\n",
      "training step: size of sample 3590\n",
      "Validation step: size of sample 1026\n",
      "--- EPOCH 0 AVG TRAIN LOSS: 0.6293685786073254\n",
      "--- EPOCH 0 AVG VAL LOSS: 0.6811383232968128\n",
      "Accuracy on the 1026 validation images: 58.92797940597149 %\n",
      "\n",
      "EPOCH 1\n",
      "training step: size of sample 3590\n",
      "Validation step: size of sample 1026\n",
      "--- EPOCH 1 AVG TRAIN LOSS: 0.614358052835491\n",
      "--- EPOCH 1 AVG VAL LOSS: 0.6081063697735468\n",
      "Accuracy on the 1026 validation images: 63.22132730073912 %\n",
      "\n",
      "EPOCH 2\n",
      "training step: size of sample 3590\n",
      "Validation step: size of sample 1026\n",
      "--- EPOCH 2 AVG TRAIN LOSS: 0.6062959108844109\n",
      "--- EPOCH 2 AVG VAL LOSS: 0.6108398331187622\n",
      "Accuracy on the 1026 validation images: 63.35979093940753 %\n",
      "\n",
      "EPOCH 3\n",
      "training step: size of sample 3590\n",
      "Validation step: size of sample 1026\n",
      "--- EPOCH 3 AVG TRAIN LOSS: 0.6001518348382376\n",
      "--- EPOCH 3 AVG VAL LOSS: 0.6084079561758692\n",
      "Accuracy on the 1026 validation images: 63.7244768609708 %\n",
      "\n",
      "EPOCH 4\n",
      "training step: size of sample 3590\n",
      "Validation step: size of sample 1026\n",
      "--- EPOCH 4 AVG TRAIN LOSS: 0.5962629227170041\n",
      "--- EPOCH 4 AVG VAL LOSS: 0.5948132562068006\n",
      "Accuracy on the 1026 validation images: 64.10963979952025 %\n",
      "\n",
      "EPOCH 5\n",
      "training step: size of sample 3590\n",
      "Validation step: size of sample 1026\n",
      "--- EPOCH 5 AVG TRAIN LOSS: 0.5925933620059722\n",
      "--- EPOCH 5 AVG VAL LOSS: 0.6011293820354209\n",
      "Accuracy on the 1026 validation images: 63.602589855100724 %\n",
      "\n",
      "EPOCH 6\n",
      "training step: size of sample 3590\n",
      "Validation step: size of sample 1026\n",
      "--- EPOCH 6 AVG TRAIN LOSS: 0.5893396250716824\n",
      "--- EPOCH 6 AVG VAL LOSS: 0.5950416030242429\n",
      "Accuracy on the 1026 validation images: 64.33098660218032 %\n",
      "\n",
      "EPOCH 7\n",
      "training step: size of sample 3590\n",
      "Validation step: size of sample 1026\n",
      "--- EPOCH 7 AVG TRAIN LOSS: 0.5866121649161022\n",
      "--- EPOCH 7 AVG VAL LOSS: 0.5909572120821267\n",
      "Accuracy on the 1026 validation images: 64.20909959631024 %\n",
      "\n",
      "EPOCH 8\n",
      "training step: size of sample 3590\n",
      "Validation step: size of sample 1026\n",
      "--- EPOCH 8 AVG TRAIN LOSS: 0.5840716387485063\n",
      "--- EPOCH 8 AVG VAL LOSS: 0.5907410886029751\n",
      "Accuracy on the 1026 validation images: 64.76977982331259 %\n",
      "\n",
      "EPOCH 9\n",
      "training step: size of sample 3590\n",
      "Validation step: size of sample 1026\n",
      "--- EPOCH 9 AVG TRAIN LOSS: 0.5816428878845279\n",
      "--- EPOCH 9 AVG VAL LOSS: 0.5841673295400296\n",
      "Accuracy on the 1026 validation images: 65.3070577451879 %\n"
     ]
    }
   ],
   "source": [
    "train_losses, val_losses, acc = x_train_cnn(train_loader, val_loader, model, optimizer, device, criterion, \n",
    "                                            batch_size=64, xc=True,\n",
    "                                            iprnt=100, epochs=10)"
   ]
  },
  {
   "cell_type": "code",
   "execution_count": 153,
   "id": "3a2e0dcc-575b-4125-9898-adcc425ce3de",
   "metadata": {},
   "outputs": [
    {
     "data": {
      "image/png": "[encoded data removed]",
      "text/plain": [
       "<Figure size 600x400 with 1 Axes>"
      ]
     },
     "metadata": {},
     "output_type": "display_data"
    }
   ],
   "source": [
    "plot_loss(10, train_losses, val_losses,figsize=(6, 4))"
   ]
  },
  {
   "cell_type": "code",
   "execution_count": 154,
   "id": "bc17bbc4-a307-40ad-93fc-4f0d4edfd70a",
   "metadata": {},
   "outputs": [
    {
     "data": {
      "image/png": "[encoded data removed]",
      "text/plain": [
       "<Figure size 1000x400 with 1 Axes>"
      ]
     },
     "metadata": {},
     "output_type": "display_data"
    }
   ],
   "source": [
    "plot_accuracy(acc,figsize=(10, 4))"
   ]
  },
  {
   "cell_type": "code",
   "execution_count": null,
   "id": "22cfcc8a-a41e-4ee5-93af-d477127c5ccd",
   "metadata": {},
   "outputs": [],
   "source": []
  }
 ],
 "metadata": {
  "kernelspec": {
   "display_name": "Python 3 (ipykernel)",
   "language": "python",
   "name": "python3"
  },
  "language_info": {
   "codemirror_mode": {
    "name": "ipython",
    "version": 3
   },
   "file_extension": ".py",
   "mimetype": "text/x-python",
   "name": "python",
   "nbconvert_exporter": "python",
   "pygments_lexer": "ipython3",
   "version": "3.11.5"
  }
 },
 "nbformat": 4,
 "nbformat_minor": 5
}
