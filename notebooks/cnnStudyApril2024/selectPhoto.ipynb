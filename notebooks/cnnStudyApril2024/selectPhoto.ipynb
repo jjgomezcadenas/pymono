{
 "cells": [
  {
   "cell_type": "code",
   "execution_count": 2,
   "id": "b719fd32-ef86-4f11-a1d3-e48497d4e720",
   "metadata": {},
   "outputs": [],
   "source": [
    "import pandas as pd\n",
    "import matplotlib.pyplot as plt\n",
    "import numpy as np"
   ]
  },
  {
   "cell_type": "code",
   "execution_count": 3,
   "id": "f89a0d0f-332e-4953-a5a5-585643fa5732",
   "metadata": {},
   "outputs": [],
   "source": [
    "import os\n",
    "from tqdm import tqdm\n",
    "import glob\n",
    "import shutil\n",
    "from collections import namedtuple"
   ]
  },
  {
   "cell_type": "markdown",
   "id": "9399ca18-715d-4283-ae28-a8a4f5b24dac",
   "metadata": {},
   "source": [
    "## Functions"
   ]
  },
  {
   "cell_type": "code",
   "execution_count": 4,
   "id": "50d1e0a9-ac3b-437c-b8e1-5456c5c33b88",
   "metadata": {},
   "outputs": [],
   "source": [
    "def histoplot(var, xlabel, ylabel, bins=100, figsize=(4,4), title=\"\"):\n",
    "    fig, ax = plt.subplots(1, 1, figsize=(4,4))\n",
    "    h = plt.hist(var,bins)\n",
    "    ax.set_xlabel(xlabel)\n",
    "    ax.set_ylabel(ylabel)\n",
    "    ax.set_title(title)\n",
    "    return h[0],h[1]"
   ]
  },
  {
   "cell_type": "code",
   "execution_count": 5,
   "id": "1abc8821-0fd0-424d-bcdb-c0727bdd50fa",
   "metadata": {},
   "outputs": [],
   "source": [
    "def event_ekin(df):\n",
    "    grdf = df.groupby('event_id')\n",
    "    ekin = grdf['kin_energy'].sum()\n",
    "    return ekin"
   ]
  },
  {
   "cell_type": "code",
   "execution_count": 6,
   "id": "f3442c9b-b666-4262-bcc8-95d9fe419930",
   "metadata": {},
   "outputs": [],
   "source": [
    "def event_size(df):\n",
    "    return len(np.unique(df.event_id))"
   ]
  },
  {
   "cell_type": "code",
   "execution_count": 7,
   "id": "fdddfcd0-24a9-4dc8-9606-ea54a1e94c59",
   "metadata": {},
   "outputs": [],
   "source": [
    "def select_gammas_interact_in_crystal(df):\n",
    "    grdf = df.groupby('event_id')\n",
    "    return grdf.filter(lambda x: ((x.mother_id == 0) & (x['final_volume'] == 'CRYSTAL')).any() )\n",
    "\n"
   ]
  },
  {
   "cell_type": "code",
   "execution_count": 8,
   "id": "0e9d45cc-07a5-4386-8a31-962dac8c9a8e",
   "metadata": {},
   "outputs": [],
   "source": [
    "def concat_df(file_paths, start=0, end=10):\n",
    "    DF =[]\n",
    "    for file in file_paths[start:end]:\n",
    "        gammas = pd.read_hdf(file,\"MC/particles\")\n",
    "        DF.append(gammas.drop(['initial_momentum_x', 'initial_momentum_y', 'initial_momentum_z',\n",
    "                 'final_momentum_x', 'final_momentum_y', 'final_momentum_z',\n",
    "                'final_proc', 'final_t'], axis=1))\n",
    "                      \n",
    "    return pd.concat(DF, axis=0)"
   ]
  },
  {
   "cell_type": "code",
   "execution_count": 9,
   "id": "bb99318c-e9dc-4cd6-85f8-8d17d88052d5",
   "metadata": {},
   "outputs": [],
   "source": [
    "def filter_df(file_paths, start=0, end=10, eth=0.001, lmax=60, prnt=10):\n",
    "    \"\"\"\n",
    "    Filter and reduce the DF\n",
    "    1. Select events in which gammas interact in crystal\n",
    "    2. Remove primary gammas\n",
    "    3. Impose threshold in energy and length\n",
    "    4. Drop columns not needed, create columns needed for barycenter and rename fields\n",
    "    5. Concat files\n",
    "    \"\"\"\n",
    "\n",
    "    DF =[]\n",
    "    XF=[]\n",
    "    for i, file in tqdm(enumerate(file_paths[start:end])):\n",
    "    #for i, file in enumerate(file_paths[start:end]):\n",
    "        if i%prnt == 0:\n",
    "            print(f\"Reading data frame {i}\")\n",
    "        gammas = pd.read_hdf(file,\"MC/particles\")\n",
    "        gdf1 = gammas.drop(['initial_momentum_x', 'initial_momentum_y', 'initial_momentum_z',\n",
    "                 'final_momentum_x', 'final_momentum_y', 'final_momentum_z',\n",
    "                'final_proc', 'final_t'], axis=1)\n",
    "\n",
    "        if i%prnt == 0:\n",
    "            print(f\"Select events in which gammas interact in crystal:\")\n",
    "        gdf2 = select_gammas_interact_in_crystal(gdf1)\n",
    "        \n",
    "        if i%prnt == 0:\n",
    "            print(f\"Remove primary gammas: \")\n",
    "        gdf3 = gdf2[gdf2['mother_id'] != 0]\n",
    "\n",
    "        if i%prnt == 0:\n",
    "            print(f\"Remove particles not coming from primaryC\") \n",
    "        grdf = gdf3.groupby('event_id')\n",
    "        gdf4 = grdf.apply(lambda x: x[x['mother_id'] == 1]).reset_index(drop=True)\n",
    "\n",
    "        if i%prnt == 0:\n",
    "            print(f\"Impose threshold in energy and length\") \n",
    "        gdf5 = gdf4[(gdf4['kin_energy'] >eth) & (gdf4.length<lmax)]\n",
    "\n",
    "        if i%prnt == 0:\n",
    "            print(f\"Drop some extra columns and rename fields\") \n",
    "        gdf6 = gdf5.drop(['final_x', 'final_y', 'final_z', 'length',\n",
    "                  'primary', 'mother_id', 'initial_volume', 'final_volume'], axis=1)\n",
    "\n",
    "        gdf6.rename(columns={'initial_x': 'x'}, inplace=True)\n",
    "        gdf6.rename(columns={'initial_y': 'y'}, inplace=True)\n",
    "        gdf6.rename(columns={'initial_z': 'z'}, inplace=True)\n",
    "        #gdf6.rename(columns={'kin_energy': 'E'}, inplace=True)\n",
    "\n",
    "        XF.append(event_size(gdf6)/event_size(gammas))\n",
    "        DF.append(gdf6)\n",
    "\n",
    "    print(f\"now concat:\") \n",
    "    df = pd.concat(DF, axis=0)\n",
    "    xf = np.mean(np.array(XF))\n",
    "    return df, xf\n"
   ]
  },
  {
   "cell_type": "code",
   "execution_count": 40,
   "id": "f0252955-d476-411d-9a6c-afec5b846f6c",
   "metadata": {},
   "outputs": [
    {
     "data": {
      "text/plain": [
       "True"
      ]
     },
     "execution_count": 40,
     "metadata": {},
     "output_type": "execute_result"
    }
   ],
   "source": [
    "eval(\"1==1\")"
   ]
  },
  {
   "cell_type": "code",
   "execution_count": 41,
   "id": "05c9c5d1-d3f8-4a48-9e78-ff17ce0dde82",
   "metadata": {},
   "outputs": [],
   "source": [
    "def efilter(ecut, op=\">\"):\n",
    "    def filter_ekin(group):\n",
    "        if op == \">\":\n",
    "            return group[group['kin_energy'] > ecut]\n",
    "        elif op == \"=\":\n",
    "            return group[group['kin_energy'] == ecut]\n",
    "        elif op == \"<\":\n",
    "            return group[group['kin_energy'] < ecut]\n",
    "        else:\n",
    "            print(\"unknown operation\")\n",
    "            return False\n",
    "    return filter_ekin\n",
    "    "
   ]
  },
  {
   "cell_type": "code",
   "execution_count": 47,
   "id": "f15fcd22-e35a-49c5-8dba-93b01f78cae3",
   "metadata": {},
   "outputs": [],
   "source": [
    "def get_folder_out(folder_h5, lbl=\"phe\"):\n",
    "    ns = folder_h5.split(\"_\")[:-1] # remove \"h5\" or \"NX\"\n",
    "    ns.append(lbl)\n",
    "    return '_'.join(ns)"
   ]
  },
  {
   "cell_type": "code",
   "execution_count": 12,
   "id": "fa976f38-4411-41b5-b2b3-005a510fecbf",
   "metadata": {},
   "outputs": [],
   "source": [
    "def write_images(events, ifolder, ofolder, \n",
    "                 events_per_file, got_positions, crystal_width, sipm_width, h5fpfx):\n",
    "   \n",
    "    events[\"file_id\"] = (events[\"event_id\"] // events_per_file).astype(int)\n",
    "\n",
    "    for group_name, group_data in tqdm(events.groupby(\"file_id\")):\n",
    "        nexus_file = f\"{ifolder}/{h5fpfx}.{group_name}.h5\"\n",
    "        print(f\"reading nexus file = {nexus_file}\")\n",
    "\n",
    "        if not got_positions:\n",
    "            monolithic_csi_positions = pd.read_hdf(nexus_file, \"MC/sns_positions\")\n",
    "            sensor_ids = np.array(monolithic_csi_positions['sensor_id'])\n",
    "            pos_dict = {}\n",
    "            for sensor_id in sensor_ids:\n",
    "                pos_dict[sensor_id] = {'x': int((monolithic_csi_positions.query(f\"sensor_id=={sensor_id}\")['x'].iloc(0)[0]+crystal_width/2)/sipm_width),\n",
    "                                       'y': int((monolithic_csi_positions.query(f\"sensor_id=={sensor_id}\")['y'].iloc(0)[0]+crystal_width/2)/sipm_width)}\n",
    "            got_positions = True\n",
    "\n",
    "        sns_response = pd.read_hdf(nexus_file, \"MC/sns_response\")\n",
    "        this_image_events = group_data[\"event_id\"] \n",
    "        sns_response = sns_response[sns_response[\"event_id\"].isin(this_image_events)]\n",
    "\n",
    "        events = np.unique(sns_response['event_id'])\n",
    "        images = np.zeros((events.shape[0],crystal_width//sipm_width,crystal_width//sipm_width))\n",
    "        ev_wfs = sns_response.groupby(\"event_id\")\n",
    "        j = 0\n",
    "        for _, ev_wf in ev_wfs:\n",
    "            average_position = ev_wf.groupby(\"sensor_id\").sum()\n",
    "            for sid in average_position.index:\n",
    "                position_x = pos_dict[sid]['x']\n",
    "                position_y = pos_dict[sid]['y']\n",
    "                images[j, position_x, position_y] += average_position['charge'][sid]\n",
    "            j += 1\n",
    "\n",
    "        print(f\"saving file = {ofolder}/images_{group_name}.npy\")\n",
    "\n",
    "        np.save(f\"{ofolder}/images_{group_name}.npy\", images.astype(np.float32))"
   ]
  },
  {
   "cell_type": "markdown",
   "id": "a4696f8a-ba92-4bad-8f85-b49e6b76b7bb",
   "metadata": {},
   "source": [
    "## Globals"
   ]
  },
  {
   "cell_type": "code",
   "execution_count": 13,
   "id": "8626f0bb-d3f7-463f-9988-1964c5a0a5bc",
   "metadata": {},
   "outputs": [],
   "source": [
    "path_to_data=os.environ['MONOLITH_DATA'] "
   ]
  },
  {
   "cell_type": "code",
   "execution_count": 14,
   "id": "32f9d82f-3439-45c1-ac96-1764f5fd52cc",
   "metadata": {},
   "outputs": [],
   "source": [
    "npr=10\n",
    "eth = 0.001 # in keV\n",
    "lmax = 60 # in mm"
   ]
  },
  {
   "cell_type": "markdown",
   "id": "271263e0-fe69-4233-8966-f8667ba7caa6",
   "metadata": {},
   "source": [
    "## Code"
   ]
  },
  {
   "cell_type": "code",
   "execution_count": 15,
   "id": "be7d3db5-3aea-4f67-864a-c3a48fff9ba7",
   "metadata": {},
   "outputs": [],
   "source": [
    "dir = os.path.join(path_to_data,\"CsI_6x6_fullwrap_50k_0MHzDC_PTFE_LUT_gamma_h5\")"
   ]
  },
  {
   "cell_type": "code",
   "execution_count": 16,
   "id": "b595ad90-fd9d-40b6-a9ab-996e68e28ca7",
   "metadata": {},
   "outputs": [],
   "source": [
    "# Define the pattern to match all .txt files in the 'documents' directory\n",
    "pattern = f'{dir}/*.h5'\n",
    "\n",
    "# Use glob to find all files matching the pattern\n",
    "file_paths = glob.glob(pattern)\n",
    "\n"
   ]
  },
  {
   "cell_type": "code",
   "execution_count": 17,
   "id": "9e983b2a-47d3-4a3f-a8e6-8db05c906c9a",
   "metadata": {},
   "outputs": [
    {
     "name": "stderr",
     "output_type": "stream",
     "text": [
      "0it [00:00, ?it/s]"
     ]
    },
    {
     "name": "stdout",
     "output_type": "stream",
     "text": [
      "Reading data frame 0\n",
      "Select events in which gammas interact in crystal:\n",
      "Remove primary gammas: \n",
      "Remove particles not coming from primaryC\n"
     ]
    },
    {
     "name": "stderr",
     "output_type": "stream",
     "text": [
      "1it [00:03,  3.38s/it]"
     ]
    },
    {
     "name": "stdout",
     "output_type": "stream",
     "text": [
      "Impose threshold in energy and length\n",
      "Drop some extra columns and rename fields\n"
     ]
    },
    {
     "name": "stderr",
     "output_type": "stream",
     "text": [
      "10it [00:23,  2.23s/it]"
     ]
    },
    {
     "name": "stdout",
     "output_type": "stream",
     "text": [
      "Reading data frame 10\n",
      "Select events in which gammas interact in crystal:\n",
      "Remove primary gammas: \n",
      "Remove particles not coming from primaryC\n"
     ]
    },
    {
     "name": "stderr",
     "output_type": "stream",
     "text": [
      "11it [00:25,  2.28s/it]"
     ]
    },
    {
     "name": "stdout",
     "output_type": "stream",
     "text": [
      "Impose threshold in energy and length\n",
      "Drop some extra columns and rename fields\n"
     ]
    },
    {
     "name": "stderr",
     "output_type": "stream",
     "text": [
      "20it [00:46,  2.21s/it]"
     ]
    },
    {
     "name": "stdout",
     "output_type": "stream",
     "text": [
      "Reading data frame 20\n",
      "Select events in which gammas interact in crystal:\n",
      "Remove primary gammas: \n",
      "Remove particles not coming from primaryC\n"
     ]
    },
    {
     "name": "stderr",
     "output_type": "stream",
     "text": [
      "21it [00:48,  2.29s/it]"
     ]
    },
    {
     "name": "stdout",
     "output_type": "stream",
     "text": [
      "Impose threshold in energy and length\n",
      "Drop some extra columns and rename fields\n"
     ]
    },
    {
     "name": "stderr",
     "output_type": "stream",
     "text": [
      "30it [01:11,  2.62s/it]"
     ]
    },
    {
     "name": "stdout",
     "output_type": "stream",
     "text": [
      "Reading data frame 30\n",
      "Select events in which gammas interact in crystal:\n",
      "Remove primary gammas: \n",
      "Remove particles not coming from primaryC\n"
     ]
    },
    {
     "name": "stderr",
     "output_type": "stream",
     "text": [
      "31it [01:13,  2.53s/it]"
     ]
    },
    {
     "name": "stdout",
     "output_type": "stream",
     "text": [
      "Impose threshold in energy and length\n",
      "Drop some extra columns and rename fields\n"
     ]
    },
    {
     "name": "stderr",
     "output_type": "stream",
     "text": [
      "40it [01:34,  2.31s/it]"
     ]
    },
    {
     "name": "stdout",
     "output_type": "stream",
     "text": [
      "Reading data frame 40\n",
      "Select events in which gammas interact in crystal:\n",
      "Remove primary gammas: \n",
      "Remove particles not coming from primaryC\n"
     ]
    },
    {
     "name": "stderr",
     "output_type": "stream",
     "text": [
      "41it [01:37,  2.55s/it]"
     ]
    },
    {
     "name": "stdout",
     "output_type": "stream",
     "text": [
      "Impose threshold in energy and length\n",
      "Drop some extra columns and rename fields\n"
     ]
    },
    {
     "name": "stderr",
     "output_type": "stream",
     "text": [
      "50it [02:01,  2.58s/it]"
     ]
    },
    {
     "name": "stdout",
     "output_type": "stream",
     "text": [
      "Reading data frame 50\n",
      "Select events in which gammas interact in crystal:\n",
      "Remove primary gammas: \n",
      "Remove particles not coming from primaryC\n"
     ]
    },
    {
     "name": "stderr",
     "output_type": "stream",
     "text": [
      "51it [02:04,  2.59s/it]"
     ]
    },
    {
     "name": "stdout",
     "output_type": "stream",
     "text": [
      "Impose threshold in energy and length\n",
      "Drop some extra columns and rename fields\n"
     ]
    },
    {
     "name": "stderr",
     "output_type": "stream",
     "text": [
      "60it [02:29,  2.71s/it]"
     ]
    },
    {
     "name": "stdout",
     "output_type": "stream",
     "text": [
      "Reading data frame 60\n",
      "Select events in which gammas interact in crystal:\n",
      "Remove primary gammas: \n",
      "Remove particles not coming from primaryC\n"
     ]
    },
    {
     "name": "stderr",
     "output_type": "stream",
     "text": [
      "61it [02:31,  2.68s/it]"
     ]
    },
    {
     "name": "stdout",
     "output_type": "stream",
     "text": [
      "Impose threshold in energy and length\n",
      "Drop some extra columns and rename fields\n"
     ]
    },
    {
     "name": "stderr",
     "output_type": "stream",
     "text": [
      "70it [02:54,  2.41s/it]"
     ]
    },
    {
     "name": "stdout",
     "output_type": "stream",
     "text": [
      "Reading data frame 70\n",
      "Select events in which gammas interact in crystal:\n",
      "Remove primary gammas: \n",
      "Remove particles not coming from primaryC\n"
     ]
    },
    {
     "name": "stderr",
     "output_type": "stream",
     "text": [
      "71it [02:56,  2.39s/it]"
     ]
    },
    {
     "name": "stdout",
     "output_type": "stream",
     "text": [
      "Impose threshold in energy and length\n",
      "Drop some extra columns and rename fields\n"
     ]
    },
    {
     "name": "stderr",
     "output_type": "stream",
     "text": [
      "80it [03:18,  2.43s/it]"
     ]
    },
    {
     "name": "stdout",
     "output_type": "stream",
     "text": [
      "Reading data frame 80\n",
      "Select events in which gammas interact in crystal:\n",
      "Remove primary gammas: \n",
      "Remove particles not coming from primaryC\n"
     ]
    },
    {
     "name": "stderr",
     "output_type": "stream",
     "text": [
      "81it [03:20,  2.41s/it]"
     ]
    },
    {
     "name": "stdout",
     "output_type": "stream",
     "text": [
      "Impose threshold in energy and length\n",
      "Drop some extra columns and rename fields\n"
     ]
    },
    {
     "name": "stderr",
     "output_type": "stream",
     "text": [
      "90it [03:43,  2.55s/it]"
     ]
    },
    {
     "name": "stdout",
     "output_type": "stream",
     "text": [
      "Reading data frame 90\n",
      "Select events in which gammas interact in crystal:\n",
      "Remove primary gammas: \n",
      "Remove particles not coming from primaryC\n"
     ]
    },
    {
     "name": "stderr",
     "output_type": "stream",
     "text": [
      "91it [03:45,  2.48s/it]"
     ]
    },
    {
     "name": "stdout",
     "output_type": "stream",
     "text": [
      "Impose threshold in energy and length\n",
      "Drop some extra columns and rename fields\n"
     ]
    },
    {
     "name": "stderr",
     "output_type": "stream",
     "text": [
      "100it [04:06,  2.47s/it]"
     ]
    },
    {
     "name": "stdout",
     "output_type": "stream",
     "text": [
      "now concat:\n"
     ]
    },
    {
     "name": "stderr",
     "output_type": "stream",
     "text": [
      "\n"
     ]
    }
   ],
   "source": [
    "gdf, xdf = filter_df(file_paths, start=0, end=len(file_paths), eth=0.001, lmax=60, prnt=10)"
   ]
  },
  {
   "cell_type": "code",
   "execution_count": 18,
   "id": "ceae41e7-0559-4cfb-a873-40fb5667afaf",
   "metadata": {},
   "outputs": [
    {
     "data": {
      "text/html": [
       "<div>\n",
       "<style scoped>\n",
       "    .dataframe tbody tr th:only-of-type {\n",
       "        vertical-align: middle;\n",
       "    }\n",
       "\n",
       "    .dataframe tbody tr th {\n",
       "        vertical-align: top;\n",
       "    }\n",
       "\n",
       "    .dataframe thead th {\n",
       "        text-align: right;\n",
       "    }\n",
       "</style>\n",
       "<table border=\"1\" class=\"dataframe\">\n",
       "  <thead>\n",
       "    <tr style=\"text-align: right;\">\n",
       "      <th></th>\n",
       "      <th>event_id</th>\n",
       "      <th>particle_id</th>\n",
       "      <th>particle_name</th>\n",
       "      <th>x</th>\n",
       "      <th>y</th>\n",
       "      <th>z</th>\n",
       "      <th>initial_t</th>\n",
       "      <th>kin_energy</th>\n",
       "      <th>creator_proc</th>\n",
       "    </tr>\n",
       "  </thead>\n",
       "  <tbody>\n",
       "    <tr>\n",
       "      <th>0</th>\n",
       "      <td>680002</td>\n",
       "      <td>2</td>\n",
       "      <td>e-</td>\n",
       "      <td>17.471272</td>\n",
       "      <td>-21.407799</td>\n",
       "      <td>15.194095</td>\n",
       "      <td>0.070294</td>\n",
       "      <td>0.212338</td>\n",
       "      <td>compt</td>\n",
       "    </tr>\n",
       "    <tr>\n",
       "      <th>1</th>\n",
       "      <td>680002</td>\n",
       "      <td>25621</td>\n",
       "      <td>e-</td>\n",
       "      <td>16.308014</td>\n",
       "      <td>-8.935721</td>\n",
       "      <td>20.914680</td>\n",
       "      <td>0.116228</td>\n",
       "      <td>0.002909</td>\n",
       "      <td>compt</td>\n",
       "    </tr>\n",
       "    <tr>\n",
       "      <th>2</th>\n",
       "      <td>680002</td>\n",
       "      <td>26109</td>\n",
       "      <td>e-</td>\n",
       "      <td>15.823273</td>\n",
       "      <td>-6.602371</td>\n",
       "      <td>22.563520</td>\n",
       "      <td>0.125894</td>\n",
       "      <td>0.003268</td>\n",
       "      <td>phot</td>\n",
       "    </tr>\n",
       "    <tr>\n",
       "      <th>3</th>\n",
       "      <td>680002</td>\n",
       "      <td>26108</td>\n",
       "      <td>e-</td>\n",
       "      <td>15.823273</td>\n",
       "      <td>-6.602371</td>\n",
       "      <td>22.563520</td>\n",
       "      <td>0.125894</td>\n",
       "      <td>0.003892</td>\n",
       "      <td>phot</td>\n",
       "    </tr>\n",
       "    <tr>\n",
       "      <th>4</th>\n",
       "      <td>680002</td>\n",
       "      <td>26107</td>\n",
       "      <td>e-</td>\n",
       "      <td>15.823273</td>\n",
       "      <td>-6.602371</td>\n",
       "      <td>22.563520</td>\n",
       "      <td>0.125894</td>\n",
       "      <td>0.025294</td>\n",
       "      <td>phot</td>\n",
       "    </tr>\n",
       "    <tr>\n",
       "      <th>5</th>\n",
       "      <td>680002</td>\n",
       "      <td>26106</td>\n",
       "      <td>e-</td>\n",
       "      <td>15.823273</td>\n",
       "      <td>-6.602371</td>\n",
       "      <td>22.563520</td>\n",
       "      <td>0.125894</td>\n",
       "      <td>0.258608</td>\n",
       "      <td>phot</td>\n",
       "    </tr>\n",
       "    <tr>\n",
       "      <th>6</th>\n",
       "      <td>680005</td>\n",
       "      <td>3</td>\n",
       "      <td>e-</td>\n",
       "      <td>6.790020</td>\n",
       "      <td>7.181014</td>\n",
       "      <td>32.762108</td>\n",
       "      <td>0.128651</td>\n",
       "      <td>0.005044</td>\n",
       "      <td>compt</td>\n",
       "    </tr>\n",
       "    <tr>\n",
       "      <th>7</th>\n",
       "      <td>680005</td>\n",
       "      <td>2</td>\n",
       "      <td>e-</td>\n",
       "      <td>6.790020</td>\n",
       "      <td>7.181014</td>\n",
       "      <td>32.762108</td>\n",
       "      <td>0.128651</td>\n",
       "      <td>0.222331</td>\n",
       "      <td>compt</td>\n",
       "    </tr>\n",
       "    <tr>\n",
       "      <th>8</th>\n",
       "      <td>680005</td>\n",
       "      <td>27589</td>\n",
       "      <td>e-</td>\n",
       "      <td>15.265637</td>\n",
       "      <td>4.257829</td>\n",
       "      <td>35.750702</td>\n",
       "      <td>0.160174</td>\n",
       "      <td>0.080053</td>\n",
       "      <td>compt</td>\n",
       "    </tr>\n",
       "    <tr>\n",
       "      <th>9</th>\n",
       "      <td>680005</td>\n",
       "      <td>37070</td>\n",
       "      <td>e-</td>\n",
       "      <td>18.203693</td>\n",
       "      <td>2.432415</td>\n",
       "      <td>30.927778</td>\n",
       "      <td>0.179971</td>\n",
       "      <td>0.003284</td>\n",
       "      <td>phot</td>\n",
       "    </tr>\n",
       "  </tbody>\n",
       "</table>\n",
       "</div>"
      ],
      "text/plain": [
       "   event_id  particle_id particle_name          x          y          z  \\\n",
       "0    680002            2            e-  17.471272 -21.407799  15.194095   \n",
       "1    680002        25621            e-  16.308014  -8.935721  20.914680   \n",
       "2    680002        26109            e-  15.823273  -6.602371  22.563520   \n",
       "3    680002        26108            e-  15.823273  -6.602371  22.563520   \n",
       "4    680002        26107            e-  15.823273  -6.602371  22.563520   \n",
       "5    680002        26106            e-  15.823273  -6.602371  22.563520   \n",
       "6    680005            3            e-   6.790020   7.181014  32.762108   \n",
       "7    680005            2            e-   6.790020   7.181014  32.762108   \n",
       "8    680005        27589            e-  15.265637   4.257829  35.750702   \n",
       "9    680005        37070            e-  18.203693   2.432415  30.927778   \n",
       "\n",
       "   initial_t  kin_energy creator_proc  \n",
       "0   0.070294    0.212338        compt  \n",
       "1   0.116228    0.002909        compt  \n",
       "2   0.125894    0.003268         phot  \n",
       "3   0.125894    0.003892         phot  \n",
       "4   0.125894    0.025294         phot  \n",
       "5   0.125894    0.258608         phot  \n",
       "6   0.128651    0.005044        compt  \n",
       "7   0.128651    0.222331        compt  \n",
       "8   0.160174    0.080053        compt  \n",
       "9   0.179971    0.003284         phot  "
      ]
     },
     "execution_count": 18,
     "metadata": {},
     "output_type": "execute_result"
    }
   ],
   "source": [
    "gdf.head(npr)"
   ]
  },
  {
   "cell_type": "code",
   "execution_count": 19,
   "id": "eab5ab15-d95a-4c02-b461-dc95ed77a197",
   "metadata": {},
   "outputs": [
    {
     "name": "stdout",
     "output_type": "stream",
     "text": [
      " fraction of events passing cuts = 0.6565714554713172\n"
     ]
    }
   ],
   "source": [
    "print(f\" fraction of events passing cuts = {xdf}\")"
   ]
  },
  {
   "cell_type": "markdown",
   "id": "bbb8b905-3790-4b17-887d-f66099ce9800",
   "metadata": {},
   "source": [
    "### XYZ distributions"
   ]
  },
  {
   "cell_type": "code",
   "execution_count": 20,
   "id": "f9fe07e0-3c72-4e80-8176-401659f21afe",
   "metadata": {},
   "outputs": [
    {
     "data": {
      "image/png": "[encoded data removed]",
      "text/plain": [
       "<Figure size 400x400 with 1 Axes>"
      ]
     },
     "metadata": {},
     "output_type": "display_data"
    }
   ],
   "source": [
    "b, e = histoplot(gdf.z, \"z (mm)\", \"entries\", bins=100, figsize=(4,4),\n",
    "                title=\"z distribution\")"
   ]
  },
  {
   "cell_type": "code",
   "execution_count": 21,
   "id": "0a8d8e80-931b-47f9-b436-e288a3f88e06",
   "metadata": {},
   "outputs": [
    {
     "name": "stdout",
     "output_type": "stream",
     "text": [
      "zmax = 70.00, zmin = -4.00, dz = 74.00\n"
     ]
    }
   ],
   "source": [
    "zmin = np.ceil(e[0])\n",
    "zmax = np.floor(e[-1])\n",
    "dz = zmax - zmin\n",
    "print(f\"zmax = {zmax:.2f}, zmin = {zmin:.2f}, dz = {dz:.2f}\")"
   ]
  },
  {
   "cell_type": "code",
   "execution_count": 22,
   "id": "aa5a91b9-c8af-4e7d-99f7-44f59926c779",
   "metadata": {},
   "outputs": [
    {
     "data": {
      "image/png": "[encoded data removed]",
      "text/plain": [
       "<Figure size 400x400 with 1 Axes>"
      ]
     },
     "metadata": {},
     "output_type": "display_data"
    }
   ],
   "source": [
    "b, e = histoplot(gdf.x, \"x (mm)\", \"entries\", bins=100, figsize=(4,4),\n",
    "                 title=\"x distribution\")"
   ]
  },
  {
   "cell_type": "code",
   "execution_count": 23,
   "id": "aa7aa2c0-a921-4e35-be3f-dcecb37c2479",
   "metadata": {},
   "outputs": [
    {
     "name": "stdout",
     "output_type": "stream",
     "text": [
      "xmax = 25.00, xmin = -29.00, dx = 54.00\n"
     ]
    }
   ],
   "source": [
    "xmin = -np.ceil(-e[0])\n",
    "xmax = np.ceil(e[-1])\n",
    "dx = xmax - xmin\n",
    "print(f\"xmax = {xmax:.2f}, xmin = {xmin:.2f}, dx = {dx:.2f}\")"
   ]
  },
  {
   "cell_type": "code",
   "execution_count": 24,
   "id": "84d076b9-2b7a-4598-a9f4-9cd4d64c6c5c",
   "metadata": {},
   "outputs": [
    {
     "data": {
      "image/png": "[encoded data removed]",
      "text/plain": [
       "<Figure size 400x400 with 1 Axes>"
      ]
     },
     "metadata": {},
     "output_type": "display_data"
    }
   ],
   "source": [
    "b, e = histoplot(gdf.y, \"y (mm)\", \"entries\", bins=100, figsize=(4,4),\n",
    "                 title=\"y distribution\")"
   ]
  },
  {
   "cell_type": "code",
   "execution_count": 25,
   "id": "b3fc12e0-2593-4101-a6b3-20aaf7b176f0",
   "metadata": {},
   "outputs": [
    {
     "name": "stdout",
     "output_type": "stream",
     "text": [
      "ymax = 56.00, ymin = -25.00, dy = 81.00\n"
     ]
    }
   ],
   "source": [
    "ymin = -np.ceil(-e[0])\n",
    "ymax = np.ceil(e[-1])\n",
    "dy = ymax - ymin\n",
    "print(f\"ymax = {ymax:.2f}, ymin = {ymin:.2f}, dy = {dy:.2f}\")"
   ]
  },
  {
   "cell_type": "code",
   "execution_count": 26,
   "id": "53039e84-0f17-43fe-ab66-0bd3d577b316",
   "metadata": {},
   "outputs": [
    {
     "data": {
      "text/plain": [
       "MCrst(xmin=-29.0, xmax=25.0, dx=54.0, ymin=-25.0, ymax=56.0, dy=81.0, zmin=-4.0, zmax=70.0, dz=74.0)"
      ]
     },
     "execution_count": 26,
     "metadata": {},
     "output_type": "execute_result"
    }
   ],
   "source": [
    "MCrst = namedtuple('MCrst','xmin xmax dx ymin ymax dy zmin zmax dz')\n",
    "mcrst = MCrst(xmin, xmax, dx, ymin, ymax, dy, zmin, zmax, dz)\n",
    "mcrst"
   ]
  },
  {
   "cell_type": "code",
   "execution_count": 27,
   "id": "263cd04f-cc53-43b8-b410-1caf9de9df45",
   "metadata": {},
   "outputs": [
    {
     "data": {
      "image/png": "[encoded data removed]",
      "text/plain": [
       "<Figure size 400x400 with 1 Axes>"
      ]
     },
     "metadata": {},
     "output_type": "display_data"
    }
   ],
   "source": [
    "b, e = histoplot(event_ekin(gdf), 'energy (MeV)', \"entries\", bins=100, figsize=(6,6),\n",
    "                title=\"kinetic energy\")"
   ]
  },
  {
   "cell_type": "code",
   "execution_count": 28,
   "id": "fcaa0865-f36c-4d08-9777-dd34386622c2",
   "metadata": {},
   "outputs": [
    {
     "data": {
      "image/png": "[encoded data removed]",
      "text/plain": [
       "<Figure size 400x400 with 1 Axes>"
      ]
     },
     "metadata": {},
     "output_type": "display_data"
    }
   ],
   "source": [
    "grdf = gdf.groupby('event_id')\n",
    "group_sizes = grdf.size()\n",
    "b, e = histoplot(group_sizes, 'number of particules', \"entries\", bins=10, figsize=(4,4,),\n",
    "                title=\"number of particles\")"
   ]
  },
  {
   "cell_type": "markdown",
   "id": "04941934-41ae-496d-bfcb-f1a2e42b3769",
   "metadata": {},
   "source": [
    "## Classification of events"
   ]
  },
  {
   "cell_type": "markdown",
   "id": "2007eecf-8a9c-41c3-b6d7-b7d19140303b",
   "metadata": {},
   "source": [
    "## Select events in which the primary electron makes a photoelectric"
   ]
  },
  {
   "cell_type": "code",
   "execution_count": 31,
   "id": "b7c55693-2f9d-4b4c-8230-6acade93f863",
   "metadata": {},
   "outputs": [
    {
     "data": {
      "text/html": [
       "<div>\n",
       "<style scoped>\n",
       "    .dataframe tbody tr th:only-of-type {\n",
       "        vertical-align: middle;\n",
       "    }\n",
       "\n",
       "    .dataframe tbody tr th {\n",
       "        vertical-align: top;\n",
       "    }\n",
       "\n",
       "    .dataframe thead th {\n",
       "        text-align: right;\n",
       "    }\n",
       "</style>\n",
       "<table border=\"1\" class=\"dataframe\">\n",
       "  <thead>\n",
       "    <tr style=\"text-align: right;\">\n",
       "      <th></th>\n",
       "      <th>event_id</th>\n",
       "      <th>particle_id</th>\n",
       "      <th>particle_name</th>\n",
       "      <th>x</th>\n",
       "      <th>y</th>\n",
       "      <th>z</th>\n",
       "      <th>initial_t</th>\n",
       "      <th>kin_energy</th>\n",
       "      <th>creator_proc</th>\n",
       "    </tr>\n",
       "  </thead>\n",
       "  <tbody>\n",
       "    <tr>\n",
       "      <th>12</th>\n",
       "      <td>680009</td>\n",
       "      <td>4</td>\n",
       "      <td>e-</td>\n",
       "      <td>22.980526</td>\n",
       "      <td>-13.199500</td>\n",
       "      <td>21.642168</td>\n",
       "      <td>0.092036</td>\n",
       "      <td>0.003043</td>\n",
       "      <td>phot</td>\n",
       "    </tr>\n",
       "    <tr>\n",
       "      <th>13</th>\n",
       "      <td>680009</td>\n",
       "      <td>3</td>\n",
       "      <td>gamma</td>\n",
       "      <td>22.980526</td>\n",
       "      <td>-13.199500</td>\n",
       "      <td>21.642168</td>\n",
       "      <td>0.092036</td>\n",
       "      <td>0.028609</td>\n",
       "      <td>phot</td>\n",
       "    </tr>\n",
       "    <tr>\n",
       "      <th>14</th>\n",
       "      <td>680009</td>\n",
       "      <td>2</td>\n",
       "      <td>e-</td>\n",
       "      <td>22.980526</td>\n",
       "      <td>-13.199500</td>\n",
       "      <td>21.642168</td>\n",
       "      <td>0.092036</td>\n",
       "      <td>0.477824</td>\n",
       "      <td>phot</td>\n",
       "    </tr>\n",
       "    <tr>\n",
       "      <th>19</th>\n",
       "      <td>680013</td>\n",
       "      <td>4</td>\n",
       "      <td>e-</td>\n",
       "      <td>7.952593</td>\n",
       "      <td>11.638771</td>\n",
       "      <td>23.469316</td>\n",
       "      <td>0.097319</td>\n",
       "      <td>0.003540</td>\n",
       "      <td>phot</td>\n",
       "    </tr>\n",
       "    <tr>\n",
       "      <th>20</th>\n",
       "      <td>680013</td>\n",
       "      <td>3</td>\n",
       "      <td>gamma</td>\n",
       "      <td>7.952593</td>\n",
       "      <td>11.638771</td>\n",
       "      <td>23.469316</td>\n",
       "      <td>0.097319</td>\n",
       "      <td>0.030979</td>\n",
       "      <td>phot</td>\n",
       "    </tr>\n",
       "    <tr>\n",
       "      <th>21</th>\n",
       "      <td>680013</td>\n",
       "      <td>2</td>\n",
       "      <td>e-</td>\n",
       "      <td>7.952593</td>\n",
       "      <td>11.638771</td>\n",
       "      <td>23.469316</td>\n",
       "      <td>0.097319</td>\n",
       "      <td>0.475013</td>\n",
       "      <td>phot</td>\n",
       "    </tr>\n",
       "    <tr>\n",
       "      <th>22</th>\n",
       "      <td>680014</td>\n",
       "      <td>5</td>\n",
       "      <td>gamma</td>\n",
       "      <td>7.364207</td>\n",
       "      <td>4.223968</td>\n",
       "      <td>32.475761</td>\n",
       "      <td>0.130219</td>\n",
       "      <td>0.004273</td>\n",
       "      <td>phot</td>\n",
       "    </tr>\n",
       "    <tr>\n",
       "      <th>23</th>\n",
       "      <td>680014</td>\n",
       "      <td>3</td>\n",
       "      <td>gamma</td>\n",
       "      <td>7.364207</td>\n",
       "      <td>4.223968</td>\n",
       "      <td>32.475761</td>\n",
       "      <td>0.130219</td>\n",
       "      <td>0.030622</td>\n",
       "      <td>phot</td>\n",
       "    </tr>\n",
       "    <tr>\n",
       "      <th>24</th>\n",
       "      <td>680014</td>\n",
       "      <td>2</td>\n",
       "      <td>e-</td>\n",
       "      <td>7.364207</td>\n",
       "      <td>4.223968</td>\n",
       "      <td>32.475761</td>\n",
       "      <td>0.130219</td>\n",
       "      <td>0.475013</td>\n",
       "      <td>phot</td>\n",
       "    </tr>\n",
       "    <tr>\n",
       "      <th>30</th>\n",
       "      <td>680016</td>\n",
       "      <td>3</td>\n",
       "      <td>gamma</td>\n",
       "      <td>18.515432</td>\n",
       "      <td>11.623202</td>\n",
       "      <td>25.020212</td>\n",
       "      <td>0.104700</td>\n",
       "      <td>0.032294</td>\n",
       "      <td>phot</td>\n",
       "    </tr>\n",
       "  </tbody>\n",
       "</table>\n",
       "</div>"
      ],
      "text/plain": [
       "    event_id  particle_id particle_name          x          y          z  \\\n",
       "12    680009            4            e-  22.980526 -13.199500  21.642168   \n",
       "13    680009            3         gamma  22.980526 -13.199500  21.642168   \n",
       "14    680009            2            e-  22.980526 -13.199500  21.642168   \n",
       "19    680013            4            e-   7.952593  11.638771  23.469316   \n",
       "20    680013            3         gamma   7.952593  11.638771  23.469316   \n",
       "21    680013            2            e-   7.952593  11.638771  23.469316   \n",
       "22    680014            5         gamma   7.364207   4.223968  32.475761   \n",
       "23    680014            3         gamma   7.364207   4.223968  32.475761   \n",
       "24    680014            2            e-   7.364207   4.223968  32.475761   \n",
       "30    680016            3         gamma  18.515432  11.623202  25.020212   \n",
       "\n",
       "    initial_t  kin_energy creator_proc  \n",
       "12   0.092036    0.003043         phot  \n",
       "13   0.092036    0.028609         phot  \n",
       "14   0.092036    0.477824         phot  \n",
       "19   0.097319    0.003540         phot  \n",
       "20   0.097319    0.030979         phot  \n",
       "21   0.097319    0.475013         phot  \n",
       "22   0.130219    0.004273         phot  \n",
       "23   0.130219    0.030622         phot  \n",
       "24   0.130219    0.475013         phot  \n",
       "30   0.104700    0.032294         phot  "
      ]
     },
     "execution_count": 31,
     "metadata": {},
     "output_type": "execute_result"
    }
   ],
   "source": [
    "grdf = gdf.groupby('event_id')\n",
    "gpe = grdf.filter(lambda x: ((x.particle_id == 2) & (x['creator_proc'] == 'phot')).any() )\n",
    "gpe.head(npr)"
   ]
  },
  {
   "cell_type": "code",
   "execution_count": 32,
   "id": "a750b5f1-8c1c-420b-b3b9-8e1cfdf0104c",
   "metadata": {},
   "outputs": [
    {
     "data": {
      "image/png": "[encoded data removed]",
      "text/plain": [
       "<Figure size 400x400 with 1 Axes>"
      ]
     },
     "metadata": {},
     "output_type": "display_data"
    }
   ],
   "source": [
    "grdf = gpe.groupby('event_id')\n",
    "group_sizes = grdf.size()\n",
    "b, e = histoplot(group_sizes, 'number of particules', \"entries\", bins=10, figsize=(4,4),\n",
    "                title=\"number of particles photoelectric\")"
   ]
  },
  {
   "cell_type": "code",
   "execution_count": 33,
   "id": "c32b4d80-1951-4ce0-98ea-570572c3b802",
   "metadata": {},
   "outputs": [
    {
     "data": {
      "image/png": "[encoded data removed]",
      "text/plain": [
       "<Figure size 400x400 with 1 Axes>"
      ]
     },
     "metadata": {},
     "output_type": "display_data"
    }
   ],
   "source": [
    "b, e = histoplot(event_ekin(gpe), 'energy (MeV)', \"entries\", bins=100, figsize=(4,4),\n",
    "                title=\"kinetic energy photoelectric\")"
   ]
  },
  {
   "cell_type": "markdown",
   "id": "3dde3786-8eff-4bdf-afb7-eecc713199b0",
   "metadata": {},
   "source": [
    "### Select the electron with energy closest to 0.511 keV\n",
    "- NB due to Bremms, electron has energies above 0.4778, this value can be used to a cut"
   ]
  },
  {
   "cell_type": "code",
   "execution_count": 34,
   "id": "bf42c52b-62c4-4ab3-bb16-623bbbc855ab",
   "metadata": {},
   "outputs": [],
   "source": [
    "fphe = efilter(0.47)"
   ]
  },
  {
   "cell_type": "code",
   "execution_count": 35,
   "id": "64d87bbc-64fe-498f-bc89-ee63b824d7c4",
   "metadata": {},
   "outputs": [],
   "source": [
    "photdf = gpe.groupby('event_id').apply(fphe).reset_index(drop=True)"
   ]
  },
  {
   "cell_type": "code",
   "execution_count": 36,
   "id": "a0a9e204-7541-443a-8852-cebb92c23f93",
   "metadata": {},
   "outputs": [
    {
     "data": {
      "text/html": [
       "<div>\n",
       "<style scoped>\n",
       "    .dataframe tbody tr th:only-of-type {\n",
       "        vertical-align: middle;\n",
       "    }\n",
       "\n",
       "    .dataframe tbody tr th {\n",
       "        vertical-align: top;\n",
       "    }\n",
       "\n",
       "    .dataframe thead th {\n",
       "        text-align: right;\n",
       "    }\n",
       "</style>\n",
       "<table border=\"1\" class=\"dataframe\">\n",
       "  <thead>\n",
       "    <tr style=\"text-align: right;\">\n",
       "      <th></th>\n",
       "      <th>event_id</th>\n",
       "      <th>particle_id</th>\n",
       "      <th>particle_name</th>\n",
       "      <th>x</th>\n",
       "      <th>y</th>\n",
       "      <th>z</th>\n",
       "      <th>initial_t</th>\n",
       "      <th>kin_energy</th>\n",
       "      <th>creator_proc</th>\n",
       "    </tr>\n",
       "  </thead>\n",
       "  <tbody>\n",
       "    <tr>\n",
       "      <th>0</th>\n",
       "      <td>10004</td>\n",
       "      <td>2</td>\n",
       "      <td>e-</td>\n",
       "      <td>18.645067</td>\n",
       "      <td>12.477487</td>\n",
       "      <td>29.249544</td>\n",
       "      <td>0.116340</td>\n",
       "      <td>0.477824</td>\n",
       "      <td>phot</td>\n",
       "    </tr>\n",
       "    <tr>\n",
       "      <th>1</th>\n",
       "      <td>10006</td>\n",
       "      <td>2</td>\n",
       "      <td>e-</td>\n",
       "      <td>13.566376</td>\n",
       "      <td>1.647984</td>\n",
       "      <td>21.156849</td>\n",
       "      <td>0.090734</td>\n",
       "      <td>0.475013</td>\n",
       "      <td>phot</td>\n",
       "    </tr>\n",
       "    <tr>\n",
       "      <th>2</th>\n",
       "      <td>10014</td>\n",
       "      <td>2</td>\n",
       "      <td>e-</td>\n",
       "      <td>-5.014233</td>\n",
       "      <td>5.060986</td>\n",
       "      <td>12.715019</td>\n",
       "      <td>0.062352</td>\n",
       "      <td>0.509922</td>\n",
       "      <td>phot</td>\n",
       "    </tr>\n",
       "    <tr>\n",
       "      <th>3</th>\n",
       "      <td>10024</td>\n",
       "      <td>2</td>\n",
       "      <td>e-</td>\n",
       "      <td>-3.514938</td>\n",
       "      <td>-0.639491</td>\n",
       "      <td>15.746504</td>\n",
       "      <td>0.074194</td>\n",
       "      <td>0.475013</td>\n",
       "      <td>phot</td>\n",
       "    </tr>\n",
       "    <tr>\n",
       "      <th>4</th>\n",
       "      <td>10026</td>\n",
       "      <td>2</td>\n",
       "      <td>e-</td>\n",
       "      <td>18.973616</td>\n",
       "      <td>-6.031100</td>\n",
       "      <td>16.421364</td>\n",
       "      <td>0.074508</td>\n",
       "      <td>0.475013</td>\n",
       "      <td>phot</td>\n",
       "    </tr>\n",
       "    <tr>\n",
       "      <th>5</th>\n",
       "      <td>10027</td>\n",
       "      <td>2</td>\n",
       "      <td>e-</td>\n",
       "      <td>11.437413</td>\n",
       "      <td>-22.155209</td>\n",
       "      <td>40.912632</td>\n",
       "      <td>0.157729</td>\n",
       "      <td>0.505283</td>\n",
       "      <td>phot</td>\n",
       "    </tr>\n",
       "    <tr>\n",
       "      <th>6</th>\n",
       "      <td>10028</td>\n",
       "      <td>2</td>\n",
       "      <td>e-</td>\n",
       "      <td>9.708068</td>\n",
       "      <td>3.101629</td>\n",
       "      <td>13.316263</td>\n",
       "      <td>0.064982</td>\n",
       "      <td>0.477824</td>\n",
       "      <td>phot</td>\n",
       "    </tr>\n",
       "    <tr>\n",
       "      <th>7</th>\n",
       "      <td>10029</td>\n",
       "      <td>2</td>\n",
       "      <td>e-</td>\n",
       "      <td>0.335767</td>\n",
       "      <td>-11.193620</td>\n",
       "      <td>21.898741</td>\n",
       "      <td>0.093051</td>\n",
       "      <td>0.475013</td>\n",
       "      <td>phot</td>\n",
       "    </tr>\n",
       "    <tr>\n",
       "      <th>8</th>\n",
       "      <td>10030</td>\n",
       "      <td>2</td>\n",
       "      <td>e-</td>\n",
       "      <td>16.716444</td>\n",
       "      <td>15.401320</td>\n",
       "      <td>25.922293</td>\n",
       "      <td>0.107143</td>\n",
       "      <td>0.475013</td>\n",
       "      <td>phot</td>\n",
       "    </tr>\n",
       "    <tr>\n",
       "      <th>9</th>\n",
       "      <td>10031</td>\n",
       "      <td>2</td>\n",
       "      <td>e-</td>\n",
       "      <td>14.411372</td>\n",
       "      <td>14.232203</td>\n",
       "      <td>48.868683</td>\n",
       "      <td>0.182639</td>\n",
       "      <td>0.475013</td>\n",
       "      <td>phot</td>\n",
       "    </tr>\n",
       "  </tbody>\n",
       "</table>\n",
       "</div>"
      ],
      "text/plain": [
       "   event_id  particle_id particle_name          x          y          z  \\\n",
       "0     10004            2            e-  18.645067  12.477487  29.249544   \n",
       "1     10006            2            e-  13.566376   1.647984  21.156849   \n",
       "2     10014            2            e-  -5.014233   5.060986  12.715019   \n",
       "3     10024            2            e-  -3.514938  -0.639491  15.746504   \n",
       "4     10026            2            e-  18.973616  -6.031100  16.421364   \n",
       "5     10027            2            e-  11.437413 -22.155209  40.912632   \n",
       "6     10028            2            e-   9.708068   3.101629  13.316263   \n",
       "7     10029            2            e-   0.335767 -11.193620  21.898741   \n",
       "8     10030            2            e-  16.716444  15.401320  25.922293   \n",
       "9     10031            2            e-  14.411372  14.232203  48.868683   \n",
       "\n",
       "   initial_t  kin_energy creator_proc  \n",
       "0   0.116340    0.477824         phot  \n",
       "1   0.090734    0.475013         phot  \n",
       "2   0.062352    0.509922         phot  \n",
       "3   0.074194    0.475013         phot  \n",
       "4   0.074508    0.475013         phot  \n",
       "5   0.157729    0.505283         phot  \n",
       "6   0.064982    0.477824         phot  \n",
       "7   0.093051    0.475013         phot  \n",
       "8   0.107143    0.475013         phot  \n",
       "9   0.182639    0.475013         phot  "
      ]
     },
     "execution_count": 36,
     "metadata": {},
     "output_type": "execute_result"
    }
   ],
   "source": [
    "photdf.head(10)"
   ]
  },
  {
   "cell_type": "code",
   "execution_count": 37,
   "id": "fdde7aa4-d809-4730-b953-136a4984fd90",
   "metadata": {},
   "outputs": [
    {
     "data": {
      "image/png": "[encoded data removed]",
      "text/plain": [
       "<Figure size 400x400 with 1 Axes>"
      ]
     },
     "metadata": {},
     "output_type": "display_data"
    }
   ],
   "source": [
    "b, e = histoplot(photdf.kin_energy, 'energy (MeV)', \"entries\", bins=100, figsize=(4,4),\n",
    "                title=\"kinetic energy photoelectric\")"
   ]
  },
  {
   "cell_type": "code",
   "execution_count": 38,
   "id": "0ba6de17-e81e-449e-97e7-895637e39464",
   "metadata": {},
   "outputs": [
    {
     "name": "stdout",
     "output_type": "stream",
     "text": [
      "Fraction of photoelectric events = 0.33\n"
     ]
    }
   ],
   "source": [
    "fphe = event_size(gpe)/event_size(gdf)\n",
    "print(f\"Fraction of photoelectric events = {(fphe):.2f}\")"
   ]
  },
  {
   "cell_type": "code",
   "execution_count": 39,
   "id": "0ed01cfc-886c-4cc0-b303-572086c76919",
   "metadata": {},
   "outputs": [
    {
     "name": "stdout",
     "output_type": "stream",
     "text": [
      "Fraction of photoelectric events passing 1e cut = 0.33\n"
     ]
    }
   ],
   "source": [
    "fphe2 = event_size(photdf)/event_size(gdf)\n",
    "print(f\"Fraction of photoelectric events passing 1e cut = {(fphe2):.2f}\")"
   ]
  },
  {
   "cell_type": "markdown",
   "id": "4e9e91ce-5590-4e53-b531-6a57319dabcd",
   "metadata": {},
   "source": [
    "## Select Compton"
   ]
  },
  {
   "cell_type": "code",
   "execution_count": 29,
   "id": "e482edde-e74a-45f7-8196-1cf6fbe3b6ab",
   "metadata": {},
   "outputs": [
    {
     "data": {
      "text/html": [
       "<div>\n",
       "<style scoped>\n",
       "    .dataframe tbody tr th:only-of-type {\n",
       "        vertical-align: middle;\n",
       "    }\n",
       "\n",
       "    .dataframe tbody tr th {\n",
       "        vertical-align: top;\n",
       "    }\n",
       "\n",
       "    .dataframe thead th {\n",
       "        text-align: right;\n",
       "    }\n",
       "</style>\n",
       "<table border=\"1\" class=\"dataframe\">\n",
       "  <thead>\n",
       "    <tr style=\"text-align: right;\">\n",
       "      <th></th>\n",
       "      <th>event_id</th>\n",
       "      <th>particle_id</th>\n",
       "      <th>particle_name</th>\n",
       "      <th>x</th>\n",
       "      <th>y</th>\n",
       "      <th>z</th>\n",
       "      <th>initial_t</th>\n",
       "      <th>kin_energy</th>\n",
       "      <th>creator_proc</th>\n",
       "    </tr>\n",
       "  </thead>\n",
       "  <tbody>\n",
       "    <tr>\n",
       "      <th>0</th>\n",
       "      <td>680002</td>\n",
       "      <td>2</td>\n",
       "      <td>e-</td>\n",
       "      <td>17.471272</td>\n",
       "      <td>-21.407799</td>\n",
       "      <td>15.194095</td>\n",
       "      <td>0.070294</td>\n",
       "      <td>0.212338</td>\n",
       "      <td>compt</td>\n",
       "    </tr>\n",
       "    <tr>\n",
       "      <th>1</th>\n",
       "      <td>680002</td>\n",
       "      <td>25621</td>\n",
       "      <td>e-</td>\n",
       "      <td>16.308014</td>\n",
       "      <td>-8.935721</td>\n",
       "      <td>20.914680</td>\n",
       "      <td>0.116228</td>\n",
       "      <td>0.002909</td>\n",
       "      <td>compt</td>\n",
       "    </tr>\n",
       "    <tr>\n",
       "      <th>2</th>\n",
       "      <td>680002</td>\n",
       "      <td>26109</td>\n",
       "      <td>e-</td>\n",
       "      <td>15.823273</td>\n",
       "      <td>-6.602371</td>\n",
       "      <td>22.563520</td>\n",
       "      <td>0.125894</td>\n",
       "      <td>0.003268</td>\n",
       "      <td>phot</td>\n",
       "    </tr>\n",
       "    <tr>\n",
       "      <th>3</th>\n",
       "      <td>680002</td>\n",
       "      <td>26108</td>\n",
       "      <td>e-</td>\n",
       "      <td>15.823273</td>\n",
       "      <td>-6.602371</td>\n",
       "      <td>22.563520</td>\n",
       "      <td>0.125894</td>\n",
       "      <td>0.003892</td>\n",
       "      <td>phot</td>\n",
       "    </tr>\n",
       "    <tr>\n",
       "      <th>4</th>\n",
       "      <td>680002</td>\n",
       "      <td>26107</td>\n",
       "      <td>e-</td>\n",
       "      <td>15.823273</td>\n",
       "      <td>-6.602371</td>\n",
       "      <td>22.563520</td>\n",
       "      <td>0.125894</td>\n",
       "      <td>0.025294</td>\n",
       "      <td>phot</td>\n",
       "    </tr>\n",
       "    <tr>\n",
       "      <th>5</th>\n",
       "      <td>680002</td>\n",
       "      <td>26106</td>\n",
       "      <td>e-</td>\n",
       "      <td>15.823273</td>\n",
       "      <td>-6.602371</td>\n",
       "      <td>22.563520</td>\n",
       "      <td>0.125894</td>\n",
       "      <td>0.258608</td>\n",
       "      <td>phot</td>\n",
       "    </tr>\n",
       "    <tr>\n",
       "      <th>6</th>\n",
       "      <td>680005</td>\n",
       "      <td>3</td>\n",
       "      <td>e-</td>\n",
       "      <td>6.790020</td>\n",
       "      <td>7.181014</td>\n",
       "      <td>32.762108</td>\n",
       "      <td>0.128651</td>\n",
       "      <td>0.005044</td>\n",
       "      <td>compt</td>\n",
       "    </tr>\n",
       "    <tr>\n",
       "      <th>7</th>\n",
       "      <td>680005</td>\n",
       "      <td>2</td>\n",
       "      <td>e-</td>\n",
       "      <td>6.790020</td>\n",
       "      <td>7.181014</td>\n",
       "      <td>32.762108</td>\n",
       "      <td>0.128651</td>\n",
       "      <td>0.222331</td>\n",
       "      <td>compt</td>\n",
       "    </tr>\n",
       "    <tr>\n",
       "      <th>8</th>\n",
       "      <td>680005</td>\n",
       "      <td>27589</td>\n",
       "      <td>e-</td>\n",
       "      <td>15.265637</td>\n",
       "      <td>4.257829</td>\n",
       "      <td>35.750702</td>\n",
       "      <td>0.160174</td>\n",
       "      <td>0.080053</td>\n",
       "      <td>compt</td>\n",
       "    </tr>\n",
       "    <tr>\n",
       "      <th>9</th>\n",
       "      <td>680005</td>\n",
       "      <td>37070</td>\n",
       "      <td>e-</td>\n",
       "      <td>18.203693</td>\n",
       "      <td>2.432415</td>\n",
       "      <td>30.927778</td>\n",
       "      <td>0.179971</td>\n",
       "      <td>0.003284</td>\n",
       "      <td>phot</td>\n",
       "    </tr>\n",
       "  </tbody>\n",
       "</table>\n",
       "</div>"
      ],
      "text/plain": [
       "   event_id  particle_id particle_name          x          y          z  \\\n",
       "0    680002            2            e-  17.471272 -21.407799  15.194095   \n",
       "1    680002        25621            e-  16.308014  -8.935721  20.914680   \n",
       "2    680002        26109            e-  15.823273  -6.602371  22.563520   \n",
       "3    680002        26108            e-  15.823273  -6.602371  22.563520   \n",
       "4    680002        26107            e-  15.823273  -6.602371  22.563520   \n",
       "5    680002        26106            e-  15.823273  -6.602371  22.563520   \n",
       "6    680005            3            e-   6.790020   7.181014  32.762108   \n",
       "7    680005            2            e-   6.790020   7.181014  32.762108   \n",
       "8    680005        27589            e-  15.265637   4.257829  35.750702   \n",
       "9    680005        37070            e-  18.203693   2.432415  30.927778   \n",
       "\n",
       "   initial_t  kin_energy creator_proc  \n",
       "0   0.070294    0.212338        compt  \n",
       "1   0.116228    0.002909        compt  \n",
       "2   0.125894    0.003268         phot  \n",
       "3   0.125894    0.003892         phot  \n",
       "4   0.125894    0.025294         phot  \n",
       "5   0.125894    0.258608         phot  \n",
       "6   0.128651    0.005044        compt  \n",
       "7   0.128651    0.222331        compt  \n",
       "8   0.160174    0.080053        compt  \n",
       "9   0.179971    0.003284         phot  "
      ]
     },
     "execution_count": 29,
     "metadata": {},
     "output_type": "execute_result"
    }
   ],
   "source": [
    "grdf = gdf.groupby('event_id')\n",
    "gcomp = grdf.filter(lambda x: ((x.particle_id == 2) & (x['creator_proc'] == 'compt')).any() )\n",
    "gcomp.head(npr)"
   ]
  },
  {
   "cell_type": "code",
   "execution_count": 30,
   "id": "bbce8adb-3259-4703-b6cb-fcb051458fc3",
   "metadata": {},
   "outputs": [
    {
     "data": {
      "image/png": "[encoded data removed]",
      "text/plain": [
       "<Figure size 400x400 with 1 Axes>"
      ]
     },
     "metadata": {},
     "output_type": "display_data"
    }
   ],
   "source": [
    "grdf = gcomp.groupby('event_id')\n",
    "group_sizes = grdf.size()\n",
    "b, e = histoplot(group_sizes, 'number of particules', \"entries\", bins=20, figsize=(4,4),\n",
    "                title=\"number of particles Compton\")"
   ]
  },
  {
   "cell_type": "code",
   "execution_count": 31,
   "id": "c482f8bd-db4b-43e4-b628-60d0a1c09ca7",
   "metadata": {},
   "outputs": [
    {
     "name": "stdout",
     "output_type": "stream",
     "text": [
      "Fraction of compton events = 0.66\n"
     ]
    }
   ],
   "source": [
    "fcomp = event_size(gcomp)/event_size(gdf)\n",
    "print(f\"Fraction of compton events = {(fcomp):.2f}\")"
   ]
  },
  {
   "cell_type": "markdown",
   "id": "661ecd57-6e93-4299-a075-f855a6a52904",
   "metadata": {},
   "source": [
    "### Select Comptons whose energy is not near 511.\n",
    "- A conservative resolution for CsI is 7%, 2sigma = 14%"
   ]
  },
  {
   "cell_type": "code",
   "execution_count": 34,
   "id": "517373bc-aafa-4cc6-a3ed-5302bd8bcd04",
   "metadata": {},
   "outputs": [
    {
     "name": "stdout",
     "output_type": "stream",
     "text": [
      "cut energy = 0.47523\n"
     ]
    }
   ],
   "source": [
    "sigma=0.07\n",
    "ecut = 0.511 - sigma * 0.511\n",
    "print(f\"cut energy = {ecut}\")"
   ]
  },
  {
   "cell_type": "code",
   "execution_count": 42,
   "id": "723a9a61-a22b-4978-a8b4-b88862c2182a",
   "metadata": {},
   "outputs": [],
   "source": [
    "f4 =efilter(ecut, op=\"<\")"
   ]
  },
  {
   "cell_type": "code",
   "execution_count": 43,
   "id": "1771bf4d-3517-4247-b542-eaa6faf0a25d",
   "metadata": {},
   "outputs": [],
   "source": [
    "clkpdf = gcomp.groupby('event_id').apply(f4).reset_index(drop=True)"
   ]
  },
  {
   "cell_type": "code",
   "execution_count": 44,
   "id": "ad070233-c6bd-4a4c-8ff0-1249ede1e3f0",
   "metadata": {},
   "outputs": [
    {
     "data": {
      "text/html": [
       "<div>\n",
       "<style scoped>\n",
       "    .dataframe tbody tr th:only-of-type {\n",
       "        vertical-align: middle;\n",
       "    }\n",
       "\n",
       "    .dataframe tbody tr th {\n",
       "        vertical-align: top;\n",
       "    }\n",
       "\n",
       "    .dataframe thead th {\n",
       "        text-align: right;\n",
       "    }\n",
       "</style>\n",
       "<table border=\"1\" class=\"dataframe\">\n",
       "  <thead>\n",
       "    <tr style=\"text-align: right;\">\n",
       "      <th></th>\n",
       "      <th>event_id</th>\n",
       "      <th>particle_id</th>\n",
       "      <th>particle_name</th>\n",
       "      <th>x</th>\n",
       "      <th>y</th>\n",
       "      <th>z</th>\n",
       "      <th>initial_t</th>\n",
       "      <th>kin_energy</th>\n",
       "      <th>creator_proc</th>\n",
       "    </tr>\n",
       "  </thead>\n",
       "  <tbody>\n",
       "    <tr>\n",
       "      <th>0</th>\n",
       "      <td>10001</td>\n",
       "      <td>2</td>\n",
       "      <td>e-</td>\n",
       "      <td>-2.954058</td>\n",
       "      <td>-18.557474</td>\n",
       "      <td>22.369658</td>\n",
       "      <td>0.094753</td>\n",
       "      <td>0.116762</td>\n",
       "      <td>compt</td>\n",
       "    </tr>\n",
       "    <tr>\n",
       "      <th>1</th>\n",
       "      <td>10001</td>\n",
       "      <td>14135</td>\n",
       "      <td>e-</td>\n",
       "      <td>-5.125206</td>\n",
       "      <td>-7.548854</td>\n",
       "      <td>28.827255</td>\n",
       "      <td>0.137937</td>\n",
       "      <td>0.168832</td>\n",
       "      <td>compt</td>\n",
       "    </tr>\n",
       "    <tr>\n",
       "      <th>2</th>\n",
       "      <td>10001</td>\n",
       "      <td>34433</td>\n",
       "      <td>gamma</td>\n",
       "      <td>-5.036511</td>\n",
       "      <td>-9.408172</td>\n",
       "      <td>31.268013</td>\n",
       "      <td>0.148176</td>\n",
       "      <td>0.034926</td>\n",
       "      <td>phot</td>\n",
       "    </tr>\n",
       "    <tr>\n",
       "      <th>3</th>\n",
       "      <td>10001</td>\n",
       "      <td>34432</td>\n",
       "      <td>e-</td>\n",
       "      <td>-5.036511</td>\n",
       "      <td>-9.408172</td>\n",
       "      <td>31.268013</td>\n",
       "      <td>0.148176</td>\n",
       "      <td>0.187631</td>\n",
       "      <td>phot</td>\n",
       "    </tr>\n",
       "    <tr>\n",
       "      <th>4</th>\n",
       "      <td>10003</td>\n",
       "      <td>2</td>\n",
       "      <td>e-</td>\n",
       "      <td>11.767439</td>\n",
       "      <td>1.126573</td>\n",
       "      <td>13.503364</td>\n",
       "      <td>0.066109</td>\n",
       "      <td>0.179934</td>\n",
       "      <td>compt</td>\n",
       "    </tr>\n",
       "    <tr>\n",
       "      <th>5</th>\n",
       "      <td>10003</td>\n",
       "      <td>21595</td>\n",
       "      <td>gamma</td>\n",
       "      <td>4.990294</td>\n",
       "      <td>0.311470</td>\n",
       "      <td>16.939791</td>\n",
       "      <td>0.091601</td>\n",
       "      <td>0.004616</td>\n",
       "      <td>phot</td>\n",
       "    </tr>\n",
       "    <tr>\n",
       "      <th>6</th>\n",
       "      <td>10003</td>\n",
       "      <td>21594</td>\n",
       "      <td>gamma</td>\n",
       "      <td>4.990294</td>\n",
       "      <td>0.311470</td>\n",
       "      <td>16.939791</td>\n",
       "      <td>0.091601</td>\n",
       "      <td>0.030622</td>\n",
       "      <td>phot</td>\n",
       "    </tr>\n",
       "    <tr>\n",
       "      <th>7</th>\n",
       "      <td>10003</td>\n",
       "      <td>21593</td>\n",
       "      <td>e-</td>\n",
       "      <td>4.990294</td>\n",
       "      <td>0.311470</td>\n",
       "      <td>16.939791</td>\n",
       "      <td>0.091601</td>\n",
       "      <td>0.295061</td>\n",
       "      <td>phot</td>\n",
       "    </tr>\n",
       "    <tr>\n",
       "      <th>8</th>\n",
       "      <td>10009</td>\n",
       "      <td>2</td>\n",
       "      <td>e-</td>\n",
       "      <td>9.770208</td>\n",
       "      <td>10.759822</td>\n",
       "      <td>43.035156</td>\n",
       "      <td>0.164733</td>\n",
       "      <td>0.322141</td>\n",
       "      <td>compt</td>\n",
       "    </tr>\n",
       "    <tr>\n",
       "      <th>9</th>\n",
       "      <td>10009</td>\n",
       "      <td>39132</td>\n",
       "      <td>e-</td>\n",
       "      <td>12.210072</td>\n",
       "      <td>15.519191</td>\n",
       "      <td>37.142849</td>\n",
       "      <td>0.191277</td>\n",
       "      <td>0.003525</td>\n",
       "      <td>phot</td>\n",
       "    </tr>\n",
       "  </tbody>\n",
       "</table>\n",
       "</div>"
      ],
      "text/plain": [
       "   event_id  particle_id particle_name          x          y          z  \\\n",
       "0     10001            2            e-  -2.954058 -18.557474  22.369658   \n",
       "1     10001        14135            e-  -5.125206  -7.548854  28.827255   \n",
       "2     10001        34433         gamma  -5.036511  -9.408172  31.268013   \n",
       "3     10001        34432            e-  -5.036511  -9.408172  31.268013   \n",
       "4     10003            2            e-  11.767439   1.126573  13.503364   \n",
       "5     10003        21595         gamma   4.990294   0.311470  16.939791   \n",
       "6     10003        21594         gamma   4.990294   0.311470  16.939791   \n",
       "7     10003        21593            e-   4.990294   0.311470  16.939791   \n",
       "8     10009            2            e-   9.770208  10.759822  43.035156   \n",
       "9     10009        39132            e-  12.210072  15.519191  37.142849   \n",
       "\n",
       "   initial_t  kin_energy creator_proc  \n",
       "0   0.094753    0.116762        compt  \n",
       "1   0.137937    0.168832        compt  \n",
       "2   0.148176    0.034926         phot  \n",
       "3   0.148176    0.187631         phot  \n",
       "4   0.066109    0.179934        compt  \n",
       "5   0.091601    0.004616         phot  \n",
       "6   0.091601    0.030622         phot  \n",
       "7   0.091601    0.295061         phot  \n",
       "8   0.164733    0.322141        compt  \n",
       "9   0.191277    0.003525         phot  "
      ]
     },
     "execution_count": 44,
     "metadata": {},
     "output_type": "execute_result"
    }
   ],
   "source": [
    "clkpdf.head(10)"
   ]
  },
  {
   "cell_type": "code",
   "execution_count": 45,
   "id": "53594b61-5b77-4b1a-abaa-a5655245ff4e",
   "metadata": {},
   "outputs": [
    {
     "name": "stdout",
     "output_type": "stream",
     "text": [
      "Fraction of photo-like compton events = 0.66\n"
     ]
    }
   ],
   "source": [
    "fcomp2 = event_size(clkpdf)/event_size(gdf)\n",
    "print(f\"Fraction of photo-like compton events = {(fcomp2):.2f}\")"
   ]
  },
  {
   "cell_type": "markdown",
   "id": "c34995ff-86e5-43e6-a187-1a900c064837",
   "metadata": {},
   "source": [
    "## Write df for Photoelectric (and photo-like) events"
   ]
  },
  {
   "cell_type": "code",
   "execution_count": 47,
   "id": "43f21544-340b-4ab5-9104-199b0f9925f6",
   "metadata": {},
   "outputs": [],
   "source": [
    "pathpe = os.path.join(dir, \"phe.csv\")\n",
    "photdf.to_csv(pathpe, index=False)\n"
   ]
  },
  {
   "cell_type": "markdown",
   "id": "0c13a7eb-d223-45aa-a184-b0e1528974c9",
   "metadata": {},
   "source": [
    "### Write images"
   ]
  },
  {
   "cell_type": "code",
   "execution_count": 50,
   "id": "2ca6bc2d-4727-4cfd-ad66-10d7252367ba",
   "metadata": {},
   "outputs": [
    {
     "name": "stdout",
     "output_type": "stream",
     "text": [
      "input folder =/home/investigator/Data/monolithic_csi/CsI_6x6_fullwrap_50k_0MHzDC_PTFE_LUT_gamma_h5, output folder = /home/investigator/Data/monolithic_csi/CsI_6x6_fullwrap_50k_0MHzDC_PTFE_LUT_gamma_phe\n",
      "input DF =phe.csv\n"
     ]
    }
   ],
   "source": [
    "h5fpfx         = \"MonolithicCsI.CsI\" # prefix of files\n",
    "events_per_file = 10000\n",
    "got_positions = False\n",
    "crystal_width = 48\n",
    "sipm_width    = 6\n",
    "folder_h5     = \"CsI_6x6_fullwrap_50k_0MHzDC_PTFE_LUT_gamma_h5\" # input h5 folder\n",
    "    \n",
    "ifolder = dir\n",
    "ofolder = os.path.join(path_to_data, get_folder_out(folder_h5) ) \n",
    "idf = \"phe.csv\"\n",
    "\n",
    "print(f\"input folder ={ifolder}, output folder = {ofolder}\")\n",
    "print(f\"input DF ={idf}\")\n",
    "  "
   ]
  },
  {
   "cell_type": "code",
   "execution_count": 49,
   "id": "5c2cb218-cb1d-4881-a947-7a73a6eb1714",
   "metadata": {},
   "outputs": [],
   "source": [
    "if not os.path.exists(ofolder):\n",
    "    os.makedirs(ofolder)"
   ]
  },
  {
   "cell_type": "code",
   "execution_count": 50,
   "id": "393fab05-852c-44f1-8fa3-a9d65a9fdc8d",
   "metadata": {},
   "outputs": [
    {
     "name": "stdout",
     "output_type": "stream",
     "text": [
      "input file =/home/investigator/Data/monolithic_csi/CsI_6x6_fullwrap_50k_0MHzDC_PTFE_LUT_gamma_h5/phe.csv, output file = /home/investigator/Data/monolithic_csi/CsI_6x6_fullwrap_50k_0MHzDC_PTFE_LUT_gamma_phe/phe.csv\n"
     ]
    }
   ],
   "source": [
    "ifile = os.path.join(ifolder, idf)\n",
    "ofile = os.path.join(ofolder, idf)\n",
    "print(f\"input file ={ifile}, output file = {ofile}\")"
   ]
  },
  {
   "cell_type": "code",
   "execution_count": 51,
   "id": "de6d33ff-e7b4-4285-9af6-efa0347eee08",
   "metadata": {},
   "outputs": [
    {
     "data": {
      "text/plain": [
       "'/home/investigator/Data/monolithic_csi/CsI_6x6_fullwrap_50k_0MHzDC_PTFE_LUT_gamma_phe/phe.csv'"
      ]
     },
     "execution_count": 51,
     "metadata": {},
     "output_type": "execute_result"
    }
   ],
   "source": [
    "shutil.copy(ifile, ofile)"
   ]
  },
  {
   "cell_type": "code",
   "execution_count": 52,
   "id": "89fbab4e-7169-4194-940d-74f21ae8a93f",
   "metadata": {},
   "outputs": [
    {
     "name": "stderr",
     "output_type": "stream",
     "text": [
      "  0%|                                                                    | 0/100 [00:00<?, ?it/s]"
     ]
    },
    {
     "name": "stdout",
     "output_type": "stream",
     "text": [
      "reading nexus file = /home/investigator/Data/monolithic_csi/CsI_6x6_fullwrap_50k_0MHzDC_PTFE_LUT_gamma_h5/MonolithicCsI.CsI.1.h5\n"
     ]
    },
    {
     "name": "stderr",
     "output_type": "stream",
     "text": [
      "  1%|▌                                                           | 1/100 [00:00<01:36,  1.03it/s]"
     ]
    },
    {
     "name": "stdout",
     "output_type": "stream",
     "text": [
      "saving file = /home/investigator/Data/monolithic_csi/CsI_6x6_fullwrap_50k_0MHzDC_PTFE_LUT_gamma_phe/images_1.npy\n",
      "reading nexus file = /home/investigator/Data/monolithic_csi/CsI_6x6_fullwrap_50k_0MHzDC_PTFE_LUT_gamma_h5/MonolithicCsI.CsI.2.h5\n"
     ]
    },
    {
     "name": "stderr",
     "output_type": "stream",
     "text": [
      "  2%|█▏                                                          | 2/100 [00:01<01:29,  1.09it/s]"
     ]
    },
    {
     "name": "stdout",
     "output_type": "stream",
     "text": [
      "saving file = /home/investigator/Data/monolithic_csi/CsI_6x6_fullwrap_50k_0MHzDC_PTFE_LUT_gamma_phe/images_2.npy\n",
      "reading nexus file = /home/investigator/Data/monolithic_csi/CsI_6x6_fullwrap_50k_0MHzDC_PTFE_LUT_gamma_h5/MonolithicCsI.CsI.3.h5\n"
     ]
    },
    {
     "name": "stderr",
     "output_type": "stream",
     "text": [
      "  3%|█▊                                                          | 3/100 [00:02<01:29,  1.08it/s]"
     ]
    },
    {
     "name": "stdout",
     "output_type": "stream",
     "text": [
      "saving file = /home/investigator/Data/monolithic_csi/CsI_6x6_fullwrap_50k_0MHzDC_PTFE_LUT_gamma_phe/images_3.npy\n",
      "reading nexus file = /home/investigator/Data/monolithic_csi/CsI_6x6_fullwrap_50k_0MHzDC_PTFE_LUT_gamma_h5/MonolithicCsI.CsI.4.h5\n"
     ]
    },
    {
     "name": "stderr",
     "output_type": "stream",
     "text": [
      "  4%|██▍                                                         | 4/100 [00:03<01:29,  1.08it/s]"
     ]
    },
    {
     "name": "stdout",
     "output_type": "stream",
     "text": [
      "saving file = /home/investigator/Data/monolithic_csi/CsI_6x6_fullwrap_50k_0MHzDC_PTFE_LUT_gamma_phe/images_4.npy\n",
      "reading nexus file = /home/investigator/Data/monolithic_csi/CsI_6x6_fullwrap_50k_0MHzDC_PTFE_LUT_gamma_h5/MonolithicCsI.CsI.5.h5\n"
     ]
    },
    {
     "name": "stderr",
     "output_type": "stream",
     "text": [
      "  5%|███                                                         | 5/100 [00:04<01:26,  1.10it/s]"
     ]
    },
    {
     "name": "stdout",
     "output_type": "stream",
     "text": [
      "saving file = /home/investigator/Data/monolithic_csi/CsI_6x6_fullwrap_50k_0MHzDC_PTFE_LUT_gamma_phe/images_5.npy\n",
      "reading nexus file = /home/investigator/Data/monolithic_csi/CsI_6x6_fullwrap_50k_0MHzDC_PTFE_LUT_gamma_h5/MonolithicCsI.CsI.6.h5\n"
     ]
    },
    {
     "name": "stderr",
     "output_type": "stream",
     "text": [
      "  6%|███▌                                                        | 6/100 [00:05<01:24,  1.11it/s]"
     ]
    },
    {
     "name": "stdout",
     "output_type": "stream",
     "text": [
      "saving file = /home/investigator/Data/monolithic_csi/CsI_6x6_fullwrap_50k_0MHzDC_PTFE_LUT_gamma_phe/images_6.npy\n",
      "reading nexus file = /home/investigator/Data/monolithic_csi/CsI_6x6_fullwrap_50k_0MHzDC_PTFE_LUT_gamma_h5/MonolithicCsI.CsI.7.h5\n"
     ]
    },
    {
     "name": "stderr",
     "output_type": "stream",
     "text": [
      "  7%|████▏                                                       | 7/100 [00:06<01:23,  1.12it/s]"
     ]
    },
    {
     "name": "stdout",
     "output_type": "stream",
     "text": [
      "saving file = /home/investigator/Data/monolithic_csi/CsI_6x6_fullwrap_50k_0MHzDC_PTFE_LUT_gamma_phe/images_7.npy\n",
      "reading nexus file = /home/investigator/Data/monolithic_csi/CsI_6x6_fullwrap_50k_0MHzDC_PTFE_LUT_gamma_h5/MonolithicCsI.CsI.8.h5\n"
     ]
    },
    {
     "name": "stderr",
     "output_type": "stream",
     "text": [
      "  8%|████▊                                                       | 8/100 [00:07<01:21,  1.13it/s]"
     ]
    },
    {
     "name": "stdout",
     "output_type": "stream",
     "text": [
      "saving file = /home/investigator/Data/monolithic_csi/CsI_6x6_fullwrap_50k_0MHzDC_PTFE_LUT_gamma_phe/images_8.npy\n",
      "reading nexus file = /home/investigator/Data/monolithic_csi/CsI_6x6_fullwrap_50k_0MHzDC_PTFE_LUT_gamma_h5/MonolithicCsI.CsI.9.h5\n"
     ]
    },
    {
     "name": "stderr",
     "output_type": "stream",
     "text": [
      "  9%|█████▍                                                      | 9/100 [00:08<01:19,  1.14it/s]"
     ]
    },
    {
     "name": "stdout",
     "output_type": "stream",
     "text": [
      "saving file = /home/investigator/Data/monolithic_csi/CsI_6x6_fullwrap_50k_0MHzDC_PTFE_LUT_gamma_phe/images_9.npy\n",
      "reading nexus file = /home/investigator/Data/monolithic_csi/CsI_6x6_fullwrap_50k_0MHzDC_PTFE_LUT_gamma_h5/MonolithicCsI.CsI.10.h5\n"
     ]
    },
    {
     "name": "stderr",
     "output_type": "stream",
     "text": [
      " 10%|█████▉                                                     | 10/100 [00:08<01:18,  1.14it/s]"
     ]
    },
    {
     "name": "stdout",
     "output_type": "stream",
     "text": [
      "saving file = /home/investigator/Data/monolithic_csi/CsI_6x6_fullwrap_50k_0MHzDC_PTFE_LUT_gamma_phe/images_10.npy\n",
      "reading nexus file = /home/investigator/Data/monolithic_csi/CsI_6x6_fullwrap_50k_0MHzDC_PTFE_LUT_gamma_h5/MonolithicCsI.CsI.11.h5\n"
     ]
    },
    {
     "name": "stderr",
     "output_type": "stream",
     "text": [
      " 11%|██████▍                                                    | 11/100 [00:09<01:17,  1.14it/s]"
     ]
    },
    {
     "name": "stdout",
     "output_type": "stream",
     "text": [
      "saving file = /home/investigator/Data/monolithic_csi/CsI_6x6_fullwrap_50k_0MHzDC_PTFE_LUT_gamma_phe/images_11.npy\n",
      "reading nexus file = /home/investigator/Data/monolithic_csi/CsI_6x6_fullwrap_50k_0MHzDC_PTFE_LUT_gamma_h5/MonolithicCsI.CsI.12.h5\n"
     ]
    },
    {
     "name": "stderr",
     "output_type": "stream",
     "text": [
      " 12%|███████                                                    | 12/100 [00:10<01:16,  1.15it/s]"
     ]
    },
    {
     "name": "stdout",
     "output_type": "stream",
     "text": [
      "saving file = /home/investigator/Data/monolithic_csi/CsI_6x6_fullwrap_50k_0MHzDC_PTFE_LUT_gamma_phe/images_12.npy\n",
      "reading nexus file = /home/investigator/Data/monolithic_csi/CsI_6x6_fullwrap_50k_0MHzDC_PTFE_LUT_gamma_h5/MonolithicCsI.CsI.13.h5\n"
     ]
    },
    {
     "name": "stderr",
     "output_type": "stream",
     "text": [
      " 13%|███████▋                                                   | 13/100 [00:11<01:15,  1.15it/s]"
     ]
    },
    {
     "name": "stdout",
     "output_type": "stream",
     "text": [
      "saving file = /home/investigator/Data/monolithic_csi/CsI_6x6_fullwrap_50k_0MHzDC_PTFE_LUT_gamma_phe/images_13.npy\n",
      "reading nexus file = /home/investigator/Data/monolithic_csi/CsI_6x6_fullwrap_50k_0MHzDC_PTFE_LUT_gamma_h5/MonolithicCsI.CsI.14.h5\n"
     ]
    },
    {
     "name": "stderr",
     "output_type": "stream",
     "text": [
      " 14%|████████▎                                                  | 14/100 [00:12<01:15,  1.13it/s]"
     ]
    },
    {
     "name": "stdout",
     "output_type": "stream",
     "text": [
      "saving file = /home/investigator/Data/monolithic_csi/CsI_6x6_fullwrap_50k_0MHzDC_PTFE_LUT_gamma_phe/images_14.npy\n",
      "reading nexus file = /home/investigator/Data/monolithic_csi/CsI_6x6_fullwrap_50k_0MHzDC_PTFE_LUT_gamma_h5/MonolithicCsI.CsI.15.h5\n"
     ]
    },
    {
     "name": "stderr",
     "output_type": "stream",
     "text": [
      " 15%|████████▊                                                  | 15/100 [00:13<01:15,  1.12it/s]"
     ]
    },
    {
     "name": "stdout",
     "output_type": "stream",
     "text": [
      "saving file = /home/investigator/Data/monolithic_csi/CsI_6x6_fullwrap_50k_0MHzDC_PTFE_LUT_gamma_phe/images_15.npy\n",
      "reading nexus file = /home/investigator/Data/monolithic_csi/CsI_6x6_fullwrap_50k_0MHzDC_PTFE_LUT_gamma_h5/MonolithicCsI.CsI.16.h5\n"
     ]
    },
    {
     "name": "stderr",
     "output_type": "stream",
     "text": [
      " 16%|█████████▍                                                 | 16/100 [00:14<01:14,  1.13it/s]"
     ]
    },
    {
     "name": "stdout",
     "output_type": "stream",
     "text": [
      "saving file = /home/investigator/Data/monolithic_csi/CsI_6x6_fullwrap_50k_0MHzDC_PTFE_LUT_gamma_phe/images_16.npy\n",
      "reading nexus file = /home/investigator/Data/monolithic_csi/CsI_6x6_fullwrap_50k_0MHzDC_PTFE_LUT_gamma_h5/MonolithicCsI.CsI.17.h5\n"
     ]
    },
    {
     "name": "stderr",
     "output_type": "stream",
     "text": [
      " 17%|██████████                                                 | 17/100 [00:15<01:13,  1.13it/s]"
     ]
    },
    {
     "name": "stdout",
     "output_type": "stream",
     "text": [
      "saving file = /home/investigator/Data/monolithic_csi/CsI_6x6_fullwrap_50k_0MHzDC_PTFE_LUT_gamma_phe/images_17.npy\n",
      "reading nexus file = /home/investigator/Data/monolithic_csi/CsI_6x6_fullwrap_50k_0MHzDC_PTFE_LUT_gamma_h5/MonolithicCsI.CsI.18.h5\n"
     ]
    },
    {
     "name": "stderr",
     "output_type": "stream",
     "text": [
      " 18%|██████████▌                                                | 18/100 [00:16<01:12,  1.14it/s]"
     ]
    },
    {
     "name": "stdout",
     "output_type": "stream",
     "text": [
      "saving file = /home/investigator/Data/monolithic_csi/CsI_6x6_fullwrap_50k_0MHzDC_PTFE_LUT_gamma_phe/images_18.npy\n",
      "reading nexus file = /home/investigator/Data/monolithic_csi/CsI_6x6_fullwrap_50k_0MHzDC_PTFE_LUT_gamma_h5/MonolithicCsI.CsI.19.h5\n"
     ]
    },
    {
     "name": "stderr",
     "output_type": "stream",
     "text": [
      " 19%|███████████▏                                               | 19/100 [00:16<01:10,  1.15it/s]"
     ]
    },
    {
     "name": "stdout",
     "output_type": "stream",
     "text": [
      "saving file = /home/investigator/Data/monolithic_csi/CsI_6x6_fullwrap_50k_0MHzDC_PTFE_LUT_gamma_phe/images_19.npy\n",
      "reading nexus file = /home/investigator/Data/monolithic_csi/CsI_6x6_fullwrap_50k_0MHzDC_PTFE_LUT_gamma_h5/MonolithicCsI.CsI.20.h5\n"
     ]
    },
    {
     "name": "stderr",
     "output_type": "stream",
     "text": [
      " 20%|███████████▊                                               | 20/100 [00:17<01:10,  1.14it/s]"
     ]
    },
    {
     "name": "stdout",
     "output_type": "stream",
     "text": [
      "saving file = /home/investigator/Data/monolithic_csi/CsI_6x6_fullwrap_50k_0MHzDC_PTFE_LUT_gamma_phe/images_20.npy\n",
      "reading nexus file = /home/investigator/Data/monolithic_csi/CsI_6x6_fullwrap_50k_0MHzDC_PTFE_LUT_gamma_h5/MonolithicCsI.CsI.21.h5\n"
     ]
    },
    {
     "name": "stderr",
     "output_type": "stream",
     "text": [
      " 21%|████████████▍                                              | 21/100 [00:18<01:08,  1.15it/s]"
     ]
    },
    {
     "name": "stdout",
     "output_type": "stream",
     "text": [
      "saving file = /home/investigator/Data/monolithic_csi/CsI_6x6_fullwrap_50k_0MHzDC_PTFE_LUT_gamma_phe/images_21.npy\n",
      "reading nexus file = /home/investigator/Data/monolithic_csi/CsI_6x6_fullwrap_50k_0MHzDC_PTFE_LUT_gamma_h5/MonolithicCsI.CsI.22.h5\n"
     ]
    },
    {
     "name": "stderr",
     "output_type": "stream",
     "text": [
      " 22%|████████████▉                                              | 22/100 [00:19<01:07,  1.15it/s]"
     ]
    },
    {
     "name": "stdout",
     "output_type": "stream",
     "text": [
      "saving file = /home/investigator/Data/monolithic_csi/CsI_6x6_fullwrap_50k_0MHzDC_PTFE_LUT_gamma_phe/images_22.npy\n",
      "reading nexus file = /home/investigator/Data/monolithic_csi/CsI_6x6_fullwrap_50k_0MHzDC_PTFE_LUT_gamma_h5/MonolithicCsI.CsI.23.h5\n"
     ]
    },
    {
     "name": "stderr",
     "output_type": "stream",
     "text": [
      " 23%|█████████████▌                                             | 23/100 [00:20<01:07,  1.14it/s]"
     ]
    },
    {
     "name": "stdout",
     "output_type": "stream",
     "text": [
      "saving file = /home/investigator/Data/monolithic_csi/CsI_6x6_fullwrap_50k_0MHzDC_PTFE_LUT_gamma_phe/images_23.npy\n",
      "reading nexus file = /home/investigator/Data/monolithic_csi/CsI_6x6_fullwrap_50k_0MHzDC_PTFE_LUT_gamma_h5/MonolithicCsI.CsI.24.h5\n"
     ]
    },
    {
     "name": "stderr",
     "output_type": "stream",
     "text": [
      " 24%|██████████████▏                                            | 24/100 [00:21<01:06,  1.14it/s]"
     ]
    },
    {
     "name": "stdout",
     "output_type": "stream",
     "text": [
      "saving file = /home/investigator/Data/monolithic_csi/CsI_6x6_fullwrap_50k_0MHzDC_PTFE_LUT_gamma_phe/images_24.npy\n",
      "reading nexus file = /home/investigator/Data/monolithic_csi/CsI_6x6_fullwrap_50k_0MHzDC_PTFE_LUT_gamma_h5/MonolithicCsI.CsI.25.h5\n"
     ]
    },
    {
     "name": "stderr",
     "output_type": "stream",
     "text": [
      " 25%|██████████████▊                                            | 25/100 [00:22<01:05,  1.15it/s]"
     ]
    },
    {
     "name": "stdout",
     "output_type": "stream",
     "text": [
      "saving file = /home/investigator/Data/monolithic_csi/CsI_6x6_fullwrap_50k_0MHzDC_PTFE_LUT_gamma_phe/images_25.npy\n",
      "reading nexus file = /home/investigator/Data/monolithic_csi/CsI_6x6_fullwrap_50k_0MHzDC_PTFE_LUT_gamma_h5/MonolithicCsI.CsI.26.h5\n"
     ]
    },
    {
     "name": "stderr",
     "output_type": "stream",
     "text": [
      " 26%|███████████████▎                                           | 26/100 [00:22<01:04,  1.14it/s]"
     ]
    },
    {
     "name": "stdout",
     "output_type": "stream",
     "text": [
      "saving file = /home/investigator/Data/monolithic_csi/CsI_6x6_fullwrap_50k_0MHzDC_PTFE_LUT_gamma_phe/images_26.npy\n",
      "reading nexus file = /home/investigator/Data/monolithic_csi/CsI_6x6_fullwrap_50k_0MHzDC_PTFE_LUT_gamma_h5/MonolithicCsI.CsI.27.h5\n"
     ]
    },
    {
     "name": "stderr",
     "output_type": "stream",
     "text": [
      " 27%|███████████████▉                                           | 27/100 [00:23<01:04,  1.13it/s]"
     ]
    },
    {
     "name": "stdout",
     "output_type": "stream",
     "text": [
      "saving file = /home/investigator/Data/monolithic_csi/CsI_6x6_fullwrap_50k_0MHzDC_PTFE_LUT_gamma_phe/images_27.npy\n",
      "reading nexus file = /home/investigator/Data/monolithic_csi/CsI_6x6_fullwrap_50k_0MHzDC_PTFE_LUT_gamma_h5/MonolithicCsI.CsI.28.h5\n"
     ]
    },
    {
     "name": "stderr",
     "output_type": "stream",
     "text": [
      " 28%|████████████████▌                                          | 28/100 [00:24<01:03,  1.13it/s]"
     ]
    },
    {
     "name": "stdout",
     "output_type": "stream",
     "text": [
      "saving file = /home/investigator/Data/monolithic_csi/CsI_6x6_fullwrap_50k_0MHzDC_PTFE_LUT_gamma_phe/images_28.npy\n",
      "reading nexus file = /home/investigator/Data/monolithic_csi/CsI_6x6_fullwrap_50k_0MHzDC_PTFE_LUT_gamma_h5/MonolithicCsI.CsI.29.h5\n"
     ]
    },
    {
     "name": "stderr",
     "output_type": "stream",
     "text": [
      " 29%|█████████████████                                          | 29/100 [00:25<01:02,  1.13it/s]"
     ]
    },
    {
     "name": "stdout",
     "output_type": "stream",
     "text": [
      "saving file = /home/investigator/Data/monolithic_csi/CsI_6x6_fullwrap_50k_0MHzDC_PTFE_LUT_gamma_phe/images_29.npy\n",
      "reading nexus file = /home/investigator/Data/monolithic_csi/CsI_6x6_fullwrap_50k_0MHzDC_PTFE_LUT_gamma_h5/MonolithicCsI.CsI.30.h5\n"
     ]
    },
    {
     "name": "stderr",
     "output_type": "stream",
     "text": [
      " 30%|█████████████████▋                                         | 30/100 [00:26<01:02,  1.13it/s]"
     ]
    },
    {
     "name": "stdout",
     "output_type": "stream",
     "text": [
      "saving file = /home/investigator/Data/monolithic_csi/CsI_6x6_fullwrap_50k_0MHzDC_PTFE_LUT_gamma_phe/images_30.npy\n",
      "reading nexus file = /home/investigator/Data/monolithic_csi/CsI_6x6_fullwrap_50k_0MHzDC_PTFE_LUT_gamma_h5/MonolithicCsI.CsI.31.h5\n"
     ]
    },
    {
     "name": "stderr",
     "output_type": "stream",
     "text": [
      " 31%|██████████████████▎                                        | 31/100 [00:27<01:00,  1.13it/s]"
     ]
    },
    {
     "name": "stdout",
     "output_type": "stream",
     "text": [
      "saving file = /home/investigator/Data/monolithic_csi/CsI_6x6_fullwrap_50k_0MHzDC_PTFE_LUT_gamma_phe/images_31.npy\n",
      "reading nexus file = /home/investigator/Data/monolithic_csi/CsI_6x6_fullwrap_50k_0MHzDC_PTFE_LUT_gamma_h5/MonolithicCsI.CsI.32.h5\n"
     ]
    },
    {
     "name": "stderr",
     "output_type": "stream",
     "text": [
      " 32%|██████████████████▉                                        | 32/100 [00:28<00:59,  1.14it/s]"
     ]
    },
    {
     "name": "stdout",
     "output_type": "stream",
     "text": [
      "saving file = /home/investigator/Data/monolithic_csi/CsI_6x6_fullwrap_50k_0MHzDC_PTFE_LUT_gamma_phe/images_32.npy\n",
      "reading nexus file = /home/investigator/Data/monolithic_csi/CsI_6x6_fullwrap_50k_0MHzDC_PTFE_LUT_gamma_h5/MonolithicCsI.CsI.33.h5\n"
     ]
    },
    {
     "name": "stderr",
     "output_type": "stream",
     "text": [
      " 33%|███████████████████▍                                       | 33/100 [00:29<00:58,  1.14it/s]"
     ]
    },
    {
     "name": "stdout",
     "output_type": "stream",
     "text": [
      "saving file = /home/investigator/Data/monolithic_csi/CsI_6x6_fullwrap_50k_0MHzDC_PTFE_LUT_gamma_phe/images_33.npy\n",
      "reading nexus file = /home/investigator/Data/monolithic_csi/CsI_6x6_fullwrap_50k_0MHzDC_PTFE_LUT_gamma_h5/MonolithicCsI.CsI.34.h5\n"
     ]
    },
    {
     "name": "stderr",
     "output_type": "stream",
     "text": [
      " 34%|████████████████████                                       | 34/100 [00:30<00:57,  1.15it/s]"
     ]
    },
    {
     "name": "stdout",
     "output_type": "stream",
     "text": [
      "saving file = /home/investigator/Data/monolithic_csi/CsI_6x6_fullwrap_50k_0MHzDC_PTFE_LUT_gamma_phe/images_34.npy\n",
      "reading nexus file = /home/investigator/Data/monolithic_csi/CsI_6x6_fullwrap_50k_0MHzDC_PTFE_LUT_gamma_h5/MonolithicCsI.CsI.35.h5\n"
     ]
    },
    {
     "name": "stderr",
     "output_type": "stream",
     "text": [
      " 35%|████████████████████▋                                      | 35/100 [00:30<00:56,  1.16it/s]"
     ]
    },
    {
     "name": "stdout",
     "output_type": "stream",
     "text": [
      "saving file = /home/investigator/Data/monolithic_csi/CsI_6x6_fullwrap_50k_0MHzDC_PTFE_LUT_gamma_phe/images_35.npy\n",
      "reading nexus file = /home/investigator/Data/monolithic_csi/CsI_6x6_fullwrap_50k_0MHzDC_PTFE_LUT_gamma_h5/MonolithicCsI.CsI.36.h5\n"
     ]
    },
    {
     "name": "stderr",
     "output_type": "stream",
     "text": [
      " 36%|█████████████████████▏                                     | 36/100 [00:31<00:55,  1.15it/s]"
     ]
    },
    {
     "name": "stdout",
     "output_type": "stream",
     "text": [
      "saving file = /home/investigator/Data/monolithic_csi/CsI_6x6_fullwrap_50k_0MHzDC_PTFE_LUT_gamma_phe/images_36.npy\n",
      "reading nexus file = /home/investigator/Data/monolithic_csi/CsI_6x6_fullwrap_50k_0MHzDC_PTFE_LUT_gamma_h5/MonolithicCsI.CsI.37.h5\n"
     ]
    },
    {
     "name": "stderr",
     "output_type": "stream",
     "text": [
      " 37%|█████████████████████▊                                     | 37/100 [00:32<00:54,  1.15it/s]"
     ]
    },
    {
     "name": "stdout",
     "output_type": "stream",
     "text": [
      "saving file = /home/investigator/Data/monolithic_csi/CsI_6x6_fullwrap_50k_0MHzDC_PTFE_LUT_gamma_phe/images_37.npy\n",
      "reading nexus file = /home/investigator/Data/monolithic_csi/CsI_6x6_fullwrap_50k_0MHzDC_PTFE_LUT_gamma_h5/MonolithicCsI.CsI.38.h5\n"
     ]
    },
    {
     "name": "stderr",
     "output_type": "stream",
     "text": [
      " 38%|██████████████████████▍                                    | 38/100 [00:33<00:54,  1.15it/s]"
     ]
    },
    {
     "name": "stdout",
     "output_type": "stream",
     "text": [
      "saving file = /home/investigator/Data/monolithic_csi/CsI_6x6_fullwrap_50k_0MHzDC_PTFE_LUT_gamma_phe/images_38.npy\n",
      "reading nexus file = /home/investigator/Data/monolithic_csi/CsI_6x6_fullwrap_50k_0MHzDC_PTFE_LUT_gamma_h5/MonolithicCsI.CsI.39.h5\n"
     ]
    },
    {
     "name": "stderr",
     "output_type": "stream",
     "text": [
      " 39%|███████████████████████                                    | 39/100 [00:34<00:52,  1.15it/s]"
     ]
    },
    {
     "name": "stdout",
     "output_type": "stream",
     "text": [
      "saving file = /home/investigator/Data/monolithic_csi/CsI_6x6_fullwrap_50k_0MHzDC_PTFE_LUT_gamma_phe/images_39.npy\n",
      "reading nexus file = /home/investigator/Data/monolithic_csi/CsI_6x6_fullwrap_50k_0MHzDC_PTFE_LUT_gamma_h5/MonolithicCsI.CsI.40.h5\n"
     ]
    },
    {
     "name": "stderr",
     "output_type": "stream",
     "text": [
      " 40%|███████████████████████▌                                   | 40/100 [00:35<00:53,  1.13it/s]"
     ]
    },
    {
     "name": "stdout",
     "output_type": "stream",
     "text": [
      "saving file = /home/investigator/Data/monolithic_csi/CsI_6x6_fullwrap_50k_0MHzDC_PTFE_LUT_gamma_phe/images_40.npy\n",
      "reading nexus file = /home/investigator/Data/monolithic_csi/CsI_6x6_fullwrap_50k_0MHzDC_PTFE_LUT_gamma_h5/MonolithicCsI.CsI.41.h5\n"
     ]
    },
    {
     "name": "stderr",
     "output_type": "stream",
     "text": [
      " 41%|████████████████████████▏                                  | 41/100 [00:36<00:52,  1.11it/s]"
     ]
    },
    {
     "name": "stdout",
     "output_type": "stream",
     "text": [
      "saving file = /home/investigator/Data/monolithic_csi/CsI_6x6_fullwrap_50k_0MHzDC_PTFE_LUT_gamma_phe/images_41.npy\n",
      "reading nexus file = /home/investigator/Data/monolithic_csi/CsI_6x6_fullwrap_50k_0MHzDC_PTFE_LUT_gamma_h5/MonolithicCsI.CsI.42.h5\n"
     ]
    },
    {
     "name": "stderr",
     "output_type": "stream",
     "text": [
      " 42%|████████████████████████▊                                  | 42/100 [00:37<00:52,  1.11it/s]"
     ]
    },
    {
     "name": "stdout",
     "output_type": "stream",
     "text": [
      "saving file = /home/investigator/Data/monolithic_csi/CsI_6x6_fullwrap_50k_0MHzDC_PTFE_LUT_gamma_phe/images_42.npy\n",
      "reading nexus file = /home/investigator/Data/monolithic_csi/CsI_6x6_fullwrap_50k_0MHzDC_PTFE_LUT_gamma_h5/MonolithicCsI.CsI.43.h5\n"
     ]
    },
    {
     "name": "stderr",
     "output_type": "stream",
     "text": [
      " 43%|█████████████████████████▎                                 | 43/100 [00:38<00:51,  1.10it/s]"
     ]
    },
    {
     "name": "stdout",
     "output_type": "stream",
     "text": [
      "saving file = /home/investigator/Data/monolithic_csi/CsI_6x6_fullwrap_50k_0MHzDC_PTFE_LUT_gamma_phe/images_43.npy\n",
      "reading nexus file = /home/investigator/Data/monolithic_csi/CsI_6x6_fullwrap_50k_0MHzDC_PTFE_LUT_gamma_h5/MonolithicCsI.CsI.44.h5\n"
     ]
    },
    {
     "name": "stderr",
     "output_type": "stream",
     "text": [
      " 44%|█████████████████████████▉                                 | 44/100 [00:38<00:51,  1.09it/s]"
     ]
    },
    {
     "name": "stdout",
     "output_type": "stream",
     "text": [
      "saving file = /home/investigator/Data/monolithic_csi/CsI_6x6_fullwrap_50k_0MHzDC_PTFE_LUT_gamma_phe/images_44.npy\n",
      "reading nexus file = /home/investigator/Data/monolithic_csi/CsI_6x6_fullwrap_50k_0MHzDC_PTFE_LUT_gamma_h5/MonolithicCsI.CsI.45.h5\n"
     ]
    },
    {
     "name": "stderr",
     "output_type": "stream",
     "text": [
      " 45%|██████████████████████████▌                                | 45/100 [00:39<00:49,  1.11it/s]"
     ]
    },
    {
     "name": "stdout",
     "output_type": "stream",
     "text": [
      "saving file = /home/investigator/Data/monolithic_csi/CsI_6x6_fullwrap_50k_0MHzDC_PTFE_LUT_gamma_phe/images_45.npy\n",
      "reading nexus file = /home/investigator/Data/monolithic_csi/CsI_6x6_fullwrap_50k_0MHzDC_PTFE_LUT_gamma_h5/MonolithicCsI.CsI.46.h5\n"
     ]
    },
    {
     "name": "stderr",
     "output_type": "stream",
     "text": [
      " 46%|███████████████████████████▏                               | 46/100 [00:40<00:49,  1.09it/s]"
     ]
    },
    {
     "name": "stdout",
     "output_type": "stream",
     "text": [
      "saving file = /home/investigator/Data/monolithic_csi/CsI_6x6_fullwrap_50k_0MHzDC_PTFE_LUT_gamma_phe/images_46.npy\n",
      "reading nexus file = /home/investigator/Data/monolithic_csi/CsI_6x6_fullwrap_50k_0MHzDC_PTFE_LUT_gamma_h5/MonolithicCsI.CsI.47.h5\n"
     ]
    },
    {
     "name": "stderr",
     "output_type": "stream",
     "text": [
      " 47%|███████████████████████████▋                               | 47/100 [00:41<00:48,  1.10it/s]"
     ]
    },
    {
     "name": "stdout",
     "output_type": "stream",
     "text": [
      "saving file = /home/investigator/Data/monolithic_csi/CsI_6x6_fullwrap_50k_0MHzDC_PTFE_LUT_gamma_phe/images_47.npy\n",
      "reading nexus file = /home/investigator/Data/monolithic_csi/CsI_6x6_fullwrap_50k_0MHzDC_PTFE_LUT_gamma_h5/MonolithicCsI.CsI.48.h5\n"
     ]
    },
    {
     "name": "stderr",
     "output_type": "stream",
     "text": [
      " 48%|████████████████████████████▎                              | 48/100 [00:42<00:47,  1.10it/s]"
     ]
    },
    {
     "name": "stdout",
     "output_type": "stream",
     "text": [
      "saving file = /home/investigator/Data/monolithic_csi/CsI_6x6_fullwrap_50k_0MHzDC_PTFE_LUT_gamma_phe/images_48.npy\n",
      "reading nexus file = /home/investigator/Data/monolithic_csi/CsI_6x6_fullwrap_50k_0MHzDC_PTFE_LUT_gamma_h5/MonolithicCsI.CsI.49.h5\n"
     ]
    },
    {
     "name": "stderr",
     "output_type": "stream",
     "text": [
      " 49%|████████████████████████████▉                              | 49/100 [00:43<00:45,  1.11it/s]"
     ]
    },
    {
     "name": "stdout",
     "output_type": "stream",
     "text": [
      "saving file = /home/investigator/Data/monolithic_csi/CsI_6x6_fullwrap_50k_0MHzDC_PTFE_LUT_gamma_phe/images_49.npy\n",
      "reading nexus file = /home/investigator/Data/monolithic_csi/CsI_6x6_fullwrap_50k_0MHzDC_PTFE_LUT_gamma_h5/MonolithicCsI.CsI.50.h5\n"
     ]
    },
    {
     "name": "stderr",
     "output_type": "stream",
     "text": [
      " 50%|█████████████████████████████▌                             | 50/100 [00:44<00:44,  1.12it/s]"
     ]
    },
    {
     "name": "stdout",
     "output_type": "stream",
     "text": [
      "saving file = /home/investigator/Data/monolithic_csi/CsI_6x6_fullwrap_50k_0MHzDC_PTFE_LUT_gamma_phe/images_50.npy\n",
      "reading nexus file = /home/investigator/Data/monolithic_csi/CsI_6x6_fullwrap_50k_0MHzDC_PTFE_LUT_gamma_h5/MonolithicCsI.CsI.51.h5\n"
     ]
    },
    {
     "name": "stderr",
     "output_type": "stream",
     "text": [
      " 51%|██████████████████████████████                             | 51/100 [00:45<00:43,  1.11it/s]"
     ]
    },
    {
     "name": "stdout",
     "output_type": "stream",
     "text": [
      "saving file = /home/investigator/Data/monolithic_csi/CsI_6x6_fullwrap_50k_0MHzDC_PTFE_LUT_gamma_phe/images_51.npy\n",
      "reading nexus file = /home/investigator/Data/monolithic_csi/CsI_6x6_fullwrap_50k_0MHzDC_PTFE_LUT_gamma_h5/MonolithicCsI.CsI.52.h5\n"
     ]
    },
    {
     "name": "stderr",
     "output_type": "stream",
     "text": [
      " 52%|██████████████████████████████▋                            | 52/100 [00:46<00:43,  1.11it/s]"
     ]
    },
    {
     "name": "stdout",
     "output_type": "stream",
     "text": [
      "saving file = /home/investigator/Data/monolithic_csi/CsI_6x6_fullwrap_50k_0MHzDC_PTFE_LUT_gamma_phe/images_52.npy\n",
      "reading nexus file = /home/investigator/Data/monolithic_csi/CsI_6x6_fullwrap_50k_0MHzDC_PTFE_LUT_gamma_h5/MonolithicCsI.CsI.53.h5\n"
     ]
    },
    {
     "name": "stderr",
     "output_type": "stream",
     "text": [
      " 53%|███████████████████████████████▎                           | 53/100 [00:47<00:42,  1.11it/s]"
     ]
    },
    {
     "name": "stdout",
     "output_type": "stream",
     "text": [
      "saving file = /home/investigator/Data/monolithic_csi/CsI_6x6_fullwrap_50k_0MHzDC_PTFE_LUT_gamma_phe/images_53.npy\n",
      "reading nexus file = /home/investigator/Data/monolithic_csi/CsI_6x6_fullwrap_50k_0MHzDC_PTFE_LUT_gamma_h5/MonolithicCsI.CsI.54.h5\n"
     ]
    },
    {
     "name": "stderr",
     "output_type": "stream",
     "text": [
      " 54%|███████████████████████████████▊                           | 54/100 [00:47<00:41,  1.10it/s]"
     ]
    },
    {
     "name": "stdout",
     "output_type": "stream",
     "text": [
      "saving file = /home/investigator/Data/monolithic_csi/CsI_6x6_fullwrap_50k_0MHzDC_PTFE_LUT_gamma_phe/images_54.npy\n",
      "reading nexus file = /home/investigator/Data/monolithic_csi/CsI_6x6_fullwrap_50k_0MHzDC_PTFE_LUT_gamma_h5/MonolithicCsI.CsI.55.h5\n"
     ]
    },
    {
     "name": "stderr",
     "output_type": "stream",
     "text": [
      " 55%|████████████████████████████████▍                          | 55/100 [00:48<00:40,  1.11it/s]"
     ]
    },
    {
     "name": "stdout",
     "output_type": "stream",
     "text": [
      "saving file = /home/investigator/Data/monolithic_csi/CsI_6x6_fullwrap_50k_0MHzDC_PTFE_LUT_gamma_phe/images_55.npy\n",
      "reading nexus file = /home/investigator/Data/monolithic_csi/CsI_6x6_fullwrap_50k_0MHzDC_PTFE_LUT_gamma_h5/MonolithicCsI.CsI.56.h5\n"
     ]
    },
    {
     "name": "stderr",
     "output_type": "stream",
     "text": [
      " 56%|█████████████████████████████████                          | 56/100 [00:49<00:39,  1.12it/s]"
     ]
    },
    {
     "name": "stdout",
     "output_type": "stream",
     "text": [
      "saving file = /home/investigator/Data/monolithic_csi/CsI_6x6_fullwrap_50k_0MHzDC_PTFE_LUT_gamma_phe/images_56.npy\n",
      "reading nexus file = /home/investigator/Data/monolithic_csi/CsI_6x6_fullwrap_50k_0MHzDC_PTFE_LUT_gamma_h5/MonolithicCsI.CsI.57.h5\n"
     ]
    },
    {
     "name": "stderr",
     "output_type": "stream",
     "text": [
      " 57%|█████████████████████████████████▋                         | 57/100 [00:50<00:38,  1.11it/s]"
     ]
    },
    {
     "name": "stdout",
     "output_type": "stream",
     "text": [
      "saving file = /home/investigator/Data/monolithic_csi/CsI_6x6_fullwrap_50k_0MHzDC_PTFE_LUT_gamma_phe/images_57.npy\n",
      "reading nexus file = /home/investigator/Data/monolithic_csi/CsI_6x6_fullwrap_50k_0MHzDC_PTFE_LUT_gamma_h5/MonolithicCsI.CsI.58.h5\n"
     ]
    },
    {
     "name": "stderr",
     "output_type": "stream",
     "text": [
      " 58%|██████████████████████████████████▏                        | 58/100 [00:51<00:37,  1.12it/s]"
     ]
    },
    {
     "name": "stdout",
     "output_type": "stream",
     "text": [
      "saving file = /home/investigator/Data/monolithic_csi/CsI_6x6_fullwrap_50k_0MHzDC_PTFE_LUT_gamma_phe/images_58.npy\n",
      "reading nexus file = /home/investigator/Data/monolithic_csi/CsI_6x6_fullwrap_50k_0MHzDC_PTFE_LUT_gamma_h5/MonolithicCsI.CsI.59.h5\n"
     ]
    },
    {
     "name": "stderr",
     "output_type": "stream",
     "text": [
      " 59%|██████████████████████████████████▊                        | 59/100 [00:52<00:36,  1.12it/s]"
     ]
    },
    {
     "name": "stdout",
     "output_type": "stream",
     "text": [
      "saving file = /home/investigator/Data/monolithic_csi/CsI_6x6_fullwrap_50k_0MHzDC_PTFE_LUT_gamma_phe/images_59.npy\n",
      "reading nexus file = /home/investigator/Data/monolithic_csi/CsI_6x6_fullwrap_50k_0MHzDC_PTFE_LUT_gamma_h5/MonolithicCsI.CsI.60.h5\n"
     ]
    },
    {
     "name": "stderr",
     "output_type": "stream",
     "text": [
      " 60%|███████████████████████████████████▍                       | 60/100 [00:53<00:35,  1.12it/s]"
     ]
    },
    {
     "name": "stdout",
     "output_type": "stream",
     "text": [
      "saving file = /home/investigator/Data/monolithic_csi/CsI_6x6_fullwrap_50k_0MHzDC_PTFE_LUT_gamma_phe/images_60.npy\n",
      "reading nexus file = /home/investigator/Data/monolithic_csi/CsI_6x6_fullwrap_50k_0MHzDC_PTFE_LUT_gamma_h5/MonolithicCsI.CsI.61.h5\n"
     ]
    },
    {
     "name": "stderr",
     "output_type": "stream",
     "text": [
      " 61%|███████████████████████████████████▉                       | 61/100 [00:54<00:34,  1.13it/s]"
     ]
    },
    {
     "name": "stdout",
     "output_type": "stream",
     "text": [
      "saving file = /home/investigator/Data/monolithic_csi/CsI_6x6_fullwrap_50k_0MHzDC_PTFE_LUT_gamma_phe/images_61.npy\n",
      "reading nexus file = /home/investigator/Data/monolithic_csi/CsI_6x6_fullwrap_50k_0MHzDC_PTFE_LUT_gamma_h5/MonolithicCsI.CsI.62.h5\n"
     ]
    },
    {
     "name": "stderr",
     "output_type": "stream",
     "text": [
      " 62%|████████████████████████████████████▌                      | 62/100 [00:55<00:33,  1.13it/s]"
     ]
    },
    {
     "name": "stdout",
     "output_type": "stream",
     "text": [
      "saving file = /home/investigator/Data/monolithic_csi/CsI_6x6_fullwrap_50k_0MHzDC_PTFE_LUT_gamma_phe/images_62.npy\n",
      "reading nexus file = /home/investigator/Data/monolithic_csi/CsI_6x6_fullwrap_50k_0MHzDC_PTFE_LUT_gamma_h5/MonolithicCsI.CsI.63.h5\n"
     ]
    },
    {
     "name": "stderr",
     "output_type": "stream",
     "text": [
      " 63%|█████████████████████████████████████▏                     | 63/100 [00:55<00:32,  1.13it/s]"
     ]
    },
    {
     "name": "stdout",
     "output_type": "stream",
     "text": [
      "saving file = /home/investigator/Data/monolithic_csi/CsI_6x6_fullwrap_50k_0MHzDC_PTFE_LUT_gamma_phe/images_63.npy\n",
      "reading nexus file = /home/investigator/Data/monolithic_csi/CsI_6x6_fullwrap_50k_0MHzDC_PTFE_LUT_gamma_h5/MonolithicCsI.CsI.64.h5\n"
     ]
    },
    {
     "name": "stderr",
     "output_type": "stream",
     "text": [
      " 64%|█████████████████████████████████████▊                     | 64/100 [00:56<00:31,  1.13it/s]"
     ]
    },
    {
     "name": "stdout",
     "output_type": "stream",
     "text": [
      "saving file = /home/investigator/Data/monolithic_csi/CsI_6x6_fullwrap_50k_0MHzDC_PTFE_LUT_gamma_phe/images_64.npy\n",
      "reading nexus file = /home/investigator/Data/monolithic_csi/CsI_6x6_fullwrap_50k_0MHzDC_PTFE_LUT_gamma_h5/MonolithicCsI.CsI.65.h5\n"
     ]
    },
    {
     "name": "stderr",
     "output_type": "stream",
     "text": [
      " 65%|██████████████████████████████████████▎                    | 65/100 [00:57<00:31,  1.12it/s]"
     ]
    },
    {
     "name": "stdout",
     "output_type": "stream",
     "text": [
      "saving file = /home/investigator/Data/monolithic_csi/CsI_6x6_fullwrap_50k_0MHzDC_PTFE_LUT_gamma_phe/images_65.npy\n",
      "reading nexus file = /home/investigator/Data/monolithic_csi/CsI_6x6_fullwrap_50k_0MHzDC_PTFE_LUT_gamma_h5/MonolithicCsI.CsI.66.h5\n"
     ]
    },
    {
     "name": "stderr",
     "output_type": "stream",
     "text": [
      " 66%|██████████████████████████████████████▉                    | 66/100 [00:58<00:30,  1.13it/s]"
     ]
    },
    {
     "name": "stdout",
     "output_type": "stream",
     "text": [
      "saving file = /home/investigator/Data/monolithic_csi/CsI_6x6_fullwrap_50k_0MHzDC_PTFE_LUT_gamma_phe/images_66.npy\n",
      "reading nexus file = /home/investigator/Data/monolithic_csi/CsI_6x6_fullwrap_50k_0MHzDC_PTFE_LUT_gamma_h5/MonolithicCsI.CsI.67.h5\n"
     ]
    },
    {
     "name": "stderr",
     "output_type": "stream",
     "text": [
      " 67%|███████████████████████████████████████▌                   | 67/100 [00:59<00:29,  1.13it/s]"
     ]
    },
    {
     "name": "stdout",
     "output_type": "stream",
     "text": [
      "saving file = /home/investigator/Data/monolithic_csi/CsI_6x6_fullwrap_50k_0MHzDC_PTFE_LUT_gamma_phe/images_67.npy\n",
      "reading nexus file = /home/investigator/Data/monolithic_csi/CsI_6x6_fullwrap_50k_0MHzDC_PTFE_LUT_gamma_h5/MonolithicCsI.CsI.68.h5\n"
     ]
    },
    {
     "name": "stderr",
     "output_type": "stream",
     "text": [
      " 68%|████████████████████████████████████████                   | 68/100 [01:00<00:28,  1.13it/s]"
     ]
    },
    {
     "name": "stdout",
     "output_type": "stream",
     "text": [
      "saving file = /home/investigator/Data/monolithic_csi/CsI_6x6_fullwrap_50k_0MHzDC_PTFE_LUT_gamma_phe/images_68.npy\n",
      "reading nexus file = /home/investigator/Data/monolithic_csi/CsI_6x6_fullwrap_50k_0MHzDC_PTFE_LUT_gamma_h5/MonolithicCsI.CsI.69.h5\n"
     ]
    },
    {
     "name": "stderr",
     "output_type": "stream",
     "text": [
      " 69%|████████████████████████████████████████▋                  | 69/100 [01:01<00:27,  1.13it/s]"
     ]
    },
    {
     "name": "stdout",
     "output_type": "stream",
     "text": [
      "saving file = /home/investigator/Data/monolithic_csi/CsI_6x6_fullwrap_50k_0MHzDC_PTFE_LUT_gamma_phe/images_69.npy\n",
      "reading nexus file = /home/investigator/Data/monolithic_csi/CsI_6x6_fullwrap_50k_0MHzDC_PTFE_LUT_gamma_h5/MonolithicCsI.CsI.70.h5\n"
     ]
    },
    {
     "name": "stderr",
     "output_type": "stream",
     "text": [
      " 70%|█████████████████████████████████████████▎                 | 70/100 [01:02<00:26,  1.13it/s]"
     ]
    },
    {
     "name": "stdout",
     "output_type": "stream",
     "text": [
      "saving file = /home/investigator/Data/monolithic_csi/CsI_6x6_fullwrap_50k_0MHzDC_PTFE_LUT_gamma_phe/images_70.npy\n",
      "reading nexus file = /home/investigator/Data/monolithic_csi/CsI_6x6_fullwrap_50k_0MHzDC_PTFE_LUT_gamma_h5/MonolithicCsI.CsI.71.h5\n"
     ]
    },
    {
     "name": "stderr",
     "output_type": "stream",
     "text": [
      " 71%|█████████████████████████████████████████▉                 | 71/100 [01:03<00:25,  1.12it/s]"
     ]
    },
    {
     "name": "stdout",
     "output_type": "stream",
     "text": [
      "saving file = /home/investigator/Data/monolithic_csi/CsI_6x6_fullwrap_50k_0MHzDC_PTFE_LUT_gamma_phe/images_71.npy\n",
      "reading nexus file = /home/investigator/Data/monolithic_csi/CsI_6x6_fullwrap_50k_0MHzDC_PTFE_LUT_gamma_h5/MonolithicCsI.CsI.72.h5\n"
     ]
    },
    {
     "name": "stderr",
     "output_type": "stream",
     "text": [
      " 72%|██████████████████████████████████████████▍                | 72/100 [01:03<00:25,  1.12it/s]"
     ]
    },
    {
     "name": "stdout",
     "output_type": "stream",
     "text": [
      "saving file = /home/investigator/Data/monolithic_csi/CsI_6x6_fullwrap_50k_0MHzDC_PTFE_LUT_gamma_phe/images_72.npy\n",
      "reading nexus file = /home/investigator/Data/monolithic_csi/CsI_6x6_fullwrap_50k_0MHzDC_PTFE_LUT_gamma_h5/MonolithicCsI.CsI.73.h5\n"
     ]
    },
    {
     "name": "stderr",
     "output_type": "stream",
     "text": [
      " 73%|███████████████████████████████████████████                | 73/100 [01:04<00:24,  1.11it/s]"
     ]
    },
    {
     "name": "stdout",
     "output_type": "stream",
     "text": [
      "saving file = /home/investigator/Data/monolithic_csi/CsI_6x6_fullwrap_50k_0MHzDC_PTFE_LUT_gamma_phe/images_73.npy\n",
      "reading nexus file = /home/investigator/Data/monolithic_csi/CsI_6x6_fullwrap_50k_0MHzDC_PTFE_LUT_gamma_h5/MonolithicCsI.CsI.74.h5\n"
     ]
    },
    {
     "name": "stderr",
     "output_type": "stream",
     "text": [
      " 74%|███████████████████████████████████████████▋               | 74/100 [01:05<00:23,  1.12it/s]"
     ]
    },
    {
     "name": "stdout",
     "output_type": "stream",
     "text": [
      "saving file = /home/investigator/Data/monolithic_csi/CsI_6x6_fullwrap_50k_0MHzDC_PTFE_LUT_gamma_phe/images_74.npy\n",
      "reading nexus file = /home/investigator/Data/monolithic_csi/CsI_6x6_fullwrap_50k_0MHzDC_PTFE_LUT_gamma_h5/MonolithicCsI.CsI.75.h5\n"
     ]
    },
    {
     "name": "stderr",
     "output_type": "stream",
     "text": [
      " 75%|████████████████████████████████████████████▎              | 75/100 [01:06<00:22,  1.12it/s]"
     ]
    },
    {
     "name": "stdout",
     "output_type": "stream",
     "text": [
      "saving file = /home/investigator/Data/monolithic_csi/CsI_6x6_fullwrap_50k_0MHzDC_PTFE_LUT_gamma_phe/images_75.npy\n",
      "reading nexus file = /home/investigator/Data/monolithic_csi/CsI_6x6_fullwrap_50k_0MHzDC_PTFE_LUT_gamma_h5/MonolithicCsI.CsI.76.h5\n"
     ]
    },
    {
     "name": "stderr",
     "output_type": "stream",
     "text": [
      " 76%|████████████████████████████████████████████▊              | 76/100 [01:07<00:21,  1.11it/s]"
     ]
    },
    {
     "name": "stdout",
     "output_type": "stream",
     "text": [
      "saving file = /home/investigator/Data/monolithic_csi/CsI_6x6_fullwrap_50k_0MHzDC_PTFE_LUT_gamma_phe/images_76.npy\n",
      "reading nexus file = /home/investigator/Data/monolithic_csi/CsI_6x6_fullwrap_50k_0MHzDC_PTFE_LUT_gamma_h5/MonolithicCsI.CsI.77.h5\n"
     ]
    },
    {
     "name": "stderr",
     "output_type": "stream",
     "text": [
      " 77%|█████████████████████████████████████████████▍             | 77/100 [01:08<00:20,  1.10it/s]"
     ]
    },
    {
     "name": "stdout",
     "output_type": "stream",
     "text": [
      "saving file = /home/investigator/Data/monolithic_csi/CsI_6x6_fullwrap_50k_0MHzDC_PTFE_LUT_gamma_phe/images_77.npy\n",
      "reading nexus file = /home/investigator/Data/monolithic_csi/CsI_6x6_fullwrap_50k_0MHzDC_PTFE_LUT_gamma_h5/MonolithicCsI.CsI.78.h5\n"
     ]
    },
    {
     "name": "stderr",
     "output_type": "stream",
     "text": [
      " 78%|██████████████████████████████████████████████             | 78/100 [01:09<00:19,  1.11it/s]"
     ]
    },
    {
     "name": "stdout",
     "output_type": "stream",
     "text": [
      "saving file = /home/investigator/Data/monolithic_csi/CsI_6x6_fullwrap_50k_0MHzDC_PTFE_LUT_gamma_phe/images_78.npy\n",
      "reading nexus file = /home/investigator/Data/monolithic_csi/CsI_6x6_fullwrap_50k_0MHzDC_PTFE_LUT_gamma_h5/MonolithicCsI.CsI.79.h5\n"
     ]
    },
    {
     "name": "stderr",
     "output_type": "stream",
     "text": [
      " 79%|██████████████████████████████████████████████▌            | 79/100 [01:10<00:18,  1.14it/s]"
     ]
    },
    {
     "name": "stdout",
     "output_type": "stream",
     "text": [
      "saving file = /home/investigator/Data/monolithic_csi/CsI_6x6_fullwrap_50k_0MHzDC_PTFE_LUT_gamma_phe/images_79.npy\n",
      "reading nexus file = /home/investigator/Data/monolithic_csi/CsI_6x6_fullwrap_50k_0MHzDC_PTFE_LUT_gamma_h5/MonolithicCsI.CsI.80.h5\n"
     ]
    },
    {
     "name": "stderr",
     "output_type": "stream",
     "text": [
      " 80%|███████████████████████████████████████████████▏           | 80/100 [01:11<00:17,  1.15it/s]"
     ]
    },
    {
     "name": "stdout",
     "output_type": "stream",
     "text": [
      "saving file = /home/investigator/Data/monolithic_csi/CsI_6x6_fullwrap_50k_0MHzDC_PTFE_LUT_gamma_phe/images_80.npy\n",
      "reading nexus file = /home/investigator/Data/monolithic_csi/CsI_6x6_fullwrap_50k_0MHzDC_PTFE_LUT_gamma_h5/MonolithicCsI.CsI.81.h5\n"
     ]
    },
    {
     "name": "stderr",
     "output_type": "stream",
     "text": [
      " 81%|███████████████████████████████████████████████▊           | 81/100 [01:11<00:16,  1.15it/s]"
     ]
    },
    {
     "name": "stdout",
     "output_type": "stream",
     "text": [
      "saving file = /home/investigator/Data/monolithic_csi/CsI_6x6_fullwrap_50k_0MHzDC_PTFE_LUT_gamma_phe/images_81.npy\n",
      "reading nexus file = /home/investigator/Data/monolithic_csi/CsI_6x6_fullwrap_50k_0MHzDC_PTFE_LUT_gamma_h5/MonolithicCsI.CsI.82.h5\n"
     ]
    },
    {
     "name": "stderr",
     "output_type": "stream",
     "text": [
      " 82%|████████████████████████████████████████████████▍          | 82/100 [01:12<00:15,  1.14it/s]"
     ]
    },
    {
     "name": "stdout",
     "output_type": "stream",
     "text": [
      "saving file = /home/investigator/Data/monolithic_csi/CsI_6x6_fullwrap_50k_0MHzDC_PTFE_LUT_gamma_phe/images_82.npy\n",
      "reading nexus file = /home/investigator/Data/monolithic_csi/CsI_6x6_fullwrap_50k_0MHzDC_PTFE_LUT_gamma_h5/MonolithicCsI.CsI.83.h5\n"
     ]
    },
    {
     "name": "stderr",
     "output_type": "stream",
     "text": [
      " 83%|████████████████████████████████████████████████▉          | 83/100 [01:13<00:14,  1.14it/s]"
     ]
    },
    {
     "name": "stdout",
     "output_type": "stream",
     "text": [
      "saving file = /home/investigator/Data/monolithic_csi/CsI_6x6_fullwrap_50k_0MHzDC_PTFE_LUT_gamma_phe/images_83.npy\n",
      "reading nexus file = /home/investigator/Data/monolithic_csi/CsI_6x6_fullwrap_50k_0MHzDC_PTFE_LUT_gamma_h5/MonolithicCsI.CsI.84.h5\n"
     ]
    },
    {
     "name": "stderr",
     "output_type": "stream",
     "text": [
      " 84%|█████████████████████████████████████████████████▌         | 84/100 [01:14<00:14,  1.12it/s]"
     ]
    },
    {
     "name": "stdout",
     "output_type": "stream",
     "text": [
      "saving file = /home/investigator/Data/monolithic_csi/CsI_6x6_fullwrap_50k_0MHzDC_PTFE_LUT_gamma_phe/images_84.npy\n",
      "reading nexus file = /home/investigator/Data/monolithic_csi/CsI_6x6_fullwrap_50k_0MHzDC_PTFE_LUT_gamma_h5/MonolithicCsI.CsI.85.h5\n"
     ]
    },
    {
     "name": "stderr",
     "output_type": "stream",
     "text": [
      " 85%|██████████████████████████████████████████████████▏        | 85/100 [01:15<00:13,  1.13it/s]"
     ]
    },
    {
     "name": "stdout",
     "output_type": "stream",
     "text": [
      "saving file = /home/investigator/Data/monolithic_csi/CsI_6x6_fullwrap_50k_0MHzDC_PTFE_LUT_gamma_phe/images_85.npy\n",
      "reading nexus file = /home/investigator/Data/monolithic_csi/CsI_6x6_fullwrap_50k_0MHzDC_PTFE_LUT_gamma_h5/MonolithicCsI.CsI.86.h5\n"
     ]
    },
    {
     "name": "stderr",
     "output_type": "stream",
     "text": [
      " 86%|██████████████████████████████████████████████████▋        | 86/100 [01:16<00:12,  1.11it/s]"
     ]
    },
    {
     "name": "stdout",
     "output_type": "stream",
     "text": [
      "saving file = /home/investigator/Data/monolithic_csi/CsI_6x6_fullwrap_50k_0MHzDC_PTFE_LUT_gamma_phe/images_86.npy\n",
      "reading nexus file = /home/investigator/Data/monolithic_csi/CsI_6x6_fullwrap_50k_0MHzDC_PTFE_LUT_gamma_h5/MonolithicCsI.CsI.87.h5\n"
     ]
    },
    {
     "name": "stderr",
     "output_type": "stream",
     "text": [
      " 87%|███████████████████████████████████████████████████▎       | 87/100 [01:17<00:11,  1.11it/s]"
     ]
    },
    {
     "name": "stdout",
     "output_type": "stream",
     "text": [
      "saving file = /home/investigator/Data/monolithic_csi/CsI_6x6_fullwrap_50k_0MHzDC_PTFE_LUT_gamma_phe/images_87.npy\n",
      "reading nexus file = /home/investigator/Data/monolithic_csi/CsI_6x6_fullwrap_50k_0MHzDC_PTFE_LUT_gamma_h5/MonolithicCsI.CsI.88.h5\n"
     ]
    },
    {
     "name": "stderr",
     "output_type": "stream",
     "text": [
      " 88%|███████████████████████████████████████████████████▉       | 88/100 [01:18<00:10,  1.11it/s]"
     ]
    },
    {
     "name": "stdout",
     "output_type": "stream",
     "text": [
      "saving file = /home/investigator/Data/monolithic_csi/CsI_6x6_fullwrap_50k_0MHzDC_PTFE_LUT_gamma_phe/images_88.npy\n",
      "reading nexus file = /home/investigator/Data/monolithic_csi/CsI_6x6_fullwrap_50k_0MHzDC_PTFE_LUT_gamma_h5/MonolithicCsI.CsI.89.h5\n"
     ]
    },
    {
     "name": "stderr",
     "output_type": "stream",
     "text": [
      " 89%|████████████████████████████████████████████████████▌      | 89/100 [01:19<00:09,  1.12it/s]"
     ]
    },
    {
     "name": "stdout",
     "output_type": "stream",
     "text": [
      "saving file = /home/investigator/Data/monolithic_csi/CsI_6x6_fullwrap_50k_0MHzDC_PTFE_LUT_gamma_phe/images_89.npy\n",
      "reading nexus file = /home/investigator/Data/monolithic_csi/CsI_6x6_fullwrap_50k_0MHzDC_PTFE_LUT_gamma_h5/MonolithicCsI.CsI.90.h5\n"
     ]
    },
    {
     "name": "stderr",
     "output_type": "stream",
     "text": [
      " 90%|█████████████████████████████████████████████████████      | 90/100 [01:20<00:08,  1.12it/s]"
     ]
    },
    {
     "name": "stdout",
     "output_type": "stream",
     "text": [
      "saving file = /home/investigator/Data/monolithic_csi/CsI_6x6_fullwrap_50k_0MHzDC_PTFE_LUT_gamma_phe/images_90.npy\n",
      "reading nexus file = /home/investigator/Data/monolithic_csi/CsI_6x6_fullwrap_50k_0MHzDC_PTFE_LUT_gamma_h5/MonolithicCsI.CsI.91.h5\n"
     ]
    },
    {
     "name": "stderr",
     "output_type": "stream",
     "text": [
      " 91%|█████████████████████████████████████████████████████▋     | 91/100 [01:20<00:07,  1.13it/s]"
     ]
    },
    {
     "name": "stdout",
     "output_type": "stream",
     "text": [
      "saving file = /home/investigator/Data/monolithic_csi/CsI_6x6_fullwrap_50k_0MHzDC_PTFE_LUT_gamma_phe/images_91.npy\n",
      "reading nexus file = /home/investigator/Data/monolithic_csi/CsI_6x6_fullwrap_50k_0MHzDC_PTFE_LUT_gamma_h5/MonolithicCsI.CsI.92.h5\n"
     ]
    },
    {
     "name": "stderr",
     "output_type": "stream",
     "text": [
      " 92%|██████████████████████████████████████████████████████▎    | 92/100 [01:21<00:07,  1.13it/s]"
     ]
    },
    {
     "name": "stdout",
     "output_type": "stream",
     "text": [
      "saving file = /home/investigator/Data/monolithic_csi/CsI_6x6_fullwrap_50k_0MHzDC_PTFE_LUT_gamma_phe/images_92.npy\n",
      "reading nexus file = /home/investigator/Data/monolithic_csi/CsI_6x6_fullwrap_50k_0MHzDC_PTFE_LUT_gamma_h5/MonolithicCsI.CsI.93.h5\n"
     ]
    },
    {
     "name": "stderr",
     "output_type": "stream",
     "text": [
      " 93%|██████████████████████████████████████████████████████▊    | 93/100 [01:22<00:06,  1.11it/s]"
     ]
    },
    {
     "name": "stdout",
     "output_type": "stream",
     "text": [
      "saving file = /home/investigator/Data/monolithic_csi/CsI_6x6_fullwrap_50k_0MHzDC_PTFE_LUT_gamma_phe/images_93.npy\n",
      "reading nexus file = /home/investigator/Data/monolithic_csi/CsI_6x6_fullwrap_50k_0MHzDC_PTFE_LUT_gamma_h5/MonolithicCsI.CsI.94.h5\n"
     ]
    },
    {
     "name": "stderr",
     "output_type": "stream",
     "text": [
      " 94%|███████████████████████████████████████████████████████▍   | 94/100 [01:23<00:05,  1.11it/s]"
     ]
    },
    {
     "name": "stdout",
     "output_type": "stream",
     "text": [
      "saving file = /home/investigator/Data/monolithic_csi/CsI_6x6_fullwrap_50k_0MHzDC_PTFE_LUT_gamma_phe/images_94.npy\n",
      "reading nexus file = /home/investigator/Data/monolithic_csi/CsI_6x6_fullwrap_50k_0MHzDC_PTFE_LUT_gamma_h5/MonolithicCsI.CsI.95.h5\n"
     ]
    },
    {
     "name": "stderr",
     "output_type": "stream",
     "text": [
      " 95%|████████████████████████████████████████████████████████   | 95/100 [01:24<00:04,  1.12it/s]"
     ]
    },
    {
     "name": "stdout",
     "output_type": "stream",
     "text": [
      "saving file = /home/investigator/Data/monolithic_csi/CsI_6x6_fullwrap_50k_0MHzDC_PTFE_LUT_gamma_phe/images_95.npy\n",
      "reading nexus file = /home/investigator/Data/monolithic_csi/CsI_6x6_fullwrap_50k_0MHzDC_PTFE_LUT_gamma_h5/MonolithicCsI.CsI.96.h5\n"
     ]
    },
    {
     "name": "stderr",
     "output_type": "stream",
     "text": [
      " 96%|████████████████████████████████████████████████████████▋  | 96/100 [01:25<00:03,  1.11it/s]"
     ]
    },
    {
     "name": "stdout",
     "output_type": "stream",
     "text": [
      "saving file = /home/investigator/Data/monolithic_csi/CsI_6x6_fullwrap_50k_0MHzDC_PTFE_LUT_gamma_phe/images_96.npy\n",
      "reading nexus file = /home/investigator/Data/monolithic_csi/CsI_6x6_fullwrap_50k_0MHzDC_PTFE_LUT_gamma_h5/MonolithicCsI.CsI.97.h5\n"
     ]
    },
    {
     "name": "stderr",
     "output_type": "stream",
     "text": [
      " 97%|█████████████████████████████████████████████████████████▏ | 97/100 [01:26<00:02,  1.13it/s]"
     ]
    },
    {
     "name": "stdout",
     "output_type": "stream",
     "text": [
      "saving file = /home/investigator/Data/monolithic_csi/CsI_6x6_fullwrap_50k_0MHzDC_PTFE_LUT_gamma_phe/images_97.npy\n",
      "reading nexus file = /home/investigator/Data/monolithic_csi/CsI_6x6_fullwrap_50k_0MHzDC_PTFE_LUT_gamma_h5/MonolithicCsI.CsI.98.h5\n"
     ]
    },
    {
     "name": "stderr",
     "output_type": "stream",
     "text": [
      " 98%|█████████████████████████████████████████████████████████▊ | 98/100 [01:27<00:01,  1.14it/s]"
     ]
    },
    {
     "name": "stdout",
     "output_type": "stream",
     "text": [
      "saving file = /home/investigator/Data/monolithic_csi/CsI_6x6_fullwrap_50k_0MHzDC_PTFE_LUT_gamma_phe/images_98.npy\n",
      "reading nexus file = /home/investigator/Data/monolithic_csi/CsI_6x6_fullwrap_50k_0MHzDC_PTFE_LUT_gamma_h5/MonolithicCsI.CsI.99.h5\n"
     ]
    },
    {
     "name": "stderr",
     "output_type": "stream",
     "text": [
      " 99%|██████████████████████████████████████████████████████████▍| 99/100 [01:27<00:00,  1.14it/s]"
     ]
    },
    {
     "name": "stdout",
     "output_type": "stream",
     "text": [
      "saving file = /home/investigator/Data/monolithic_csi/CsI_6x6_fullwrap_50k_0MHzDC_PTFE_LUT_gamma_phe/images_99.npy\n",
      "reading nexus file = /home/investigator/Data/monolithic_csi/CsI_6x6_fullwrap_50k_0MHzDC_PTFE_LUT_gamma_h5/MonolithicCsI.CsI.100.h5\n"
     ]
    },
    {
     "name": "stderr",
     "output_type": "stream",
     "text": [
      "100%|██████████████████████████████████████████████████████████| 100/100 [01:28<00:00,  1.13it/s]"
     ]
    },
    {
     "name": "stdout",
     "output_type": "stream",
     "text": [
      "saving file = /home/investigator/Data/monolithic_csi/CsI_6x6_fullwrap_50k_0MHzDC_PTFE_LUT_gamma_phe/images_100.npy\n"
     ]
    },
    {
     "name": "stderr",
     "output_type": "stream",
     "text": [
      "\n"
     ]
    }
   ],
   "source": [
    "write_images(photdf, ifolder, ofolder,\n",
    "             events_per_file, got_positions, crystal_width, sipm_width, h5fpfx)"
   ]
  },
  {
   "cell_type": "markdown",
   "id": "b321de26-4746-4b48-a90f-c42a4619f14e",
   "metadata": {},
   "source": [
    "## Write df for Compton events"
   ]
  },
  {
   "cell_type": "code",
   "execution_count": 58,
   "id": "3d9fc241-e24b-416d-9771-3492956e4b18",
   "metadata": {},
   "outputs": [],
   "source": [
    "idf = \"compt.csv\"\n",
    "pathc = os.path.join(dir, idf)\n",
    "clkpdf.to_csv(pathc, index=False)\n"
   ]
  },
  {
   "cell_type": "code",
   "execution_count": 59,
   "id": "e21d7d46-c258-41c3-a918-d062970071b4",
   "metadata": {},
   "outputs": [
    {
     "name": "stdout",
     "output_type": "stream",
     "text": [
      "input folder =/home/investigator/Data/monolithic_csi/CsI_6x6_fullwrap_50k_0MHzDC_PTFE_LUT_gamma_h5, output folder = /home/investigator/Data/monolithic_csi/CsI_6x6_fullwrap_50k_0MHzDC_PTFE_LUT_gamma_compt\n"
     ]
    }
   ],
   "source": [
    "ofolder = os.path.join(path_to_data, get_folder_out(folder_h5,lbl=\"compt\") ) \n",
    "print(f\"input folder ={ifolder}, output folder = {ofolder}\")"
   ]
  },
  {
   "cell_type": "code",
   "execution_count": 60,
   "id": "2e0a5606-f2e2-4a43-8593-fc81b8ed2990",
   "metadata": {},
   "outputs": [],
   "source": [
    "if not os.path.exists(ofolder):\n",
    "    os.makedirs(ofolder)"
   ]
  },
  {
   "cell_type": "code",
   "execution_count": 61,
   "id": "2cb6d69f-5852-4738-81c2-c9ceb98baa37",
   "metadata": {},
   "outputs": [
    {
     "name": "stdout",
     "output_type": "stream",
     "text": [
      "input file =/home/investigator/Data/monolithic_csi/CsI_6x6_fullwrap_50k_0MHzDC_PTFE_LUT_gamma_h5/compt.csv, output file = /home/investigator/Data/monolithic_csi/CsI_6x6_fullwrap_50k_0MHzDC_PTFE_LUT_gamma_compt/compt.csv\n"
     ]
    }
   ],
   "source": [
    "ifile = os.path.join(ifolder, idf)\n",
    "ofile = os.path.join(ofolder, idf)\n",
    "print(f\"input file ={ifile}, output file = {ofile}\")"
   ]
  },
  {
   "cell_type": "code",
   "execution_count": 62,
   "id": "c114ca50-f482-43c8-b85f-94625e957934",
   "metadata": {},
   "outputs": [
    {
     "data": {
      "text/plain": [
       "'/home/investigator/Data/monolithic_csi/CsI_6x6_fullwrap_50k_0MHzDC_PTFE_LUT_gamma_compt/compt.csv'"
      ]
     },
     "execution_count": 62,
     "metadata": {},
     "output_type": "execute_result"
    }
   ],
   "source": [
    "shutil.copy(ifile, ofile)"
   ]
  },
  {
   "cell_type": "code",
   "execution_count": 63,
   "id": "509177d8-f6c1-4266-8d7e-9a8fdad5f2c7",
   "metadata": {},
   "outputs": [
    {
     "name": "stderr",
     "output_type": "stream",
     "text": [
      "  0%|                                                   | 0/100 [00:00<?, ?it/s]"
     ]
    },
    {
     "name": "stdout",
     "output_type": "stream",
     "text": [
      "reading nexus file = /home/investigator/Data/monolithic_csi/CsI_6x6_fullwrap_50k_0MHzDC_PTFE_LUT_gamma_h5/MonolithicCsI.CsI.1.h5\n"
     ]
    },
    {
     "name": "stderr",
     "output_type": "stream",
     "text": [
      "  1%|▍                                          | 1/100 [00:02<03:32,  2.15s/it]"
     ]
    },
    {
     "name": "stdout",
     "output_type": "stream",
     "text": [
      "saving file = /home/investigator/Data/monolithic_csi/CsI_6x6_fullwrap_50k_0MHzDC_PTFE_LUT_gamma_compt/images_1.npy\n",
      "reading nexus file = /home/investigator/Data/monolithic_csi/CsI_6x6_fullwrap_50k_0MHzDC_PTFE_LUT_gamma_h5/MonolithicCsI.CsI.2.h5\n"
     ]
    },
    {
     "name": "stderr",
     "output_type": "stream",
     "text": [
      "  2%|▊                                          | 2/100 [00:04<03:23,  2.08s/it]"
     ]
    },
    {
     "name": "stdout",
     "output_type": "stream",
     "text": [
      "saving file = /home/investigator/Data/monolithic_csi/CsI_6x6_fullwrap_50k_0MHzDC_PTFE_LUT_gamma_compt/images_2.npy\n",
      "reading nexus file = /home/investigator/Data/monolithic_csi/CsI_6x6_fullwrap_50k_0MHzDC_PTFE_LUT_gamma_h5/MonolithicCsI.CsI.3.h5\n"
     ]
    },
    {
     "name": "stderr",
     "output_type": "stream",
     "text": [
      "  3%|█▎                                         | 3/100 [00:06<03:19,  2.06s/it]"
     ]
    },
    {
     "name": "stdout",
     "output_type": "stream",
     "text": [
      "saving file = /home/investigator/Data/monolithic_csi/CsI_6x6_fullwrap_50k_0MHzDC_PTFE_LUT_gamma_compt/images_3.npy\n",
      "reading nexus file = /home/investigator/Data/monolithic_csi/CsI_6x6_fullwrap_50k_0MHzDC_PTFE_LUT_gamma_h5/MonolithicCsI.CsI.4.h5\n"
     ]
    },
    {
     "name": "stderr",
     "output_type": "stream",
     "text": [
      "  4%|█▋                                         | 4/100 [00:08<03:17,  2.05s/it]"
     ]
    },
    {
     "name": "stdout",
     "output_type": "stream",
     "text": [
      "saving file = /home/investigator/Data/monolithic_csi/CsI_6x6_fullwrap_50k_0MHzDC_PTFE_LUT_gamma_compt/images_4.npy\n",
      "reading nexus file = /home/investigator/Data/monolithic_csi/CsI_6x6_fullwrap_50k_0MHzDC_PTFE_LUT_gamma_h5/MonolithicCsI.CsI.5.h5\n"
     ]
    },
    {
     "name": "stderr",
     "output_type": "stream",
     "text": [
      "  5%|██▏                                        | 5/100 [00:10<03:14,  2.05s/it]"
     ]
    },
    {
     "name": "stdout",
     "output_type": "stream",
     "text": [
      "saving file = /home/investigator/Data/monolithic_csi/CsI_6x6_fullwrap_50k_0MHzDC_PTFE_LUT_gamma_compt/images_5.npy\n",
      "reading nexus file = /home/investigator/Data/monolithic_csi/CsI_6x6_fullwrap_50k_0MHzDC_PTFE_LUT_gamma_h5/MonolithicCsI.CsI.6.h5\n"
     ]
    },
    {
     "name": "stderr",
     "output_type": "stream",
     "text": [
      "  6%|██▌                                        | 6/100 [00:12<03:12,  2.05s/it]"
     ]
    },
    {
     "name": "stdout",
     "output_type": "stream",
     "text": [
      "saving file = /home/investigator/Data/monolithic_csi/CsI_6x6_fullwrap_50k_0MHzDC_PTFE_LUT_gamma_compt/images_6.npy\n",
      "reading nexus file = /home/investigator/Data/monolithic_csi/CsI_6x6_fullwrap_50k_0MHzDC_PTFE_LUT_gamma_h5/MonolithicCsI.CsI.7.h5\n"
     ]
    },
    {
     "name": "stderr",
     "output_type": "stream",
     "text": [
      "  7%|███                                        | 7/100 [00:14<03:08,  2.02s/it]"
     ]
    },
    {
     "name": "stdout",
     "output_type": "stream",
     "text": [
      "saving file = /home/investigator/Data/monolithic_csi/CsI_6x6_fullwrap_50k_0MHzDC_PTFE_LUT_gamma_compt/images_7.npy\n",
      "reading nexus file = /home/investigator/Data/monolithic_csi/CsI_6x6_fullwrap_50k_0MHzDC_PTFE_LUT_gamma_h5/MonolithicCsI.CsI.8.h5\n"
     ]
    },
    {
     "name": "stderr",
     "output_type": "stream",
     "text": [
      "  8%|███▍                                       | 8/100 [00:16<03:06,  2.02s/it]"
     ]
    },
    {
     "name": "stdout",
     "output_type": "stream",
     "text": [
      "saving file = /home/investigator/Data/monolithic_csi/CsI_6x6_fullwrap_50k_0MHzDC_PTFE_LUT_gamma_compt/images_8.npy\n",
      "reading nexus file = /home/investigator/Data/monolithic_csi/CsI_6x6_fullwrap_50k_0MHzDC_PTFE_LUT_gamma_h5/MonolithicCsI.CsI.9.h5\n"
     ]
    },
    {
     "name": "stderr",
     "output_type": "stream",
     "text": [
      "  9%|███▊                                       | 9/100 [00:18<03:04,  2.02s/it]"
     ]
    },
    {
     "name": "stdout",
     "output_type": "stream",
     "text": [
      "saving file = /home/investigator/Data/monolithic_csi/CsI_6x6_fullwrap_50k_0MHzDC_PTFE_LUT_gamma_compt/images_9.npy\n",
      "reading nexus file = /home/investigator/Data/monolithic_csi/CsI_6x6_fullwrap_50k_0MHzDC_PTFE_LUT_gamma_h5/MonolithicCsI.CsI.10.h5\n"
     ]
    },
    {
     "name": "stderr",
     "output_type": "stream",
     "text": [
      " 10%|████▏                                     | 10/100 [00:20<03:02,  2.03s/it]"
     ]
    },
    {
     "name": "stdout",
     "output_type": "stream",
     "text": [
      "saving file = /home/investigator/Data/monolithic_csi/CsI_6x6_fullwrap_50k_0MHzDC_PTFE_LUT_gamma_compt/images_10.npy\n",
      "reading nexus file = /home/investigator/Data/monolithic_csi/CsI_6x6_fullwrap_50k_0MHzDC_PTFE_LUT_gamma_h5/MonolithicCsI.CsI.11.h5\n"
     ]
    },
    {
     "name": "stderr",
     "output_type": "stream",
     "text": [
      " 11%|████▌                                     | 11/100 [00:22<03:00,  2.03s/it]"
     ]
    },
    {
     "name": "stdout",
     "output_type": "stream",
     "text": [
      "saving file = /home/investigator/Data/monolithic_csi/CsI_6x6_fullwrap_50k_0MHzDC_PTFE_LUT_gamma_compt/images_11.npy\n",
      "reading nexus file = /home/investigator/Data/monolithic_csi/CsI_6x6_fullwrap_50k_0MHzDC_PTFE_LUT_gamma_h5/MonolithicCsI.CsI.12.h5\n"
     ]
    },
    {
     "name": "stderr",
     "output_type": "stream",
     "text": [
      " 12%|█████                                     | 12/100 [00:24<03:00,  2.05s/it]"
     ]
    },
    {
     "name": "stdout",
     "output_type": "stream",
     "text": [
      "saving file = /home/investigator/Data/monolithic_csi/CsI_6x6_fullwrap_50k_0MHzDC_PTFE_LUT_gamma_compt/images_12.npy\n",
      "reading nexus file = /home/investigator/Data/monolithic_csi/CsI_6x6_fullwrap_50k_0MHzDC_PTFE_LUT_gamma_h5/MonolithicCsI.CsI.13.h5\n"
     ]
    },
    {
     "name": "stderr",
     "output_type": "stream",
     "text": [
      " 13%|█████▍                                    | 13/100 [00:26<02:58,  2.05s/it]"
     ]
    },
    {
     "name": "stdout",
     "output_type": "stream",
     "text": [
      "saving file = /home/investigator/Data/monolithic_csi/CsI_6x6_fullwrap_50k_0MHzDC_PTFE_LUT_gamma_compt/images_13.npy\n",
      "reading nexus file = /home/investigator/Data/monolithic_csi/CsI_6x6_fullwrap_50k_0MHzDC_PTFE_LUT_gamma_h5/MonolithicCsI.CsI.14.h5\n"
     ]
    },
    {
     "name": "stderr",
     "output_type": "stream",
     "text": [
      " 14%|█████▉                                    | 14/100 [00:28<02:55,  2.04s/it]"
     ]
    },
    {
     "name": "stdout",
     "output_type": "stream",
     "text": [
      "saving file = /home/investigator/Data/monolithic_csi/CsI_6x6_fullwrap_50k_0MHzDC_PTFE_LUT_gamma_compt/images_14.npy\n",
      "reading nexus file = /home/investigator/Data/monolithic_csi/CsI_6x6_fullwrap_50k_0MHzDC_PTFE_LUT_gamma_h5/MonolithicCsI.CsI.15.h5\n"
     ]
    },
    {
     "name": "stderr",
     "output_type": "stream",
     "text": [
      " 15%|██████▎                                   | 15/100 [00:30<02:51,  2.02s/it]"
     ]
    },
    {
     "name": "stdout",
     "output_type": "stream",
     "text": [
      "saving file = /home/investigator/Data/monolithic_csi/CsI_6x6_fullwrap_50k_0MHzDC_PTFE_LUT_gamma_compt/images_15.npy\n",
      "reading nexus file = /home/investigator/Data/monolithic_csi/CsI_6x6_fullwrap_50k_0MHzDC_PTFE_LUT_gamma_h5/MonolithicCsI.CsI.16.h5\n"
     ]
    },
    {
     "name": "stderr",
     "output_type": "stream",
     "text": [
      " 16%|██████▋                                   | 16/100 [00:32<02:49,  2.02s/it]"
     ]
    },
    {
     "name": "stdout",
     "output_type": "stream",
     "text": [
      "saving file = /home/investigator/Data/monolithic_csi/CsI_6x6_fullwrap_50k_0MHzDC_PTFE_LUT_gamma_compt/images_16.npy\n",
      "reading nexus file = /home/investigator/Data/monolithic_csi/CsI_6x6_fullwrap_50k_0MHzDC_PTFE_LUT_gamma_h5/MonolithicCsI.CsI.17.h5\n"
     ]
    },
    {
     "name": "stderr",
     "output_type": "stream",
     "text": [
      " 17%|███████▏                                  | 17/100 [00:34<02:48,  2.03s/it]"
     ]
    },
    {
     "name": "stdout",
     "output_type": "stream",
     "text": [
      "saving file = /home/investigator/Data/monolithic_csi/CsI_6x6_fullwrap_50k_0MHzDC_PTFE_LUT_gamma_compt/images_17.npy\n",
      "reading nexus file = /home/investigator/Data/monolithic_csi/CsI_6x6_fullwrap_50k_0MHzDC_PTFE_LUT_gamma_h5/MonolithicCsI.CsI.18.h5\n"
     ]
    },
    {
     "name": "stderr",
     "output_type": "stream",
     "text": [
      " 18%|███████▌                                  | 18/100 [00:36<02:47,  2.04s/it]"
     ]
    },
    {
     "name": "stdout",
     "output_type": "stream",
     "text": [
      "saving file = /home/investigator/Data/monolithic_csi/CsI_6x6_fullwrap_50k_0MHzDC_PTFE_LUT_gamma_compt/images_18.npy\n",
      "reading nexus file = /home/investigator/Data/monolithic_csi/CsI_6x6_fullwrap_50k_0MHzDC_PTFE_LUT_gamma_h5/MonolithicCsI.CsI.19.h5\n"
     ]
    },
    {
     "name": "stderr",
     "output_type": "stream",
     "text": [
      " 19%|███████▉                                  | 19/100 [00:38<02:45,  2.04s/it]"
     ]
    },
    {
     "name": "stdout",
     "output_type": "stream",
     "text": [
      "saving file = /home/investigator/Data/monolithic_csi/CsI_6x6_fullwrap_50k_0MHzDC_PTFE_LUT_gamma_compt/images_19.npy\n",
      "reading nexus file = /home/investigator/Data/monolithic_csi/CsI_6x6_fullwrap_50k_0MHzDC_PTFE_LUT_gamma_h5/MonolithicCsI.CsI.20.h5\n"
     ]
    },
    {
     "name": "stderr",
     "output_type": "stream",
     "text": [
      " 20%|████████▍                                 | 20/100 [00:40<02:43,  2.04s/it]"
     ]
    },
    {
     "name": "stdout",
     "output_type": "stream",
     "text": [
      "saving file = /home/investigator/Data/monolithic_csi/CsI_6x6_fullwrap_50k_0MHzDC_PTFE_LUT_gamma_compt/images_20.npy\n",
      "reading nexus file = /home/investigator/Data/monolithic_csi/CsI_6x6_fullwrap_50k_0MHzDC_PTFE_LUT_gamma_h5/MonolithicCsI.CsI.21.h5\n"
     ]
    },
    {
     "name": "stderr",
     "output_type": "stream",
     "text": [
      " 21%|████████▊                                 | 21/100 [00:42<02:41,  2.05s/it]"
     ]
    },
    {
     "name": "stdout",
     "output_type": "stream",
     "text": [
      "saving file = /home/investigator/Data/monolithic_csi/CsI_6x6_fullwrap_50k_0MHzDC_PTFE_LUT_gamma_compt/images_21.npy\n",
      "reading nexus file = /home/investigator/Data/monolithic_csi/CsI_6x6_fullwrap_50k_0MHzDC_PTFE_LUT_gamma_h5/MonolithicCsI.CsI.22.h5\n"
     ]
    },
    {
     "name": "stderr",
     "output_type": "stream",
     "text": [
      " 22%|█████████▏                                | 22/100 [00:44<02:39,  2.05s/it]"
     ]
    },
    {
     "name": "stdout",
     "output_type": "stream",
     "text": [
      "saving file = /home/investigator/Data/monolithic_csi/CsI_6x6_fullwrap_50k_0MHzDC_PTFE_LUT_gamma_compt/images_22.npy\n",
      "reading nexus file = /home/investigator/Data/monolithic_csi/CsI_6x6_fullwrap_50k_0MHzDC_PTFE_LUT_gamma_h5/MonolithicCsI.CsI.23.h5\n"
     ]
    },
    {
     "name": "stderr",
     "output_type": "stream",
     "text": [
      " 23%|█████████▋                                | 23/100 [00:46<02:38,  2.05s/it]"
     ]
    },
    {
     "name": "stdout",
     "output_type": "stream",
     "text": [
      "saving file = /home/investigator/Data/monolithic_csi/CsI_6x6_fullwrap_50k_0MHzDC_PTFE_LUT_gamma_compt/images_23.npy\n",
      "reading nexus file = /home/investigator/Data/monolithic_csi/CsI_6x6_fullwrap_50k_0MHzDC_PTFE_LUT_gamma_h5/MonolithicCsI.CsI.24.h5\n"
     ]
    },
    {
     "name": "stderr",
     "output_type": "stream",
     "text": [
      " 24%|██████████                                | 24/100 [00:49<02:38,  2.09s/it]"
     ]
    },
    {
     "name": "stdout",
     "output_type": "stream",
     "text": [
      "saving file = /home/investigator/Data/monolithic_csi/CsI_6x6_fullwrap_50k_0MHzDC_PTFE_LUT_gamma_compt/images_24.npy\n",
      "reading nexus file = /home/investigator/Data/monolithic_csi/CsI_6x6_fullwrap_50k_0MHzDC_PTFE_LUT_gamma_h5/MonolithicCsI.CsI.25.h5\n"
     ]
    },
    {
     "name": "stderr",
     "output_type": "stream",
     "text": [
      " 25%|██████████▌                               | 25/100 [00:51<02:34,  2.06s/it]"
     ]
    },
    {
     "name": "stdout",
     "output_type": "stream",
     "text": [
      "saving file = /home/investigator/Data/monolithic_csi/CsI_6x6_fullwrap_50k_0MHzDC_PTFE_LUT_gamma_compt/images_25.npy\n",
      "reading nexus file = /home/investigator/Data/monolithic_csi/CsI_6x6_fullwrap_50k_0MHzDC_PTFE_LUT_gamma_h5/MonolithicCsI.CsI.26.h5\n"
     ]
    },
    {
     "name": "stderr",
     "output_type": "stream",
     "text": [
      " 26%|██████████▉                               | 26/100 [00:53<02:31,  2.05s/it]"
     ]
    },
    {
     "name": "stdout",
     "output_type": "stream",
     "text": [
      "saving file = /home/investigator/Data/monolithic_csi/CsI_6x6_fullwrap_50k_0MHzDC_PTFE_LUT_gamma_compt/images_26.npy\n",
      "reading nexus file = /home/investigator/Data/monolithic_csi/CsI_6x6_fullwrap_50k_0MHzDC_PTFE_LUT_gamma_h5/MonolithicCsI.CsI.27.h5\n"
     ]
    },
    {
     "name": "stderr",
     "output_type": "stream",
     "text": [
      " 27%|███████████▎                              | 27/100 [00:55<02:28,  2.03s/it]"
     ]
    },
    {
     "name": "stdout",
     "output_type": "stream",
     "text": [
      "saving file = /home/investigator/Data/monolithic_csi/CsI_6x6_fullwrap_50k_0MHzDC_PTFE_LUT_gamma_compt/images_27.npy\n",
      "reading nexus file = /home/investigator/Data/monolithic_csi/CsI_6x6_fullwrap_50k_0MHzDC_PTFE_LUT_gamma_h5/MonolithicCsI.CsI.28.h5\n"
     ]
    },
    {
     "name": "stderr",
     "output_type": "stream",
     "text": [
      " 28%|███████████▊                              | 28/100 [00:57<02:23,  1.99s/it]"
     ]
    },
    {
     "name": "stdout",
     "output_type": "stream",
     "text": [
      "saving file = /home/investigator/Data/monolithic_csi/CsI_6x6_fullwrap_50k_0MHzDC_PTFE_LUT_gamma_compt/images_28.npy\n",
      "reading nexus file = /home/investigator/Data/monolithic_csi/CsI_6x6_fullwrap_50k_0MHzDC_PTFE_LUT_gamma_h5/MonolithicCsI.CsI.29.h5\n"
     ]
    },
    {
     "name": "stderr",
     "output_type": "stream",
     "text": [
      " 29%|████████████▏                             | 29/100 [00:58<02:18,  1.95s/it]"
     ]
    },
    {
     "name": "stdout",
     "output_type": "stream",
     "text": [
      "saving file = /home/investigator/Data/monolithic_csi/CsI_6x6_fullwrap_50k_0MHzDC_PTFE_LUT_gamma_compt/images_29.npy\n",
      "reading nexus file = /home/investigator/Data/monolithic_csi/CsI_6x6_fullwrap_50k_0MHzDC_PTFE_LUT_gamma_h5/MonolithicCsI.CsI.30.h5\n"
     ]
    },
    {
     "name": "stderr",
     "output_type": "stream",
     "text": [
      " 30%|████████████▌                             | 30/100 [01:00<02:16,  1.95s/it]"
     ]
    },
    {
     "name": "stdout",
     "output_type": "stream",
     "text": [
      "saving file = /home/investigator/Data/monolithic_csi/CsI_6x6_fullwrap_50k_0MHzDC_PTFE_LUT_gamma_compt/images_30.npy\n",
      "reading nexus file = /home/investigator/Data/monolithic_csi/CsI_6x6_fullwrap_50k_0MHzDC_PTFE_LUT_gamma_h5/MonolithicCsI.CsI.31.h5\n"
     ]
    },
    {
     "name": "stderr",
     "output_type": "stream",
     "text": [
      " 31%|█████████████                             | 31/100 [01:02<02:13,  1.93s/it]"
     ]
    },
    {
     "name": "stdout",
     "output_type": "stream",
     "text": [
      "saving file = /home/investigator/Data/monolithic_csi/CsI_6x6_fullwrap_50k_0MHzDC_PTFE_LUT_gamma_compt/images_31.npy\n",
      "reading nexus file = /home/investigator/Data/monolithic_csi/CsI_6x6_fullwrap_50k_0MHzDC_PTFE_LUT_gamma_h5/MonolithicCsI.CsI.32.h5\n"
     ]
    },
    {
     "name": "stderr",
     "output_type": "stream",
     "text": [
      " 32%|█████████████▍                            | 32/100 [01:04<02:11,  1.93s/it]"
     ]
    },
    {
     "name": "stdout",
     "output_type": "stream",
     "text": [
      "saving file = /home/investigator/Data/monolithic_csi/CsI_6x6_fullwrap_50k_0MHzDC_PTFE_LUT_gamma_compt/images_32.npy\n",
      "reading nexus file = /home/investigator/Data/monolithic_csi/CsI_6x6_fullwrap_50k_0MHzDC_PTFE_LUT_gamma_h5/MonolithicCsI.CsI.33.h5\n"
     ]
    },
    {
     "name": "stderr",
     "output_type": "stream",
     "text": [
      " 33%|█████████████▊                            | 33/100 [01:06<02:09,  1.94s/it]"
     ]
    },
    {
     "name": "stdout",
     "output_type": "stream",
     "text": [
      "saving file = /home/investigator/Data/monolithic_csi/CsI_6x6_fullwrap_50k_0MHzDC_PTFE_LUT_gamma_compt/images_33.npy\n",
      "reading nexus file = /home/investigator/Data/monolithic_csi/CsI_6x6_fullwrap_50k_0MHzDC_PTFE_LUT_gamma_h5/MonolithicCsI.CsI.34.h5\n"
     ]
    },
    {
     "name": "stderr",
     "output_type": "stream",
     "text": [
      " 34%|██████████████▎                           | 34/100 [01:08<02:08,  1.94s/it]"
     ]
    },
    {
     "name": "stdout",
     "output_type": "stream",
     "text": [
      "saving file = /home/investigator/Data/monolithic_csi/CsI_6x6_fullwrap_50k_0MHzDC_PTFE_LUT_gamma_compt/images_34.npy\n",
      "reading nexus file = /home/investigator/Data/monolithic_csi/CsI_6x6_fullwrap_50k_0MHzDC_PTFE_LUT_gamma_h5/MonolithicCsI.CsI.35.h5\n"
     ]
    },
    {
     "name": "stderr",
     "output_type": "stream",
     "text": [
      " 35%|██████████████▋                           | 35/100 [01:10<02:06,  1.94s/it]"
     ]
    },
    {
     "name": "stdout",
     "output_type": "stream",
     "text": [
      "saving file = /home/investigator/Data/monolithic_csi/CsI_6x6_fullwrap_50k_0MHzDC_PTFE_LUT_gamma_compt/images_35.npy\n",
      "reading nexus file = /home/investigator/Data/monolithic_csi/CsI_6x6_fullwrap_50k_0MHzDC_PTFE_LUT_gamma_h5/MonolithicCsI.CsI.36.h5\n"
     ]
    },
    {
     "name": "stderr",
     "output_type": "stream",
     "text": [
      " 36%|███████████████                           | 36/100 [01:12<02:03,  1.93s/it]"
     ]
    },
    {
     "name": "stdout",
     "output_type": "stream",
     "text": [
      "saving file = /home/investigator/Data/monolithic_csi/CsI_6x6_fullwrap_50k_0MHzDC_PTFE_LUT_gamma_compt/images_36.npy\n",
      "reading nexus file = /home/investigator/Data/monolithic_csi/CsI_6x6_fullwrap_50k_0MHzDC_PTFE_LUT_gamma_h5/MonolithicCsI.CsI.37.h5\n"
     ]
    },
    {
     "name": "stderr",
     "output_type": "stream",
     "text": [
      " 37%|███████████████▌                          | 37/100 [01:14<02:01,  1.93s/it]"
     ]
    },
    {
     "name": "stdout",
     "output_type": "stream",
     "text": [
      "saving file = /home/investigator/Data/monolithic_csi/CsI_6x6_fullwrap_50k_0MHzDC_PTFE_LUT_gamma_compt/images_37.npy\n",
      "reading nexus file = /home/investigator/Data/monolithic_csi/CsI_6x6_fullwrap_50k_0MHzDC_PTFE_LUT_gamma_h5/MonolithicCsI.CsI.38.h5\n"
     ]
    },
    {
     "name": "stderr",
     "output_type": "stream",
     "text": [
      " 38%|███████████████▉                          | 38/100 [01:16<01:58,  1.91s/it]"
     ]
    },
    {
     "name": "stdout",
     "output_type": "stream",
     "text": [
      "saving file = /home/investigator/Data/monolithic_csi/CsI_6x6_fullwrap_50k_0MHzDC_PTFE_LUT_gamma_compt/images_38.npy\n",
      "reading nexus file = /home/investigator/Data/monolithic_csi/CsI_6x6_fullwrap_50k_0MHzDC_PTFE_LUT_gamma_h5/MonolithicCsI.CsI.39.h5\n"
     ]
    },
    {
     "name": "stderr",
     "output_type": "stream",
     "text": [
      " 39%|████████████████▍                         | 39/100 [01:17<01:54,  1.87s/it]"
     ]
    },
    {
     "name": "stdout",
     "output_type": "stream",
     "text": [
      "saving file = /home/investigator/Data/monolithic_csi/CsI_6x6_fullwrap_50k_0MHzDC_PTFE_LUT_gamma_compt/images_39.npy\n",
      "reading nexus file = /home/investigator/Data/monolithic_csi/CsI_6x6_fullwrap_50k_0MHzDC_PTFE_LUT_gamma_h5/MonolithicCsI.CsI.40.h5\n"
     ]
    },
    {
     "name": "stderr",
     "output_type": "stream",
     "text": [
      " 40%|████████████████▊                         | 40/100 [01:20<01:58,  1.98s/it]"
     ]
    },
    {
     "name": "stdout",
     "output_type": "stream",
     "text": [
      "saving file = /home/investigator/Data/monolithic_csi/CsI_6x6_fullwrap_50k_0MHzDC_PTFE_LUT_gamma_compt/images_40.npy\n",
      "reading nexus file = /home/investigator/Data/monolithic_csi/CsI_6x6_fullwrap_50k_0MHzDC_PTFE_LUT_gamma_h5/MonolithicCsI.CsI.41.h5\n"
     ]
    },
    {
     "name": "stderr",
     "output_type": "stream",
     "text": [
      " 41%|█████████████████▏                        | 41/100 [01:22<02:01,  2.07s/it]"
     ]
    },
    {
     "name": "stdout",
     "output_type": "stream",
     "text": [
      "saving file = /home/investigator/Data/monolithic_csi/CsI_6x6_fullwrap_50k_0MHzDC_PTFE_LUT_gamma_compt/images_41.npy\n",
      "reading nexus file = /home/investigator/Data/monolithic_csi/CsI_6x6_fullwrap_50k_0MHzDC_PTFE_LUT_gamma_h5/MonolithicCsI.CsI.42.h5\n"
     ]
    },
    {
     "name": "stderr",
     "output_type": "stream",
     "text": [
      " 42%|█████████████████▋                        | 42/100 [01:24<01:57,  2.03s/it]"
     ]
    },
    {
     "name": "stdout",
     "output_type": "stream",
     "text": [
      "saving file = /home/investigator/Data/monolithic_csi/CsI_6x6_fullwrap_50k_0MHzDC_PTFE_LUT_gamma_compt/images_42.npy\n",
      "reading nexus file = /home/investigator/Data/monolithic_csi/CsI_6x6_fullwrap_50k_0MHzDC_PTFE_LUT_gamma_h5/MonolithicCsI.CsI.43.h5\n"
     ]
    },
    {
     "name": "stderr",
     "output_type": "stream",
     "text": [
      " 43%|██████████████████                        | 43/100 [01:26<01:51,  1.96s/it]"
     ]
    },
    {
     "name": "stdout",
     "output_type": "stream",
     "text": [
      "saving file = /home/investigator/Data/monolithic_csi/CsI_6x6_fullwrap_50k_0MHzDC_PTFE_LUT_gamma_compt/images_43.npy\n",
      "reading nexus file = /home/investigator/Data/monolithic_csi/CsI_6x6_fullwrap_50k_0MHzDC_PTFE_LUT_gamma_h5/MonolithicCsI.CsI.44.h5\n"
     ]
    },
    {
     "name": "stderr",
     "output_type": "stream",
     "text": [
      " 44%|██████████████████▍                       | 44/100 [01:28<01:47,  1.92s/it]"
     ]
    },
    {
     "name": "stdout",
     "output_type": "stream",
     "text": [
      "saving file = /home/investigator/Data/monolithic_csi/CsI_6x6_fullwrap_50k_0MHzDC_PTFE_LUT_gamma_compt/images_44.npy\n",
      "reading nexus file = /home/investigator/Data/monolithic_csi/CsI_6x6_fullwrap_50k_0MHzDC_PTFE_LUT_gamma_h5/MonolithicCsI.CsI.45.h5\n"
     ]
    },
    {
     "name": "stderr",
     "output_type": "stream",
     "text": [
      " 45%|██████████████████▉                       | 45/100 [01:29<01:44,  1.90s/it]"
     ]
    },
    {
     "name": "stdout",
     "output_type": "stream",
     "text": [
      "saving file = /home/investigator/Data/monolithic_csi/CsI_6x6_fullwrap_50k_0MHzDC_PTFE_LUT_gamma_compt/images_45.npy\n",
      "reading nexus file = /home/investigator/Data/monolithic_csi/CsI_6x6_fullwrap_50k_0MHzDC_PTFE_LUT_gamma_h5/MonolithicCsI.CsI.46.h5\n"
     ]
    },
    {
     "name": "stderr",
     "output_type": "stream",
     "text": [
      " 46%|███████████████████▎                      | 46/100 [01:32<01:45,  1.96s/it]"
     ]
    },
    {
     "name": "stdout",
     "output_type": "stream",
     "text": [
      "saving file = /home/investigator/Data/monolithic_csi/CsI_6x6_fullwrap_50k_0MHzDC_PTFE_LUT_gamma_compt/images_46.npy\n",
      "reading nexus file = /home/investigator/Data/monolithic_csi/CsI_6x6_fullwrap_50k_0MHzDC_PTFE_LUT_gamma_h5/MonolithicCsI.CsI.47.h5\n"
     ]
    },
    {
     "name": "stderr",
     "output_type": "stream",
     "text": [
      " 47%|███████████████████▋                      | 47/100 [01:33<01:43,  1.96s/it]"
     ]
    },
    {
     "name": "stdout",
     "output_type": "stream",
     "text": [
      "saving file = /home/investigator/Data/monolithic_csi/CsI_6x6_fullwrap_50k_0MHzDC_PTFE_LUT_gamma_compt/images_47.npy\n",
      "reading nexus file = /home/investigator/Data/monolithic_csi/CsI_6x6_fullwrap_50k_0MHzDC_PTFE_LUT_gamma_h5/MonolithicCsI.CsI.48.h5\n"
     ]
    },
    {
     "name": "stderr",
     "output_type": "stream",
     "text": [
      " 48%|████████████████████▏                     | 48/100 [01:35<01:39,  1.92s/it]"
     ]
    },
    {
     "name": "stdout",
     "output_type": "stream",
     "text": [
      "saving file = /home/investigator/Data/monolithic_csi/CsI_6x6_fullwrap_50k_0MHzDC_PTFE_LUT_gamma_compt/images_48.npy\n",
      "reading nexus file = /home/investigator/Data/monolithic_csi/CsI_6x6_fullwrap_50k_0MHzDC_PTFE_LUT_gamma_h5/MonolithicCsI.CsI.49.h5\n"
     ]
    },
    {
     "name": "stderr",
     "output_type": "stream",
     "text": [
      " 49%|████████████████████▌                     | 49/100 [01:37<01:37,  1.91s/it]"
     ]
    },
    {
     "name": "stdout",
     "output_type": "stream",
     "text": [
      "saving file = /home/investigator/Data/monolithic_csi/CsI_6x6_fullwrap_50k_0MHzDC_PTFE_LUT_gamma_compt/images_49.npy\n",
      "reading nexus file = /home/investigator/Data/monolithic_csi/CsI_6x6_fullwrap_50k_0MHzDC_PTFE_LUT_gamma_h5/MonolithicCsI.CsI.50.h5\n"
     ]
    },
    {
     "name": "stderr",
     "output_type": "stream",
     "text": [
      " 50%|█████████████████████                     | 50/100 [01:39<01:33,  1.86s/it]"
     ]
    },
    {
     "name": "stdout",
     "output_type": "stream",
     "text": [
      "saving file = /home/investigator/Data/monolithic_csi/CsI_6x6_fullwrap_50k_0MHzDC_PTFE_LUT_gamma_compt/images_50.npy\n",
      "reading nexus file = /home/investigator/Data/monolithic_csi/CsI_6x6_fullwrap_50k_0MHzDC_PTFE_LUT_gamma_h5/MonolithicCsI.CsI.51.h5\n"
     ]
    },
    {
     "name": "stderr",
     "output_type": "stream",
     "text": [
      " 51%|█████████████████████▍                    | 51/100 [01:41<01:29,  1.83s/it]"
     ]
    },
    {
     "name": "stdout",
     "output_type": "stream",
     "text": [
      "saving file = /home/investigator/Data/monolithic_csi/CsI_6x6_fullwrap_50k_0MHzDC_PTFE_LUT_gamma_compt/images_51.npy\n",
      "reading nexus file = /home/investigator/Data/monolithic_csi/CsI_6x6_fullwrap_50k_0MHzDC_PTFE_LUT_gamma_h5/MonolithicCsI.CsI.52.h5\n"
     ]
    },
    {
     "name": "stderr",
     "output_type": "stream",
     "text": [
      " 52%|█████████████████████▊                    | 52/100 [01:42<01:26,  1.81s/it]"
     ]
    },
    {
     "name": "stdout",
     "output_type": "stream",
     "text": [
      "saving file = /home/investigator/Data/monolithic_csi/CsI_6x6_fullwrap_50k_0MHzDC_PTFE_LUT_gamma_compt/images_52.npy\n",
      "reading nexus file = /home/investigator/Data/monolithic_csi/CsI_6x6_fullwrap_50k_0MHzDC_PTFE_LUT_gamma_h5/MonolithicCsI.CsI.53.h5\n"
     ]
    },
    {
     "name": "stderr",
     "output_type": "stream",
     "text": [
      " 53%|██████████████████████▎                   | 53/100 [01:44<01:25,  1.83s/it]"
     ]
    },
    {
     "name": "stdout",
     "output_type": "stream",
     "text": [
      "saving file = /home/investigator/Data/monolithic_csi/CsI_6x6_fullwrap_50k_0MHzDC_PTFE_LUT_gamma_compt/images_53.npy\n",
      "reading nexus file = /home/investigator/Data/monolithic_csi/CsI_6x6_fullwrap_50k_0MHzDC_PTFE_LUT_gamma_h5/MonolithicCsI.CsI.54.h5\n"
     ]
    },
    {
     "name": "stderr",
     "output_type": "stream",
     "text": [
      " 54%|██████████████████████▋                   | 54/100 [01:46<01:22,  1.80s/it]"
     ]
    },
    {
     "name": "stdout",
     "output_type": "stream",
     "text": [
      "saving file = /home/investigator/Data/monolithic_csi/CsI_6x6_fullwrap_50k_0MHzDC_PTFE_LUT_gamma_compt/images_54.npy\n",
      "reading nexus file = /home/investigator/Data/monolithic_csi/CsI_6x6_fullwrap_50k_0MHzDC_PTFE_LUT_gamma_h5/MonolithicCsI.CsI.55.h5\n"
     ]
    },
    {
     "name": "stderr",
     "output_type": "stream",
     "text": [
      " 55%|███████████████████████                   | 55/100 [01:48<01:21,  1.80s/it]"
     ]
    },
    {
     "name": "stdout",
     "output_type": "stream",
     "text": [
      "saving file = /home/investigator/Data/monolithic_csi/CsI_6x6_fullwrap_50k_0MHzDC_PTFE_LUT_gamma_compt/images_55.npy\n",
      "reading nexus file = /home/investigator/Data/monolithic_csi/CsI_6x6_fullwrap_50k_0MHzDC_PTFE_LUT_gamma_h5/MonolithicCsI.CsI.56.h5\n"
     ]
    },
    {
     "name": "stderr",
     "output_type": "stream",
     "text": [
      " 56%|███████████████████████▌                  | 56/100 [01:50<01:22,  1.88s/it]"
     ]
    },
    {
     "name": "stdout",
     "output_type": "stream",
     "text": [
      "saving file = /home/investigator/Data/monolithic_csi/CsI_6x6_fullwrap_50k_0MHzDC_PTFE_LUT_gamma_compt/images_56.npy\n",
      "reading nexus file = /home/investigator/Data/monolithic_csi/CsI_6x6_fullwrap_50k_0MHzDC_PTFE_LUT_gamma_h5/MonolithicCsI.CsI.57.h5\n"
     ]
    },
    {
     "name": "stderr",
     "output_type": "stream",
     "text": [
      " 57%|███████████████████████▉                  | 57/100 [01:52<01:20,  1.88s/it]"
     ]
    },
    {
     "name": "stdout",
     "output_type": "stream",
     "text": [
      "saving file = /home/investigator/Data/monolithic_csi/CsI_6x6_fullwrap_50k_0MHzDC_PTFE_LUT_gamma_compt/images_57.npy\n",
      "reading nexus file = /home/investigator/Data/monolithic_csi/CsI_6x6_fullwrap_50k_0MHzDC_PTFE_LUT_gamma_h5/MonolithicCsI.CsI.58.h5\n"
     ]
    },
    {
     "name": "stderr",
     "output_type": "stream",
     "text": [
      " 58%|████████████████████████▎                 | 58/100 [01:54<01:19,  1.90s/it]"
     ]
    },
    {
     "name": "stdout",
     "output_type": "stream",
     "text": [
      "saving file = /home/investigator/Data/monolithic_csi/CsI_6x6_fullwrap_50k_0MHzDC_PTFE_LUT_gamma_compt/images_58.npy\n",
      "reading nexus file = /home/investigator/Data/monolithic_csi/CsI_6x6_fullwrap_50k_0MHzDC_PTFE_LUT_gamma_h5/MonolithicCsI.CsI.59.h5\n"
     ]
    },
    {
     "name": "stderr",
     "output_type": "stream",
     "text": [
      " 59%|████████████████████████▊                 | 59/100 [01:56<01:20,  1.96s/it]"
     ]
    },
    {
     "name": "stdout",
     "output_type": "stream",
     "text": [
      "saving file = /home/investigator/Data/monolithic_csi/CsI_6x6_fullwrap_50k_0MHzDC_PTFE_LUT_gamma_compt/images_59.npy\n",
      "reading nexus file = /home/investigator/Data/monolithic_csi/CsI_6x6_fullwrap_50k_0MHzDC_PTFE_LUT_gamma_h5/MonolithicCsI.CsI.60.h5\n"
     ]
    },
    {
     "name": "stderr",
     "output_type": "stream",
     "text": [
      " 60%|█████████████████████████▏                | 60/100 [01:58<01:18,  1.95s/it]"
     ]
    },
    {
     "name": "stdout",
     "output_type": "stream",
     "text": [
      "saving file = /home/investigator/Data/monolithic_csi/CsI_6x6_fullwrap_50k_0MHzDC_PTFE_LUT_gamma_compt/images_60.npy\n",
      "reading nexus file = /home/investigator/Data/monolithic_csi/CsI_6x6_fullwrap_50k_0MHzDC_PTFE_LUT_gamma_h5/MonolithicCsI.CsI.61.h5\n"
     ]
    },
    {
     "name": "stderr",
     "output_type": "stream",
     "text": [
      " 61%|█████████████████████████▌                | 61/100 [02:00<01:16,  1.96s/it]"
     ]
    },
    {
     "name": "stdout",
     "output_type": "stream",
     "text": [
      "saving file = /home/investigator/Data/monolithic_csi/CsI_6x6_fullwrap_50k_0MHzDC_PTFE_LUT_gamma_compt/images_61.npy\n",
      "reading nexus file = /home/investigator/Data/monolithic_csi/CsI_6x6_fullwrap_50k_0MHzDC_PTFE_LUT_gamma_h5/MonolithicCsI.CsI.62.h5\n"
     ]
    },
    {
     "name": "stderr",
     "output_type": "stream",
     "text": [
      " 62%|██████████████████████████                | 62/100 [02:02<01:16,  2.02s/it]"
     ]
    },
    {
     "name": "stdout",
     "output_type": "stream",
     "text": [
      "saving file = /home/investigator/Data/monolithic_csi/CsI_6x6_fullwrap_50k_0MHzDC_PTFE_LUT_gamma_compt/images_62.npy\n",
      "reading nexus file = /home/investigator/Data/monolithic_csi/CsI_6x6_fullwrap_50k_0MHzDC_PTFE_LUT_gamma_h5/MonolithicCsI.CsI.63.h5\n"
     ]
    },
    {
     "name": "stderr",
     "output_type": "stream",
     "text": [
      " 63%|██████████████████████████▍               | 63/100 [02:04<01:13,  1.99s/it]"
     ]
    },
    {
     "name": "stdout",
     "output_type": "stream",
     "text": [
      "saving file = /home/investigator/Data/monolithic_csi/CsI_6x6_fullwrap_50k_0MHzDC_PTFE_LUT_gamma_compt/images_63.npy\n",
      "reading nexus file = /home/investigator/Data/monolithic_csi/CsI_6x6_fullwrap_50k_0MHzDC_PTFE_LUT_gamma_h5/MonolithicCsI.CsI.64.h5\n"
     ]
    },
    {
     "name": "stderr",
     "output_type": "stream",
     "text": [
      " 64%|██████████████████████████▉               | 64/100 [02:06<01:12,  2.02s/it]"
     ]
    },
    {
     "name": "stdout",
     "output_type": "stream",
     "text": [
      "saving file = /home/investigator/Data/monolithic_csi/CsI_6x6_fullwrap_50k_0MHzDC_PTFE_LUT_gamma_compt/images_64.npy\n",
      "reading nexus file = /home/investigator/Data/monolithic_csi/CsI_6x6_fullwrap_50k_0MHzDC_PTFE_LUT_gamma_h5/MonolithicCsI.CsI.65.h5\n"
     ]
    },
    {
     "name": "stderr",
     "output_type": "stream",
     "text": [
      " 65%|███████████████████████████▎              | 65/100 [02:08<01:10,  2.02s/it]"
     ]
    },
    {
     "name": "stdout",
     "output_type": "stream",
     "text": [
      "saving file = /home/investigator/Data/monolithic_csi/CsI_6x6_fullwrap_50k_0MHzDC_PTFE_LUT_gamma_compt/images_65.npy\n",
      "reading nexus file = /home/investigator/Data/monolithic_csi/CsI_6x6_fullwrap_50k_0MHzDC_PTFE_LUT_gamma_h5/MonolithicCsI.CsI.66.h5\n"
     ]
    },
    {
     "name": "stderr",
     "output_type": "stream",
     "text": [
      " 66%|███████████████████████████▋              | 66/100 [02:10<01:09,  2.04s/it]"
     ]
    },
    {
     "name": "stdout",
     "output_type": "stream",
     "text": [
      "saving file = /home/investigator/Data/monolithic_csi/CsI_6x6_fullwrap_50k_0MHzDC_PTFE_LUT_gamma_compt/images_66.npy\n",
      "reading nexus file = /home/investigator/Data/monolithic_csi/CsI_6x6_fullwrap_50k_0MHzDC_PTFE_LUT_gamma_h5/MonolithicCsI.CsI.67.h5\n"
     ]
    },
    {
     "name": "stderr",
     "output_type": "stream",
     "text": [
      " 67%|████████████████████████████▏             | 67/100 [02:12<01:07,  2.04s/it]"
     ]
    },
    {
     "name": "stdout",
     "output_type": "stream",
     "text": [
      "saving file = /home/investigator/Data/monolithic_csi/CsI_6x6_fullwrap_50k_0MHzDC_PTFE_LUT_gamma_compt/images_67.npy\n",
      "reading nexus file = /home/investigator/Data/monolithic_csi/CsI_6x6_fullwrap_50k_0MHzDC_PTFE_LUT_gamma_h5/MonolithicCsI.CsI.68.h5\n"
     ]
    },
    {
     "name": "stderr",
     "output_type": "stream",
     "text": [
      " 68%|████████████████████████████▌             | 68/100 [02:14<01:05,  2.04s/it]"
     ]
    },
    {
     "name": "stdout",
     "output_type": "stream",
     "text": [
      "saving file = /home/investigator/Data/monolithic_csi/CsI_6x6_fullwrap_50k_0MHzDC_PTFE_LUT_gamma_compt/images_68.npy\n",
      "reading nexus file = /home/investigator/Data/monolithic_csi/CsI_6x6_fullwrap_50k_0MHzDC_PTFE_LUT_gamma_h5/MonolithicCsI.CsI.69.h5\n"
     ]
    },
    {
     "name": "stderr",
     "output_type": "stream",
     "text": [
      " 69%|████████████████████████████▉             | 69/100 [02:16<01:02,  2.03s/it]"
     ]
    },
    {
     "name": "stdout",
     "output_type": "stream",
     "text": [
      "saving file = /home/investigator/Data/monolithic_csi/CsI_6x6_fullwrap_50k_0MHzDC_PTFE_LUT_gamma_compt/images_69.npy\n",
      "reading nexus file = /home/investigator/Data/monolithic_csi/CsI_6x6_fullwrap_50k_0MHzDC_PTFE_LUT_gamma_h5/MonolithicCsI.CsI.70.h5\n"
     ]
    },
    {
     "name": "stderr",
     "output_type": "stream",
     "text": [
      " 70%|█████████████████████████████▍            | 70/100 [02:18<01:01,  2.04s/it]"
     ]
    },
    {
     "name": "stdout",
     "output_type": "stream",
     "text": [
      "saving file = /home/investigator/Data/monolithic_csi/CsI_6x6_fullwrap_50k_0MHzDC_PTFE_LUT_gamma_compt/images_70.npy\n",
      "reading nexus file = /home/investigator/Data/monolithic_csi/CsI_6x6_fullwrap_50k_0MHzDC_PTFE_LUT_gamma_h5/MonolithicCsI.CsI.71.h5\n"
     ]
    },
    {
     "name": "stderr",
     "output_type": "stream",
     "text": [
      " 71%|█████████████████████████████▊            | 71/100 [02:20<00:59,  2.06s/it]"
     ]
    },
    {
     "name": "stdout",
     "output_type": "stream",
     "text": [
      "saving file = /home/investigator/Data/monolithic_csi/CsI_6x6_fullwrap_50k_0MHzDC_PTFE_LUT_gamma_compt/images_71.npy\n",
      "reading nexus file = /home/investigator/Data/monolithic_csi/CsI_6x6_fullwrap_50k_0MHzDC_PTFE_LUT_gamma_h5/MonolithicCsI.CsI.72.h5\n"
     ]
    },
    {
     "name": "stderr",
     "output_type": "stream",
     "text": [
      " 72%|██████████████████████████████▏           | 72/100 [02:22<00:57,  2.06s/it]"
     ]
    },
    {
     "name": "stdout",
     "output_type": "stream",
     "text": [
      "saving file = /home/investigator/Data/monolithic_csi/CsI_6x6_fullwrap_50k_0MHzDC_PTFE_LUT_gamma_compt/images_72.npy\n",
      "reading nexus file = /home/investigator/Data/monolithic_csi/CsI_6x6_fullwrap_50k_0MHzDC_PTFE_LUT_gamma_h5/MonolithicCsI.CsI.73.h5\n"
     ]
    },
    {
     "name": "stderr",
     "output_type": "stream",
     "text": [
      " 73%|██████████████████████████████▋           | 73/100 [02:24<00:55,  2.05s/it]"
     ]
    },
    {
     "name": "stdout",
     "output_type": "stream",
     "text": [
      "saving file = /home/investigator/Data/monolithic_csi/CsI_6x6_fullwrap_50k_0MHzDC_PTFE_LUT_gamma_compt/images_73.npy\n",
      "reading nexus file = /home/investigator/Data/monolithic_csi/CsI_6x6_fullwrap_50k_0MHzDC_PTFE_LUT_gamma_h5/MonolithicCsI.CsI.74.h5\n"
     ]
    },
    {
     "name": "stderr",
     "output_type": "stream",
     "text": [
      " 74%|███████████████████████████████           | 74/100 [02:26<00:53,  2.06s/it]"
     ]
    },
    {
     "name": "stdout",
     "output_type": "stream",
     "text": [
      "saving file = /home/investigator/Data/monolithic_csi/CsI_6x6_fullwrap_50k_0MHzDC_PTFE_LUT_gamma_compt/images_74.npy\n",
      "reading nexus file = /home/investigator/Data/monolithic_csi/CsI_6x6_fullwrap_50k_0MHzDC_PTFE_LUT_gamma_h5/MonolithicCsI.CsI.75.h5\n"
     ]
    },
    {
     "name": "stderr",
     "output_type": "stream",
     "text": [
      " 75%|███████████████████████████████▌          | 75/100 [02:28<00:51,  2.05s/it]"
     ]
    },
    {
     "name": "stdout",
     "output_type": "stream",
     "text": [
      "saving file = /home/investigator/Data/monolithic_csi/CsI_6x6_fullwrap_50k_0MHzDC_PTFE_LUT_gamma_compt/images_75.npy\n",
      "reading nexus file = /home/investigator/Data/monolithic_csi/CsI_6x6_fullwrap_50k_0MHzDC_PTFE_LUT_gamma_h5/MonolithicCsI.CsI.76.h5\n"
     ]
    },
    {
     "name": "stderr",
     "output_type": "stream",
     "text": [
      " 76%|███████████████████████████████▉          | 76/100 [02:31<00:49,  2.04s/it]"
     ]
    },
    {
     "name": "stdout",
     "output_type": "stream",
     "text": [
      "saving file = /home/investigator/Data/monolithic_csi/CsI_6x6_fullwrap_50k_0MHzDC_PTFE_LUT_gamma_compt/images_76.npy\n",
      "reading nexus file = /home/investigator/Data/monolithic_csi/CsI_6x6_fullwrap_50k_0MHzDC_PTFE_LUT_gamma_h5/MonolithicCsI.CsI.77.h5\n"
     ]
    },
    {
     "name": "stderr",
     "output_type": "stream",
     "text": [
      " 77%|████████████████████████████████▎         | 77/100 [02:33<00:46,  2.03s/it]"
     ]
    },
    {
     "name": "stdout",
     "output_type": "stream",
     "text": [
      "saving file = /home/investigator/Data/monolithic_csi/CsI_6x6_fullwrap_50k_0MHzDC_PTFE_LUT_gamma_compt/images_77.npy\n",
      "reading nexus file = /home/investigator/Data/monolithic_csi/CsI_6x6_fullwrap_50k_0MHzDC_PTFE_LUT_gamma_h5/MonolithicCsI.CsI.78.h5\n"
     ]
    },
    {
     "name": "stderr",
     "output_type": "stream",
     "text": [
      " 78%|████████████████████████████████▊         | 78/100 [02:35<00:44,  2.03s/it]"
     ]
    },
    {
     "name": "stdout",
     "output_type": "stream",
     "text": [
      "saving file = /home/investigator/Data/monolithic_csi/CsI_6x6_fullwrap_50k_0MHzDC_PTFE_LUT_gamma_compt/images_78.npy\n",
      "reading nexus file = /home/investigator/Data/monolithic_csi/CsI_6x6_fullwrap_50k_0MHzDC_PTFE_LUT_gamma_h5/MonolithicCsI.CsI.79.h5\n"
     ]
    },
    {
     "name": "stderr",
     "output_type": "stream",
     "text": [
      " 79%|█████████████████████████████████▏        | 79/100 [02:37<00:43,  2.06s/it]"
     ]
    },
    {
     "name": "stdout",
     "output_type": "stream",
     "text": [
      "saving file = /home/investigator/Data/monolithic_csi/CsI_6x6_fullwrap_50k_0MHzDC_PTFE_LUT_gamma_compt/images_79.npy\n",
      "reading nexus file = /home/investigator/Data/monolithic_csi/CsI_6x6_fullwrap_50k_0MHzDC_PTFE_LUT_gamma_h5/MonolithicCsI.CsI.80.h5\n"
     ]
    },
    {
     "name": "stderr",
     "output_type": "stream",
     "text": [
      " 80%|█████████████████████████████████▌        | 80/100 [02:39<00:41,  2.06s/it]"
     ]
    },
    {
     "name": "stdout",
     "output_type": "stream",
     "text": [
      "saving file = /home/investigator/Data/monolithic_csi/CsI_6x6_fullwrap_50k_0MHzDC_PTFE_LUT_gamma_compt/images_80.npy\n",
      "reading nexus file = /home/investigator/Data/monolithic_csi/CsI_6x6_fullwrap_50k_0MHzDC_PTFE_LUT_gamma_h5/MonolithicCsI.CsI.81.h5\n"
     ]
    },
    {
     "name": "stderr",
     "output_type": "stream",
     "text": [
      " 81%|██████████████████████████████████        | 81/100 [02:41<00:39,  2.06s/it]"
     ]
    },
    {
     "name": "stdout",
     "output_type": "stream",
     "text": [
      "saving file = /home/investigator/Data/monolithic_csi/CsI_6x6_fullwrap_50k_0MHzDC_PTFE_LUT_gamma_compt/images_81.npy\n",
      "reading nexus file = /home/investigator/Data/monolithic_csi/CsI_6x6_fullwrap_50k_0MHzDC_PTFE_LUT_gamma_h5/MonolithicCsI.CsI.82.h5\n"
     ]
    },
    {
     "name": "stderr",
     "output_type": "stream",
     "text": [
      " 82%|██████████████████████████████████▍       | 82/100 [02:43<00:36,  2.03s/it]"
     ]
    },
    {
     "name": "stdout",
     "output_type": "stream",
     "text": [
      "saving file = /home/investigator/Data/monolithic_csi/CsI_6x6_fullwrap_50k_0MHzDC_PTFE_LUT_gamma_compt/images_82.npy\n",
      "reading nexus file = /home/investigator/Data/monolithic_csi/CsI_6x6_fullwrap_50k_0MHzDC_PTFE_LUT_gamma_h5/MonolithicCsI.CsI.83.h5\n"
     ]
    },
    {
     "name": "stderr",
     "output_type": "stream",
     "text": [
      " 83%|██████████████████████████████████▊       | 83/100 [02:45<00:34,  2.03s/it]"
     ]
    },
    {
     "name": "stdout",
     "output_type": "stream",
     "text": [
      "saving file = /home/investigator/Data/monolithic_csi/CsI_6x6_fullwrap_50k_0MHzDC_PTFE_LUT_gamma_compt/images_83.npy\n",
      "reading nexus file = /home/investigator/Data/monolithic_csi/CsI_6x6_fullwrap_50k_0MHzDC_PTFE_LUT_gamma_h5/MonolithicCsI.CsI.84.h5\n"
     ]
    },
    {
     "name": "stderr",
     "output_type": "stream",
     "text": [
      " 84%|███████████████████████████████████▎      | 84/100 [02:47<00:32,  2.01s/it]"
     ]
    },
    {
     "name": "stdout",
     "output_type": "stream",
     "text": [
      "saving file = /home/investigator/Data/monolithic_csi/CsI_6x6_fullwrap_50k_0MHzDC_PTFE_LUT_gamma_compt/images_84.npy\n",
      "reading nexus file = /home/investigator/Data/monolithic_csi/CsI_6x6_fullwrap_50k_0MHzDC_PTFE_LUT_gamma_h5/MonolithicCsI.CsI.85.h5\n"
     ]
    },
    {
     "name": "stderr",
     "output_type": "stream",
     "text": [
      " 85%|███████████████████████████████████▋      | 85/100 [02:49<00:30,  2.01s/it]"
     ]
    },
    {
     "name": "stdout",
     "output_type": "stream",
     "text": [
      "saving file = /home/investigator/Data/monolithic_csi/CsI_6x6_fullwrap_50k_0MHzDC_PTFE_LUT_gamma_compt/images_85.npy\n",
      "reading nexus file = /home/investigator/Data/monolithic_csi/CsI_6x6_fullwrap_50k_0MHzDC_PTFE_LUT_gamma_h5/MonolithicCsI.CsI.86.h5\n"
     ]
    },
    {
     "name": "stderr",
     "output_type": "stream",
     "text": [
      " 86%|████████████████████████████████████      | 86/100 [02:51<00:28,  2.02s/it]"
     ]
    },
    {
     "name": "stdout",
     "output_type": "stream",
     "text": [
      "saving file = /home/investigator/Data/monolithic_csi/CsI_6x6_fullwrap_50k_0MHzDC_PTFE_LUT_gamma_compt/images_86.npy\n",
      "reading nexus file = /home/investigator/Data/monolithic_csi/CsI_6x6_fullwrap_50k_0MHzDC_PTFE_LUT_gamma_h5/MonolithicCsI.CsI.87.h5\n"
     ]
    },
    {
     "name": "stderr",
     "output_type": "stream",
     "text": [
      " 87%|████████████████████████████████████▌     | 87/100 [02:53<00:26,  2.02s/it]"
     ]
    },
    {
     "name": "stdout",
     "output_type": "stream",
     "text": [
      "saving file = /home/investigator/Data/monolithic_csi/CsI_6x6_fullwrap_50k_0MHzDC_PTFE_LUT_gamma_compt/images_87.npy\n",
      "reading nexus file = /home/investigator/Data/monolithic_csi/CsI_6x6_fullwrap_50k_0MHzDC_PTFE_LUT_gamma_h5/MonolithicCsI.CsI.88.h5\n"
     ]
    },
    {
     "name": "stderr",
     "output_type": "stream",
     "text": [
      " 88%|████████████████████████████████████▉     | 88/100 [02:55<00:24,  2.02s/it]"
     ]
    },
    {
     "name": "stdout",
     "output_type": "stream",
     "text": [
      "saving file = /home/investigator/Data/monolithic_csi/CsI_6x6_fullwrap_50k_0MHzDC_PTFE_LUT_gamma_compt/images_88.npy\n",
      "reading nexus file = /home/investigator/Data/monolithic_csi/CsI_6x6_fullwrap_50k_0MHzDC_PTFE_LUT_gamma_h5/MonolithicCsI.CsI.89.h5\n"
     ]
    },
    {
     "name": "stderr",
     "output_type": "stream",
     "text": [
      " 89%|█████████████████████████████████████▍    | 89/100 [02:57<00:22,  2.02s/it]"
     ]
    },
    {
     "name": "stdout",
     "output_type": "stream",
     "text": [
      "saving file = /home/investigator/Data/monolithic_csi/CsI_6x6_fullwrap_50k_0MHzDC_PTFE_LUT_gamma_compt/images_89.npy\n",
      "reading nexus file = /home/investigator/Data/monolithic_csi/CsI_6x6_fullwrap_50k_0MHzDC_PTFE_LUT_gamma_h5/MonolithicCsI.CsI.90.h5\n"
     ]
    },
    {
     "name": "stderr",
     "output_type": "stream",
     "text": [
      " 90%|█████████████████████████████████████▊    | 90/100 [02:59<00:20,  2.03s/it]"
     ]
    },
    {
     "name": "stdout",
     "output_type": "stream",
     "text": [
      "saving file = /home/investigator/Data/monolithic_csi/CsI_6x6_fullwrap_50k_0MHzDC_PTFE_LUT_gamma_compt/images_90.npy\n",
      "reading nexus file = /home/investigator/Data/monolithic_csi/CsI_6x6_fullwrap_50k_0MHzDC_PTFE_LUT_gamma_h5/MonolithicCsI.CsI.91.h5\n"
     ]
    },
    {
     "name": "stderr",
     "output_type": "stream",
     "text": [
      " 91%|██████████████████████████████████████▏   | 91/100 [03:01<00:18,  2.03s/it]"
     ]
    },
    {
     "name": "stdout",
     "output_type": "stream",
     "text": [
      "saving file = /home/investigator/Data/monolithic_csi/CsI_6x6_fullwrap_50k_0MHzDC_PTFE_LUT_gamma_compt/images_91.npy\n",
      "reading nexus file = /home/investigator/Data/monolithic_csi/CsI_6x6_fullwrap_50k_0MHzDC_PTFE_LUT_gamma_h5/MonolithicCsI.CsI.92.h5\n"
     ]
    },
    {
     "name": "stderr",
     "output_type": "stream",
     "text": [
      " 92%|██████████████████████████████████████▋   | 92/100 [03:03<00:16,  2.02s/it]"
     ]
    },
    {
     "name": "stdout",
     "output_type": "stream",
     "text": [
      "saving file = /home/investigator/Data/monolithic_csi/CsI_6x6_fullwrap_50k_0MHzDC_PTFE_LUT_gamma_compt/images_92.npy\n",
      "reading nexus file = /home/investigator/Data/monolithic_csi/CsI_6x6_fullwrap_50k_0MHzDC_PTFE_LUT_gamma_h5/MonolithicCsI.CsI.93.h5\n"
     ]
    },
    {
     "name": "stderr",
     "output_type": "stream",
     "text": [
      " 93%|███████████████████████████████████████   | 93/100 [03:05<00:14,  2.03s/it]"
     ]
    },
    {
     "name": "stdout",
     "output_type": "stream",
     "text": [
      "saving file = /home/investigator/Data/monolithic_csi/CsI_6x6_fullwrap_50k_0MHzDC_PTFE_LUT_gamma_compt/images_93.npy\n",
      "reading nexus file = /home/investigator/Data/monolithic_csi/CsI_6x6_fullwrap_50k_0MHzDC_PTFE_LUT_gamma_h5/MonolithicCsI.CsI.94.h5\n"
     ]
    },
    {
     "name": "stderr",
     "output_type": "stream",
     "text": [
      " 94%|███████████████████████████████████████▍  | 94/100 [03:07<00:12,  2.02s/it]"
     ]
    },
    {
     "name": "stdout",
     "output_type": "stream",
     "text": [
      "saving file = /home/investigator/Data/monolithic_csi/CsI_6x6_fullwrap_50k_0MHzDC_PTFE_LUT_gamma_compt/images_94.npy\n",
      "reading nexus file = /home/investigator/Data/monolithic_csi/CsI_6x6_fullwrap_50k_0MHzDC_PTFE_LUT_gamma_h5/MonolithicCsI.CsI.95.h5\n"
     ]
    },
    {
     "name": "stderr",
     "output_type": "stream",
     "text": [
      " 95%|███████████████████████████████████████▉  | 95/100 [03:09<00:10,  2.03s/it]"
     ]
    },
    {
     "name": "stdout",
     "output_type": "stream",
     "text": [
      "saving file = /home/investigator/Data/monolithic_csi/CsI_6x6_fullwrap_50k_0MHzDC_PTFE_LUT_gamma_compt/images_95.npy\n",
      "reading nexus file = /home/investigator/Data/monolithic_csi/CsI_6x6_fullwrap_50k_0MHzDC_PTFE_LUT_gamma_h5/MonolithicCsI.CsI.96.h5\n"
     ]
    },
    {
     "name": "stderr",
     "output_type": "stream",
     "text": [
      " 96%|████████████████████████████████████████▎ | 96/100 [03:11<00:08,  2.04s/it]"
     ]
    },
    {
     "name": "stdout",
     "output_type": "stream",
     "text": [
      "saving file = /home/investigator/Data/monolithic_csi/CsI_6x6_fullwrap_50k_0MHzDC_PTFE_LUT_gamma_compt/images_96.npy\n",
      "reading nexus file = /home/investigator/Data/monolithic_csi/CsI_6x6_fullwrap_50k_0MHzDC_PTFE_LUT_gamma_h5/MonolithicCsI.CsI.97.h5\n"
     ]
    },
    {
     "name": "stderr",
     "output_type": "stream",
     "text": [
      " 97%|████████████████████████████████████████▋ | 97/100 [03:13<00:06,  2.04s/it]"
     ]
    },
    {
     "name": "stdout",
     "output_type": "stream",
     "text": [
      "saving file = /home/investigator/Data/monolithic_csi/CsI_6x6_fullwrap_50k_0MHzDC_PTFE_LUT_gamma_compt/images_97.npy\n",
      "reading nexus file = /home/investigator/Data/monolithic_csi/CsI_6x6_fullwrap_50k_0MHzDC_PTFE_LUT_gamma_h5/MonolithicCsI.CsI.98.h5\n"
     ]
    },
    {
     "name": "stderr",
     "output_type": "stream",
     "text": [
      " 98%|█████████████████████████████████████████▏| 98/100 [03:15<00:04,  2.06s/it]"
     ]
    },
    {
     "name": "stdout",
     "output_type": "stream",
     "text": [
      "saving file = /home/investigator/Data/monolithic_csi/CsI_6x6_fullwrap_50k_0MHzDC_PTFE_LUT_gamma_compt/images_98.npy\n",
      "reading nexus file = /home/investigator/Data/monolithic_csi/CsI_6x6_fullwrap_50k_0MHzDC_PTFE_LUT_gamma_h5/MonolithicCsI.CsI.99.h5\n"
     ]
    },
    {
     "name": "stderr",
     "output_type": "stream",
     "text": [
      " 99%|█████████████████████████████████████████▌| 99/100 [03:17<00:02,  2.06s/it]"
     ]
    },
    {
     "name": "stdout",
     "output_type": "stream",
     "text": [
      "saving file = /home/investigator/Data/monolithic_csi/CsI_6x6_fullwrap_50k_0MHzDC_PTFE_LUT_gamma_compt/images_99.npy\n",
      "reading nexus file = /home/investigator/Data/monolithic_csi/CsI_6x6_fullwrap_50k_0MHzDC_PTFE_LUT_gamma_h5/MonolithicCsI.CsI.100.h5\n"
     ]
    },
    {
     "name": "stderr",
     "output_type": "stream",
     "text": [
      "100%|█████████████████████████████████████████| 100/100 [03:19<00:00,  2.00s/it]"
     ]
    },
    {
     "name": "stdout",
     "output_type": "stream",
     "text": [
      "saving file = /home/investigator/Data/monolithic_csi/CsI_6x6_fullwrap_50k_0MHzDC_PTFE_LUT_gamma_compt/images_100.npy\n"
     ]
    },
    {
     "name": "stderr",
     "output_type": "stream",
     "text": [
      "\n"
     ]
    }
   ],
   "source": [
    "write_images(clkpdf, ifolder, ofolder,\n",
    "             events_per_file, got_positions, crystal_width, sipm_width, h5fpfx)"
   ]
  },
  {
   "cell_type": "code",
   "execution_count": null,
   "id": "3151040e-618d-4771-9ce1-ed9480043bf0",
   "metadata": {},
   "outputs": [],
   "source": []
  }
 ],
 "metadata": {
  "kernelspec": {
   "display_name": "Python 3 (ipykernel)",
   "language": "python",
   "name": "python3"
  },
  "language_info": {
   "codemirror_mode": {
    "name": "ipython",
    "version": 3
   },
   "file_extension": ".py",
   "mimetype": "text/x-python",
   "name": "python",
   "nbconvert_exporter": "python",
   "pygments_lexer": "ipython3",
   "version": "3.11.5"
  }
 },
 "nbformat": 4,
 "nbformat_minor": 5
}
