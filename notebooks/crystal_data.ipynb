{
 "cells": [
  {
   "cell_type": "code",
   "execution_count": 1,
   "id": "eb29d5f7-dd45-49a9-ab2e-b642575bf93e",
   "metadata": {},
   "outputs": [],
   "source": [
    "%matplotlib inline\n",
    "%load_ext autoreload\n",
    "%autoreload 2\n",
    "import matplotlib.pyplot as plt\n",
    "from matplotlib.pyplot import imshow\n",
    "plt.rcParams[\"figure.figsize\"] = 10, 8\n",
    "plt.rcParams[\"font.size\"     ] = 14\n"
   ]
  },
  {
   "cell_type": "code",
   "execution_count": 2,
   "id": "ec8bce49-e389-402e-aad6-02a61f2443b0",
   "metadata": {},
   "outputs": [],
   "source": [
    "import numpy as np\n",
    "import pandas as pd\n",
    "from collections import namedtuple\n",
    "import os\n",
    "import glob"
   ]
  },
  {
   "cell_type": "code",
   "execution_count": 22,
   "id": "c256c530-b7a0-4b51-ab75-f586b652cae7",
   "metadata": {},
   "outputs": [],
   "source": [
    "crystal = namedtuple(\"crystal\", \"wl_nm td_ns N\")\n",
    "pde = namedtuple(\"pde\", \"bgo lyso csiTl csi\")\n",
    "RFWHM = namedtuple(\"RFWHM\", \"bgo lyso csiTl csi\")"
   ]
  },
  {
   "cell_type": "code",
   "execution_count": 23,
   "id": "e9a3dc17-6c01-41c9-947e-d8ef89868877",
   "metadata": {},
   "outputs": [],
   "source": [
    "bgo = crystal(wl_nm=480, td_ns = 300, N=9e+3)\n",
    "lyso = crystal(wl_nm=410, td_ns = 40, N=25e+3)\n",
    "csiTl = crystal(wl_nm=550, td_ns = 900, N=55e+3)\n",
    "csi = crystal(wl_nm=350, td_ns = 800, N=100e+3)"
   ]
  },
  {
   "cell_type": "code",
   "execution_count": 53,
   "id": "0fe578db-3e74-439b-b380-32bef329c6bc",
   "metadata": {},
   "outputs": [],
   "source": [
    "r1306QE = pde(bgo = 0.18, lyso = 0.25, csiTl = 0.09, csi=0.15)\n",
    "s14160 = pde(bgo = 0.45, lyso = 0.50, csiTl = 0.35, csi=0.40)"
   ]
  },
  {
   "cell_type": "code",
   "execution_count": 25,
   "id": "b102c097-a963-49a6-943c-bebf2626deef",
   "metadata": {},
   "outputs": [],
   "source": [
    "Riee_660 = RFWHM(bgo=0.09, lyso=0.08, csiTl=0.057, csi=0.05)\n",
    "Rmat_660 = RFWHM(bgo=0.166, lyso=0.13, csiTl=0.071, csi=0.05)"
   ]
  },
  {
   "cell_type": "code",
   "execution_count": 68,
   "id": "d83ead96-7703-4850-a574-28b9c13418cc",
   "metadata": {},
   "outputs": [],
   "source": [
    "def FF(R, Npe):\n",
    "    return R**2*Npe/2.355**2"
   ]
  },
  {
   "cell_type": "code",
   "execution_count": 76,
   "id": "70d119e4-832d-4440-aa52-9606e99e2e04",
   "metadata": {},
   "outputs": [],
   "source": [
    "def RF(F, Npe):\n",
    "    return 2.355 * np.sqrt(F/Npe)"
   ]
  },
  {
   "cell_type": "code",
   "execution_count": 26,
   "id": "135c4d58-7ff3-499f-870d-e1fea9c446fb",
   "metadata": {},
   "outputs": [],
   "source": [
    "def nphe(yMeV, pDE, xE):\n",
    "    \"\"\"\n",
    "    nphe = yMeV *  pDE *  xE, where:\n",
    "    yMeV: scintillation yield/MeV\n",
    "    pDE : sensor PDE\n",
    "    xE  : energy/(1 MeV). \n",
    "    \"\"\"\n",
    "    return yMeV *  pDE *  xE"
   ]
  },
  {
   "cell_type": "code",
   "execution_count": 29,
   "id": "5b7b9b42-7fd5-43fc-80f6-f59b1b01ba1e",
   "metadata": {},
   "outputs": [],
   "source": [
    "def rfwhm(nphe):\n",
    "    \"\"\"\n",
    "    Resolution due to Poisson statistics of Number of photoelectrons\n",
    "    \"\"\"\n",
    "    return 2.355/np.sqrt(nphe)\n",
    "    "
   ]
  },
  {
   "cell_type": "code",
   "execution_count": 32,
   "id": "782bb10a-d499-4714-a5fb-a5c42c2a9984",
   "metadata": {},
   "outputs": [],
   "source": [
    "def rs(R, RM):\n",
    "    \"\"\"\n",
    "    Intrinsic (scintillator) resolution \n",
    "    \"\"\"\n",
    "    return np.sqrt(R**2 - RM**2)"
   ]
  },
  {
   "cell_type": "code",
   "execution_count": 36,
   "id": "e968fb85-776b-4519-b7dd-e7ba4bb754a8",
   "metadata": {},
   "outputs": [],
   "source": [
    "def xrs(yMeV, pDE, xE, R):\n",
    "    npe = nphe(yMeV, pDE, xE) \n",
    "    Rm  = rfwhm(npe)\n",
    "    return npe, Rm, rs(R, Rm)\n",
    "    "
   ]
  },
  {
   "cell_type": "code",
   "execution_count": 45,
   "id": "409f18c3-3c9b-497d-af21-187e31432cc2",
   "metadata": {},
   "outputs": [],
   "source": [
    "def xr(yMeV, pDE, xE, Rs):\n",
    "    npe = nphe(yMeV, pDE, xE) \n",
    "    Rm  = rfwhm(npe)\n",
    "    return npe, Rm, np.sqrt(Rm**2 + Rs**2)"
   ]
  },
  {
   "cell_type": "markdown",
   "id": "b2b8cda2-d27f-4c98-846e-708cbc03689e",
   "metadata": {},
   "source": [
    "## Using Article in IEEE Transactions on Nuclear Science · January 1996\r",
    "DOI: 10.1109/23.489415 · Source: IEEE Xplore"
   ]
  },
  {
   "cell_type": "markdown",
   "id": "98cfef0a-2773-4b17-86db-7761b479b972",
   "metadata": {},
   "source": [
    "### CsI(Tl)"
   ]
  },
  {
   "cell_type": "code",
   "execution_count": 46,
   "id": "725e1fc3-c1de-40b0-a611-ef7bd3f585c6",
   "metadata": {},
   "outputs": [],
   "source": [
    "nphe_660_r1306QE_csiTl, Rm_660_r1306QE_csiTl, Rs_660_r1306QE_csiTl = xrs(csiTl.N, r1306QE.csiTl, 0.66, Riee_660.csiTl)"
   ]
  },
  {
   "cell_type": "code",
   "execution_count": 47,
   "id": "36d5eb2a-aa26-4689-93c5-13f6b5e71a0d",
   "metadata": {},
   "outputs": [
    {
     "name": "stdout",
     "output_type": "stream",
     "text": [
      " Npe CsI(Tl) at 660 keV PMT: r1306QE = 3267.0\n",
      " RM CsI(Tl) at 660 keV PMT: r1306QE = 0.041201814664896017\n",
      " Rs CsI(Tl) at 660 keV PMT: r1306QE = 0.039387948262375384\n"
     ]
    }
   ],
   "source": [
    "print(f\" Npe CsI(Tl) at 660 keV PMT: r1306QE = {nphe_660_r1306QE_csiTl}\")\n",
    "print(f\" RM CsI(Tl) at 660 keV PMT: r1306QE = {Rm_660_r1306QE_csiTl}\")\n",
    "print(f\" Rs CsI(Tl) at 660 keV PMT: r1306QE = {Rs_660_r1306QE_csiTl}\")"
   ]
  },
  {
   "cell_type": "code",
   "execution_count": 48,
   "id": "e864ced9-1e8a-450b-8c95-8459b834961b",
   "metadata": {},
   "outputs": [],
   "source": [
    "nphe_550_s14160_csiTl, Rm_550_s14160_csiTl, R_550_s14160_csiTl = xr(csiTl.N, s14160.csiTl, 0.511, Rs_660_r1306QE_csiTl)"
   ]
  },
  {
   "cell_type": "code",
   "execution_count": 49,
   "id": "1092f4ea-5ec3-40ba-a8fe-1a2ac5b11588",
   "metadata": {},
   "outputs": [
    {
     "name": "stdout",
     "output_type": "stream",
     "text": [
      " Npe CsI(Tl) at 511 keV SiPM: s14160 = 9836.75\n",
      " RM CsI(Tl) at 511 keV SiPM: s14160 = 0.023744612935451125\n",
      " R CsI(Tl) at 511 keV SiPM: s14160 = 0.0459914895581123\n"
     ]
    }
   ],
   "source": [
    "print(f\" Npe CsI(Tl) at 511 keV SiPM: s14160 = {nphe_550_s14160_csiTl}\")\n",
    "print(f\" RM CsI(Tl) at 511 keV SiPM: s14160 = {Rm_550_s14160_csiTl}\")\n",
    "print(f\" R CsI(Tl) at 511 keV SiPM: s14160 = {R_550_s14160_csiTl}\")"
   ]
  },
  {
   "cell_type": "code",
   "execution_count": 72,
   "id": "61df7832-4013-486f-b965-7a12104dce76",
   "metadata": {},
   "outputs": [
    {
     "name": "stdout",
     "output_type": "stream",
     "text": [
      " F CsI(Tl) at 511 keV SiPM: s14160 = 3.7516711382012216\n"
     ]
    }
   ],
   "source": [
    "F_csiTl = FF(R_550_s14160_csiTl, nphe_550_s14160_csiTl)\n",
    "print(f\" F CsI(Tl) at 511 keV SiPM: s14160 = {F_csiTl}\")"
   ]
  },
  {
   "cell_type": "code",
   "execution_count": 78,
   "id": "f27d5234-5b94-4a51-b08a-216d8c498015",
   "metadata": {},
   "outputs": [
    {
     "name": "stdout",
     "output_type": "stream",
     "text": [
      " Resolution (from F) CsI(Tl) at 511 keV SiPM: s14160 = 0.046\n"
     ]
    }
   ],
   "source": [
    "print(f\" Resolution (from F) CsI(Tl) at 511 keV SiPM: s14160 = {RF(F_csiTl, nphe_550_s14160_csiTl):.3f}\") "
   ]
  },
  {
   "cell_type": "markdown",
   "id": "fa94f93c-3cd0-4641-94d4-0ecc5b6a69ed",
   "metadata": {},
   "source": [
    "### BGO"
   ]
  },
  {
   "cell_type": "code",
   "execution_count": 54,
   "id": "cc0a7af0-7381-4246-82ce-0fc975000b70",
   "metadata": {},
   "outputs": [
    {
     "name": "stdout",
     "output_type": "stream",
     "text": [
      " Npe BGO at 660 keV PMT: r1306QE = 1069.2\n",
      " RM BGO at 660 keV PMT: r1306QE = 0.07202137963534942\n",
      " Rs BGO at 660 keV PMT: r1306QE = 0.05397148205692405\n"
     ]
    }
   ],
   "source": [
    "nphe_660_r1306QE_bgo, Rm_660_r1306QE_bgo, Rs_660_r1306QE_bgo = xrs(bgo.N, r1306QE.bgo, 0.66, Riee_660.bgo)\n",
    "print(f\" Npe BGO at 660 keV PMT: r1306QE = {nphe_660_r1306QE_bgo}\")\n",
    "print(f\" RM BGO at 660 keV PMT: r1306QE = {Rm_660_r1306QE_bgo}\")\n",
    "print(f\" Rs BGO at 660 keV PMT: r1306QE = {Rs_660_r1306QE_bgo}\")"
   ]
  },
  {
   "cell_type": "code",
   "execution_count": 58,
   "id": "fde58d64-1cff-45f9-9bc2-e488d7034430",
   "metadata": {},
   "outputs": [
    {
     "name": "stdout",
     "output_type": "stream",
     "text": [
      " Npe BGO at 511 keV SiPM: s14160 = 2069.55\n",
      " RM BGO at 511 keV SiPM: s14160 = 0.05176699431461755\n",
      " R BGO at 511 keV SiPM: s14160 = 0.07478464130949965\n"
     ]
    }
   ],
   "source": [
    "nphe_550_s14160_bgo, Rm_550_s14160_bgo, R_550_s14160_bgo = xr(bgo.N, s14160.bgo, 0.511, Rs_660_r1306QE_bgo)\n",
    "print(f\" Npe BGO at 511 keV SiPM: s14160 = {nphe_550_s14160_bgo}\")\n",
    "print(f\" RM BGO at 511 keV SiPM: s14160 = {Rm_550_s14160_bgo}\")\n",
    "print(f\" R BGO at 511 keV SiPM: s14160 = {R_550_s14160_bgo}\")"
   ]
  },
  {
   "cell_type": "code",
   "execution_count": 73,
   "id": "5160ebc3-34d5-411d-8c0c-a3ff2562568d",
   "metadata": {},
   "outputs": [
    {
     "name": "stdout",
     "output_type": "stream",
     "text": [
      " F BGO at 511 keV SiPM: s14160 = 2.0869830910836633\n"
     ]
    }
   ],
   "source": [
    "F_bgo = FF(R_550_s14160_bgo, nphe_550_s14160_bgo)\n",
    "print(f\" F BGO at 511 keV SiPM: s14160 = {F_bgo}\")"
   ]
  },
  {
   "cell_type": "code",
   "execution_count": 79,
   "id": "b9d8477f-5470-4dfd-a0e5-c4bb8b12604f",
   "metadata": {},
   "outputs": [
    {
     "name": "stdout",
     "output_type": "stream",
     "text": [
      " Resolution (from F) BGO at 511 keV SiPM: s14160 = 0.075\n"
     ]
    }
   ],
   "source": [
    "print(f\" Resolution (from F) BGO at 511 keV SiPM: s14160 = {RF(F_bgo, nphe_550_s14160_bgo):.3f}\") "
   ]
  },
  {
   "cell_type": "markdown",
   "id": "30b7b237-a904-4bae-9df8-02570cfb8530",
   "metadata": {},
   "source": [
    "### LYSO"
   ]
  },
  {
   "cell_type": "code",
   "execution_count": 59,
   "id": "71a33ba8-ce23-40e1-b7b9-e64ead01dca8",
   "metadata": {},
   "outputs": [
    {
     "name": "stdout",
     "output_type": "stream",
     "text": [
      " Npe lyso at 660 keV PMT: r1306QE = 4125.0\n",
      " RM lyso at 660 keV PMT: r1306QE = 0.03666730027000773\n",
      " Rs lyso at 660 keV PMT: r1306QE = 0.07110210328048736\n"
     ]
    }
   ],
   "source": [
    "nphe_660_r1306QE_lyso, Rm_660_r1306QE_lyso, Rs_660_r1306QE_lyso = xrs(lyso.N, r1306QE.lyso, 0.66, Riee_660.lyso)\n",
    "print(f\" Npe lyso at 660 keV PMT: r1306QE = {nphe_660_r1306QE_lyso}\")\n",
    "print(f\" RM lyso at 660 keV PMT: r1306QE = {Rm_660_r1306QE_lyso}\")\n",
    "print(f\" Rs lyso at 660 keV PMT: r1306QE = {Rs_660_r1306QE_lyso}\")"
   ]
  },
  {
   "cell_type": "code",
   "execution_count": 61,
   "id": "d92d812d-f5b6-4d06-b7ca-a2bbd1a3a3f7",
   "metadata": {},
   "outputs": [
    {
     "name": "stdout",
     "output_type": "stream",
     "text": [
      " Npe lyso at 511 keV SiPM: s14160 = 6387.5\n",
      " RM lyso at 511 keV SiPM: s14160 = 0.029466289737932142\n",
      " R lyso at 511 keV SiPM: s14160 = 0.07696604005552615\n"
     ]
    }
   ],
   "source": [
    "nphe_550_s14160_lyso, Rm_550_s14160_lyso, R_550_s14160_lyso = xr(lyso.N, s14160.lyso, 0.511, Rs_660_r1306QE_lyso)\n",
    "print(f\" Npe lyso at 511 keV SiPM: s14160 = {nphe_550_s14160_lyso}\")\n",
    "print(f\" RM lyso at 511 keV SiPM: s14160 = {Rm_550_s14160_lyso}\")\n",
    "print(f\" R lyso at 511 keV SiPM: s14160 = {R_550_s14160_lyso}\")"
   ]
  },
  {
   "cell_type": "code",
   "execution_count": 74,
   "id": "a5180f2e-a759-4339-b64e-1263ceaa08fa",
   "metadata": {},
   "outputs": [
    {
     "name": "stdout",
     "output_type": "stream",
     "text": [
      " F LYSO at 511 keV SiPM: s14160 = 6.822560179260249\n"
     ]
    }
   ],
   "source": [
    "F_lyso = FF(R_550_s14160_lyso, nphe_550_s14160_lyso)\n",
    "print(f\" F LYSO at 511 keV SiPM: s14160 = {F_lyso}\")"
   ]
  },
  {
   "cell_type": "code",
   "execution_count": 80,
   "id": "b50a01ed-13c6-41f7-8838-d130788dc927",
   "metadata": {},
   "outputs": [
    {
     "name": "stdout",
     "output_type": "stream",
     "text": [
      " Resolution (from F) LYSO at 511 keV SiPM: s14160 = 0.077\n"
     ]
    }
   ],
   "source": [
    "print(f\" Resolution (from F) LYSO at 511 keV SiPM: s14160 = {RF(F_lyso, nphe_550_s14160_lyso):.3f}\") "
   ]
  },
  {
   "cell_type": "markdown",
   "id": "947a9749-c468-4c74-9d87-ef26dbc8313e",
   "metadata": {},
   "source": [
    "### CsI (Characterization and Optimization of Cryogenic Pure CsI Detector for CLOVERS Experiment)"
   ]
  },
  {
   "cell_type": "code",
   "execution_count": 64,
   "id": "8cab9e57-c57f-4c7a-945b-a3b82b11dcb9",
   "metadata": {},
   "outputs": [
    {
     "name": "stdout",
     "output_type": "stream",
     "text": [
      " Npe CsI at 60 keV = 2112.0\n",
      " RM CsI at 60 keV  = 0.05124410997195855\n",
      " Rs CsI at 60 keV  = 0.046206505961626426\n"
     ]
    }
   ],
   "source": [
    "npe_csi_60keV = 35.2 * 60\n",
    "R_60keV = 0.069\n",
    "Rm_csi_60keV = rfwhm(npe_csi_60keV)\n",
    "Rs_csi_60keV = rs(R_60keV, Rm_csi_60keV)\n",
    "print(f\" Npe CsI at 60 keV = {npe_csi_60keV}\")\n",
    "print(f\" RM CsI at 60 keV  = {Rm_csi_60keV}\")\n",
    "print(f\" Rs CsI at 60 keV  = {Rs_csi_60keV}\")"
   ]
  },
  {
   "cell_type": "markdown",
   "id": "cd0f6651-e622-4aa0-976f-00d43bd63911",
   "metadata": {},
   "source": [
    "#### Non prop at 60 keV: Rs ~4.6 % (60 keV). Instead, at 660 (511) keV, Rs = 3.9 %"
   ]
  },
  {
   "cell_type": "markdown",
   "id": "b8881488-58c4-4ac2-8182-007cc9ea4183",
   "metadata": {},
   "source": [
    "### CsI calculation:\n",
    "\n",
    "- Take N = 100E+3 phot/MeV\n",
    "- Compute nphe using SiPM s14160\n",
    "- Take Rs = 0.039"
   ]
  },
  {
   "cell_type": "code",
   "execution_count": 66,
   "id": "dde0f1a1-ad22-4e19-9007-1188a6bee541",
   "metadata": {},
   "outputs": [
    {
     "name": "stdout",
     "output_type": "stream",
     "text": [
      " Npe CsI at 511  keV SiPM s14160 = 20440.0\n"
     ]
    }
   ],
   "source": [
    "nphe_550_s14160_csi = csi.N * s14160.csi * 0.511\n",
    "print(f\" Npe CsI at 511  keV SiPM s14160 = {nphe_550_s14160_csi}\")"
   ]
  },
  {
   "cell_type": "code",
   "execution_count": 67,
   "id": "f878e6f2-e460-48df-a77e-9b90798d6a5b",
   "metadata": {},
   "outputs": [
    {
     "name": "stdout",
     "output_type": "stream",
     "text": [
      " Rs CsI at 511 keV = 0.039387948262375384\n",
      " RM CsI at 511 keV  = 0.016472156724680182\n",
      " Rs CsI at 511 keV  = 0.04269358752180456\n"
     ]
    }
   ],
   "source": [
    "Rm_csi_511keV = rfwhm(nphe_550_s14160_csi)\n",
    "Rs_csi_511keV = Rs_660_r1306QE_csiTl\n",
    "R_csi_511keV  = np.sqrt(Rm_csi_511keV**2 + Rs_csi_511keV**2)\n",
    "print(f\" Rs CsI at 511 keV = {Rs_csi_511keV}\")\n",
    "print(f\" RM CsI at 511 keV  = {Rm_csi_511keV}\")\n",
    "print(f\" Rs CsI at 511 keV  = {R_csi_511keV}\")"
   ]
  },
  {
   "cell_type": "code",
   "execution_count": 75,
   "id": "9a559242-1439-49ea-8d76-81fcc05d69ba",
   "metadata": {},
   "outputs": [
    {
     "name": "stdout",
     "output_type": "stream",
     "text": [
      " F CsI at 511 keV SiPM: s14160 = 6.717758209249291\n"
     ]
    }
   ],
   "source": [
    "F_csi = FF(R_csi_511keV, nphe_550_s14160_csi)\n",
    "print(f\" F CsI at 511 keV SiPM: s14160 = {F_csi}\")"
   ]
  },
  {
   "cell_type": "code",
   "execution_count": 81,
   "id": "855c6788-54ca-46d8-8407-b5c9eef35e15",
   "metadata": {},
   "outputs": [
    {
     "name": "stdout",
     "output_type": "stream",
     "text": [
      " Resolution (from F) CsI at 511 keV SiPM: s14160 = 0.043\n"
     ]
    }
   ],
   "source": [
    "print(f\" Resolution (from F) CsI at 511 keV SiPM: s14160 = {RF(F_csi, nphe_550_s14160_csi):.3f}\") "
   ]
  },
  {
   "cell_type": "code",
   "execution_count": null,
   "id": "53e26b67-2d55-416d-9a5b-aa628e53423a",
   "metadata": {},
   "outputs": [],
   "source": []
  }
 ],
 "metadata": {
  "kernelspec": {
   "display_name": "Python 3 (ipykernel)",
   "language": "python",
   "name": "python3"
  },
  "language_info": {
   "codemirror_mode": {
    "name": "ipython",
    "version": 3
   },
   "file_extension": ".py",
   "mimetype": "text/x-python",
   "name": "python",
   "nbconvert_exporter": "python",
   "pygments_lexer": "ipython3",
   "version": "3.11.6"
  }
 },
 "nbformat": 4,
 "nbformat_minor": 5
}
